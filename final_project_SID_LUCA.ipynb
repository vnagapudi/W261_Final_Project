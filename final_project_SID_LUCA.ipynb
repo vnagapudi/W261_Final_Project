{
 "cells": [
  {
   "cell_type": "markdown",
   "metadata": {},
   "source": [
    "# w261 Final Project - Clickthrough Rate Prediction\n"
   ]
  },
  {
   "cell_type": "markdown",
   "metadata": {},
   "source": [
    "Team 24   \n",
    "Vivian Lu, Siddhartha Jakkamreddy, Venky Nagapudi, Luca Garre   \n",
    "Summer 2019, sections 4 and 5   "
   ]
  },
  {
   "cell_type": "markdown",
   "metadata": {},
   "source": [
    "## Table of Contents\n",
    "\n",
    "* __Section 1__ - Question Formulation\n",
    "* __Section 2__ - Algorithm Explanation\n",
    "* __Section 3__ - EDA & Challenges\n",
    "* __Section 4__ - Algorithm Implementation\n",
    "* __Section 5__ - Course Concepts"
   ]
  },
  {
   "cell_type": "markdown",
   "metadata": {},
   "source": [
    "# __Section 1__ - Question Formulation"
   ]
  },
  {
   "cell_type": "markdown",
   "metadata": {},
   "source": [
    "## __Introduction__\n",
    "Online ad is a multibillion dollar industry fueled by large investments and ever increasing performance goals. Targeted advertisement, based on users' demographics and browsing history as well as tailored ad features (i.e. colors, text, placement on webpage, display size), is receiving more and more interest due to its potential for revenue generation. As such, machine learning is proving resourceful in the understanding of which features have the greatest impact on users' Click-Through Rates (CTR) and thus informing ad design to maximize performance metrics such as click and convertion rates. Such machine learning solutions can also be deployed in a data pipeline environment (i.e. streaming) to select and offer the best ad on a user/event specific basis that will maximize profit. \n",
    "\n",
    "## __Goal of the analysis__\n",
    "The purpose of the present analysis is to estimate whether a given ad will be clicked based on a set of features (both numerical and categorical) describing the ad. Our analysis attempts to first delve into understanding the anonymized features on an exploratory data analysis, and following such an investigation, we attempt to construct a machine learning model that predict a binary outcome variable (1 for successful click through, 0 for unsuccessful click through) based on features that have shown significant association with the labelled outcome variable of click through rate (CTR). \n",
    "\n",
    "## __Description of the dataset__\n",
    "The dataset is provided by Criteo on Kaggle(https://www.kaggle.com/c/criteo-display-ad-challenge) and is composed of three files, a `readme.txt`, a `train.txt` and a `test.txt` file, respectively. The readme file contains a brief description of the data. The `train.txt` and `test.txt` files contain the train and test data. Both files are formatted as tab separated value tables, and amount to 45840617 and 6042135 rows for the train and test data, respectively. Following the description of the data, each row represents an ad and contains the following fields (see commands below, these expect the data to be contained in a data folder inside the current working directory):\n",
    "\n",
    "- 1 binary field indicating whether the ad has been clicked (1) or not (0). This field is available only for the train data;\n",
    "- 13 fields containing integer features representing counts;\n",
    "- 26 categorical features. These are hashed as 32 bits keys for anonymization purposes;\n",
    "\n",
    "From a printout of the first rows of the data files it appears that the data contain no headers. This implies that, with the sole exception of the first binary field, it is not possible to characterize the various fields in terms of the features these represent. It is also noted that rows in the data can have missing values. This is again noticed when looking at the printed lines, as these have a number of entries which is lower than the number of fields specified in the `readme.txt` file. "
   ]
  },
  {
   "cell_type": "code",
   "execution_count": null,
   "metadata": {},
   "outputs": [],
   "source": [
    "#number of rows in the train data\n",
    "!wc -l data/train.txt"
   ]
  },
  {
   "cell_type": "code",
   "execution_count": null,
   "metadata": {},
   "outputs": [],
   "source": [
    "#number of rows in the test data\n",
    "!wc -l data/test.txt"
   ]
  },
  {
   "cell_type": "code",
   "execution_count": null,
   "metadata": {},
   "outputs": [],
   "source": [
    "# first row of the train data\n",
    "!head -1 data/train.txt"
   ]
  },
  {
   "cell_type": "code",
   "execution_count": null,
   "metadata": {},
   "outputs": [],
   "source": [
    "# first row of the test data\n",
    "!head -1 data/test.txt"
   ]
  },
  {
   "cell_type": "markdown",
   "metadata": {},
   "source": [
    "# __Section 2__ - Algorithm Explanation"
   ]
  },
  {
   "cell_type": "markdown",
   "metadata": {},
   "source": [
    "## Logistic regression\n",
    "\n",
    "Logistic regression belongs to the family of so-called generalized linear models and is by far one of the most known and applied algorithms for the prediction of a target variable $Y$, which represents the possible occurrence of an event of interest $e$. This variable is binary, and usually is encoded such that $Y=1$ represents the occurrence of $e$. More specifically, given a set of explanatory features $X_i$, $i = 1,2, \\dots, n$, logistic regression characterizes the probability of occurrence of $e$, $\\pi[e] \\equiv \\pi$, as follows:\n",
    "\n",
    "\\begin{equation}\n",
    "\\pi = \\frac{1}{1 + \\exp^{-z} }\n",
    "\\end{equation}\n",
    "\n",
    "where $z = \\beta_0 + \\sum_{i=1}^n \\beta_i X_i$ and $\\beta_i$ are model parameters. As can be seen from the equation above, and in compliance with probability rules, $\\pi \\in (0, 1)$ for any $\\beta_i$ and $X_i$, owing to the fact that the exponential function is strictly positive, and considering that the denominator is always higher than the numerator. After some algebraic manipulations an equivalent, and more compact, formulation of the above equation can be obtained as:\n",
    "\n",
    "\\begin{equation}\n",
    "log\\left( \\frac{\\pi}{1-\\pi} \\right) = \\beta_0 + \\sum_{i=1}^n \\beta_i X_i\n",
    "\\end{equation}\n",
    "\n",
    "where the left side is usually referred to as the logit function, $logit(\\pi)$, while the right side makes the linear nature of this model explicit. This becomes clearer when considering the decision boundary, i.e., the hypersurface that segments the feature space in positive versus vegative regions. For logistic regression, such boundary is associated with the locus of points in the feature space where $\\pi=0.5$, i.e., the model has no preference as to whether a point in this locus should be assigned to the positive or the negative class. Casting $\\pi=0.5$ in the left side of the equation above renders a linear equation of the decision boundary in the feature space, in compliance with the linear nature of this model.  \n",
    "\n",
    "## Log-loss function and parameter estimation\n",
    "\n",
    "In accordance with established practices in the fields of statistics and machine learning, the parameters $\\beta_i$ of the logistic regression model are estimated via maximization of the log-likelihood function. In essence, for a sample of $m$ data points $(x_{ij}, y_j)$, $i = 1,2,\\dots,n$, $j = 1,2,\\dots,m$, where $x_{ij}$ is the $j$-th record of the $i$-th feature, and $y_j$ is the $j$-th record of the target binary variable $Y$, the parameters $\\beta_i$ are estimated such that the log-likelihood function:\n",
    "\n",
    "\\begin{equation}\n",
    "log\\left[ L(\\beta_i|y_j) \\right] = \\frac{1}{m} log\\left( \\prod_{j = 1}^{m} \\pi_j^{y_j} \\left( 1-\\pi_j \\right)^{1-y_j} \\right)\n",
    "\\end{equation}\n",
    "\n",
    "is maximized. The term in the multiplication corresponds to the likelihood function of the Bernoulli distribution for the (degenerate) case of one single trial and number of successes $y_j = 1$ and $y_j = 0$ for success and failure, respectively.\n",
    "\n",
    "Operationally, the above maximization is usually achieved taking the negative of the log-likelihood function and computing the parameters $\\beta_i$ as the argmin of the negated log-likelihood which, after some manipulations, can be written as:\n",
    "\n",
    "\\begin{equation}\n",
    "\\hat{L} = -log\\left[ L(\\beta_i|y_j) \\right] = - \\frac{1}{m}\\sum_{j=1}^{m} \\left[ y_j \\cdot log(\\pi_j) + (1-y_j) \\cdot log(1-\\pi_j) \\right]\n",
    "\\end{equation}\n",
    "\n",
    "The right term of the equation, also called Cross-Entropy or log-loss, being a function $\\pi$, is ultimately a function of the parameters $\\beta_i$ and the features $X_i$ through the logistic regression relationship. The log-loss gives some insights as to the role of this function during estimation of the parameters. Let us assume that for a certain data point, $(x_{ij}, y_j)$, the target variable is equal to $1$. For this given data point, the right term of the equation simplifies to $-log(\\pi_j)$. Since this term needs to be minimized, the parameters $\\beta_i$ of the model need to be chosen such that $\\pi_j$ approaches $1$ as closely as possible. Conversely for an observation $y_j = 0$, minimization of the log-loss, $-log(1 - \\pi_j)$, requires $\\pi_j$ to approach $0$. This dual role of the log-loss function makes such that likelihood maximization in logistic regression aims to find the set of model parameters which best separate positive from negative observations in the space of the explanatory features $X_i$, in the sense of mapping as closely as possible positive targets to $\\pi = 1$ and negative targets to $\\pi = 0$. Another appealing property, which turns out to the be of paramount importance for the strategy outlined below, is that this log-loss function is convex, i.e., one and only one point of minimum exists in the space of parameters $\\beta_i$.\n",
    "\n",
    "## Gradient descent\n",
    "\n",
    "Finding the optimum set of parameters requires a suitable optimization framework. Among various approaches, gradient descent of $\\hat{L}$ is a well-established approach for functions. For a certain point of the $n$-th dimensional space of parameters $\\beta_i$, the gradient of the log-loss function, $\\nabla \\hat{L}$ is computed, and thereafter a translation is performed in the parameter space along the gradient direction (the steepest descent).\n",
    "\n",
    "Gradient descent requires the computation of the gradient. In order to derive its formulation, it is convenient to consider the $i$-th component of $\\nabla \\hat{L}$, i.e.:\n",
    "\n",
    "\\begin{equation}\n",
    "\\nabla_i \\hat{L} = \\frac{\\partial}{\\partial \\beta_i} \\hat{L}\n",
    "\\end{equation}\n",
    "\n",
    "Taking the derivative inside the summation and operating on the logarithm yields:\n",
    "\n",
    "\\begin{equation}\n",
    "\\nabla_i \\hat{L} = - \\frac{1}{m} \\sum_{j=1}^{m} \\left( \\frac{y_j}{\\pi_j} - \\frac{1-y_j}{1-\\pi_j} \\right) \\frac{\\partial \\pi_j}{\\partial \\beta_i}\n",
    "\\end{equation}\n",
    "\n",
    "The derivative of the probability with respect to the parameter equates to (refer to the initial logistic regression formulation):\n",
    "\n",
    "\\begin{equation}\n",
    "\\frac{\\partial \\pi_j}{\\partial \\beta_i} = \\frac{\\exp^{-z_j}}{(1+\\exp^{-z_j})^2} \\frac{\\partial z_j} {\\partial \\beta_i} = \\frac{\\exp^{-z_j}}{1+\\exp^{-z_j}} \\frac{1}{1+\\exp^{-z_j}} \\frac{\\partial z_j} {\\partial \\beta_i} = (1-\\pi_j) \\pi_j \\frac{\\partial z_j} {\\partial \\beta_i}\n",
    "\\end{equation}\n",
    "\n",
    "The derivative of the linear combination term yields:\n",
    "\n",
    "\\begin{equation}\n",
    "\\frac{\\partial z_j} {\\partial \\beta_i} = x_{ij}\n",
    "\\end{equation}\n",
    "\n",
    "Putting it all together, one finally obtains: \n",
    "\n",
    "\\begin{equation}\n",
    "\\nabla_i \\hat{L} = - \\frac{1}{m} \\sum_{j=1}^{m} \\left[ y_j (1-\\pi_j) - (1-y_j) \\pi_j \\right] x_{ij} = \\frac{1}{m}\\sum_{j=1}^{m} (\\pi_j-y_j) x_{ij}\n",
    "\\end{equation}\n",
    "\n",
    "for $i = 1,2,\\dots,n$. \n",
    "\n",
    "Assuming a certain starting point in the space of parameters, $\\beta_i^0$, gradient descent first computes the gradient $\\nabla \\hat{L}$ at this starting point, and shifts the point along the direction of this gradient by computing a new point $\\beta_i^1 = \\beta_i^0 - \\alpha \\cdot \\nabla \\hat{L}$, where $\\alpha$ is a learning rate. This is done iteratively until suitable stopping criteria are met.\n",
    "\n",
    "## Regularization\n",
    "\n",
    "In certain context it may be valuable to introduce so-called regulaziation terms. These are additional penalties imposed on the loss function which are directly proportional to the magnitude of the model parameters $\\beta_i$. Two main regularization approaches exist:\n",
    "\n",
    "- Ridge regularization:\n",
    "\n",
    "  in ridge regularization the regularization term amounts to $\\lambda \\cdot ||\\beta||$, where $\\lambda$ is a regularization parameter and $\\lambda \\cdot ||\\beta||$ is the norm of the vector of model parameters. As a result of the introduction of the ridge regularization term, the following ridge-regularized gradient descent formula is obtained:\n",
    "\n",
    "\\begin{equation}\n",
    "\\nabla_i \\hat{L}_{reg} = \\nabla_i \\hat{L} + 2 \\lambda \\beta_i\n",
    "\\end{equation}\n",
    "\n",
    "- Lasso regularization:\n",
    "\n",
    "  in lasso regularization the regularization term amounts to $\\lambda \\cdot \\sum_{i=1}^n |\\beta_i|$, where $\\lambda$ is a regularization parameter and $|\\beta_i|$ is the absolute value of the $i$th model parameter. As a result of the introduction of the ridge regularization term, the following ridge-regularized gradient descent formula is obtained, where $sign(x)$ is the sign function:\n",
    "\n",
    "\\begin{equation}\n",
    "\\nabla_i \\hat{L}_{reg} = \\nabla_i \\hat{L} + \\lambda sign(\\beta_i)\n",
    "\\end{equation}\n",
    "\n",
    "To note that in both regularization approaches the intercept $\\beta_0$ is omitted from the computation of the regularization term, and the intercept itself is not regularized.\n",
    "\n",
    "## Algorithm for scalable implementation of logistic regression\n",
    "\n",
    "- Assume starting values for logistic parameters $\\beta_i^0$\n",
    "- Set learning parameter $\\alpha$ and regularization parameter $\\lambda$\n",
    "- For each iteration $k$:\n",
    "- Broadcast parameters $\\beta_i^{k}$ to all worker nodes\n",
    "- Map: emit key-value pairs. Key: index $j$, values: target variable $y_j$ and array of explanatory features $x_{ij}$, for $j = 1,2,\\dots,n$\n",
    "- Map: for every $j = 1,2,\\dots,n$ compute probability $\\pi_j$ and $\\left[ y_j (1-\\pi_j) - (1-y_j) \\pi_j \\right] x_{ij}$\n",
    "- Reduce: sum over $j$ and divide by $m$, for $i = 1,2,\\dots,n$\n",
    "- Update $\\beta_i^{k}$\n",
    "- Run next iteration\n",
    "\n",
    "__References:__\n",
    "\n",
    "Bilder, C.R. and Loughin, T.M. (2015). Analysis of Categorical Data with R. CRC Press. \n",
    "\n",
    "Kremonic, Z. (2017). Maximum likelihood and gradient descent demonstration. Blog post. Accessed on July 2019 at https://zlatankr.github.io/posts/2017/03/06/mle-gradient-descent.\n",
    "\n",
    "\n",
    "\n",
    "Additional resources:\n",
    "\n",
    "https://ml-cheatsheet.readthedocs.io/en/latest/logistic_regression.html\n",
    "\n",
    "https://ttic.uchicago.edu/~suriya/website-intromlss2018/course_material/Day3b.pdf \n",
    "\n",
    "http://www.holehouse.org/mlclass/06_Logistic_Regression.html\n"
   ]
  },
  {
   "cell_type": "markdown",
   "metadata": {},
   "source": [
    "# __Section 3__ - EDA & Challenges"
   ]
  },
  {
   "cell_type": "markdown",
   "metadata": {},
   "source": [
    "For EDA purposes and notebook display, we randomly sampled 5% of the Criteo labs data via code **[Sid: put reference here]**. \n",
    "* This sampled code has a total length of 2292037 records. \n",
    "* *****Delete or add as needed: address the potential of bias; we could address this via bootstrapping and making sure that our clickthrough rate was robust** "
   ]
  },
  {
   "cell_type": "code",
   "execution_count": 1,
   "metadata": {},
   "outputs": [],
   "source": [
    "# imports\n",
    "import re\n",
    "import numpy as np\n",
    "import pandas as pd\n",
    "import matplotlib.pyplot as plt\n",
    "from matplotlib.pyplot import *\n",
    "from os import path"
   ]
  },
  {
   "cell_type": "code",
   "execution_count": 2,
   "metadata": {},
   "outputs": [],
   "source": [
    "# store path to notebook\n",
    "PWD = !pwd\n",
    "PWD = PWD[0]"
   ]
  },
  {
   "cell_type": "code",
   "execution_count": 3,
   "metadata": {},
   "outputs": [],
   "source": [
    "# create Spark Session\n",
    "from pyspark.sql import SparkSession\n",
    "app_name = \"final_project\"\n",
    "master = \"local[*]\"\n",
    "spark = SparkSession\\\n",
    "        .builder\\\n",
    "        .appName(app_name)\\\n",
    "        .master(master)\\\n",
    "        .getOrCreate()\n",
    "sc = spark.sparkContext\n",
    "from pyspark.sql import SQLContext\n",
    "from pyspark.sql.functions import col\n",
    "sqlContext = SQLContext(sc)"
   ]
  },
  {
   "cell_type": "code",
   "execution_count": 4,
   "metadata": {},
   "outputs": [],
   "source": [
    "# read in sample training data and convert to dataframe\n",
    "#### EDA version below \n",
    "train_sample_EDA = sqlContext.read.format(\"csv\") \\\n",
    "               .option(\"inferSchema\", \"true\") \\\n",
    "               .option(\"header\", \"false\") \\\n",
    "               .option(\"delimiter\", \"\\t\")\\\n",
    "               .load(\"data/sample_training.txt\")"
   ]
  },
  {
   "cell_type": "code",
   "execution_count": 5,
   "metadata": {},
   "outputs": [
    {
     "name": "stdout",
     "output_type": "stream",
     "text": [
      "+---+----+---+----+----+-----+----+---+---+---+----+----+----+----+--------+--------+--------+--------+--------+--------+--------+--------+--------+--------+--------+--------+--------+--------+--------+--------+--------+--------+----+----+--------+--------+--------+--------+----+----+\n",
      "|_c0| _c1|_c2| _c3| _c4|  _c5| _c6|_c7|_c8|_c9|_c10|_c11|_c12|_c13|    _c14|    _c15|    _c16|    _c17|    _c18|    _c19|    _c20|    _c21|    _c22|    _c23|    _c24|    _c25|    _c26|    _c27|    _c28|    _c29|    _c30|    _c31|_c32|_c33|    _c34|    _c35|    _c36|    _c37|_c38|_c39|\n",
      "+---+----+---+----+----+-----+----+---+---+---+----+----+----+----+--------+--------+--------+--------+--------+--------+--------+--------+--------+--------+--------+--------+--------+--------+--------+--------+--------+--------+----+----+--------+--------+--------+--------+----+----+\n",
      "|  0|   0|  1|null|   0|16597| 557|  3|  5|123|   0|   1|null|   1|8cf07265|7cd19acc|77f2f2e5|d16679b9|4cf72387|fbad5c96|8fb24933|0b153874|a73ee510|0095a535|3617b5f5|9f32b866|428332cf|b28479f6|83ebd498|31ca40b6|e5ba7672|d0e5eb07|null|null|dfcfc3fa|ad3062eb|32c7478e|aee52b6f|null|null|\n",
      "|  0|   1|  0|   1|null| 1427|   3| 16| 11| 50|   0|   2|   1|null|05db9164|26a88120|615e3e4e|2788fed8|4cf72387|7e0ccccf|3f4ec687|0b153874|a73ee510|0e9ead52|c4adf918|f5d19c1c|85dbe138|07d13a8f|24ff9452|1034ac0d|3486227d|b486119d|null|null|63580fba|    null|32c7478e|2a90c749|null|null|\n",
      "|  0|null|  1|null|null|23255|null|  0|  1| 73|null|   0|null|null|7e5c2ff4|d833535f|b00d1501|d16679b9|25c83c98|7e0ccccf|65c53f25|1f89b562|a73ee510|3b08e48b|ad2bc6f4|e0d76380|39ccb769|b28479f6|a733d362|1203a270|776ce399|281769c2|null|null|73d06dde|    null|32c7478e|aee52b6f|null|null|\n",
      "+---+----+---+----+----+-----+----+---+---+---+----+----+----+----+--------+--------+--------+--------+--------+--------+--------+--------+--------+--------+--------+--------+--------+--------+--------+--------+--------+--------+----+----+--------+--------+--------+--------+----+----+\n",
      "only showing top 3 rows\n",
      "\n"
     ]
    }
   ],
   "source": [
    "# head first three rows\n",
    "train_sample_EDA.show(3)"
   ]
  },
  {
   "cell_type": "markdown",
   "metadata": {},
   "source": [
    "We notice immediately from the first three rows that column names are not provided. From the Kaggle contest description, however, we do know that the first column (denoted as `c0`) contains the y variable we are interested in; specifically, a 0 denotes an ad that was not clicked on and a 1 denotes an ad that was clicked on. The following 13 fields (denoted from `_c1` to `_c13`) are numerical features, and the remaining 26 columns (denoted from `_14` to `_39` are categorical features. **Further, we see the presence of missing values, encoded as `null` in the dataframe**.\n",
    "\n",
    "For easier reference in columns, we will rename the following columns as such with the code provided below: \n",
    "* `_c0` as `CTR` to denote our y variable of interest (click-through rate). \n",
    "* Numerical columns `_1` to `_13` to be denoted as `Var1` to `Var13`. \n",
    "* Categorical columns `_14` to `_39` to be denoted as `Var14` to `Var39`."
   ]
  },
  {
   "cell_type": "code",
   "execution_count": 6,
   "metadata": {},
   "outputs": [],
   "source": [
    "# Renaming of columns for easy reference \n",
    "train_sample_EDA = train_sample_EDA.withColumnRenamed(\"_c0\", \"CTR\") \\\n",
    "       .withColumnRenamed(\"_c1\", \"Var1\") \\\n",
    "       .withColumnRenamed(\"_c2\", \"Var2\") \\\n",
    "       .withColumnRenamed(\"_c3\", \"Var3\") \\\n",
    "       .withColumnRenamed(\"_c4\", \"Var4\") \\\n",
    "       .withColumnRenamed(\"_c5\", \"Var5\") \\\n",
    "       .withColumnRenamed(\"_c6\", \"Var6\") \\\n",
    "       .withColumnRenamed(\"_c7\", \"Var7\") \\\n",
    "       .withColumnRenamed(\"_c8\", \"Var8\") \\\n",
    "       .withColumnRenamed(\"_c9\", \"Var9\") \\\n",
    "       .withColumnRenamed(\"_c10\", \"Var10\") \\\n",
    "       .withColumnRenamed(\"_c11\", \"Var11\") \\\n",
    "       .withColumnRenamed(\"_c12\", \"Var12\") \\\n",
    "       .withColumnRenamed(\"_c13\", \"Var13\") \\\n",
    "        .withColumnRenamed(\"_c14\", \"Var14\") \\\n",
    "        .withColumnRenamed(\"_c15\", \"Var15\") \\\n",
    "        .withColumnRenamed(\"_c16\", \"Var16\") \\\n",
    "        .withColumnRenamed(\"_c17\", \"Var17\") \\\n",
    "        .withColumnRenamed(\"_c18\", \"Var18\") \\\n",
    "        .withColumnRenamed(\"_c19\", \"Var19\") \\\n",
    "        .withColumnRenamed(\"_c20\", \"Var20\") \\\n",
    "        .withColumnRenamed(\"_c21\", \"Var21\") \\\n",
    "        .withColumnRenamed(\"_c22\", \"Var22\") \\\n",
    "        .withColumnRenamed(\"_c23\", \"Var23\") \\\n",
    "        .withColumnRenamed(\"_c24\", \"Var24\") \\\n",
    "        .withColumnRenamed(\"_c25\", \"Var25\") \\\n",
    "        .withColumnRenamed(\"_c26\", \"Var26\") \\\n",
    "        .withColumnRenamed(\"_c27\", \"Var27\") \\\n",
    "        .withColumnRenamed(\"_c28\", \"Var28\") \\\n",
    "        .withColumnRenamed(\"_c29\", \"Var29\") \\\n",
    "        .withColumnRenamed(\"_c30\", \"Var30\") \\\n",
    "        .withColumnRenamed(\"_c31\", \"Var31\") \\\n",
    "        .withColumnRenamed(\"_c32\", \"Var32\") \\\n",
    "        .withColumnRenamed(\"_c33\", \"Var33\") \\\n",
    "        .withColumnRenamed(\"_c34\", \"Var34\") \\\n",
    "        .withColumnRenamed(\"_c35\", \"Var35\") \\\n",
    "        .withColumnRenamed(\"_c36\", \"Var36\") \\\n",
    "        .withColumnRenamed(\"_c37\", \"Var37\") \\\n",
    "        .withColumnRenamed(\"_c38\", \"Var38\") \\\n",
    "        .withColumnRenamed(\"_c39\", \"Var39\") \\"
   ]
  },
  {
   "cell_type": "code",
   "execution_count": 7,
   "metadata": {},
   "outputs": [
    {
     "name": "stdout",
     "output_type": "stream",
     "text": [
      "+---+----+----+----+----+-----+----+----+----+----+-----+-----+-----+-----+\n",
      "|CTR|Var1|Var2|Var3|Var4| Var5|Var6|Var7|Var8|Var9|Var10|Var11|Var12|Var13|\n",
      "+---+----+----+----+----+-----+----+----+----+----+-----+-----+-----+-----+\n",
      "|  0|   0|   1|null|   0|16597| 557|   3|   5| 123|    0|    1| null|    1|\n",
      "|  0|   1|   0|   1|null| 1427|   3|  16|  11|  50|    0|    2|    1| null|\n",
      "|  0|null|   1|null|null|23255|null|   0|   1|  73| null|    0| null| null|\n",
      "|  0|   0|  37|  23|   9| 1635|  84|   2|  17| 109|    0|    2| null|   50|\n",
      "|  0|   2|   0|   9|   5|   44|   5|   2|   4|   5|    2|    2| null|    5|\n",
      "|  0|   0|   1|  14|   2|  120| 733|   0|  12| 606|    0|    0|   98|    2|\n",
      "|  0|null|   1|null|null| null|null|null|   0|null| null| null| null| null|\n",
      "|  0|   0|3295|null|   0| 4546| 149|  11|  30| 220|    0|    3| null|    2|\n",
      "|  0|   1|   1|   4|  17|  108|  22|   1|  24|  22|    1|    1| null|   22|\n",
      "|  0|null|  19|  32|   0| 1994|null|   0|  19|  26| null|    0| null|    3|\n",
      "|  0|null|  14|  28|  14|26324|  39|   3|  21|  32| null|    1| null|   14|\n",
      "|  0|null|  25|   1|null|17330|  62|   1|   3|  76| null|    1| null| null|\n",
      "|  0|null|   0|  31|   2|41016|null|   0|   9|  17| null|    0| null|    8|\n",
      "|  0|null| 164|   7|   2|10118| 259|  20|  11| 256| null|    5|    0|   30|\n",
      "|  0|   0|  35|null|   9|40556|null|   0|  41|  10|    0|    0| null|    9|\n",
      "|  0|null|   0|  21|   4|10121|null|   0|   7|  77| null|    0| null|    5|\n",
      "|  0|   0|  65|  29|   1| 7777| 566|   1|   1|  22|    0|    1| null|    1|\n",
      "|  0|   0|   4|null|null| 9092| 536|   1|  42| 146|    0|    1| null| null|\n",
      "|  1|   0|   0|   3|   1| 1516|   8|   3|   2|   4|    0|    3| null|    1|\n",
      "|  0|   3|  44|   1|   2|    1|   2|   3|   1|   2|    1|    1| null|    2|\n",
      "+---+----+----+----+----+-----+----+----+----+----+-----+-----+-----+-----+\n",
      "only showing top 20 rows\n",
      "\n"
     ]
    }
   ],
   "source": [
    "# Showing top 20 rows of the numerical columns \n",
    "train_sample_EDA.select(\"CTR\", \"Var1\", \"Var2\", \"Var3\", \"Var4\", \"Var5\", \\\n",
    "                        \"Var6\", \"Var7\", \"Var8\", \"Var9\", \"Var10\", \"Var11\", \"Var12\", \"Var13\").show()"
   ]
  },
  {
   "cell_type": "code",
   "execution_count": 70,
   "metadata": {},
   "outputs": [
    {
     "name": "stdout",
     "output_type": "stream",
     "text": [
      "+--------+--------+--------+--------+--------+--------+--------+--------+--------+--------+--------+--------+--------+--------+--------+--------+--------+--------+--------+--------+--------+--------+--------+--------+--------+--------+\n",
      "|   Var14|   Var15|   Var16|   Var17|   Var18|   Var19|   Var20|   Var21|   Var22|   Var23|   Var24|   Var25|   Var26|   Var27|   Var28|   Var29|   Var30|   Var31|   Var32|   Var33|   Var34|   Var35|   Var36|   Var37|   Var38|   Var39|\n",
      "+--------+--------+--------+--------+--------+--------+--------+--------+--------+--------+--------+--------+--------+--------+--------+--------+--------+--------+--------+--------+--------+--------+--------+--------+--------+--------+\n",
      "|8cf07265|7cd19acc|77f2f2e5|d16679b9|4cf72387|fbad5c96|8fb24933|0b153874|a73ee510|0095a535|3617b5f5|9f32b866|428332cf|b28479f6|83ebd498|31ca40b6|e5ba7672|d0e5eb07|    null|    null|dfcfc3fa|ad3062eb|32c7478e|aee52b6f|    null|    null|\n",
      "|05db9164|26a88120|615e3e4e|2788fed8|4cf72387|7e0ccccf|3f4ec687|0b153874|a73ee510|0e9ead52|c4adf918|f5d19c1c|85dbe138|07d13a8f|24ff9452|1034ac0d|3486227d|b486119d|    null|    null|63580fba|    null|32c7478e|2a90c749|    null|    null|\n",
      "|7e5c2ff4|d833535f|b00d1501|d16679b9|25c83c98|7e0ccccf|65c53f25|1f89b562|a73ee510|3b08e48b|ad2bc6f4|e0d76380|39ccb769|b28479f6|a733d362|1203a270|776ce399|281769c2|    null|    null|73d06dde|    null|32c7478e|aee52b6f|    null|    null|\n",
      "|05db9164|9b25e48b|2d9b2559|96302ef8|43b19349|fbad5c96|e64ca89e|5b392875|a73ee510|3b76bfa9|87bb382c|3d899a5a|d95a2a6d|8ceecbc8|8f3ef960|24352c5c|07c540c4|7d8c03aa|fbf39fb5|a458ea53|0c61029b|    null|32c7478e|216a829e|001f3601|abc00283|\n",
      "|5a9ed9b0|3e4b7926|e1266b28|09e3cd5a|384874ce|7e0ccccf|675e81f6|5b392875|a73ee510|d1ebaddf|4a77ddca|eb8ded57|dc1d72e4|07d13a8f|e6863a8e|3d9023a4|07c540c4|e261f8d8|21ddcdc9|b1252a9d|31b4af04|    null|32c7478e|8d653a3e|445bbe3b|32280082|\n",
      "|5a9ed9b0|097e9399|915bbd8f|26ac5cc6|f3474129|fe6b92e5|875679ca|37e4aa92|a73ee510|3b08e48b|bbd0e773|87408e45|79ae8b9a|1adce6ef|5c3dbd29|8759a2d9|8efede7f|97029569|21ddcdc9|b1252a9d|6ec2bcf7|    null|55dd3565|7f686ab3|2bf691b1|bebc2875|\n",
      "|68fd1e64|791f3f76|d032c263|c18be181|4cf72387|7e0ccccf|970f01b2|0b153874|7cc72ec2|3b08e48b|36bccca0|dfbb09fb|80467802|07d13a8f|876a7e78|84898b2a|2005abd1|0f4a15b0|    null|    null|0014c32a|    null|55dd3565|3b183c5c|    null|    null|\n",
      "|05db9164|4c2bc594|d032c263|c18be181|25c83c98|7e0ccccf|7956c2ff|0b153874|a73ee510|44ac3250|4b0929e2|dfbb09fb|c0ed8bfc|8ceecbc8|7ac43a46|84898b2a|e5ba7672|bc48b783|    null|    null|0014c32a|c9d4222a|55dd3565|3b183c5c|    null|    null|\n",
      "|05db9164|d833535f|77f2f2e5|d16679b9|4cf72387|7e0ccccf|def4a4d4|5b392875|a73ee510|0c70a731|4ba74619|9f32b866|879fa878|b28479f6|a66dcf27|31ca40b6|d4bb7bd8|7b49e3d2|    null|    null|dfcfc3fa|    null|423fab69|aee52b6f|    null|    null|\n",
      "|be589b51|38d50e09|4724f2c8|8510f416|4cf72387|7e0ccccf|38eb9cf4|0b153874|a73ee510|2462946f|7f8ffe57|f6fe1d50|46f42a63|b28479f6|42b3012c|ad774107|1e88c74f|582152eb|21ddcdc9|5840adea|fbaf98df|    null|32c7478e|e773f0cb|001f3601|1b0ebd59|\n",
      "|ae82ea21|4c2bc594|d032c263|c18be181|25c83c98|fe6b92e5|869243b9|5b392875|a73ee510|3b08e48b|6a77517a|dfbb09fb|e0230d57|1adce6ef|ae0c3875|84898b2a|27c07bd6|15a36060|    null|    null|0014c32a|    null|3a171ecb|3b183c5c|    null|    null|\n",
      "|05db9164|bce95927|f69c6d34|13508380|384874ce|fe6b92e5|4c5c7066|0b153874|a73ee510|d077d4d4|8924112e|0fd301b6|3cf672d1|07d13a8f|fec218c0|5c495dbe|07c540c4|04d863d5|21ddcdc9|b1252a9d|a3a82059|78e2e389|423fab69|45ab94c8|e8b83407|c84c4aec|\n",
      "|05db9164|38a947a1|    null|    null|25c83c98|3bf701e7|49042125|062b5529|7cc72ec2|4624c4e8|ba1ff80a|    null|b95f83fa|b28479f6|0cfbc5df|    null|1e88c74f|be457d6e|    null|    null|    null|    null|bcdee96c|    null|    null|    null|\n",
      "|39af2607|26a88120|b00d1501|d16679b9|25c83c98|fbad5c96|49b74ebc|1f89b562|a73ee510|7f79890b|c4adf918|e0d76380|85dbe138|b28479f6|2ebbf26a|1203a270|e5ba7672|b486119d|    null|    null|73d06dde|    null|32c7478e|aee52b6f|    null|    null|\n",
      "|68fd1e64|d833535f|b00d1501|d16679b9|25c83c98|fe6b92e5|01a0f3f6|0b153874|a73ee510|3b08e48b|f045731b|e0d76380|252ee845|b28479f6|a733d362|1203a270|e5ba7672|281769c2|    null|    null|73d06dde|    null|32c7478e|aee52b6f|    null|    null|\n",
      "|05db9164|71ca0a25|396df967|328b42c3|25c83c98|7e0ccccf|5c116cc3|0b153874|a73ee510|f62834dd|d02264a7|8481d649|14e6fd48|b28479f6|a67c19b7|b2f2a0c7|1e88c74f|9bf8ffef|21ddcdc9|5840adea|f0bb1194|    null|3a171ecb|a5ce2d0d|001f3601|984e0db0|\n",
      "|05db9164|09e68b86|aa8c1539|85dd697c|25c83c98|13718bbd|24db17b4|0b153874|a73ee510|eaaee8c6|d6ea7935|d8c29807|74838342|8ceecbc8|d2f03b75|c64d548f|d4bb7bd8|63cdbb21|cf99e5de|5840adea|5f957280|    null|3a171ecb|1793a828|e8b83407|b7d9c3bc|\n",
      "|39af2607|e18b1e61|    null|    null|43b19349|7e0ccccf|9e5b069d|0b153874|a73ee510|550727c0|6153cf57|    null|769a1844|b28479f6|972b922a|    null|d4bb7bd8|832bedbd|    null|    null|    null|    null|be7c41b4|    null|    null|    null|\n",
      "|5a9ed9b0|6887a43c|5d1ca1e5|196060ff|25c83c98|7e0ccccf|2b322b66|0b153874|a73ee510|99fe7a1f|24adbadc|71c32035|fc371461|051219e6|61f52294|cf393f9f|e5ba7672|1c130afa|21ddcdc9|b1252a9d|06c4ef72|ad3062eb|32c7478e|6bc2bf95|445bbe3b|dc39e0d1|\n",
      "|a86f8721|38a947a1|2ca5a244|eca41678|4cf72387|fe6b92e5|7fafef37|5b392875|a73ee510|5ba575e7|78f92234|5db0c556|9be66b48|1adce6ef|7fb3b951|f5f5bdfa|07c540c4|7e345426|    null|    null|82e27b23|    null|3a171ecb|f4cd3bc3|    null|    null|\n",
      "+--------+--------+--------+--------+--------+--------+--------+--------+--------+--------+--------+--------+--------+--------+--------+--------+--------+--------+--------+--------+--------+--------+--------+--------+--------+--------+\n",
      "only showing top 20 rows\n",
      "\n"
     ]
    }
   ],
   "source": [
    "# Showing top 20 rows of the categorical columns \n",
    "train_sample_EDA.select('Var14','Var15','Var16','Var17','Var18','Var19','Var20','Var21',\n",
    "                    'Var22','Var23','Var24','Var25','Var26','Var27','Var28','Var29','Var30',\n",
    "                   'Var31','Var32','Var33','Var34','Var35','Var36','Var37','Var38','Var39').show()"
   ]
  },
  {
   "cell_type": "markdown",
   "metadata": {},
   "source": [
    "## 3.1 Brief Statistics and Coverage of Data"
   ]
  },
  {
   "cell_type": "markdown",
   "metadata": {},
   "source": [
    "In our code below, we depict brief statistics about our sampled data: \n",
    "* Our sampled data shows a click through rate of approximately 25% \n",
    "* Coverage: For the most part, most of our columns show pretty good coverage (>95%). We do see, however, a troubling number of Null (missing) values for a couple columns. \n",
    "    * Perhaps the most alarming: columns Var32, Var33, Var38, Var39, Var10, Var1, Var35, and Var12 have approximately 50% or less of their values as non-Null. \n",
    "    \n",
    "A significant challenge for us will involve having to deal with high number of Null values in some of our columns. For numerical values, it is certainly possible to impute a number to fill in for Null values, but this challenge gets tricky with categorical variables. The handling of null values for categorical variables will be discussed in Section 4. "
   ]
  },
  {
   "cell_type": "code",
   "execution_count": 9,
   "metadata": {},
   "outputs": [
    {
     "data": {
      "text/plain": [
       "2292037"
      ]
     },
     "execution_count": 9,
     "metadata": {},
     "output_type": "execute_result"
    }
   ],
   "source": [
    "# Getting a count of the total number of rows in our sampled data. \n",
    "total_count = train_sample_EDA.count()\n",
    "total_count"
   ]
  },
  {
   "cell_type": "code",
   "execution_count": 10,
   "metadata": {},
   "outputs": [
    {
     "data": {
      "text/plain": [
       "0.2564675003064959"
      ]
     },
     "execution_count": 10,
     "metadata": {},
     "output_type": "execute_result"
    }
   ],
   "source": [
    "# Calculating approximate click through rate of our sampled training data \n",
    "train_sample_EDA.filter(train_sample_EDA.CTR==1).count()/total_count"
   ]
  },
  {
   "cell_type": "code",
   "execution_count": 11,
   "metadata": {},
   "outputs": [
    {
     "data": {
      "text/html": [
       "<div>\n",
       "<style scoped>\n",
       "    .dataframe tbody tr th:only-of-type {\n",
       "        vertical-align: middle;\n",
       "    }\n",
       "\n",
       "    .dataframe tbody tr th {\n",
       "        vertical-align: top;\n",
       "    }\n",
       "\n",
       "    .dataframe thead th {\n",
       "        text-align: right;\n",
       "    }\n",
       "</style>\n",
       "<table border=\"1\" class=\"dataframe\">\n",
       "  <thead>\n",
       "    <tr style=\"text-align: right;\">\n",
       "      <th></th>\n",
       "      <th>Coverage_nonNull</th>\n",
       "    </tr>\n",
       "  </thead>\n",
       "  <tbody>\n",
       "    <tr>\n",
       "      <th>CTR</th>\n",
       "      <td>1.000000</td>\n",
       "    </tr>\n",
       "    <tr>\n",
       "      <th>Var14</th>\n",
       "      <td>1.000000</td>\n",
       "    </tr>\n",
       "    <tr>\n",
       "      <th>Var36</th>\n",
       "      <td>1.000000</td>\n",
       "    </tr>\n",
       "    <tr>\n",
       "      <th>Var31</th>\n",
       "      <td>1.000000</td>\n",
       "    </tr>\n",
       "    <tr>\n",
       "      <th>Var30</th>\n",
       "      <td>1.000000</td>\n",
       "    </tr>\n",
       "    <tr>\n",
       "      <th>Var28</th>\n",
       "      <td>1.000000</td>\n",
       "    </tr>\n",
       "    <tr>\n",
       "      <th>Var27</th>\n",
       "      <td>1.000000</td>\n",
       "    </tr>\n",
       "    <tr>\n",
       "      <th>Var26</th>\n",
       "      <td>1.000000</td>\n",
       "    </tr>\n",
       "    <tr>\n",
       "      <th>Var24</th>\n",
       "      <td>1.000000</td>\n",
       "    </tr>\n",
       "    <tr>\n",
       "      <th>Var23</th>\n",
       "      <td>1.000000</td>\n",
       "    </tr>\n",
       "    <tr>\n",
       "      <th>Var22</th>\n",
       "      <td>1.000000</td>\n",
       "    </tr>\n",
       "    <tr>\n",
       "      <th>Var21</th>\n",
       "      <td>1.000000</td>\n",
       "    </tr>\n",
       "    <tr>\n",
       "      <th>Var18</th>\n",
       "      <td>1.000000</td>\n",
       "    </tr>\n",
       "    <tr>\n",
       "      <th>Var15</th>\n",
       "      <td>1.000000</td>\n",
       "    </tr>\n",
       "    <tr>\n",
       "      <th>Var20</th>\n",
       "      <td>1.000000</td>\n",
       "    </tr>\n",
       "    <tr>\n",
       "      <th>Var2</th>\n",
       "      <td>1.000000</td>\n",
       "    </tr>\n",
       "    <tr>\n",
       "      <th>Var8</th>\n",
       "      <td>0.999496</td>\n",
       "    </tr>\n",
       "    <tr>\n",
       "      <th>Var5</th>\n",
       "      <td>0.974168</td>\n",
       "    </tr>\n",
       "    <tr>\n",
       "      <th>Var17</th>\n",
       "      <td>0.965857</td>\n",
       "    </tr>\n",
       "    <tr>\n",
       "      <th>Var37</th>\n",
       "      <td>0.965857</td>\n",
       "    </tr>\n",
       "    <tr>\n",
       "      <th>Var34</th>\n",
       "      <td>0.965857</td>\n",
       "    </tr>\n",
       "    <tr>\n",
       "      <th>Var25</th>\n",
       "      <td>0.965857</td>\n",
       "    </tr>\n",
       "    <tr>\n",
       "      <th>Var16</th>\n",
       "      <td>0.965857</td>\n",
       "    </tr>\n",
       "    <tr>\n",
       "      <th>Var29</th>\n",
       "      <td>0.965857</td>\n",
       "    </tr>\n",
       "    <tr>\n",
       "      <th>Var11</th>\n",
       "      <td>0.956850</td>\n",
       "    </tr>\n",
       "    <tr>\n",
       "      <th>Var9</th>\n",
       "      <td>0.956850</td>\n",
       "    </tr>\n",
       "    <tr>\n",
       "      <th>Var7</th>\n",
       "      <td>0.956850</td>\n",
       "    </tr>\n",
       "    <tr>\n",
       "      <th>Var19</th>\n",
       "      <td>0.878906</td>\n",
       "    </tr>\n",
       "    <tr>\n",
       "      <th>Var3</th>\n",
       "      <td>0.785205</td>\n",
       "    </tr>\n",
       "    <tr>\n",
       "      <th>Var13</th>\n",
       "      <td>0.782994</td>\n",
       "    </tr>\n",
       "    <tr>\n",
       "      <th>Var4</th>\n",
       "      <td>0.782994</td>\n",
       "    </tr>\n",
       "    <tr>\n",
       "      <th>Var6</th>\n",
       "      <td>0.776426</td>\n",
       "    </tr>\n",
       "    <tr>\n",
       "      <th>Var32</th>\n",
       "      <td>0.559533</td>\n",
       "    </tr>\n",
       "    <tr>\n",
       "      <th>Var33</th>\n",
       "      <td>0.559533</td>\n",
       "    </tr>\n",
       "    <tr>\n",
       "      <th>Var38</th>\n",
       "      <td>0.559533</td>\n",
       "    </tr>\n",
       "    <tr>\n",
       "      <th>Var39</th>\n",
       "      <td>0.559533</td>\n",
       "    </tr>\n",
       "    <tr>\n",
       "      <th>Var10</th>\n",
       "      <td>0.546833</td>\n",
       "    </tr>\n",
       "    <tr>\n",
       "      <th>Var1</th>\n",
       "      <td>0.546833</td>\n",
       "    </tr>\n",
       "    <tr>\n",
       "      <th>Var35</th>\n",
       "      <td>0.237235</td>\n",
       "    </tr>\n",
       "    <tr>\n",
       "      <th>Var12</th>\n",
       "      <td>0.234542</td>\n",
       "    </tr>\n",
       "  </tbody>\n",
       "</table>\n",
       "</div>"
      ],
      "text/plain": [
       "       Coverage_nonNull\n",
       "CTR            1.000000\n",
       "Var14          1.000000\n",
       "Var36          1.000000\n",
       "Var31          1.000000\n",
       "Var30          1.000000\n",
       "Var28          1.000000\n",
       "Var27          1.000000\n",
       "Var26          1.000000\n",
       "Var24          1.000000\n",
       "Var23          1.000000\n",
       "Var22          1.000000\n",
       "Var21          1.000000\n",
       "Var18          1.000000\n",
       "Var15          1.000000\n",
       "Var20          1.000000\n",
       "Var2           1.000000\n",
       "Var8           0.999496\n",
       "Var5           0.974168\n",
       "Var17          0.965857\n",
       "Var37          0.965857\n",
       "Var34          0.965857\n",
       "Var25          0.965857\n",
       "Var16          0.965857\n",
       "Var29          0.965857\n",
       "Var11          0.956850\n",
       "Var9           0.956850\n",
       "Var7           0.956850\n",
       "Var19          0.878906\n",
       "Var3           0.785205\n",
       "Var13          0.782994\n",
       "Var4           0.782994\n",
       "Var6           0.776426\n",
       "Var32          0.559533\n",
       "Var33          0.559533\n",
       "Var38          0.559533\n",
       "Var39          0.559533\n",
       "Var10          0.546833\n",
       "Var1           0.546833\n",
       "Var35          0.237235\n",
       "Var12          0.234542"
      ]
     },
     "execution_count": 11,
     "metadata": {},
     "output_type": "execute_result"
    }
   ],
   "source": [
    "# Calculating coverage: \n",
    "# The column \"Coverage_nonNull\" (expressed as percentage) depicts how many non-null values are in the column. \n",
    "# This gives a sense of how well a particular variable covers our entire dataset. \n",
    "\n",
    "from pyspark.sql.functions import col, count, isnan, stddev, lit, sum\n",
    "\n",
    "coverage = train_sample_EDA.agg(*[\n",
    "    (count(c)/total_count).alias(c)    # vertical (column-wise) operations in SQL ignore NULLs\n",
    "    for c in train_sample_EDA.columns\n",
    "]).toPandas()\n",
    "\n",
    "coverage_summary = coverage.T\n",
    "coverage_summary.columns = ['Coverage_nonNull']\n",
    "coverage_summary.sort_values(by='Coverage_nonNull', ascending=False)"
   ]
  },
  {
   "cell_type": "markdown",
   "metadata": {},
   "source": [
    "## 3.2 Numerical Variables\n",
    "\n",
    "### 3.2.1 Basic Statistics\n",
    "* In Table 3.0, we calculate basic statistics to summarize our numerical variables: count of observations that have the variable, the mean of the variable, the standard deviation of the variable, and the min and max of the variable. \n",
    "    * We note that the range for each variable is different; although we do not know the exact definition of what each variable stands for, we can tell that the range of each variable can vary greatly, such as 0 to 6 for Var10 but 0 to 1,741,128 for Var5. \n",
    "    * Variable 2 has a minimum value of -2, which is odd given that the Kaggle criteo data description (https://www.kaggle.com/c/criteo-display-ad-challenge/data) specifically states that the numerical variables are mostly counts but there is no specification as to whether all numbers should be non-negative. This will be addressed in Section 3.4 on deciding how negative values are to be treated. "
   ]
  },
  {
   "cell_type": "code",
   "execution_count": 18,
   "metadata": {},
   "outputs": [
    {
     "data": {
      "text/html": [
       "<div>\n",
       "<style scoped>\n",
       "    .dataframe tbody tr th:only-of-type {\n",
       "        vertical-align: middle;\n",
       "    }\n",
       "\n",
       "    .dataframe tbody tr th {\n",
       "        vertical-align: top;\n",
       "    }\n",
       "\n",
       "    .dataframe thead th {\n",
       "        text-align: right;\n",
       "    }\n",
       "</style>\n",
       "<table border=\"1\" class=\"dataframe\">\n",
       "  <thead>\n",
       "    <tr style=\"text-align: right;\">\n",
       "      <th></th>\n",
       "      <th>0</th>\n",
       "      <th>1</th>\n",
       "      <th>2</th>\n",
       "      <th>3</th>\n",
       "      <th>4</th>\n",
       "    </tr>\n",
       "  </thead>\n",
       "  <tbody>\n",
       "    <tr>\n",
       "      <th>summary</th>\n",
       "      <td>count</td>\n",
       "      <td>mean</td>\n",
       "      <td>stddev</td>\n",
       "      <td>min</td>\n",
       "      <td>max</td>\n",
       "    </tr>\n",
       "    <tr>\n",
       "      <th>Var1</th>\n",
       "      <td>1253362</td>\n",
       "      <td>3.52458746954192</td>\n",
       "      <td>9.456074158477476</td>\n",
       "      <td>0</td>\n",
       "      <td>1575</td>\n",
       "    </tr>\n",
       "    <tr>\n",
       "      <th>Var2</th>\n",
       "      <td>2292037</td>\n",
       "      <td>105.5236778463873</td>\n",
       "      <td>387.9460727424658</td>\n",
       "      <td>-2</td>\n",
       "      <td>19219</td>\n",
       "    </tr>\n",
       "    <tr>\n",
       "      <th>Var3</th>\n",
       "      <td>1799718</td>\n",
       "      <td>27.030229180349366</td>\n",
       "      <td>402.6173876100675</td>\n",
       "      <td>0</td>\n",
       "      <td>65535</td>\n",
       "    </tr>\n",
       "    <tr>\n",
       "      <th>Var4</th>\n",
       "      <td>1794652</td>\n",
       "      <td>7.327119129502544</td>\n",
       "      <td>8.845164661144699</td>\n",
       "      <td>0</td>\n",
       "      <td>969</td>\n",
       "    </tr>\n",
       "    <tr>\n",
       "      <th>Var5</th>\n",
       "      <td>2232828</td>\n",
       "      <td>18536.03390498507</td>\n",
       "      <td>69153.1755142129</td>\n",
       "      <td>0</td>\n",
       "      <td>2634953</td>\n",
       "    </tr>\n",
       "    <tr>\n",
       "      <th>Var6</th>\n",
       "      <td>1779597</td>\n",
       "      <td>115.58777689555556</td>\n",
       "      <td>337.0288166711634</td>\n",
       "      <td>0</td>\n",
       "      <td>66619</td>\n",
       "    </tr>\n",
       "    <tr>\n",
       "      <th>Var7</th>\n",
       "      <td>2193136</td>\n",
       "      <td>16.459486324605496</td>\n",
       "      <td>70.80815785839796</td>\n",
       "      <td>0</td>\n",
       "      <td>34536</td>\n",
       "    </tr>\n",
       "    <tr>\n",
       "      <th>Var8</th>\n",
       "      <td>2290882</td>\n",
       "      <td>12.536948651218177</td>\n",
       "      <td>16.92910564553372</td>\n",
       "      <td>0</td>\n",
       "      <td>4513</td>\n",
       "    </tr>\n",
       "    <tr>\n",
       "      <th>Var9</th>\n",
       "      <td>2193136</td>\n",
       "      <td>105.99417500784266</td>\n",
       "      <td>219.74396942043634</td>\n",
       "      <td>0</td>\n",
       "      <td>18345</td>\n",
       "    </tr>\n",
       "    <tr>\n",
       "      <th>Var10</th>\n",
       "      <td>1253362</td>\n",
       "      <td>0.6180863948324586</td>\n",
       "      <td>0.6845344117066056</td>\n",
       "      <td>0</td>\n",
       "      <td>8</td>\n",
       "    </tr>\n",
       "    <tr>\n",
       "      <th>Var11</th>\n",
       "      <td>2193136</td>\n",
       "      <td>2.7380673154788395</td>\n",
       "      <td>5.22875057526333</td>\n",
       "      <td>0</td>\n",
       "      <td>163</td>\n",
       "    </tr>\n",
       "    <tr>\n",
       "      <th>Var12</th>\n",
       "      <td>537580</td>\n",
       "      <td>0.9924978607835113</td>\n",
       "      <td>6.08334075723253</td>\n",
       "      <td>0</td>\n",
       "      <td>1831</td>\n",
       "    </tr>\n",
       "    <tr>\n",
       "      <th>Var13</th>\n",
       "      <td>1794652</td>\n",
       "      <td>8.217247689245603</td>\n",
       "      <td>15.876313370693108</td>\n",
       "      <td>0</td>\n",
       "      <td>4317</td>\n",
       "    </tr>\n",
       "  </tbody>\n",
       "</table>\n",
       "</div>"
      ],
      "text/plain": [
       "               0                   1                   2    3        4\n",
       "summary    count                mean              stddev  min      max\n",
       "Var1     1253362    3.52458746954192   9.456074158477476    0     1575\n",
       "Var2     2292037   105.5236778463873   387.9460727424658   -2    19219\n",
       "Var3     1799718  27.030229180349366   402.6173876100675    0    65535\n",
       "Var4     1794652   7.327119129502544   8.845164661144699    0      969\n",
       "Var5     2232828   18536.03390498507    69153.1755142129    0  2634953\n",
       "Var6     1779597  115.58777689555556   337.0288166711634    0    66619\n",
       "Var7     2193136  16.459486324605496   70.80815785839796    0    34536\n",
       "Var8     2290882  12.536948651218177   16.92910564553372    0     4513\n",
       "Var9     2193136  105.99417500784266  219.74396942043634    0    18345\n",
       "Var10    1253362  0.6180863948324586  0.6845344117066056    0        8\n",
       "Var11    2193136  2.7380673154788395    5.22875057526333    0      163\n",
       "Var12     537580  0.9924978607835113    6.08334075723253    0     1831\n",
       "Var13    1794652   8.217247689245603  15.876313370693108    0     4317"
      ]
     },
     "execution_count": 18,
     "metadata": {},
     "output_type": "execute_result"
    }
   ],
   "source": [
    "########\n",
    "# Table 3.0: Basic statistics \n",
    "########\n",
    "numerical_cols = ['Var1','Var2','Var3','Var4','Var5','Var6','Var7',\\\n",
    "                  'Var8','Var9','Var10','Var11','Var12','Var13']\n",
    "numerical_stats = train_sample_EDA.describe(numerical_cols).toPandas()\n",
    "numerical_stats.T"
   ]
  },
  {
   "cell_type": "markdown",
   "metadata": {},
   "source": [
    "* Below in Table 3.1, we also calculated the mean, standard deviation, count, min, and max of each numerical variable grouped by the click through rate (CTR) target variable. \n",
    "    * From here, we made a rough guess-timate of the 95% confidence interval of the mean of the numerical variables to see if we could distinguish enough difference between observations that had a successful or unsuccessful click through on an ad. We realize that the distribution of the numerical variables were not exactly normal, but given the high number of observations, a 95% confidence interval by the form of $(\\mu - 1.96*\\frac{\\sigma}{n_{group}}, \\mu +1.96*\\frac{\\sigma}{n_{group}})$ should give a rough estimate of the group means and their standard deviations. \n",
    "    * We can see that most of numerical variables show quite some difference between their group means. The columns `lowerCI_CTR0`, `upperCI_CTR0` depict the lower and upper confidence interval bounds for the observations under CTR = 0, while the columns `lowerCI_CTR1`, `upperCI_CTR1` depict the lower and upper confidence interval bounds for the observations under CTR = 1. Most of the confidence intervals between the 2 groups do not overlap; there appears to be enough information in our numerical variables such that they should all be included into our model to distinguish the difference between CTR=0 or CTR=1 prediction. That being said, it should be noted that Var4, Var8, and Var10 have the closest confidence interval boundaries compared to the other columns, and it is possible that these 3 columns might have smaller explaining power compared to the other numerical variables. "
   ]
  },
  {
   "cell_type": "code",
   "execution_count": 13,
   "metadata": {},
   "outputs": [
    {
     "data": {
      "text/html": [
       "<div>\n",
       "<style scoped>\n",
       "    .dataframe tbody tr th:only-of-type {\n",
       "        vertical-align: middle;\n",
       "    }\n",
       "\n",
       "    .dataframe tbody tr th {\n",
       "        vertical-align: top;\n",
       "    }\n",
       "\n",
       "    .dataframe thead th {\n",
       "        text-align: right;\n",
       "    }\n",
       "</style>\n",
       "<table border=\"1\" class=\"dataframe\">\n",
       "  <thead>\n",
       "    <tr style=\"text-align: right;\">\n",
       "      <th></th>\n",
       "      <th>Column</th>\n",
       "      <th>avg_CTR0</th>\n",
       "      <th>avg_CTR1</th>\n",
       "      <th>std_CTR0</th>\n",
       "      <th>std_CTR1</th>\n",
       "      <th>min_CTR0</th>\n",
       "      <th>min_CTR1</th>\n",
       "      <th>max_CTR0</th>\n",
       "      <th>max_CTR1</th>\n",
       "      <th>count_CTR0</th>\n",
       "      <th>count_CTR1</th>\n",
       "      <th>lowerCI_CTR0</th>\n",
       "      <th>upperCI_CTR0</th>\n",
       "      <th>lowerCI_CTR1</th>\n",
       "      <th>upperCI_CTR1</th>\n",
       "    </tr>\n",
       "  </thead>\n",
       "  <tbody>\n",
       "    <tr>\n",
       "      <th>0</th>\n",
       "      <td>Var1</td>\n",
       "      <td>2.946473</td>\n",
       "      <td>4.790206</td>\n",
       "      <td>8.674151</td>\n",
       "      <td>10.868277</td>\n",
       "      <td>0</td>\n",
       "      <td>0</td>\n",
       "      <td>1575</td>\n",
       "      <td>908</td>\n",
       "      <td>860362</td>\n",
       "      <td>393000</td>\n",
       "      <td>2.928143</td>\n",
       "      <td>2.964802</td>\n",
       "      <td>4.756226</td>\n",
       "      <td>4.824186</td>\n",
       "    </tr>\n",
       "    <tr>\n",
       "      <th>1</th>\n",
       "      <td>Var2</td>\n",
       "      <td>95.612975</td>\n",
       "      <td>134.256090</td>\n",
       "      <td>361.190633</td>\n",
       "      <td>455.522574</td>\n",
       "      <td>-2</td>\n",
       "      <td>-2</td>\n",
       "      <td>19219</td>\n",
       "      <td>16956</td>\n",
       "      <td>1704204</td>\n",
       "      <td>587833</td>\n",
       "      <td>95.070685</td>\n",
       "      <td>96.155265</td>\n",
       "      <td>133.091591</td>\n",
       "      <td>135.420588</td>\n",
       "    </tr>\n",
       "    <tr>\n",
       "      <th>2</th>\n",
       "      <td>Var3</td>\n",
       "      <td>23.801411</td>\n",
       "      <td>37.103464</td>\n",
       "      <td>248.094061</td>\n",
       "      <td>689.683142</td>\n",
       "      <td>0</td>\n",
       "      <td>0</td>\n",
       "      <td>65535</td>\n",
       "      <td>65535</td>\n",
       "      <td>1362871</td>\n",
       "      <td>436847</td>\n",
       "      <td>23.384882</td>\n",
       "      <td>24.217940</td>\n",
       "      <td>35.058240</td>\n",
       "      <td>39.148689</td>\n",
       "    </tr>\n",
       "    <tr>\n",
       "      <th>3</th>\n",
       "      <td>Var4</td>\n",
       "      <td>7.601784</td>\n",
       "      <td>6.499002</td>\n",
       "      <td>9.112409</td>\n",
       "      <td>7.928093</td>\n",
       "      <td>0</td>\n",
       "      <td>0</td>\n",
       "      <td>969</td>\n",
       "      <td>295</td>\n",
       "      <td>1347666</td>\n",
       "      <td>446986</td>\n",
       "      <td>7.586399</td>\n",
       "      <td>7.617169</td>\n",
       "      <td>6.475760</td>\n",
       "      <td>6.522244</td>\n",
       "    </tr>\n",
       "    <tr>\n",
       "      <th>4</th>\n",
       "      <td>Var5</td>\n",
       "      <td>21823.328636</td>\n",
       "      <td>9209.995004</td>\n",
       "      <td>76456.296149</td>\n",
       "      <td>40591.419351</td>\n",
       "      <td>0</td>\n",
       "      <td>0</td>\n",
       "      <td>2634953</td>\n",
       "      <td>1906516</td>\n",
       "      <td>1650907</td>\n",
       "      <td>581921</td>\n",
       "      <td>21706.699242</td>\n",
       "      <td>21939.958031</td>\n",
       "      <td>9105.701252</td>\n",
       "      <td>9314.288757</td>\n",
       "    </tr>\n",
       "    <tr>\n",
       "      <th>5</th>\n",
       "      <td>Var6</td>\n",
       "      <td>136.768530</td>\n",
       "      <td>64.598590</td>\n",
       "      <td>377.688449</td>\n",
       "      <td>199.877834</td>\n",
       "      <td>0</td>\n",
       "      <td>0</td>\n",
       "      <td>66619</td>\n",
       "      <td>17917</td>\n",
       "      <td>1257313</td>\n",
       "      <td>522284</td>\n",
       "      <td>136.108342</td>\n",
       "      <td>137.428719</td>\n",
       "      <td>64.056505</td>\n",
       "      <td>65.140675</td>\n",
       "    </tr>\n",
       "    <tr>\n",
       "      <th>6</th>\n",
       "      <td>Var7</td>\n",
       "      <td>13.125326</td>\n",
       "      <td>25.870308</td>\n",
       "      <td>63.142022</td>\n",
       "      <td>88.273909</td>\n",
       "      <td>0</td>\n",
       "      <td>0</td>\n",
       "      <td>34536</td>\n",
       "      <td>11839</td>\n",
       "      <td>1619399</td>\n",
       "      <td>573737</td>\n",
       "      <td>13.028074</td>\n",
       "      <td>13.222577</td>\n",
       "      <td>25.641889</td>\n",
       "      <td>26.098727</td>\n",
       "    </tr>\n",
       "    <tr>\n",
       "      <th>7</th>\n",
       "      <td>Var8</td>\n",
       "      <td>12.799855</td>\n",
       "      <td>11.775066</td>\n",
       "      <td>18.047062</td>\n",
       "      <td>13.133923</td>\n",
       "      <td>0</td>\n",
       "      <td>0</td>\n",
       "      <td>4513</td>\n",
       "      <td>733</td>\n",
       "      <td>1703164</td>\n",
       "      <td>587718</td>\n",
       "      <td>12.772751</td>\n",
       "      <td>12.826959</td>\n",
       "      <td>11.741487</td>\n",
       "      <td>11.808644</td>\n",
       "    </tr>\n",
       "    <tr>\n",
       "      <th>8</th>\n",
       "      <td>Var9</td>\n",
       "      <td>103.372396</td>\n",
       "      <td>113.394268</td>\n",
       "      <td>214.584881</td>\n",
       "      <td>233.533582</td>\n",
       "      <td>0</td>\n",
       "      <td>0</td>\n",
       "      <td>18345</td>\n",
       "      <td>11996</td>\n",
       "      <td>1619399</td>\n",
       "      <td>573737</td>\n",
       "      <td>103.041890</td>\n",
       "      <td>103.702901</td>\n",
       "      <td>112.789973</td>\n",
       "      <td>113.998563</td>\n",
       "    </tr>\n",
       "    <tr>\n",
       "      <th>9</th>\n",
       "      <td>Var10</td>\n",
       "      <td>0.537784</td>\n",
       "      <td>0.793885</td>\n",
       "      <td>0.642230</td>\n",
       "      <td>0.739217</td>\n",
       "      <td>0</td>\n",
       "      <td>0</td>\n",
       "      <td>8</td>\n",
       "      <td>7</td>\n",
       "      <td>860362</td>\n",
       "      <td>393000</td>\n",
       "      <td>0.536427</td>\n",
       "      <td>0.539141</td>\n",
       "      <td>0.791574</td>\n",
       "      <td>0.796197</td>\n",
       "    </tr>\n",
       "    <tr>\n",
       "      <th>10</th>\n",
       "      <td>Var11</td>\n",
       "      <td>2.254756</td>\n",
       "      <td>4.102235</td>\n",
       "      <td>4.503326</td>\n",
       "      <td>6.689281</td>\n",
       "      <td>0</td>\n",
       "      <td>0</td>\n",
       "      <td>163</td>\n",
       "      <td>148</td>\n",
       "      <td>1619399</td>\n",
       "      <td>573737</td>\n",
       "      <td>2.247820</td>\n",
       "      <td>2.261692</td>\n",
       "      <td>4.084926</td>\n",
       "      <td>4.119544</td>\n",
       "    </tr>\n",
       "    <tr>\n",
       "      <th>11</th>\n",
       "      <td>Var12</td>\n",
       "      <td>0.685031</td>\n",
       "      <td>1.752763</td>\n",
       "      <td>5.412193</td>\n",
       "      <td>7.434564</td>\n",
       "      <td>0</td>\n",
       "      <td>0</td>\n",
       "      <td>1831</td>\n",
       "      <td>347</td>\n",
       "      <td>382777</td>\n",
       "      <td>154803</td>\n",
       "      <td>0.667885</td>\n",
       "      <td>0.702176</td>\n",
       "      <td>1.715727</td>\n",
       "      <td>1.789799</td>\n",
       "    </tr>\n",
       "    <tr>\n",
       "      <th>12</th>\n",
       "      <td>Var13</td>\n",
       "      <td>8.959959</td>\n",
       "      <td>5.977968</td>\n",
       "      <td>17.427552</td>\n",
       "      <td>9.466685</td>\n",
       "      <td>0</td>\n",
       "      <td>0</td>\n",
       "      <td>4317</td>\n",
       "      <td>629</td>\n",
       "      <td>1347666</td>\n",
       "      <td>446986</td>\n",
       "      <td>8.930535</td>\n",
       "      <td>8.989383</td>\n",
       "      <td>5.950215</td>\n",
       "      <td>6.005721</td>\n",
       "    </tr>\n",
       "  </tbody>\n",
       "</table>\n",
       "</div>"
      ],
      "text/plain": [
       "   Column      avg_CTR0     avg_CTR1      std_CTR0      std_CTR1  min_CTR0  \\\n",
       "0    Var1      2.946473     4.790206      8.674151     10.868277         0   \n",
       "1    Var2     95.612975   134.256090    361.190633    455.522574        -2   \n",
       "2    Var3     23.801411    37.103464    248.094061    689.683142         0   \n",
       "3    Var4      7.601784     6.499002      9.112409      7.928093         0   \n",
       "4    Var5  21823.328636  9209.995004  76456.296149  40591.419351         0   \n",
       "5    Var6    136.768530    64.598590    377.688449    199.877834         0   \n",
       "6    Var7     13.125326    25.870308     63.142022     88.273909         0   \n",
       "7    Var8     12.799855    11.775066     18.047062     13.133923         0   \n",
       "8    Var9    103.372396   113.394268    214.584881    233.533582         0   \n",
       "9   Var10      0.537784     0.793885      0.642230      0.739217         0   \n",
       "10  Var11      2.254756     4.102235      4.503326      6.689281         0   \n",
       "11  Var12      0.685031     1.752763      5.412193      7.434564         0   \n",
       "12  Var13      8.959959     5.977968     17.427552      9.466685         0   \n",
       "\n",
       "    min_CTR1  max_CTR0  max_CTR1  count_CTR0  count_CTR1  lowerCI_CTR0  \\\n",
       "0          0      1575       908      860362      393000      2.928143   \n",
       "1         -2     19219     16956     1704204      587833     95.070685   \n",
       "2          0     65535     65535     1362871      436847     23.384882   \n",
       "3          0       969       295     1347666      446986      7.586399   \n",
       "4          0   2634953   1906516     1650907      581921  21706.699242   \n",
       "5          0     66619     17917     1257313      522284    136.108342   \n",
       "6          0     34536     11839     1619399      573737     13.028074   \n",
       "7          0      4513       733     1703164      587718     12.772751   \n",
       "8          0     18345     11996     1619399      573737    103.041890   \n",
       "9          0         8         7      860362      393000      0.536427   \n",
       "10         0       163       148     1619399      573737      2.247820   \n",
       "11         0      1831       347      382777      154803      0.667885   \n",
       "12         0      4317       629     1347666      446986      8.930535   \n",
       "\n",
       "    upperCI_CTR0  lowerCI_CTR1  upperCI_CTR1  \n",
       "0       2.964802      4.756226      4.824186  \n",
       "1      96.155265    133.091591    135.420588  \n",
       "2      24.217940     35.058240     39.148689  \n",
       "3       7.617169      6.475760      6.522244  \n",
       "4   21939.958031   9105.701252   9314.288757  \n",
       "5     137.428719     64.056505     65.140675  \n",
       "6      13.222577     25.641889     26.098727  \n",
       "7      12.826959     11.741487     11.808644  \n",
       "8     103.702901    112.789973    113.998563  \n",
       "9       0.539141      0.791574      0.796197  \n",
       "10      2.261692      4.084926      4.119544  \n",
       "11      0.702176      1.715727      1.789799  \n",
       "12      8.989383      5.950215      6.005721  "
      ]
     },
     "execution_count": 13,
     "metadata": {},
     "output_type": "execute_result"
    }
   ],
   "source": [
    "##########\n",
    "# Table 3.1 Basic Statistics by Group (click through rate == 0 vs click through rate == 1) in each column. \n",
    "########## \n",
    "grouped_CTR0 = []\n",
    "grouped_CTR1 = []\n",
    "\n",
    "for p in range(0, len(numerical_cols)): \n",
    "    g1_avg, g0_avg=train_sample_EDA.groupBy('CTR').agg({numerical_cols[p]:\"avg\"}).collect()\n",
    "    g1_std, g0_std=train_sample_EDA.groupBy('CTR').agg({numerical_cols[p]:\"stddev\"}).collect()\n",
    "    g1_count, g0_count = train_sample_EDA.groupBy('CTR').agg({numerical_cols[p]:\"count\"}).collect()\n",
    "    g1_min, g0_min = train_sample_EDA.groupBy('CTR').agg({numerical_cols[p]:\"min\"}).collect()\n",
    "    g1_max, g0_max = train_sample_EDA.groupBy('CTR').agg({numerical_cols[p]:\"max\"}).collect()\n",
    "    grouped_CTR1.append({'Column': numerical_cols[p], 'avg_CTR1': g1_avg[1], 'std_CTR1': g1_std[1], \n",
    "                       'count_CTR1': g1_count[1], 'min_CTR1': g1_min[1], 'max_CTR1': g1_max[1]})\n",
    "    grouped_CTR0.append({'Column': numerical_cols[p], 'avg_CTR0': g0_avg[1], 'std_CTR0': g0_std[1],\n",
    "                       'count_CTR0': g0_count[1], 'min_CTR0': g0_min[1], 'max_CTR0': g0_max[1]})\n",
    "\n",
    "CTR0_df = pd.DataFrame(grouped_CTR0)\n",
    "CTR1_df = pd.DataFrame(grouped_CTR1)\n",
    "merged_group_agg = CTR0_df.merge(CTR1_df, how='left', on='Column')[['Column','avg_CTR0','avg_CTR1','std_CTR0','std_CTR1','min_CTR0','min_CTR1','max_CTR0','max_CTR1','count_CTR0','count_CTR1']]\n",
    "merged_group_agg['lowerCI_CTR0']=merged_group_agg['avg_CTR0']-((1.96)*(merged_group_agg['std_CTR0']/np.sqrt(merged_group_agg['count_CTR0'])))\n",
    "merged_group_agg['upperCI_CTR0']=merged_group_agg['avg_CTR0']+((1.96)*(merged_group_agg['std_CTR0']/np.sqrt(merged_group_agg['count_CTR0'])))\n",
    "merged_group_agg['lowerCI_CTR1']=merged_group_agg['avg_CTR1']-((1.96)*(merged_group_agg['std_CTR1']/np.sqrt(merged_group_agg['count_CTR1'])))\n",
    "merged_group_agg['upperCI_CTR1']=merged_group_agg['avg_CTR1']+((1.96)*(merged_group_agg['std_CTR1']/np.sqrt(merged_group_agg['count_CTR1'])))\n",
    "merged_group_agg"
   ]
  },
  {
   "cell_type": "markdown",
   "metadata": {},
   "source": [
    "### 3.2.2 Histograms \n",
    "* We also plot the histograms of each of the numerical variables to gain a sense of distribution. \n",
    "* We note that pretty much all of the numerical variables are skewed right; most of the observations generally are centered around the lower range of the values and the remaining higher values are tailed off to the right. \n",
    "* As the range of all variables varies widely across all variables, we plan to standardize the numerical variables by demeaning and dividing by the standard deviation such that not one variable overpowers over the other numerical variables solely due to scale. "
   ]
  },
  {
   "cell_type": "code",
   "execution_count": 14,
   "metadata": {},
   "outputs": [
    {
     "data": {
      "image/png": "[encoded data removed]",
      "text/plain": [
       "<Figure size 1440x720 with 14 Axes>"
      ]
     },
     "metadata": {
      "needs_background": "light"
     },
     "output_type": "display_data"
    }
   ],
   "source": [
    "########\n",
    "# Histogram of numerical variables \n",
    "########\n",
    "# Note that the last chart is empty as we only have 13 numerical variables. \n",
    "import seaborn as sns\n",
    "\n",
    "%matplotlib inline \n",
    "numerical_cols = ['Var1','Var2','Var3','Var4','Var5','Var6','Var7',\\\n",
    "                  'Var8','Var9','Var10','Var11','Var12','Var13']\n",
    "\n",
    "fig, axs = plt.subplots(2,7, figsize=(20,10))\n",
    "axs = axs.ravel()\n",
    "for p in range(0,len(numerical_cols)): \n",
    "    list_values = train_sample_EDA.select(numerical_cols[p]).rdd.flatMap(lambda x: x).collect()\n",
    "    cleaned_list = [x for x in list_values if x is not None]\n",
    "    axs[p].hist(cleaned_list, bins=20, density=True)\n",
    "    axs[p].set_title(numerical_cols[p])"
   ]
  },
  {
   "cell_type": "markdown",
   "metadata": {},
   "source": [
    "## 3.3 Categorical Variables and Cardinality"
   ]
  },
  {
   "cell_type": "markdown",
   "metadata": {},
   "source": [
    "* There are a total of 26 categorical columns that are also included within this dataset. \n",
    "* In Table 3.2, we immediately notice the high dimensionality when we take note of the number of distinct values in each categorical column. Some (ex: Var33 and Var22) have fewer than 5 distinct values while others (ex: Var16 and Var25) have over 10,000 distinct values. We explore our methods of preprocessing and reducing dimensionality in Section 4. "
   ]
  },
  {
   "cell_type": "code",
   "execution_count": 15,
   "metadata": {},
   "outputs": [
    {
     "data": {
      "text/html": [
       "<div>\n",
       "<style scoped>\n",
       "    .dataframe tbody tr th:only-of-type {\n",
       "        vertical-align: middle;\n",
       "    }\n",
       "\n",
       "    .dataframe tbody tr th {\n",
       "        vertical-align: top;\n",
       "    }\n",
       "\n",
       "    .dataframe thead th {\n",
       "        text-align: right;\n",
       "    }\n",
       "</style>\n",
       "<table border=\"1\" class=\"dataframe\">\n",
       "  <thead>\n",
       "    <tr style=\"text-align: right;\">\n",
       "      <th></th>\n",
       "      <th>Column</th>\n",
       "      <th>count_distinct</th>\n",
       "    </tr>\n",
       "  </thead>\n",
       "  <tbody>\n",
       "    <tr>\n",
       "      <th>2</th>\n",
       "      <td>Var16</td>\n",
       "      <td>753315</td>\n",
       "    </tr>\n",
       "    <tr>\n",
       "      <th>11</th>\n",
       "      <td>Var25</td>\n",
       "      <td>661596</td>\n",
       "    </tr>\n",
       "    <tr>\n",
       "      <th>20</th>\n",
       "      <td>Var34</td>\n",
       "      <td>588319</td>\n",
       "    </tr>\n",
       "    <tr>\n",
       "      <th>15</th>\n",
       "      <td>Var29</td>\n",
       "      <td>489035</td>\n",
       "    </tr>\n",
       "    <tr>\n",
       "      <th>3</th>\n",
       "      <td>Var17</td>\n",
       "      <td>258094</td>\n",
       "    </tr>\n",
       "    <tr>\n",
       "      <th>23</th>\n",
       "      <td>Var37</td>\n",
       "      <td>69117</td>\n",
       "    </tr>\n",
       "    <tr>\n",
       "      <th>25</th>\n",
       "      <td>Var39</td>\n",
       "      <td>47492</td>\n",
       "    </tr>\n",
       "    <tr>\n",
       "      <th>9</th>\n",
       "      <td>Var23</td>\n",
       "      <td>42422</td>\n",
       "    </tr>\n",
       "    <tr>\n",
       "      <th>6</th>\n",
       "      <td>Var20</td>\n",
       "      <td>11741</td>\n",
       "    </tr>\n",
       "    <tr>\n",
       "      <th>14</th>\n",
       "      <td>Var28</td>\n",
       "      <td>10943</td>\n",
       "    </tr>\n",
       "    <tr>\n",
       "      <th>10</th>\n",
       "      <td>Var24</td>\n",
       "      <td>5126</td>\n",
       "    </tr>\n",
       "    <tr>\n",
       "      <th>17</th>\n",
       "      <td>Var31</td>\n",
       "      <td>4479</td>\n",
       "    </tr>\n",
       "    <tr>\n",
       "      <th>12</th>\n",
       "      <td>Var26</td>\n",
       "      <td>3169</td>\n",
       "    </tr>\n",
       "    <tr>\n",
       "      <th>18</th>\n",
       "      <td>Var32</td>\n",
       "      <td>1959</td>\n",
       "    </tr>\n",
       "    <tr>\n",
       "      <th>0</th>\n",
       "      <td>Var14</td>\n",
       "      <td>1407</td>\n",
       "    </tr>\n",
       "    <tr>\n",
       "      <th>7</th>\n",
       "      <td>Var21</td>\n",
       "      <td>614</td>\n",
       "    </tr>\n",
       "    <tr>\n",
       "      <th>1</th>\n",
       "      <td>Var15</td>\n",
       "      <td>555</td>\n",
       "    </tr>\n",
       "    <tr>\n",
       "      <th>4</th>\n",
       "      <td>Var18</td>\n",
       "      <td>300</td>\n",
       "    </tr>\n",
       "    <tr>\n",
       "      <th>24</th>\n",
       "      <td>Var38</td>\n",
       "      <td>83</td>\n",
       "    </tr>\n",
       "    <tr>\n",
       "      <th>13</th>\n",
       "      <td>Var27</td>\n",
       "      <td>26</td>\n",
       "    </tr>\n",
       "    <tr>\n",
       "      <th>5</th>\n",
       "      <td>Var19</td>\n",
       "      <td>16</td>\n",
       "    </tr>\n",
       "    <tr>\n",
       "      <th>21</th>\n",
       "      <td>Var35</td>\n",
       "      <td>15</td>\n",
       "    </tr>\n",
       "    <tr>\n",
       "      <th>22</th>\n",
       "      <td>Var36</td>\n",
       "      <td>15</td>\n",
       "    </tr>\n",
       "    <tr>\n",
       "      <th>16</th>\n",
       "      <td>Var30</td>\n",
       "      <td>10</td>\n",
       "    </tr>\n",
       "    <tr>\n",
       "      <th>19</th>\n",
       "      <td>Var33</td>\n",
       "      <td>4</td>\n",
       "    </tr>\n",
       "    <tr>\n",
       "      <th>8</th>\n",
       "      <td>Var22</td>\n",
       "      <td>3</td>\n",
       "    </tr>\n",
       "  </tbody>\n",
       "</table>\n",
       "</div>"
      ],
      "text/plain": [
       "   Column  count_distinct\n",
       "2   Var16          753315\n",
       "11  Var25          661596\n",
       "20  Var34          588319\n",
       "15  Var29          489035\n",
       "3   Var17          258094\n",
       "23  Var37           69117\n",
       "25  Var39           47492\n",
       "9   Var23           42422\n",
       "6   Var20           11741\n",
       "14  Var28           10943\n",
       "10  Var24            5126\n",
       "17  Var31            4479\n",
       "12  Var26            3169\n",
       "18  Var32            1959\n",
       "0   Var14            1407\n",
       "7   Var21             614\n",
       "1   Var15             555\n",
       "4   Var18             300\n",
       "24  Var38              83\n",
       "13  Var27              26\n",
       "5   Var19              16\n",
       "21  Var35              15\n",
       "22  Var36              15\n",
       "16  Var30              10\n",
       "19  Var33               4\n",
       "8   Var22               3"
      ]
     },
     "execution_count": 15,
     "metadata": {},
     "output_type": "execute_result"
    }
   ],
   "source": [
    "categorical_cols = ['Var14','Var15','Var16','Var17','Var18','Var19','Var20','Var21','Var22',\n",
    "                    'Var23','Var24','Var25','Var26','Var27','Var28','Var29','Var30','Var31',\n",
    "                   'Var32','Var33','Var34','Var35','Var36','Var37','Var38','Var39']\n",
    "\n",
    "###########\n",
    "# Table 3.2: Count distinct values in each categorical column \n",
    "###########\n",
    "distinct_temp = []\n",
    "for column in categorical_cols: \n",
    "    distinct_temp.append({'Column':column, 'count_distinct': train_sample_EDA.select(column).distinct().count()})\n",
    "    \n",
    "distinct_df = pd.DataFrame(distinct_temp)\n",
    "distinct_df.sort_values(by='count_distinct', ascending=False)"
   ]
  },
  {
   "cell_type": "markdown",
   "metadata": {},
   "source": [
    "Given the high dimensionality of our categorical columns if we were to one hot encode so many categorical features, we wanted to know if there were certain values within the categorical variables that were more common than others, and thus would be more predictive of the final click through rate label of 1 or 0. \n",
    "* It is likely that certain values of a categorical column may be rare and therefore may not contribute much predictive power. If we were to tally up the counts of each distinct value in a categorical column (split by CTR group, or CTR == 0 vs CTR == 1) and calculate a cumulative summation of the number of observations observed per distinct value, we could distinguish just how many of the individual values within a categorical variable can cover the majority of the dataset. By further breaking down the top most frequent values in each CTR == 0 and CTR == 1 group, we can also observe which values are more telling of whether an ad will be clicked on or not. \n",
    "    * It should be noted that we defined 'majority' here as 95% of the observations within each group (CTR==0, CTR==1). \n",
    "* Furthermore, we would like to observe a sense of \"correlation\" between the labelled variable (CTR == 0, CTR==1) and our categorical features to see if there is any sort of association between the two variables. Pearson's Correlation unfortunately will not suffice, as we would be comparing a categorical variable (with no particular ordering) against a binary output variable that simply labels a successful/unsuccessful ad click. \n",
    "    * One particular workaround is the Cramer's V statistic (https://en.wikipedia.org/wiki/Cram%C3%A9r%27s_V): Based on the chi-squared statistic, Cramer's V is a measure of association between two nominal variables and gives an output number between 0 and 1 to quantify the strength of the association between two nominal variables. We therefore calculate Cramer's V statistic between successful/unsuccessful ad clicks (CTR==0, CTR==1) against the categorical values in each column to measure (if any) the strength of association between the two variables. "
   ]
  },
  {
   "cell_type": "code",
   "execution_count": 16,
   "metadata": {},
   "outputs": [],
   "source": [
    "##########\n",
    "# Cumulative Summation \n",
    "# Intent: In each column, we want to know which values contribute the most in terms of frequency for CTR=1. \n",
    "##########\n",
    "\n",
    "from pyspark.sql.functions import col, desc\n",
    "from pyspark.sql import window\n",
    "from pyspark.sql import functions as F\n",
    "\n",
    "count_1 = train_sample_EDA.filter(col(\"CTR\")==1).count()\n",
    "count_0 = train_sample_EDA.filter(col(\"CTR\")==0).count()\n",
    "\n",
    "# Set aside a subset \n",
    "subset_CTR1=train_sample_EDA.filter(col(\"CTR\")==1)[categorical_cols]\n",
    "subset_CTR0=train_sample_EDA.filter(col(\"CTR\")==0)[categorical_cols]\n",
    "\n",
    "win_spec = (window.Window\n",
    "                  .partitionBy()\n",
    "                  .rowsBetween(window.Window.unboundedPreceding, 0))\n",
    "\n",
    "top_cumsum_ctr1 = []\n",
    "all_cumsum_ctr1 = []\n",
    "top_cumsum_ctr0 = []\n",
    "all_cumsum_ctr0 = []\n",
    "summary_cumsum = []\n",
    "\n",
    "for col in categorical_cols:\n",
    "    # --- Calculate cumulative summation for CTR==1 \n",
    "    tempdf = subset_CTR1.groupBy([col]).count().sort(desc('count')).cache()\n",
    "    tempdf = tempdf.withColumn('count_frequ', tempdf['count']/count_1).cache()\n",
    "    tempdf = tempdf.withColumn('cumsum',F.sum(tempdf.count_frequ).over(win_spec))\n",
    "    all_cumsum_ctr1.append(tempdf)\n",
    "    temp_pd_CTR1 = tempdf.where(tempdf.cumsum<=0.95).toPandas()\n",
    "    top_cumsum_ctr1.append(temp_pd_CTR1)\n",
    "    \n",
    "    # --- Calculate cumulative summation for CTR==0 \n",
    "    tempdf = subset_CTR0.groupBy([col]).count().sort(desc('count')).cache()\n",
    "    tempdf = tempdf.withColumn('count_frequ', tempdf['count']/count_0).cache()\n",
    "    tempdf = tempdf.withColumn('cumsum',F.sum(tempdf.count_frequ).over(win_spec))\n",
    "    all_cumsum_ctr0.append(tempdf)\n",
    "    temp_pd_CTR0 = tempdf.where(tempdf.cumsum<=0.95).toPandas()\n",
    "    top_cumsum_ctr0.append(temp_pd_CTR0)\n",
    "    \n",
    "    # Summary stats: \n",
    "    # For each column: count up the number of distinct values that are needed to cover 95% of the observations in each group\n",
    "    summary_cumsum.append({'Column': col, 'top_freq_CTR0_count': len(temp_pd_CTR0), 'top_freq_CTR1_count': len(temp_pd_CTR1)})\n",
    "\n",
    "summary_cumsum_df = pd.DataFrame(summary_cumsum)\n",
    "\n",
    "############\n",
    "# Save the top values for each CTR group out for each categorical column \n",
    "# DO NOT run this part of the code unless you want to save out the individual CSVs. \n",
    "# These CSVs can be used for broadcasting later on. \n",
    "############ \n",
    "\n",
    "#for i in range(0, 26): \n",
    "#    filename = 'CTR0_'+str(categorical_cols[i])+'.csv'\n",
    "#    all_cumsum_ctr0[i].toPandas().to_csv(filename, index=False)\n",
    "#    filename = 'CTR1_'+str(categorical_cols[i])+'.csv'\n",
    "#    all_cumsum_ctr1[i].toPandas().to_csv(filename, index=False)"
   ]
  },
  {
   "cell_type": "code",
   "execution_count": 17,
   "metadata": {},
   "outputs": [
    {
     "data": {
      "text/html": [
       "<div>\n",
       "<style scoped>\n",
       "    .dataframe tbody tr th:only-of-type {\n",
       "        vertical-align: middle;\n",
       "    }\n",
       "\n",
       "    .dataframe tbody tr th {\n",
       "        vertical-align: top;\n",
       "    }\n",
       "\n",
       "    .dataframe thead th {\n",
       "        text-align: right;\n",
       "    }\n",
       "</style>\n",
       "<table border=\"1\" class=\"dataframe\">\n",
       "  <thead>\n",
       "    <tr style=\"text-align: right;\">\n",
       "      <th></th>\n",
       "      <th>Column</th>\n",
       "      <th>top_freq_CTR0_count</th>\n",
       "      <th>top_freq_CTR1_count</th>\n",
       "    </tr>\n",
       "  </thead>\n",
       "  <tbody>\n",
       "    <tr>\n",
       "      <th>0</th>\n",
       "      <td>Var14</td>\n",
       "      <td>18</td>\n",
       "      <td>18</td>\n",
       "    </tr>\n",
       "    <tr>\n",
       "      <th>1</th>\n",
       "      <td>Var15</td>\n",
       "      <td>193</td>\n",
       "      <td>187</td>\n",
       "    </tr>\n",
       "    <tr>\n",
       "      <th>2</th>\n",
       "      <td>Var16</td>\n",
       "      <td>484485</td>\n",
       "      <td>201579</td>\n",
       "    </tr>\n",
       "    <tr>\n",
       "      <th>3</th>\n",
       "      <td>Var17</td>\n",
       "      <td>120554</td>\n",
       "      <td>63302</td>\n",
       "    </tr>\n",
       "    <tr>\n",
       "      <th>4</th>\n",
       "      <td>Var18</td>\n",
       "      <td>5</td>\n",
       "      <td>5</td>\n",
       "    </tr>\n",
       "    <tr>\n",
       "      <th>5</th>\n",
       "      <td>Var19</td>\n",
       "      <td>4</td>\n",
       "      <td>4</td>\n",
       "    </tr>\n",
       "    <tr>\n",
       "      <th>6</th>\n",
       "      <td>Var20</td>\n",
       "      <td>5202</td>\n",
       "      <td>4407</td>\n",
       "    </tr>\n",
       "    <tr>\n",
       "      <th>7</th>\n",
       "      <td>Var21</td>\n",
       "      <td>9</td>\n",
       "      <td>8</td>\n",
       "    </tr>\n",
       "    <tr>\n",
       "      <th>8</th>\n",
       "      <td>Var22</td>\n",
       "      <td>1</td>\n",
       "      <td>0</td>\n",
       "    </tr>\n",
       "    <tr>\n",
       "      <th>9</th>\n",
       "      <td>Var23</td>\n",
       "      <td>9279</td>\n",
       "      <td>7720</td>\n",
       "    </tr>\n",
       "    <tr>\n",
       "      <th>10</th>\n",
       "      <td>Var24</td>\n",
       "      <td>2193</td>\n",
       "      <td>1879</td>\n",
       "    </tr>\n",
       "    <tr>\n",
       "      <th>11</th>\n",
       "      <td>Var25</td>\n",
       "      <td>414817</td>\n",
       "      <td>179614</td>\n",
       "    </tr>\n",
       "    <tr>\n",
       "      <th>12</th>\n",
       "      <td>Var26</td>\n",
       "      <td>1640</td>\n",
       "      <td>1434</td>\n",
       "    </tr>\n",
       "    <tr>\n",
       "      <th>13</th>\n",
       "      <td>Var27</td>\n",
       "      <td>6</td>\n",
       "      <td>5</td>\n",
       "    </tr>\n",
       "    <tr>\n",
       "      <th>14</th>\n",
       "      <td>Var28</td>\n",
       "      <td>2407</td>\n",
       "      <td>2333</td>\n",
       "    </tr>\n",
       "    <tr>\n",
       "      <th>15</th>\n",
       "      <td>Var29</td>\n",
       "      <td>288313</td>\n",
       "      <td>132526</td>\n",
       "    </tr>\n",
       "    <tr>\n",
       "      <th>16</th>\n",
       "      <td>Var30</td>\n",
       "      <td>7</td>\n",
       "      <td>6</td>\n",
       "    </tr>\n",
       "    <tr>\n",
       "      <th>17</th>\n",
       "      <td>Var31</td>\n",
       "      <td>873</td>\n",
       "      <td>925</td>\n",
       "    </tr>\n",
       "    <tr>\n",
       "      <th>18</th>\n",
       "      <td>Var32</td>\n",
       "      <td>179</td>\n",
       "      <td>176</td>\n",
       "    </tr>\n",
       "    <tr>\n",
       "      <th>19</th>\n",
       "      <td>Var33</td>\n",
       "      <td>3</td>\n",
       "      <td>3</td>\n",
       "    </tr>\n",
       "    <tr>\n",
       "      <th>20</th>\n",
       "      <td>Var34</td>\n",
       "      <td>362959</td>\n",
       "      <td>158059</td>\n",
       "    </tr>\n",
       "    <tr>\n",
       "      <th>21</th>\n",
       "      <td>Var35</td>\n",
       "      <td>2</td>\n",
       "      <td>2</td>\n",
       "    </tr>\n",
       "    <tr>\n",
       "      <th>22</th>\n",
       "      <td>Var36</td>\n",
       "      <td>6</td>\n",
       "      <td>6</td>\n",
       "    </tr>\n",
       "    <tr>\n",
       "      <th>23</th>\n",
       "      <td>Var37</td>\n",
       "      <td>11359</td>\n",
       "      <td>8203</td>\n",
       "    </tr>\n",
       "    <tr>\n",
       "      <th>24</th>\n",
       "      <td>Var38</td>\n",
       "      <td>9</td>\n",
       "      <td>10</td>\n",
       "    </tr>\n",
       "    <tr>\n",
       "      <th>25</th>\n",
       "      <td>Var39</td>\n",
       "      <td>6065</td>\n",
       "      <td>4824</td>\n",
       "    </tr>\n",
       "  </tbody>\n",
       "</table>\n",
       "</div>"
      ],
      "text/plain": [
       "   Column  top_freq_CTR0_count  top_freq_CTR1_count\n",
       "0   Var14                   18                   18\n",
       "1   Var15                  193                  187\n",
       "2   Var16               484485               201579\n",
       "3   Var17               120554                63302\n",
       "4   Var18                    5                    5\n",
       "5   Var19                    4                    4\n",
       "6   Var20                 5202                 4407\n",
       "7   Var21                    9                    8\n",
       "8   Var22                    1                    0\n",
       "9   Var23                 9279                 7720\n",
       "10  Var24                 2193                 1879\n",
       "11  Var25               414817               179614\n",
       "12  Var26                 1640                 1434\n",
       "13  Var27                    6                    5\n",
       "14  Var28                 2407                 2333\n",
       "15  Var29               288313               132526\n",
       "16  Var30                    7                    6\n",
       "17  Var31                  873                  925\n",
       "18  Var32                  179                  176\n",
       "19  Var33                    3                    3\n",
       "20  Var34               362959               158059\n",
       "21  Var35                    2                    2\n",
       "22  Var36                    6                    6\n",
       "23  Var37                11359                 8203\n",
       "24  Var38                    9                   10\n",
       "25  Var39                 6065                 4824"
      ]
     },
     "execution_count": 17,
     "metadata": {},
     "output_type": "execute_result"
    }
   ],
   "source": [
    "summary_cumsum_df"
   ]
  },
  {
   "cell_type": "code",
   "execution_count": null,
   "metadata": {},
   "outputs": [],
   "source": [
    "######\n",
    "# Cramer's V \n",
    "###### \n",
    "\n",
    "# Cramer's Value \n",
    "# referenced from https://stackoverflow.com/questions/20892799/using-pandas-calculate-cram%C3%A9rs-coefficient-matrix\n",
    "# and https://en.wikipedia.org/wiki/Cram%C3%A9r%27s_V\n",
    "\n",
    "def cramers_corrected_stat(confusion_matrix): \n",
    "    \"\"\"\n",
    "    This function calculates the Cramer's coefficient matrix given a contingency table. \n",
    "    It has been discussed before that cramer's V can be over-optimistic in estimating association between between categories. \n",
    "    Therefore, a correction for bias has been implemented in this function as well. \n",
    "    \"\"\"\n",
    "    # --- get total n \n",
    "    n = np.nansum(confusion_matrix.sum()) \n",
    "    \n",
    "    # --- get r,k (shape), where r = number of rows, k = number of columns \n",
    "    r,k = confusion_matrix.shape \n",
    "    \n",
    "    # --- get chi-2 statistic\n",
    "    chi2 = 0\n",
    "    row_sums = confusion_matrix.sum(axis=1) \n",
    "    col_sums = confusion_matrix.sum(axis=0) \n",
    "    for index, row in confusion_matrix.iterrows(): \n",
    "        # index will denote the row number \n",
    "        for col in confusion_matrix.columns: # iterate across rows \n",
    "            chi2+=((row[col]-(row_sums[index]*col_sums[col]/n))**2)/(row_sums[index]*col_sums[col]/n)\n",
    "    # --- get phi2 \n",
    "    phi2 = chi2/n \n",
    "    phi2corr = max(0, phi2 - ((k-1)*(r-1))/(n-1)) \n",
    "    rcorr = r - ((r-1)**2)/(n-1)\n",
    "    kcorr = k - ((k-1)**2)/(n-1)\n",
    "    return np.sqrt(phi2corr / min( (kcorr-1), (rcorr-1)))\n",
    "\n",
    "all_categorical_columns = ['Var14','Var15','Var16','Var17','Var18','Var19','Var20',\\\n",
    "                           'Var21','Var22','Var23','Var24','Var25','Var26','Var27',\\\n",
    "                           'Var28','Var29','Var30','Var31','Var32','Var33','Var34',\\\n",
    "                           'Var35','Var36','Var37','Var38','Var39']\n",
    "\n",
    "def calculate_adj_cramersV_allcolumns(columns, rdd_obj): \n",
    "    \"\"\"\n",
    "    This function will apply Cramer's value function (cramers_corrected_stat) \n",
    "    onto the values of categorical columns in the RDD. \n",
    "    \"\"\"\n",
    "    cramers_df = []\n",
    "    for c in columns: \n",
    "        # --- make contingency table \n",
    "        contingency = rdd_obj.map(lambda x: ((x['CTR'],x[c]),1)) \\\n",
    "            .reduceByKey(lambda x,y: x+y) \\\n",
    "            .map(lambda x: ((x[0][0],x[0][1]),x[1])).collect()\n",
    "        \n",
    "        # --- Unwrap contingency mapped output \n",
    "        unwrapped_df = pd.DataFrame([[contingency[i][0][0], contingency[i][0][1], \\\n",
    "                                    contingency[i][1]] for i in range(0, len(contingency))], \\\n",
    "                                    columns = ['ctr','category','count'])\\\n",
    "                                    .sort_values(by=['category','ctr']).reset_index(drop=True)\n",
    "        \n",
    "        # --- Make contingency table \n",
    "        matr_obj = pd.DataFrame(0, columns = unwrapped_df['category']\\\n",
    "                                .drop_duplicates().values, index = unwrapped_df['ctr']\\\n",
    "                                .drop_duplicates().values)\n",
    "        for index, row in unwrapped_df.iterrows(): \n",
    "            matr_obj.at[row['ctr'], row['category']]=row['count']\n",
    "        \n",
    "        # --- Calculate Cramer's V (adjusted) \n",
    "        cramersV_value = cramers_corrected_stat(matr_obj)\n",
    "        cramers_df.append({'column': c, 'cramersvalue': cramersV_value})\n",
    "    return(cramers_df)\n",
    "\n",
    "data_rdd = train_sample_EDA.rdd\n",
    "\n",
    "all_categorical_columns = ['Var14','Var15','Var16','Var17','Var18','Var19','Var20',\n",
    "                           'Var21','Var22','Var23','Var24','Var25','Var26','Var27',\n",
    "                           'Var28','Var29','Var30','Var31','Var32','Var33','Var34',\n",
    "                           'Var35','Var36','Var37','Var38','Var39']\n",
    "\n",
    "cramers_results = pd.DataFrame(calculate_adj_cramersV_allcolumns(all_categorical_columns, data_rdd))\\\n",
    "                    .reset_index(drop=True)\n",
    "cramers_results.columns=['Column','cramersvalue']"
   ]
  },
  {
   "cell_type": "markdown",
   "metadata": {},
   "source": [
    "We therefore combine all of our summary statistics together. In table 3.3, for each categorical variable, we provide the \n",
    "* number of distinct values (`count_distinct`)\n",
    "* number of categorical values that cover 95% of the observations in each labelled group (CTR==0 in `top_freq_CTR0_count` and CTR==1 in `top_freq_CTR1_count`). \n",
    "* percentage of observations in the categorical column that are not null (`Coverage_nonNull`). \n",
    "* Cramer's Value between the categorical column and labelled CTR variable (`Cramersvalue`). \n",
    "\n",
    "When sorted, we note a few things: \n",
    "* In general, it looks like columns with a lower number of distinct values tend to also have lower Cramer's coefficient with our labelled CTR variable. On the opposite end, it seems like columns with a higher number of distinct values tend to have more association with the labelled CTR variable. \n",
    "* For almost all of the categorical columns, we can see that there are fewer features that cover the majority of observations for CTR = 1 than CTR = 0. \n",
    "    * For example: For column Var25, we observe that there are 10844 categorical values (26% of all distinct values in Var25) that cover 95% or more of the observations that have a label of CTR = 1. In contrast, we see that there are 28315 categorical values (68% of all distinct values in Var25) that cover 95% or more of the observations that have a label of CTR = 0. \n",
    "    * This leads to our discussion of frequency-based reduction in dimensionality in Section 4.1.1, as it looks likely that not all individual values are needed within a column to provide prediction power. "
   ]
  },
  {
   "cell_type": "code",
   "execution_count": 35,
   "metadata": {},
   "outputs": [],
   "source": [
    "#######\n",
    "# Combine summary statistics together for all categorical data \n",
    "####### \n",
    "\n",
    "# (1) Merge distinct counts of values for each column against the cumulative summations \n",
    "ver1 = distinct_df.merge(summary_cumsum_df, how='left', on='Column')\n",
    "\n",
    "# (2) Merge output from (1) against percentage of non-null values for each categorical column. \n",
    "coverage_tomerge = pd.DataFrame([list(coverage_summary.index.values), list(coverage_summary['Coverage_nonNull'].values)]).T\n",
    "coverage_tomerge.columns=['Column','Coverage_nonNull']\n",
    "ver2 = ver1.merge(coverage_tomerge, how='left', on='Column')\n",
    "\n",
    "# (3) Merge output from (2) against the Cramer's coefficient results \n",
    "categorical_combined_df = ver2.merge(cramers_results, how='left', on='Column')"
   ]
  },
  {
   "cell_type": "code",
   "execution_count": 37,
   "metadata": {},
   "outputs": [
    {
     "data": {
      "text/html": [
       "<div>\n",
       "<style scoped>\n",
       "    .dataframe tbody tr th:only-of-type {\n",
       "        vertical-align: middle;\n",
       "    }\n",
       "\n",
       "    .dataframe tbody tr th {\n",
       "        vertical-align: top;\n",
       "    }\n",
       "\n",
       "    .dataframe thead th {\n",
       "        text-align: right;\n",
       "    }\n",
       "</style>\n",
       "<table border=\"1\" class=\"dataframe\">\n",
       "  <thead>\n",
       "    <tr style=\"text-align: right;\">\n",
       "      <th></th>\n",
       "      <th>Column</th>\n",
       "      <th>count_distinct</th>\n",
       "      <th>top_freq_CTR0_count</th>\n",
       "      <th>top_freq_CTR1_count</th>\n",
       "      <th>Coverage_nonNull</th>\n",
       "      <th>cramersvalue</th>\n",
       "      <th>pct_topfreq_CTR0</th>\n",
       "      <th>pct_topfreq_CTR1</th>\n",
       "    </tr>\n",
       "  </thead>\n",
       "  <tbody>\n",
       "    <tr>\n",
       "      <th>15</th>\n",
       "      <td>Var29</td>\n",
       "      <td>34617</td>\n",
       "      <td>23274</td>\n",
       "      <td>9441</td>\n",
       "      <td>0.96065</td>\n",
       "      <td>0.315933</td>\n",
       "      <td>0.672329</td>\n",
       "      <td>0.272727</td>\n",
       "    </tr>\n",
       "    <tr>\n",
       "      <th>11</th>\n",
       "      <td>Var25</td>\n",
       "      <td>41312</td>\n",
       "      <td>28315</td>\n",
       "      <td>10844</td>\n",
       "      <td>0.96065</td>\n",
       "      <td>0.312090</td>\n",
       "      <td>0.685394</td>\n",
       "      <td>0.262490</td>\n",
       "    </tr>\n",
       "    <tr>\n",
       "      <th>20</th>\n",
       "      <td>Var34</td>\n",
       "      <td>38618</td>\n",
       "      <td>26336</td>\n",
       "      <td>10208</td>\n",
       "      <td>0.96065</td>\n",
       "      <td>0.310233</td>\n",
       "      <td>0.681962</td>\n",
       "      <td>0.264333</td>\n",
       "    </tr>\n",
       "    <tr>\n",
       "      <th>2</th>\n",
       "      <td>Var16</td>\n",
       "      <td>43870</td>\n",
       "      <td>30314</td>\n",
       "      <td>11370</td>\n",
       "      <td>0.96065</td>\n",
       "      <td>0.307947</td>\n",
       "      <td>0.690996</td>\n",
       "      <td>0.259175</td>\n",
       "    </tr>\n",
       "    <tr>\n",
       "      <th>3</th>\n",
       "      <td>Var17</td>\n",
       "      <td>25184</td>\n",
       "      <td>16671</td>\n",
       "      <td>6950</td>\n",
       "      <td>0.96065</td>\n",
       "      <td>0.299285</td>\n",
       "      <td>0.661968</td>\n",
       "      <td>0.275969</td>\n",
       "    </tr>\n",
       "    <tr>\n",
       "      <th>14</th>\n",
       "      <td>Var28</td>\n",
       "      <td>5238</td>\n",
       "      <td>2135</td>\n",
       "      <td>1826</td>\n",
       "      <td>1</td>\n",
       "      <td>0.287163</td>\n",
       "      <td>0.407598</td>\n",
       "      <td>0.348606</td>\n",
       "    </tr>\n",
       "    <tr>\n",
       "      <th>6</th>\n",
       "      <td>Var20</td>\n",
       "      <td>7623</td>\n",
       "      <td>4350</td>\n",
       "      <td>3125</td>\n",
       "      <td>1</td>\n",
       "      <td>0.270162</td>\n",
       "      <td>0.570641</td>\n",
       "      <td>0.409944</td>\n",
       "    </tr>\n",
       "    <tr>\n",
       "      <th>23</th>\n",
       "      <td>Var37</td>\n",
       "      <td>12335</td>\n",
       "      <td>6635</td>\n",
       "      <td>3449</td>\n",
       "      <td>0.96065</td>\n",
       "      <td>0.269548</td>\n",
       "      <td>0.537900</td>\n",
       "      <td>0.279611</td>\n",
       "    </tr>\n",
       "    <tr>\n",
       "      <th>17</th>\n",
       "      <td>Var31</td>\n",
       "      <td>2548</td>\n",
       "      <td>795</td>\n",
       "      <td>811</td>\n",
       "      <td>1</td>\n",
       "      <td>0.259051</td>\n",
       "      <td>0.312009</td>\n",
       "      <td>0.318289</td>\n",
       "    </tr>\n",
       "    <tr>\n",
       "      <th>10</th>\n",
       "      <td>Var24</td>\n",
       "      <td>3799</td>\n",
       "      <td>2000</td>\n",
       "      <td>1534</td>\n",
       "      <td>1</td>\n",
       "      <td>0.247067</td>\n",
       "      <td>0.526454</td>\n",
       "      <td>0.403790</td>\n",
       "    </tr>\n",
       "    <tr>\n",
       "      <th>12</th>\n",
       "      <td>Var26</td>\n",
       "      <td>2796</td>\n",
       "      <td>1494</td>\n",
       "      <td>1191</td>\n",
       "      <td>1</td>\n",
       "      <td>0.239850</td>\n",
       "      <td>0.534335</td>\n",
       "      <td>0.425966</td>\n",
       "    </tr>\n",
       "    <tr>\n",
       "      <th>25</th>\n",
       "      <td>Var39</td>\n",
       "      <td>9527</td>\n",
       "      <td>4198</td>\n",
       "      <td>2478</td>\n",
       "      <td>0.58529</td>\n",
       "      <td>0.232717</td>\n",
       "      <td>0.440642</td>\n",
       "      <td>0.260103</td>\n",
       "    </tr>\n",
       "    <tr>\n",
       "      <th>9</th>\n",
       "      <td>Var23</td>\n",
       "      <td>10997</td>\n",
       "      <td>5866</td>\n",
       "      <td>3702</td>\n",
       "      <td>1</td>\n",
       "      <td>0.208153</td>\n",
       "      <td>0.533418</td>\n",
       "      <td>0.336637</td>\n",
       "    </tr>\n",
       "    <tr>\n",
       "      <th>1</th>\n",
       "      <td>Var15</td>\n",
       "      <td>497</td>\n",
       "      <td>185</td>\n",
       "      <td>178</td>\n",
       "      <td>1</td>\n",
       "      <td>0.201925</td>\n",
       "      <td>0.372233</td>\n",
       "      <td>0.358149</td>\n",
       "    </tr>\n",
       "    <tr>\n",
       "      <th>16</th>\n",
       "      <td>Var30</td>\n",
       "      <td>10</td>\n",
       "      <td>7</td>\n",
       "      <td>6</td>\n",
       "      <td>1</td>\n",
       "      <td>0.169796</td>\n",
       "      <td>0.700000</td>\n",
       "      <td>0.600000</td>\n",
       "    </tr>\n",
       "    <tr>\n",
       "      <th>22</th>\n",
       "      <td>Var36</td>\n",
       "      <td>14</td>\n",
       "      <td>6</td>\n",
       "      <td>6</td>\n",
       "      <td>1</td>\n",
       "      <td>0.124470</td>\n",
       "      <td>0.428571</td>\n",
       "      <td>0.428571</td>\n",
       "    </tr>\n",
       "    <tr>\n",
       "      <th>13</th>\n",
       "      <td>Var27</td>\n",
       "      <td>26</td>\n",
       "      <td>6</td>\n",
       "      <td>5</td>\n",
       "      <td>1</td>\n",
       "      <td>0.117776</td>\n",
       "      <td>0.230769</td>\n",
       "      <td>0.192308</td>\n",
       "    </tr>\n",
       "    <tr>\n",
       "      <th>18</th>\n",
       "      <td>Var32</td>\n",
       "      <td>1303</td>\n",
       "      <td>188</td>\n",
       "      <td>206</td>\n",
       "      <td>0.58529</td>\n",
       "      <td>0.104115</td>\n",
       "      <td>0.144282</td>\n",
       "      <td>0.158097</td>\n",
       "    </tr>\n",
       "    <tr>\n",
       "      <th>8</th>\n",
       "      <td>Var22</td>\n",
       "      <td>3</td>\n",
       "      <td>1</td>\n",
       "      <td>1</td>\n",
       "      <td>1</td>\n",
       "      <td>0.098506</td>\n",
       "      <td>0.333333</td>\n",
       "      <td>0.333333</td>\n",
       "    </tr>\n",
       "    <tr>\n",
       "      <th>24</th>\n",
       "      <td>Var38</td>\n",
       "      <td>51</td>\n",
       "      <td>11</td>\n",
       "      <td>12</td>\n",
       "      <td>0.58529</td>\n",
       "      <td>0.086958</td>\n",
       "      <td>0.215686</td>\n",
       "      <td>0.235294</td>\n",
       "    </tr>\n",
       "    <tr>\n",
       "      <th>5</th>\n",
       "      <td>Var19</td>\n",
       "      <td>12</td>\n",
       "      <td>4</td>\n",
       "      <td>5</td>\n",
       "      <td>0.86292</td>\n",
       "      <td>0.054795</td>\n",
       "      <td>0.333333</td>\n",
       "      <td>0.416667</td>\n",
       "    </tr>\n",
       "    <tr>\n",
       "      <th>19</th>\n",
       "      <td>Var33</td>\n",
       "      <td>4</td>\n",
       "      <td>3</td>\n",
       "      <td>3</td>\n",
       "      <td>0.58529</td>\n",
       "      <td>0.045960</td>\n",
       "      <td>0.750000</td>\n",
       "      <td>0.750000</td>\n",
       "    </tr>\n",
       "    <tr>\n",
       "      <th>21</th>\n",
       "      <td>Var35</td>\n",
       "      <td>11</td>\n",
       "      <td>2</td>\n",
       "      <td>2</td>\n",
       "      <td>0.18434</td>\n",
       "      <td>0.029709</td>\n",
       "      <td>0.181818</td>\n",
       "      <td>0.181818</td>\n",
       "    </tr>\n",
       "    <tr>\n",
       "      <th>0</th>\n",
       "      <td>Var14</td>\n",
       "      <td>541</td>\n",
       "      <td>18</td>\n",
       "      <td>18</td>\n",
       "      <td>1</td>\n",
       "      <td>0.000000</td>\n",
       "      <td>0.033272</td>\n",
       "      <td>0.033272</td>\n",
       "    </tr>\n",
       "    <tr>\n",
       "      <th>4</th>\n",
       "      <td>Var18</td>\n",
       "      <td>145</td>\n",
       "      <td>5</td>\n",
       "      <td>5</td>\n",
       "      <td>1</td>\n",
       "      <td>0.000000</td>\n",
       "      <td>0.034483</td>\n",
       "      <td>0.034483</td>\n",
       "    </tr>\n",
       "    <tr>\n",
       "      <th>7</th>\n",
       "      <td>Var21</td>\n",
       "      <td>257</td>\n",
       "      <td>8</td>\n",
       "      <td>9</td>\n",
       "      <td>1</td>\n",
       "      <td>0.000000</td>\n",
       "      <td>0.031128</td>\n",
       "      <td>0.035019</td>\n",
       "    </tr>\n",
       "  </tbody>\n",
       "</table>\n",
       "</div>"
      ],
      "text/plain": [
       "   Column  count_distinct  top_freq_CTR0_count  top_freq_CTR1_count  \\\n",
       "15  Var29           34617                23274                 9441   \n",
       "11  Var25           41312                28315                10844   \n",
       "20  Var34           38618                26336                10208   \n",
       "2   Var16           43870                30314                11370   \n",
       "3   Var17           25184                16671                 6950   \n",
       "14  Var28            5238                 2135                 1826   \n",
       "6   Var20            7623                 4350                 3125   \n",
       "23  Var37           12335                 6635                 3449   \n",
       "17  Var31            2548                  795                  811   \n",
       "10  Var24            3799                 2000                 1534   \n",
       "12  Var26            2796                 1494                 1191   \n",
       "25  Var39            9527                 4198                 2478   \n",
       "9   Var23           10997                 5866                 3702   \n",
       "1   Var15             497                  185                  178   \n",
       "16  Var30              10                    7                    6   \n",
       "22  Var36              14                    6                    6   \n",
       "13  Var27              26                    6                    5   \n",
       "18  Var32            1303                  188                  206   \n",
       "8   Var22               3                    1                    1   \n",
       "24  Var38              51                   11                   12   \n",
       "5   Var19              12                    4                    5   \n",
       "19  Var33               4                    3                    3   \n",
       "21  Var35              11                    2                    2   \n",
       "0   Var14             541                   18                   18   \n",
       "4   Var18             145                    5                    5   \n",
       "7   Var21             257                    8                    9   \n",
       "\n",
       "   Coverage_nonNull  cramersvalue  pct_topfreq_CTR0  pct_topfreq_CTR1  \n",
       "15          0.96065      0.315933          0.672329          0.272727  \n",
       "11          0.96065      0.312090          0.685394          0.262490  \n",
       "20          0.96065      0.310233          0.681962          0.264333  \n",
       "2           0.96065      0.307947          0.690996          0.259175  \n",
       "3           0.96065      0.299285          0.661968          0.275969  \n",
       "14                1      0.287163          0.407598          0.348606  \n",
       "6                 1      0.270162          0.570641          0.409944  \n",
       "23          0.96065      0.269548          0.537900          0.279611  \n",
       "17                1      0.259051          0.312009          0.318289  \n",
       "10                1      0.247067          0.526454          0.403790  \n",
       "12                1      0.239850          0.534335          0.425966  \n",
       "25          0.58529      0.232717          0.440642          0.260103  \n",
       "9                 1      0.208153          0.533418          0.336637  \n",
       "1                 1      0.201925          0.372233          0.358149  \n",
       "16                1      0.169796          0.700000          0.600000  \n",
       "22                1      0.124470          0.428571          0.428571  \n",
       "13                1      0.117776          0.230769          0.192308  \n",
       "18          0.58529      0.104115          0.144282          0.158097  \n",
       "8                 1      0.098506          0.333333          0.333333  \n",
       "24          0.58529      0.086958          0.215686          0.235294  \n",
       "5           0.86292      0.054795          0.333333          0.416667  \n",
       "19          0.58529      0.045960          0.750000          0.750000  \n",
       "21          0.18434      0.029709          0.181818          0.181818  \n",
       "0                 1      0.000000          0.033272          0.033272  \n",
       "4                 1      0.000000          0.034483          0.034483  \n",
       "7                 1      0.000000          0.031128          0.035019  "
      ]
     },
     "execution_count": 37,
     "metadata": {},
     "output_type": "execute_result"
    }
   ],
   "source": [
    "########\n",
    "# Table 3.3\n",
    "########\n",
    "\n",
    "categorical_combined_df['pct_topfreq_CTR0'] = categorical_combined_df['top_freq_CTR0_count']/categorical_combined_df['count_distinct']\n",
    "categorical_combined_df['pct_topfreq_CTR1'] = categorical_combined_df['top_freq_CTR1_count']/categorical_combined_df['count_distinct']\n",
    "\n",
    "categorical_combined_df.sort_values(by=['cramersvalue','Coverage_nonNull'], ascending=False)"
   ]
  },
  {
   "cell_type": "markdown",
   "metadata": {},
   "source": [
    "## 3.4 Clean-up and transforming numerical variables "
   ]
  },
  {
   "cell_type": "markdown",
   "metadata": {},
   "source": [
    "EDA reveiled the presence of negative values contained in the second numerical variable (`Var2`). Given the  interpretation of these variables as counters of some sort, a negative value appears unjustified, and as such need to be imputed. It is first noticed that `Var2` is the only numerical variable among those surveyed which does not contain null values. This may be indicative of the fact that negative values are used for this variable to effectively identify missing values.\n",
    "\n",
    "The above being said, the relative frequency of negative numbers in this feature is estimated as approximately 10%, which is aligned with the coverage of the other numerical variables. This reinforces the interpretation of a negative value in this column as representative of missing entries."
   ]
  },
  {
   "cell_type": "code",
   "execution_count": 9,
   "metadata": {},
   "outputs": [
    {
     "data": {
      "text/plain": [
       "0.10351229059565792"
      ]
     },
     "execution_count": 9,
     "metadata": {},
     "output_type": "execute_result"
    }
   ],
   "source": [
    "train_sample_EDA.filter(train_sample_EDA[\"Var2\"]<0).count()/train_sample_EDA.count()"
   ]
  },
  {
   "cell_type": "markdown",
   "metadata": {},
   "source": [
    "Owing to the above, it is decided to impute negative values with the average of the non-negative values of the same column."
   ]
  },
  {
   "cell_type": "code",
   "execution_count": 8,
   "metadata": {},
   "outputs": [],
   "source": [
    "from pyspark.sql.functions import avg\n",
    "avgNonnegVar2 = train_sample_EDA.filter(train_sample_EDA[\"Var2\"]>=0).agg(avg('Var2')).first()[0]\n",
    "from pyspark.sql.functions import when\n",
    "train_sample_EDA = train_sample_EDA.withColumn('Var2', when(train_sample_EDA['Var2']<0, avgNonnegVar2)\\\n",
    "                            .otherwise(train_sample_EDA.Var2))"
   ]
  },
  {
   "cell_type": "markdown",
   "metadata": {},
   "source": [
    "By the same token, missing values in all other numerical columns are imputed to the average of their respective columns."
   ]
  },
  {
   "cell_type": "code",
   "execution_count": 9,
   "metadata": {},
   "outputs": [],
   "source": [
    "numerical_cols = ['Var1','Var2','Var3','Var4','Var5','Var6','Var7',\\\n",
    "                  'Var8','Var9','Var10','Var11','Var12','Var13']\n",
    "for col in numerical_cols:\n",
    "    train_sample_EDA = train_sample_EDA.na.fill(round(train_sample_EDA.na.drop().agg(avg(col)).first()[0],1), [col])"
   ]
  },
  {
   "cell_type": "markdown",
   "metadata": {},
   "source": [
    "Next, a log(x+1) transformation is applied to all rows of the numerical columns. Such a transformation was chosen primarily for the log's transformation and handling of skewed data, but also getting an output of 0 when x = 0 (since log(0 + 1) = log(1) = 0).\n",
    "\n",
    "First, a unitary value is added to all columns."
   ]
  },
  {
   "cell_type": "code",
   "execution_count": 10,
   "metadata": {},
   "outputs": [],
   "source": [
    "from pyspark.sql.functions import col\n",
    "for col_add in numerical_cols:\n",
    "    train_sample_EDA = train_sample_EDA.withColumn(col_add, col(col_add) + 1)"
   ]
  },
  {
   "cell_type": "markdown",
   "metadata": {},
   "source": [
    "Then, the log transformation is applied."
   ]
  },
  {
   "cell_type": "code",
   "execution_count": 11,
   "metadata": {},
   "outputs": [],
   "source": [
    "from pyspark.sql.functions import log\n",
    "for col_log in numerical_cols:\n",
    "    train_sample_EDA = train_sample_EDA.withColumn(col_log, log(col_log))"
   ]
  },
  {
   "cell_type": "markdown",
   "metadata": {},
   "source": [
    "__Do we want to impute/discuss imputation of categorical variables here as well?__"
   ]
  },
  {
   "cell_type": "code",
   "execution_count": 193,
   "metadata": {},
   "outputs": [],
   "source": [
    "# A couple options: (TBD...)\n",
    "\n",
    "# For categorical: \n",
    "# Things to consider: (A) Cramer's value (pick only features that hit X threshold of Cramer's value)? \n",
    "# Option 1: Take the features that cover 95% of class CTR==1 only, code everything else + Null as a \"lump all\" category. \n",
    "# Cons of Option 1: Can we treat 'null' and 'everything else' equally? \n",
    "# Option 2: If count of a specific distinct value is < 10, we ignore that value. \n",
    "# Cons of Option 2: Doesn't exactly reduce dimensionality, especially when we have distinct values that skyrocket. "
   ]
  },
  {
   "cell_type": "markdown",
   "metadata": {},
   "source": [
    "# __Section 4__ - Algorithm Implementation"
   ]
  },
  {
   "cell_type": "code",
   "execution_count": 12,
   "metadata": {},
   "outputs": [],
   "source": [
    "#generate train data for homegrown solution - select only 10000 rows and only numerical features + target \n",
    "train_sample_red = train_sample_EDA.select(['CTR'] + numerical_cols).limit(10000).cache()"
   ]
  },
  {
   "cell_type": "code",
   "execution_count": 13,
   "metadata": {},
   "outputs": [],
   "source": [
    "#cache into rdd and apply log transformation\n",
    "train_sample_red_RDD = train_sample_red.rdd.map(lambda x: (x[0], np.array(x[1:]))).cache()"
   ]
  },
  {
   "cell_type": "code",
   "execution_count": 14,
   "metadata": {},
   "outputs": [],
   "source": [
    "def normalize(dataRDD):\n",
    "    \"\"\"\n",
    "    Scale and center data round mean of each feature.\n",
    "    Args:\n",
    "        dataRDD - records are tuples of (y, features_array)\n",
    "    Returns:\n",
    "        normedRDD - records are tuples of (y, features_array)\n",
    "    \"\"\"\n",
    "    featureMeans = dataRDD.map(lambda x: x[1]).mean()\n",
    "    featureStdev = np.sqrt(dataRDD.map(lambda x: x[1]).variance())\n",
    "    normedRDD = dataRDD.map(lambda x: (x[0], (x[1] - featureMeans)/featureStdev))\n",
    "\n",
    "    return normedRDD"
   ]
  },
  {
   "cell_type": "code",
   "execution_count": 15,
   "metadata": {},
   "outputs": [],
   "source": [
    "def LogLoss(dataRDD, W, regType = None, regParam=0.05):\n",
    "    \"\"\"\n",
    "    Compute log loss function.\n",
    "    Args:\n",
    "        dataRDD - each record is a tuple of (y, features_array)\n",
    "        W       - (array) model coefficients with bias at index 0\n",
    "        regType - (str) 'ridge' or 'lasso', defaults to None\n",
    "        regParam - (float) regularization term coefficient defaults to 0.1\n",
    "    Returns:\n",
    "        loss - (float) the regularized loss\n",
    "    \"\"\"\n",
    "    # add a bias 'feature' of 1 at index 0\n",
    "    augmentedData = dataRDD.map(lambda x: (np.append([1.0], x[1]), x[0])).cache()\n",
    "\n",
    "    # add regularization term\n",
    "    reg_term = 0\n",
    "    if regType == 'ridge':\n",
    "        reg_term = regParam*np.linalg.norm(W[1:])\n",
    "    elif regType == 'lasso':\n",
    "        reg_term = regParam*np.sum(np.abs(W[1:]))\n",
    "        \n",
    "    #broadcast model\n",
    "    #W = sc.broadcast(W) #uncomment this line when deploying it on the cloud\n",
    "    \n",
    "    # compute loss\n",
    "    loss = augmentedData.map(lambda x: x[1]*np.log(1 + np.exp(-np.dot(x[0], W))) + \\\n",
    "                             (1 - x[1])*(np.dot(x[0], W) + np.log(1 + np.exp(-np.dot(x[0], W))))).sum()\\\n",
    "                            /augmentedData.count() + reg_term\n",
    "    \n",
    "    return loss\n",
    "\n",
    "def LogLoss_grad(dataRDD, W, regType = None, regParam=0.05):\n",
    "    \"\"\"\n",
    "    Compute log loss function inside gradient descent.\n",
    "    Args:\n",
    "        dataRDD - each record is a tuple of (y, features_array)\n",
    "        W       - (array) model coefficients with bias at index 0\n",
    "        regType - (str) 'ridge' or 'lasso', defaults to None\n",
    "        regParam - (float) regularization term coefficient defaults to 0.1\n",
    "    Returns:\n",
    "        loss - (float) the regularized loss\n",
    "    \"\"\"\n",
    "\n",
    "    # add regularization term\n",
    "    reg_term = 0\n",
    "    if regType == 'ridge':\n",
    "        reg_term = regParam*np.linalg.norm(W[1:])\n",
    "    elif regType == 'lasso':\n",
    "        reg_term = regParam*np.sum(np.abs(W[1:]))\n",
    "    \n",
    "    # compute loss\n",
    "    loss = dataRDD.map(lambda x: x[1]*np.log(1 + np.exp(-np.dot(x[0], W))) + \\\n",
    "                             (1 - x[1])*(np.dot(x[0], W) + np.log(1 + np.exp(-np.dot(x[0], W))))).sum()\\\n",
    "                            /dataRDD.count() + reg_term\n",
    "    \n",
    "    return loss"
   ]
  },
  {
   "cell_type": "code",
   "execution_count": 16,
   "metadata": {},
   "outputs": [],
   "source": [
    "def GDUpdate(trainRDD, testRDD, W, nSteps = 20, regType = None, regParam=0.05, learningRate = 0.05, verbose = False):\n",
    "    \"\"\"\n",
    "    Perform nSteps of regularized gradient descent step/update.\n",
    "    Args:\n",
    "        dataRDD - records are tuples of (y, features_array)\n",
    "        W       - (array) model coefficients with bias at index 0\n",
    "        regType - (str) 'ridge' or 'lasso', defaults to None\n",
    "        regParam - (float) regularization term coefficient defaults to 0.1\n",
    "        learningRate - (float) defaults to 0.1\n",
    "    Returns:\n",
    "        new_model - (array) updated coefficients, bias at index 0\n",
    "        training_loss (float) training loss for new_model\n",
    "        test_loss (float) test loss for new_model\n",
    "    \"\"\"\n",
    "    # add a bias 'feature' of 1 at index 0\n",
    "    augmentedTrainData = trainRDD.map(lambda x: (np.append([1.0], x[1]), x[0])).cache()\n",
    "    augmentedTestData = testRDD.map(lambda x: (np.append([1.0], x[1]), x[0])).cache()\n",
    "    \n",
    "    # compute size of training sample\n",
    "    sizeTrainSample = augmentedTrainData.count()\n",
    "    \n",
    "    # initialize lists to track model performance\n",
    "    train_history, test_history, model_history = [], [], []\n",
    "    \n",
    "    # perform n updates & compute test and train loss after each\n",
    "    model = W\n",
    "    #broadcast model\n",
    "    #model = sc.broadcast(W) #uncomment this line when deploying it on the cloud\n",
    "    for idx in range(nSteps):\n",
    "        # add regularization term\n",
    "        reg_term = np.zeros(len(model))\n",
    "        if regType == 'ridge':\n",
    "            reg_term = np.append(0,2*regParam*model[1:])\n",
    "        elif regType == 'lasso':\n",
    "            reg_term = np.append(0,regParam*np.sign(model[1:]))\n",
    "    \n",
    "        # compute gradient\n",
    "        grad = augmentedTrainData.map(lambda x: ((1/(1 + np.exp(-np.dot(x[0], model))) - x[1])*x[0]))\\\n",
    "               .sum()/sizeTrainSample + reg_term\n",
    "    \n",
    "        #update model parameters\n",
    "        new_model = model - learningRate*grad\n",
    "        #new_model = sc.broadcast(new_model) #uncomment this line when deploying it on the cloud\n",
    "        training_loss = LogLoss_grad(augmentedTrainData, new_model, regType=regType, regParam=regParam)\n",
    "        test_loss = LogLoss_grad(augmentedTestData, new_model, regType=regType, regParam=regParam)\n",
    "        \n",
    "        # keep track of test/train loss for plotting\n",
    "        train_history.append(training_loss)\n",
    "        test_history.append(test_loss)\n",
    "        model_history.append(new_model)\n",
    "        \n",
    "        # console output if desired\n",
    "        if verbose:\n",
    "            print(\"----------\")\n",
    "            print(f\"STEP: {idx+1}\")\n",
    "            print(f\"training loss: {training_loss}\")\n",
    "            print(f\"test loss: {test_loss}\")\n",
    "            print(f\"Model: {[k for k in new_model]}\")\n",
    "        \n",
    "        model = new_model\n",
    "        #broadcast model\n",
    "        #model = sc.broadcast(new_model) #uncomment this line when deploying it on the cloud\n",
    "   \n",
    "    return train_history, test_history, model_history"
   ]
  },
  {
   "cell_type": "code",
   "execution_count": 17,
   "metadata": {},
   "outputs": [],
   "source": [
    "def makePrediction(dataRDD, W, treshProb=0.5):\n",
    "    \"\"\"\n",
    "    Make predictions of target and compute number of: true positives, true negatives, \n",
    "    false positive, false negatives .\n",
    "    Args:\n",
    "        dataRDD - records are tuples of (y, features_array)\n",
    "        W       - (array) model coefficients with bias at index 0\n",
    "        treshProb- (float) threshold probability for imputation of positive labels\n",
    "    Returns:\n",
    "        pred - (rdd) predicted targets\n",
    "        ntp - (integer) number of true positives\n",
    "        ntn - (integer) number of true negatives\n",
    "        nfp - (integer) number of false positives\n",
    "        nfn - (integer) number of false negatives\n",
    "    \"\"\"\n",
    "    # add a bias 'feature' of 1 at index 0\n",
    "    augmentedData = dataRDD.map(lambda x: (np.append([1.0], x[1]), x[0])).cache()\n",
    "    \n",
    "    # compute prediction\n",
    "    pred = augmentedData.map(lambda x: (int((1/(1 + np.exp(-np.dot(x[0], W))))>treshProb), x[1] )).cache()\n",
    "    \n",
    "    ntp = pred.map(lambda x: int((x[0]*x[1]) == 1)).sum()\n",
    "    ntn = pred.map(lambda x: int((x[0]+x[1]) == 0)).sum()\n",
    "    nfp = pred.map(lambda x: int((x[0] == 1) * (x[1] == 0))).sum()\n",
    "    nfn = pred.map(lambda x: int((x[0] == 0) * (x[1] == 1))).sum()\n",
    "   \n",
    "    return pred, ntp, ntn, nfp, nfn"
   ]
  },
  {
   "cell_type": "code",
   "execution_count": 18,
   "metadata": {},
   "outputs": [],
   "source": [
    "# normalize features\n",
    "normedRDD = normalize(train_sample_red_RDD).cache()"
   ]
  },
  {
   "cell_type": "code",
   "execution_count": 19,
   "metadata": {},
   "outputs": [],
   "source": [
    "#split into train, validation and test sets\n",
    "train, validation, test = normedRDD.randomSplit([0.6, 0.2, 0.2], seed=200)"
   ]
  },
  {
   "cell_type": "code",
   "execution_count": 20,
   "metadata": {},
   "outputs": [],
   "source": [
    "#compute the number of features\n",
    "numb_features = len(train_sample_red.columns) - 1\n",
    "#define baseline model, add one parameter representing the intercept\n",
    "BASELINE = np.random.randn(numb_features + 1)"
   ]
  },
  {
   "cell_type": "code",
   "execution_count": 37,
   "metadata": {},
   "outputs": [
    {
     "data": {
      "image/png": "[encoded data removed]",
      "text/plain": [
       "<Figure size 432x288 with 1 Axes>"
      ]
     },
     "metadata": {},
     "output_type": "display_data"
    }
   ],
   "source": [
    "nSteps = 200\n",
    "regType = 'ridge'\n",
    "regParam = 0.05\n",
    "learningRate = 0.1\n",
    "\n",
    "# run gradient descent\n",
    "train_loss, test_loss, model = GDUpdate(train, validation, BASELINE, nSteps, regType=regType, \n",
    "                                        regParam=regParam, learningRate=learningRate, verbose = False)\n",
    "\n",
    "plt.plot(train_loss, label='train loss')\n",
    "plt.plot(test_loss, label='test loss')\n",
    "plt.title('Loss')\n",
    "plt.show()"
   ]
  },
  {
   "cell_type": "markdown",
   "metadata": {},
   "source": []
  },
  {
   "cell_type": "code",
   "execution_count": 38,
   "metadata": {},
   "outputs": [
    {
     "name": "stdout",
     "output_type": "stream",
     "text": [
      "Accuracy is:  0.7569410618606917\n",
      "Precision is:  0.6153846153846154\n",
      "Recall is:  0.09284332688588008\n",
      "F1 score is:  0.1613445378151261\n",
      "False positive rate is:  0.01953125\n",
      "True positive rate is:  0.09284332688588008\n"
     ]
    }
   ],
   "source": [
    "# make predictions and compute metrics for treshProb = 0.5\n",
    "pred, ntp, ntn, nfp, nfn = makePrediction(validation, model[-1], 0.5)\n",
    "\n",
    "acc = (ntp+ntn)/(ntp+ntn+nfp+nfn)\n",
    "prec = (ntp)/(ntp+nfp)\n",
    "rec = (ntp)/(ntp+nfn)\n",
    "f1 = 2*prec*rec/(prec+rec)\n",
    "fpr = nfp/(ntn+nfp)\n",
    "tpr = ntp/(ntp+nfn)\n",
    "print('Accuracy is: ', acc)\n",
    "print('Precision is: ', prec)\n",
    "print('Recall is: ', rec)\n",
    "print('F1 score is: ', f1)\n",
    "print('False positive rate is: ', fpr)\n",
    "print('True positive rate is: ', tpr)"
   ]
  },
  {
   "cell_type": "code",
   "execution_count": 39,
   "metadata": {},
   "outputs": [
    {
     "name": "stdout",
     "output_type": "stream",
     "text": [
      "0.225 :  0.5066794206402915\n"
     ]
    },
    {
     "data": {
      "text/plain": [
       "Text(0,0.5,'True positive rate')"
      ]
     },
     "execution_count": 39,
     "metadata": {},
     "output_type": "execute_result"
    },
    {
     "data": {
      "image/png": "[encoded data removed]",
      "text/plain": [
       "<Figure size 432x288 with 1 Axes>"
      ]
     },
     "metadata": {},
     "output_type": "display_data"
    }
   ],
   "source": [
    "# generate ROC curve on validation set\n",
    "tprSave = []\n",
    "fprSave = []\n",
    "probs = np.arange(0.0, 1.0, 0.025)\n",
    "for i in probs:\n",
    "    pred, ntp, ntn, nfp, nfn = makePrediction(validation, model[-1], i)\n",
    "    fprSave.append(nfp/(ntn+nfp))\n",
    "    tprSave.append(ntp/(ntp+nfn))\n",
    "\n",
    "#distance from the upper-left corner of the ROC curve - the lower, the better\n",
    "perf = np.sqrt((np.array(fprSave))**2+(1-np.array(tprSave))**2)\n",
    "print(probs[np.argmin(perf)],': ' , np.min(perf))\n",
    "\n",
    "plt.plot(fprSave, tprSave)\n",
    "plt.xlabel('False positive rate')\n",
    "plt.ylabel('True positive rate')"
   ]
  },
  {
   "cell_type": "code",
   "execution_count": 40,
   "metadata": {},
   "outputs": [
    {
     "name": "stdout",
     "output_type": "stream",
     "text": [
      "Accuracy is:  0.6569230769230769\n",
      "Precision is:  0.37799043062200954\n",
      "Recall is:  0.6795698924731183\n",
      "F1 score is:  0.48578016910069177\n",
      "False positive rate is:  0.3501683501683502\n",
      "True positive rate is:  0.6795698924731183\n"
     ]
    }
   ],
   "source": [
    "# make predictions and compute metrics for optimal treshProb on test dataset\n",
    "pred, ntp, ntn, nfp, nfn = makePrediction(test, model[-1], probs[np.argmin(perf)])\n",
    "\n",
    "acc = (ntp+ntn)/(ntp+ntn+nfp+nfn)\n",
    "prec = (ntp)/(ntp+nfp)\n",
    "rec = (ntp)/(ntp+nfn)\n",
    "f1 = 2*prec*rec/(prec+rec)\n",
    "fpr = nfp/(ntn+nfp)\n",
    "tpr = ntp/(ntp+nfn)\n",
    "print('Accuracy is: ', acc)\n",
    "print('Precision is: ', prec)\n",
    "print('Recall is: ', rec)\n",
    "print('F1 score is: ', f1)\n",
    "print('False positive rate is: ', fpr)\n",
    "print('True positive rate is: ', tpr)"
   ]
  },
  {
   "cell_type": "markdown",
   "metadata": {},
   "source": [
    "### Factorization Machines"
   ]
  },
  {
   "cell_type": "markdown",
   "metadata": {},
   "source": [
    "The logistic regression will take care of the linear terms, now to account for the interaction term, we expand to include 2nd Degree polynomial features. The below equation represents the formulation.\n",
    "\n",
    "\\begin{align}\n",
    "\\hat{y}(\\textbf{x}) = w_{0} + \\sum_{i=1}^{n} w_{i} x_{i} +  \\sum_{i=1}^n \\sum_{j=i+1}^n w_{ij} x_{i} x_{j}\n",
    "\\end{align}\n",
    "\n",
    "The challenge with solving the above equation is that the time complexity is $O(n^2)$\n",
    "\n",
    "In order to work with this, we use a matrix factorization technique for the interaction terms, inspired by Matrix factorization. We introduce a hyperpameter K which represent the latent factors for factorizing the weight vector $w_{ij}$.\n",
    "\n",
    "\\begin{align}\n",
    "\\hat{y}(\\textbf{x}) = w_{0} + \\sum_{i=1}^{n} w_{i} x_{i} + \\sum_{i=1}^{n} \\sum_{j=i+1}^n \\langle \\textbf{v}_i , \\textbf{v}_{j} \\rangle x_i x_{j}\n",
    "\\end{align}\n",
    "\n",
    "\n",
    "Using the computation specified in Stephen Rendles paper, we can simplify the interaction term to the below equation.\n",
    "\n",
    "\\begin{align}\n",
    "\\sum_{i=1}^n \\sum_{j=i+1}^n \\langle \\textbf{v}_i, \\textbf{v}_{j} \\rangle x_{i} x_{j}\n",
    "&= \\frac{1}{2} \\sum_{i=1}^n \\sum_{j=1}^n \\langle \\textbf{v}_i, \\textbf{v}_{j} \\rangle x_{i} x_{j} - \\frac{1}{2} \\sum_{i=1}^n \\langle \\textbf{v}_i , \\textbf{v}_{i} \\rangle x_{i} x_{i}  \\\\\n",
    "&= \\frac{1}{2}\\left(\\sum_{i=1}^n \\sum_{j=1}^n \\sum_{f=1}^k v_{i,f} v_{j,f} x_{i} x_{j} \\right)\\frac{1}{2}\\left( \\sum_{i=1}^n \\sum_{f=1}^k v_{i,f} v_{i,f} x_{i} x_{i} \\right) \\\\\n",
    "&= \\frac{1}{2}\\left(\\sum_{i=1}^n \\sum_{j=1}^n \\sum_{f=1}^k v_{i,f} v_{j,f} x_{i} x_{j}  -  \\sum_{i=1}^n \\sum_{f=1}^k v_{i,f} v_{i,f} x_{i} x_{i} \\right) \\\\\n",
    "&= \\frac{1}{2} \\sum_{f=1}^{k} \\left( \\left(\\sum_{i=1}^n v_{i,f}x_{i} \\right) \\left( \\sum_{j=1}^n v_{j,f}x_{j} \\right) - \\sum_{i=1}^{n} v_{i,f}^2 x_{i}^2 \\right) \\\\\n",
    "&= \\frac{1}{2} \\sum_{f=1}^{k} \\left( \\left( \\sum_{i}^{n} v_{i,f}x_{i} \\right)^2  - \\sum_{i=1}^{n} v_{i,f}^2 x_{i}^2 \\right)\n",
    "\\end{align}\n",
    "\n",
    "So, we can rewrite the equation to compute in $O(n)$ as\n",
    "\\begin{align}\n",
    "\\hat{y}(\\textbf{x}) = w_{0} + \\sum_{i=1}^{n} w_{i} x_{i} + \\frac{1}{2} \\sum_{f=1}^{k} \\left( \\left( \\sum_{i}^{n} v_{i,f}x_{i} \\right)^2  - \\sum_{i=1}^{n} v_{i,f}^2 x_{i}^2 \\right)\n",
    "\\end{align}\n",
    "\n",
    "#### Gradient\n",
    "\n",
    "For our classification problem, we can define the gradients as :\n",
    "\n",
    "\\begin{align}\n",
    "\\frac{\\partial}{\\partial\\theta}\\hat{y}(\\textbf{x}) =\n",
    "\\begin{cases}\n",
    "1,  & \\text{if $\\theta$ is $w_0$} \\\\\n",
    "x_i, & \\text{if $\\theta$ is $w_i$} \\\\\n",
    "x_i\\sum_{j=1}^{n} v_{j,f}x_j - v_{i,f}x_{i}^2 & \\text{if $\\theta$ is $v_{i,f}$}\n",
    "\\end{cases}\n",
    "\\end{align}\n",
    "\n",
    "#### For labels -1&1\n",
    "\\begin{align}\n",
    "\\frac{\\partial}{\\partial \\hat{y} }(\\textbf{L}) =\n",
    "\\frac{d}{d \\hat{y}}\\left[ -y \\hat{y} + \\ln \\big(e^{y \\hat{y}} + 1 \\big) \\right] \n",
    "&= \\frac{1}{e^{y \\hat{y}} + 1} \\cdot  \\frac{d}{dx}\\left[e^{y \\hat{y}} + 1 \\right] - y \\\\\n",
    "&= \\frac{ye^{y \\hat{y}}}{e^{y \\hat{y}} + 1} - y\\\\\n",
    "&= \\frac{-y}{e^{y \\hat{y}} + 1}\n",
    "\\end{align}\n",
    "\n",
    "#### For labels 0,1\n",
    "\\begin{align}\n",
    "\\frac{\\partial}{\\partial \\hat{y} }(\\textbf{L}) =\n",
    "\\frac{d}{d \\hat{y}}\\left[ -y \\hat{y} + \\ln \\big(e^{ \\hat{y}} + 1 \\big) \\right] \n",
    "&= \\frac{1}{e^{\\hat{y}} + 1} \\cdot  \\frac{d}{dx}\\left[e^{ \\hat{y}} + 1 \\right] - y \\\\\n",
    "&= \\frac{e^{ \\hat{y}}}{e^{\\hat{y}} + 1} - y\\\\\n",
    "&= \\frac{-y-e^{\\hat{y}}(y-1)}{e^{ \\hat{y}} + 1}\n",
    "\\end{align}\n",
    "\n",
    "The gradient of loss is defined by (by using chain rule):\n",
    "\n",
    "\\begin{align}\n",
    "\\frac{\\partial}{\\partial \\theta }(\\textbf{L}) = \n",
    "\\frac{\\partial}{\\partial \\hat{y} }(\\textbf{L}) \\centerdot \\frac{\\partial}{\\partial \\theta}\\hat{y}(\\textbf{x}) \n",
    "\\end{align}\n",
    "\n"
   ]
  },
  {
   "cell_type": "code",
   "execution_count": 22,
   "metadata": {},
   "outputs": [],
   "source": [
    "def fmLoss(dataRDD, w, w1,w0) :\n",
    "    \"\"\"\n",
    "    Computes the logloss given the data and model W\n",
    "    dataRDD - array of features, label\n",
    "    \"\"\"\n",
    "    w_bc = sc.broadcast(w)\n",
    "    w1_bc = sc.broadcast(w1)\n",
    "    w0_bc = sc.broadcast(w0)\n",
    "    def probability_value(x,W,W1,W0): \n",
    "        xa = np.array([x])\n",
    "        V =  xa.dot(W)\n",
    "        V_square = (xa*xa).dot(W*W)\n",
    "        phi = 0.5*(V*V - V_square).sum() + xa.dot(W1.T) + W0\n",
    "        return 1.0/(1.0 + np.exp(-phi))\n",
    "    \n",
    "    loss = dataRDD.map(lambda x: (x[0],x[1]) if x[0] == 1 else (-1, x[1])).map(lambda x:  (probability_value(x[1],w_bc.value, w1_bc.value, w0_bc.value), x[0])) \\\n",
    "        .map(lambda x: (1 - 1e-12, x[1]) if x[0] == 1 else ((1e-12, x[1]) if x[0] == 0  else (x[0],x[1]))) \\\n",
    "        .map(lambda x: -(x[1] * np.log(x[0]) + (1-x[1])*np.log(1-x[0]))).mean()\n",
    "    \n",
    "    \n",
    "    return float(loss)"
   ]
  },
  {
   "cell_type": "code",
   "execution_count": 23,
   "metadata": {},
   "outputs": [],
   "source": [
    "def fmGradUpdate_v1(dataRDD, w, w1, w0, alpha, regParam, regParam1, regParam0):\n",
    "    \"\"\"\n",
    "    Computes the gradient and updates the model\n",
    "    \"\"\"\n",
    "    \n",
    "    w_bc = sc.broadcast(w)\n",
    "    w1_bc = sc.broadcast(w1)\n",
    "    w0_bc = sc.broadcast(w0)\n",
    "    rp_bc = sc.broadcast(regParam)\n",
    "    rp1_bc = sc.broadcast(regParam1)\n",
    "    rp0_bc = sc.broadcast(regParam0)\n",
    "    \n",
    "    #Gradient for interaction term\n",
    "    \n",
    "    def row_grad(x, y, W, W1, W0, regParam, regParam1, regParam0):\n",
    "        xa = np.array([x])\n",
    "        VX =  xa.dot(W)\n",
    "        VX_square = (xa*xa).dot(W*W)\n",
    "        phi = 0.5*(VX*VX - VX_square).sum() + xa.dot(W1.T) + W0\n",
    "        expnyt = np.exp(y*phi) \n",
    "        grad_loss = (-y/(1+expnyt))*(xa.T.dot(xa).dot(W) - np.diag(np.square(x)).dot(W))\n",
    "        return 2*regParam*W + grad_loss\n",
    "    \n",
    "    #Gradient for Linear term\n",
    "    def row_grad1(x, y, W, W1, W0, regParam, regParam1, regParam0):\n",
    "        xa = np.array([x])\n",
    "        VX =  xa.dot(W)\n",
    "        VX_square = (xa*xa).dot(W*W)\n",
    "        phi = 0.5*(VX*VX - VX_square).sum() + xa.dot(W1.T) + W0\n",
    "        expnyt = np.exp(y*phi)\n",
    "        grad_loss1 = (-y/(1+expnyt))*xa\n",
    "        return 2*regParam1*W1 + grad_loss1\n",
    "    \n",
    "    #Gradient for bias term\n",
    "    def row_grad0(x, y, W, W1, W0, regParam, regParam1, regParam0):\n",
    "        xa = np.array([x])\n",
    "        VX =  xa.dot(W)\n",
    "        VX_square = (xa*xa).dot(W*W)\n",
    "        phi = 0.5*(VX*VX - VX_square).sum() + xa.dot(W1.T) + W0\n",
    "        expnyt = np.exp(y*phi)\n",
    "        grad_loss0 = (-y/(1+expnyt))*1\n",
    "        return 2*regParam0*W0 +grad_loss0\n",
    "    \n",
    "   \n",
    "    \n",
    "    batchRDD = dataRDD.sample(False, 0.01, 2019)  \n",
    "    grad = batchRDD.map(lambda x: (x[0],x[1]) if x[0] == 1 else (-1, x[1])).map(lambda x: (1, row_grad(x[1], x[0], w_bc.value, w1_bc.value, w0_bc.value, rp_bc.value,rp1_bc.value,rp0_bc.value))).reduceByKey(lambda x,y: np.add(x,y))\n",
    "    model = w - alpha * grad.values().collect()[0] \n",
    "    \n",
    "    grad1 = batchRDD.map(lambda x: (x[0],x[1]) if x[0] == 1 else (-1, x[1])).map(lambda x: (1, row_grad1(x[1], x[0], w_bc.value, w1_bc.value, w0_bc.value, rp_bc.value,rp1_bc.value,rp0_bc.value))).reduceByKey(lambda x,y: np.add(x,y))\n",
    "    model1 = w1 - alpha * grad1.values().collect()[0]\n",
    "    \n",
    "    grad0 = batchRDD.map(lambda x: (x[0],x[1]) if x[0] == 1 else (-1, x[1])).map(lambda x: (1, row_grad0(x[1], x[0], w_bc.value, w1_bc.value, w0_bc.value, rp_bc.value,rp1_bc.value,rp0_bc.value))).reduceByKey(lambda x,y: np.add(x,y))\n",
    "    model0 = w0 - alpha * grad0.values().collect()[0]\n",
    "    \n",
    "    return model, model1 ,model0\n",
    "    "
   ]
  },
  {
   "cell_type": "code",
   "execution_count": 24,
   "metadata": {},
   "outputs": [],
   "source": [
    "def GradientDescent(trainRDD, testRDD, model, model1, model0, nSteps = 20, \n",
    "                    learningRate = 0.01, regParam = 0.01,regParam1 = 0.01,regParam0 = 0.01, verbose = False):\n",
    "    \"\"\"\n",
    "    Perform nSteps iterations of OLS gradient descent and \n",
    "    track loss on a test and train set. Return lists of\n",
    "    test/train loss and the models themselves.\n",
    "    \"\"\"\n",
    "    # initialize lists to track model performance\n",
    "    train_history, test_history, model_history, model1_history, model0_history = [], [], [], [], []\n",
    "    \n",
    "    # perform n updates & compute test and train loss after each\n",
    "    model = wInit\n",
    "    model1 = wInit1\n",
    "    model0 = wInit0\n",
    "    for idx in range(nSteps): \n",
    "        \n",
    "        ############## YOUR CODE HERE #############\n",
    "        \n",
    "        model, model1, model0 = fmGradUpdate_v1(trainRDD, model, model1, model0, learningRate, regParam, regParam1, regParam0)\n",
    "        training_loss = fmLoss(trainRDD, model, model1, model0) \n",
    "        test_loss = fmLoss(testRDD, model, model1, model0) \n",
    "        ############## (END) YOUR CODE #############\n",
    "        # keep track of test/train loss for plotting\n",
    "        train_history.append(training_loss)\n",
    "        test_history.append(test_loss)\n",
    "        model_history.append(model)\n",
    "        model1_history.append(model1)\n",
    "        model0_history.append(model0)\n",
    "        \n",
    "        # console output if desired\n",
    "        if verbose:\n",
    "            print(\"----------\")\n",
    "            print(f\"STEP: {idx+1}\")\n",
    "            print(f\"training loss: {training_loss}\")\n",
    "            print(f\"test loss: {test_loss}\")\n",
    "            #print(f\"Model: {[k for k in model]}\")\n",
    "   \n",
    "    return train_history, test_history, model_history, model1_history, model0_history"
   ]
  },
  {
   "cell_type": "code",
   "execution_count": 25,
   "metadata": {},
   "outputs": [],
   "source": [
    "def wInitialization(dataRDD, factor):\n",
    "    nrFeat = len(dataRDD.first()[1])\n",
    "    np.random.seed(int(time.time())) \n",
    "    w =  np.random.ranf((nrFeat, factor))\n",
    "    w = w / np.sqrt((w*w).sum())\n",
    "    \n",
    "    w1 =  np.random.ranf(nrFeat)\n",
    "    w1 = w1 / np.sqrt((w1*w1).sum())\n",
    "    \n",
    "    w0 =  np.random.ranf(1)\n",
    "    \n",
    "    return w, w1, w0"
   ]
  },
  {
   "cell_type": "code",
   "execution_count": null,
   "metadata": {},
   "outputs": [
    {
     "name": "stdout",
     "output_type": "stream",
     "text": [
      "----------\n",
      "STEP: 1\n",
      "training loss: 2.5145740236000593\n",
      "test loss: 2.6119237063792937\n",
      "----------\n",
      "STEP: 2\n",
      "training loss: 1.6852464572870445\n",
      "test loss: 1.7561552201332404\n",
      "----------\n",
      "STEP: 3\n",
      "training loss: 1.1257873518006614\n",
      "test loss: 1.1777418372393724\n",
      "----------\n",
      "STEP: 4\n",
      "training loss: 0.7383719342093316\n",
      "test loss: 0.7760927624417066\n",
      "----------\n",
      "STEP: 5\n",
      "training loss: 0.46374464568493085\n",
      "test loss: 0.4905294835054661\n",
      "----------\n",
      "STEP: 6\n",
      "training loss: 0.2627317564227274\n",
      "test loss: 0.28092319932853976\n",
      "----------\n",
      "STEP: 7\n",
      "training loss: 0.11085935782171655\n",
      "test loss: 0.12215120575838116\n",
      "----------\n",
      "STEP: 8\n",
      "training loss: -0.007081911216139475\n",
      "test loss: -0.0014376233778369105\n"
     ]
    }
   ],
   "source": [
    "start = time.time()\n",
    "wInit, wInit1, wInit0 = wInitialization(train, 2)\n",
    "logerr_train, logerr_test, models, model1s, model0s = GradientDescent(train, validation, wInit, wInit1, wInit0, nSteps = 100,\n",
    "                                                    learningRate = 0.002, regParam = 0.01, regParam1 = 0.01, regParam0 = 0.01, verbose = True)"
   ]
  },
  {
   "cell_type": "code",
   "execution_count": null,
   "metadata": {},
   "outputs": [],
   "source": [
    "#print(f\"The estimated model is: {models[-1]}\")\n",
    "print(f\"The loss of the estimated model is: {logerr_train[-1]}\")\n",
    "print()\n",
    "print()\n",
    "plt.plot(logerr_train)\n",
    "plt.plot(logerr_test)\n",
    "plt.title('Loss')\n",
    "plt.show()"
   ]
  },
  {
   "cell_type": "code",
   "execution_count": null,
   "metadata": {},
   "outputs": [],
   "source": [
    "def fmMakePrediction(dataRDD, w, w1, w0):\n",
    "    \"\"\"\n",
    "    Perform one regularized gradient descent step/update.\n",
    "    Args:\n",
    "        dataRDD - records are tuples of (y, features_array)\n",
    "        W       - (array) model coefficients with bias at index 0\n",
    "    Returns:\n",
    "        pred - (rdd) predicted targets\n",
    "    \"\"\"\n",
    "    w_bc = sc.broadcast(w)\n",
    "    w1_bc = sc.broadcast(w1)\n",
    "    w0_bc = sc.broadcast(w0)\n",
    "    def predict_fm(x, W, W1, W0):\n",
    "        xa = np.array([x])\n",
    "        VX =  xa.dot(W)\n",
    "        VX_square = (xa*xa).dot(W*W)\n",
    "        phi = 0.5*(VX*VX - VX_square).sum() + xa.dot(W1.T) + W0\n",
    "        return 1.0/(1.0 + np.exp(-phi))\n",
    "    \n",
    "    # compute prediction\n",
    "    pred = dataRDD.map(lambda x: (int(predict_fm(x[1],w_bc.value, w1_bc.value, w0_bc.value)>0.5), x[0] ))\n",
    "    ntp = pred.map(lambda x: int((x[0]*x[1]) == 1)).sum()\n",
    "    ntn = pred.map(lambda x: int((x[0]+x[1]) == 0)).sum()\n",
    "    nfp = pred.map(lambda x: int((x[0] == 1) * (x[1] == 0))).sum()\n",
    "    nfn = pred.map(lambda x: int((x[0] == 0) * (x[1] == 1))).sum()\n",
    "   \n",
    "    return pred, ntp, ntn, nfp, nfn\n",
    "   \n",
    "    return pred"
   ]
  },
  {
   "cell_type": "code",
   "execution_count": null,
   "metadata": {},
   "outputs": [],
   "source": [
    "pred, ntp, ntn, nfp, nfn = fmMakePrediction(validation, models[-1], model1s[-1], model0s[-1])\n",
    "\n",
    "cc = (ntp+ntn)/(ntp+ntn+nfp+nfn)\n",
    "prec = (ntp)/(ntp+nfp)\n",
    "rec = (ntp)/(ntp+nfn)\n",
    "f1 = 2*prec*rec/(prec+rec)\n",
    "fpr = nfp/(ntn+nfp)\n",
    "tpr = ntp/(ntp+nfn)\n",
    "print('Accuracy is: ', acc)\n",
    "print('Precision is: ', prec)\n",
    "print('Recall is: ', rec)\n",
    "print('F1 score is: ', f1)\n",
    "print('False positive rate is: ', fpr)\n",
    "print('True positive rate is: ', tpr)"
   ]
  },
  {
   "cell_type": "markdown",
   "metadata": {},
   "source": [
    "## 4.1 Adding Categorical Variables"
   ]
  },
  {
   "cell_type": "markdown",
   "metadata": {},
   "source": [
    "### Summary\n",
    "The earlier section showed a logistic regression model with numerical variables only. In this section, we incrementally add categorical variables and redo the logistic regression model on a small data set. Categorical variables present a challenge because each of them can have a million different values thereby creating millions of dimensions. To get around \"the curse of dimensionality\", we looked at quite a few methods to reduce the dimensions to a manageable level. This includes frequency based dimensionality reduction and hashing techniques at a feature level and at a collection of features. "
   ]
  },
  {
   "cell_type": "markdown",
   "metadata": {},
   "source": [
    "### \"The curse of dimensionality\" with categorical variables\n",
    "Below, we take a look at the number of dimensions in the train_sample dataset for each categorical variable"
   ]
  },
  {
   "cell_type": "code",
   "execution_count": 24,
   "metadata": {},
   "outputs": [
    {
     "name": "stdout",
     "output_type": "stream",
     "text": [
      "Column _15 has 541 unique categorical values\n",
      "Column _16 has 497 unique categorical values\n",
      "Column _17 has 43870 unique categorical values\n",
      "Column _18 has 25184 unique categorical values\n",
      "Column _19 has 145 unique categorical values\n",
      "Column _20 has 12 unique categorical values\n",
      "Column _21 has 7623 unique categorical values\n",
      "Column _22 has 257 unique categorical values\n",
      "Column _23 has 3 unique categorical values\n",
      "Column _24 has 10997 unique categorical values\n",
      "Column _25 has 3799 unique categorical values\n",
      "Column _26 has 41312 unique categorical values\n",
      "Column _27 has 2796 unique categorical values\n",
      "Column _28 has 26 unique categorical values\n",
      "Column _29 has 5238 unique categorical values\n",
      "Column _30 has 34617 unique categorical values\n",
      "Column _31 has 10 unique categorical values\n",
      "Column _32 has 2548 unique categorical values\n",
      "Column _33 has 1303 unique categorical values\n",
      "Column _34 has 4 unique categorical values\n",
      "Column _35 has 38618 unique categorical values\n",
      "Column _36 has 11 unique categorical values\n",
      "Column _37 has 14 unique categorical values\n",
      "Column _38 has 12335 unique categorical values\n",
      "Column _39 has 51 unique categorical values\n",
      "Column _40 has 9527 unique categorical values\n",
      "Total number of distinct categorical variables in train_sample is: 241338\n"
     ]
    }
   ],
   "source": [
    "# number of unique categorical values\n",
    "from pyspark.sql.functions import col\n",
    "distCatVarCnt = 0\n",
    "for col in train_sample.columns[14:]:\n",
    "    cnt = train_sample.select(col).distinct().count()\n",
    "    print('Column ' + col + ' has ' + str(cnt) \\\n",
    "          + ' unique categorical values')\n",
    "    distCatVarCnt += cnt\n",
    "print(\"Total number of distinct categorical variables in train_sample is:\", distCatVarCnt)"
   ]
  },
  {
   "cell_type": "markdown",
   "metadata": {},
   "source": [
    "As we can see above, the number of unique categorical variables is close to 3 million just for the train_sample dataset. We need to look into reducing the dimensionality without losing too much of information."
   ]
  },
  {
   "cell_type": "markdown",
   "metadata": {},
   "source": [
    "### 4.1.1 Per column frequency based dimensionality reduction\n",
    "\n",
    "One possible methold is to figure out if there are any frequent values in these categorical variables and choose the top 15 of them. If they make up nearly 100% of the values, then we can lump the rest under \"Other\" and come up with 16 column bins. This is a compute intensive operation as we try to figure out the top 15 values for each column and their contribution to the total count"
   ]
  },
  {
   "cell_type": "code",
   "execution_count": null,
   "metadata": {},
   "outputs": [],
   "source": [
    "train_sample_rdd = sc.textFile('data/sample_training.txt')\n",
    "\n",
    "def getTop15FreqCols (rdd):\n",
    "    \n",
    "    #First get a count of rdd length\n",
    "    rddLen = rdd.count()\n",
    "\n",
    "    #Create pandas dataframe to store the top 15 values\n",
    "    top15df = pd.DataFrame(columns=['col', 'top15_values', 'top15_pct_contribution'])\n",
    "\n",
    "    for col in range(14,40):\n",
    "        catRdd = rdd.map(lambda x: x.split('\\t')[col]) \\\n",
    "                    .map(lambda x: (x,1)) \\\n",
    "                    .reduceByKey(lambda x,y: x + y)\n",
    "    \n",
    "        freqRecord = catRdd.takeOrdered(15, key=lambda x: -x[1])\n",
    "        freqList = []\n",
    "        freqCnt = 0\n",
    "        for (k,v) in freqRecord:\n",
    "            freqCnt += v\n",
    "            freqList.append(str(k))\n",
    "        top15df = top15df.append({'col': col, 'top15_values': freqList, 'top15_pct_contribution': 100*freqCnt/rddLen}, ignore_index=True)\n",
    "    \n",
    "    return(top15df)\n",
    "\n",
    "top15df = getTop15FreqCols(train_sample_rdd)\n",
    "\n",
    "#top15df = top15df.set_index('col')\n",
    "    \n",
    "print(top15df.to_string())"
   ]
  },
  {
   "cell_type": "markdown",
   "metadata": {},
   "source": [
    "From the above analysis, we can see that the categorical variables in some of the columns account for almost 100% of all values. These include columns 14, 18, 19, 21, 22, 27, 30, 32, 33, 35, 36 and 38. For these 11 columns, it would make sense to keep the top 15 values and lump everything else under an \"Other\" column.\n",
    "\n",
    "For the rest of the columns that don't exhibit this behavior, it might make sense to look at other strategies such as hashing to reduce dimensionality. Before we take this approach of using both the frequency related information and hashing, let's first take a look at hashing all columns next."
   ]
  },
  {
   "cell_type": "markdown",
   "metadata": {},
   "source": [
    "### 4.1.2 Per column Feature Hashing\n",
    "There are 26 categorical features in this model represented by strings that are 8 bytes long. So, theoretically, each string can take $2^{64} -1$ different values and lead to that many dimensions. We need to have far fewer dimensions so that we can make the problem computationally achievable and as well lead to a generalized algorithm as well. One way of achieving this is through what is popularly called the \"hashing trick\" (provide references). \n",
    "\n",
    "A simple way to reduce dimensionality is to hash the 8 byte long strings into, say 16 or 32 groups. We used the murmurHash3 hashing which is generally the preferred way of hashing strings (provide references and more details). Hashing leads to collisions as many strings could end up hashing to the same hash value. However, it has been proven (references) that even with collisions, hashing leads to very generalized models.\n",
    "\n",
    "One the categorical variables are hashed down to, say 16 values, they are then 1-hot encoded and fed into the logistic regression model. This section presents the results with the inclusion of 27 categorical variables, each individually hashed to 16 values, in addition to the numerical variables in the earlier section. "
   ]
  },
  {
   "cell_type": "code",
   "execution_count": 41,
   "metadata": {},
   "outputs": [
    {
     "name": "stdout",
     "output_type": "stream",
     "text": [
      "Collecting murmurhash3\n",
      "  Downloading https://files.pythonhosted.org/packages/b5/f4/1f9c4851667a2541bd151b8d9efef707495816274fada365fa6a31085a32/murmurhash3-2.3.5.tar.gz\n",
      "Building wheels for collected packages: murmurhash3\n",
      "  Running setup.py bdist_wheel for murmurhash3 ... \u001b[?25ldone\n",
      "\u001b[?25h  Stored in directory: /root/.cache/pip/wheels/06/eb/e4/f57324cd9c1bf001c9ba6d6926ad5231eca80964ed80b3610e\n",
      "Successfully built murmurhash3\n",
      "\u001b[31mtwisted 18.7.0 requires PyHamcrest>=1.9.0, which is not installed.\u001b[0m\n",
      "Installing collected packages: murmurhash3\n",
      "Successfully installed murmurhash3-2.3.5\n",
      "\u001b[33mYou are using pip version 10.0.1, however version 19.2.1 is available.\n",
      "You should consider upgrading via the 'pip install --upgrade pip' command.\u001b[0m\n"
     ]
    }
   ],
   "source": [
    "#Install murmurhash3 if needed\n",
    "!pip install murmurhash3\n",
    "import mmh3"
   ]
  },
  {
   "cell_type": "code",
   "execution_count": 42,
   "metadata": {},
   "outputs": [],
   "source": [
    "categorical_cols = ['Var14','Var15','Var16','Var17','Var18','Var19','Var20','Var21','Var22',\n",
    "                    'Var23','Var24','Var25','Var26','Var27','Var28','Var29','Var30','Var31',\n",
    "                   'Var32','Var33','Var34','Var35','Var36','Var37','Var38','Var39']\n",
    "\n",
    "for col in categorical_cols:\n",
    "    train_sample_EDA = train_sample_EDA.na.fill('Missing', [col])"
   ]
  },
  {
   "cell_type": "code",
   "execution_count": 43,
   "metadata": {},
   "outputs": [],
   "source": [
    "#generate train data for homegrown solution - select only 10000 rows of all features and target \n",
    "train_sample_red = train_sample_EDA.limit(10000).cache()"
   ]
  },
  {
   "cell_type": "code",
   "execution_count": 44,
   "metadata": {},
   "outputs": [],
   "source": [
    "#cache into rdd\n",
    "train_sample_red_RDD = train_sample_red.rdd.map(lambda x: (x[0], np.array(x[1:]))).cache()"
   ]
  },
  {
   "cell_type": "code",
   "execution_count": 45,
   "metadata": {},
   "outputs": [],
   "source": [
    "def hashTrans (rdd):\n",
    "\n",
    "    def createHash (elem,hlen):\n",
    "        import mmh3\n",
    "        hashStr = []\n",
    "        for str in elem:\n",
    "            hashStr.append(mmh3.hash(str) % int(hlen))\n",
    "        return(hashStr)\n",
    "\n",
    "    def create1Hot(elem, hlen):\n",
    "        oneHotStr = []\n",
    "        #for hashStr in elem:\n",
    "        for i in range (hlen):\n",
    "            if (i == elem):\n",
    "                oneHotStr.append(1)\n",
    "            else:\n",
    "                oneHotStr.append(0)\n",
    "        return(oneHotStr)\n",
    "\n",
    "    def createCatArray(elem):\n",
    "        catArray = []\n",
    "        for array in elem:\n",
    "            for x in array:\n",
    "                catArray.append(x)\n",
    "        return(np.array(catArray))\n",
    "\n",
    "    #Define murmurHash level for 1-hot encoding\n",
    "    HASHLEN = 16\n",
    "    \n",
    "    categoricalRdd = rdd.map(lambda x : x[1][14:]) \\\n",
    "                        .map(lambda x: createHash(x,HASHLEN)) \\\n",
    "                        .map(lambda x: [create1Hot(xn, HASHLEN) for xn in x]) \\\n",
    "                        .map(createCatArray)\n",
    "    \n",
    "    return(categoricalRdd)\n",
    "\n",
    "categoricalRdd = hashTrans(train_sample_red_RDD)"
   ]
  },
  {
   "cell_type": "code",
   "execution_count": 46,
   "metadata": {},
   "outputs": [],
   "source": [
    "#Now include this into the logistic regression model\n",
    "#Zip numerical and categorical variables\n",
    "\n",
    "def mergeNumPlusCatRdds(elem):\n",
    "    x, y = elem\n",
    "    xkey , xval = x\n",
    "    merge =  (xkey, np.hstack((xval,y)))\n",
    "    return(merge)\n",
    "\n",
    "numPlusCatRdd = normedRDD.zip(categoricalRdd) \\\n",
    "                         .map(mergeNumPlusCatRdds)"
   ]
  },
  {
   "cell_type": "code",
   "execution_count": 47,
   "metadata": {},
   "outputs": [
    {
     "name": "stdout",
     "output_type": "stream",
     "text": [
      "413\n"
     ]
    }
   ],
   "source": [
    "#compute the number of features\n",
    "numb_features = np.size(numPlusCatRdd.first()[1])\n",
    "print(numb_features)\n",
    "#define baseline model, add one parameter representing the intercept\n",
    "BASELINE = np.random.randn(numb_features + 1)"
   ]
  },
  {
   "cell_type": "code",
   "execution_count": 48,
   "metadata": {},
   "outputs": [],
   "source": [
    "#split into train, validation and test sets\n",
    "train, validation, test = numPlusCatRdd.randomSplit([0.6, 0.2, 0.2], seed=200)"
   ]
  },
  {
   "cell_type": "code",
   "execution_count": 49,
   "metadata": {},
   "outputs": [
    {
     "data": {
      "image/png": "[encoded data removed]",
      "text/plain": [
       "<Figure size 432x288 with 1 Axes>"
      ]
     },
     "metadata": {},
     "output_type": "display_data"
    }
   ],
   "source": [
    "nSteps = 200\n",
    "regType = 'ridge'\n",
    "regParam = 0.1\n",
    "learningRate = 0.1\n",
    "\n",
    "# run gradient descent\n",
    "train_loss, test_loss, model = GDUpdate(train, validation, BASELINE, nSteps, regType=regType, \n",
    "                                        regParam=regParam, learningRate=learningRate, verbose = False)\n",
    "\n",
    "plt.plot(train_loss, label='train loss')\n",
    "plt.plot(test_loss, label='test loss')\n",
    "plt.title('Loss')\n",
    "plt.legend(loc='upper right')\n",
    "plt.show()"
   ]
  },
  {
   "cell_type": "code",
   "execution_count": 73,
   "metadata": {},
   "outputs": [
    {
     "name": "stdout",
     "output_type": "stream",
     "text": [
      "Accuracy is:  0.7593765221626887\n",
      "Precision is:  0.6575342465753424\n",
      "Recall is:  0.09284332688588008\n",
      "F1 score is:  0.16271186440677968\n",
      "False positive rate is:  0.016276041666666668\n",
      "True positive rate is:  0.09284332688588008\n"
     ]
    }
   ],
   "source": [
    "# make predictions and compute metrics for treshProb = 0.5\n",
    "pred, ntp, ntn, nfp, nfn = makePrediction(validation, model[-1], 0.5)\n",
    "\n",
    "acc = (ntp+ntn)/(ntp+ntn+nfp+nfn)\n",
    "prec = (ntp)/(ntp+nfp)\n",
    "rec = (ntp)/(ntp+nfn)\n",
    "f1 = 2*prec*rec/(prec+rec)\n",
    "fpr = nfp/(ntn+nfp)\n",
    "tpr = ntp/(ntp+nfn)\n",
    "print('Accuracy is: ', acc)\n",
    "print('Precision is: ', prec)\n",
    "print('Recall is: ', rec)\n",
    "print('F1 score is: ', f1)\n",
    "print('False positive rate is: ', fpr)\n",
    "print('True positive rate is: ', tpr)"
   ]
  },
  {
   "cell_type": "code",
   "execution_count": 51,
   "metadata": {},
   "outputs": [
    {
     "name": "stdout",
     "output_type": "stream",
     "text": [
      "0.25 :  0.501481704819562\n"
     ]
    },
    {
     "data": {
      "text/plain": [
       "Text(0,0.5,'True positive rate')"
      ]
     },
     "execution_count": 51,
     "metadata": {},
     "output_type": "execute_result"
    },
    {
     "data": {
      "image/png": "[encoded data removed]",
      "text/plain": [
       "<Figure size 432x288 with 1 Axes>"
      ]
     },
     "metadata": {},
     "output_type": "display_data"
    }
   ],
   "source": [
    "# generate ROC curve on validation set\n",
    "tprSave = []\n",
    "fprSave = []\n",
    "probs = np.arange(0.0, 1.0, 0.025)\n",
    "for i in probs:\n",
    "    pred, ntp, ntn, nfp, nfn = makePrediction(validation, model[-1], i)\n",
    "    fprSave.append(nfp/(ntn+nfp))\n",
    "    tprSave.append(ntp/(ntp+nfn))\n",
    "\n",
    "#distance from the upper-left corner of the ROC curve - the lower, the better\n",
    "perf = np.sqrt((np.array(fprSave))**2+(1-np.array(tprSave))**2)\n",
    "print(probs[np.argmin(perf)],': ' , np.min(perf))\n",
    "\n",
    "plt.plot(fprSave, tprSave)\n",
    "plt.xlabel('False positive rate')\n",
    "plt.ylabel('True positive rate')"
   ]
  },
  {
   "cell_type": "code",
   "execution_count": 52,
   "metadata": {},
   "outputs": [
    {
     "name": "stdout",
     "output_type": "stream",
     "text": [
      "Accuracy is:  0.6651282051282051\n",
      "Precision is:  0.38674698795180723\n",
      "Recall is:  0.6903225806451613\n",
      "F1 score is:  0.4957528957528958\n",
      "False positive rate is:  0.34276094276094277\n",
      "True positive rate is:  0.6903225806451613\n"
     ]
    }
   ],
   "source": [
    "# make predictions and compute metrics for optimal treshProb on test dataset\n",
    "pred, ntp, ntn, nfp, nfn = makePrediction(test, model[-1], probs[np.argmin(perf)])\n",
    "\n",
    "acc = (ntp+ntn)/(ntp+ntn+nfp+nfn)\n",
    "prec = (ntp)/(ntp+nfp)\n",
    "rec = (ntp)/(ntp+nfn)\n",
    "f1 = 2*prec*rec/(prec+rec)\n",
    "fpr = nfp/(ntn+nfp)\n",
    "tpr = ntp/(ntp+nfn)\n",
    "print('Accuracy is: ', acc)\n",
    "print('Precision is: ', prec)\n",
    "print('Recall is: ', rec)\n",
    "print('F1 score is: ', f1)\n",
    "print('False positive rate is: ', fpr)\n",
    "print('True positive rate is: ', tpr)"
   ]
  },
  {
   "cell_type": "code",
   "execution_count": 53,
   "metadata": {},
   "outputs": [],
   "source": [
    "fprSave_ridge = fprSave\n",
    "tprSave_ridge = tprSave"
   ]
  },
  {
   "cell_type": "markdown",
   "metadata": {},
   "source": [
    "One model fit with lasso allowed us to identify what appear to be the most important features in this dataset. These were selected, somewhat arbitrarily, as the features whose absolute value of the coefficient was, after training, higher than $0.01$, together with the features immediately next to these. These features, $32$ in total, were utilized to train yet another ridge-regularized logistic regression model."
   ]
  },
  {
   "cell_type": "code",
   "execution_count": 54,
   "metadata": {},
   "outputs": [],
   "source": [
    "columns_sel = [4,5,6,9,10,11,12,61,62,63,72,73,74,119,120,121,122,133,134,135,160,161,162,308,309,310,404,405,406,407,408,409]\n",
    "numPlusCatRdd_sel = numPlusCatRdd.map(lambda x: (x[0], np.array([x[1][i] for i in columns_sel])))"
   ]
  },
  {
   "cell_type": "code",
   "execution_count": 55,
   "metadata": {},
   "outputs": [
    {
     "name": "stdout",
     "output_type": "stream",
     "text": [
      "32\n"
     ]
    }
   ],
   "source": [
    "#compute the number of features\n",
    "numb_features = np.size(numPlusCatRdd_sel.first()[1])\n",
    "print(numb_features)\n",
    "#define baseline model, add one parameter representing the intercept\n",
    "BASELINE = np.random.randn(numb_features + 1)"
   ]
  },
  {
   "cell_type": "code",
   "execution_count": 56,
   "metadata": {},
   "outputs": [],
   "source": [
    "#split into train, validation and test sets\n",
    "train, validation, test = numPlusCatRdd_sel.randomSplit([0.6, 0.2, 0.2], seed=200)"
   ]
  },
  {
   "cell_type": "code",
   "execution_count": 57,
   "metadata": {},
   "outputs": [
    {
     "data": {
      "image/png": "[encoded data removed]",
      "text/plain": [
       "<Figure size 432x288 with 1 Axes>"
      ]
     },
     "metadata": {},
     "output_type": "display_data"
    }
   ],
   "source": [
    "nSteps = 200\n",
    "regType = 'ridge'\n",
    "regParam = 0.06\n",
    "learningRate = 0.1\n",
    "\n",
    "# run gradient descent\n",
    "train_loss, test_loss, model = GDUpdate(train, validation, BASELINE, nSteps, regType=regType, \n",
    "                                        regParam=regParam, learningRate=learningRate, verbose = False)\n",
    "\n",
    "plt.plot(train_loss, label='train loss')\n",
    "plt.plot(test_loss, label='test loss')\n",
    "plt.title('Loss')\n",
    "plt.legend(loc='upper right')\n",
    "plt.show()"
   ]
  },
  {
   "cell_type": "code",
   "execution_count": 58,
   "metadata": {},
   "outputs": [
    {
     "name": "stdout",
     "output_type": "stream",
     "text": [
      "Accuracy is:  0.7593765221626887\n",
      "Precision is:  0.6575342465753424\n",
      "Recall is:  0.09284332688588008\n",
      "F1 score is:  0.16271186440677968\n",
      "False positive rate is:  0.016276041666666668\n",
      "True positive rate is:  0.09284332688588008\n"
     ]
    }
   ],
   "source": [
    "# make predictions and compute metrics for treshProb = 0.5\n",
    "pred, ntp, ntn, nfp, nfn = makePrediction(validation, model[-1], 0.5)\n",
    "\n",
    "acc = (ntp+ntn)/(ntp+ntn+nfp+nfn)\n",
    "prec = (ntp)/(ntp+nfp)\n",
    "rec = (ntp)/(ntp+nfn)\n",
    "f1 = 2*prec*rec/(prec+rec)\n",
    "fpr = nfp/(ntn+nfp)\n",
    "tpr = ntp/(ntp+nfn)\n",
    "print('Accuracy is: ', acc)\n",
    "print('Precision is: ', prec)\n",
    "print('Recall is: ', rec)\n",
    "print('F1 score is: ', f1)\n",
    "print('False positive rate is: ', fpr)\n",
    "print('True positive rate is: ', tpr)"
   ]
  },
  {
   "cell_type": "code",
   "execution_count": 59,
   "metadata": {},
   "outputs": [
    {
     "name": "stdout",
     "output_type": "stream",
     "text": [
      "0.25 :  0.5174736338098515\n"
     ]
    },
    {
     "data": {
      "text/plain": [
       "Text(0,0.5,'True positive rate')"
      ]
     },
     "execution_count": 59,
     "metadata": {},
     "output_type": "execute_result"
    },
    {
     "data": {
      "image/png": "[encoded data removed]",
      "text/plain": [
       "<Figure size 432x288 with 1 Axes>"
      ]
     },
     "metadata": {},
     "output_type": "display_data"
    }
   ],
   "source": [
    "# generate ROC curve on validation set\n",
    "tprSave = []\n",
    "fprSave = []\n",
    "probs = np.arange(0.0, 1.0, 0.025)\n",
    "for i in probs:\n",
    "    pred, ntp, ntn, nfp, nfn = makePrediction(validation, model[-1], i)\n",
    "    fprSave.append(nfp/(ntn+nfp))\n",
    "    tprSave.append(ntp/(ntp+nfn))\n",
    "\n",
    "#distance from the upper-left corner of the ROC curve - the lower, the better\n",
    "perf = np.sqrt((np.array(fprSave))**2+(1-np.array(tprSave))**2)\n",
    "print(probs[np.argmin(perf)],': ' , np.min(perf))\n",
    "\n",
    "plt.plot(fprSave, tprSave)\n",
    "plt.xlabel('False positive rate')\n",
    "plt.ylabel('True positive rate')"
   ]
  },
  {
   "cell_type": "code",
   "execution_count": 60,
   "metadata": {},
   "outputs": [
    {
     "name": "stdout",
     "output_type": "stream",
     "text": [
      "Accuracy is:  0.6523076923076923\n",
      "Precision is:  0.3727598566308244\n",
      "Recall is:  0.6709677419354839\n",
      "F1 score is:  0.47926267281105994\n",
      "False positive rate is:  0.35353535353535354\n",
      "True positive rate is:  0.6709677419354839\n"
     ]
    }
   ],
   "source": [
    "# make predictions and compute metrics for optimal treshProb on test dataset\n",
    "pred, ntp, ntn, nfp, nfn = makePrediction(test, model[-1], probs[np.argmin(perf)])\n",
    "\n",
    "acc = (ntp+ntn)/(ntp+ntn+nfp+nfn)\n",
    "prec = (ntp)/(ntp+nfp)\n",
    "rec = (ntp)/(ntp+nfn)\n",
    "f1 = 2*prec*rec/(prec+rec)\n",
    "fpr = nfp/(ntn+nfp)\n",
    "tpr = ntp/(ntp+nfn)\n",
    "print('Accuracy is: ', acc)\n",
    "print('Precision is: ', prec)\n",
    "print('Recall is: ', rec)\n",
    "print('F1 score is: ', f1)\n",
    "print('False positive rate is: ', fpr)\n",
    "print('True positive rate is: ', tpr)"
   ]
  },
  {
   "cell_type": "code",
   "execution_count": 61,
   "metadata": {},
   "outputs": [],
   "source": [
    "fprSave_ridge_red = fprSave\n",
    "tprSave_ridge_red = tprSave"
   ]
  },
  {
   "cell_type": "markdown",
   "metadata": {},
   "source": [
    "The plot below offers a comparison between the ROC curves as obtained with model trained on the full dataset and the model trained on the reduced dataset, respectively.  "
   ]
  },
  {
   "cell_type": "code",
   "execution_count": 62,
   "metadata": {},
   "outputs": [
    {
     "data": {
      "text/plain": [
       "<matplotlib.legend.Legend at 0x7ff1c011b320>"
      ]
     },
     "execution_count": 62,
     "metadata": {},
     "output_type": "execute_result"
    },
    {
     "data": {
      "image/png": "[encoded data removed]",
      "text/plain": [
       "<Figure size 432x288 with 1 Axes>"
      ]
     },
     "metadata": {},
     "output_type": "display_data"
    }
   ],
   "source": [
    "plt.plot(fprSave_ridge,tprSave_ridge, label='413 features')\n",
    "plt.plot(fprSave_ridge_red,tprSave_ridge_red, label='32 features')\n",
    "plt.xlabel('False positive rate')\n",
    "plt.ylabel('True positive rate')\n",
    "plt.legend()"
   ]
  },
  {
   "cell_type": "markdown",
   "metadata": {},
   "source": [
    "#### Factorization Machine"
   ]
  },
  {
   "cell_type": "code",
   "execution_count": null,
   "metadata": {},
   "outputs": [],
   "source": [
    "start = time.time()\n",
    "wInit, wInit1, wInit0 = wInitialization(train, 2)\n",
    "#print(wInit)\n",
    "logerr_train, logerr_test, models_cat, model1s_cat, model0s_cat = GradientDescent(train, validation, wInit,wInit1, wInit0, nSteps = 100,\n",
    "                                                    learningRate = 0.001, regParam = 0.01, regParam1 = 0.01, regParam0 = 0.01, verbose = True)"
   ]
  },
  {
   "cell_type": "code",
   "execution_count": null,
   "metadata": {},
   "outputs": [],
   "source": [
    "#print(f\"The estimated model is: {models[-1]}\")\n",
    "#print(f\"The loss of the estimated model is: {logerr_train[-1]}\")\n",
    "print()\n",
    "print()\n",
    "plt.plot(logerr_train)\n",
    "plt.plot(logerr_test)\n",
    "plt.title('Loss')\n",
    "plt.show()"
   ]
  },
  {
   "cell_type": "code",
   "execution_count": null,
   "metadata": {},
   "outputs": [],
   "source": [
    "pred, ntp, ntn, nfp, nfn = fmMakePrediction(validation, models[-1], model1s[-1], model0s[-1])\n",
    "\n",
    "cc = (ntp+ntn)/(ntp+ntn+nfp+nfn)\n",
    "prec = (ntp)/(ntp+nfp)\n",
    "rec = (ntp)/(ntp+nfn)\n",
    "f1 = 2*prec*rec/(prec+rec)\n",
    "fpr = nfp/(ntn+nfp)\n",
    "tpr = ntp/(ntp+nfn)\n",
    "print('Accuracy is: ', acc)\n",
    "print('Precision is: ', prec)\n",
    "print('Recall is: ', rec)\n",
    "print('F1 score is: ', f1)\n",
    "print('False positive rate is: ', fpr)\n",
    "print('True positive rate is: ', tpr)"
   ]
  },
  {
   "cell_type": "markdown",
   "metadata": {},
   "source": [
    "### 4.1.3 Multi-column Feature Hashing\n",
    "Hashing each column independently resulted in a dimensionality reduction from several million vectors to 416 for the categorical variables. We could further reduce dimensionality through multi-column Feature Hashing with a likely tradeoff being the loss of accuracy (TBD). \n",
    "\n",
    "We used the multi-column FeatureHashing functionality in Apache Spark MLLib to look into how dimensionality reduction to fewer vectors for logistic regression. Multi-column FeatureHashing would be very handy when we start looking at adding in quadratic terms for logistic regression. Instead of a (416,416) quadratic feature matrix, we could deal with a smaller (32,32) or (64,64) features, leading to faster computation."
   ]
  },
  {
   "cell_type": "markdown",
   "metadata": {},
   "source": [
    "#### Spark MLLib FeatureHasher example\n",
    "The FeatureHasher in spark takes multiple columns of categorical (and numerical) variables and hashes them down to fewer features. It is possible to specify the number of output features so that we can restrict the dimensions to a more manageable number."
   ]
  },
  {
   "cell_type": "code",
   "execution_count": 74,
   "metadata": {},
   "outputs": [
    {
     "name": "stdout",
     "output_type": "stream",
     "text": [
      "+--------------------------------------------------------+\n",
      "|features                                                |\n",
      "+--------------------------------------------------------+\n",
      "|(262144,[174475,247670,257907,262126],[2.2,1.0,1.0,1.0])|\n",
      "|(262144,[70644,89673,173866,174475],[1.0,1.0,1.0,3.3])  |\n",
      "|(262144,[22406,70644,174475,187923],[1.0,1.0,4.4,1.0])  |\n",
      "|(262144,[70644,101499,174475,257907],[1.0,1.0,5.5,1.0]) |\n",
      "+--------------------------------------------------------+\n",
      "\n"
     ]
    }
   ],
   "source": [
    "#Feature hashing example\n",
    "from pyspark.ml.feature import FeatureHasher\n",
    "\n",
    "dataset = spark.createDataFrame([\n",
    "    (2.2, True, \"1\", \"foo\"),\n",
    "    (3.3, False, \"2\", \"bar\"),\n",
    "    (4.4, False, \"3\", \"baz\"),\n",
    "    (5.5, False, \"4\", \"foo\")\n",
    "], [\"real\", \"bool\", \"stringNum\", \"string\"])\n",
    "\n",
    "hasher = FeatureHasher(inputCols=[\"real\", \"bool\", \"stringNum\", \"string\"],\n",
    "                       outputCol=\"features\")\n",
    "\n",
    "featurized = hasher.transform(dataset)\n",
    "featurized.select(\"features\").show(truncate=False)"
   ]
  },
  {
   "cell_type": "markdown",
   "metadata": {},
   "source": [
    "#### Multi-column Feature Hashing with test set\n",
    "We applied Multi-column Feature Hashing to get to a dimensionality of 64 vectors using FeatureHasher. The results of the logistic regression following this hashing are given below."
   ]
  },
  {
   "cell_type": "code",
   "execution_count": 75,
   "metadata": {},
   "outputs": [],
   "source": [
    "#generate train data for homegrown solution - select only 10000 rows of all features and target \n",
    "train_sample_red = train_sample_EDA.limit(10000).cache()"
   ]
  },
  {
   "cell_type": "code",
   "execution_count": 76,
   "metadata": {},
   "outputs": [],
   "source": [
    "#cache into rdd\n",
    "train_sample_red_RDD = train_sample_red.rdd.map(lambda x: (x[0], np.array(x[1:]))).cache()"
   ]
  },
  {
   "cell_type": "code",
   "execution_count": 79,
   "metadata": {},
   "outputs": [
    {
     "name": "stdout",
     "output_type": "stream",
     "text": [
      "['Var14', 'Var15', 'Var16', 'Var17', 'Var18', 'Var19', 'Var20', 'Var21', 'Var22', 'Var23', 'Var24', 'Var25', 'Var26', 'Var27', 'Var28', 'Var29', 'Var30', 'Var31', 'Var32', 'Var33', 'Var34', 'Var35', 'Var36', 'Var37', 'Var38', 'Var39']\n"
     ]
    }
   ],
   "source": [
    "#choose categorical columns to Hash\n",
    "hashInpList = []\n",
    "for c in categorical_cols:\n",
    "    hashInpList.append(c)\n",
    "print (hashInpList)"
   ]
  },
  {
   "cell_type": "code",
   "execution_count": 188,
   "metadata": {},
   "outputs": [
    {
     "name": "stdout",
     "output_type": "stream",
     "text": [
      "+--------------------------------------------------------------------------------------------------------------------------------------------------------------------------------------------------+\n",
      "|features                                                                                                                                                                                          |\n",
      "+--------------------------------------------------------------------------------------------------------------------------------------------------------------------------------------------------+\n",
      "|(256,[4,14,27,41,52,59,66,82,93,100,106,107,108,111,165,202,213,219,238,244,255],[2.0,1.0,2.0,1.0,2.0,1.0,1.0,1.0,1.0,1.0,1.0,1.0,1.0,1.0,1.0,2.0,2.0,1.0,1.0,1.0,1.0])                           |\n",
      "|(256,[0,11,36,52,53,106,107,111,127,131,136,143,154,165,166,201,202,232,238,243,245,247,255],[1.0,1.0,1.0,1.0,1.0,1.0,2.0,2.0,1.0,1.0,1.0,1.0,1.0,1.0,1.0,1.0,2.0,1.0,1.0,1.0,1.0,1.0,1.0])       |\n",
      "|(256,[12,14,34,41,44,52,71,107,111,119,156,157,192,195,202,213,220,228,232,235,236,238,253,255],[1.0,1.0,1.0,1.0,1.0,1.0,1.0,2.0,1.0,1.0,1.0,1.0,1.0,1.0,1.0,1.0,1.0,1.0,1.0,1.0,1.0,1.0,2.0,1.0])|\n",
      "+--------------------------------------------------------------------------------------------------------------------------------------------------------------------------------------------------+\n",
      "only showing top 3 rows\n",
      "\n"
     ]
    }
   ],
   "source": [
    "#Apply Multi-column hashing with given output features\n",
    "numFeatures = 256 #tried 50, 100, 256, 400\n",
    "hasher = FeatureHasher(numFeatures=numFeatures, inputCols=hashInpList,outputCol=\"features\")\n",
    "\n",
    "featurized = hasher.transform(train_sample_red)\n",
    "featurized.select(\"features\").show(3,truncate=False)"
   ]
  },
  {
   "cell_type": "code",
   "execution_count": 189,
   "metadata": {},
   "outputs": [
    {
     "name": "stdout",
     "output_type": "stream",
     "text": [
      "+---+------------------+------------------+------------------+-----------------+------------------+------------------+------------------+------------------+------------------+-----+------------------+------------------+------------------+--------+--------+--------+--------+--------+--------+--------+--------+--------+--------+--------+--------+--------+--------+--------+--------+--------+--------+-------+-------+--------+--------+--------+--------+-------+-------+--------------------+\n",
      "|CTR|              Var1|              Var2|              Var3|             Var4|              Var5|              Var6|              Var7|              Var8|              Var9|Var10|             Var11|             Var12|             Var13|   Var14|   Var15|   Var16|   Var17|   Var18|   Var19|   Var20|   Var21|   Var22|   Var23|   Var24|   Var25|   Var26|   Var27|   Var28|   Var29|   Var30|   Var31|  Var32|  Var33|   Var34|   Var35|   Var36|   Var37|  Var38|  Var39|            features|\n",
      "+---+------------------+------------------+------------------+-----------------+------------------+------------------+------------------+------------------+------------------+-----+------------------+------------------+------------------+--------+--------+--------+--------+--------+--------+--------+--------+--------+--------+--------+--------+--------+--------+--------+--------+--------+--------+-------+-------+--------+--------+--------+--------+-------+-------+--------------------+\n",
      "|  0|               0.0|0.6931471805599453| 3.367295829986474|              0.0| 9.717037485158393| 6.324358962381311|1.3862943611198906| 1.791759469228055| 4.820281565605037|  0.0|0.6931471805599453|0.6931471805599453|0.6931471805599453|8cf07265|7cd19acc|77f2f2e5|d16679b9|4cf72387|fbad5c96|8fb24933|0b153874|a73ee510|0095a535|3617b5f5|9f32b866|428332cf|b28479f6|83ebd498|31ca40b6|e5ba7672|d0e5eb07|Missing|Missing|dfcfc3fa|ad3062eb|32c7478e|aee52b6f|Missing|Missing|(256,[4,14,27,41,...|\n",
      "|  0|0.6931471805599453|               0.0|0.6931471805599453|2.302585092994046|7.2640301428995295|1.3862943611198906| 2.833213344056216|2.4849066497880004|3.9318256327243257|  0.0|1.0986122886681098|0.6931471805599453|2.1972245773362196|05db9164|26a88120|615e3e4e|2788fed8|4cf72387|7e0ccccf|3f4ec687|0b153874|a73ee510|0e9ead52|c4adf918|f5d19c1c|85dbe138|07d13a8f|24ff9452|1034ac0d|3486227d|b486119d|Missing|Missing|63580fba| Missing|32c7478e|2a90c749|Missing|Missing|(256,[0,11,36,52,...|\n",
      "|  0|1.9459101490553132|0.6931471805599453| 3.367295829986474|2.302585092994046|10.054318442238712| 4.143134726391533|               0.0|0.6931471805599453|  4.30406509320417|  0.0|               0.0|0.6931471805599453|2.1972245773362196|7e5c2ff4|d833535f|b00d1501|d16679b9|25c83c98|7e0ccccf|65c53f25|1f89b562|a73ee510|3b08e48b|ad2bc6f4|e0d76380|39ccb769|b28479f6|a733d362|1203a270|776ce399|281769c2|Missing|Missing|73d06dde| Missing|32c7478e|aee52b6f|Missing|Missing|(256,[12,14,34,41...|\n",
      "+---+------------------+------------------+------------------+-----------------+------------------+------------------+------------------+------------------+------------------+-----+------------------+------------------+------------------+--------+--------+--------+--------+--------+--------+--------+--------+--------+--------+--------+--------+--------+--------+--------+--------+--------+--------+-------+-------+--------+--------+--------+--------+-------+-------+--------------------+\n",
      "only showing top 3 rows\n",
      "\n"
     ]
    },
    {
     "data": {
      "text/plain": [
       "1"
      ]
     },
     "execution_count": 189,
     "metadata": {},
     "output_type": "execute_result"
    }
   ],
   "source": [
    "featurized.show(3)\n",
    "featurized.rdd.getNumPartitions()"
   ]
  },
  {
   "cell_type": "code",
   "execution_count": 190,
   "metadata": {},
   "outputs": [
    {
     "data": {
      "text/plain": [
       "1"
      ]
     },
     "execution_count": 190,
     "metadata": {},
     "output_type": "execute_result"
    }
   ],
   "source": [
    "#Convert into a dense vector format to feed logistic regression model\n",
    "def extractVec (elem):\n",
    "    return(np.array(tuple(elem.features.toArray().tolist())))\n",
    "\n",
    "multiHashCatRdd = featurized.select(\"features\").rdd.map(extractVec)\n",
    "#map(extractVec)\n",
    "multiHashCatRdd.take(3)\n",
    "multiHashCatRdd.getNumPartitions()"
   ]
  },
  {
   "cell_type": "code",
   "execution_count": 191,
   "metadata": {},
   "outputs": [
    {
     "name": "stdout",
     "output_type": "stream",
     "text": [
      "+---+------------------+------------------+------------------+-----------------+------------------+------------------+------------------+------------------+------------------+-----+------------------+------------------+------------------+--------+--------+--------+--------+--------+--------+--------+--------+--------+--------+--------+--------+--------+--------+--------+--------+--------+--------+-------+-------+--------+--------+--------+--------+-------+-------+--------------------+\n",
      "|CTR|              Var1|              Var2|              Var3|             Var4|              Var5|              Var6|              Var7|              Var8|              Var9|Var10|             Var11|             Var12|             Var13|   Var14|   Var15|   Var16|   Var17|   Var18|   Var19|   Var20|   Var21|   Var22|   Var23|   Var24|   Var25|   Var26|   Var27|   Var28|   Var29|   Var30|   Var31|  Var32|  Var33|   Var34|   Var35|   Var36|   Var37|  Var38|  Var39|            features|\n",
      "+---+------------------+------------------+------------------+-----------------+------------------+------------------+------------------+------------------+------------------+-----+------------------+------------------+------------------+--------+--------+--------+--------+--------+--------+--------+--------+--------+--------+--------+--------+--------+--------+--------+--------+--------+--------+-------+-------+--------+--------+--------+--------+-------+-------+--------------------+\n",
      "|  0|               0.0|0.6931471805599453| 3.367295829986474|              0.0| 9.717037485158393| 6.324358962381311|1.3862943611198906| 1.791759469228055| 4.820281565605037|  0.0|0.6931471805599453|0.6931471805599453|0.6931471805599453|8cf07265|7cd19acc|77f2f2e5|d16679b9|4cf72387|fbad5c96|8fb24933|0b153874|a73ee510|0095a535|3617b5f5|9f32b866|428332cf|b28479f6|83ebd498|31ca40b6|e5ba7672|d0e5eb07|Missing|Missing|dfcfc3fa|ad3062eb|32c7478e|aee52b6f|Missing|Missing|(256,[4,14,27,41,...|\n",
      "|  0|0.6931471805599453|               0.0|0.6931471805599453|2.302585092994046|7.2640301428995295|1.3862943611198906| 2.833213344056216|2.4849066497880004|3.9318256327243257|  0.0|1.0986122886681098|0.6931471805599453|2.1972245773362196|05db9164|26a88120|615e3e4e|2788fed8|4cf72387|7e0ccccf|3f4ec687|0b153874|a73ee510|0e9ead52|c4adf918|f5d19c1c|85dbe138|07d13a8f|24ff9452|1034ac0d|3486227d|b486119d|Missing|Missing|63580fba| Missing|32c7478e|2a90c749|Missing|Missing|(256,[0,11,36,52,...|\n",
      "|  0|1.9459101490553132|0.6931471805599453| 3.367295829986474|2.302585092994046|10.054318442238712| 4.143134726391533|               0.0|0.6931471805599453|  4.30406509320417|  0.0|               0.0|0.6931471805599453|2.1972245773362196|7e5c2ff4|d833535f|b00d1501|d16679b9|25c83c98|7e0ccccf|65c53f25|1f89b562|a73ee510|3b08e48b|ad2bc6f4|e0d76380|39ccb769|b28479f6|a733d362|1203a270|776ce399|281769c2|Missing|Missing|73d06dde| Missing|32c7478e|aee52b6f|Missing|Missing|(256,[12,14,34,41...|\n",
      "+---+------------------+------------------+------------------+-----------------+------------------+------------------+------------------+------------------+------------------+-----+------------------+------------------+------------------+--------+--------+--------+--------+--------+--------+--------+--------+--------+--------+--------+--------+--------+--------+--------+--------+--------+--------+-------+-------+--------+--------+--------+--------+-------+-------+--------------------+\n",
      "only showing top 3 rows\n",
      "\n"
     ]
    }
   ],
   "source": [
    "featurized.show(3)"
   ]
  },
  {
   "cell_type": "code",
   "execution_count": 192,
   "metadata": {},
   "outputs": [
    {
     "data": {
      "text/plain": [
       "1"
      ]
     },
     "execution_count": 192,
     "metadata": {},
     "output_type": "execute_result"
    }
   ],
   "source": [
    "#Now include this into the logistic regression model\n",
    "#Zip numerical and categorical variables\n",
    "\n",
    "def mergeNumPlusCatRdds(elem):\n",
    "    x, y = elem\n",
    "    xkey , xval = x\n",
    "    merge =  (xkey, np.hstack((xval,y)))\n",
    "    return(merge)\n",
    "\n",
    "numPlusCatRdd2 = normedRDD.zip(multiHashCatRdd) \\\n",
    "                         .map(mergeNumPlusCatRdds)\n",
    "numPlusCatRdd2.take(1)\n",
    "numPlusCatRdd2.getNumPartitions()"
   ]
  },
  {
   "cell_type": "code",
   "execution_count": 193,
   "metadata": {},
   "outputs": [
    {
     "name": "stdout",
     "output_type": "stream",
     "text": [
      "269\n"
     ]
    }
   ],
   "source": [
    "#compute the number of features\n",
    "numb_features = np.size(numPlusCatRdd2.first()[1])\n",
    "print(numb_features)\n",
    "#define baseline model, add one parameter representing the intercept\n",
    "BASELINE = np.random.randn(numb_features + 1)"
   ]
  },
  {
   "cell_type": "code",
   "execution_count": 194,
   "metadata": {},
   "outputs": [],
   "source": [
    "#split into train, validation and test sets\n",
    "train, validation, test = numPlusCatRdd2.randomSplit([0.6, 0.2, 0.2], seed=200)"
   ]
  },
  {
   "cell_type": "code",
   "execution_count": 195,
   "metadata": {},
   "outputs": [
    {
     "data": {
      "image/png": "[encoded data removed]",
      "text/plain": [
       "<Figure size 432x288 with 1 Axes>"
      ]
     },
     "metadata": {},
     "output_type": "display_data"
    }
   ],
   "source": [
    "nSteps = 200\n",
    "regType = 'ridge'\n",
    "regParam = 0.12\n",
    "learningRate = 0.1\n",
    "\n",
    "# run gradient descent\n",
    "train_loss, test_loss, model = GDUpdate(train, validation, BASELINE, nSteps, regType=regType, \n",
    "                                        regParam=regParam, learningRate=learningRate, verbose = False)\n",
    "\n",
    "plt.plot(train_loss)\n",
    "plt.plot(test_loss)\n",
    "plt.title('Loss')\n",
    "plt.show()"
   ]
  },
  {
   "cell_type": "code",
   "execution_count": 196,
   "metadata": {},
   "outputs": [
    {
     "name": "stdout",
     "output_type": "stream",
     "text": [
      "Accuracy is:  0.7603507062834876\n",
      "Precision is:  0.6923076923076923\n",
      "Recall is:  0.08704061895551257\n",
      "F1 score is:  0.15463917525773194\n",
      "False positive rate is:  0.013020833333333334\n",
      "True positive rate is:  0.08704061895551257\n"
     ]
    }
   ],
   "source": [
    "# make predictions and compute metrics for treshProb = 0.5\n",
    "pred, ntp, ntn, nfp, nfn = makePrediction(validation, model[-1], 0.5)\n",
    "\n",
    "acc = (ntp+ntn)/(ntp+ntn+nfp+nfn)\n",
    "prec = (ntp)/(ntp+nfp)\n",
    "rec = (ntp)/(ntp+nfn)\n",
    "f1 = 2*prec*rec/(prec+rec)\n",
    "fpr = nfp/(ntn+nfp)\n",
    "tpr = ntp/(ntp+nfn)\n",
    "print('Accuracy is: ', acc)\n",
    "print('Precision is: ', prec)\n",
    "print('Recall is: ', rec)\n",
    "print('F1 score is: ', f1)\n",
    "print('False positive rate is: ', fpr)\n",
    "print('True positive rate is: ', tpr)"
   ]
  },
  {
   "cell_type": "code",
   "execution_count": 197,
   "metadata": {},
   "outputs": [
    {
     "name": "stdout",
     "output_type": "stream",
     "text": [
      "0.275 :  0.48769432800355056\n"
     ]
    },
    {
     "data": {
      "text/plain": [
       "Text(0,0.5,'True positive rate')"
      ]
     },
     "execution_count": 197,
     "metadata": {},
     "output_type": "execute_result"
    },
    {
     "data": {
      "image/png": "[encoded data removed]",
      "text/plain": [
       "<Figure size 432x288 with 1 Axes>"
      ]
     },
     "metadata": {},
     "output_type": "display_data"
    }
   ],
   "source": [
    "# generate ROC curve on validation set\n",
    "tprSave = []\n",
    "fprSave = []\n",
    "probs = np.arange(0.0, 1.0, 0.025)\n",
    "for i in probs:\n",
    "    pred, ntp, ntn, nfp, nfn = makePrediction(validation, model[-1], i)\n",
    "    fprSave.append(nfp/(ntn+nfp))\n",
    "    tprSave.append(ntp/(ntp+nfn))\n",
    "\n",
    "#distance from the upper-left corner of the ROC curve - the lower, the better\n",
    "perf = np.sqrt((np.array(fprSave))**2+(1-np.array(tprSave))**2)\n",
    "print(probs[np.argmin(perf)],': ' , np.min(perf))\n",
    "\n",
    "plt.plot(fprSave, tprSave)\n",
    "plt.xlabel('False positive rate')\n",
    "plt.ylabel('True positive rate')"
   ]
  },
  {
   "cell_type": "code",
   "execution_count": 178,
   "metadata": {},
   "outputs": [
    {
     "name": "stdout",
     "output_type": "stream",
     "text": [
      "Accuracy is:  0.6856410256410257\n",
      "Precision is:  0.4\n",
      "Recall is:  0.6365591397849463\n",
      "F1 score is:  0.4912863070539419\n",
      "False positive rate is:  0.298989898989899\n",
      "True positive rate is:  0.6365591397849463\n"
     ]
    }
   ],
   "source": [
    "# make predictions and compute metrics for optimal treshProb on test dataset\n",
    "pred, ntp, ntn, nfp, nfn = makePrediction(test, model[-1], probs[np.argmin(perf)])\n",
    "\n",
    "acc = (ntp+ntn)/(ntp+ntn+nfp+nfn)\n",
    "prec = (ntp)/(ntp+nfp)\n",
    "rec = (ntp)/(ntp+nfn)\n",
    "f1 = 2*prec*rec/(prec+rec)\n",
    "fpr = nfp/(ntn+nfp)\n",
    "tpr = ntp/(ntp+nfn)\n",
    "print('Accuracy is: ', acc)\n",
    "print('Precision is: ', prec)\n",
    "print('Recall is: ', rec)\n",
    "print('F1 score is: ', f1)\n",
    "print('False positive rate is: ', fpr)\n",
    "print('True positive rate is: ', tpr)"
   ]
  },
  {
   "cell_type": "markdown",
   "metadata": {},
   "source": [
    "#### Factorization Machine"
   ]
  },
  {
   "cell_type": "code",
   "execution_count": null,
   "metadata": {},
   "outputs": [],
   "source": [
    "start = time.time()\n",
    "wInit, wInit1, wInit0 = wInitialization(train, 2)\n",
    "#print(wInit)\n",
    "logerr_train, logerr_test, models_cat2, model1s_cat2, model0s_cat2 = GradientDescent(train, validation, wInit,wInit1, wInit0, nSteps = 100,\n",
    "                                                    learningRate = 0.001, regParam = 0.01, regParam1 = 0.01, regParam0 = 0.01, verbose = True)"
   ]
  },
  {
   "cell_type": "code",
   "execution_count": null,
   "metadata": {},
   "outputs": [],
   "source": [
    "print(f\"The estimated model is: {models[-1]}\")\n",
    "print(f\"The loss of the estimated model is: {logerr_train[-1]}\")\n",
    "print()\n",
    "print()\n",
    "plt.plot(logerr_train)\n",
    "plt.plot(logerr_test)\n",
    "plt.title('Loss')\n",
    "plt.show()"
   ]
  },
  {
   "cell_type": "code",
   "execution_count": null,
   "metadata": {},
   "outputs": [],
   "source": [
    "pred, ntp, ntn, nfp, nfn = fmMakePrediction(validation, models[-1], model1s[-1], model0s[-1])\n",
    "\n",
    "cc = (ntp+ntn)/(ntp+ntn+nfp+nfn)\n",
    "prec = (ntp)/(ntp+nfp)\n",
    "rec = (ntp)/(ntp+nfn)\n",
    "f1 = 2*prec*rec/(prec+rec)\n",
    "fpr = nfp/(ntn+nfp)\n",
    "tpr = ntp/(ntp+nfn)\n",
    "print('Accuracy is: ', acc)\n",
    "print('Precision is: ', prec)\n",
    "print('Recall is: ', rec)\n",
    "print('F1 score is: ', f1)\n",
    "print('False positive rate is: ', fpr)\n",
    "print('True positive rate is: ', tpr)"
   ]
  },
  {
   "cell_type": "markdown",
   "metadata": {},
   "source": [
    "### 4.1.4 Combining Frequency and Hash Based Dimensionality Reduction\n",
    "For some categorical features, it makes sense to use a frequency based approach, while hashing is useful in other cases. 12 of the columns were amenable to frequency based approaches since 90% or more of the values were accounted for by the top 15 frequent values. The hybrid approach uses frequencies to encode these columns, while using the hash only for the other 14 columns."
   ]
  },
  {
   "cell_type": "code",
   "execution_count": 103,
   "metadata": {},
   "outputs": [
    {
     "data": {
      "text/plain": [
       "[array([0, 1, 0, 0, 0, 0, 0, 0, 0, 0, 0, 0, 0, 0, 0, 0, 0, 0, 0, 0, 0, 0,\n",
       "        1, 0, 0, 0, 0, 0, 0, 0, 0, 0, 0, 0, 0, 0, 0, 0, 0, 0, 0, 0, 0, 0,\n",
       "        0, 1, 0, 0, 0, 0, 0, 0, 0, 0, 0, 1, 0, 0, 0, 0, 0, 0, 0, 0, 1, 0,\n",
       "        0, 0, 0, 0, 0, 0, 0, 0, 0, 0, 0, 0, 0, 0, 1, 0, 0, 0, 0, 0, 0, 0,\n",
       "        0, 0, 0, 0, 0, 0, 0, 0, 0, 0, 0, 0, 0, 0, 0, 0, 0, 0, 0, 1, 0, 0,\n",
       "        0, 0, 0, 0, 1, 0, 0, 0, 0, 0, 0, 0, 0, 0, 0, 0, 0, 0, 1, 0, 0, 0,\n",
       "        0, 0, 0, 0, 0, 0, 0, 0, 0, 0, 0, 0, 0, 0, 0, 0, 0, 0, 0, 0, 0, 0,\n",
       "        1, 0, 0, 0, 0, 0, 0, 0, 0, 0, 0, 0, 0, 0, 1, 0, 0, 0, 0, 0, 0, 0,\n",
       "        0, 1, 0, 0, 0, 0, 0, 0, 0, 0, 0, 0, 0, 0, 0, 0, 0, 0, 0, 0, 0, 0,\n",
       "        0, 0, 0, 0, 0, 0, 0, 0, 1, 0, 0, 0, 1, 0, 0, 0, 0, 0, 0, 0, 0, 0,\n",
       "        0, 0, 0, 0, 0, 0, 0, 0, 0, 0, 0, 0, 0, 0, 0, 0, 0, 0, 0, 1, 0, 0,\n",
       "        0, 0, 0, 0, 0, 0, 0, 0, 0, 0, 0, 1, 0, 0, 1, 0, 0, 0, 0, 0, 0, 0,\n",
       "        0, 0, 0, 0, 0, 0, 0, 0, 0, 0, 0, 1, 0, 0, 0, 0, 0, 0, 0, 0, 0, 0,\n",
       "        0, 0, 0, 0, 0, 0, 0, 0, 0, 1, 0, 0, 0, 0, 0, 0, 0, 0, 0, 0, 0, 1,\n",
       "        0, 0, 0, 0, 0, 0, 0, 0, 0, 0, 0, 0, 0, 0, 0, 0, 0, 0, 0, 0, 0, 0,\n",
       "        0, 0, 0, 0, 1, 0, 1, 0, 0, 0, 0, 0, 0, 0, 0, 0, 0, 0, 0, 0, 0, 0,\n",
       "        0, 1, 0, 0, 0, 0, 0, 0, 0, 0, 0, 0, 0, 0, 0, 0, 0, 0, 0, 0, 0, 0,\n",
       "        0, 0, 0, 1, 0, 0, 0, 0, 0, 0, 0, 1, 0, 0, 0, 0, 0, 0, 0, 0, 0, 0,\n",
       "        0, 0, 0, 0, 0, 0, 0, 0, 0, 0, 0, 0, 0, 1, 0, 0, 0, 0, 0, 0])]"
      ]
     },
     "execution_count": 103,
     "metadata": {},
     "output_type": "execute_result"
    }
   ],
   "source": [
    "def hybridFreqHashTrans (top15df, rdd):\n",
    "\n",
    "    #First create Broadcast variable\n",
    "    top15dfB = sc.broadcast(top15df)\n",
    "    \n",
    "    #set FreqThr at 90% for using frequency to bin the categories\n",
    "    TOP15_FREQ_THR = 90\n",
    "\n",
    "    #Define murmurHash level for 1-hot encoding\n",
    "    HASHLEN = 16\n",
    "    \n",
    "    #top15df = pd.DataFrame(columns=['col', 'top15_values', 'top15_pct_contribution'])\n",
    "    \n",
    "    def transformRow (row, top15df, hlen):\n",
    "        col = 0\n",
    "        transformedRow = []\n",
    "        \n",
    "        for x in row:\n",
    "            #Get frequency based map\n",
    "            if (top15df.loc[col]['top15_pct_contribution'] > 90):\n",
    "                xtrans = 15\n",
    "                for (ind,topElem) in enumerate(top15df.loc[col]['top15_values']):\n",
    "                    if (x == topElem):\n",
    "                        xtrans = ind\n",
    "            #else hash\n",
    "            else:\n",
    "                xtrans = mmh3.hash(x+str(col)) % int(hlen)\n",
    "        \n",
    "            transformedRow.append(xtrans)\n",
    "            \n",
    "            #Do this for all elements\n",
    "            col += 1\n",
    "        return (transformedRow)\n",
    "\n",
    "    def create1Hot(elem, hlen):\n",
    "        oneHotStr = []\n",
    "        #for hashStr in elem:\n",
    "        for i in range (hlen):\n",
    "            if (i == elem):\n",
    "                oneHotStr.append(1)\n",
    "            else:\n",
    "                oneHotStr.append(0)\n",
    "        return(oneHotStr)\n",
    "\n",
    "    def createCatArray(elem):\n",
    "        catArray = []\n",
    "        for array in elem:\n",
    "            for x in array:\n",
    "                catArray.append(x)\n",
    "        return(np.array(catArray))\n",
    "\n",
    "\n",
    "\n",
    "    categoricalRdd = rdd.map(lambda x : x.split('\\t')[14:40]) \\\n",
    "                        .map(lambda x: transformRow(x, top15dfB.value, HASHLEN)) \\\n",
    "                        .map(lambda x: [create1Hot(xn, HASHLEN) for xn in x]) \\\n",
    "                        .map(createCatArray)\n",
    "    return(categoricalRdd)\n",
    "\n",
    "#Read in the complete dataset\n",
    "train_sample_rdd = sc.textFile('data/sample_training.txt')\n",
    "\n",
    "#Get the top 1000 rows only (as before for numerical variables)\n",
    "testRdd = sc.parallelize(train_sample_rdd.take(10000),1)\n",
    "\n",
    "hybridCatRdd = hybridFreqHashTrans(top15df, testRdd)\n",
    "\n",
    "hybridCatRdd.take(1)"
   ]
  },
  {
   "cell_type": "code",
   "execution_count": 100,
   "metadata": {},
   "outputs": [
    {
     "data": {
      "text/plain": [
       "[(0.0, array([-0.45879823, -0.24774127, -0.04629014, -0.85019922, -0.24482546,\n",
       "         -0.40934022, -0.02096037, -0.63143545,  0.18286248,  0.7486028 ,\n",
       "         -0.10449796,  0.01324891, -0.49600354,  0.        ,  1.        ,\n",
       "          0.        ,  0.        ,  0.        ,  0.        ,  0.        ,\n",
       "          0.        ,  0.        ,  0.        ,  0.        ,  0.        ,\n",
       "          0.        ,  0.        ,  0.        ,  0.        ,  0.        ,\n",
       "          0.        ,  0.        ,  0.        ,  0.        ,  0.        ,\n",
       "          1.        ,  0.        ,  0.        ,  0.        ,  0.        ,\n",
       "          0.        ,  0.        ,  0.        ,  0.        ,  0.        ,\n",
       "          0.        ,  0.        ,  0.        ,  0.        ,  0.        ,\n",
       "          0.        ,  0.        ,  0.        ,  0.        ,  0.        ,\n",
       "          0.        ,  0.        ,  0.        ,  1.        ,  0.        ,\n",
       "          0.        ,  0.        ,  0.        ,  0.        ,  0.        ,\n",
       "          0.        ,  0.        ,  0.        ,  1.        ,  0.        ,\n",
       "          0.        ,  0.        ,  0.        ,  0.        ,  0.        ,\n",
       "          0.        ,  0.        ,  1.        ,  0.        ,  0.        ,\n",
       "          0.        ,  0.        ,  0.        ,  0.        ,  0.        ,\n",
       "          0.        ,  0.        ,  0.        ,  0.        ,  0.        ,\n",
       "          0.        ,  0.        ,  0.        ,  1.        ,  0.        ,\n",
       "          0.        ,  0.        ,  0.        ,  0.        ,  0.        ,\n",
       "          0.        ,  0.        ,  0.        ,  0.        ,  0.        ,\n",
       "          0.        ,  0.        ,  0.        ,  0.        ,  0.        ,\n",
       "          0.        ,  0.        ,  0.        ,  0.        ,  0.        ,\n",
       "          0.        ,  0.        ,  0.        ,  0.        ,  0.        ,\n",
       "          1.        ,  0.        ,  0.        ,  0.        ,  0.        ,\n",
       "          0.        ,  0.        ,  1.        ,  0.        ,  0.        ,\n",
       "          0.        ,  0.        ,  0.        ,  0.        ,  0.        ,\n",
       "          0.        ,  0.        ,  0.        ,  0.        ,  0.        ,\n",
       "          0.        ,  1.        ,  0.        ,  0.        ,  0.        ,\n",
       "          0.        ,  0.        ,  0.        ,  0.        ,  0.        ,\n",
       "          0.        ,  0.        ,  0.        ,  0.        ,  0.        ,\n",
       "          0.        ,  0.        ,  0.        ,  0.        ,  0.        ,\n",
       "          0.        ,  0.        ,  0.        ,  0.        ,  0.        ,\n",
       "          0.        ,  0.        ,  1.        ,  0.        ,  0.        ,\n",
       "          0.        ,  0.        ,  0.        ,  0.        ,  0.        ,\n",
       "          0.        ,  0.        ,  0.        ,  0.        ,  0.        ,\n",
       "          0.        ,  1.        ,  0.        ,  0.        ,  0.        ,\n",
       "          0.        ,  0.        ,  0.        ,  0.        ,  0.        ,\n",
       "          1.        ,  0.        ,  0.        ,  0.        ,  0.        ,\n",
       "          0.        ,  0.        ,  0.        ,  0.        ,  0.        ,\n",
       "          0.        ,  0.        ,  0.        ,  0.        ,  0.        ,\n",
       "          0.        ,  0.        ,  0.        ,  0.        ,  0.        ,\n",
       "          0.        ,  0.        ,  0.        ,  0.        ,  0.        ,\n",
       "          0.        ,  0.        ,  0.        ,  0.        ,  1.        ,\n",
       "          0.        ,  0.        ,  0.        ,  1.        ,  0.        ,\n",
       "          0.        ,  0.        ,  0.        ,  0.        ,  0.        ,\n",
       "          0.        ,  0.        ,  0.        ,  0.        ,  0.        ,\n",
       "          0.        ,  0.        ,  0.        ,  0.        ,  0.        ,\n",
       "          0.        ,  0.        ,  0.        ,  0.        ,  0.        ,\n",
       "          0.        ,  0.        ,  0.        ,  0.        ,  0.        ,\n",
       "          0.        ,  0.        ,  1.        ,  0.        ,  0.        ,\n",
       "          0.        ,  0.        ,  0.        ,  0.        ,  0.        ,\n",
       "          0.        ,  0.        ,  0.        ,  0.        ,  0.        ,\n",
       "          0.        ,  1.        ,  0.        ,  0.        ,  1.        ,\n",
       "          0.        ,  0.        ,  0.        ,  0.        ,  0.        ,\n",
       "          0.        ,  0.        ,  0.        ,  0.        ,  0.        ,\n",
       "          0.        ,  0.        ,  0.        ,  0.        ,  0.        ,\n",
       "          0.        ,  0.        ,  0.        ,  1.        ,  0.        ,\n",
       "          0.        ,  0.        ,  0.        ,  0.        ,  0.        ,\n",
       "          0.        ,  0.        ,  0.        ,  0.        ,  0.        ,\n",
       "          0.        ,  0.        ,  0.        ,  0.        ,  0.        ,\n",
       "          0.        ,  0.        ,  0.        ,  1.        ,  0.        ,\n",
       "          0.        ,  0.        ,  0.        ,  0.        ,  0.        ,\n",
       "          0.        ,  0.        ,  0.        ,  0.        ,  0.        ,\n",
       "          1.        ,  0.        ,  0.        ,  0.        ,  0.        ,\n",
       "          0.        ,  0.        ,  0.        ,  0.        ,  0.        ,\n",
       "          0.        ,  0.        ,  0.        ,  0.        ,  0.        ,\n",
       "          0.        ,  0.        ,  0.        ,  0.        ,  0.        ,\n",
       "          0.        ,  0.        ,  0.        ,  0.        ,  0.        ,\n",
       "          0.        ,  0.        ,  1.        ,  0.        ,  1.        ,\n",
       "          0.        ,  0.        ,  0.        ,  0.        ,  0.        ,\n",
       "          0.        ,  0.        ,  0.        ,  0.        ,  0.        ,\n",
       "          0.        ,  0.        ,  0.        ,  0.        ,  0.        ,\n",
       "          0.        ,  1.        ,  0.        ,  0.        ,  0.        ,\n",
       "          0.        ,  0.        ,  0.        ,  0.        ,  0.        ,\n",
       "          0.        ,  0.        ,  0.        ,  0.        ,  0.        ,\n",
       "          0.        ,  0.        ,  0.        ,  0.        ,  0.        ,\n",
       "          0.        ,  0.        ,  0.        ,  0.        ,  0.        ,\n",
       "          1.        ,  0.        ,  0.        ,  0.        ,  0.        ,\n",
       "          0.        ,  0.        ,  0.        ,  1.        ,  0.        ,\n",
       "          0.        ,  0.        ,  0.        ,  0.        ,  0.        ,\n",
       "          0.        ,  0.        ,  0.        ,  0.        ,  0.        ,\n",
       "          0.        ,  0.        ,  0.        ,  0.        ,  0.        ,\n",
       "          0.        ,  0.        ,  0.        ,  0.        ,  0.        ,\n",
       "          0.        ,  0.        ,  1.        ,  0.        ,  0.        ,\n",
       "          0.        ,  0.        ,  0.        ,  0.        ]))]"
      ]
     },
     "execution_count": 100,
     "metadata": {},
     "output_type": "execute_result"
    }
   ],
   "source": [
    "#Now include this into the logistic regression model\n",
    "#Zip numerical and categorical variables\n",
    "\n",
    "def mergeNumPlusCatRdds(elem):\n",
    "    x, y = elem\n",
    "    xkey , xval = x\n",
    "    merge =  (xkey, np.hstack((xval,y)))\n",
    "    return(merge)\n",
    "\n",
    "numPlusCatRdd3 = normedRDD.zip(hybridCatRdd) \\\n",
    "                         .map(mergeNumPlusCatRdds)\n",
    "numPlusCatRdd3.take(1)"
   ]
  },
  {
   "cell_type": "code",
   "execution_count": 95,
   "metadata": {},
   "outputs": [
    {
     "name": "stdout",
     "output_type": "stream",
     "text": [
      "429\n"
     ]
    }
   ],
   "source": [
    "#compute the number of features\n",
    "numb_features = np.size(numPlusCatRdd3.first()[1])\n",
    "print(numb_features)\n",
    "#define baseline model, add one parameter representing the intercept\n",
    "BASELINE = np.random.randn(numb_features + 1)"
   ]
  },
  {
   "cell_type": "code",
   "execution_count": 96,
   "metadata": {},
   "outputs": [],
   "source": [
    "#split into train, validation and test sets\n",
    "train, validation, test = numPlusCatRdd3.randomSplit([0.6, 0.2, 0.2])"
   ]
  },
  {
   "cell_type": "code",
   "execution_count": 101,
   "metadata": {},
   "outputs": [
    {
     "data": {
      "image/png": "[encoded data removed]",
      "text/plain": [
       "<Figure size 432x288 with 1 Axes>"
      ]
     },
     "metadata": {},
     "output_type": "display_data"
    }
   ],
   "source": [
    "nSteps = 150\n",
    "regType = 'ridge'\n",
    "regParam = 0.1\n",
    "learningRate = 0.1\n",
    "\n",
    "# run gradient descent\n",
    "train_loss, test_loss, model = GDUpdate(train, validation, BASELINE, nSteps, regType=regType, \n",
    "                                        regParam=regParam, learningRate=learningRate, verbose = False)\n",
    "\n",
    "plt.plot(train_loss)\n",
    "plt.plot(test_loss)\n",
    "plt.title('Loss')\n",
    "plt.show()"
   ]
  },
  {
   "cell_type": "code",
   "execution_count": 102,
   "metadata": {},
   "outputs": [
    {
     "name": "stdout",
     "output_type": "stream",
     "text": [
      "Accuracy is:  0.7901541521631029\n",
      "Precision is:  0.47619047619047616\n",
      "Recall is:  0.023752969121140142\n",
      "F1 score is:  0.04524886877828054\n",
      "False positive rate is:  0.006918238993710692\n",
      "True positive rate is:  0.023752969121140142\n"
     ]
    }
   ],
   "source": [
    "# make predictions and compute metrics for treshProb = 0.5\n",
    "pred, ntp, ntn, nfp, nfn = makePrediction(validation, model[-1], 0.5)\n",
    "\n",
    "acc = (ntp+ntn)/(ntp+ntn+nfp+nfn)\n",
    "prec = (ntp)/(ntp+nfp)\n",
    "rec = (ntp)/(ntp+nfn)\n",
    "f1 = 2*prec*rec/(prec+rec)\n",
    "fpr = nfp/(ntn+nfp)\n",
    "tpr = ntp/(ntp+nfn)\n",
    "print('Accuracy is: ', acc)\n",
    "print('Precision is: ', prec)\n",
    "print('Recall is: ', rec)\n",
    "print('F1 score is: ', f1)\n",
    "print('False positive rate is: ', fpr)\n",
    "print('True positive rate is: ', tpr)"
   ]
  },
  {
   "cell_type": "code",
   "execution_count": null,
   "metadata": {},
   "outputs": [],
   "source": [
    "start = time.time()\n",
    "wInit, wInit1, wInit0 = wInitialization(train, 2)\n",
    "logerr_train, logerr_test, models, model1s, model0s = GradientDescent(train, validation, wInit, wInit1, wInit0, nSteps = 100,\n",
    "                                                    learningRate = 0.002, regParam = 0.01, regParam1 = 0.01, regParam0 = 0.01, verbose = True)\n",
    "print(f\"\\n... trained {len(models)} iterations in {time.time() - start} seconds\")"
   ]
  },
  {
   "cell_type": "code",
   "execution_count": null,
   "metadata": {},
   "outputs": [],
   "source": [
    "print(f\"The estimated model is: {models[-1]}\")\n",
    "print(f\"The loss of the estimated model is: {logerr_train[-1]}\")\n",
    "print()\n",
    "print()\n",
    "plt.plot(logerr_train)\n",
    "plt.plot(logerr_test)\n",
    "plt.title('Loss')\n",
    "plt.show()"
   ]
  },
  {
   "cell_type": "code",
   "execution_count": null,
   "metadata": {},
   "outputs": [],
   "source": [
    "pred, ntp, ntn, nfp, nfn = fmMakePrediction(validation, models[-1], model1s[-1], model0s[-1])\n",
    "\n",
    "cc = (ntp+ntn)/(ntp+ntn+nfp+nfn)\n",
    "prec = (ntp)/(ntp+nfp)\n",
    "rec = (ntp)/(ntp+nfn)\n",
    "f1 = 2*prec*rec/(prec+rec)\n",
    "fpr = nfp/(ntn+nfp)\n",
    "tpr = ntp/(ntp+nfn)\n",
    "print('Accuracy is: ', acc)\n",
    "print('Precision is: ', prec)\n",
    "print('Recall is: ', rec)\n",
    "print('F1 score is: ', f1)\n",
    "print('False positive rate is: ', fpr)\n",
    "print('True positive rate is: ', tpr)"
   ]
  },
  {
   "cell_type": "markdown",
   "metadata": {},
   "source": [
    "# __Section 5__ - Course Concepts"
   ]
  },
  {
   "cell_type": "markdown",
   "metadata": {},
   "source": [
    "**[Shall we put a conclusion here in combination with course concepts? This can cover our submission to Kaggle results]** \n",
    "\n",
    "In this assignment, we were provided with a training data set from Criteo on Kaggle that consisted of numerical and categorical features that described particular ads that were provided to an audience, thus resulting in either a successful click-through or not. Our goal was to construct a predictive model that would predict a final binary outcome (1 for successful click through, 0 for unsuccessful click through) given new data consisting of the same numerical and categorical features. \n",
    "\n",
    "Such a challenge certainly is not new, but the sheer scale of such a data set (particularly the high dimensionality of the categorical columns) definitely warranted a second look at taking advantage of the map-reduce framework behind Spark as well as optimizations through statistical observations on value frequency as well as pipelining processes to preprocess features, train and cross-validate our hyperparameters, and finally test our model.\n",
    "\n",
    "Below is a brief outline of all steps taken in this notebook to tackle the prediction problem, along with highlights of what course concepts we found ourselves covering: \n",
    "\n",
    "1. EDA \n",
    "    * After a sampling of the full file, the EDA portion utilized the map/reduce framework of Spark RDDs to calculate basic statistics for the numerical and categorical variables in an attempt to visualize the difference between the successful and unsuccessful click-through ads. \n",
    "2. Logistic Regression Algorithm Implementation \n",
    "    * To implement logistic regression with gradient descent (modified for Lasso and Ridge regularization), we took advantage of Spark RDD's and their distributed computing via map/reduce to scale Gradient Descent efficiently. Moreover, we began to look at the transformation of numerical variables via log and normalization. \n",
    "3. [FFM?] \n",
    "4. Categorical Variables: Dimensionality Reduction \n",
    "    * To implement hashing, we took advantage of Spark DataFrames and other optimization for Big Data, such as MLLib's FeatureHasher. \n",
    "5. Pipelining \n",
    "    * Combining all our parts together, we utilized Spark Pipelines to create stages of transformations or estimators that would do the preprocessing and assembling of our feature vectors together to be fed into our final Logistic Regression model. \n",
    "\n",
    "============================================\n",
    "\n",
    "(Scratch notes for now; listing out points to mention for each core concept we covered) \n",
    "\n",
    "* Parallel Computation, Map Reduce Framework with Spark RDDs \n",
    "* Distributed Supervised ML \n",
    "    * Logistic Regression\n",
    "* Spark Optimizations for Big Data and DataFrames\n",
    "    * Spark MLLib Feature Hasher \n",
    "    * Pipeline \n",
    "* ALS and Spark MLLib\n",
    "    * Factorization Machines "
   ]
  },
  {
   "cell_type": "markdown",
   "metadata": {},
   "source": []
  },
  {
   "cell_type": "markdown",
   "metadata": {},
   "source": []
  },
  {
   "cell_type": "markdown",
   "metadata": {},
   "source": [
    "### TOY EXAMPLE - comparison with ScikitLearn"
   ]
  },
  {
   "cell_type": "code",
   "execution_count": null,
   "metadata": {},
   "outputs": [],
   "source": [
    "#TOY EXAMPLE STARTS HERE\n",
    "numb_features = 2\n",
    "\n",
    "N = 100\n",
    "D = 3\n",
    "\n",
    "X_toy = np.random.randn(N,D)\n",
    "\n",
    "# center the first 50 points at (-1,-1)\n",
    "X_toy[:50,:] = X_toy[:50,:] - 1*np.ones((50,D))\n",
    "\n",
    "# center the last 50 points at (2, 2)\n",
    "X_toy[50:,:] = X_toy[50:,:] + 2*np.ones((50,D))\n",
    "\n",
    "X_toy[:50,0] = 0\n",
    "X_toy[50:,0] = 1\n",
    "\n",
    "rdd1 = sc.parallelize(X_toy)\n",
    "rdd1 = rdd1.map(lambda x: [float(i) for i in x])\n",
    "toy_sample_red = rdd1.toDF([\"_1\", \"_2\", \"_3\"])\n",
    "toy_sample_red_RDD = toy_sample_red.rdd.map(lambda x: (x[0], x[1:])).cache()"
   ]
  },
  {
   "cell_type": "code",
   "execution_count": null,
   "metadata": {},
   "outputs": [],
   "source": [
    "#define baseline model, add one parameter representing the intercept\n",
    "BASELINE = np.random.randn(numb_features + 1)"
   ]
  },
  {
   "cell_type": "code",
   "execution_count": null,
   "metadata": {},
   "outputs": [],
   "source": [
    "nSteps = 150\n",
    "learningRate = 0.5\n",
    "regType = 'ridge'\n",
    "regParam = 0.05\n",
    "\n",
    "Loss_save = []\n",
    "Model_norm = []\n",
    "#broadcast model\n",
    "model = BASELINE\n",
    "for idx in range(nSteps):\n",
    "    #print(\"----------\")\n",
    "    #print(f\"STEP: {idx+1}\")\n",
    "    \n",
    "    # compute loss\n",
    "    loss = LogLoss(toy_sample_red_RDD, model, regType=regType, regParam=regParam)\n",
    "    # update model parameters\n",
    "    model = GDUpdate(toy_sample_red_RDD, model, regType=regType, regParam=regParam, learningRate=learningRate)\n",
    "    \n",
    "    #store results\n",
    "    Loss_save.append(loss)\n",
    "    Model_norm.append(np.linalg.norm(model))\n",
    "\n",
    "print(f\"The estimated model is: {model}\")\n",
    "print(f\"The loss of the estimated model is: {loss}\")\n",
    "print()\n",
    "print()\n",
    "plt.plot(Loss_save)\n",
    "plt.title('Loss')\n",
    "plt.show()\n",
    "plt.plot(Model_norm)\n",
    "plt.title('Norm of vector of parameters')"
   ]
  },
  {
   "cell_type": "code",
   "execution_count": null,
   "metadata": {},
   "outputs": [],
   "source": [
    "#actual simulated value is 50\n",
    "res = makePrediction(toy_sample_red_RDD, model).cache()\n",
    "res.sum()"
   ]
  },
  {
   "cell_type": "code",
   "execution_count": null,
   "metadata": {},
   "outputs": [],
   "source": [
    "import sklearn\n",
    "from sklearn.linear_model import LogisticRegression\n",
    "X, y = X_toy[:,1:],X_toy[:,0]\n",
    "clf = LogisticRegression(random_state=0, solver='lbfgs',fit_intercept=True).fit(X, y)\n",
    "print(clf.coef_, clf.intercept_)"
   ]
  },
  {
   "cell_type": "code",
   "execution_count": null,
   "metadata": {},
   "outputs": [],
   "source": [
    "plt.scatter(X_toy[:,1], X_toy[:,2], c=X_toy[:,0], s=100, alpha=0.5)\n",
    "x_axis = np.linspace(-6, 6, 100)\n",
    "y_axis = -(model[0] + x_axis*model[1]) / model[2]\n",
    "plt.plot(x_axis, y_axis)\n",
    "y_axis = -(clf.intercept_+x_axis*clf.coef_[0][0]) / clf.coef_[0][1]\n",
    "plt.plot(x_axis, y_axis)\n",
    "plt.show()"
   ]
  },
  {
   "cell_type": "code",
   "execution_count": null,
   "metadata": {},
   "outputs": [],
   "source": []
  },
  {
   "cell_type": "code",
   "execution_count": null,
   "metadata": {},
   "outputs": [],
   "source": []
  },
  {
   "cell_type": "code",
   "execution_count": null,
   "metadata": {},
   "outputs": [],
   "source": [
    "convert_cols = ['_1','_2','_3','_4','_5','_6','_7','_8','_9','_10','_11','_12','_13','_14']"
   ]
  },
  {
   "cell_type": "code",
   "execution_count": null,
   "metadata": {},
   "outputs": [],
   "source": [
    "#generate train data for homegrown solution - select only 1000 rows and only numerical features + one categorical variable +target \n",
    "train_sample_red = train_sample.select(convert_cols + ['_23']).limit(1000)"
   ]
  },
  {
   "cell_type": "code",
   "execution_count": null,
   "metadata": {},
   "outputs": [],
   "source": [
    "train_sample_red.show(3)"
   ]
  },
  {
   "cell_type": "code",
   "execution_count": null,
   "metadata": {},
   "outputs": [],
   "source": [
    "#impute missing values with averages\n",
    "from pyspark.sql.functions import avg\n",
    "for col in convert_cols:\n",
    "    train_sample_red = train_sample_red.na.fill(round(train_sample_red.na.drop().agg(avg(col)).first()[0],1), [col])"
   ]
  },
  {
   "cell_type": "code",
   "execution_count": null,
   "metadata": {},
   "outputs": [],
   "source": [
    "from pyspark.sql.functions import col, split\n",
    "df = train_sample_red.withColumn(\"_23\", split(col(\"_23\"),\" \"))\n",
    "df.show(3)"
   ]
  },
  {
   "cell_type": "code",
   "execution_count": null,
   "metadata": {},
   "outputs": [],
   "source": [
    "from pyspark.ml.feature import CountVectorizer\n",
    "cat_Vectorizer = CountVectorizer(inputCol=\"_23\", outputCol=\"_23_array\", vocabSize=4, minDF=1.0)"
   ]
  },
  {
   "cell_type": "code",
   "execution_count": null,
   "metadata": {},
   "outputs": [],
   "source": [
    "catVectorizer_model = cat_Vectorizer.fit(df)"
   ]
  },
  {
   "cell_type": "code",
   "execution_count": null,
   "metadata": {},
   "outputs": [],
   "source": [
    "df_ohe = catVectorizer_model.transform(df)"
   ]
  },
  {
   "cell_type": "code",
   "execution_count": null,
   "metadata": {},
   "outputs": [],
   "source": [
    "StringIndexer(inputCols=[\"gender\"], outputCols=[\"gender_numeric\"])"
   ]
  },
  {
   "cell_type": "markdown",
   "metadata": {},
   "source": [
    "### Cardinality of categorical variables"
   ]
  },
  {
   "cell_type": "code",
   "execution_count": null,
   "metadata": {},
   "outputs": [],
   "source": [
    "# number of unique categorical values\n",
    "from pyspark.sql.functions import col\n",
    "for col in train_sample.columns[14:]:\n",
    "    print('Column ' + col + ' has ' + str(train_sample.select(col).distinct().count()) \\\n",
    "          + ' unique categorical values')"
   ]
  },
  {
   "cell_type": "markdown",
   "metadata": {},
   "source": [
    "### Bar plots of selected variables"
   ]
  },
  {
   "cell_type": "code",
   "execution_count": null,
   "metadata": {},
   "outputs": [],
   "source": [
    "# histogram of target variable\n",
    "hist_c1 = train_sample.select('_1').rdd.flatMap(lambda x: x).histogram(2)\n",
    "pd.DataFrame(list(zip(*hist_c1))).set_index(0).plot(kind='bar');"
   ]
  },
  {
   "cell_type": "code",
   "execution_count": null,
   "metadata": {},
   "outputs": [],
   "source": [
    "# histogram of column 20\n",
    "hist_c20 = train_sample.groupBy('_20').count().collect()\n",
    "pd.DataFrame(list(zip(*hist_c20))).T.set_index(0).plot(kind='bar')"
   ]
  },
  {
   "cell_type": "code",
   "execution_count": null,
   "metadata": {},
   "outputs": [],
   "source": [
    "# histogram of column 23\n",
    "hist_c23 = train_sample.groupBy('_23').count().collect()\n",
    "pd.DataFrame(list(zip(*hist_c23))).T.set_index(0).plot(kind='bar')"
   ]
  },
  {
   "cell_type": "code",
   "execution_count": null,
   "metadata": {},
   "outputs": [],
   "source": [
    "# histogram of column 28\n",
    "hist_c28 = train_sample.groupBy('_28').count().collect()\n",
    "pd.DataFrame(list(zip(*hist_c28))).T.set_index(0).plot(kind='bar')"
   ]
  },
  {
   "cell_type": "code",
   "execution_count": null,
   "metadata": {},
   "outputs": [],
   "source": [
    "# histogram of column 31\n",
    "hist_c31 = train_sample.groupBy('_31').count().collect()\n",
    "pd.DataFrame(list(zip(*hist_c31))).T.set_index(0).plot(kind='bar')"
   ]
  },
  {
   "cell_type": "code",
   "execution_count": null,
   "metadata": {},
   "outputs": [],
   "source": [
    "# histogram of column 34\n",
    "hist_c34 = train_sample.groupBy('_34').count().collect()\n",
    "pd.DataFrame(list(zip(*hist_c34))).T.set_index(0).plot(kind='bar')"
   ]
  },
  {
   "cell_type": "code",
   "execution_count": null,
   "metadata": {},
   "outputs": [],
   "source": [
    "# histogram of column 36\n",
    "hist_c36 = train_sample.groupBy('_36').count().collect()\n",
    "pd.DataFrame(list(zip(*hist_c36))).T.set_index(0).plot(kind='bar')"
   ]
  },
  {
   "cell_type": "markdown",
   "metadata": {},
   "source": [
    "### Estimates of ctr based on category"
   ]
  },
  {
   "cell_type": "code",
   "execution_count": null,
   "metadata": {},
   "outputs": [],
   "source": [
    "# for column 20\n",
    "list_labls_vals = list(zip(*train_sample.groupBy('_20').sum('_1').collect()))\n",
    "labls = list_labls_vals[0]\n",
    "vals = np.array(list_labls_vals[1])/np.array(list(zip(*train_sample.groupBy('_20').count().collect()))[1])\n",
    "\n",
    "ax = pd.DataFrame(vals).plot(kind='bar')\n",
    "ax.set_xticklabels(labls)"
   ]
  },
  {
   "cell_type": "code",
   "execution_count": null,
   "metadata": {},
   "outputs": [],
   "source": [
    "# for column 23\n",
    "list_labls_vals = list(zip(*train_sample.groupBy('_23').sum('_1').collect()))\n",
    "labls = list_labls_vals[0]\n",
    "vals = np.array(list_labls_vals[1])/np.array(list(zip(*train_sample.groupBy('_23').count().collect()))[1])\n",
    "\n",
    "ax = pd.DataFrame(vals).plot(kind='bar')\n",
    "ax.set_xticklabels(labls)"
   ]
  },
  {
   "cell_type": "code",
   "execution_count": null,
   "metadata": {},
   "outputs": [],
   "source": [
    "# for column 28\n",
    "list_labls_vals = list(zip(*train_sample.groupBy('_28').sum('_1').collect()))\n",
    "labls = list_labls_vals[0]\n",
    "vals = np.array(list_labls_vals[1])/np.array(list(zip(*train_sample.groupBy('_28').count().collect()))[1])\n",
    "\n",
    "ax = pd.DataFrame(vals).plot(kind='bar')\n",
    "ax.set_xticklabels(labls)"
   ]
  },
  {
   "cell_type": "code",
   "execution_count": null,
   "metadata": {},
   "outputs": [],
   "source": [
    "# for column 31\n",
    "list_labls_vals = list(zip(*train_sample.groupBy('_31').sum('_1').collect()))\n",
    "labls = list_labls_vals[0]\n",
    "vals = np.array(list_labls_vals[1])/np.array(list(zip(*train_sample.groupBy('_31').count().collect()))[1])\n",
    "\n",
    "ax = pd.DataFrame(vals).plot(kind='bar')\n",
    "ax.set_xticklabels(labls)"
   ]
  },
  {
   "cell_type": "code",
   "execution_count": null,
   "metadata": {},
   "outputs": [],
   "source": [
    "# for column 34\n",
    "list_labls_vals = list(zip(*train_sample.groupBy('_34').sum('_1').collect()))\n",
    "labls = list_labls_vals[0]\n",
    "vals = np.array(list_labls_vals[1])/np.array(list(zip(*train_sample.groupBy('_34').count().collect()))[1])\n",
    "\n",
    "ax = pd.DataFrame(vals).plot(kind='bar')\n",
    "ax.set_xticklabels(labls)"
   ]
  },
  {
   "cell_type": "code",
   "execution_count": null,
   "metadata": {},
   "outputs": [],
   "source": [
    "# for column 36\n",
    "list_labls_vals = list(zip(*train_sample.groupBy('_36').sum('_1').collect()))\n",
    "labls = list_labls_vals[0]\n",
    "vals = np.array(list_labls_vals[1])/np.array(list(zip(*train_sample.groupBy('_36').count().collect()))[1])\n",
    "\n",
    "ax = pd.DataFrame(vals).plot(kind='bar')\n",
    "ax.set_xticklabels(labls)"
   ]
  },
  {
   "cell_type": "code",
   "execution_count": null,
   "metadata": {},
   "outputs": [],
   "source": []
  }
 ],
 "metadata": {
  "kernelspec": {
   "display_name": "Python 3",
   "language": "python",
   "name": "python3"
  },
  "language_info": {
   "codemirror_mode": {
    "name": "ipython",
    "version": 3
   },
   "file_extension": ".py",
   "mimetype": "text/x-python",
   "name": "python",
   "nbconvert_exporter": "python",
   "pygments_lexer": "ipython3",
   "version": "3.6.6"
  }
 },
 "nbformat": 4,
 "nbformat_minor": 2
}
