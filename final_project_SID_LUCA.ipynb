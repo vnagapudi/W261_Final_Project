{
 "cells": [
  {
   "cell_type": "markdown",
   "metadata": {},
   "source": [
    "# w261 Final Project - Clickthrough Rate Prediction\n"
   ]
  },
  {
   "cell_type": "markdown",
   "metadata": {},
   "source": [
    "Team 24   \n",
    "Vivian Lu, Siddhartha Jakkamreddy, Venky Nagapudi, Luca Garre   \n",
    "Summer 2019, sections 4 and 5   "
   ]
  },
  {
   "cell_type": "markdown",
   "metadata": {},
   "source": [
    "## Table of Contents\n",
    "\n",
    "* __Section 1__ - Question Formulation\n",
    "* __Section 2__ - Algorithm Explanation\n",
    "* __Section 3__ - EDA & Challenges\n",
    "* __Section 4__ - Algorithm Implementation\n",
    "* __Section 5__ - Course Concepts"
   ]
  },
  {
   "cell_type": "markdown",
   "metadata": {},
   "source": [
    "# __Section 1__ - Question Formulation"
   ]
  },
  {
   "cell_type": "markdown",
   "metadata": {},
   "source": [
    "## __Introduction__\n",
    "Online ad is a multibillion dollar industry fueled by large investments and ever increasing performance goals. Targeted advertisement based on users' browsing industry and demographic, ad features such as overall appearance, employed colors and text, and website features such as ad's relative placement in the webpage, sizes, etc., is receiving more and more interest due to its potential for revenue generation. In this context, machine learning is proving resourceful in the understanding of the features that mostly affect users' Click-Through Rates (CTR) and, based on this understanding, in informing the design of ads that maximize performance metrics such as click and convertion rates. Further, machine learning solutions can easily be deployed in a data pipeline enviroment in order to select and offer, on a user-specific basis, the ad which expectedly maximizes the user's interest. \n",
    "\n",
    "...\n",
    "\n",
    "## __Goal of the analysis__\n",
    "The purpose of the present analysis is to estimate whether a given ad will be clicked based on a set of features describing the ad. \n",
    "\n",
    "...\n",
    "\n",
    "## __Description of the dataset__\n",
    "The dataset is provided by __[put_reference_to_CriteoLabs]__ and is composed of three files, a `readme.txt`, a `train.txt` and a `test.txt` file, respectively. The readme file contains a brief description of the data. The `train.txt` and `test.txt` files contain the train and test data. Both files are formatted as tab separated value tables, and amount to 45840617 and 6042135 rows for the train and test data, respectively. Following the description of the data, each row represents an ad and contains the following fields (see commands below, these expect the data to be contained in a data folder inside the current working directory):\n",
    "\n",
    "- 1 binary field indicating whether the ad has been clicked (1) or not (0). This field is available only for the train data;\n",
    "- 13 fields containing integer features representing counts;\n",
    "- 26 categorical features. These are hashed as 32 bits keys for anonymization purposes;\n",
    "\n",
    "From a printout of the first rows of the data files it appears that the data contain no headers. This implies that, with the sole exception of the first binary field, it is not possible to characterize the various fields in terms of the features these represent. It is also noted that rows in the data can have missing values. This is again noticed when looking at the printed lines, as these have a number of entries which is lower than the number of fields specified in the `readme.txt` file. \n",
    "\n",
    "..."
   ]
  },
  {
   "cell_type": "code",
   "execution_count": 78,
   "metadata": {},
   "outputs": [
    {
     "name": "stdout",
     "output_type": "stream",
     "text": [
      "45840617 data/train.txt\n"
     ]
    }
   ],
   "source": [
    "#number of rows in the train data\n",
    "!wc -l data/train.txt"
   ]
  },
  {
   "cell_type": "code",
   "execution_count": 71,
   "metadata": {},
   "outputs": [
    {
     "name": "stdout",
     "output_type": "stream",
     "text": [
      "6042135 data/test.txt\n"
     ]
    }
   ],
   "source": [
    "#number of rows in the test data\n",
    "!wc -l data/test.txt"
   ]
  },
  {
   "cell_type": "code",
   "execution_count": 1,
   "metadata": {},
   "outputs": [
    {
     "name": "stdout",
     "output_type": "stream",
     "text": [
      "0\t1\t1\t5\t0\t1382\t4\t15\t2\t181\t1\t2\t\t2\t68fd1e64\t80e26c9b\tfb936136\t7b4723c4\t25c83c98\t7e0ccccf\tde7995b8\t1f89b562\ta73ee510\ta8cd5504\tb2cb9c98\t37c9c164\t2824a5f6\t1adce6ef\t8ba8b39a\t891b62e7\te5ba7672\tf54016b9\t21ddcdc9\tb1252a9d\t07b5194c\t\t3a171ecb\tc5c50484\te8b83407\t9727dd16\n"
     ]
    }
   ],
   "source": [
    "# first row of the train data\n",
    "!head -1 data/train.txt"
   ]
  },
  {
   "cell_type": "code",
   "execution_count": 2,
   "metadata": {},
   "outputs": [
    {
     "name": "stdout",
     "output_type": "stream",
     "text": [
      "\t29\t50\t5\t7260\t437\t1\t4\t14\t\t1\t0\t6\t5a9ed9b0\ta0e12995\ta1e14474\t08a40877\t25c83c98\t\t964d1fdd\t5b392875\ta73ee510\tde89c3d2\t59cd5ae7\t8d98db20\t8b216f7b\t1adce6ef\t78c64a1d\t3ecdadf7\t3486227d\t1616f155\t21ddcdc9\t5840adea\t2c277e62\t\t423fab69\t54c91918\t9b3e8820\te75c9ae9\n"
     ]
    }
   ],
   "source": [
    "# first row of the test data\n",
    "!head -1 data/test.txt"
   ]
  },
  {
   "cell_type": "markdown",
   "metadata": {},
   "source": [
    "# __Section 2__ - Algorithm Explanation"
   ]
  },
  {
   "cell_type": "markdown",
   "metadata": {},
   "source": [
    "## Logistic regression\n",
    "\n",
    "Logistic regression belongs to the family of so-called generalized linear models and is by far one of the most known and applied algorithms for the prediction of a target variable $Y$, which represents the possible occurrence of an event of interest $e$. This variable is binary, and usually is encoded such that $Y=1$ represents the occurrence of $e$. More specifically, given a set of explanatory features $X_i$, $i = 1,2, \\dots, n$, logistic regression characterizes the probability of occurrence of $e$, $\\pi[e] \\equiv \\pi$, as follows:\n",
    "\n",
    "\\begin{equation}\n",
    "\\pi = \\frac{1}{1 + \\exp^{-z} }\n",
    "\\end{equation}\n",
    "\n",
    "where $z = \\beta_0 + \\sum_{i=1}^n \\beta_i X_i$ and $\\beta_i$ are model parameters. As can be seen from the equation above, and in compliance with probability rules, $\\pi \\in (0, 1)$ for any $\\beta_i$ and $X_i$, owing to the fact that the exponential function is strictly positive, and considering that the denominator is always higher than the numerator. After some algebraic manipulations an equivalent, and more compact, formulation of the above equation can be obtained as:\n",
    "\n",
    "\\begin{equation}\n",
    "log\\left( \\frac{\\pi}{1-\\pi} \\right) = \\beta_0 + \\sum_{i=1}^n \\beta_i X_i\n",
    "\\end{equation}\n",
    "\n",
    "where the left side is usually referred to as the logit function, $logit(\\pi)$, while the right side makes the linear nature of this model explicit. This becomes clearer when considering the decision boundary, i.e., the hypersurface that segments the feature space in positive versus vegative regions. For logistic regression, such boundary is associated with the locus of points in the feature space where $\\pi=0.5$, i.e., the model has no preference as to whether a point in this locus should be assigned to the positive or the negative class. Casting $\\pi=0.5$ in the left side of the equation above renders a linear equation of the decision boundary in the feature space, in compliance with the linear nature of this model.  \n",
    "\n",
    "## Log-loss function and parameter estimation\n",
    "\n",
    "In accordance with established practices in the fields of statistics and machine learning, the parameters $\\beta_i$ of the logistic regression model are estimated via maximization of the log-likelihood function. In essence, for a sample of $m$ data points $(x_{ij}, y_j)$, $i = 1,2,\\dots,n$, $j = 1,2,\\dots,m$, where $x_{ij}$ is the $j$-th record of the $i$-th feature, and $y_j$ is the $j$-th record of the target binary variable $Y$, the parameters $\\beta_i$ are estimated such that the log-likelihood function:\n",
    "\n",
    "\\begin{equation}\n",
    "log\\left[ L(\\beta_i|y_j) \\right] = \\frac{1}{m} log\\left( \\prod_{j = 1}^{m} \\pi_j^{y_j} \\left( 1-\\pi_j \\right)^{1-y_j} \\right)\n",
    "\\end{equation}\n",
    "\n",
    "is maximized. The term in the multiplication corresponds to the likelihood function of the Bernoulli distribution for the (degenerate) case of one single trial and number of successes $y_j = 1$ and $y_j = 0$ for success and failure, respectively.\n",
    "\n",
    "Operationally, the above maximization is usually achieved taking the negative of the log-likelihood function and computing the parameters $\\beta_i$ as the argmin of the negated log-likelihood which, after some manipulations, can be written as:\n",
    "\n",
    "\\begin{equation}\n",
    "\\hat{L} = -log\\left[ L(\\beta_i|y_j) \\right] = - \\frac{1}{m}\\sum_{j=1}^{m} \\left[ y_j \\cdot log(\\pi_j) + (1-y_j) \\cdot log(1-\\pi_j) \\right]\n",
    "\\end{equation}\n",
    "\n",
    "The right term of the equation, also called Cross-Entropy or log-loss, being a function $\\pi$, is ultimately a function of the parameters $\\beta_i$ and the features $X_i$ through the logistic regression relationship. The log-loss gives some insights as to the role of this function during estimation of the parameters. Let us assume that for a certain data point, $(x_{ij}, y_j)$, the target variable is equal to $1$. For this given data point, the right term of the equation simplifies to $-log(\\pi_j)$. Since this term needs to be minimized, the parameters $\\beta_i$ of the model need to be chosen such that $\\pi_j$ approaches $1$ as closely as possible. Conversely for an observation $y_j = 0$, minimization of the log-loss, $-log(1 - \\pi_j)$, requires $\\pi_j$ to approach $0$. This dual role of the log-loss function makes such that likelihood maximization in logistic regression aims to find the set of model parameters which best separate positive from negative observations in the space of the explanatory features $X_i$, in the sense of mapping as closely as possible positive targets to $\\pi = 1$ and negative targets to $\\pi = 0$. Another appealing property, which turns out to the be of paramount importance for the strategy outlined below, is that this log-loss function is convex, i.e., one and only one point of minimum exists in the space of parameters $\\beta_i$.\n",
    "\n",
    "## Gradient descent\n",
    "\n",
    "Finding the optimum set of parameters requires a suitable optimization framework. Among various approaches, gradient descent of $`hat{L}$ is a well-established approach for functions. For a certain point of the $n$-th dimensional space of parameters $\\beta_i$, the gradient of the log-loss function, $\\nabla \\hat{L}$ is computed, and thereafter a translation is performed in the parameter space along the gradient direction (the steepest descent).\n",
    "\n",
    "Gradient descent requires the computation of the gradient. In order to derive its formulation, it is convenient to consider the $i$-th component of $\\nabla \\hat{L}$, i.e.:\n",
    "\n",
    "\\begin{equation}\n",
    "\\nabla_i \\hat{L} = \\frac{\\partial}{\\partial \\beta_i} \\hat{L}\n",
    "\\end{equation}\n",
    "\n",
    "Taking the derivative inside the summation and operating on the logarithm yields:\n",
    "\n",
    "\\begin{equation}\n",
    "\\nabla_i \\hat{L} = - \\frac{1}{m} \\sum_{j=1}^{m} \\left( \\frac{y_j}{\\pi_j} - \\frac{1-y_j}{1-\\pi_j} \\right) \\frac{\\partial \\pi_j}{\\partial \\beta_i}\n",
    "\\end{equation}\n",
    "\n",
    "The derivative of the probability with respect to the parameter equates to (refer to the initial logistic regression formulation):\n",
    "\n",
    "\\begin{equation}\n",
    "\\frac{\\partial \\pi_j}{\\partial \\beta_i} = \\frac{\\exp^{-z_j}}{(1+\\exp^{-z_j})^2} \\frac{\\partial z_j} {\\partial \\beta_i} = \\frac{\\exp^{-z_j}}{1+\\exp^{-z_j}} \\frac{1}{1+\\exp^{-z_j}} \\frac{\\partial z_j} {\\partial \\beta_i} = (1-\\pi_j) \\pi_j \\frac{\\partial z_j} {\\partial \\beta_i}\n",
    "\\end{equation}\n",
    "\n",
    "The derivative of the linear combination term yields:\n",
    "\n",
    "\\begin{equation}\n",
    "\\frac{\\partial z_j} {\\partial \\beta_i} = x_{ij}\n",
    "\\end{equation}\n",
    "\n",
    "Putting it all together, one finally obtains: \n",
    "\n",
    "\\begin{equation}\n",
    "\\nabla_i \\hat{L} = - \\frac{1}{m} \\sum_{j=1}^{m} \\left[ y_j (1-\\pi_j) - (1-y_j) \\pi_j \\right] x_{ij} = \\frac{1}{m}\\sum_{j=1}^{m} (\\pi_j-y_j) x_{ij}\n",
    "\\end{equation}\n",
    "\n",
    "for $i = 1,2,\\dots,n$. \n",
    "\n",
    "Assuming a certain starting point in the space of parameters, $\\beta_i^0$, gradient descent first computes the gradient $\\nabla \\hat{L}$ at this starting point, and shifts the point along the direction of this gradient by computing a new point $\\beta_i^1 = \\beta_i^0 - \\alpha \\cdot \\nabla \\hat{L}$, where $\\alpha$ is a learning rate. This is done iteratively until suitable stopping criteria are met.\n",
    "\n",
    "## Algorithm for scalable implementation of logistic regression\n",
    "\n",
    "- Assume starting values for logistic parameters $\\beta_i^0$\n",
    "- Set learning parameter $\\alpha$\n",
    "- For each iteration $k$:\n",
    "- Broadcast parameters $\\beta_i^{k}$ to all worker nodes\n",
    "- Map: emit key-value pairs. Key: index $j$, values: target variable $y_j$ and array of explanatory features $x_{ij}$, for $j = 1,2,\\dots,n$\n",
    "- Map: for every $j = 1,2,\\dots,n$ compute probability $\\pi_j$ and $\\left[ y_j (1-\\pi_j) - (1-y_j) \\pi_j \\right] x_{ij}$\n",
    "- Reduce: sum over $j$ and divide by $m$, for $i = 1,2,\\dots,n$\n",
    "- Update $\\beta_i^{k}$\n",
    "- Run next iteration\n",
    "\n",
    "__References:__\n",
    "\n",
    "Bilder, C.R. and Loughin, T.M. (2015). Analysis of Categorical Data with R. CRC Press. \n",
    "\n",
    "Kremonic, Z. (2017). Maximum likelihood and gradient descent demonstration. Blog post. Accessed on July 2019 at https://zlatankr.github.io/posts/2017/03/06/mle-gradient-descent.\n",
    "\n",
    "\n",
    "\n",
    "Additional resources:\n",
    "\n",
    "https://ml-cheatsheet.readthedocs.io/en/latest/logistic_regression.html\n",
    "\n",
    "https://ttic.uchicago.edu/~suriya/website-intromlss2018/course_material/Day3b.pdf \n",
    "\n",
    "http://www.holehouse.org/mlclass/06_Logistic_Regression.html\n"
   ]
  },
  {
   "cell_type": "markdown",
   "metadata": {},
   "source": [
    "# __Section 3__ - EDA & Challenges"
   ]
  },
  {
   "cell_type": "code",
   "execution_count": 1,
   "metadata": {},
   "outputs": [],
   "source": [
    "# imports\n",
    "import re\n",
    "import numpy as np\n",
    "import pandas as pd\n",
    "import matplotlib.pyplot as plt\n",
    "from matplotlib.pyplot import *\n",
    "from os import path"
   ]
  },
  {
   "cell_type": "code",
   "execution_count": 2,
   "metadata": {},
   "outputs": [],
   "source": [
    "# store path to notebook\n",
    "PWD = !pwd\n",
    "PWD = PWD[0]"
   ]
  },
  {
   "cell_type": "code",
   "execution_count": 3,
   "metadata": {},
   "outputs": [],
   "source": [
    "# create Spark Session\n",
    "from pyspark.sql import SparkSession\n",
    "app_name = \"final_project\"\n",
    "master = \"local[*]\"\n",
    "spark = SparkSession\\\n",
    "        .builder\\\n",
    "        .appName(app_name)\\\n",
    "        .master(master)\\\n",
    "        .getOrCreate()\n",
    "sc = spark.sparkContext"
   ]
  },
  {
   "cell_type": "code",
   "execution_count": 262,
   "metadata": {},
   "outputs": [],
   "source": [
    "# read in sample training data and convert to dataframe\n",
    "train_sample = sc.textFile('data/sample_training.txt')\\\n",
    "                 .map(lambda x: x.split('\\t'))\\\n",
    "                 .toDF().cache()"
   ]
  },
  {
   "cell_type": "code",
   "execution_count": 264,
   "metadata": {},
   "outputs": [
    {
     "name": "stdout",
     "output_type": "stream",
     "text": [
      "+---+---+---+---+---+-----+---+---+---+---+---+---+---+---+--------+--------+--------+--------+--------+--------+--------+--------+--------+--------+--------+--------+--------+--------+--------+--------+--------+--------+---+---+--------+--------+--------+--------+---+---+\n",
      "| _1| _2| _3| _4| _5|   _6| _7| _8| _9|_10|_11|_12|_13|_14|     _15|     _16|     _17|     _18|     _19|     _20|     _21|     _22|     _23|     _24|     _25|     _26|     _27|     _28|     _29|     _30|     _31|     _32|_33|_34|     _35|     _36|     _37|     _38|_39|_40|\n",
      "+---+---+---+---+---+-----+---+---+---+---+---+---+---+---+--------+--------+--------+--------+--------+--------+--------+--------+--------+--------+--------+--------+--------+--------+--------+--------+--------+--------+---+---+--------+--------+--------+--------+---+---+\n",
      "|  0|  0|  1|   |  0|16597|557|  3|  5|123|  0|  1|   |  1|8cf07265|7cd19acc|77f2f2e5|d16679b9|4cf72387|fbad5c96|8fb24933|0b153874|a73ee510|0095a535|3617b5f5|9f32b866|428332cf|b28479f6|83ebd498|31ca40b6|e5ba7672|d0e5eb07|   |   |dfcfc3fa|ad3062eb|32c7478e|aee52b6f|   |   |\n",
      "|  0|  1|  0|  1|   | 1427|  3| 16| 11| 50|  0|  2|  1|   |05db9164|26a88120|615e3e4e|2788fed8|4cf72387|7e0ccccf|3f4ec687|0b153874|a73ee510|0e9ead52|c4adf918|f5d19c1c|85dbe138|07d13a8f|24ff9452|1034ac0d|3486227d|b486119d|   |   |63580fba|        |32c7478e|2a90c749|   |   |\n",
      "|  0|   |  1|   |   |23255|   |  0|  1| 73|   |  0|   |   |7e5c2ff4|d833535f|b00d1501|d16679b9|25c83c98|7e0ccccf|65c53f25|1f89b562|a73ee510|3b08e48b|ad2bc6f4|e0d76380|39ccb769|b28479f6|a733d362|1203a270|776ce399|281769c2|   |   |73d06dde|        |32c7478e|aee52b6f|   |   |\n",
      "+---+---+---+---+---+-----+---+---+---+---+---+---+---+---+--------+--------+--------+--------+--------+--------+--------+--------+--------+--------+--------+--------+--------+--------+--------+--------+--------+--------+---+---+--------+--------+--------+--------+---+---+\n",
      "only showing top 3 rows\n",
      "\n"
     ]
    }
   ],
   "source": [
    "# head first three rows\n",
    "train_sample.show(3)"
   ]
  },
  {
   "cell_type": "code",
   "execution_count": 265,
   "metadata": {},
   "outputs": [],
   "source": [
    "# convert numeric columns from string to double\n",
    "convert_cols = ['_1','_2','_3','_4','_5','_6','_7','_8','_9','_10','_11','_12','_13','_14']\n",
    "\n",
    "for col in convert_cols:\n",
    "    train_sample = train_sample.withColumn(col, train_sample[col].cast(\"double\"))\n",
    "train_sample = train_sample.cache()"
   ]
  },
  {
   "cell_type": "code",
   "execution_count": 266,
   "metadata": {},
   "outputs": [
    {
     "name": "stdout",
     "output_type": "stream",
     "text": [
      "+---+----+---+----+----+-------+-----+----+----+-----+----+---+----+----+--------+--------+--------+--------+--------+--------+--------+--------+--------+--------+--------+--------+--------+--------+--------+--------+--------+--------+---+---+--------+--------+--------+--------+---+---+\n",
      "| _1|  _2| _3|  _4|  _5|     _6|   _7|  _8|  _9|  _10| _11|_12| _13| _14|     _15|     _16|     _17|     _18|     _19|     _20|     _21|     _22|     _23|     _24|     _25|     _26|     _27|     _28|     _29|     _30|     _31|     _32|_33|_34|     _35|     _36|     _37|     _38|_39|_40|\n",
      "+---+----+---+----+----+-------+-----+----+----+-----+----+---+----+----+--------+--------+--------+--------+--------+--------+--------+--------+--------+--------+--------+--------+--------+--------+--------+--------+--------+--------+---+---+--------+--------+--------+--------+---+---+\n",
      "|0.0| 0.0|1.0|null| 0.0|16597.0|557.0| 3.0| 5.0|123.0| 0.0|1.0|null| 1.0|8cf07265|7cd19acc|77f2f2e5|d16679b9|4cf72387|fbad5c96|8fb24933|0b153874|a73ee510|0095a535|3617b5f5|9f32b866|428332cf|b28479f6|83ebd498|31ca40b6|e5ba7672|d0e5eb07|   |   |dfcfc3fa|ad3062eb|32c7478e|aee52b6f|   |   |\n",
      "|0.0| 1.0|0.0| 1.0|null| 1427.0|  3.0|16.0|11.0| 50.0| 0.0|2.0| 1.0|null|05db9164|26a88120|615e3e4e|2788fed8|4cf72387|7e0ccccf|3f4ec687|0b153874|a73ee510|0e9ead52|c4adf918|f5d19c1c|85dbe138|07d13a8f|24ff9452|1034ac0d|3486227d|b486119d|   |   |63580fba|        |32c7478e|2a90c749|   |   |\n",
      "|0.0|null|1.0|null|null|23255.0| null| 0.0| 1.0| 73.0|null|0.0|null|null|7e5c2ff4|d833535f|b00d1501|d16679b9|25c83c98|7e0ccccf|65c53f25|1f89b562|a73ee510|3b08e48b|ad2bc6f4|e0d76380|39ccb769|b28479f6|a733d362|1203a270|776ce399|281769c2|   |   |73d06dde|        |32c7478e|aee52b6f|   |   |\n",
      "+---+----+---+----+----+-------+-----+----+----+-----+----+---+----+----+--------+--------+--------+--------+--------+--------+--------+--------+--------+--------+--------+--------+--------+--------+--------+--------+--------+--------+---+---+--------+--------+--------+--------+---+---+\n",
      "only showing top 3 rows\n",
      "\n"
     ]
    }
   ],
   "source": [
    "# head first three rows\n",
    "train_sample.show(3)"
   ]
  },
  {
   "cell_type": "code",
   "execution_count": 8,
   "metadata": {},
   "outputs": [
    {
     "data": {
      "text/plain": [
       "0.2564675003064959"
      ]
     },
     "execution_count": 8,
     "metadata": {},
     "output_type": "execute_result"
    }
   ],
   "source": [
    "# estimate click-through rate\n",
    "num_ct = train_sample.groupBy().sum('_1').collect()[0][0]\n",
    "num_ct/train_sample.count()"
   ]
  },
  {
   "cell_type": "markdown",
   "metadata": {},
   "source": [
    "Add plots, discussions, etc. for EDA"
   ]
  },
  {
   "cell_type": "markdown",
   "metadata": {},
   "source": []
  },
  {
   "cell_type": "markdown",
   "metadata": {},
   "source": [
    "# __Section 4__ - Algorithm Implementation"
   ]
  },
  {
   "cell_type": "code",
   "execution_count": 267,
   "metadata": {},
   "outputs": [],
   "source": [
    "#generate train data for homegrown solution - select only 100,000 rows and only numerical features + target \n",
    "train_sample_red = train_sample.select(convert_cols).limit(10000)"
   ]
  },
  {
   "cell_type": "code",
   "execution_count": 268,
   "metadata": {},
   "outputs": [
    {
     "name": "stdout",
     "output_type": "stream",
     "text": [
      "+---+----+---+----+----+-------+-----+----+----+-----+----+---+----+----+\n",
      "| _1|  _2| _3|  _4|  _5|     _6|   _7|  _8|  _9|  _10| _11|_12| _13| _14|\n",
      "+---+----+---+----+----+-------+-----+----+----+-----+----+---+----+----+\n",
      "|0.0| 0.0|1.0|null| 0.0|16597.0|557.0| 3.0| 5.0|123.0| 0.0|1.0|null| 1.0|\n",
      "|0.0| 1.0|0.0| 1.0|null| 1427.0|  3.0|16.0|11.0| 50.0| 0.0|2.0| 1.0|null|\n",
      "|0.0|null|1.0|null|null|23255.0| null| 0.0| 1.0| 73.0|null|0.0|null|null|\n",
      "+---+----+---+----+----+-------+-----+----+----+-----+----+---+----+----+\n",
      "only showing top 3 rows\n",
      "\n"
     ]
    }
   ],
   "source": [
    "train_sample_red.show(3)"
   ]
  },
  {
   "cell_type": "code",
   "execution_count": 269,
   "metadata": {},
   "outputs": [],
   "source": [
    "#impute missing values with averages\n",
    "from pyspark.sql.functions import avg\n",
    "for col in train_sample_red.columns:\n",
    "    train_sample_red = train_sample_red.na.fill(round(train_sample_red.na.drop().agg(avg(col)).first()[0],1), [col])"
   ]
  },
  {
   "cell_type": "code",
   "execution_count": 270,
   "metadata": {},
   "outputs": [
    {
     "name": "stdout",
     "output_type": "stream",
     "text": [
      "+---+---+---+----+---+-------+-----+----+----+-----+---+---+---+---+\n",
      "| _1| _2| _3|  _4| _5|     _6|   _7|  _8|  _9|  _10|_11|_12|_13|_14|\n",
      "+---+---+---+----+---+-------+-----+----+----+-----+---+---+---+---+\n",
      "|0.0|0.0|1.0|21.9|0.0|16597.0|557.0| 3.0| 5.0|123.0|0.0|1.0|0.9|1.0|\n",
      "|0.0|1.0|0.0| 1.0|9.2| 1427.0|  3.0|16.0|11.0| 50.0|0.0|2.0|1.0|9.8|\n",
      "|0.0|6.7|1.0|21.9|9.2|23255.0| 86.0| 0.0| 1.0| 73.0|0.7|0.0|0.9|9.8|\n",
      "+---+---+---+----+---+-------+-----+----+----+-----+---+---+---+---+\n",
      "only showing top 3 rows\n",
      "\n"
     ]
    }
   ],
   "source": [
    "train_sample_red.show(3)"
   ]
  },
  {
   "cell_type": "code",
   "execution_count": 271,
   "metadata": {},
   "outputs": [
    {
     "data": {
      "text/plain": [
       "[(0.0, array([0.0000e+00, 1.0000e+00, 2.1900e+01, 0.0000e+00, 1.6597e+04,\n",
       "         5.5700e+02, 3.0000e+00, 5.0000e+00, 1.2300e+02, 0.0000e+00,\n",
       "         1.0000e+00, 9.0000e-01, 1.0000e+00])),\n",
       " (0.0, array([1.000e+00, 0.000e+00, 1.000e+00, 9.200e+00, 1.427e+03, 3.000e+00,\n",
       "         1.600e+01, 1.100e+01, 5.000e+01, 0.000e+00, 2.000e+00, 1.000e+00,\n",
       "         9.800e+00])),\n",
       " (0.0, array([6.7000e+00, 1.0000e+00, 2.1900e+01, 9.2000e+00, 2.3255e+04,\n",
       "         8.6000e+01, 0.0000e+00, 1.0000e+00, 7.3000e+01, 7.0000e-01,\n",
       "         0.0000e+00, 9.0000e-01, 9.8000e+00]))]"
      ]
     },
     "execution_count": 271,
     "metadata": {},
     "output_type": "execute_result"
    }
   ],
   "source": [
    "#cache into rdd\n",
    "train_sample_red_RDD = train_sample_red.rdd.map(lambda x: (x[0], np.array(x[1:]))).cache()\n",
    "train_sample_red_RDD.take(3)"
   ]
  },
  {
   "cell_type": "code",
   "execution_count": 272,
   "metadata": {},
   "outputs": [
    {
     "data": {
      "text/plain": [
       "1"
      ]
     },
     "execution_count": 272,
     "metadata": {},
     "output_type": "execute_result"
    }
   ],
   "source": [
    "train_sample_red_RDD.getNumPartitions()"
   ]
  },
  {
   "cell_type": "code",
   "execution_count": 273,
   "metadata": {},
   "outputs": [],
   "source": [
    "def normalize(dataRDD):\n",
    "    \"\"\"\n",
    "    Scale and center data round mean of each feature.\n",
    "    Args:\n",
    "        dataRDD - records are tuples of (y, features_array)\n",
    "    Returns:\n",
    "        normedRDD - records are tuples of (y, features_array)\n",
    "    \"\"\"\n",
    "    featureMeans = dataRDD.map(lambda x: x[1]).mean()\n",
    "    featureStdev = np.sqrt(dataRDD.map(lambda x: x[1]).variance())\n",
    "    \n",
    "    ################ YOUR CODE HERE #############\n",
    "    normedRDD = dataRDD.map(lambda x: (x[0], (x[1] - featureMeans)/featureStdev))\n",
    "    ################ FILL IN YOUR CODE HERE #############\n",
    "    \n",
    "    return normedRDD"
   ]
  },
  {
   "cell_type": "code",
   "execution_count": 122,
   "metadata": {},
   "outputs": [],
   "source": [
    "# part d - write function to compute loss (FILL IN MISSING CODE BELOW)\n",
    "def LogLoss(dataRDD, W, regType = None, regParam=0.1):\n",
    "    \"\"\"\n",
    "    Compute log loss function.\n",
    "    Args:\n",
    "        dataRDD - each record is a tuple of (y, features_array)\n",
    "        W       - (array) model coefficients with bias at index 0\n",
    "        regType - (str) 'ridge' or 'lasso', defaults to None\n",
    "        regParam - (float) regularization term coefficient defaults to 0.1\n",
    "    Returns:\n",
    "        loss - (float) the regularized loss\n",
    "    \"\"\"\n",
    "    # add a bias 'feature' of 1 at index 0\n",
    "    augmentedData = dataRDD.map(lambda x: (np.append([1.0], x[1]), x[0])).cache()\n",
    "    \n",
    "    # add regularization term\n",
    "    reg_term = 0\n",
    "    if regType == 'ridge':\n",
    "        reg_term = regParam*np.linalg.norm(W[1:])\n",
    "    elif regType == 'lasso':\n",
    "        reg_term = regParam*np.sum(np.abs(W[1:]))\n",
    "    \n",
    "    # compute loss\n",
    "    loss = augmentedData.map(lambda x: x[1]*np.log(1 + np.exp(-np.dot(x[0], W))) + \\\n",
    "                             (1 - x[1])*(np.dot(x[0], W) + np.log(1 + np.exp(-np.dot(x[0], W))))).sum()\\\n",
    "                            /augmentedData.count()\n",
    "    \n",
    "    return loss"
   ]
  },
  {
   "cell_type": "code",
   "execution_count": 181,
   "metadata": {},
   "outputs": [],
   "source": [
    "def GDUpdate(dataRDD, W, regType = None, regParam=0.1, learningRate = 0.1):\n",
    "    \"\"\"\n",
    "    Perform one regularized gradient descent step/update.\n",
    "    Args:\n",
    "        dataRDD - records are tuples of (y, features_array)\n",
    "        W       - (array) model coefficients with bias at index 0\n",
    "        regType - (str) 'ridge' or 'lasso', defaults to None\n",
    "        regParam - (float) regularization term coefficient defaults to 0.1\n",
    "        learningRate - (float) defaults to 0.1\n",
    "    Returns:\n",
    "        new_model - (array) updated coefficients, bias at index 0\n",
    "    \"\"\"\n",
    "    # add a bias 'feature' of 1 at index 0\n",
    "    augmentedData = dataRDD.map(lambda x: (np.append([1.0], x[1]), x[0]))\n",
    "    \n",
    "    # add regularization term\n",
    "    reg_term = np.zeros(len(W))\n",
    "    if regType == 'ridge':\n",
    "        reg_term = np.append(0,2*regParam*W[1:])\n",
    "    elif regType == 'lasso':\n",
    "        reg_term = np.append(0,regParam*np.sign(W[1:]))\n",
    "    \n",
    "    # compute gradient\n",
    "    grad = augmentedData.map(lambda x: ((1/(1 + np.exp(-np.dot(x[0], W))) - x[1])*x[0])).sum()/augmentedData.count() + reg_term\n",
    "    \n",
    "    #update model parameters\n",
    "    new_model = W - learningRate*grad\n",
    "   \n",
    "    return new_model"
   ]
  },
  {
   "cell_type": "code",
   "execution_count": 124,
   "metadata": {},
   "outputs": [],
   "source": [
    "def makePrediction(dataRDD, W):\n",
    "    \"\"\"\n",
    "    Perform one regularized gradient descent step/update.\n",
    "    Args:\n",
    "        dataRDD - records are tuples of (y, features_array)\n",
    "        W       - (array) model coefficients with bias at index 0\n",
    "    Returns:\n",
    "        pred - (rdd) predicted targets\n",
    "    \"\"\"\n",
    "    # add a bias 'feature' of 1 at index 0\n",
    "    augmentedData = dataRDD.map(lambda x: (np.append([1.0], x[1]), x[0])).cache()\n",
    "    \n",
    "    # compute prediction\n",
    "    pred = augmentedData.map(lambda x: int((1/(1 + np.exp(-np.dot(x[0], W))))>0.5) )\n",
    "   \n",
    "    return pred"
   ]
  },
  {
   "cell_type": "code",
   "execution_count": 274,
   "metadata": {},
   "outputs": [],
   "source": [
    "# normalize features\n",
    "normedRDD = normalize(train_sample_red_RDD).cache()"
   ]
  },
  {
   "cell_type": "code",
   "execution_count": 112,
   "metadata": {},
   "outputs": [
    {
     "name": "stdout",
     "output_type": "stream",
     "text": [
      "13\n"
     ]
    }
   ],
   "source": [
    "#compute the number of features\n",
    "numb_features = len(train_sample_red.columns) - 1\n",
    "#define baseline model, add one parameter representing the intercept\n",
    "BASELINE = np.random.randn(numb_features + 1)"
   ]
  },
  {
   "cell_type": "code",
   "execution_count": 92,
   "metadata": {},
   "outputs": [
    {
     "name": "stdout",
     "output_type": "stream",
     "text": [
      "The estimated model is: [-1.36140115e+00 -1.43261414e-01  4.95436322e-02 -4.73301915e-01\n",
      "  2.30396882e-01 -6.01891971e-01 -4.22426306e-01  4.17239392e-02\n",
      " -1.63706799e+00  1.17176631e-03  2.19646469e-01  3.16283984e-01\n",
      "  7.55005999e-02 -7.16773757e-01]\n",
      "The loss of the estimated model is: 0.5195309017147692\n",
      "\n",
      "\n"
     ]
    },
    {
     "data": {
      "image/png": "[encoded data removed]",
      "text/plain": [
       "<Figure size 432x288 with 1 Axes>"
      ]
     },
     "metadata": {},
     "output_type": "display_data"
    },
    {
     "data": {
      "text/plain": [
       "Text(0.5,1,'Norm of vector of parameters')"
      ]
     },
     "execution_count": 92,
     "metadata": {},
     "output_type": "execute_result"
    },
    {
     "data": {
      "image/png": "[encoded data removed]",
      "text/plain": [
       "<Figure size 432x288 with 1 Axes>"
      ]
     },
     "metadata": {},
     "output_type": "display_data"
    }
   ],
   "source": [
    "nSteps = 150\n",
    "learningRate = 0.5\n",
    "regType = None\n",
    "regParam = 0.05\n",
    "\n",
    "Loss_save = []\n",
    "Model_norm = []\n",
    "#broadcast model\n",
    "model = BASELINE #model = sc.broadcast(BASELINE) #substitute this line with the comment when deploying it on the cloud\n",
    "for idx in range(nSteps):\n",
    "    #print(\"----------\")\n",
    "    #print(f\"STEP: {idx+1}\")\n",
    "    \n",
    "    # compute loss\n",
    "    loss = LogLoss(normedRDD, model, regType=regType, regParam=regParam)\n",
    "    # update model parameters\n",
    "    model = GDUpdate(normedRDD, model, regType=regType, regParam=regParam, learningRate=learningRate)\n",
    "    \n",
    "    #store results\n",
    "    Loss_save.append(loss)\n",
    "    Model_norm.append(np.linalg.norm(model))\n",
    "    \n",
    "    #broadcast model\n",
    "    #model = sc.broadcast(model) #uncomment this line when deploying it on the cloud\n",
    "\n",
    "print(f\"The estimated model is: {model}\")\n",
    "print(f\"The loss of the estimated model is: {loss}\")\n",
    "print()\n",
    "print()\n",
    "plt.plot(Loss_save)\n",
    "plt.title('Loss')\n",
    "plt.show()\n",
    "plt.plot(Model_norm)\n",
    "plt.title('Norm of vector of parameters')"
   ]
  },
  {
   "cell_type": "markdown",
   "metadata": {},
   "source": []
  },
  {
   "cell_type": "code",
   "execution_count": 93,
   "metadata": {},
   "outputs": [
    {
     "name": "stdout",
     "output_type": "stream",
     "text": [
      "number of true positives is 2415.3\n",
      "number of predicted positives is 286\n"
     ]
    }
   ],
   "source": [
    "print(f'number of true positives is {normedRDD.map(lambda x: x[0]).sum()}')\n",
    "res = makePrediction(normedRDD, model).cache()\n",
    "print(f'number of predicted positives is {res.sum()}')"
   ]
  },
  {
   "cell_type": "markdown",
   "metadata": {},
   "source": [
    "## 4.1 Adding Categorical Variables"
   ]
  },
  {
   "cell_type": "markdown",
   "metadata": {},
   "source": [
    "### Summary\n",
    "The earlier section showed a logistic regression model with numerical variables only. In this section, we incrementally add categorical variables and redo the logistic regression model on a small data set. Categorical variables present a challenge because each of them can have a million different values thereby creating millions of dimensions. To get around \"the curse of dimensionality\", we looked at quite a few methods to reduce the dimensions to a manageable level. This includes frequency based dimensionality reduction and hashing techniques at a feature level and at a collection of features. "
   ]
  },
  {
   "cell_type": "markdown",
   "metadata": {},
   "source": [
    "### \"The curse of dimensionality\" with categorical variables\n",
    "Below, we take a look at the number of dimensions in the train_sample dataset for each categorical variable"
   ]
  },
  {
   "cell_type": "code",
   "execution_count": 289,
   "metadata": {},
   "outputs": [
    {
     "name": "stdout",
     "output_type": "stream",
     "text": [
      "Column _15 has 1407 unique categorical values\n",
      "Column _16 has 555 unique categorical values\n",
      "Column _17 has 753315 unique categorical values\n",
      "Column _18 has 258094 unique categorical values\n",
      "Column _19 has 300 unique categorical values\n",
      "Column _20 has 16 unique categorical values\n",
      "Column _21 has 11741 unique categorical values\n",
      "Column _22 has 614 unique categorical values\n",
      "Column _23 has 3 unique categorical values\n",
      "Column _24 has 42422 unique categorical values\n",
      "Column _25 has 5126 unique categorical values\n",
      "Column _26 has 661596 unique categorical values\n",
      "Column _27 has 3169 unique categorical values\n",
      "Column _28 has 26 unique categorical values\n",
      "Column _29 has 10943 unique categorical values\n",
      "Column _30 has 489035 unique categorical values\n",
      "Column _31 has 10 unique categorical values\n",
      "Column _32 has 4479 unique categorical values\n",
      "Column _33 has 1959 unique categorical values\n",
      "Column _34 has 4 unique categorical values\n",
      "Column _35 has 588319 unique categorical values\n",
      "Column _36 has 15 unique categorical values\n",
      "Column _37 has 15 unique categorical values\n",
      "Column _38 has 69117 unique categorical values\n",
      "Column _39 has 83 unique categorical values\n",
      "Column _40 has 47492 unique categorical values\n",
      "Total number of distinct categorical variables in train_sample is: 2949855\n"
     ]
    }
   ],
   "source": [
    "# number of unique categorical values\n",
    "from pyspark.sql.functions import col\n",
    "distCatVarCnt = 0\n",
    "for col in train_sample.columns[14:]:\n",
    "    cnt = train_sample.select(col).distinct().count()\n",
    "    print('Column ' + col + ' has ' + str(cnt) \\\n",
    "          + ' unique categorical values')\n",
    "    distCatVarCnt += cnt\n",
    "print(\"Total number of distinct categorical variables in train_sample is:\", distCatVarCnt)"
   ]
  },
  {
   "cell_type": "markdown",
   "metadata": {},
   "source": [
    "As we can see above, the number of unique categorical variables is close to 3 million just for the train_sample dataset. We need to look into reducing the dimensionality without losing too much of information."
   ]
  },
  {
   "cell_type": "markdown",
   "metadata": {},
   "source": [
    "### 4.1.1 Per column frequency based dimensionality reduction\n",
    "\n",
    "One possible methold is to figure out if there are any frequent values in these categorical variables and choose the top 15 of them. If they make up nearly 100% of the values, then we can lump the rest under \"Other\" and come up with 16 column bins. This is a compute intensive operation as we try to figure out the top 15 values for each column and their contribution to the total count"
   ]
  },
  {
   "cell_type": "code",
   "execution_count": 315,
   "metadata": {},
   "outputs": [
    {
     "name": "stdout",
     "output_type": "stream",
     "text": [
      "   col                                       top15_values  top15_pct_contribution\n",
      "0   14  [05db9164, 68fd1e64, 5a9ed9b0, 8cf07265, be589...               93.799315\n",
      "1   15  [38a947a1, 207b2d81, 38d50e09, 1cfdf714, 28713...               49.197635\n",
      "2   16  [, d032c263, 02cf9876, aa8c1539, 9143c832, 77f...               15.918897\n",
      "3   17  [c18be181, , 29998ed1, d16679b9, 85dd697c, 135...               22.760540\n",
      "4   18  [25c83c98, 4cf72387, 43b19349, 384874ce, 30903...               98.811450\n",
      "5   19  [7e0ccccf, fbad5c96, fe6b92e5, , 13718bbd, 6f6...               99.999956\n",
      "6   20  [1c86e0eb, dc7659bd, 7195046d, 5e64ce5f, 468a0...               11.159026\n",
      "7   21  [0b153874, 5b392875, 1f89b562, 37e4aa92, 062b5...               97.309773\n",
      "8   22                     [a73ee510, 7cc72ec2, a18233ea]              100.000000\n",
      "9   23  [3b08e48b, efea433b, fbbf2c95, fa7d0797, 03e48...               29.441977\n",
      "10  24  [755e4a50, e51ddf94, 7f8ffe57, 4d8549da, 8b941...               16.492622\n",
      "11  25  [, dfbb09fb, 6aaba33c, 8fe001f4, d8c29807, ae1...               17.628686\n",
      "12  26  [5978055e, 3516f6e6, 46f42a63, 025225f2, 1aa94...               18.752751\n",
      "13  27  [b28479f6, 07d13a8f, 1adce6ef, 64c94865, cfef1...               99.627580\n",
      "14  28  [2d0bb053, d345b1a0, 3628a186, 10040656, 10935...               12.644822\n",
      "15  29  [, 84898b2a, b041b04a, 36103458, c64d548f, bad...               17.994343\n",
      "16  30  [e5ba7672, 07c540c4, d4bb7bd8, 3486227d, 776ce...              100.000000\n",
      "17  31  [e88ffc9d, 891589e7, 2804effd, c21c3e4c, 5aed7...               26.283869\n",
      "18  32  [, 21ddcdc9, 55dd3565, 5b885066, 9437f62f, 712...               85.607039\n",
      "19  33                   [, b1252a9d, 5840adea, a458ea53]              100.000000\n",
      "20  34  [, 0014c32a, 723b4dfd, e587c466, 5f957280, 042...               17.976760\n",
      "21  35  [, ad3062eb, c9d4222a, 78e2e389, 8ec974f4, c00...              100.000000\n",
      "22  36  [32c7478e, 3a171ecb, 423fab69, bcdee96c, be7c4...              100.000000\n",
      "23  37  [3fdb382b, b34f3128, 3b183c5c, 1793a828, , aee...               37.305768\n",
      "24  38  [, 001f3601, e8b83407, ea9a246c, cb079c2d, 445...               98.135676\n",
      "25  39  [, 49d68486, c84c4aec, 2fede552, c27f155b, aa5...               60.151385\n"
     ]
    }
   ],
   "source": [
    "train_sample_rdd = sc.textFile('data/sample_training.txt')\n",
    "testRdd = sc.parallelize(train_sample_rdd.take(100000))\n",
    "\n",
    "#rddLen = testRdd.count()\n",
    "rddLen = train_sample_rdd.count()\n",
    "\n",
    "top15FreqList = dict()\n",
    "top15FreqPercent = dict()\n",
    "\n",
    "top15df = pd.DataFrame(columns=['col', 'top15_values', 'top15_pct_contribution'])\n",
    "\n",
    "for col in range(14,40):\n",
    "    #col = \"_\"+str(c)\n",
    "    catRdd = train_sample_rdd.map(lambda x: x.split('\\t')[col]) \\\n",
    "                             .map(lambda x: (x,1)) \\\n",
    "                             .reduceByKey(lambda x,y: x + y)\n",
    "    freqRecord = catRdd.takeOrdered(15, key=lambda x: -x[1])\n",
    "    freqList = []\n",
    "    freqCnt = 0\n",
    "    for (k,v) in freqRecord:\n",
    "        freqCnt += v\n",
    "        freqList.append(str(k))\n",
    "    #top15FreqList[col] = freqList\n",
    "    #top15FreqPercent[col] = 100* freqCnt / rddLen\n",
    "    top15df = top15df.append({'col': col, 'top15_values': freqList, 'top15_pct_contribution': 100*freqCnt/rddLen}, ignore_index=True)\n",
    "    #cnt = catRdd.count()\n",
    "    #print (\"Top 15 values for column\", col, \"namely: \", top15FreqList[col], \"make up \", top15FreqPercent[col], \" of the values\")\n",
    "    \n",
    "print(top15df.to_string())"
   ]
  },
  {
   "cell_type": "markdown",
   "metadata": {},
   "source": [
    "From the above analysis, we can see that the categorical variables in some of the columns account for almost 100% of all values. These include columns 14, 18, 19, 21, 22, 27, 30, 32, 33, 35, 36 and 38. For these 11 columns, it would make sense to keep the top 15 values and lump everything else under an \"Other\" column.\n",
    "\n",
    "For the rest of the columns that don't exhibit this behavior, it might make sense to look at other strategies such as hashing to reduce dimensionality. Before we take this approach of using both the frequency related information and hashing, let's first take a look at hashing all columns next."
   ]
  },
  {
   "cell_type": "markdown",
   "metadata": {},
   "source": [
    "### 4.1.2 Per column Feature Hashing\n",
    "There are 26 categorical features in this model represented by strings that are 8 bytes long. So, theoretically, each string can take $2^{64} -1$ different values and lead to that many dimensions. We need to have far fewer dimensions so that we can make the problem computationally achievable and as well lead to a generalized algorithm as well. One way of achieving this is through what is popularly called the \"hashing trick\" (provide references). \n",
    "\n",
    "A simple way to reduce dimensionality is to hash the 8 byte long strings into, say 16 or 32 groups. We used the murmurHash3 hashing which is generally the preferred way of hashing strings (provide references and more details). Hashing leads to collisions as many strings could end up hashing to the same hash value. However, it has been proven (references) that even with collisions, hashing leads to very generalized models.\n",
    "\n",
    "One the categorical variables are hashed down to, say 16 values, they are then 1-hot encoded and fed into the logistic regression model. This section presents the results with the inclusion of 27 categorical variables, each individually hashed to 16 values, in addition to the numerical variables in the earlier section. "
   ]
  },
  {
   "cell_type": "code",
   "execution_count": 30,
   "metadata": {},
   "outputs": [
    {
     "name": "stdout",
     "output_type": "stream",
     "text": [
      "Collecting murmurhash3\n",
      "  Downloading https://files.pythonhosted.org/packages/b5/f4/1f9c4851667a2541bd151b8d9efef707495816274fada365fa6a31085a32/murmurhash3-2.3.5.tar.gz\n",
      "Building wheels for collected packages: murmurhash3\n",
      "  Running setup.py bdist_wheel for murmurhash3 ... \u001b[?25ldone\n",
      "\u001b[?25h  Stored in directory: /root/.cache/pip/wheels/06/eb/e4/f57324cd9c1bf001c9ba6d6926ad5231eca80964ed80b3610e\n",
      "Successfully built murmurhash3\n",
      "\u001b[31mtwisted 18.7.0 requires PyHamcrest>=1.9.0, which is not installed.\u001b[0m\n",
      "Installing collected packages: murmurhash3\n",
      "Successfully installed murmurhash3-2.3.5\n",
      "\u001b[33mYou are using pip version 10.0.1, however version 19.2.1 is available.\n",
      "You should consider upgrading via the 'pip install --upgrade pip' command.\u001b[0m\n"
     ]
    }
   ],
   "source": [
    "#Install murmurhash3 if needed\n",
    "!pip install murmurhash3\n",
    "import mmh3"
   ]
  },
  {
   "cell_type": "code",
   "execution_count": 330,
   "metadata": {},
   "outputs": [],
   "source": [
    "#Read in the complete dataset\n",
    "train_sample_rdd = sc.textFile('data/sample_training.txt')\n",
    "\n",
    "#Get the top 1000 rows only (as before for numerical variables)\n",
    "testRdd = sc.parallelize(train_sample_rdd.take(10000),1)"
   ]
  },
  {
   "cell_type": "code",
   "execution_count": 331,
   "metadata": {},
   "outputs": [
    {
     "data": {
      "text/plain": [
       "[array([0, 0, 1, 0, 0, 0, 0, 0, 0, 0, 0, 0, 0, 0, 0, 0, 1, 0, 0, 0, 0, 0,\n",
       "        0, 0, 0, 0, 0, 0, 0, 0, 0, 0, 0, 0, 0, 0, 0, 0, 0, 0, 0, 0, 0, 1,\n",
       "        0, 0, 0, 0, 0, 0, 0, 0, 0, 0, 0, 0, 0, 1, 0, 0, 0, 0, 0, 0, 0, 0,\n",
       "        0, 0, 0, 0, 0, 0, 0, 0, 0, 0, 0, 0, 0, 1, 0, 0, 0, 0, 0, 0, 0, 1,\n",
       "        0, 0, 0, 0, 0, 0, 0, 0, 0, 0, 0, 0, 0, 0, 0, 0, 0, 0, 0, 0, 0, 0,\n",
       "        1, 0, 0, 0, 0, 0, 0, 0, 1, 0, 0, 0, 0, 0, 0, 0, 0, 0, 0, 0, 0, 0,\n",
       "        0, 0, 0, 0, 0, 0, 0, 0, 1, 0, 0, 0, 0, 0, 0, 0, 0, 0, 0, 0, 1, 0,\n",
       "        0, 0, 0, 0, 0, 0, 0, 0, 0, 0, 0, 0, 0, 0, 0, 0, 0, 0, 0, 0, 1, 0,\n",
       "        0, 0, 0, 0, 1, 0, 0, 0, 0, 0, 0, 0, 0, 0, 0, 0, 0, 0, 0, 1, 0, 0,\n",
       "        0, 0, 0, 0, 0, 0, 0, 0, 0, 0, 0, 0, 0, 0, 0, 0, 0, 0, 1, 0, 0, 0,\n",
       "        0, 0, 0, 0, 0, 1, 0, 0, 0, 0, 0, 0, 0, 0, 0, 0, 0, 0, 0, 0, 0, 0,\n",
       "        0, 1, 0, 0, 0, 0, 0, 0, 0, 0, 0, 0, 0, 0, 0, 0, 0, 0, 0, 0, 0, 0,\n",
       "        0, 0, 0, 0, 0, 0, 0, 1, 0, 0, 0, 0, 0, 0, 0, 0, 0, 0, 0, 1, 0, 0,\n",
       "        0, 0, 1, 0, 0, 0, 0, 0, 0, 0, 0, 0, 0, 0, 0, 0, 0, 0, 1, 0, 0, 0,\n",
       "        0, 0, 0, 0, 0, 0, 0, 0, 0, 0, 0, 0, 0, 0, 0, 0, 0, 0, 0, 0, 0, 0,\n",
       "        0, 1, 0, 0, 0, 0, 1, 0, 0, 0, 0, 0, 0, 0, 0, 0, 0, 0, 0, 0, 0, 0,\n",
       "        0, 0, 0, 0, 0, 0, 0, 0, 0, 0, 0, 0, 0, 1, 0, 0, 0, 0, 1, 0, 0, 0,\n",
       "        0, 0, 0, 0, 0, 0, 0, 0, 0, 0, 1, 0, 0, 0, 0, 0, 0, 0, 0, 0, 0, 0,\n",
       "        0, 0, 0, 0, 1, 0, 0, 0, 0, 0, 0, 0, 0, 0, 0, 0, 0, 0, 0, 0]),\n",
       " array([0, 0, 0, 0, 0, 0, 0, 0, 1, 0, 0, 0, 0, 0, 0, 0, 0, 1, 0, 0, 0, 0,\n",
       "        0, 0, 0, 0, 0, 0, 0, 0, 0, 0, 0, 0, 0, 0, 0, 0, 0, 0, 0, 1, 0, 0,\n",
       "        0, 0, 0, 0, 0, 0, 0, 0, 0, 0, 1, 0, 0, 0, 0, 0, 0, 0, 0, 0, 0, 0,\n",
       "        0, 0, 0, 0, 0, 0, 0, 0, 0, 0, 0, 0, 0, 1, 0, 0, 0, 0, 0, 0, 0, 0,\n",
       "        0, 0, 1, 0, 0, 0, 0, 0, 0, 0, 0, 0, 0, 0, 0, 0, 0, 0, 0, 0, 0, 0,\n",
       "        0, 1, 0, 0, 0, 0, 0, 0, 1, 0, 0, 0, 0, 0, 0, 0, 0, 0, 0, 0, 0, 0,\n",
       "        0, 0, 0, 0, 0, 0, 0, 0, 1, 0, 0, 0, 0, 0, 0, 0, 0, 0, 0, 0, 0, 0,\n",
       "        0, 0, 1, 0, 0, 0, 0, 0, 1, 0, 0, 0, 0, 0, 0, 0, 0, 0, 0, 0, 0, 0,\n",
       "        1, 0, 0, 0, 0, 0, 0, 0, 0, 0, 0, 0, 0, 0, 0, 0, 0, 0, 0, 0, 0, 0,\n",
       "        0, 0, 0, 1, 0, 0, 0, 0, 0, 0, 0, 0, 0, 1, 0, 0, 0, 0, 0, 0, 0, 0,\n",
       "        0, 0, 0, 0, 0, 0, 0, 1, 0, 0, 0, 0, 0, 0, 0, 0, 0, 0, 0, 0, 0, 0,\n",
       "        0, 0, 0, 0, 0, 0, 0, 1, 0, 0, 0, 0, 0, 0, 0, 0, 0, 0, 0, 0, 0, 0,\n",
       "        0, 0, 1, 0, 0, 0, 0, 0, 0, 0, 0, 1, 0, 0, 0, 0, 0, 0, 0, 0, 0, 0,\n",
       "        0, 0, 1, 0, 0, 0, 0, 0, 0, 0, 0, 0, 0, 0, 0, 0, 0, 0, 1, 0, 0, 0,\n",
       "        0, 0, 0, 0, 0, 0, 0, 0, 0, 0, 0, 0, 0, 0, 0, 0, 0, 0, 1, 0, 0, 0,\n",
       "        0, 0, 0, 0, 0, 0, 1, 0, 0, 0, 0, 0, 0, 0, 0, 0, 0, 0, 0, 0, 0, 0,\n",
       "        0, 0, 0, 0, 0, 0, 0, 0, 0, 0, 0, 0, 0, 1, 0, 0, 0, 0, 0, 1, 0, 0,\n",
       "        0, 0, 0, 0, 0, 0, 0, 0, 0, 0, 1, 0, 0, 0, 0, 0, 0, 0, 0, 0, 0, 0,\n",
       "        0, 0, 0, 0, 1, 0, 0, 0, 0, 0, 0, 0, 0, 0, 0, 0, 0, 0, 0, 0])]"
      ]
     },
     "execution_count": 331,
     "metadata": {},
     "output_type": "execute_result"
    }
   ],
   "source": [
    "def createHash (elem,hlen):\n",
    "    import mmh3\n",
    "    hashStr = []\n",
    "    for str in elem:\n",
    "        hashStr.append(mmh3.hash(str) % int(hlen))\n",
    "    return(hashStr)\n",
    "\n",
    "def create1Hot(elem, hlen):\n",
    "    oneHotStr = []\n",
    "    #for hashStr in elem:\n",
    "    for i in range (hlen):\n",
    "        if (i == elem):\n",
    "            oneHotStr.append(1)\n",
    "        else:\n",
    "            oneHotStr.append(0)\n",
    "    return(oneHotStr)\n",
    "\n",
    "def createCatArray(elem):\n",
    "    catArray = []\n",
    "    for array in elem:\n",
    "        for x in array:\n",
    "            catArray.append(x)\n",
    "    return(np.array(catArray))\n",
    "\n",
    "#Define murmurHash level for 1-hot encoding\n",
    "HASHLEN = 16\n",
    "\n",
    "#testRdd.map(lambda x : x.split('\\t')[14:40]).map(lambda x: [mmh3.hash(xn)%16 for xn in x]).take(5)\n",
    "categoricalRdd = testRdd.map(lambda x : x.split('\\t')[14:40]) \\\n",
    "                        .map(lambda x: createHash(x,HASHLEN)) \\\n",
    "                        .map(lambda x: [create1Hot(xn, HASHLEN) for xn in x]) \\\n",
    "                        .map(createCatArray)\n",
    "categoricalRdd.take(2)"
   ]
  },
  {
   "cell_type": "code",
   "execution_count": 332,
   "metadata": {},
   "outputs": [
    {
     "data": {
      "text/plain": [
       "[(0.0, array([-0.47547949, -0.28723426, -0.03746799, -0.92965574, -0.01272051,\n",
       "          1.24738994, -0.19755653, -0.15479084, -0.00440928, -1.27487322,\n",
       "         -0.34456582, -0.00283255, -0.26716893,  0.        ,  0.        ,\n",
       "          1.        ,  0.        ,  0.        ,  0.        ,  0.        ,\n",
       "          0.        ,  0.        ,  0.        ,  0.        ,  0.        ,\n",
       "          0.        ,  0.        ,  0.        ,  0.        ,  1.        ,\n",
       "          0.        ,  0.        ,  0.        ,  0.        ,  0.        ,\n",
       "          0.        ,  0.        ,  0.        ,  0.        ,  0.        ,\n",
       "          0.        ,  0.        ,  0.        ,  0.        ,  0.        ,\n",
       "          0.        ,  0.        ,  0.        ,  0.        ,  0.        ,\n",
       "          0.        ,  0.        ,  0.        ,  0.        ,  0.        ,\n",
       "          0.        ,  1.        ,  0.        ,  0.        ,  0.        ,\n",
       "          0.        ,  0.        ,  0.        ,  0.        ,  0.        ,\n",
       "          0.        ,  0.        ,  0.        ,  0.        ,  0.        ,\n",
       "          1.        ,  0.        ,  0.        ,  0.        ,  0.        ,\n",
       "          0.        ,  0.        ,  0.        ,  0.        ,  0.        ,\n",
       "          0.        ,  0.        ,  0.        ,  0.        ,  0.        ,\n",
       "          0.        ,  0.        ,  0.        ,  0.        ,  0.        ,\n",
       "          0.        ,  0.        ,  1.        ,  0.        ,  0.        ,\n",
       "          0.        ,  0.        ,  0.        ,  0.        ,  0.        ,\n",
       "          1.        ,  0.        ,  0.        ,  0.        ,  0.        ,\n",
       "          0.        ,  0.        ,  0.        ,  0.        ,  0.        ,\n",
       "          0.        ,  0.        ,  0.        ,  0.        ,  0.        ,\n",
       "          0.        ,  0.        ,  0.        ,  0.        ,  0.        ,\n",
       "          0.        ,  0.        ,  0.        ,  1.        ,  0.        ,\n",
       "          0.        ,  0.        ,  0.        ,  0.        ,  0.        ,\n",
       "          0.        ,  1.        ,  0.        ,  0.        ,  0.        ,\n",
       "          0.        ,  0.        ,  0.        ,  0.        ,  0.        ,\n",
       "          0.        ,  0.        ,  0.        ,  0.        ,  0.        ,\n",
       "          0.        ,  0.        ,  0.        ,  0.        ,  0.        ,\n",
       "          0.        ,  0.        ,  0.        ,  1.        ,  0.        ,\n",
       "          0.        ,  0.        ,  0.        ,  0.        ,  0.        ,\n",
       "          0.        ,  0.        ,  0.        ,  0.        ,  0.        ,\n",
       "          1.        ,  0.        ,  0.        ,  0.        ,  0.        ,\n",
       "          0.        ,  0.        ,  0.        ,  0.        ,  0.        ,\n",
       "          0.        ,  0.        ,  0.        ,  0.        ,  0.        ,\n",
       "          0.        ,  0.        ,  0.        ,  0.        ,  0.        ,\n",
       "          0.        ,  0.        ,  1.        ,  0.        ,  0.        ,\n",
       "          0.        ,  0.        ,  0.        ,  1.        ,  0.        ,\n",
       "          0.        ,  0.        ,  0.        ,  0.        ,  0.        ,\n",
       "          0.        ,  0.        ,  0.        ,  0.        ,  0.        ,\n",
       "          0.        ,  0.        ,  0.        ,  1.        ,  0.        ,\n",
       "          0.        ,  0.        ,  0.        ,  0.        ,  0.        ,\n",
       "          0.        ,  0.        ,  0.        ,  0.        ,  0.        ,\n",
       "          0.        ,  0.        ,  0.        ,  0.        ,  0.        ,\n",
       "          0.        ,  0.        ,  0.        ,  0.        ,  1.        ,\n",
       "          0.        ,  0.        ,  0.        ,  0.        ,  0.        ,\n",
       "          0.        ,  0.        ,  0.        ,  1.        ,  0.        ,\n",
       "          0.        ,  0.        ,  0.        ,  0.        ,  0.        ,\n",
       "          0.        ,  0.        ,  0.        ,  0.        ,  0.        ,\n",
       "          0.        ,  0.        ,  0.        ,  0.        ,  0.        ,\n",
       "          0.        ,  1.        ,  0.        ,  0.        ,  0.        ,\n",
       "          0.        ,  0.        ,  0.        ,  0.        ,  0.        ,\n",
       "          0.        ,  0.        ,  0.        ,  0.        ,  0.        ,\n",
       "          0.        ,  0.        ,  0.        ,  0.        ,  0.        ,\n",
       "          0.        ,  0.        ,  0.        ,  0.        ,  0.        ,\n",
       "          0.        ,  0.        ,  0.        ,  0.        ,  1.        ,\n",
       "          0.        ,  0.        ,  0.        ,  0.        ,  0.        ,\n",
       "          0.        ,  0.        ,  0.        ,  0.        ,  0.        ,\n",
       "          0.        ,  1.        ,  0.        ,  0.        ,  0.        ,\n",
       "          0.        ,  1.        ,  0.        ,  0.        ,  0.        ,\n",
       "          0.        ,  0.        ,  0.        ,  0.        ,  0.        ,\n",
       "          0.        ,  0.        ,  0.        ,  0.        ,  0.        ,\n",
       "          0.        ,  0.        ,  1.        ,  0.        ,  0.        ,\n",
       "          0.        ,  0.        ,  0.        ,  0.        ,  0.        ,\n",
       "          0.        ,  0.        ,  0.        ,  0.        ,  0.        ,\n",
       "          0.        ,  0.        ,  0.        ,  0.        ,  0.        ,\n",
       "          0.        ,  0.        ,  0.        ,  0.        ,  0.        ,\n",
       "          0.        ,  0.        ,  0.        ,  0.        ,  1.        ,\n",
       "          0.        ,  0.        ,  0.        ,  0.        ,  1.        ,\n",
       "          0.        ,  0.        ,  0.        ,  0.        ,  0.        ,\n",
       "          0.        ,  0.        ,  0.        ,  0.        ,  0.        ,\n",
       "          0.        ,  0.        ,  0.        ,  0.        ,  0.        ,\n",
       "          0.        ,  0.        ,  0.        ,  0.        ,  0.        ,\n",
       "          0.        ,  0.        ,  0.        ,  0.        ,  0.        ,\n",
       "          0.        ,  0.        ,  0.        ,  1.        ,  0.        ,\n",
       "          0.        ,  0.        ,  0.        ,  1.        ,  0.        ,\n",
       "          0.        ,  0.        ,  0.        ,  0.        ,  0.        ,\n",
       "          0.        ,  0.        ,  0.        ,  0.        ,  0.        ,\n",
       "          0.        ,  0.        ,  1.        ,  0.        ,  0.        ,\n",
       "          0.        ,  0.        ,  0.        ,  0.        ,  0.        ,\n",
       "          0.        ,  0.        ,  0.        ,  0.        ,  0.        ,\n",
       "          0.        ,  0.        ,  0.        ,  1.        ,  0.        ,\n",
       "          0.        ,  0.        ,  0.        ,  0.        ,  0.        ,\n",
       "          0.        ,  0.        ,  0.        ,  0.        ,  0.        ,\n",
       "          0.        ,  0.        ,  0.        ,  0.        ]))]"
      ]
     },
     "execution_count": 332,
     "metadata": {},
     "output_type": "execute_result"
    }
   ],
   "source": [
    "#Now include this into the logistic regression model\n",
    "#Zip numerical and categorical variables\n",
    "\n",
    "def mergeNumPlusCatRdds(elem):\n",
    "    x, y = elem\n",
    "    xkey , xval = x\n",
    "    merge =  (xkey, np.hstack((xval,y)))\n",
    "    return(merge)\n",
    "\n",
    "numPlusCatRdd = normedRDD.zip(categoricalRdd) \\\n",
    "                         .map(mergeNumPlusCatRdds)\n",
    "numPlusCatRdd.take(1)"
   ]
  },
  {
   "cell_type": "code",
   "execution_count": 333,
   "metadata": {},
   "outputs": [
    {
     "name": "stdout",
     "output_type": "stream",
     "text": [
      "429\n"
     ]
    }
   ],
   "source": [
    "#compute the number of features\n",
    "numb_features = np.size(numPlusCatRdd.first()[1])\n",
    "print(numb_features)\n",
    "#define baseline model, add one parameter representing the intercept\n",
    "BASELINE = np.random.randn(numb_features + 1)"
   ]
  },
  {
   "cell_type": "code",
   "execution_count": 334,
   "metadata": {},
   "outputs": [
    {
     "name": "stdout",
     "output_type": "stream",
     "text": [
      "The estimated model is: [ 1.32775336e+00  9.08630870e-02  7.27705707e-02 -3.24394041e-01\n",
      "  2.62766834e-01 -7.14548784e-01 -7.91105868e-01 -5.52998166e-01\n",
      " -1.86770368e+00 -1.87683400e-02  1.48966210e-01  6.92200146e-01\n",
      "  1.36785778e-01 -9.35744833e-01 -1.23582465e+00 -8.17517029e-01\n",
      " -9.39439915e-01 -1.69383048e-01 -4.59670826e-01 -8.75179018e-01\n",
      "  3.71857560e-01 -2.41519494e-01 -8.32304438e-01 -1.06076690e+00\n",
      " -9.44095255e-01 -1.27313185e+00  2.64693127e-01 -2.69531569e-01\n",
      " -1.59919486e-01 -9.37797717e-01 -1.54010260e-01 -1.82011691e-01\n",
      " -1.16362850e+00  6.39866486e-01 -9.49378175e-02  7.72560206e-02\n",
      " -2.54311584e-01  1.08652166e-01  2.93816073e-01 -2.95748818e-02\n",
      "  2.71929987e-01 -4.61382740e-01  1.17288545e+00 -6.99324543e-01\n",
      "  8.64750516e-01 -1.10546662e+00  2.90391554e-01 -8.64355170e-02\n",
      " -5.26551615e-01 -7.40639564e-01 -6.87499813e-01 -8.97668122e-01\n",
      " -1.50407617e-01 -4.36839745e-01 -3.97940472e-02  4.11582208e-01\n",
      " -5.60730837e-01 -8.51084666e-01 -6.42887359e-01  9.36394421e-02\n",
      " -6.81499601e-01  1.88340907e-01 -4.71324298e-01 -4.26487456e-01\n",
      " -3.99959510e-02  2.43867645e-01 -1.58864536e-01  3.79245463e-01\n",
      " -5.29411139e-01 -4.81982164e-01 -5.74716637e-01 -2.58087274e-01\n",
      "  3.28940943e-03 -3.41151081e-01  2.85835379e-01 -8.45547735e-02\n",
      " -2.66002250e-01 -5.58603887e-01  1.27967360e+00 -1.33562099e+00\n",
      " -1.21686623e+00 -2.22935097e-01  8.98218936e-01 -4.33905001e-01\n",
      "  1.39683159e-01 -1.55811930e+00 -6.04143387e-01 -2.30141543e-01\n",
      " -5.01713333e-01 -4.80617181e-02 -1.00643550e-01  4.75390766e-01\n",
      " -6.78651578e-01 -2.10413289e-01  2.03635957e-01 -1.03095624e+00\n",
      "  1.09311421e+00 -3.08379555e-01  1.97625945e-01 -6.87059223e-02\n",
      " -1.48929569e+00  7.78722059e-02 -4.75442792e-01  1.17585594e+00\n",
      "  1.92047706e-02  4.04560553e-01 -1.89209004e+00 -1.09052356e+00\n",
      "  2.12221261e+00 -5.80436082e-02 -1.34430879e-01  2.46819048e-02\n",
      "  5.33748002e-01  5.09842370e-01 -9.00844230e-02 -3.21640716e-01\n",
      " -4.07358291e-02  1.69382584e-01  6.96348028e-01  2.75601683e-01\n",
      " -3.17317346e-01  2.15288433e-01  5.68574214e-01  1.02242446e+00\n",
      " -4.07687971e-01  6.35891202e-01 -9.57678276e-01  2.25545478e-01\n",
      " -8.23610353e-01 -5.38130506e-01  2.06609177e-01 -6.36981033e-01\n",
      " -3.43180613e-01 -2.73222562e-01  3.11253313e-01  1.30910139e+00\n",
      " -6.88748205e-01 -2.97204369e-01  1.88034929e-01  3.46542695e-01\n",
      " -1.08405769e+00 -1.49614940e+00  3.16442089e-01 -3.13098522e-01\n",
      " -4.55333573e-01  2.99173667e-02  1.38561095e+00 -5.50232342e-01\n",
      " -2.58121976e-01  8.15202483e-01 -1.25988325e+00 -8.37866440e-01\n",
      " -8.30789236e-03 -1.16026823e+00 -8.35978458e-01 -1.77708846e+00\n",
      " -6.85554410e-02 -1.75937068e+00 -8.72056429e-02  5.34407291e-01\n",
      " -4.20677475e-01  1.83026627e-01 -1.09840556e-01  5.33555138e-02\n",
      " -6.17460995e-01 -6.70471054e-01 -9.80179439e-02 -4.90809622e-02\n",
      " -3.64443678e-02 -4.40130124e-01  9.30638920e-01  5.01452881e-02\n",
      " -1.64508354e-01  4.24213836e-01 -1.36076894e-01 -2.94320722e-02\n",
      " -3.93837656e-01 -6.60639142e-02 -9.43484212e-01 -3.04636641e-01\n",
      " -3.44574958e-01  2.30033840e-01  4.32073165e-02 -2.15983118e-01\n",
      " -3.13552735e-01 -3.32244223e-02 -1.93836346e-01 -6.95000122e-02\n",
      " -8.20887500e-01  5.03265490e-01  2.00853778e-01 -4.65165720e-02\n",
      " -4.91806006e-01 -1.23253017e+00  4.62966898e-01 -4.42181057e-01\n",
      " -3.35584222e-01 -5.63933975e-01 -4.89990819e-01  9.59226599e-02\n",
      "  9.22296656e-01 -8.78800057e-02  3.33955873e-01  2.84062148e-01\n",
      "  8.36448667e-02 -3.01722476e-01  2.78858231e-01  4.23543372e-01\n",
      "  2.92821177e-01 -4.33426410e-01 -5.29838126e-01  3.69261215e-01\n",
      "  2.22049859e-01 -1.15854392e+00  6.65903255e-01 -7.44388313e-01\n",
      "  3.69363990e-01 -1.64499284e-03  6.09622804e-01  4.32724249e-01\n",
      "  2.79737990e-01  7.98859315e-01 -5.80850290e-01 -6.67810416e-01\n",
      "  1.52852280e+00 -3.30487649e-01 -2.52804512e-01  2.50040954e-02\n",
      " -8.49458409e-01  3.12906005e-03 -8.50427265e-01  1.40245492e+00\n",
      " -4.62060168e-01 -1.08786991e+00  1.26885146e+00  5.76993076e-02\n",
      "  1.77995448e-01 -1.19081520e+00 -5.04446962e-01  5.32867491e-01\n",
      "  5.64998808e-01 -2.69124521e-01 -3.80834204e-01 -5.54172395e-01\n",
      "  1.40084219e-01  2.19102539e-01  1.17212650e-01  4.30102462e-02\n",
      " -4.21597203e-01 -4.62560830e-02 -8.13643691e-02 -7.08138881e-01\n",
      " -2.47170790e-01 -3.22507542e-01 -4.59943529e-03 -8.23809534e-02\n",
      "  5.38451250e-01 -7.48309515e-01 -4.68496341e-01  4.50518479e-01\n",
      " -7.05341108e-01 -4.00246801e-01 -4.39670456e-01 -3.37088500e-01\n",
      " -5.16952612e-01 -2.34528324e-01 -2.72972466e-01 -1.34591400e-01\n",
      " -1.29864248e-01 -6.48642330e-01  2.47032267e-01 -8.99786435e-01\n",
      " -1.42985824e-01  1.00905410e-01  1.14912702e-01  4.84109500e-01\n",
      "  3.53637514e-01  1.88067058e-01  6.33811074e-01  7.83362583e-01\n",
      "  9.70278640e-01  5.25102240e-02  2.42503026e-01  8.35741287e-01\n",
      " -4.54059969e-01  1.16075608e+00  4.59242408e-01  2.72518150e-01\n",
      "  1.51749667e-01  8.63971657e-01 -6.32958317e-03  1.09965930e+00\n",
      "  5.54661394e-02  1.02352134e-01  3.17327190e-01 -7.89743381e-02\n",
      "  3.56805474e-01  1.05624994e+00  5.77139479e-01 -6.61846846e-02\n",
      "  5.94575199e-01  1.27285455e+00  7.60984712e-01 -2.64339800e-01\n",
      " -1.17225684e-01  1.17571422e+00  7.27429445e-01  5.13419947e-01\n",
      "  4.94307056e-01  3.09124536e-01  1.40167497e+00 -5.67141601e-01\n",
      " -8.12830220e-01 -3.86889031e-01 -9.13549784e-01 -1.52928450e+00\n",
      "  8.21940812e-03  1.32679428e+00  5.36426395e-02 -3.05568726e-01\n",
      " -1.21433989e-01  5.02953251e-01  1.41462676e-01 -1.75186657e-01\n",
      " -8.76880521e-01  2.11551931e+00 -2.28152164e-02  7.96746698e-01\n",
      "  1.29932930e-01 -9.39170281e-01 -5.71310045e-01 -9.68377870e-01\n",
      "  8.28210552e-01  2.74167006e-01 -1.76666524e-02  2.74972713e-02\n",
      "  6.17672674e-01  6.43922480e-02 -1.66796867e-01  6.54815587e-01\n",
      "  4.41467374e-01 -4.93127553e-01 -1.78441833e-01  2.87115962e-01\n",
      " -3.14467537e-01  3.34150465e-01  2.63992388e-01  2.78524042e-01\n",
      "  8.77143891e-01  5.69543992e-01 -7.72154329e-01  1.09995278e+00\n",
      " -2.49665716e+00 -1.26514862e-02 -6.55622509e-01 -1.42186724e+00\n",
      " -7.38909966e-01  8.18561105e-01  1.72816669e+00  4.53139601e-01\n",
      " -6.80214789e-01  9.50299651e-01  9.72519249e-01  7.13789171e-01\n",
      "  1.41532005e+00 -4.74150341e-01  4.28053101e-01 -7.32631619e-01\n",
      "  1.41914074e-01 -3.46237072e-01 -3.91420276e-01  1.03221696e-01\n",
      " -1.17544128e-01 -1.44220045e+00 -1.15440636e+00 -9.32572968e-01\n",
      " -7.54315005e-01 -1.17174111e+00 -4.65934510e-01 -3.21969258e-01\n",
      "  8.50421762e-01 -7.37361309e-01 -7.45353930e-01 -3.28156373e-01\n",
      " -5.22173031e-01 -6.97687135e-02 -1.63565754e-01 -2.87901992e-01\n",
      "  8.31234791e-02 -4.67555369e-01 -6.94079640e-01 -4.44932200e-01\n",
      " -3.45569530e-01 -5.96808448e-01  8.36204959e-02 -2.19559983e-02\n",
      "  3.95823303e-01 -6.41306094e-01  3.99259841e-01  6.05116992e-01\n",
      "  3.99595642e-01 -7.79713079e-01  4.28385683e-01  7.23378230e-01\n",
      "  7.12907622e-01  5.64095807e-01  4.20079988e-01 -5.83892175e-01\n",
      " -3.75897144e-01  4.70827415e-01 -4.17959053e-01  3.81486942e-01\n",
      " -2.11319367e+00  6.87218441e-01 -6.04701520e-01 -5.59162441e-02\n",
      "  3.11084318e-01  2.29206708e-01  7.12971412e-02  1.83722694e-01\n",
      " -2.44566582e-01 -1.26708445e-01 -1.66083260e-01 -1.41670549e-01\n",
      "  3.18368198e-01  3.57112101e-02 -9.49682677e-01 -4.36017043e-01\n",
      "  1.26649488e-01 -2.77659791e-01]\n",
      "The loss of the estimated model is: 0.6196368418912881\n",
      "\n",
      "\n"
     ]
    },
    {
     "data": {
      "image/png": "[encoded data removed]",
      "text/plain": [
       "<Figure size 432x288 with 1 Axes>"
      ]
     },
     "metadata": {},
     "output_type": "display_data"
    },
    {
     "data": {
      "text/plain": [
       "Text(0.5,1,'Norm of vector of parameters')"
      ]
     },
     "execution_count": 334,
     "metadata": {},
     "output_type": "execute_result"
    },
    {
     "data": {
      "image/png": "[encoded data removed]",
      "text/plain": [
       "<Figure size 432x288 with 1 Axes>"
      ]
     },
     "metadata": {},
     "output_type": "display_data"
    }
   ],
   "source": [
    "nSteps = 200\n",
    "learningRate = 1.0\n",
    "regType = None\n",
    "regParam = 0.1\n",
    "\n",
    "Loss_save = []\n",
    "Model_norm = []\n",
    "#broadcast model\n",
    "model = BASELINE #model = sc.broadcast(BASELINE) #substitute this line with the comment when deploying it on the cloud\n",
    "for idx in range(nSteps):\n",
    "    #print(\"----------\")\n",
    "    #print(f\"STEP: {idx+1}\")\n",
    "    \n",
    "    # compute loss\n",
    "    loss = LogLoss(numPlusCatRdd, model, regType=regType, regParam=regParam)\n",
    "    # update model parameters\n",
    "    model = GDUpdate(numPlusCatRdd, model, regType=regType, regParam=regParam, learningRate=learningRate)\n",
    "    \n",
    "    #store results\n",
    "    Loss_save.append(loss)\n",
    "    Model_norm.append(np.linalg.norm(model))\n",
    "    \n",
    "    #broadcast model\n",
    "    #model = sc.broadcast(model) #uncomment this line when deploying it on the cloud\n",
    "\n",
    "print(f\"The estimated model is: {model}\")\n",
    "print(f\"The loss of the estimated model is: {loss}\")\n",
    "print()\n",
    "print()\n",
    "plt.plot(Loss_save)\n",
    "plt.title('Loss')\n",
    "plt.show()\n",
    "plt.plot(Model_norm)\n",
    "plt.title('Norm of vector of parameters')"
   ]
  },
  {
   "cell_type": "code",
   "execution_count": 335,
   "metadata": {},
   "outputs": [
    {
     "name": "stdout",
     "output_type": "stream",
     "text": [
      "number of true positives is 2415.0\n",
      "number of predicted positives is 1720\n"
     ]
    }
   ],
   "source": [
    "print(f'number of true positives is {numPlusCatRdd.map(lambda x: x[0]).sum()}')\n",
    "res = makePrediction(numPlusCatRdd, model).cache()\n",
    "print(f'number of predicted positives is {res.sum()}')"
   ]
  },
  {
   "cell_type": "markdown",
   "metadata": {},
   "source": [
    "### 4.1.3 Multi-column Feature Hashing\n",
    "Hashing each column independently resulted in a dimensionality reduction from several million vectors to 416 for the categorical variables. We could further reduce dimensionality through multi-column Feature Hashing with a likely tradeoff being the loss of accuracy (TBD). \n",
    "\n",
    "We used the multi-column FeatureHashing functionality in Apache Spark MLLib to look into how dimensionality reduction to fewer vectors for logistic regression. Multi-column FeatureHashing would be very handy when we start looking at adding in quadratic terms for logistic regression. Instead of a (416,416) quadratic feature matrix, we could deal with a smaller (32,32) or (64,64) features, leading to faster computation."
   ]
  },
  {
   "cell_type": "markdown",
   "metadata": {},
   "source": [
    "#### Spark MLLib FeatureHasher example\n",
    "The FeatureHasher in spark takes multiple columns of categorical (and numerical) variables and hashes them down to fewer features. It is possible to specify the number of output features so that we can restrict the dimensions to a more manageable number."
   ]
  },
  {
   "cell_type": "code",
   "execution_count": 137,
   "metadata": {},
   "outputs": [
    {
     "name": "stdout",
     "output_type": "stream",
     "text": [
      "+--------------------------------------------------------+\n",
      "|features                                                |\n",
      "+--------------------------------------------------------+\n",
      "|(262144,[174475,247670,257907,262126],[2.2,1.0,1.0,1.0])|\n",
      "|(262144,[70644,89673,173866,174475],[1.0,1.0,1.0,3.3])  |\n",
      "|(262144,[22406,70644,174475,187923],[1.0,1.0,4.4,1.0])  |\n",
      "|(262144,[70644,101499,174475,257907],[1.0,1.0,5.5,1.0]) |\n",
      "+--------------------------------------------------------+\n",
      "\n"
     ]
    }
   ],
   "source": [
    "#Feature hashing example\n",
    "from pyspark.ml.feature import FeatureHasher\n",
    "\n",
    "dataset = spark.createDataFrame([\n",
    "    (2.2, True, \"1\", \"foo\"),\n",
    "    (3.3, False, \"2\", \"bar\"),\n",
    "    (4.4, False, \"3\", \"baz\"),\n",
    "    (5.5, False, \"4\", \"foo\")\n",
    "], [\"real\", \"bool\", \"stringNum\", \"string\"])\n",
    "\n",
    "hasher = FeatureHasher(inputCols=[\"real\", \"bool\", \"stringNum\", \"string\"],\n",
    "                       outputCol=\"features\")\n",
    "\n",
    "featurized = hasher.transform(dataset)\n",
    "featurized.select(\"features\").show(truncate=False)"
   ]
  },
  {
   "cell_type": "markdown",
   "metadata": {},
   "source": [
    "#### Multi-column Feature Hashing with test set\n",
    "We applied Multi-column Feature Hashing to get to a dimensionality of 64 vectors using FeatureHasher. The results of the logistic regression following this hashing are given below (need to add time, accuracy etc...How do you compare otherwise?)"
   ]
  },
  {
   "cell_type": "code",
   "execution_count": 317,
   "metadata": {},
   "outputs": [
    {
     "name": "stdout",
     "output_type": "stream",
     "text": [
      "+---+---+---+---+---+-----+---+---+---+---+---+---+---+---+--------+--------+--------+--------+--------+--------+--------+--------+--------+--------+--------+--------+--------+--------+--------+--------+--------+--------+---+---+--------+--------+--------+--------+---+---+\n",
      "| _1| _2| _3| _4| _5|   _6| _7| _8| _9|_10|_11|_12|_13|_14|     _15|     _16|     _17|     _18|     _19|     _20|     _21|     _22|     _23|     _24|     _25|     _26|     _27|     _28|     _29|     _30|     _31|     _32|_33|_34|     _35|     _36|     _37|     _38|_39|_40|\n",
      "+---+---+---+---+---+-----+---+---+---+---+---+---+---+---+--------+--------+--------+--------+--------+--------+--------+--------+--------+--------+--------+--------+--------+--------+--------+--------+--------+--------+---+---+--------+--------+--------+--------+---+---+\n",
      "|  0|  0|  1|   |  0|16597|557|  3|  5|123|  0|  1|   |  1|8cf07265|7cd19acc|77f2f2e5|d16679b9|4cf72387|fbad5c96|8fb24933|0b153874|a73ee510|0095a535|3617b5f5|9f32b866|428332cf|b28479f6|83ebd498|31ca40b6|e5ba7672|d0e5eb07|   |   |dfcfc3fa|ad3062eb|32c7478e|aee52b6f|   |   |\n",
      "|  0|  1|  0|  1|   | 1427|  3| 16| 11| 50|  0|  2|  1|   |05db9164|26a88120|615e3e4e|2788fed8|4cf72387|7e0ccccf|3f4ec687|0b153874|a73ee510|0e9ead52|c4adf918|f5d19c1c|85dbe138|07d13a8f|24ff9452|1034ac0d|3486227d|b486119d|   |   |63580fba|        |32c7478e|2a90c749|   |   |\n",
      "|  0|   |  1|   |   |23255|   |  0|  1| 73|   |  0|   |   |7e5c2ff4|d833535f|b00d1501|d16679b9|25c83c98|7e0ccccf|65c53f25|1f89b562|a73ee510|3b08e48b|ad2bc6f4|e0d76380|39ccb769|b28479f6|a733d362|1203a270|776ce399|281769c2|   |   |73d06dde|        |32c7478e|aee52b6f|   |   |\n",
      "+---+---+---+---+---+-----+---+---+---+---+---+---+---+---+--------+--------+--------+--------+--------+--------+--------+--------+--------+--------+--------+--------+--------+--------+--------+--------+--------+--------+---+---+--------+--------+--------+--------+---+---+\n",
      "only showing top 3 rows\n",
      "\n"
     ]
    }
   ],
   "source": [
    "# read in sample training data and convert to dataframe\n",
    "train_sample1 = sc.textFile('data/sample_training.txt')\\\n",
    "                 .map(lambda x: x.split('\\t'))\\\n",
    "                 .toDF().limit(10000).cache()\n",
    "train_sample1.show(3)"
   ]
  },
  {
   "cell_type": "code",
   "execution_count": 318,
   "metadata": {},
   "outputs": [
    {
     "name": "stdout",
     "output_type": "stream",
     "text": [
      "['_14', '_15', '_16', '_17', '_18', '_19', '_20', '_21', '_22', '_23', '_24', '_25', '_26', '_27', '_28', '_29', '_30', '_31', '_32', '_33', '_34', '_35', '_36', '_37', '_38', '_39', '_40']\n"
     ]
    }
   ],
   "source": [
    "#choose categorical columns to Hash\n",
    "hashInpList = []\n",
    "for c in range(14,41):\n",
    "    col = \"_\"+str(c)\n",
    "    hashInpList.append(col)\n",
    "print (hashInpList)"
   ]
  },
  {
   "cell_type": "code",
   "execution_count": 351,
   "metadata": {},
   "outputs": [
    {
     "name": "stdout",
     "output_type": "stream",
     "text": [
      "+----------------------------------------------------------------------------------------------------------------------------------------------------------------------------------------------------------+\n",
      "|features                                                                                                                                                                                                  |\n",
      "+----------------------------------------------------------------------------------------------------------------------------------------------------------------------------------------------------------+\n",
      "|(256,[6,9,24,49,55,60,61,65,72,83,109,126,131,135,141,187,189,190,191,195,208,220,231,235],[1.0,1.0,1.0,1.0,1.0,1.0,1.0,2.0,1.0,1.0,1.0,1.0,1.0,1.0,1.0,1.0,2.0,1.0,1.0,1.0,1.0,1.0,1.0,2.0])             |\n",
      "|(256,[8,9,15,21,24,33,54,56,57,72,77,83,98,108,124,126,141,170,178,189,190,200,226,236,252],[1.0,1.0,1.0,1.0,2.0,1.0,1.0,1.0,1.0,1.0,1.0,1.0,1.0,1.0,1.0,1.0,1.0,1.0,1.0,2.0,1.0,1.0,1.0,1.0,1.0])        |\n",
      "|(256,[2,8,9,24,36,47,61,62,65,72,83,93,108,117,123,141,142,168,189,199,208,221,230,231,236,239],[1.0,1.0,1.0,1.0,1.0,1.0,1.0,1.0,1.0,1.0,1.0,1.0,1.0,1.0,1.0,1.0,1.0,1.0,1.0,1.0,1.0,1.0,1.0,1.0,2.0,1.0])|\n",
      "+----------------------------------------------------------------------------------------------------------------------------------------------------------------------------------------------------------+\n",
      "only showing top 3 rows\n",
      "\n"
     ]
    }
   ],
   "source": [
    "#Apply Multi-column hashing with 32 output features\n",
    "hasher = FeatureHasher(numFeatures=256, inputCols=hashInpList,outputCol=\"features\")\n",
    "\n",
    "featurized = hasher.transform(train_sample1)\n",
    "featurized.select(\"features\").show(3,truncate=False)"
   ]
  },
  {
   "cell_type": "code",
   "execution_count": 352,
   "metadata": {},
   "outputs": [
    {
     "name": "stdout",
     "output_type": "stream",
     "text": [
      "+---+---+---+---+---+-----+---+---+---+---+---+---+---+---+--------+--------+--------+--------+--------+--------+--------+--------+--------+--------+--------+--------+--------+--------+--------+--------+--------+--------+---+---+--------+--------+--------+--------+---+---+--------------------+\n",
      "| _1| _2| _3| _4| _5|   _6| _7| _8| _9|_10|_11|_12|_13|_14|     _15|     _16|     _17|     _18|     _19|     _20|     _21|     _22|     _23|     _24|     _25|     _26|     _27|     _28|     _29|     _30|     _31|     _32|_33|_34|     _35|     _36|     _37|     _38|_39|_40|            features|\n",
      "+---+---+---+---+---+-----+---+---+---+---+---+---+---+---+--------+--------+--------+--------+--------+--------+--------+--------+--------+--------+--------+--------+--------+--------+--------+--------+--------+--------+---+---+--------+--------+--------+--------+---+---+--------------------+\n",
      "|  0|  0|  1|   |  0|16597|557|  3|  5|123|  0|  1|   |  1|8cf07265|7cd19acc|77f2f2e5|d16679b9|4cf72387|fbad5c96|8fb24933|0b153874|a73ee510|0095a535|3617b5f5|9f32b866|428332cf|b28479f6|83ebd498|31ca40b6|e5ba7672|d0e5eb07|   |   |dfcfc3fa|ad3062eb|32c7478e|aee52b6f|   |   |(256,[6,9,24,49,5...|\n",
      "|  0|  1|  0|  1|   | 1427|  3| 16| 11| 50|  0|  2|  1|   |05db9164|26a88120|615e3e4e|2788fed8|4cf72387|7e0ccccf|3f4ec687|0b153874|a73ee510|0e9ead52|c4adf918|f5d19c1c|85dbe138|07d13a8f|24ff9452|1034ac0d|3486227d|b486119d|   |   |63580fba|        |32c7478e|2a90c749|   |   |(256,[8,9,15,21,2...|\n",
      "|  0|   |  1|   |   |23255|   |  0|  1| 73|   |  0|   |   |7e5c2ff4|d833535f|b00d1501|d16679b9|25c83c98|7e0ccccf|65c53f25|1f89b562|a73ee510|3b08e48b|ad2bc6f4|e0d76380|39ccb769|b28479f6|a733d362|1203a270|776ce399|281769c2|   |   |73d06dde|        |32c7478e|aee52b6f|   |   |(256,[2,8,9,24,36...|\n",
      "+---+---+---+---+---+-----+---+---+---+---+---+---+---+---+--------+--------+--------+--------+--------+--------+--------+--------+--------+--------+--------+--------+--------+--------+--------+--------+--------+--------+---+---+--------+--------+--------+--------+---+---+--------------------+\n",
      "only showing top 3 rows\n",
      "\n"
     ]
    },
    {
     "data": {
      "text/plain": [
       "1"
      ]
     },
     "execution_count": 352,
     "metadata": {},
     "output_type": "execute_result"
    }
   ],
   "source": [
    "featurized.show(3)\n",
    "featurized.rdd.getNumPartitions()"
   ]
  },
  {
   "cell_type": "code",
   "execution_count": 353,
   "metadata": {},
   "outputs": [
    {
     "data": {
      "text/plain": [
       "1"
      ]
     },
     "execution_count": 353,
     "metadata": {},
     "output_type": "execute_result"
    }
   ],
   "source": [
    "#Convert into a dense vector format to feed logistic regression model\n",
    "def extractVec (elem):\n",
    "    return(np.array(tuple(elem.features.toArray().tolist())))\n",
    "    \n",
    "multiHashCatRdd = featurized.select(\"features\").rdd.map(extractVec)\n",
    "#map(extractVec)\n",
    "multiHashCatRdd.take(3)\n",
    "multiHashCatRdd.getNumPartitions()"
   ]
  },
  {
   "cell_type": "code",
   "execution_count": 354,
   "metadata": {},
   "outputs": [
    {
     "name": "stdout",
     "output_type": "stream",
     "text": [
      "+---+---+---+---+---+-----+---+---+---+---+---+---+---+---+--------+--------+--------+--------+--------+--------+--------+--------+--------+--------+--------+--------+--------+--------+--------+--------+--------+--------+---+---+--------+--------+--------+--------+---+---+--------------------+\n",
      "| _1| _2| _3| _4| _5|   _6| _7| _8| _9|_10|_11|_12|_13|_14|     _15|     _16|     _17|     _18|     _19|     _20|     _21|     _22|     _23|     _24|     _25|     _26|     _27|     _28|     _29|     _30|     _31|     _32|_33|_34|     _35|     _36|     _37|     _38|_39|_40|            features|\n",
      "+---+---+---+---+---+-----+---+---+---+---+---+---+---+---+--------+--------+--------+--------+--------+--------+--------+--------+--------+--------+--------+--------+--------+--------+--------+--------+--------+--------+---+---+--------+--------+--------+--------+---+---+--------------------+\n",
      "|  0|  0|  1|   |  0|16597|557|  3|  5|123|  0|  1|   |  1|8cf07265|7cd19acc|77f2f2e5|d16679b9|4cf72387|fbad5c96|8fb24933|0b153874|a73ee510|0095a535|3617b5f5|9f32b866|428332cf|b28479f6|83ebd498|31ca40b6|e5ba7672|d0e5eb07|   |   |dfcfc3fa|ad3062eb|32c7478e|aee52b6f|   |   |(256,[6,9,24,49,5...|\n",
      "|  0|  1|  0|  1|   | 1427|  3| 16| 11| 50|  0|  2|  1|   |05db9164|26a88120|615e3e4e|2788fed8|4cf72387|7e0ccccf|3f4ec687|0b153874|a73ee510|0e9ead52|c4adf918|f5d19c1c|85dbe138|07d13a8f|24ff9452|1034ac0d|3486227d|b486119d|   |   |63580fba|        |32c7478e|2a90c749|   |   |(256,[8,9,15,21,2...|\n",
      "|  0|   |  1|   |   |23255|   |  0|  1| 73|   |  0|   |   |7e5c2ff4|d833535f|b00d1501|d16679b9|25c83c98|7e0ccccf|65c53f25|1f89b562|a73ee510|3b08e48b|ad2bc6f4|e0d76380|39ccb769|b28479f6|a733d362|1203a270|776ce399|281769c2|   |   |73d06dde|        |32c7478e|aee52b6f|   |   |(256,[2,8,9,24,36...|\n",
      "+---+---+---+---+---+-----+---+---+---+---+---+---+---+---+--------+--------+--------+--------+--------+--------+--------+--------+--------+--------+--------+--------+--------+--------+--------+--------+--------+--------+---+---+--------+--------+--------+--------+---+---+--------------------+\n",
      "only showing top 3 rows\n",
      "\n"
     ]
    }
   ],
   "source": [
    "featurized.show(3)"
   ]
  },
  {
   "cell_type": "code",
   "execution_count": 355,
   "metadata": {},
   "outputs": [
    {
     "data": {
      "text/plain": [
       "1"
      ]
     },
     "execution_count": 355,
     "metadata": {},
     "output_type": "execute_result"
    }
   ],
   "source": [
    "#Now include this into the logistic regression model\n",
    "#Zip numerical and categorical variables\n",
    "\n",
    "def mergeNumPlusCatRdds(elem):\n",
    "    x, y = elem\n",
    "    xkey , xval = x\n",
    "    merge =  (xkey, np.hstack((xval,y)))\n",
    "    return(merge)\n",
    "\n",
    "numPlusCatRdd2 = normedRDD.zip(multiHashCatRdd) \\\n",
    "                         .map(mergeNumPlusCatRdds)\n",
    "numPlusCatRdd2.take(1)\n",
    "numPlusCatRdd2.getNumPartitions()"
   ]
  },
  {
   "cell_type": "code",
   "execution_count": 356,
   "metadata": {},
   "outputs": [
    {
     "name": "stdout",
     "output_type": "stream",
     "text": [
      "269\n"
     ]
    }
   ],
   "source": [
    "#compute the number of features\n",
    "numb_features = np.size(numPlusCatRdd2.first()[1])\n",
    "print(numb_features)\n",
    "#define baseline model, add one parameter representing the intercept\n",
    "BASELINE = np.random.randn(numb_features + 1)\n"
   ]
  },
  {
   "cell_type": "code",
   "execution_count": 357,
   "metadata": {},
   "outputs": [
    {
     "name": "stdout",
     "output_type": "stream",
     "text": [
      "The estimated model is: [ 0.02652669 -0.11269932  0.05677435  0.13984479 -0.37266669 -0.15536987\n",
      " -1.31188948 -0.30976838  0.89844192 -0.11753647  0.3991227   0.64061094\n",
      "  1.08709169 -1.25876754 -0.79113098 -0.90785265  0.05412588 -1.26117754\n",
      "  1.05973172 -0.05077709 -1.59498512 -0.55090051  0.30761802  0.49103302\n",
      " -0.78604014 -0.14644379 -0.3710549  -0.32389508  0.93318132  1.04329915\n",
      " -0.81354373  0.56967711 -0.14561603  0.57687121  0.73033133 -1.23123684\n",
      "  1.0798675  -0.25107323 -0.1257332   0.70431152  0.32919667 -1.0071452\n",
      "  0.16638586  0.32714435 -1.33010052 -0.06289141 -0.60731965 -0.20054139\n",
      " -0.37499005 -0.16890272  0.01945193 -0.23773017 -1.13984214 -0.32449149\n",
      "  0.25845704 -1.19495134 -0.75575164  1.39500038  0.77815925  0.74226379\n",
      "  0.56857518 -0.8601287   1.25525963  1.41462355 -0.76571546  0.48865585\n",
      " -1.84215752  0.72152277 -1.12752134  0.36623565  2.61746363 -0.8404494\n",
      " -0.44224918  0.76145599  1.56132012  0.11973377  0.39538406  0.75836912\n",
      "  0.17085511  0.70549658  0.07632131 -0.18312047 -0.40877239 -0.5740485\n",
      " -0.20066547 -0.59873909  0.17612399  0.71670798 -0.15399259 -1.22123543\n",
      "  0.95381496 -0.9213128  -0.55236752 -0.92500753 -0.44803926 -2.44795028\n",
      " -0.65261654 -0.57160403 -0.31984866 -0.65161334 -0.71196701 -0.03791216\n",
      "  0.62669634 -1.01472665  0.55518058 -0.51488038 -0.03527498 -0.72307604\n",
      "  0.02808173  1.01143603 -1.1570385  -0.32438463 -1.23540453 -1.40668383\n",
      " -0.51947729  0.84959704 -1.12541964 -0.03316949 -0.48011798 -0.70575856\n",
      " -0.95335818 -0.11000262  0.10236012  0.21990905 -0.18401548 -0.8286668\n",
      "  0.09551254  0.45567607  0.20678765  0.28200949  1.23452188 -0.69690692\n",
      "  0.16164576  0.43688978 -0.15555644 -0.46842567  0.20950538  1.23724605\n",
      "  0.84884942 -0.08212468  0.36024889  0.617662   -0.44464087 -0.209416\n",
      " -0.45309206  0.92065077  0.59979784  0.05660588  0.54450694 -0.08827162\n",
      "  1.73877357 -0.09760247 -0.20184735 -0.67667753 -0.21429537 -0.08568441\n",
      " -0.46322922  0.1993266  -1.9456538  -0.05093215  0.88808412  0.48866057\n",
      "  0.17671212  0.18836497  1.99227617 -0.73497366 -0.04876357 -0.69786363\n",
      "  1.20242893 -0.78487008 -1.16036384 -1.2558939  -0.398104    0.24412855\n",
      "  0.21564124  2.49652349  1.1367811  -0.23792651 -0.54651331  0.57010513\n",
      "  0.6290418  -0.31284774 -1.1258747  -0.48858112  1.35306918 -1.63508128\n",
      "  0.59153016 -0.60382593 -0.56429494 -0.46320179 -0.45467409 -1.76314808\n",
      "  0.84948313  0.10370441 -0.12899564  2.04981474  0.50327474 -0.57138205\n",
      "  0.92756218 -0.63098329  1.42839243 -0.49470199 -0.88078371 -0.09389165\n",
      " -0.29632428 -1.38080139  0.24617857 -1.10270325 -0.45186174  0.89122145\n",
      "  0.49052154 -1.0170037  -0.00932568  1.02730032 -0.28569957  0.45118711\n",
      "  0.39034798 -1.70101626  0.58507929 -0.53062018  0.03013062 -0.12400319\n",
      "  0.10999582 -1.03186403 -1.62631763 -1.09893524 -0.97919647 -0.4352486\n",
      "  0.26760725 -2.41642009  0.74626473  0.0099891  -1.1020744   0.03939881\n",
      "  0.289644   -0.72842729  1.40319713  1.46753043 -0.31312908  0.55173603\n",
      "  0.11401169 -0.16291371 -0.2264711  -1.01269153  0.02530094 -1.00080076\n",
      " -0.68447331  0.10063295 -0.43106383  1.22331697 -0.11434429  1.14942786\n",
      " -0.40218147  0.43228429 -1.90318928 -0.92679795  0.76085755 -0.69358631\n",
      " -0.21819759  0.23288584 -0.46357167  0.24469175  0.27814131 -0.72330002\n",
      "  0.2666158  -0.15298355  0.2364361   0.2763056  -1.72922776 -0.37210681]\n",
      "The loss of the estimated model is: 1.006884710679086\n",
      "\n",
      "\n"
     ]
    },
    {
     "data": {
      "image/png": "[encoded data removed]",
      "text/plain": [
       "<Figure size 432x288 with 1 Axes>"
      ]
     },
     "metadata": {},
     "output_type": "display_data"
    },
    {
     "data": {
      "text/plain": [
       "Text(0.5,1,'Norm of vector of parameters')"
      ]
     },
     "execution_count": 357,
     "metadata": {},
     "output_type": "execute_result"
    },
    {
     "data": {
      "image/png": "[encoded data removed]",
      "text/plain": [
       "<Figure size 432x288 with 1 Axes>"
      ]
     },
     "metadata": {},
     "output_type": "display_data"
    }
   ],
   "source": [
    "nSteps = 100\n",
    "learningRate = 0.5\n",
    "regType = None\n",
    "regParam = 0.05\n",
    "\n",
    "Loss_save = []\n",
    "Model_norm = []\n",
    "#broadcast model\n",
    "model = BASELINE #model = sc.broadcast(BASELINE) #substitute this line with the comment when deploying it on the cloud\n",
    "for idx in range(nSteps):\n",
    "    #print(\"----------\")\n",
    "    #print(f\"STEP: {idx+1}\")\n",
    "    \n",
    "    # compute loss\n",
    "    loss = LogLoss(numPlusCatRdd2, model, regType=regType, regParam=regParam)\n",
    "    # update model parameters\n",
    "    model = GDUpdate(numPlusCatRdd2, model, regType=regType, regParam=regParam, learningRate=learningRate)\n",
    "    \n",
    "    #store results\n",
    "    Loss_save.append(loss)\n",
    "    Model_norm.append(np.linalg.norm(model))\n",
    "    \n",
    "    #broadcast model\n",
    "    #model = sc.broadcast(model) #uncomment this line when deploying it on the cloud\n",
    "\n",
    "print(f\"The estimated model is: {model}\")\n",
    "print(f\"The loss of the estimated model is: {loss}\")\n",
    "print()\n",
    "print()\n",
    "plt.plot(Loss_save)\n",
    "plt.title('Loss')\n",
    "plt.show()\n",
    "plt.plot(Model_norm)\n",
    "plt.title('Norm of vector of parameters')"
   ]
  },
  {
   "cell_type": "code",
   "execution_count": 358,
   "metadata": {},
   "outputs": [
    {
     "name": "stdout",
     "output_type": "stream",
     "text": [
      "number of true positives is 2415.0\n",
      "number of predicted positives is 2154\n"
     ]
    }
   ],
   "source": [
    "print(f'number of true positives is {numPlusCatRdd2.map(lambda x: x[0]).sum()}')\n",
    "res = makePrediction(numPlusCatRdd2, model).cache()\n",
    "print(f'number of predicted positives is {res.sum()}')"
   ]
  },
  {
   "cell_type": "markdown",
   "metadata": {},
   "source": [
    "# __Section 5__ - Course Concepts"
   ]
  },
  {
   "cell_type": "code",
   "execution_count": null,
   "metadata": {},
   "outputs": [],
   "source": []
  },
  {
   "cell_type": "markdown",
   "metadata": {},
   "source": []
  },
  {
   "cell_type": "markdown",
   "metadata": {},
   "source": []
  },
  {
   "cell_type": "markdown",
   "metadata": {},
   "source": [
    "### TOY EXAMPLE - comparison with ScikitLearn"
   ]
  },
  {
   "cell_type": "code",
   "execution_count": 73,
   "metadata": {},
   "outputs": [],
   "source": [
    "#TOY EXAMPLE STARTS HERE\n",
    "numb_features = 2\n",
    "\n",
    "N = 100\n",
    "D = 3\n",
    "\n",
    "X_toy = np.random.randn(N,D)\n",
    "\n",
    "# center the first 50 points at (-1,-1)\n",
    "X_toy[:50,:] = X_toy[:50,:] - 1*np.ones((50,D))\n",
    "\n",
    "# center the last 50 points at (2, 2)\n",
    "X_toy[50:,:] = X_toy[50:,:] + 2*np.ones((50,D))\n",
    "\n",
    "X_toy[:50,0] = 0\n",
    "X_toy[50:,0] = 1\n",
    "\n",
    "rdd1 = sc.parallelize(X_toy)\n",
    "rdd1 = rdd1.map(lambda x: [float(i) for i in x])\n",
    "toy_sample_red = rdd1.toDF([\"_1\", \"_2\", \"_3\"])\n",
    "toy_sample_red_RDD = toy_sample_red.rdd.map(lambda x: (x[0], x[1:])).cache()"
   ]
  },
  {
   "cell_type": "code",
   "execution_count": 74,
   "metadata": {},
   "outputs": [],
   "source": [
    "#define baseline model, add one parameter representing the intercept\n",
    "BASELINE = np.random.randn(numb_features + 1)"
   ]
  },
  {
   "cell_type": "code",
   "execution_count": 75,
   "metadata": {},
   "outputs": [
    {
     "name": "stdout",
     "output_type": "stream",
     "text": [
      "The estimated model is: [-0.92020023  0.93439328  0.84967564]\n",
      "The loss of the estimated model is: 0.10855782140995121\n",
      "\n",
      "\n"
     ]
    },
    {
     "data": {
      "image/png": "[encoded data removed]",
      "text/plain": [
       "<Figure size 432x288 with 1 Axes>"
      ]
     },
     "metadata": {},
     "output_type": "display_data"
    },
    {
     "data": {
      "text/plain": [
       "Text(0.5,1,'Norm of vector of parameters')"
      ]
     },
     "execution_count": 75,
     "metadata": {},
     "output_type": "execute_result"
    },
    {
     "data": {
      "image/png": "[encoded data removed]",
      "text/plain": [
       "<Figure size 432x288 with 1 Axes>"
      ]
     },
     "metadata": {},
     "output_type": "display_data"
    }
   ],
   "source": [
    "nSteps = 150\n",
    "learningRate = 0.5\n",
    "regType = 'ridge'\n",
    "regParam = 0.05\n",
    "\n",
    "Loss_save = []\n",
    "Model_norm = []\n",
    "#broadcast model\n",
    "model = BASELINE\n",
    "for idx in range(nSteps):\n",
    "    #print(\"----------\")\n",
    "    #print(f\"STEP: {idx+1}\")\n",
    "    \n",
    "    # compute loss\n",
    "    loss = LogLoss(toy_sample_red_RDD, model, regType=regType, regParam=regParam)\n",
    "    # update model parameters\n",
    "    model = GDUpdate(toy_sample_red_RDD, model, regType=regType, regParam=regParam, learningRate=learningRate)\n",
    "    \n",
    "    #store results\n",
    "    Loss_save.append(loss)\n",
    "    Model_norm.append(np.linalg.norm(model))\n",
    "\n",
    "print(f\"The estimated model is: {model}\")\n",
    "print(f\"The loss of the estimated model is: {loss}\")\n",
    "print()\n",
    "print()\n",
    "plt.plot(Loss_save)\n",
    "plt.title('Loss')\n",
    "plt.show()\n",
    "plt.plot(Model_norm)\n",
    "plt.title('Norm of vector of parameters')"
   ]
  },
  {
   "cell_type": "code",
   "execution_count": 80,
   "metadata": {},
   "outputs": [
    {
     "data": {
      "text/plain": [
       "49"
      ]
     },
     "execution_count": 80,
     "metadata": {},
     "output_type": "execute_result"
    }
   ],
   "source": [
    "#actual simulated value is 50\n",
    "res = makePrediction(toy_sample_red_RDD, model).cache()\n",
    "res.sum()"
   ]
  },
  {
   "cell_type": "code",
   "execution_count": 78,
   "metadata": {},
   "outputs": [
    {
     "name": "stdout",
     "output_type": "stream",
     "text": [
      "[[1.8467605  1.53902583]] [-1.93030304]\n"
     ]
    }
   ],
   "source": [
    "import sklearn\n",
    "from sklearn.linear_model import LogisticRegression\n",
    "X, y = X_toy[:,1:],X_toy[:,0]\n",
    "clf = LogisticRegression(random_state=0, solver='lbfgs',fit_intercept=True).fit(X, y)\n",
    "print(clf.coef_, clf.intercept_)"
   ]
  },
  {
   "cell_type": "code",
   "execution_count": 79,
   "metadata": {},
   "outputs": [
    {
     "data": {
      "image/png": "[encoded data removed]",
      "text/plain": [
       "<Figure size 432x288 with 1 Axes>"
      ]
     },
     "metadata": {},
     "output_type": "display_data"
    }
   ],
   "source": [
    "plt.scatter(X_toy[:,1], X_toy[:,2], c=X_toy[:,0], s=100, alpha=0.5)\n",
    "x_axis = np.linspace(-6, 6, 100)\n",
    "y_axis = -(model[0] + x_axis*model[1]) / model[2]\n",
    "plt.plot(x_axis, y_axis)\n",
    "y_axis = -(clf.intercept_+x_axis*clf.coef_[0][0]) / clf.coef_[0][1]\n",
    "plt.plot(x_axis, y_axis)\n",
    "plt.show()"
   ]
  },
  {
   "cell_type": "code",
   "execution_count": null,
   "metadata": {},
   "outputs": [],
   "source": []
  },
  {
   "cell_type": "code",
   "execution_count": null,
   "metadata": {},
   "outputs": [],
   "source": []
  },
  {
   "cell_type": "code",
   "execution_count": 78,
   "metadata": {},
   "outputs": [],
   "source": [
    "convert_cols = ['_1','_2','_3','_4','_5','_6','_7','_8','_9','_10','_11','_12','_13','_14']"
   ]
  },
  {
   "cell_type": "code",
   "execution_count": 80,
   "metadata": {},
   "outputs": [],
   "source": [
    "#generate train data for homegrown solution - select only 1000 rows and only numerical features + one categorical variable +target \n",
    "train_sample_red = train_sample.select(convert_cols + ['_23']).limit(1000)"
   ]
  },
  {
   "cell_type": "code",
   "execution_count": 81,
   "metadata": {},
   "outputs": [
    {
     "name": "stdout",
     "output_type": "stream",
     "text": [
      "+---+----+---+----+----+-------+-----+----+----+-----+----+---+----+----+--------+\n",
      "| _1|  _2| _3|  _4|  _5|     _6|   _7|  _8|  _9|  _10| _11|_12| _13| _14|     _23|\n",
      "+---+----+---+----+----+-------+-----+----+----+-----+----+---+----+----+--------+\n",
      "|0.0| 0.0|1.0|null| 0.0|16597.0|557.0| 3.0| 5.0|123.0| 0.0|1.0|null| 1.0|a73ee510|\n",
      "|0.0| 1.0|0.0| 1.0|null| 1427.0|  3.0|16.0|11.0| 50.0| 0.0|2.0| 1.0|null|a73ee510|\n",
      "|0.0|null|1.0|null|null|23255.0| null| 0.0| 1.0| 73.0|null|0.0|null|null|a73ee510|\n",
      "+---+----+---+----+----+-------+-----+----+----+-----+----+---+----+----+--------+\n",
      "only showing top 3 rows\n",
      "\n"
     ]
    }
   ],
   "source": [
    "train_sample_red.show(3)"
   ]
  },
  {
   "cell_type": "code",
   "execution_count": 83,
   "metadata": {},
   "outputs": [],
   "source": [
    "#impute missing values with averages\n",
    "from pyspark.sql.functions import avg\n",
    "for col in convert_cols:\n",
    "    train_sample_red = train_sample_red.na.fill(round(train_sample_red.na.drop().agg(avg(col)).first()[0],1), [col])"
   ]
  },
  {
   "cell_type": "code",
   "execution_count": 91,
   "metadata": {},
   "outputs": [
    {
     "name": "stdout",
     "output_type": "stream",
     "text": [
      "+---+---+---+----+---+-------+-----+----+----+-----+---+---+---+----+----------+\n",
      "| _1| _2| _3|  _4| _5|     _6|   _7|  _8|  _9|  _10|_11|_12|_13| _14|       _23|\n",
      "+---+---+---+----+---+-------+-----+----+----+-----+---+---+---+----+----------+\n",
      "|0.0|0.0|1.0|25.3|0.0|16597.0|557.0| 3.0| 5.0|123.0|0.0|1.0|1.4| 1.0|[a73ee510]|\n",
      "|0.0|1.0|0.0| 1.0|9.5| 1427.0|  3.0|16.0|11.0| 50.0|0.0|2.0|1.0|11.1|[a73ee510]|\n",
      "|0.0|4.3|1.0|25.3|9.5|23255.0|117.0| 0.0| 1.0| 73.0|0.6|0.0|1.4|11.1|[a73ee510]|\n",
      "+---+---+---+----+---+-------+-----+----+----+-----+---+---+---+----+----------+\n",
      "only showing top 3 rows\n",
      "\n"
     ]
    }
   ],
   "source": [
    "from pyspark.sql.functions import col, split\n",
    "df = train_sample_red.withColumn(\"_23\", split(col(\"_23\"),\" \"))\n",
    "df.show(3)"
   ]
  },
  {
   "cell_type": "code",
   "execution_count": 95,
   "metadata": {},
   "outputs": [],
   "source": [
    "from pyspark.ml.feature import CountVectorizer\n",
    "cat_Vectorizer = CountVectorizer(inputCol=\"_23\", outputCol=\"_23_array\", vocabSize=4, minDF=1.0)"
   ]
  },
  {
   "cell_type": "code",
   "execution_count": 96,
   "metadata": {},
   "outputs": [],
   "source": [
    "catVectorizer_model = cat_Vectorizer.fit(df)"
   ]
  },
  {
   "cell_type": "code",
   "execution_count": 97,
   "metadata": {},
   "outputs": [],
   "source": [
    "df_ohe = catVectorizer_model.transform(df)"
   ]
  },
  {
   "cell_type": "code",
   "execution_count": null,
   "metadata": {},
   "outputs": [],
   "source": [
    "StringIndexer(inputCols=[\"gender\"], outputCols=[\"gender_numeric\"])"
   ]
  },
  {
   "cell_type": "markdown",
   "metadata": {},
   "source": [
    "### Cardinality of categorical variables"
   ]
  },
  {
   "cell_type": "code",
   "execution_count": 287,
   "metadata": {},
   "outputs": [
    {
     "name": "stdout",
     "output_type": "stream",
     "text": [
      "Column _15 has 1407 unique categorical values\n",
      "Column _16 has 555 unique categorical values\n",
      "Column _17 has 753315 unique categorical values\n",
      "Column _18 has 258094 unique categorical values\n",
      "Column _19 has 300 unique categorical values\n",
      "Column _20 has 16 unique categorical values\n",
      "Column _21 has 11741 unique categorical values\n",
      "Column _22 has 614 unique categorical values\n",
      "Column _23 has 3 unique categorical values\n",
      "Column _24 has 42422 unique categorical values\n",
      "Column _25 has 5126 unique categorical values\n",
      "Column _26 has 661596 unique categorical values\n",
      "Column _27 has 3169 unique categorical values\n",
      "Column _28 has 26 unique categorical values\n",
      "Column _29 has 10943 unique categorical values\n",
      "Column _30 has 489035 unique categorical values\n",
      "Column _31 has 10 unique categorical values\n",
      "Column _32 has 4479 unique categorical values\n",
      "Column _33 has 1959 unique categorical values\n",
      "Column _34 has 4 unique categorical values\n",
      "Column _35 has 588319 unique categorical values\n",
      "Column _36 has 15 unique categorical values\n",
      "Column _37 has 15 unique categorical values\n",
      "Column _38 has 69117 unique categorical values\n",
      "Column _39 has 83 unique categorical values\n",
      "Column _40 has 47492 unique categorical values\n"
     ]
    }
   ],
   "source": [
    "# number of unique categorical values\n",
    "from pyspark.sql.functions import col\n",
    "for col in train_sample.columns[14:]:\n",
    "    print('Column ' + col + ' has ' + str(train_sample.select(col).distinct().count()) \\\n",
    "          + ' unique categorical values')"
   ]
  },
  {
   "cell_type": "markdown",
   "metadata": {},
   "source": [
    "### Bar plots of selected variables"
   ]
  },
  {
   "cell_type": "code",
   "execution_count": 102,
   "metadata": {},
   "outputs": [
    {
     "data": {
      "image/png": "[encoded data removed]",
      "text/plain": [
       "<Figure size 432x288 with 1 Axes>"
      ]
     },
     "metadata": {},
     "output_type": "display_data"
    }
   ],
   "source": [
    "# histogram of target variable\n",
    "hist_c1 = train_sample.select('_1').rdd.flatMap(lambda x: x).histogram(2)\n",
    "pd.DataFrame(list(zip(*hist_c1))).set_index(0).plot(kind='bar');"
   ]
  },
  {
   "cell_type": "code",
   "execution_count": 96,
   "metadata": {},
   "outputs": [
    {
     "data": {
      "text/plain": [
       "<matplotlib.axes._subplots.AxesSubplot at 0x7f39aa152128>"
      ]
     },
     "execution_count": 96,
     "metadata": {},
     "output_type": "execute_result"
    },
    {
     "data": {
      "image/png": "[encoded data removed]",
      "text/plain": [
       "<Figure size 432x288 with 1 Axes>"
      ]
     },
     "metadata": {},
     "output_type": "display_data"
    }
   ],
   "source": [
    "# histogram of column 20\n",
    "hist_c20 = train_sample.groupBy('_20').count().collect()\n",
    "pd.DataFrame(list(zip(*hist_c20))).T.set_index(0).plot(kind='bar')"
   ]
  },
  {
   "cell_type": "code",
   "execution_count": 99,
   "metadata": {},
   "outputs": [
    {
     "data": {
      "text/plain": [
       "<matplotlib.axes._subplots.AxesSubplot at 0x7f39a9fb9e48>"
      ]
     },
     "execution_count": 99,
     "metadata": {},
     "output_type": "execute_result"
    },
    {
     "data": {
      "image/png": "[encoded data removed]",
      "text/plain": [
       "<Figure size 432x288 with 1 Axes>"
      ]
     },
     "metadata": {},
     "output_type": "display_data"
    }
   ],
   "source": [
    "# histogram of column 23\n",
    "hist_c23 = train_sample.groupBy('_23').count().collect()\n",
    "pd.DataFrame(list(zip(*hist_c23))).T.set_index(0).plot(kind='bar')"
   ]
  },
  {
   "cell_type": "code",
   "execution_count": 100,
   "metadata": {},
   "outputs": [
    {
     "data": {
      "text/plain": [
       "<matplotlib.axes._subplots.AxesSubplot at 0x7f39a9faa5c0>"
      ]
     },
     "execution_count": 100,
     "metadata": {},
     "output_type": "execute_result"
    },
    {
     "data": {
      "image/png": "[encoded data removed]",
      "text/plain": [
       "<Figure size 432x288 with 1 Axes>"
      ]
     },
     "metadata": {},
     "output_type": "display_data"
    }
   ],
   "source": [
    "# histogram of column 28\n",
    "hist_c28 = train_sample.groupBy('_28').count().collect()\n",
    "pd.DataFrame(list(zip(*hist_c28))).T.set_index(0).plot(kind='bar')"
   ]
  },
  {
   "cell_type": "code",
   "execution_count": 101,
   "metadata": {},
   "outputs": [
    {
     "data": {
      "text/plain": [
       "<matplotlib.axes._subplots.AxesSubplot at 0x7f39a9ed4518>"
      ]
     },
     "execution_count": 101,
     "metadata": {},
     "output_type": "execute_result"
    },
    {
     "data": {
      "image/png": "[encoded data removed]",
      "text/plain": [
       "<Figure size 432x288 with 1 Axes>"
      ]
     },
     "metadata": {},
     "output_type": "display_data"
    }
   ],
   "source": [
    "# histogram of column 31\n",
    "hist_c31 = train_sample.groupBy('_31').count().collect()\n",
    "pd.DataFrame(list(zip(*hist_c31))).T.set_index(0).plot(kind='bar')"
   ]
  },
  {
   "cell_type": "code",
   "execution_count": 142,
   "metadata": {},
   "outputs": [
    {
     "data": {
      "text/plain": [
       "<matplotlib.axes._subplots.AxesSubplot at 0x7f39a99c7e48>"
      ]
     },
     "execution_count": 142,
     "metadata": {},
     "output_type": "execute_result"
    },
    {
     "data": {
      "image/png": "[encoded data removed]",
      "text/plain": [
       "<Figure size 432x288 with 1 Axes>"
      ]
     },
     "metadata": {},
     "output_type": "display_data"
    }
   ],
   "source": [
    "# histogram of column 34\n",
    "hist_c34 = train_sample.groupBy('_34').count().collect()\n",
    "pd.DataFrame(list(zip(*hist_c34))).T.set_index(0).plot(kind='bar')"
   ]
  },
  {
   "cell_type": "code",
   "execution_count": 95,
   "metadata": {},
   "outputs": [
    {
     "data": {
      "text/plain": [
       "<matplotlib.axes._subplots.AxesSubplot at 0x7f39aa1b2fd0>"
      ]
     },
     "execution_count": 95,
     "metadata": {},
     "output_type": "execute_result"
    },
    {
     "data": {
      "image/png": "[encoded data removed]",
      "text/plain": [
       "<Figure size 432x288 with 1 Axes>"
      ]
     },
     "metadata": {},
     "output_type": "display_data"
    }
   ],
   "source": [
    "# histogram of column 36\n",
    "hist_c36 = train_sample.groupBy('_36').count().collect()\n",
    "pd.DataFrame(list(zip(*hist_c36))).T.set_index(0).plot(kind='bar')"
   ]
  },
  {
   "cell_type": "markdown",
   "metadata": {},
   "source": [
    "### Estimates of ctr based on category"
   ]
  },
  {
   "cell_type": "code",
   "execution_count": 138,
   "metadata": {},
   "outputs": [
    {
     "data": {
      "text/plain": [
       "[Text(0,0,'fbad5c96'),\n",
       " Text(0,0,'3bf701e7'),\n",
       " Text(0,0,'051f8ea4'),\n",
       " Text(0,0,'c76aecf6'),\n",
       " Text(0,0,'c05778d5'),\n",
       " Text(0,0,'3bc1ed4d'),\n",
       " Text(0,0,'3c46edb2'),\n",
       " Text(0,0,'fdf16bc4'),\n",
       " Text(0,0,'ea1bcb5e'),\n",
       " Text(0,0,'f1f2de2d'),\n",
       " Text(0,0,'6f6d9be8'),\n",
       " Text(0,0,'13718bbd'),\n",
       " Text(0,0,'fe6b92e5'),\n",
       " Text(0,0,''),\n",
       " Text(0,0,'7e0ccccf'),\n",
       " Text(0,0,'e3520422')]"
      ]
     },
     "execution_count": 138,
     "metadata": {},
     "output_type": "execute_result"
    },
    {
     "data": {
      "image/png": "[encoded data removed]",
      "text/plain": [
       "<Figure size 432x288 with 1 Axes>"
      ]
     },
     "metadata": {},
     "output_type": "display_data"
    }
   ],
   "source": [
    "# for column 20\n",
    "list_labls_vals = list(zip(*train_sample.groupBy('_20').sum('_1').collect()))\n",
    "labls = list_labls_vals[0]\n",
    "vals = np.array(list_labls_vals[1])/np.array(list(zip(*train_sample.groupBy('_20').count().collect()))[1])\n",
    "\n",
    "ax = pd.DataFrame(vals).plot(kind='bar')\n",
    "ax.set_xticklabels(labls)"
   ]
  },
  {
   "cell_type": "code",
   "execution_count": 137,
   "metadata": {},
   "outputs": [
    {
     "data": {
      "text/plain": [
       "[Text(0,0,'a73ee510'), Text(0,0,'a18233ea'), Text(0,0,'7cc72ec2')]"
      ]
     },
     "execution_count": 137,
     "metadata": {},
     "output_type": "execute_result"
    },
    {
     "data": {
      "image/png": "[encoded data removed]",
      "text/plain": [
       "<Figure size 432x288 with 1 Axes>"
      ]
     },
     "metadata": {},
     "output_type": "display_data"
    }
   ],
   "source": [
    "# for column 23\n",
    "list_labls_vals = list(zip(*train_sample.groupBy('_23').sum('_1').collect()))\n",
    "labls = list_labls_vals[0]\n",
    "vals = np.array(list_labls_vals[1])/np.array(list(zip(*train_sample.groupBy('_23').count().collect()))[1])\n",
    "\n",
    "ax = pd.DataFrame(vals).plot(kind='bar')\n",
    "ax.set_xticklabels(labls)"
   ]
  },
  {
   "cell_type": "code",
   "execution_count": 139,
   "metadata": {},
   "outputs": [
    {
     "data": {
      "text/plain": [
       "[Text(0,0,'f862f261'),\n",
       " Text(0,0,'243a4e68'),\n",
       " Text(0,0,'d2dfe871'),\n",
       " Text(0,0,'91233270'),\n",
       " Text(0,0,'b28479f6'),\n",
       " Text(0,0,'dcd762ee'),\n",
       " Text(0,0,'e8dce07a'),\n",
       " Text(0,0,'8ceecbc8'),\n",
       " Text(0,0,'0601d3b5'),\n",
       " Text(0,0,'68541952'),\n",
       " Text(0,0,'07d13a8f'),\n",
       " Text(0,0,'f7c1b33f'),\n",
       " Text(0,0,'ec19f520'),\n",
       " Text(0,0,'ad1cc976'),\n",
       " Text(0,0,'0bc7c8c2'),\n",
       " Text(0,0,'051219e6'),\n",
       " Text(0,0,'32813e21'),\n",
       " Text(0,0,'cf1fc48d'),\n",
       " Text(0,0,'687dfaf4'),\n",
       " Text(0,0,'95a6ab8c'),\n",
       " Text(0,0,'cfef1c29'),\n",
       " Text(0,0,'1adce6ef'),\n",
       " Text(0,0,'ab7390e9'),\n",
       " Text(0,0,'26ac7cf4'),\n",
       " Text(0,0,'5aebfb83'),\n",
       " Text(0,0,'64c94865')]"
      ]
     },
     "execution_count": 139,
     "metadata": {},
     "output_type": "execute_result"
    },
    {
     "data": {
      "image/png": "[encoded data removed]",
      "text/plain": [
       "<Figure size 432x288 with 1 Axes>"
      ]
     },
     "metadata": {},
     "output_type": "display_data"
    }
   ],
   "source": [
    "# for column 28\n",
    "list_labls_vals = list(zip(*train_sample.groupBy('_28').sum('_1').collect()))\n",
    "labls = list_labls_vals[0]\n",
    "vals = np.array(list_labls_vals[1])/np.array(list(zip(*train_sample.groupBy('_28').count().collect()))[1])\n",
    "\n",
    "ax = pd.DataFrame(vals).plot(kind='bar')\n",
    "ax.set_xticklabels(labls)"
   ]
  },
  {
   "cell_type": "code",
   "execution_count": 141,
   "metadata": {},
   "outputs": [
    {
     "data": {
      "text/plain": [
       "[Text(0,0,'2005abd1'),\n",
       " Text(0,0,'d4bb7bd8'),\n",
       " Text(0,0,'27c07bd6'),\n",
       " Text(0,0,'07c540c4'),\n",
       " Text(0,0,'af5d780c'),\n",
       " Text(0,0,'e5ba7672'),\n",
       " Text(0,0,'776ce399'),\n",
       " Text(0,0,'3486227d'),\n",
       " Text(0,0,'1e88c74f'),\n",
       " Text(0,0,'8efede7f')]"
      ]
     },
     "execution_count": 141,
     "metadata": {},
     "output_type": "execute_result"
    },
    {
     "data": {
      "image/png": "[encoded data removed]",
      "text/plain": [
       "<Figure size 432x288 with 1 Axes>"
      ]
     },
     "metadata": {},
     "output_type": "display_data"
    }
   ],
   "source": [
    "# for column 31\n",
    "list_labls_vals = list(zip(*train_sample.groupBy('_31').sum('_1').collect()))\n",
    "labls = list_labls_vals[0]\n",
    "vals = np.array(list_labls_vals[1])/np.array(list(zip(*train_sample.groupBy('_31').count().collect()))[1])\n",
    "\n",
    "ax = pd.DataFrame(vals).plot(kind='bar')\n",
    "ax.set_xticklabels(labls)"
   ]
  },
  {
   "cell_type": "code",
   "execution_count": 143,
   "metadata": {},
   "outputs": [
    {
     "data": {
      "text/plain": [
       "[Text(0,0,'b1252a9d'),\n",
       " Text(0,0,'a458ea53'),\n",
       " Text(0,0,'5840adea'),\n",
       " Text(0,0,'')]"
      ]
     },
     "execution_count": 143,
     "metadata": {},
     "output_type": "execute_result"
    },
    {
     "data": {
      "image/png": "[encoded data removed]",
      "text/plain": [
       "<Figure size 432x288 with 1 Axes>"
      ]
     },
     "metadata": {},
     "output_type": "display_data"
    }
   ],
   "source": [
    "# for column 34\n",
    "list_labls_vals = list(zip(*train_sample.groupBy('_34').sum('_1').collect()))\n",
    "labls = list_labls_vals[0]\n",
    "vals = np.array(list_labls_vals[1])/np.array(list(zip(*train_sample.groupBy('_34').count().collect()))[1])\n",
    "\n",
    "ax = pd.DataFrame(vals).plot(kind='bar')\n",
    "ax.set_xticklabels(labls)"
   ]
  },
  {
   "cell_type": "code",
   "execution_count": 144,
   "metadata": {},
   "outputs": [
    {
     "data": {
      "text/plain": [
       "[Text(0,0,'d9ce1838'),\n",
       " Text(0,0,'ad3062eb'),\n",
       " Text(0,0,'8651fddb'),\n",
       " Text(0,0,'c9d4222a'),\n",
       " Text(0,0,'2ec53c35'),\n",
       " Text(0,0,'12370385'),\n",
       " Text(0,0,'1856e93d'),\n",
       " Text(0,0,'ccfd4002'),\n",
       " Text(0,0,'28f45308'),\n",
       " Text(0,0,'49e825c5'),\n",
       " Text(0,0,'c0061c6d'),\n",
       " Text(0,0,'24eb7cbf'),\n",
       " Text(0,0,''),\n",
       " Text(0,0,'8ec974f4'),\n",
       " Text(0,0,'78e2e389')]"
      ]
     },
     "execution_count": 144,
     "metadata": {},
     "output_type": "execute_result"
    },
    {
     "data": {
      "image/png": "[encoded data removed]",
      "text/plain": [
       "<Figure size 432x288 with 1 Axes>"
      ]
     },
     "metadata": {},
     "output_type": "display_data"
    }
   ],
   "source": [
    "# for column 36\n",
    "list_labls_vals = list(zip(*train_sample.groupBy('_36').sum('_1').collect()))\n",
    "labls = list_labls_vals[0]\n",
    "vals = np.array(list_labls_vals[1])/np.array(list(zip(*train_sample.groupBy('_36').count().collect()))[1])\n",
    "\n",
    "ax = pd.DataFrame(vals).plot(kind='bar')\n",
    "ax.set_xticklabels(labls)"
   ]
  },
  {
   "cell_type": "code",
   "execution_count": null,
   "metadata": {},
   "outputs": [],
   "source": []
  }
 ],
 "metadata": {
  "kernelspec": {
   "display_name": "Python 3",
   "language": "python",
   "name": "python3"
  },
  "language_info": {
   "codemirror_mode": {
    "name": "ipython",
    "version": 3
   },
   "file_extension": ".py",
   "mimetype": "text/x-python",
   "name": "python",
   "nbconvert_exporter": "python",
   "pygments_lexer": "ipython3",
   "version": "3.6.6"
  }
 },
 "nbformat": 4,
 "nbformat_minor": 2
}
