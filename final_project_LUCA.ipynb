{
 "cells": [
  {
   "cell_type": "markdown",
   "metadata": {},
   "source": [
    "# w261 Final Project - Clickthrough Rate Prediction\n"
   ]
  },
  {
   "cell_type": "markdown",
   "metadata": {},
   "source": [
    "Team 24   \n",
    "Vivian Lu, Siddhartha Jakkamreddy, Venky Nagapudi, Luca Garre   \n",
    "Summer 2019, sections 4 and 5   "
   ]
  },
  {
   "cell_type": "markdown",
   "metadata": {},
   "source": [
    "## Table of Contents\n",
    "\n",
    "* __Section 1__ - Question Formulation\n",
    "* __Section 2__ - Algorithm Explanation\n",
    "* __Section 3__ - EDA & Challenges\n",
    "* __Section 4__ - Algorithm Implementation\n",
    "* __Section 5__ - Course Concepts"
   ]
  },
  {
   "cell_type": "markdown",
   "metadata": {},
   "source": [
    "# __Section 1__ - Question Formulation"
   ]
  },
  {
   "cell_type": "markdown",
   "metadata": {},
   "source": [
    "## __Introduction__\n",
    "Online ad is a multibillion dollar industry fueled by large investments and ever increasing performance goals. Targeted advertisement based on users' browsing industry and demographic, ad features such as overall appearance, employed colors and text, and website features such as ad's relative placement in the webpage, sizes, etc., is receiving more and more interest due to its potential for revenue generation. In this context, machine learning is proving resourceful in the understanding of the features that mostly affect users' Click-Through Rates (CTR) and, based on this understanding, in informing the design of ads that maximize performance metrics such as click and convertion rates. Further, machine learning solutions can easily be deployed in a data pipeline enviroment in order to select and offer, on a user-specific basis, the ad which expectedly maximizes the user's interest. \n",
    "\n",
    "...\n",
    "\n",
    "## __Goal of the analysis__\n",
    "The purpose of the present analysis is to estimate whether a given ad will be clicked based on a set of features describing the ad. \n",
    "\n",
    "...\n",
    "\n",
    "## __Description of the dataset__\n",
    "The dataset is provided by [put_reference_to_CriteoLabs] and is composed of three files, a `readme.txt`, a `train.txt` and a `test.txt` file, respectively. The readme file contains a brief description of the data. The `train.txt` and `test.txt` files contain the train and test data. Both files are formatted as tab separated value tables, and amount to 45840617 and 6042135 rows for the train and test data, respectively. Following the description of the data, each row represents an ad and contains the following fields (see commands below, these expect the data to be contained in a data folder inside the current working directory):\n",
    "\n",
    "- 1 binary field indicating whether the ad has been clicked (1) or not (0). This field is available only for the train data;\n",
    "- 13 fields containing integer features representing counts;\n",
    "- 26 categorical features. These are hashed as 32 bits keys for anonymization purposes;\n",
    "\n",
    "From a printout of the first rows of the data files it appears that the data contain no headers. This implies that, with the sole exception of the first binary field, it is not possible to characterize the various fields in terms of the features these represent. It is also noted that rows in the data can have missing values. This is again noticed when looking at the printed lines, as these have a number of entries which is lower than the number of fields specified in the `readme.txt` file. \n",
    "\n",
    "..."
   ]
  },
  {
   "cell_type": "code",
   "execution_count": 5,
   "metadata": {},
   "outputs": [
    {
     "name": "stdout",
     "output_type": "stream",
     "text": [
      "45840617 data/train.txt\n"
     ]
    }
   ],
   "source": [
    "#number of rows in the train data\n",
    "!wc -l data/train.txt"
   ]
  },
  {
   "cell_type": "code",
   "execution_count": 6,
   "metadata": {},
   "outputs": [
    {
     "name": "stdout",
     "output_type": "stream",
     "text": [
      "6042135 data/test.txt\n"
     ]
    }
   ],
   "source": [
    "#number of rows in the test data\n",
    "!wc -l data/test.txt"
   ]
  },
  {
   "cell_type": "code",
   "execution_count": 7,
   "metadata": {},
   "outputs": [
    {
     "name": "stdout",
     "output_type": "stream",
     "text": [
      "0\t1\t1\t5\t0\t1382\t4\t15\t2\t181\t1\t2\t\t2\t68fd1e64\t80e26c9b\tfb936136\t7b4723c4\t25c83c98\t7e0ccccf\tde7995b8\t1f89b562\ta73ee510\ta8cd5504\tb2cb9c98\t37c9c164\t2824a5f6\t1adce6ef\t8ba8b39a\t891b62e7\te5ba7672\tf54016b9\t21ddcdc9\tb1252a9d\t07b5194c\t\t3a171ecb\tc5c50484\te8b83407\t9727dd16\n"
     ]
    }
   ],
   "source": [
    "# first row of the train data\n",
    "!head -1 data/train.txt"
   ]
  },
  {
   "cell_type": "code",
   "execution_count": 8,
   "metadata": {},
   "outputs": [
    {
     "name": "stdout",
     "output_type": "stream",
     "text": [
      "\t29\t50\t5\t7260\t437\t1\t4\t14\t\t1\t0\t6\t5a9ed9b0\ta0e12995\ta1e14474\t08a40877\t25c83c98\t\t964d1fdd\t5b392875\ta73ee510\tde89c3d2\t59cd5ae7\t8d98db20\t8b216f7b\t1adce6ef\t78c64a1d\t3ecdadf7\t3486227d\t1616f155\t21ddcdc9\t5840adea\t2c277e62\t\t423fab69\t54c91918\t9b3e8820\te75c9ae9\n"
     ]
    }
   ],
   "source": [
    "# first row of the test data\n",
    "!head -1 data/test.txt"
   ]
  },
  {
   "cell_type": "markdown",
   "metadata": {},
   "source": [
    "# __Section 2__ - Algorithm Explanation"
   ]
  },
  {
   "cell_type": "markdown",
   "metadata": {},
   "source": []
  },
  {
   "cell_type": "markdown",
   "metadata": {},
   "source": []
  },
  {
   "cell_type": "markdown",
   "metadata": {},
   "source": [
    "# __Section 3__ - EDA & Challenges"
   ]
  },
  {
   "cell_type": "markdown",
   "metadata": {},
   "source": []
  },
  {
   "cell_type": "markdown",
   "metadata": {},
   "source": []
  },
  {
   "cell_type": "markdown",
   "metadata": {},
   "source": [
    "# __Section 4__ - Algorithm Implementation"
   ]
  },
  {
   "cell_type": "markdown",
   "metadata": {},
   "source": []
  },
  {
   "cell_type": "markdown",
   "metadata": {},
   "source": []
  },
  {
   "cell_type": "markdown",
   "metadata": {},
   "source": [
    "# __Section 5__ - Course Concepts"
   ]
  },
  {
   "cell_type": "markdown",
   "metadata": {},
   "source": []
  },
  {
   "cell_type": "markdown",
   "metadata": {},
   "source": []
  },
  {
   "cell_type": "code",
   "execution_count": 9,
   "metadata": {},
   "outputs": [],
   "source": [
    "# imports\n",
    "import re\n",
    "import numpy as np\n",
    "import pandas as pd\n",
    "import matplotlib.pyplot as plt\n",
    "from os import path\n",
    "import seaborn as sns"
   ]
  },
  {
   "cell_type": "code",
   "execution_count": 2,
   "metadata": {},
   "outputs": [],
   "source": [
    "# store path to notebook\n",
    "PWD = !pwd\n",
    "PWD = PWD[0]"
   ]
  },
  {
   "cell_type": "code",
   "execution_count": 3,
   "metadata": {},
   "outputs": [
    {
     "data": {
      "text/plain": [
       "'/media/notebooks/W261/W261_Final_Project'"
      ]
     },
     "execution_count": 3,
     "metadata": {},
     "output_type": "execute_result"
    }
   ],
   "source": [
    "PWD"
   ]
  },
  {
   "cell_type": "code",
   "execution_count": 4,
   "metadata": {},
   "outputs": [],
   "source": [
    "# create Spark Session\n",
    "from pyspark.sql import SparkSession\n",
    "app_name = \"final_project\"\n",
    "master = \"local[*]\"\n",
    "spark = SparkSession\\\n",
    "        .builder\\\n",
    "        .appName(app_name)\\\n",
    "        .master(master)\\\n",
    "        .getOrCreate()\n",
    "sc = spark.sparkContext"
   ]
  },
  {
   "cell_type": "code",
   "execution_count": 5,
   "metadata": {},
   "outputs": [],
   "source": [
    "# create a random sample from train data for EDA (20%)\n",
    "# fixed seed for reproduceability \n",
    "train_sample = sc.textFile('data/train.txt').sample(False,0.05,2019).cache()"
   ]
  },
  {
   "cell_type": "code",
   "execution_count": 6,
   "metadata": {},
   "outputs": [
    {
     "data": {
      "text/plain": [
       "['1\\t99\\t9\\t35\\t30\\t1\\t11\\t154\\t27\\t44\\t1\\t8\\t\\t11\\t05db9164\\t89ddfee8\\td08c8f30\\t3805af8d\\t25c83c98\\t7e0ccccf\\t1c86e0eb\\t062b5529\\ta73ee510\\t935a36f0\\t755e4a50\\tadd8347b\\t5978055e\\t051219e6\\td5223973\\tf8a48751\\te5ba7672\\t5bb2ec8e\\t21ddcdc9\\ta458ea53\\t540e0e34\\t\\t32c7478e\\t3fdb382b\\tf0f449dd\\t49d68486',\n",
       " '1\\t99\\t44\\t2\\t2\\t1153\\t2\\t2959\\t17\\t265\\t2\\t50\\t1\\t2\\t5a9ed9b0\\t26a88120\\tb00d1501\\td16679b9\\t25c83c98\\t7e0ccccf\\t3f4ec687\\t5b392875\\ta73ee510\\t0e9ead52\\tc4adf918\\te0d76380\\t85dbe138\\tb28479f6\\t2ebbf26a\\t1203a270\\t8efede7f\\tb486119d\\t\\t\\t73d06dde\\tad3062eb\\t32c7478e\\taee52b6f\\t\\t',\n",
       " '1\\t99\\t38\\t1\\t3\\t10\\t4\\t374\\t23\\t426\\t1\\t19\\t42\\t3\\t68fd1e64\\t26a88120\\td032c263\\tc18be181\\t0942e0a7\\tfbad5c96\\t3f4ec687\\t1f89b562\\ta73ee510\\t726f00fd\\tc4adf918\\tdfbb09fb\\t85dbe138\\t07d13a8f\\t040ec437\\t84898b2a\\t8efede7f\\t57598e25\\t\\t\\t0014c32a\\t\\t32c7478e\\t3b183c5c\\t\\t',\n",
       " '1\\t99\\t33\\t2\\t2\\t433\\t32\\t166\\t30\\t129\\t1\\t5\\t\\t2\\t05db9164\\t9e5ce894\\t3e90a31f\\t13508380\\t25c83c98\\t7e0ccccf\\t3598a741\\t0b153874\\ta73ee510\\t70962768\\t1d351a39\\t1ce231ca\\t90a568bc\\t07d13a8f\\t8cf98699\\t22999977\\te5ba7672\\ta5bb7b8a\\t55dd3565\\tb1252a9d\\tf716b067\\t\\t423fab69\\t45ab94c8\\tea9a246c\\tc84c4aec',\n",
       " '1\\t99\\t303\\t8\\t8\\t911\\t8\\t1787\\t8\\t379\\t1\\t51\\t2\\t8\\t05db9164\\t33728ce9\\t4b0ad917\\t4e353d3a\\t30903e74\\t7e0ccccf\\tac2d4799\\t37e4aa92\\ta73ee510\\t392463fc\\t434d6c13\\tce2957ad\\t7301027a\\tb28479f6\\t468d6259\\t5f704016\\t27c07bd6\\t07070d63\\t21ddcdc9\\t5840adea\\te5195a68\\t\\tbcdee96c\\t9be5c7a4\\t2bf691b1\\t2fede552']"
      ]
     },
     "execution_count": 6,
     "metadata": {},
     "output_type": "execute_result"
    }
   ],
   "source": [
    "train_sample.top(5)"
   ]
  },
  {
   "cell_type": "code",
   "execution_count": 7,
   "metadata": {},
   "outputs": [],
   "source": [
    "train_sample.coalesce(1,True).saveAsTextFile(\"train_sample.txt\")"
   ]
  },
  {
   "cell_type": "code",
   "execution_count": 8,
   "metadata": {},
   "outputs": [
    {
     "name": "stdout",
     "output_type": "stream",
     "text": [
      "0\t0\t1\t\t0\t16597\t557\t3\t5\t123\t0\t1\t\t1\t8cf07265\t7cd19acc\t77f2f2e5\td16679b9\t4cf72387\tfbad5c96\t8fb24933\t0b153874\ta73ee510\t0095a535\t3617b5f5\t9f32b866\t428332cf\tb28479f6\t83ebd498\t31ca40b6\te5ba7672\td0e5eb07\t\t\tdfcfc3fa\tad3062eb\t32c7478e\taee52b6f\t\t\n",
      "0\t1\t0\t1\t\t1427\t3\t16\t11\t50\t0\t2\t1\t\t05db9164\t26a88120\t615e3e4e\t2788fed8\t4cf72387\t7e0ccccf\t3f4ec687\t0b153874\ta73ee510\t0e9ead52\tc4adf918\tf5d19c1c\t85dbe138\t07d13a8f\t24ff9452\t1034ac0d\t3486227d\tb486119d\t\t\t63580fba\t\t32c7478e\t2a90c749\t\t\n",
      "0\t\t1\t\t\t23255\t\t0\t1\t73\t\t0\t\t\t7e5c2ff4\td833535f\tb00d1501\td16679b9\t25c83c98\t7e0ccccf\t65c53f25\t1f89b562\ta73ee510\t3b08e48b\tad2bc6f4\te0d76380\t39ccb769\tb28479f6\ta733d362\t1203a270\t776ce399\t281769c2\t\t\t73d06dde\t\t32c7478e\taee52b6f\t\t\n",
      "0\t0\t37\t23\t9\t1635\t84\t2\t17\t109\t0\t2\t\t50\t05db9164\t9b25e48b\t2d9b2559\t96302ef8\t43b19349\tfbad5c96\te64ca89e\t5b392875\ta73ee510\t3b76bfa9\t87bb382c\t3d899a5a\td95a2a6d\t8ceecbc8\t8f3ef960\t24352c5c\t07c540c4\t7d8c03aa\tfbf39fb5\ta458ea53\t0c61029b\t\t32c7478e\t216a829e\t001f3601\tabc00283\n",
      "0\t2\t0\t9\t5\t44\t5\t2\t4\t5\t2\t2\t\t5\t5a9ed9b0\t3e4b7926\te1266b28\t09e3cd5a\t384874ce\t7e0ccccf\t675e81f6\t5b392875\ta73ee510\td1ebaddf\t4a77ddca\teb8ded57\tdc1d72e4\t07d13a8f\te6863a8e\t3d9023a4\t07c540c4\te261f8d8\t21ddcdc9\tb1252a9d\t31b4af04\t\t32c7478e\t8d653a3e\t445bbe3b\t32280082\n"
     ]
    }
   ],
   "source": [
    "!head -5 train_sample.txt/part-00000"
   ]
  },
  {
   "cell_type": "code",
   "execution_count": 15,
   "metadata": {},
   "outputs": [],
   "source": [
    "df = pd.read_csv('train_sample.txt/part-00000', delimiter='\\t', header=None)"
   ]
  },
  {
   "cell_type": "code",
   "execution_count": 16,
   "metadata": {},
   "outputs": [
    {
     "data": {
      "text/html": [
       "<div>\n",
       "<style scoped>\n",
       "    .dataframe tbody tr th:only-of-type {\n",
       "        vertical-align: middle;\n",
       "    }\n",
       "\n",
       "    .dataframe tbody tr th {\n",
       "        vertical-align: top;\n",
       "    }\n",
       "\n",
       "    .dataframe thead th {\n",
       "        text-align: right;\n",
       "    }\n",
       "</style>\n",
       "<table border=\"1\" class=\"dataframe\">\n",
       "  <thead>\n",
       "    <tr style=\"text-align: right;\">\n",
       "      <th></th>\n",
       "      <th>0</th>\n",
       "      <th>1</th>\n",
       "      <th>2</th>\n",
       "      <th>3</th>\n",
       "      <th>4</th>\n",
       "      <th>5</th>\n",
       "      <th>6</th>\n",
       "      <th>7</th>\n",
       "      <th>8</th>\n",
       "      <th>9</th>\n",
       "      <th>...</th>\n",
       "      <th>30</th>\n",
       "      <th>31</th>\n",
       "      <th>32</th>\n",
       "      <th>33</th>\n",
       "      <th>34</th>\n",
       "      <th>35</th>\n",
       "      <th>36</th>\n",
       "      <th>37</th>\n",
       "      <th>38</th>\n",
       "      <th>39</th>\n",
       "    </tr>\n",
       "  </thead>\n",
       "  <tbody>\n",
       "    <tr>\n",
       "      <th>0</th>\n",
       "      <td>0</td>\n",
       "      <td>0.0</td>\n",
       "      <td>1</td>\n",
       "      <td>NaN</td>\n",
       "      <td>0.0</td>\n",
       "      <td>16597.0</td>\n",
       "      <td>557.0</td>\n",
       "      <td>3.0</td>\n",
       "      <td>5.0</td>\n",
       "      <td>123.0</td>\n",
       "      <td>...</td>\n",
       "      <td>e5ba7672</td>\n",
       "      <td>d0e5eb07</td>\n",
       "      <td>NaN</td>\n",
       "      <td>NaN</td>\n",
       "      <td>dfcfc3fa</td>\n",
       "      <td>ad3062eb</td>\n",
       "      <td>32c7478e</td>\n",
       "      <td>aee52b6f</td>\n",
       "      <td>NaN</td>\n",
       "      <td>NaN</td>\n",
       "    </tr>\n",
       "    <tr>\n",
       "      <th>1</th>\n",
       "      <td>0</td>\n",
       "      <td>1.0</td>\n",
       "      <td>0</td>\n",
       "      <td>1.0</td>\n",
       "      <td>NaN</td>\n",
       "      <td>1427.0</td>\n",
       "      <td>3.0</td>\n",
       "      <td>16.0</td>\n",
       "      <td>11.0</td>\n",
       "      <td>50.0</td>\n",
       "      <td>...</td>\n",
       "      <td>3486227d</td>\n",
       "      <td>b486119d</td>\n",
       "      <td>NaN</td>\n",
       "      <td>NaN</td>\n",
       "      <td>63580fba</td>\n",
       "      <td>NaN</td>\n",
       "      <td>32c7478e</td>\n",
       "      <td>2a90c749</td>\n",
       "      <td>NaN</td>\n",
       "      <td>NaN</td>\n",
       "    </tr>\n",
       "    <tr>\n",
       "      <th>2</th>\n",
       "      <td>0</td>\n",
       "      <td>NaN</td>\n",
       "      <td>1</td>\n",
       "      <td>NaN</td>\n",
       "      <td>NaN</td>\n",
       "      <td>23255.0</td>\n",
       "      <td>NaN</td>\n",
       "      <td>0.0</td>\n",
       "      <td>1.0</td>\n",
       "      <td>73.0</td>\n",
       "      <td>...</td>\n",
       "      <td>776ce399</td>\n",
       "      <td>281769c2</td>\n",
       "      <td>NaN</td>\n",
       "      <td>NaN</td>\n",
       "      <td>73d06dde</td>\n",
       "      <td>NaN</td>\n",
       "      <td>32c7478e</td>\n",
       "      <td>aee52b6f</td>\n",
       "      <td>NaN</td>\n",
       "      <td>NaN</td>\n",
       "    </tr>\n",
       "    <tr>\n",
       "      <th>3</th>\n",
       "      <td>0</td>\n",
       "      <td>0.0</td>\n",
       "      <td>37</td>\n",
       "      <td>23.0</td>\n",
       "      <td>9.0</td>\n",
       "      <td>1635.0</td>\n",
       "      <td>84.0</td>\n",
       "      <td>2.0</td>\n",
       "      <td>17.0</td>\n",
       "      <td>109.0</td>\n",
       "      <td>...</td>\n",
       "      <td>07c540c4</td>\n",
       "      <td>7d8c03aa</td>\n",
       "      <td>fbf39fb5</td>\n",
       "      <td>a458ea53</td>\n",
       "      <td>0c61029b</td>\n",
       "      <td>NaN</td>\n",
       "      <td>32c7478e</td>\n",
       "      <td>216a829e</td>\n",
       "      <td>001f3601</td>\n",
       "      <td>abc00283</td>\n",
       "    </tr>\n",
       "    <tr>\n",
       "      <th>4</th>\n",
       "      <td>0</td>\n",
       "      <td>2.0</td>\n",
       "      <td>0</td>\n",
       "      <td>9.0</td>\n",
       "      <td>5.0</td>\n",
       "      <td>44.0</td>\n",
       "      <td>5.0</td>\n",
       "      <td>2.0</td>\n",
       "      <td>4.0</td>\n",
       "      <td>5.0</td>\n",
       "      <td>...</td>\n",
       "      <td>07c540c4</td>\n",
       "      <td>e261f8d8</td>\n",
       "      <td>21ddcdc9</td>\n",
       "      <td>b1252a9d</td>\n",
       "      <td>31b4af04</td>\n",
       "      <td>NaN</td>\n",
       "      <td>32c7478e</td>\n",
       "      <td>8d653a3e</td>\n",
       "      <td>445bbe3b</td>\n",
       "      <td>32280082</td>\n",
       "    </tr>\n",
       "  </tbody>\n",
       "</table>\n",
       "<p>5 rows × 40 columns</p>\n",
       "</div>"
      ],
      "text/plain": [
       "   0    1   2     3    4        5      6     7     8      9     ...     \\\n",
       "0   0  0.0   1   NaN  0.0  16597.0  557.0   3.0   5.0  123.0    ...      \n",
       "1   0  1.0   0   1.0  NaN   1427.0    3.0  16.0  11.0   50.0    ...      \n",
       "2   0  NaN   1   NaN  NaN  23255.0    NaN   0.0   1.0   73.0    ...      \n",
       "3   0  0.0  37  23.0  9.0   1635.0   84.0   2.0  17.0  109.0    ...      \n",
       "4   0  2.0   0   9.0  5.0     44.0    5.0   2.0   4.0    5.0    ...      \n",
       "\n",
       "         30        31        32        33        34        35        36  \\\n",
       "0  e5ba7672  d0e5eb07       NaN       NaN  dfcfc3fa  ad3062eb  32c7478e   \n",
       "1  3486227d  b486119d       NaN       NaN  63580fba       NaN  32c7478e   \n",
       "2  776ce399  281769c2       NaN       NaN  73d06dde       NaN  32c7478e   \n",
       "3  07c540c4  7d8c03aa  fbf39fb5  a458ea53  0c61029b       NaN  32c7478e   \n",
       "4  07c540c4  e261f8d8  21ddcdc9  b1252a9d  31b4af04       NaN  32c7478e   \n",
       "\n",
       "         37        38        39  \n",
       "0  aee52b6f       NaN       NaN  \n",
       "1  2a90c749       NaN       NaN  \n",
       "2  aee52b6f       NaN       NaN  \n",
       "3  216a829e  001f3601  abc00283  \n",
       "4  8d653a3e  445bbe3b  32280082  \n",
       "\n",
       "[5 rows x 40 columns]"
      ]
     },
     "execution_count": 16,
     "metadata": {},
     "output_type": "execute_result"
    }
   ],
   "source": [
    "df.head()"
   ]
  },
  {
   "cell_type": "code",
   "execution_count": 17,
   "metadata": {},
   "outputs": [
    {
     "data": {
      "text/html": [
       "<div>\n",
       "<style scoped>\n",
       "    .dataframe tbody tr th:only-of-type {\n",
       "        vertical-align: middle;\n",
       "    }\n",
       "\n",
       "    .dataframe tbody tr th {\n",
       "        vertical-align: top;\n",
       "    }\n",
       "\n",
       "    .dataframe thead th {\n",
       "        text-align: right;\n",
       "    }\n",
       "</style>\n",
       "<table border=\"1\" class=\"dataframe\">\n",
       "  <thead>\n",
       "    <tr style=\"text-align: right;\">\n",
       "      <th></th>\n",
       "      <th>0</th>\n",
       "      <th>1</th>\n",
       "      <th>2</th>\n",
       "      <th>3</th>\n",
       "      <th>4</th>\n",
       "      <th>5</th>\n",
       "      <th>6</th>\n",
       "      <th>7</th>\n",
       "      <th>8</th>\n",
       "      <th>9</th>\n",
       "      <th>10</th>\n",
       "      <th>11</th>\n",
       "      <th>12</th>\n",
       "      <th>13</th>\n",
       "    </tr>\n",
       "  </thead>\n",
       "  <tbody>\n",
       "    <tr>\n",
       "      <th>count</th>\n",
       "      <td>2.292037e+06</td>\n",
       "      <td>1.253362e+06</td>\n",
       "      <td>2.292037e+06</td>\n",
       "      <td>1.799718e+06</td>\n",
       "      <td>1.794652e+06</td>\n",
       "      <td>2.232828e+06</td>\n",
       "      <td>1.779597e+06</td>\n",
       "      <td>2.193136e+06</td>\n",
       "      <td>2.290882e+06</td>\n",
       "      <td>2.193136e+06</td>\n",
       "      <td>1.253362e+06</td>\n",
       "      <td>2.193136e+06</td>\n",
       "      <td>537580.000000</td>\n",
       "      <td>1.794652e+06</td>\n",
       "    </tr>\n",
       "    <tr>\n",
       "      <th>mean</th>\n",
       "      <td>2.564675e-01</td>\n",
       "      <td>3.524587e+00</td>\n",
       "      <td>1.055237e+02</td>\n",
       "      <td>2.703023e+01</td>\n",
       "      <td>7.327119e+00</td>\n",
       "      <td>1.853603e+04</td>\n",
       "      <td>1.155878e+02</td>\n",
       "      <td>1.645949e+01</td>\n",
       "      <td>1.253695e+01</td>\n",
       "      <td>1.059942e+02</td>\n",
       "      <td>6.180864e-01</td>\n",
       "      <td>2.738067e+00</td>\n",
       "      <td>0.992498</td>\n",
       "      <td>8.217248e+00</td>\n",
       "    </tr>\n",
       "    <tr>\n",
       "      <th>std</th>\n",
       "      <td>4.366830e-01</td>\n",
       "      <td>9.456074e+00</td>\n",
       "      <td>3.879461e+02</td>\n",
       "      <td>4.026174e+02</td>\n",
       "      <td>8.845165e+00</td>\n",
       "      <td>6.915318e+04</td>\n",
       "      <td>3.370288e+02</td>\n",
       "      <td>7.080816e+01</td>\n",
       "      <td>1.692911e+01</td>\n",
       "      <td>2.197440e+02</td>\n",
       "      <td>6.845344e-01</td>\n",
       "      <td>5.228751e+00</td>\n",
       "      <td>6.083341</td>\n",
       "      <td>1.587631e+01</td>\n",
       "    </tr>\n",
       "    <tr>\n",
       "      <th>min</th>\n",
       "      <td>0.000000e+00</td>\n",
       "      <td>0.000000e+00</td>\n",
       "      <td>-2.000000e+00</td>\n",
       "      <td>0.000000e+00</td>\n",
       "      <td>0.000000e+00</td>\n",
       "      <td>0.000000e+00</td>\n",
       "      <td>0.000000e+00</td>\n",
       "      <td>0.000000e+00</td>\n",
       "      <td>0.000000e+00</td>\n",
       "      <td>0.000000e+00</td>\n",
       "      <td>0.000000e+00</td>\n",
       "      <td>0.000000e+00</td>\n",
       "      <td>0.000000</td>\n",
       "      <td>0.000000e+00</td>\n",
       "    </tr>\n",
       "    <tr>\n",
       "      <th>25%</th>\n",
       "      <td>0.000000e+00</td>\n",
       "      <td>0.000000e+00</td>\n",
       "      <td>0.000000e+00</td>\n",
       "      <td>2.000000e+00</td>\n",
       "      <td>2.000000e+00</td>\n",
       "      <td>3.260000e+02</td>\n",
       "      <td>8.000000e+00</td>\n",
       "      <td>1.000000e+00</td>\n",
       "      <td>2.000000e+00</td>\n",
       "      <td>1.000000e+01</td>\n",
       "      <td>0.000000e+00</td>\n",
       "      <td>1.000000e+00</td>\n",
       "      <td>0.000000</td>\n",
       "      <td>2.000000e+00</td>\n",
       "    </tr>\n",
       "    <tr>\n",
       "      <th>50%</th>\n",
       "      <td>0.000000e+00</td>\n",
       "      <td>1.000000e+00</td>\n",
       "      <td>3.000000e+00</td>\n",
       "      <td>6.000000e+00</td>\n",
       "      <td>4.000000e+00</td>\n",
       "      <td>2.812000e+03</td>\n",
       "      <td>3.200000e+01</td>\n",
       "      <td>3.000000e+00</td>\n",
       "      <td>7.000000e+00</td>\n",
       "      <td>3.800000e+01</td>\n",
       "      <td>1.000000e+00</td>\n",
       "      <td>1.000000e+00</td>\n",
       "      <td>0.000000</td>\n",
       "      <td>4.000000e+00</td>\n",
       "    </tr>\n",
       "    <tr>\n",
       "      <th>75%</th>\n",
       "      <td>1.000000e+00</td>\n",
       "      <td>3.000000e+00</td>\n",
       "      <td>3.500000e+01</td>\n",
       "      <td>1.800000e+01</td>\n",
       "      <td>1.000000e+01</td>\n",
       "      <td>1.013600e+04</td>\n",
       "      <td>1.020000e+02</td>\n",
       "      <td>1.100000e+01</td>\n",
       "      <td>1.900000e+01</td>\n",
       "      <td>1.100000e+02</td>\n",
       "      <td>1.000000e+00</td>\n",
       "      <td>3.000000e+00</td>\n",
       "      <td>1.000000</td>\n",
       "      <td>1.000000e+01</td>\n",
       "    </tr>\n",
       "    <tr>\n",
       "      <th>max</th>\n",
       "      <td>1.000000e+00</td>\n",
       "      <td>1.575000e+03</td>\n",
       "      <td>1.921900e+04</td>\n",
       "      <td>6.553500e+04</td>\n",
       "      <td>9.690000e+02</td>\n",
       "      <td>2.634953e+06</td>\n",
       "      <td>6.661900e+04</td>\n",
       "      <td>3.453600e+04</td>\n",
       "      <td>4.513000e+03</td>\n",
       "      <td>1.834500e+04</td>\n",
       "      <td>8.000000e+00</td>\n",
       "      <td>1.630000e+02</td>\n",
       "      <td>1831.000000</td>\n",
       "      <td>4.317000e+03</td>\n",
       "    </tr>\n",
       "  </tbody>\n",
       "</table>\n",
       "</div>"
      ],
      "text/plain": [
       "                 0             1             2             3             4   \\\n",
       "count  2.292037e+06  1.253362e+06  2.292037e+06  1.799718e+06  1.794652e+06   \n",
       "mean   2.564675e-01  3.524587e+00  1.055237e+02  2.703023e+01  7.327119e+00   \n",
       "std    4.366830e-01  9.456074e+00  3.879461e+02  4.026174e+02  8.845165e+00   \n",
       "min    0.000000e+00  0.000000e+00 -2.000000e+00  0.000000e+00  0.000000e+00   \n",
       "25%    0.000000e+00  0.000000e+00  0.000000e+00  2.000000e+00  2.000000e+00   \n",
       "50%    0.000000e+00  1.000000e+00  3.000000e+00  6.000000e+00  4.000000e+00   \n",
       "75%    1.000000e+00  3.000000e+00  3.500000e+01  1.800000e+01  1.000000e+01   \n",
       "max    1.000000e+00  1.575000e+03  1.921900e+04  6.553500e+04  9.690000e+02   \n",
       "\n",
       "                 5             6             7             8             9   \\\n",
       "count  2.232828e+06  1.779597e+06  2.193136e+06  2.290882e+06  2.193136e+06   \n",
       "mean   1.853603e+04  1.155878e+02  1.645949e+01  1.253695e+01  1.059942e+02   \n",
       "std    6.915318e+04  3.370288e+02  7.080816e+01  1.692911e+01  2.197440e+02   \n",
       "min    0.000000e+00  0.000000e+00  0.000000e+00  0.000000e+00  0.000000e+00   \n",
       "25%    3.260000e+02  8.000000e+00  1.000000e+00  2.000000e+00  1.000000e+01   \n",
       "50%    2.812000e+03  3.200000e+01  3.000000e+00  7.000000e+00  3.800000e+01   \n",
       "75%    1.013600e+04  1.020000e+02  1.100000e+01  1.900000e+01  1.100000e+02   \n",
       "max    2.634953e+06  6.661900e+04  3.453600e+04  4.513000e+03  1.834500e+04   \n",
       "\n",
       "                 10            11             12            13  \n",
       "count  1.253362e+06  2.193136e+06  537580.000000  1.794652e+06  \n",
       "mean   6.180864e-01  2.738067e+00       0.992498  8.217248e+00  \n",
       "std    6.845344e-01  5.228751e+00       6.083341  1.587631e+01  \n",
       "min    0.000000e+00  0.000000e+00       0.000000  0.000000e+00  \n",
       "25%    0.000000e+00  1.000000e+00       0.000000  2.000000e+00  \n",
       "50%    1.000000e+00  1.000000e+00       0.000000  4.000000e+00  \n",
       "75%    1.000000e+00  3.000000e+00       1.000000  1.000000e+01  \n",
       "max    8.000000e+00  1.630000e+02    1831.000000  4.317000e+03  "
      ]
     },
     "execution_count": 17,
     "metadata": {},
     "output_type": "execute_result"
    }
   ],
   "source": [
    "df.describe()"
   ]
  },
  {
   "cell_type": "code",
   "execution_count": null,
   "metadata": {},
   "outputs": [],
   "source": []
  }
 ],
 "metadata": {
  "kernelspec": {
   "display_name": "Python 3",
   "language": "python",
   "name": "python3"
  },
  "language_info": {
   "codemirror_mode": {
    "name": "ipython",
    "version": 3
   },
   "file_extension": ".py",
   "mimetype": "text/x-python",
   "name": "python",
   "nbconvert_exporter": "python",
   "pygments_lexer": "ipython3",
   "version": "3.6.6"
  }
 },
 "nbformat": 4,
 "nbformat_minor": 2
}
