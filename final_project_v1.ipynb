{
 "cells": [
  {
   "cell_type": "markdown",
   "metadata": {},
   "source": [
    "# w261 Final Project - Clickthrough Rate Prediction\n"
   ]
  },
  {
   "cell_type": "markdown",
   "metadata": {},
   "source": [
    "### Team 24   \n",
    "### Vivian Lu, Siddhartha Jakkamreddy, Venky Nagapudi, Luca Garre   \n",
    "### Summer 2019, sections 4 and 5   "
   ]
  },
  {
   "cell_type": "markdown",
   "metadata": {},
   "source": [
    "## Table of Contents\n",
    "\n",
    "* __Section 1__ - Question Formulation\n",
    "* __Section 2__ - Algorithm Explanation\n",
    "* __Section 3__ - EDA & Challenges\n",
    "* __Section 4__ - Algorithm Implementation\n",
    "* __Section 5__ - Course Concepts"
   ]
  },
  {
   "cell_type": "markdown",
   "metadata": {},
   "source": [
    "# __Section 1__ - Question Formulation"
   ]
  },
  {
   "cell_type": "markdown",
   "metadata": {},
   "source": [
    "## __Introduction__\n",
    "Online ad is a multibillion dollar industry fueled by large investments and ever increasing performance goals. Targeted advertisement, based on users' demographics and browsing history as well as tailored ad features (i.e. colors, text, placement on webpage, display size), is receiving more and more interest due to its potential for revenue generation. As such, machine learning is proving resourceful in the understanding of which features have the greatest impact on users' Click-Through Rates (CTR) and thus informing ad design to maximize performance metrics such as click and convertion rates. Such machine learning solutions can also be deployed in a data pipeline environment (i.e. streaming) to select and offer the best ad on a user/event specific basis that will maximize profit. \n",
    "\n",
    "## __Goal of the analysis__\n",
    "The purpose of the present analysis is to estimate whether a given ad will be clicked based on a set of features (both numerical and categorical) describing the ad. Our analysis attempts to first delve into understanding the anonymized features on an exploratory data analysis, and following such an investigation, we attempt to construct a machine learning model that predict a binary outcome variable (1 for successful click through, 0 for unsuccessful click through) based on features that have shown significant association with the labelled outcome variable of click through rate (CTR). \n",
    "\n",
    "## __Description of the dataset__\n",
    "The dataset is provided by Criteo on Kaggle(https://www.kaggle.com/c/criteo-display-ad-challenge) and is composed of three files, a `readme.txt`, a `train.txt` and a `test.txt` file, respectively. The readme file contains a brief description of the data. The `train.txt` and `test.txt` files contain the train and test data. Both files are formatted as tab separated value tables, and amount to 45840617 and 6042135 rows for the train and test data, respectively. Following the description of the data, each row represents an ad and contains the following fields (see commands below, these expect the data to be contained in a data folder inside the current working directory):\n",
    "\n",
    "- 1 binary field indicating whether the ad has been clicked (1) or not (0). This field is available only for the train data;\n",
    "- 13 fields containing integer features representing counts;\n",
    "- 26 categorical features. These are hashed as 32 bits keys for anonymization purposes;\n",
    "\n",
    "From a printout of the first rows of the data files it appears that the data contain no headers. This implies that, with the sole exception of the first binary field, it is not possible to characterize the various fields in terms of the features these represent. It is also noted that rows in the data can have missing values. This is again noticed when looking at the printed lines, as these have a number of entries which is lower than the number of fields specified in the `readme.txt` file. "
   ]
  },
  {
   "cell_type": "code",
   "execution_count": 41,
   "metadata": {},
   "outputs": [
    {
     "name": "stdout",
     "output_type": "stream",
     "text": [
      "wc: data/train.txt: No such file or directory\n"
     ]
    }
   ],
   "source": [
    "#number of rows in the train data\n",
    "!wc -l data/train.txt"
   ]
  },
  {
   "cell_type": "code",
   "execution_count": null,
   "metadata": {},
   "outputs": [],
   "source": [
    "#number of rows in the test data\n",
    "!wc -l data/test.txt"
   ]
  },
  {
   "cell_type": "code",
   "execution_count": null,
   "metadata": {},
   "outputs": [],
   "source": [
    "# first row of the train data\n",
    "!head -1 data/train.txt"
   ]
  },
  {
   "cell_type": "code",
   "execution_count": null,
   "metadata": {},
   "outputs": [],
   "source": [
    "# first row of the test data\n",
    "!head -1 data/test.txt"
   ]
  },
  {
   "cell_type": "markdown",
   "metadata": {},
   "source": [
    "# __Section 2__ - Algorithm Explanation"
   ]
  },
  {
   "cell_type": "markdown",
   "metadata": {},
   "source": [
    "## Summary and Organization of work\n",
    "\n",
    "The algorithmic approach that we adopted towards solving the CTR prediction problem was based on the fact that a simple linear Logistic Regression alone would not be sufficient. CTR prediction depends on the interactions between features in addition to the features themselves. For example, there are likely features such as `advertiser_id` and `consumer_id` in the categorical variables. Whether an ad is clicked on or not likely depends on the interaction between these two variables and not just on each of them alone. \n",
    "\n",
    "As such we need to include the products of features in addition to the features, thereby requiring a higher order quadratic Logistic Regression rather than linear.\n",
    "\n",
    "The logistic regression will need to include interaction terms, and therefore 2nd Degree polynomial features. The below equation represents the formulation.\n",
    "\n",
    "\\begin{align}\n",
    "\\hat{y}(\\textbf{x}) = w_{0} + \\sum_{i=1}^{n} w_{i} x_{i} +  \\sum_{i=1}^n \\sum_{j=i+1}^n w_{ij} x_{i} x_{j}\n",
    "\\end{align}\n",
    "\n",
    "The second term can grows at `O(n^2)` which makes this a difficult problem to solve. As it is, since a number of categorical variables are involved such as `advertiser_id` and `consumer_id`, the dimensionality of the linear variables can run into millions. While we show how we can reduce this to hundreds of terms with several techniques, we could run into really large dimensions for the interaction terms (ex: 1 million interaction terms for 1000 features) which make practical implementations computationally challenging.\n",
    "\n",
    "We address this problem through dimensionality reduction of the quadratic terms using Factorization Machine (FM) methods. Using Latent Factors (in our case 2), we reduce the complexity of the problem to a manageable `O(n)` rather than `O(n^2)`\n",
    "\n",
    "In Section 2.1, we discuss the Logistic Regression algorithm and describe how we use Gradient Descent to solve this problem.\n",
    "\n",
    "In Section 2.2, we present the Factorization Machine (FM) that we used to address the interaction terms. We show how to derive a Gradient Descent method that extends the Logistic Regression framework to address the interaction terms\n"
   ]
  },
  {
   "cell_type": "markdown",
   "metadata": {},
   "source": [
    "### 2.1 Logistic regression\n",
    "\n",
    "Logistic regression belongs to the family of so-called generalized linear models and is by far one of the most known and applied algorithms for the prediction of a target variable $Y$, which represents the possible occurrence of an event of interest $e$. This variable is binary, and usually is encoded such that $Y=1$ represents the occurrence of $e$. More specifically, given a set of explanatory features $X_i$, $i = 1,2, \\dots, n$, logistic regression characterizes the probability of occurrence of $e$, $\\pi[e] \\equiv \\pi$, as follows:\n",
    "\n",
    "\\begin{equation}\n",
    "\\pi = \\frac{1}{1 + \\exp^{-z} }\n",
    "\\end{equation}\n",
    "\n",
    "where $z = \\beta_0 + \\sum_{i=1}^n \\beta_i X_i$ and $\\beta_i$ are model parameters. As can be seen from the equation above, and in compliance with probability rules, $\\pi \\in (0, 1)$ for any $\\beta_i$ and $X_i$, owing to the fact that the exponential function is strictly positive, and considering that the denominator is always higher than the numerator. After some algebraic manipulations an equivalent, and more compact, formulation of the above equation can be obtained as:\n",
    "\n",
    "\\begin{equation}\n",
    "log\\left( \\frac{\\pi}{1-\\pi} \\right) = \\beta_0 + \\sum_{i=1}^n \\beta_i X_i\n",
    "\\end{equation}\n",
    "\n",
    "where the left side is usually referred to as the logit function, $logit(\\pi)$, while the right side makes the linear nature of this model explicit. This becomes clearer when considering the decision boundary, i.e., the hypersurface that segments the feature space in positive versus vegative regions. For logistic regression, such boundary is associated with the locus of points in the feature space where $\\pi=0.5$, i.e., the model has no preference as to whether a point in this locus should be assigned to the positive or the negative class. Casting $\\pi=0.5$ in the left side of the equation above renders a linear equation of the decision boundary in the feature space, in compliance with the linear nature of this model.  \n",
    "\n",
    "### Log-loss function and parameter estimation\n",
    "\n",
    "In accordance with established practices in the fields of statistics and machine learning, the parameters $\\beta_i$ of the logistic regression model are estimated via maximization of the log-likelihood function. In essence, for a sample of $m$ data points $(x_{ij}, y_j)$, $i = 1,2,\\dots,n$, $j = 1,2,\\dots,m$, where $x_{ij}$ is the $j$-th record of the $i$-th feature, and $y_j$ is the $j$-th record of the target binary variable $Y$, the parameters $\\beta_i$ are estimated such that the log-likelihood function:\n",
    "\n",
    "\\begin{equation}\n",
    "log\\left[ L(\\beta_i|y_j) \\right] = \\frac{1}{m} log\\left( \\prod_{j = 1}^{m} \\pi_j^{y_j} \\left( 1-\\pi_j \\right)^{1-y_j} \\right)\n",
    "\\end{equation}\n",
    "\n",
    "is maximized. The term in the multiplication corresponds to the likelihood function of the Bernoulli distribution for the (degenerate) case of one single trial and number of successes $y_j = 1$ and $y_j = 0$ for success and failure, respectively.\n",
    "\n",
    "Operationally, the above maximization is usually achieved taking the negative of the log-likelihood function and computing the parameters $\\beta_i$ as the argmin of the negated log-likelihood which, after some manipulations, can be written as:\n",
    "\n",
    "\\begin{equation}\n",
    "\\hat{L} = -log\\left[ L(\\beta_i|y_j) \\right] = - \\frac{1}{m}\\sum_{j=1}^{m} \\left[ y_j \\cdot log(\\pi_j) + (1-y_j) \\cdot log(1-\\pi_j) \\right]\n",
    "\\end{equation}\n",
    "\n",
    "The right term of the equation, also called Cross-Entropy or log-loss, being a function $\\pi$, is ultimately a function of the parameters $\\beta_i$ and the features $X_i$ through the logistic regression relationship. The log-loss gives some insights as to the role of this function during estimation of the parameters. Let us assume that for a certain data point, $(x_{ij}, y_j)$, the target variable is equal to $1$. For this given data point, the right term of the equation simplifies to $-log(\\pi_j)$. Since this term needs to be minimized, the parameters $\\beta_i$ of the model need to be chosen such that $\\pi_j$ approaches $1$ as closely as possible. Conversely for an observation $y_j = 0$, minimization of the log-loss, $-log(1 - \\pi_j)$, requires $\\pi_j$ to approach $0$. This dual role of the log-loss function makes such that likelihood maximization in logistic regression aims to find the set of model parameters which best separate positive from negative observations in the space of the explanatory features $X_i$, in the sense of mapping as closely as possible positive targets to $\\pi = 1$ and negative targets to $\\pi = 0$. Another appealing property, which turns out to the be of paramount importance for the strategy outlined below, is that this log-loss function is convex, i.e., one and only one point of minimum exists in the space of parameters $\\beta_i$.\n",
    "\n",
    "### Gradient descent\n",
    "\n",
    "Finding the optimum set of parameters requires a suitable optimization framework. Among various approaches, gradient descent of $\\hat{L}$ is a well-established approach for functions. For a certain point of the $n$-th dimensional space of parameters $\\beta_i$, the gradient of the log-loss function, $\\nabla \\hat{L}$ is computed, and thereafter a translation is performed in the parameter space along the gradient direction (the steepest descent).\n",
    "\n",
    "Gradient descent requires the computation of the gradient. In order to derive its formulation, it is convenient to consider the $i$-th component of $\\nabla \\hat{L}$, i.e.:\n",
    "\n",
    "\\begin{equation}\n",
    "\\nabla_i \\hat{L} = \\frac{\\partial}{\\partial \\beta_i} \\hat{L}\n",
    "\\end{equation}\n",
    "\n",
    "Taking the derivative inside the summation and operating on the logarithm yields:\n",
    "\n",
    "\\begin{equation}\n",
    "\\nabla_i \\hat{L} = - \\frac{1}{m} \\sum_{j=1}^{m} \\left( \\frac{y_j}{\\pi_j} - \\frac{1-y_j}{1-\\pi_j} \\right) \\frac{\\partial \\pi_j}{\\partial \\beta_i}\n",
    "\\end{equation}\n",
    "\n",
    "The derivative of the probability with respect to the parameter equates to (refer to the initial logistic regression formulation):\n",
    "\n",
    "\\begin{equation}\n",
    "\\frac{\\partial \\pi_j}{\\partial \\beta_i} = \\frac{\\exp^{-z_j}}{(1+\\exp^{-z_j})^2} \\frac{\\partial z_j} {\\partial \\beta_i} = \\frac{\\exp^{-z_j}}{1+\\exp^{-z_j}} \\frac{1}{1+\\exp^{-z_j}} \\frac{\\partial z_j} {\\partial \\beta_i} = (1-\\pi_j) \\pi_j \\frac{\\partial z_j} {\\partial \\beta_i}\n",
    "\\end{equation}\n",
    "\n",
    "The derivative of the linear combination term yields:\n",
    "\n",
    "\\begin{equation}\n",
    "\\frac{\\partial z_j} {\\partial \\beta_i} = x_{ij}\n",
    "\\end{equation}\n",
    "\n",
    "Putting it all together, one finally obtains: \n",
    "\n",
    "\\begin{equation}\n",
    "\\nabla_i \\hat{L} = - \\frac{1}{m} \\sum_{j=1}^{m} \\left[ y_j (1-\\pi_j) - (1-y_j) \\pi_j \\right] x_{ij} = \\frac{1}{m}\\sum_{j=1}^{m} (\\pi_j-y_j) x_{ij}\n",
    "\\end{equation}\n",
    "\n",
    "for $i = 1,2,\\dots,n$. \n",
    "\n",
    "Assuming a certain starting point in the space of parameters, $\\beta_i^0$, gradient descent first computes the gradient $\\nabla \\hat{L}$ at this starting point, and shifts the point along the direction of this gradient by computing a new point $\\beta_i^1 = \\beta_i^0 - \\alpha \\cdot \\nabla \\hat{L}$, where $\\alpha$ is a learning rate. This is done iteratively until suitable stopping criteria are met.\n",
    "\n",
    "### Regularization\n",
    "\n",
    "In certain context it may be valuable to introduce so-called regulaziation terms. These are additional penalties imposed on the loss function which are directly proportional to the magnitude of the model parameters $\\beta_i$. Two main regularization approaches exist:\n",
    "\n",
    "- Ridge regularization:\n",
    "\n",
    "  in ridge regularization the regularization term amounts to $\\lambda \\cdot ||\\beta||$, where $\\lambda$ is a regularization parameter and $\\lambda \\cdot ||\\beta||$ is the norm of the vector of model parameters. As a result of the introduction of the ridge regularization term, the following ridge-regularized gradient descent formula is obtained:\n",
    "\n",
    "\\begin{equation}\n",
    "\\nabla_i \\hat{L}_{reg} = \\nabla_i \\hat{L} + 2 \\lambda \\beta_i\n",
    "\\end{equation}\n",
    "\n",
    "- Lasso regularization:\n",
    "\n",
    "  in lasso regularization the regularization term amounts to $\\lambda \\cdot \\sum_{i=1}^n |\\beta_i|$, where $\\lambda$ is a regularization parameter and $|\\beta_i|$ is the absolute value of the $i$th model parameter. As a result of the introduction of the ridge regularization term, the following ridge-regularized gradient descent formula is obtained, where $sign(x)$ is the sign function:\n",
    "\n",
    "\\begin{equation}\n",
    "\\nabla_i \\hat{L}_{reg} = \\nabla_i \\hat{L} + \\lambda sign(\\beta_i)\n",
    "\\end{equation}\n",
    "\n",
    "To note that in both regularization approaches the intercept $\\beta_0$ is omitted from the computation of the regularization term, and the intercept itself is not regularized.\n",
    "\n",
    "### Algorithm for scalable implementation of logistic regression\n",
    "\n",
    "- Assume starting values for logistic parameters $\\beta_i^0$\n",
    "- Set learning parameter $\\alpha$ and regularization parameter $\\lambda$\n",
    "- For each iteration $k$:\n",
    "- Broadcast parameters $\\beta_i^{k}$ to all worker nodes\n",
    "- Map: emit key-value pairs. Key: index $j$, values: target variable $y_j$ and array of explanatory features $x_{ij}$, for $j = 1,2,\\dots,n$\n",
    "- Map: for every $j = 1,2,\\dots,n$ compute probability $\\pi_j$ and $\\left[ y_j (1-\\pi_j) - (1-y_j) \\pi_j \\right] x_{ij}$\n",
    "- Reduce: sum over $j$ and divide by $m$, for $i = 1,2,\\dots,n$\n",
    "- Update $\\beta_i^{k}$\n",
    "- Run next iteration\n",
    "\n",
    "__References:__\n",
    "\n",
    "Bilder, C.R. and Loughin, T.M. (2015). Analysis of Categorical Data with R. CRC Press. \n",
    "\n",
    "Kremonic, Z. (2017). Maximum likelihood and gradient descent demonstration. Blog post. Accessed on July 2019 at https://zlatankr.github.io/posts/2017/03/06/mle-gradient-descent.\n",
    "\n",
    "\n",
    "\n",
    "Additional resources:\n",
    "\n",
    "https://ml-cheatsheet.readthedocs.io/en/latest/logistic_regression.html\n",
    "\n",
    "https://ttic.uchicago.edu/~suriya/website-intromlss2018/course_material/Day3b.pdf \n",
    "\n",
    "http://www.holehouse.org/mlclass/06_Logistic_Regression.html\n"
   ]
  },
  {
   "cell_type": "markdown",
   "metadata": {},
   "source": [
    "## 2.2 Factorization Machine (FM)"
   ]
  },
  {
   "cell_type": "markdown",
   "metadata": {},
   "source": [
    "The logistic regression will take care of the linear terms, now to account for the interaction term, we expand to include 2nd Degree polynomial features. The below equation represents the formulation.\n",
    "\n",
    "\\begin{align}\n",
    "\\hat{y}(\\textbf{x}) = w_{0} + \\sum_{i=1}^{n} w_{i} x_{i} +  \\sum_{i=1}^n \\sum_{j=i+1}^n w_{ij} x_{i} x_{j}\n",
    "\\end{align}\n",
    "\n",
    "The challenge with solving the above equation is that the time complexity is $O(n^2)$\n",
    "\n",
    "In order to work with this, we use a matrix factorization technique for the interaction terms, inspired by Matrix factorization. We introduce a hyperpameter K which represent the latent factors for factorizing the weight vector $w_{ij}$.\n",
    "\n",
    "\\begin{align}\n",
    "\\hat{y}(\\textbf{x}) = w_{0} + \\sum_{i=1}^{n} w_{i} x_{i} + \\sum_{i=1}^{n} \\sum_{j=i+1}^n \\langle \\textbf{v}_i , \\textbf{v}_{j} \\rangle x_i x_{j}\n",
    "\\end{align}\n",
    "\n",
    "\n",
    "Using the computation specified in Stephen Rendles paper, we can simplify the interaction term to the below equation.\n",
    "\n",
    "\\begin{align}\n",
    "\\sum_{i=1}^n \\sum_{j=i+1}^n \\langle \\textbf{v}_i, \\textbf{v}_{j} \\rangle x_{i} x_{j}\n",
    "&= \\frac{1}{2} \\sum_{i=1}^n \\sum_{j=1}^n \\langle \\textbf{v}_i, \\textbf{v}_{j} \\rangle x_{i} x_{j} - \\frac{1}{2} \\sum_{i=1}^n \\langle \\textbf{v}_i , \\textbf{v}_{i} \\rangle x_{i} x_{i}  \\\\\n",
    "&= \\frac{1}{2}\\left(\\sum_{i=1}^n \\sum_{j=1}^n \\sum_{f=1}^k v_{i,f} v_{j,f} x_{i} x_{j} \\right)\\frac{1}{2}\\left( \\sum_{i=1}^n \\sum_{f=1}^k v_{i,f} v_{i,f} x_{i} x_{i} \\right) \\\\\n",
    "&= \\frac{1}{2}\\left(\\sum_{i=1}^n \\sum_{j=1}^n \\sum_{f=1}^k v_{i,f} v_{j,f} x_{i} x_{j}  -  \\sum_{i=1}^n \\sum_{f=1}^k v_{i,f} v_{i,f} x_{i} x_{i} \\right) \\\\\n",
    "&= \\frac{1}{2} \\sum_{f=1}^{k} \\left( \\left(\\sum_{i=1}^n v_{i,f}x_{i} \\right) \\left( \\sum_{j=1}^n v_{j,f}x_{j} \\right) - \\sum_{i=1}^{n} v_{i,f}^2 x_{i}^2 \\right) \\\\\n",
    "&= \\frac{1}{2} \\sum_{f=1}^{k} \\left( \\left( \\sum_{i}^{n} v_{i,f}x_{i} \\right)^2  - \\sum_{i=1}^{n} v_{i,f}^2 x_{i}^2 \\right)\n",
    "\\end{align}\n",
    "\n",
    "So, we can rewrite the equation to compute in $O(n)$ as\n",
    "\\begin{align}\n",
    "\\hat{y}(\\textbf{x}) = w_{0} + \\sum_{i=1}^{n} w_{i} x_{i} + \\frac{1}{2} \\sum_{f=1}^{k} \\left( \\left( \\sum_{i}^{n} v_{i,f}x_{i} \\right)^2  - \\sum_{i=1}^{n} v_{i,f}^2 x_{i}^2 \\right)\n",
    "\\end{align}\n",
    "\n",
    "#### Gradient\n",
    "\n",
    "For our classification problem, we can define the gradients as :\n",
    "\n",
    "\\begin{align}\n",
    "\\frac{\\partial}{\\partial\\theta}\\hat{y}(\\textbf{x}) =\n",
    "\\begin{cases}\n",
    "1,  & \\text{if $\\theta$ is $w_0$} \\\\\n",
    "x_i, & \\text{if $\\theta$ is $w_i$} \\\\\n",
    "x_i\\sum_{j=1}^{n} v_{j,f}x_j - v_{i,f}x_{i}^2 & \\text{if $\\theta$ is $v_{i,f}$}\n",
    "\\end{cases}\n",
    "\\end{align}\n",
    "\n",
    "#### For labels -1&1\n",
    "\\begin{align}\n",
    "\\frac{\\partial}{\\partial \\hat{y} }(\\textbf{L}) =\n",
    "\\frac{d}{d \\hat{y}}\\left[ -y \\hat{y} + \\ln \\big(e^{y \\hat{y}} + 1 \\big) \\right] \n",
    "&= \\frac{1}{e^{y \\hat{y}} + 1} \\cdot  \\frac{d}{dx}\\left[e^{y \\hat{y}} + 1 \\right] - y \\\\\n",
    "&= \\frac{ye^{y \\hat{y}}}{e^{y \\hat{y}} + 1} - y\\\\\n",
    "&= \\frac{-y}{e^{y \\hat{y}} + 1}\n",
    "\\end{align}\n",
    "\n",
    "#### For labels 0,1\n",
    "\\begin{align}\n",
    "\\frac{\\partial}{\\partial \\hat{y} }(\\textbf{L}) =\n",
    "\\frac{d}{d \\hat{y}}\\left[ -y \\hat{y} + \\ln \\big(e^{ \\hat{y}} + 1 \\big) \\right] \n",
    "&= \\frac{1}{e^{\\hat{y}} + 1} \\cdot  \\frac{d}{dx}\\left[e^{ \\hat{y}} + 1 \\right] - y \\\\\n",
    "&= \\frac{e^{ \\hat{y}}}{e^{\\hat{y}} + 1} - y\\\\\n",
    "&= \\frac{-y-e^{\\hat{y}}(y-1)}{e^{ \\hat{y}} + 1}\n",
    "\\end{align}\n",
    "\n",
    "The gradient of loss is defined by (by using chain rule):\n",
    "\n",
    "\\begin{align}\n",
    "\\frac{\\partial}{\\partial \\theta }(\\textbf{L}) = \n",
    "\\frac{\\partial}{\\partial \\hat{y} }(\\textbf{L}) \\centerdot \\frac{\\partial}{\\partial \\theta}\\hat{y}(\\textbf{x}) \n",
    "\\end{align}\n"
   ]
  },
  {
   "cell_type": "markdown",
   "metadata": {},
   "source": [
    "# __Section 3__ - EDA & Challenges"
   ]
  },
  {
   "cell_type": "markdown",
   "metadata": {},
   "source": [
    "For EDA purposes and notebook display, we randomly sampled 5% of the Criteo labs data via code **[Sid: put reference here]**. \n",
    "* This sampled code has a total length of 2292037 records. \n",
    "* *****Delete or add as needed: address the potential of bias; we could address this via bootstrapping and making sure that our clickthrough rate was robust** "
   ]
  },
  {
   "cell_type": "code",
   "execution_count": 1,
   "metadata": {},
   "outputs": [],
   "source": [
    "# imports\n",
    "import re\n",
    "import numpy as np\n",
    "import pandas as pd\n",
    "import matplotlib.pyplot as plt\n",
    "from matplotlib.pyplot import *\n",
    "from os import path"
   ]
  },
  {
   "cell_type": "code",
   "execution_count": 2,
   "metadata": {},
   "outputs": [],
   "source": [
    "# store path to notebook\n",
    "PWD = !pwd\n",
    "PWD = PWD[0]"
   ]
  },
  {
   "cell_type": "code",
   "execution_count": 3,
   "metadata": {},
   "outputs": [],
   "source": [
    "# create Spark Session\n",
    "from pyspark.sql import SparkSession\n",
    "app_name = \"final_project\"\n",
    "master = \"local[*]\"\n",
    "spark = SparkSession\\\n",
    "        .builder\\\n",
    "        .appName(app_name)\\\n",
    "        .master(master)\\\n",
    "        .getOrCreate()\n",
    "sc = spark.sparkContext\n",
    "from pyspark.sql import SQLContext\n",
    "from pyspark.sql.functions import col\n",
    "sqlContext = SQLContext(sc)"
   ]
  },
  {
   "cell_type": "code",
   "execution_count": 4,
   "metadata": {},
   "outputs": [],
   "source": [
    "# read in sample training data and convert to dataframe\n",
    "#### EDA version below \n",
    "train_sample_EDA = sqlContext.read.format(\"csv\") \\\n",
    "               .option(\"inferSchema\", \"true\") \\\n",
    "               .option(\"header\", \"false\") \\\n",
    "               .option(\"delimiter\", \"\\t\")\\\n",
    "               .load(\"data/sample_training.txt\")"
   ]
  },
  {
   "cell_type": "code",
   "execution_count": 5,
   "metadata": {},
   "outputs": [
    {
     "name": "stdout",
     "output_type": "stream",
     "text": [
      "+---+---+---+---+---+----+---+---+---+---+----+----+----+----+--------+--------+--------+--------+--------+--------+--------+--------+--------+--------+--------+--------+--------+--------+--------+--------+--------+--------+--------+--------+--------+--------+--------+--------+--------+--------+\n",
      "|_c0|_c1|_c2|_c3|_c4| _c5|_c6|_c7|_c8|_c9|_c10|_c11|_c12|_c13|    _c14|    _c15|    _c16|    _c17|    _c18|    _c19|    _c20|    _c21|    _c22|    _c23|    _c24|    _c25|    _c26|    _c27|    _c28|    _c29|    _c30|    _c31|    _c32|    _c33|    _c34|    _c35|    _c36|    _c37|    _c38|    _c39|\n",
      "+---+---+---+---+---+----+---+---+---+---+----+----+----+----+--------+--------+--------+--------+--------+--------+--------+--------+--------+--------+--------+--------+--------+--------+--------+--------+--------+--------+--------+--------+--------+--------+--------+--------+--------+--------+\n",
      "|  0|  1|  1|  5|  0|1382|  4| 15|  2|181|   1|   2|null|   2|68fd1e64|80e26c9b|fb936136|7b4723c4|25c83c98|7e0ccccf|de7995b8|1f89b562|a73ee510|a8cd5504|b2cb9c98|37c9c164|2824a5f6|1adce6ef|8ba8b39a|891b62e7|e5ba7672|f54016b9|21ddcdc9|b1252a9d|07b5194c|    null|3a171ecb|c5c50484|e8b83407|9727dd16|\n",
      "|  0|  2|  0| 44|  1| 102|  8|  2|  2|  4|   1|   1|null|   4|68fd1e64|f0cf0024|6f67f7e5|41274cd7|25c83c98|fe6b92e5|922afcc0|0b153874|a73ee510|2b53e5fb|4f1b46f3|623049e6|d7020589|b28479f6|e6c5b5cd|c92f3b61|07c540c4|b04e4670|21ddcdc9|5840adea|60f6221e|    null|3a171ecb|43f13e8b|e8b83407|731c3655|\n",
      "|  0|  2|  0|  1| 14| 767| 89|  4|  2|245|   1|   3|   3|  45|287e684f|0a519c5c|02cf9876|c18be181|25c83c98|7e0ccccf|c78204a1|0b153874|a73ee510|3b08e48b|5f5e6091|8fe001f4|aa655a2f|07d13a8f|6dc710ed|36103458|8efede7f|3412118d|    null|    null|e587c466|ad3062eb|3a171ecb|3b183c5c|    null|    null|\n",
      "+---+---+---+---+---+----+---+---+---+---+----+----+----+----+--------+--------+--------+--------+--------+--------+--------+--------+--------+--------+--------+--------+--------+--------+--------+--------+--------+--------+--------+--------+--------+--------+--------+--------+--------+--------+\n",
      "only showing top 3 rows\n",
      "\n"
     ]
    }
   ],
   "source": [
    "# head first three rows\n",
    "train_sample_EDA.show(3)"
   ]
  },
  {
   "cell_type": "markdown",
   "metadata": {},
   "source": [
    "We notice immediately from the first three rows that column names are not provided. From the Kaggle contest description, however, we do know that the first column (denoted as `c0`) contains the y variable we are interested in; specifically, a 0 denotes an ad that was not clicked on and a 1 denotes an ad that was clicked on. The following 13 fields (denoted from `_c1` to `_c13`) are numerical features, and the remaining 26 columns (denoted from `_14` to `_39` are categorical features. **Further, we see the presence of missing values, encoded as `null` in the dataframe**.\n",
    "\n",
    "For easier reference in columns, we will rename the following columns as such with the code provided below: \n",
    "* `_c0` as `CTR` to denote our y variable of interest (click-through rate). \n",
    "* Numerical columns `_1` to `_13` to be denoted as `Var1` to `Var13`. \n",
    "* Categorical columns `_14` to `_39` to be denoted as `Var14` to `Var39`."
   ]
  },
  {
   "cell_type": "code",
   "execution_count": 17,
   "metadata": {},
   "outputs": [],
   "source": [
    "# Renaming of columns for easy reference \n",
    "train_sample_EDA = train_sample_EDA.withColumnRenamed(\"_c0\", \"CTR\") \\\n",
    "       .withColumnRenamed(\"_c1\", \"Var1\") \\\n",
    "       .withColumnRenamed(\"_c2\", \"Var2\") \\\n",
    "       .withColumnRenamed(\"_c3\", \"Var3\") \\\n",
    "       .withColumnRenamed(\"_c4\", \"Var4\") \\\n",
    "       .withColumnRenamed(\"_c5\", \"Var5\") \\\n",
    "       .withColumnRenamed(\"_c6\", \"Var6\") \\\n",
    "       .withColumnRenamed(\"_c7\", \"Var7\") \\\n",
    "       .withColumnRenamed(\"_c8\", \"Var8\") \\\n",
    "       .withColumnRenamed(\"_c9\", \"Var9\") \\\n",
    "       .withColumnRenamed(\"_c10\", \"Var10\") \\\n",
    "       .withColumnRenamed(\"_c11\", \"Var11\") \\\n",
    "       .withColumnRenamed(\"_c12\", \"Var12\") \\\n",
    "       .withColumnRenamed(\"_c13\", \"Var13\") \\\n",
    "        .withColumnRenamed(\"_c14\", \"Var14\") \\\n",
    "        .withColumnRenamed(\"_c15\", \"Var15\") \\\n",
    "        .withColumnRenamed(\"_c16\", \"Var16\") \\\n",
    "        .withColumnRenamed(\"_c17\", \"Var17\") \\\n",
    "        .withColumnRenamed(\"_c18\", \"Var18\") \\\n",
    "        .withColumnRenamed(\"_c19\", \"Var19\") \\\n",
    "        .withColumnRenamed(\"_c20\", \"Var20\") \\\n",
    "        .withColumnRenamed(\"_c21\", \"Var21\") \\\n",
    "        .withColumnRenamed(\"_c22\", \"Var22\") \\\n",
    "        .withColumnRenamed(\"_c23\", \"Var23\") \\\n",
    "        .withColumnRenamed(\"_c24\", \"Var24\") \\\n",
    "        .withColumnRenamed(\"_c25\", \"Var25\") \\\n",
    "        .withColumnRenamed(\"_c26\", \"Var26\") \\\n",
    "        .withColumnRenamed(\"_c27\", \"Var27\") \\\n",
    "        .withColumnRenamed(\"_c28\", \"Var28\") \\\n",
    "        .withColumnRenamed(\"_c29\", \"Var29\") \\\n",
    "        .withColumnRenamed(\"_c30\", \"Var30\") \\\n",
    "        .withColumnRenamed(\"_c31\", \"Var31\") \\\n",
    "        .withColumnRenamed(\"_c32\", \"Var32\") \\\n",
    "        .withColumnRenamed(\"_c33\", \"Var33\") \\\n",
    "        .withColumnRenamed(\"_c34\", \"Var34\") \\\n",
    "        .withColumnRenamed(\"_c35\", \"Var35\") \\\n",
    "        .withColumnRenamed(\"_c36\", \"Var36\") \\\n",
    "        .withColumnRenamed(\"_c37\", \"Var37\") \\\n",
    "        .withColumnRenamed(\"_c38\", \"Var38\") \\\n",
    "        .withColumnRenamed(\"_c39\", \"Var39\") \\"
   ]
  },
  {
   "cell_type": "code",
   "execution_count": 18,
   "metadata": {},
   "outputs": [
    {
     "name": "stdout",
     "output_type": "stream",
     "text": [
      "+---+----+----+----+----+-----+----+----+----+----+-----+-----+-----+-----+\n",
      "|CTR|Var1|Var2|Var3|Var4| Var5|Var6|Var7|Var8|Var9|Var10|Var11|Var12|Var13|\n",
      "+---+----+----+----+----+-----+----+----+----+----+-----+-----+-----+-----+\n",
      "|  0|   1|   1|   5|   0| 1382|   4|  15|   2| 181|    1|    2| null|    2|\n",
      "|  0|   2|   0|  44|   1|  102|   8|   2|   2|   4|    1|    1| null|    4|\n",
      "|  0|   2|   0|   1|  14|  767|  89|   4|   2| 245|    1|    3|    3|   45|\n",
      "|  0|null| 893|null|null| 4392|null|   0|   0|   0| null|    0| null| null|\n",
      "|  0|   3|  -1|null|   0|    2|   0|   3|   0|   0|    1|    1| null|    0|\n",
      "|  0|null|  -1|null|null|12824|null|   0|   0|   6| null|    0| null| null|\n",
      "|  0|null|   1|   2|null| 3168|null|   0|   1|   2| null|    0| null| null|\n",
      "|  1|   1|   4|   2|   0|    0|   0|   1|   0|   0|    1|    1| null|    0|\n",
      "|  0|null|  44|   4|   8|19010| 249|  28|  31| 141| null|    1| null|    8|\n",
      "|  0|null|  35|null|   1|33737|  21|   1|   2|   3| null|    1| null|    1|\n",
      "|  0|null|   2| 632|   0|56770|null|   0|   5|  65| null|    0| null|    2|\n",
      "|  0|   0|   6|   6|   6|  421| 109|   1|   7| 107|    0|    1| null|    6|\n",
      "|  1|   0|  -1|null|null| 1465|   0|  17|   0|   4|    0|    4| null| null|\n",
      "|  1|null|   2|  11|   5|10262|  34|   2|   4|   5| null|    1| null|    5|\n",
      "|  0|   0|  51|  84|   4| 3633|  26|   1|   4|   8|    0|    1| null|    4|\n",
      "|  0|null|   2|   1|  18|20255|null|   0|   1|1306| null|    0| null|   20|\n",
      "|  1|   1| 987|null|   2|  105|   2|   1|   2|   2|    1|    1| null|    2|\n",
      "|  0|   0|   1|null|   0|16597| 557|   3|   5| 123|    0|    1| null|    1|\n",
      "|  0|   0|  24|   4|   2| 2056|  12|   6|  10|  83|    0|    1| null|    2|\n",
      "|  0|   7| 102|null|   3|  780|  15|   7|  15|  15|    1|    1| null|    3|\n",
      "+---+----+----+----+----+-----+----+----+----+----+-----+-----+-----+-----+\n",
      "only showing top 20 rows\n",
      "\n"
     ]
    }
   ],
   "source": [
    "# Showing top 20 rows of the numerical columns \n",
    "train_sample_EDA.select(\"CTR\", \"Var1\", \"Var2\", \"Var3\", \"Var4\", \"Var5\", \\\n",
    "                        \"Var6\", \"Var7\", \"Var8\", \"Var9\", \"Var10\", \"Var11\", \"Var12\", \"Var13\").show()"
   ]
  },
  {
   "cell_type": "code",
   "execution_count": 19,
   "metadata": {},
   "outputs": [
    {
     "name": "stdout",
     "output_type": "stream",
     "text": [
      "+--------+--------+--------+--------+--------+--------+--------+--------+--------+--------+--------+--------+--------+--------+--------+--------+--------+--------+--------+--------+--------+--------+--------+--------+--------+--------+\n",
      "|   Var14|   Var15|   Var16|   Var17|   Var18|   Var19|   Var20|   Var21|   Var22|   Var23|   Var24|   Var25|   Var26|   Var27|   Var28|   Var29|   Var30|   Var31|   Var32|   Var33|   Var34|   Var35|   Var36|   Var37|   Var38|   Var39|\n",
      "+--------+--------+--------+--------+--------+--------+--------+--------+--------+--------+--------+--------+--------+--------+--------+--------+--------+--------+--------+--------+--------+--------+--------+--------+--------+--------+\n",
      "|68fd1e64|80e26c9b|fb936136|7b4723c4|25c83c98|7e0ccccf|de7995b8|1f89b562|a73ee510|a8cd5504|b2cb9c98|37c9c164|2824a5f6|1adce6ef|8ba8b39a|891b62e7|e5ba7672|f54016b9|21ddcdc9|b1252a9d|07b5194c|    null|3a171ecb|c5c50484|e8b83407|9727dd16|\n",
      "|68fd1e64|f0cf0024|6f67f7e5|41274cd7|25c83c98|fe6b92e5|922afcc0|0b153874|a73ee510|2b53e5fb|4f1b46f3|623049e6|d7020589|b28479f6|e6c5b5cd|c92f3b61|07c540c4|b04e4670|21ddcdc9|5840adea|60f6221e|    null|3a171ecb|43f13e8b|e8b83407|731c3655|\n",
      "|287e684f|0a519c5c|02cf9876|c18be181|25c83c98|7e0ccccf|c78204a1|0b153874|a73ee510|3b08e48b|5f5e6091|8fe001f4|aa655a2f|07d13a8f|6dc710ed|36103458|8efede7f|3412118d|    null|    null|e587c466|ad3062eb|3a171ecb|3b183c5c|    null|    null|\n",
      "|68fd1e64|2c16a946|a9a87e68|2e17d6f6|25c83c98|fe6b92e5|2e8a689b|0b153874|a73ee510|efea433b|e51ddf94|a30567ca|3516f6e6|07d13a8f|18231224|52b8680f|1e88c74f|74ef3502|    null|    null|6b3a5ca6|    null|3a171ecb|9117a34a|    null|    null|\n",
      "|8cf07265|ae46a29d|c81688bb|f922efad|25c83c98|13718bbd|ad9fa255|0b153874|a73ee510|5282c137|e5d8af57|66a76a26|f06c53ac|1adce6ef|8ff4b403|01adbab4|1e88c74f|26b3c7a7|    null|    null|21c9516a|    null|32c7478e|b34f3128|    null|    null|\n",
      "|05db9164|6c9c9cf3|2730ec9c|5400db8b|43b19349|6f6d9be8|53b5f978|0b153874|a73ee510|3b08e48b|91e8fc27|be45b877|9ff13f22|07d13a8f|06969a20|9bc7fff5|776ce399|92555263|    null|    null|242bb710|8ec974f4|be7c41b4|72c78f11|    null|    null|\n",
      "|439a44a4|ad4527a2|c02372d0|d34ebbaa|43b19349|fe6b92e5|4bc6ffea|0b153874|a73ee510|3b08e48b|a4609aab|14d63538|772a00d7|07d13a8f|f9d1382e|b00d3dc9|776ce399|cdfa8259|    null|    null|20062612|    null|93bad2c0|1b256e61|    null|    null|\n",
      "|68fd1e64|2c16a946|503b9dbc|e4dbea90|f3474129|13718bbd|38eb9cf4|1f89b562|a73ee510|547c0ffe|bc8c9f21|60ab2f07|46f42a63|07d13a8f|18231224|e6b6bdc7|e5ba7672|74ef3502|    null|    null|5316a17f|    null|32c7478e|9117a34a|    null|    null|\n",
      "|05db9164|d833535f|d032c263|c18be181|25c83c98|7e0ccccf|d5b6acf2|0b153874|a73ee510|2acdcf4e|086ac2d2|dfbb09fb|41a6ae00|b28479f6|e2502ec9|84898b2a|e5ba7672|42a2edb9|    null|    null|0014c32a|    null|32c7478e|3b183c5c|    null|    null|\n",
      "|05db9164|510b40a5|d03e7c24|eb1fd928|25c83c98|    null|52283d1c|0b153874|a73ee510|015ac893|e51ddf94|951fe4a9|3516f6e6|07d13a8f|2ae4121c|8ec71479|d4bb7bd8|70d0f5f9|    null|    null|0e63fca0|    null|32c7478e|0e8fe315|    null|    null|\n",
      "|05db9164|0468d672|7ae80d0f|80d8555a|25c83c98|7e0ccccf|04277bf9|0b153874|7cc72ec2|3b08e48b|7e2c5c15|cfc86806|91a1b611|b28479f6|58251aab|146a70fd|776ce399|0b331314|21ddcdc9|5840adea|cbec39db|    null|3a171ecb|cedad179|ea9a246c|9a556cfc|\n",
      "|05db9164|9b5fd12f|    null|    null|4cf72387|    null|111121f4|0b153874|a73ee510|3b08e48b|ac9c2e8f|    null|6e2d6a15|07d13a8f|796a1a2e|    null|d4bb7bd8|8aaa5b67|    null|    null|    null|    null|32c7478e|    null|    null|    null|\n",
      "|241546e0|38a947a1|fa673455|6a14f9b9|25c83c98|fe6b92e5|1c86e0eb|1f89b562|a73ee510|e7ba2569|755e4a50|208d9687|5978055e|07d13a8f|5182f694|f8b34416|e5ba7672|e5f8f18f|    null|    null|f3ddd519|    null|32c7478e|b34f3128|    null|    null|\n",
      "|be589b51|287130e0|cd7a7a22|fb7334df|25c83c98|    null|6cdb3998|361384ce|a73ee510|3ff10fb2|5874c9c9|976cbd4c|740c210d|1adce6ef|310d155b|07eb8110|07c540c4|891589e7|18259a83|a458ea53|a0ab60ca|    null|32c7478e|a052b1ed|9b3e8820|8967c0d2|\n",
      "|5a9ed9b0|80e26c9b|97144401|5dbf0cc5|0942e0a7|13718bbd|9ce6136d|0b153874|a73ee510|2106e595|b5bb9d63|04f55317|ab04d8fe|1adce6ef|0ad47a49|2bd32e5c|3486227d|12195b22|21ddcdc9|b1252a9d|fa131867|    null|dbb486d7|8ecc176a|e8b83407|c43c3f58|\n",
      "|05db9164|bc6e3dc1|67799c69|d00d0f35|4cf72387|7e0ccccf|ca4fd8f8|64523cfa|a73ee510|3b08e48b|a0060bca|b9f28c33|22d23aac|5aebfb83|d702713a|0f655650|776ce399|3a2028fd|    null|    null|b426bc93|    null|3a171ecb|2e0a0035|    null|    null|\n",
      "|68fd1e64|38d50e09|da603082|431a5096|43b19349|7e0ccccf|3f35b640|0b153874|a73ee510|3b08e48b|3d5fb018|6aaab577|94172618|07d13a8f|ee569ce2|2f03ef40|d4bb7bd8|582152eb|21ddcdc9|b1252a9d|3b203ca1|    null|32c7478e|b21dc903|001f3601|aa5f0a15|\n",
      "|8cf07265|7cd19acc|77f2f2e5|d16679b9|4cf72387|fbad5c96|8fb24933|0b153874|a73ee510|0095a535|3617b5f5|9f32b866|428332cf|b28479f6|83ebd498|31ca40b6|e5ba7672|d0e5eb07|    null|    null|dfcfc3fa|ad3062eb|32c7478e|aee52b6f|    null|    null|\n",
      "|05db9164|f0cf0024|08b45d8b|cbb5af1b|384874ce|fbad5c96|81bb0302|37e4aa92|a73ee510|175d6c71|b7094596|1c547463|1f9d2c38|1adce6ef|55dc357b|0ca69655|e5ba7672|b04e4670|21ddcdc9|b1252a9d|f3caefdd|    null|32c7478e|4c8e5aef|ea9a246c|9593bba9|\n",
      "|3c9d8785|b0660259|3a960356|15c92ddb|4cf72387|13718bbd|00c46cd1|0b153874|a73ee510|62cfc6bd|8cffe207|656e5413|ff5626de|ad1cc976|27b1230c|fa8d05aa|e5ba7672|5edd90de|    null|    null|e12ce348|    null|c3dc6cef|49045073|    null|    null|\n",
      "+--------+--------+--------+--------+--------+--------+--------+--------+--------+--------+--------+--------+--------+--------+--------+--------+--------+--------+--------+--------+--------+--------+--------+--------+--------+--------+\n",
      "only showing top 20 rows\n",
      "\n"
     ]
    }
   ],
   "source": [
    "# Showing top 20 rows of the categorical columns \n",
    "train_sample_EDA.select('Var14','Var15','Var16','Var17','Var18','Var19','Var20','Var21',\n",
    "                    'Var22','Var23','Var24','Var25','Var26','Var27','Var28','Var29','Var30',\n",
    "                   'Var31','Var32','Var33','Var34','Var35','Var36','Var37','Var38','Var39').show()"
   ]
  },
  {
   "cell_type": "markdown",
   "metadata": {},
   "source": [
    "## 3.1 Brief Statistics and Coverage of Data"
   ]
  },
  {
   "cell_type": "markdown",
   "metadata": {},
   "source": [
    "In our code below, we depict brief statistics about our sampled data: \n",
    "* Our sampled data shows a click through rate of approximately 25% \n",
    "* Coverage: For the most part, most of our columns show pretty good coverage (>95%). We do see, however, a troubling number of Null (missing) values for a couple columns. \n",
    "    * Perhaps the most alarming: columns Var32, Var33, Var38, Var39, Var10, Var1, Var35, and Var12 have approximately 50% or less of their values as non-Null. \n",
    "    \n",
    "A significant challenge for us will involve having to deal with high number of Null values in some of our columns. For numerical values, it is certainly possible to impute a number to fill in for Null values, but this challenge gets tricky with categorical variables. The handling of null values for categorical variables will be discussed in Section 4. "
   ]
  },
  {
   "cell_type": "code",
   "execution_count": 20,
   "metadata": {},
   "outputs": [
    {
     "data": {
      "text/plain": [
       "100000"
      ]
     },
     "execution_count": 20,
     "metadata": {},
     "output_type": "execute_result"
    }
   ],
   "source": [
    "# Getting a count of the total number of rows in our sampled data. \n",
    "total_count = train_sample_EDA.count()\n",
    "total_count"
   ]
  },
  {
   "cell_type": "code",
   "execution_count": 21,
   "metadata": {},
   "outputs": [
    {
     "data": {
      "text/plain": [
       "0.22663"
      ]
     },
     "execution_count": 21,
     "metadata": {},
     "output_type": "execute_result"
    }
   ],
   "source": [
    "# Calculating approximate click through rate of our sampled training data \n",
    "train_sample_EDA.filter(train_sample_EDA.CTR==1).count()/total_count"
   ]
  },
  {
   "cell_type": "code",
   "execution_count": 12,
   "metadata": {},
   "outputs": [
    {
     "data": {
      "text/html": [
       "<div>\n",
       "<style scoped>\n",
       "    .dataframe tbody tr th:only-of-type {\n",
       "        vertical-align: middle;\n",
       "    }\n",
       "\n",
       "    .dataframe tbody tr th {\n",
       "        vertical-align: top;\n",
       "    }\n",
       "\n",
       "    .dataframe thead th {\n",
       "        text-align: right;\n",
       "    }\n",
       "</style>\n",
       "<table border=\"1\" class=\"dataframe\">\n",
       "  <thead>\n",
       "    <tr style=\"text-align: right;\">\n",
       "      <th></th>\n",
       "      <th>Coverage_nonNull</th>\n",
       "    </tr>\n",
       "  </thead>\n",
       "  <tbody>\n",
       "    <tr>\n",
       "      <th>CTR</th>\n",
       "      <td>1.00000</td>\n",
       "    </tr>\n",
       "    <tr>\n",
       "      <th>Var14</th>\n",
       "      <td>1.00000</td>\n",
       "    </tr>\n",
       "    <tr>\n",
       "      <th>Var36</th>\n",
       "      <td>1.00000</td>\n",
       "    </tr>\n",
       "    <tr>\n",
       "      <th>Var31</th>\n",
       "      <td>1.00000</td>\n",
       "    </tr>\n",
       "    <tr>\n",
       "      <th>Var30</th>\n",
       "      <td>1.00000</td>\n",
       "    </tr>\n",
       "    <tr>\n",
       "      <th>Var28</th>\n",
       "      <td>1.00000</td>\n",
       "    </tr>\n",
       "    <tr>\n",
       "      <th>Var27</th>\n",
       "      <td>1.00000</td>\n",
       "    </tr>\n",
       "    <tr>\n",
       "      <th>Var26</th>\n",
       "      <td>1.00000</td>\n",
       "    </tr>\n",
       "    <tr>\n",
       "      <th>Var24</th>\n",
       "      <td>1.00000</td>\n",
       "    </tr>\n",
       "    <tr>\n",
       "      <th>Var23</th>\n",
       "      <td>1.00000</td>\n",
       "    </tr>\n",
       "    <tr>\n",
       "      <th>Var22</th>\n",
       "      <td>1.00000</td>\n",
       "    </tr>\n",
       "    <tr>\n",
       "      <th>Var21</th>\n",
       "      <td>1.00000</td>\n",
       "    </tr>\n",
       "    <tr>\n",
       "      <th>Var18</th>\n",
       "      <td>1.00000</td>\n",
       "    </tr>\n",
       "    <tr>\n",
       "      <th>Var15</th>\n",
       "      <td>1.00000</td>\n",
       "    </tr>\n",
       "    <tr>\n",
       "      <th>Var20</th>\n",
       "      <td>1.00000</td>\n",
       "    </tr>\n",
       "    <tr>\n",
       "      <th>Var2</th>\n",
       "      <td>1.00000</td>\n",
       "    </tr>\n",
       "    <tr>\n",
       "      <th>Var8</th>\n",
       "      <td>0.99893</td>\n",
       "    </tr>\n",
       "    <tr>\n",
       "      <th>Var17</th>\n",
       "      <td>0.96065</td>\n",
       "    </tr>\n",
       "    <tr>\n",
       "      <th>Var37</th>\n",
       "      <td>0.96065</td>\n",
       "    </tr>\n",
       "    <tr>\n",
       "      <th>Var34</th>\n",
       "      <td>0.96065</td>\n",
       "    </tr>\n",
       "    <tr>\n",
       "      <th>Var25</th>\n",
       "      <td>0.96065</td>\n",
       "    </tr>\n",
       "    <tr>\n",
       "      <th>Var16</th>\n",
       "      <td>0.96065</td>\n",
       "    </tr>\n",
       "    <tr>\n",
       "      <th>Var29</th>\n",
       "      <td>0.96065</td>\n",
       "    </tr>\n",
       "    <tr>\n",
       "      <th>Var11</th>\n",
       "      <td>0.95281</td>\n",
       "    </tr>\n",
       "    <tr>\n",
       "      <th>Var9</th>\n",
       "      <td>0.95281</td>\n",
       "    </tr>\n",
       "    <tr>\n",
       "      <th>Var7</th>\n",
       "      <td>0.95281</td>\n",
       "    </tr>\n",
       "    <tr>\n",
       "      <th>Var5</th>\n",
       "      <td>0.95240</td>\n",
       "    </tr>\n",
       "    <tr>\n",
       "      <th>Var19</th>\n",
       "      <td>0.86292</td>\n",
       "    </tr>\n",
       "    <tr>\n",
       "      <th>Var3</th>\n",
       "      <td>0.80898</td>\n",
       "    </tr>\n",
       "    <tr>\n",
       "      <th>Var13</th>\n",
       "      <td>0.80466</td>\n",
       "    </tr>\n",
       "    <tr>\n",
       "      <th>Var4</th>\n",
       "      <td>0.80466</td>\n",
       "    </tr>\n",
       "    <tr>\n",
       "      <th>Var6</th>\n",
       "      <td>0.74893</td>\n",
       "    </tr>\n",
       "    <tr>\n",
       "      <th>Var32</th>\n",
       "      <td>0.58529</td>\n",
       "    </tr>\n",
       "    <tr>\n",
       "      <th>Var33</th>\n",
       "      <td>0.58529</td>\n",
       "    </tr>\n",
       "    <tr>\n",
       "      <th>Var38</th>\n",
       "      <td>0.58529</td>\n",
       "    </tr>\n",
       "    <tr>\n",
       "      <th>Var39</th>\n",
       "      <td>0.58529</td>\n",
       "    </tr>\n",
       "    <tr>\n",
       "      <th>Var10</th>\n",
       "      <td>0.55587</td>\n",
       "    </tr>\n",
       "    <tr>\n",
       "      <th>Var1</th>\n",
       "      <td>0.55587</td>\n",
       "    </tr>\n",
       "    <tr>\n",
       "      <th>Var12</th>\n",
       "      <td>0.22820</td>\n",
       "    </tr>\n",
       "    <tr>\n",
       "      <th>Var35</th>\n",
       "      <td>0.18434</td>\n",
       "    </tr>\n",
       "  </tbody>\n",
       "</table>\n",
       "</div>"
      ],
      "text/plain": [
       "       Coverage_nonNull\n",
       "CTR             1.00000\n",
       "Var14           1.00000\n",
       "Var36           1.00000\n",
       "Var31           1.00000\n",
       "Var30           1.00000\n",
       "Var28           1.00000\n",
       "Var27           1.00000\n",
       "Var26           1.00000\n",
       "Var24           1.00000\n",
       "Var23           1.00000\n",
       "Var22           1.00000\n",
       "Var21           1.00000\n",
       "Var18           1.00000\n",
       "Var15           1.00000\n",
       "Var20           1.00000\n",
       "Var2            1.00000\n",
       "Var8            0.99893\n",
       "Var17           0.96065\n",
       "Var37           0.96065\n",
       "Var34           0.96065\n",
       "Var25           0.96065\n",
       "Var16           0.96065\n",
       "Var29           0.96065\n",
       "Var11           0.95281\n",
       "Var9            0.95281\n",
       "Var7            0.95281\n",
       "Var5            0.95240\n",
       "Var19           0.86292\n",
       "Var3            0.80898\n",
       "Var13           0.80466\n",
       "Var4            0.80466\n",
       "Var6            0.74893\n",
       "Var32           0.58529\n",
       "Var33           0.58529\n",
       "Var38           0.58529\n",
       "Var39           0.58529\n",
       "Var10           0.55587\n",
       "Var1            0.55587\n",
       "Var12           0.22820\n",
       "Var35           0.18434"
      ]
     },
     "execution_count": 12,
     "metadata": {},
     "output_type": "execute_result"
    }
   ],
   "source": [
    "# Calculating coverage: \n",
    "# The column \"Coverage_nonNull\" (expressed as percentage) depicts how many non-null values are in the column. \n",
    "# This gives a sense of how well a particular variable covers our entire dataset. \n",
    "\n",
    "from pyspark.sql.functions import col, count, isnan, stddev, lit, sum\n",
    "\n",
    "coverage = train_sample_EDA.agg(*[\n",
    "    (count(c)/total_count).alias(c)    # vertical (column-wise) operations in SQL ignore NULLs\n",
    "    for c in train_sample_EDA.columns\n",
    "]).toPandas()\n",
    "\n",
    "coverage_summary = coverage.T\n",
    "coverage_summary.columns = ['Coverage_nonNull']\n",
    "coverage_summary.sort_values(by='Coverage_nonNull', ascending=False)"
   ]
  },
  {
   "cell_type": "markdown",
   "metadata": {},
   "source": [
    "## 3.2 Numerical Variables\n",
    "\n",
    "### 3.2.1 Basic Statistics\n",
    "* In Table 3.0, we calculate basic statistics to summarize our numerical variables: count of observations that have the variable, the mean of the variable, the standard deviation of the variable, and the min and max of the variable. \n",
    "    * We note that the range for each variable is different; although we do not know the exact definition of what each variable stands for, we can tell that the range of each variable can vary greatly, such as 0 to 6 for Var10 but 0 to 1,741,128 for Var5. \n",
    "    * Variable 2 has a minimum value of -2, which is odd given that the Kaggle criteo data description (https://www.kaggle.com/c/criteo-display-ad-challenge/data) specifically states that the numerical variables are mostly counts but there is no specification as to whether all numbers should be non-negative. This will be addressed in Section 3.4 on deciding how negative values are to be treated. "
   ]
  },
  {
   "cell_type": "code",
   "execution_count": 13,
   "metadata": {},
   "outputs": [
    {
     "data": {
      "text/html": [
       "<div>\n",
       "<style scoped>\n",
       "    .dataframe tbody tr th:only-of-type {\n",
       "        vertical-align: middle;\n",
       "    }\n",
       "\n",
       "    .dataframe tbody tr th {\n",
       "        vertical-align: top;\n",
       "    }\n",
       "\n",
       "    .dataframe thead th {\n",
       "        text-align: right;\n",
       "    }\n",
       "</style>\n",
       "<table border=\"1\" class=\"dataframe\">\n",
       "  <thead>\n",
       "    <tr style=\"text-align: right;\">\n",
       "      <th></th>\n",
       "      <th>0</th>\n",
       "      <th>1</th>\n",
       "      <th>2</th>\n",
       "      <th>3</th>\n",
       "      <th>4</th>\n",
       "    </tr>\n",
       "  </thead>\n",
       "  <tbody>\n",
       "    <tr>\n",
       "      <th>summary</th>\n",
       "      <td>count</td>\n",
       "      <td>mean</td>\n",
       "      <td>stddev</td>\n",
       "      <td>min</td>\n",
       "      <td>max</td>\n",
       "    </tr>\n",
       "    <tr>\n",
       "      <th>Var1</th>\n",
       "      <td>55587</td>\n",
       "      <td>3.7687229028369944</td>\n",
       "      <td>10.451208916328204</td>\n",
       "      <td>0</td>\n",
       "      <td>556</td>\n",
       "    </tr>\n",
       "    <tr>\n",
       "      <th>Var2</th>\n",
       "      <td>100000</td>\n",
       "      <td>112.86373</td>\n",
       "      <td>401.522635880915</td>\n",
       "      <td>-2</td>\n",
       "      <td>18522</td>\n",
       "    </tr>\n",
       "    <tr>\n",
       "      <th>Var3</th>\n",
       "      <td>80898</td>\n",
       "      <td>40.74491334767238</td>\n",
       "      <td>538.8188223812444</td>\n",
       "      <td>0</td>\n",
       "      <td>65535</td>\n",
       "    </tr>\n",
       "    <tr>\n",
       "      <th>Var4</th>\n",
       "      <td>80466</td>\n",
       "      <td>8.280317152586186</td>\n",
       "      <td>10.83633586305846</td>\n",
       "      <td>0</td>\n",
       "      <td>417</td>\n",
       "    </tr>\n",
       "    <tr>\n",
       "      <th>Var5</th>\n",
       "      <td>95240</td>\n",
       "      <td>17592.59940151197</td>\n",
       "      <td>65797.8980685818</td>\n",
       "      <td>0</td>\n",
       "      <td>1741128</td>\n",
       "    </tr>\n",
       "    <tr>\n",
       "      <th>Var6</th>\n",
       "      <td>74893</td>\n",
       "      <td>139.6850840532493</td>\n",
       "      <td>371.77609153232294</td>\n",
       "      <td>0</td>\n",
       "      <td>16290</td>\n",
       "    </tr>\n",
       "    <tr>\n",
       "      <th>Var7</th>\n",
       "      <td>95281</td>\n",
       "      <td>15.222090448253063</td>\n",
       "      <td>65.46048661579579</td>\n",
       "      <td>0</td>\n",
       "      <td>8807</td>\n",
       "    </tr>\n",
       "    <tr>\n",
       "      <th>Var8</th>\n",
       "      <td>99893</td>\n",
       "      <td>13.574825062817215</td>\n",
       "      <td>46.541592894521614</td>\n",
       "      <td>0</td>\n",
       "      <td>4677</td>\n",
       "    </tr>\n",
       "    <tr>\n",
       "      <th>Var9</th>\n",
       "      <td>95281</td>\n",
       "      <td>125.29490664455663</td>\n",
       "      <td>286.41568623846194</td>\n",
       "      <td>0</td>\n",
       "      <td>12661</td>\n",
       "    </tr>\n",
       "    <tr>\n",
       "      <th>Var10</th>\n",
       "      <td>55587</td>\n",
       "      <td>0.6201090182956447</td>\n",
       "      <td>0.6770553545626542</td>\n",
       "      <td>0</td>\n",
       "      <td>6</td>\n",
       "    </tr>\n",
       "    <tr>\n",
       "      <th>Var11</th>\n",
       "      <td>95281</td>\n",
       "      <td>2.4002686789601286</td>\n",
       "      <td>4.629926011637236</td>\n",
       "      <td>0</td>\n",
       "      <td>104</td>\n",
       "    </tr>\n",
       "    <tr>\n",
       "      <th>Var12</th>\n",
       "      <td>22820</td>\n",
       "      <td>0.9377738825591586</td>\n",
       "      <td>5.327668353607891</td>\n",
       "      <td>0</td>\n",
       "      <td>493</td>\n",
       "    </tr>\n",
       "    <tr>\n",
       "      <th>Var13</th>\n",
       "      <td>80466</td>\n",
       "      <td>11.60763552307807</td>\n",
       "      <td>52.04455598548969</td>\n",
       "      <td>0</td>\n",
       "      <td>6558</td>\n",
       "    </tr>\n",
       "  </tbody>\n",
       "</table>\n",
       "</div>"
      ],
      "text/plain": [
       "              0                   1                   2    3        4\n",
       "summary   count                mean              stddev  min      max\n",
       "Var1      55587  3.7687229028369944  10.451208916328204    0      556\n",
       "Var2     100000           112.86373    401.522635880915   -2    18522\n",
       "Var3      80898   40.74491334767238   538.8188223812444    0    65535\n",
       "Var4      80466   8.280317152586186   10.83633586305846    0      417\n",
       "Var5      95240   17592.59940151197    65797.8980685818    0  1741128\n",
       "Var6      74893   139.6850840532493  371.77609153232294    0    16290\n",
       "Var7      95281  15.222090448253063   65.46048661579579    0     8807\n",
       "Var8      99893  13.574825062817215  46.541592894521614    0     4677\n",
       "Var9      95281  125.29490664455663  286.41568623846194    0    12661\n",
       "Var10     55587  0.6201090182956447  0.6770553545626542    0        6\n",
       "Var11     95281  2.4002686789601286   4.629926011637236    0      104\n",
       "Var12     22820  0.9377738825591586   5.327668353607891    0      493\n",
       "Var13     80466   11.60763552307807   52.04455598548969    0     6558"
      ]
     },
     "execution_count": 13,
     "metadata": {},
     "output_type": "execute_result"
    }
   ],
   "source": [
    "########\n",
    "# Table 3.0: Basic statistics \n",
    "########\n",
    "numerical_cols = ['Var1','Var2','Var3','Var4','Var5','Var6','Var7',\\\n",
    "                  'Var8','Var9','Var10','Var11','Var12','Var13']\n",
    "numerical_stats = train_sample_EDA.describe(numerical_cols).toPandas()\n",
    "numerical_stats.T"
   ]
  },
  {
   "cell_type": "markdown",
   "metadata": {},
   "source": [
    "* Below in Table 3.1, we also calculated the mean, standard deviation, count, min, and max of each numerical variable grouped by the click through rate (CTR) target variable. \n",
    "    * From here, we made a rough guess-timate of the 95% confidence interval of the mean of the numerical variables to see if we could distinguish enough difference between observations that had a successful or unsuccessful click through on an ad. We realize that the distribution of the numerical variables were not exactly normal, but given the high number of observations, a 95% confidence interval by the form of $(\\mu - 1.96*\\frac{\\sigma}{n_{group}}, \\mu +1.96*\\frac{\\sigma}{n_{group}})$ should give a rough estimate of the group means and their standard deviations. \n",
    "    * We can see that most of numerical variables show quite some difference between their group means. The columns `lowerCI_CTR0`, `upperCI_CTR0` depict the lower and upper confidence interval bounds for the observations under CTR = 0, while the columns `lowerCI_CTR1`, `upperCI_CTR1` depict the lower and upper confidence interval bounds for the observations under CTR = 1. Most of the confidence intervals between the 2 groups do not overlap; there appears to be enough information in our numerical variables such that they should all be included into our model to distinguish the difference between CTR=0 or CTR=1 prediction. That being said, it should be noted that Var4, Var8, and Var10 have the closest confidence interval boundaries compared to the other columns, and it is possible that these 3 columns might have smaller explaining power compared to the other numerical variables. "
   ]
  },
  {
   "cell_type": "code",
   "execution_count": 13,
   "metadata": {},
   "outputs": [
    {
     "data": {
      "text/html": [
       "<div>\n",
       "<style scoped>\n",
       "    .dataframe tbody tr th:only-of-type {\n",
       "        vertical-align: middle;\n",
       "    }\n",
       "\n",
       "    .dataframe tbody tr th {\n",
       "        vertical-align: top;\n",
       "    }\n",
       "\n",
       "    .dataframe thead th {\n",
       "        text-align: right;\n",
       "    }\n",
       "</style>\n",
       "<table border=\"1\" class=\"dataframe\">\n",
       "  <thead>\n",
       "    <tr style=\"text-align: right;\">\n",
       "      <th></th>\n",
       "      <th>Column</th>\n",
       "      <th>avg_CTR0</th>\n",
       "      <th>avg_CTR1</th>\n",
       "      <th>std_CTR0</th>\n",
       "      <th>std_CTR1</th>\n",
       "      <th>min_CTR0</th>\n",
       "      <th>min_CTR1</th>\n",
       "      <th>max_CTR0</th>\n",
       "      <th>max_CTR1</th>\n",
       "      <th>count_CTR0</th>\n",
       "      <th>count_CTR1</th>\n",
       "      <th>lowerCI_CTR0</th>\n",
       "      <th>upperCI_CTR0</th>\n",
       "      <th>lowerCI_CTR1</th>\n",
       "      <th>upperCI_CTR1</th>\n",
       "    </tr>\n",
       "  </thead>\n",
       "  <tbody>\n",
       "    <tr>\n",
       "      <th>0</th>\n",
       "      <td>Var1</td>\n",
       "      <td>2.946473</td>\n",
       "      <td>4.790206</td>\n",
       "      <td>8.674151</td>\n",
       "      <td>10.868277</td>\n",
       "      <td>0</td>\n",
       "      <td>0</td>\n",
       "      <td>1575</td>\n",
       "      <td>908</td>\n",
       "      <td>860362</td>\n",
       "      <td>393000</td>\n",
       "      <td>2.928143</td>\n",
       "      <td>2.964802</td>\n",
       "      <td>4.756226</td>\n",
       "      <td>4.824186</td>\n",
       "    </tr>\n",
       "    <tr>\n",
       "      <th>1</th>\n",
       "      <td>Var2</td>\n",
       "      <td>95.612975</td>\n",
       "      <td>134.256090</td>\n",
       "      <td>361.190633</td>\n",
       "      <td>455.522574</td>\n",
       "      <td>-2</td>\n",
       "      <td>-2</td>\n",
       "      <td>19219</td>\n",
       "      <td>16956</td>\n",
       "      <td>1704204</td>\n",
       "      <td>587833</td>\n",
       "      <td>95.070685</td>\n",
       "      <td>96.155265</td>\n",
       "      <td>133.091591</td>\n",
       "      <td>135.420588</td>\n",
       "    </tr>\n",
       "    <tr>\n",
       "      <th>2</th>\n",
       "      <td>Var3</td>\n",
       "      <td>23.801411</td>\n",
       "      <td>37.103464</td>\n",
       "      <td>248.094061</td>\n",
       "      <td>689.683142</td>\n",
       "      <td>0</td>\n",
       "      <td>0</td>\n",
       "      <td>65535</td>\n",
       "      <td>65535</td>\n",
       "      <td>1362871</td>\n",
       "      <td>436847</td>\n",
       "      <td>23.384882</td>\n",
       "      <td>24.217940</td>\n",
       "      <td>35.058240</td>\n",
       "      <td>39.148689</td>\n",
       "    </tr>\n",
       "    <tr>\n",
       "      <th>3</th>\n",
       "      <td>Var4</td>\n",
       "      <td>7.601784</td>\n",
       "      <td>6.499002</td>\n",
       "      <td>9.112409</td>\n",
       "      <td>7.928093</td>\n",
       "      <td>0</td>\n",
       "      <td>0</td>\n",
       "      <td>969</td>\n",
       "      <td>295</td>\n",
       "      <td>1347666</td>\n",
       "      <td>446986</td>\n",
       "      <td>7.586399</td>\n",
       "      <td>7.617169</td>\n",
       "      <td>6.475760</td>\n",
       "      <td>6.522244</td>\n",
       "    </tr>\n",
       "    <tr>\n",
       "      <th>4</th>\n",
       "      <td>Var5</td>\n",
       "      <td>21823.328636</td>\n",
       "      <td>9209.995004</td>\n",
       "      <td>76456.296149</td>\n",
       "      <td>40591.419351</td>\n",
       "      <td>0</td>\n",
       "      <td>0</td>\n",
       "      <td>2634953</td>\n",
       "      <td>1906516</td>\n",
       "      <td>1650907</td>\n",
       "      <td>581921</td>\n",
       "      <td>21706.699242</td>\n",
       "      <td>21939.958031</td>\n",
       "      <td>9105.701252</td>\n",
       "      <td>9314.288757</td>\n",
       "    </tr>\n",
       "    <tr>\n",
       "      <th>5</th>\n",
       "      <td>Var6</td>\n",
       "      <td>136.768530</td>\n",
       "      <td>64.598590</td>\n",
       "      <td>377.688449</td>\n",
       "      <td>199.877834</td>\n",
       "      <td>0</td>\n",
       "      <td>0</td>\n",
       "      <td>66619</td>\n",
       "      <td>17917</td>\n",
       "      <td>1257313</td>\n",
       "      <td>522284</td>\n",
       "      <td>136.108342</td>\n",
       "      <td>137.428719</td>\n",
       "      <td>64.056505</td>\n",
       "      <td>65.140675</td>\n",
       "    </tr>\n",
       "    <tr>\n",
       "      <th>6</th>\n",
       "      <td>Var7</td>\n",
       "      <td>13.125326</td>\n",
       "      <td>25.870308</td>\n",
       "      <td>63.142022</td>\n",
       "      <td>88.273909</td>\n",
       "      <td>0</td>\n",
       "      <td>0</td>\n",
       "      <td>34536</td>\n",
       "      <td>11839</td>\n",
       "      <td>1619399</td>\n",
       "      <td>573737</td>\n",
       "      <td>13.028074</td>\n",
       "      <td>13.222577</td>\n",
       "      <td>25.641889</td>\n",
       "      <td>26.098727</td>\n",
       "    </tr>\n",
       "    <tr>\n",
       "      <th>7</th>\n",
       "      <td>Var8</td>\n",
       "      <td>12.799855</td>\n",
       "      <td>11.775066</td>\n",
       "      <td>18.047062</td>\n",
       "      <td>13.133923</td>\n",
       "      <td>0</td>\n",
       "      <td>0</td>\n",
       "      <td>4513</td>\n",
       "      <td>733</td>\n",
       "      <td>1703164</td>\n",
       "      <td>587718</td>\n",
       "      <td>12.772751</td>\n",
       "      <td>12.826959</td>\n",
       "      <td>11.741487</td>\n",
       "      <td>11.808644</td>\n",
       "    </tr>\n",
       "    <tr>\n",
       "      <th>8</th>\n",
       "      <td>Var9</td>\n",
       "      <td>103.372396</td>\n",
       "      <td>113.394268</td>\n",
       "      <td>214.584881</td>\n",
       "      <td>233.533582</td>\n",
       "      <td>0</td>\n",
       "      <td>0</td>\n",
       "      <td>18345</td>\n",
       "      <td>11996</td>\n",
       "      <td>1619399</td>\n",
       "      <td>573737</td>\n",
       "      <td>103.041890</td>\n",
       "      <td>103.702901</td>\n",
       "      <td>112.789973</td>\n",
       "      <td>113.998563</td>\n",
       "    </tr>\n",
       "    <tr>\n",
       "      <th>9</th>\n",
       "      <td>Var10</td>\n",
       "      <td>0.537784</td>\n",
       "      <td>0.793885</td>\n",
       "      <td>0.642230</td>\n",
       "      <td>0.739217</td>\n",
       "      <td>0</td>\n",
       "      <td>0</td>\n",
       "      <td>8</td>\n",
       "      <td>7</td>\n",
       "      <td>860362</td>\n",
       "      <td>393000</td>\n",
       "      <td>0.536427</td>\n",
       "      <td>0.539141</td>\n",
       "      <td>0.791574</td>\n",
       "      <td>0.796197</td>\n",
       "    </tr>\n",
       "    <tr>\n",
       "      <th>10</th>\n",
       "      <td>Var11</td>\n",
       "      <td>2.254756</td>\n",
       "      <td>4.102235</td>\n",
       "      <td>4.503326</td>\n",
       "      <td>6.689281</td>\n",
       "      <td>0</td>\n",
       "      <td>0</td>\n",
       "      <td>163</td>\n",
       "      <td>148</td>\n",
       "      <td>1619399</td>\n",
       "      <td>573737</td>\n",
       "      <td>2.247820</td>\n",
       "      <td>2.261692</td>\n",
       "      <td>4.084926</td>\n",
       "      <td>4.119544</td>\n",
       "    </tr>\n",
       "    <tr>\n",
       "      <th>11</th>\n",
       "      <td>Var12</td>\n",
       "      <td>0.685031</td>\n",
       "      <td>1.752763</td>\n",
       "      <td>5.412193</td>\n",
       "      <td>7.434564</td>\n",
       "      <td>0</td>\n",
       "      <td>0</td>\n",
       "      <td>1831</td>\n",
       "      <td>347</td>\n",
       "      <td>382777</td>\n",
       "      <td>154803</td>\n",
       "      <td>0.667885</td>\n",
       "      <td>0.702176</td>\n",
       "      <td>1.715727</td>\n",
       "      <td>1.789799</td>\n",
       "    </tr>\n",
       "    <tr>\n",
       "      <th>12</th>\n",
       "      <td>Var13</td>\n",
       "      <td>8.959959</td>\n",
       "      <td>5.977968</td>\n",
       "      <td>17.427552</td>\n",
       "      <td>9.466685</td>\n",
       "      <td>0</td>\n",
       "      <td>0</td>\n",
       "      <td>4317</td>\n",
       "      <td>629</td>\n",
       "      <td>1347666</td>\n",
       "      <td>446986</td>\n",
       "      <td>8.930535</td>\n",
       "      <td>8.989383</td>\n",
       "      <td>5.950215</td>\n",
       "      <td>6.005721</td>\n",
       "    </tr>\n",
       "  </tbody>\n",
       "</table>\n",
       "</div>"
      ],
      "text/plain": [
       "   Column      avg_CTR0     avg_CTR1      std_CTR0      std_CTR1  min_CTR0  \\\n",
       "0    Var1      2.946473     4.790206      8.674151     10.868277         0   \n",
       "1    Var2     95.612975   134.256090    361.190633    455.522574        -2   \n",
       "2    Var3     23.801411    37.103464    248.094061    689.683142         0   \n",
       "3    Var4      7.601784     6.499002      9.112409      7.928093         0   \n",
       "4    Var5  21823.328636  9209.995004  76456.296149  40591.419351         0   \n",
       "5    Var6    136.768530    64.598590    377.688449    199.877834         0   \n",
       "6    Var7     13.125326    25.870308     63.142022     88.273909         0   \n",
       "7    Var8     12.799855    11.775066     18.047062     13.133923         0   \n",
       "8    Var9    103.372396   113.394268    214.584881    233.533582         0   \n",
       "9   Var10      0.537784     0.793885      0.642230      0.739217         0   \n",
       "10  Var11      2.254756     4.102235      4.503326      6.689281         0   \n",
       "11  Var12      0.685031     1.752763      5.412193      7.434564         0   \n",
       "12  Var13      8.959959     5.977968     17.427552      9.466685         0   \n",
       "\n",
       "    min_CTR1  max_CTR0  max_CTR1  count_CTR0  count_CTR1  lowerCI_CTR0  \\\n",
       "0          0      1575       908      860362      393000      2.928143   \n",
       "1         -2     19219     16956     1704204      587833     95.070685   \n",
       "2          0     65535     65535     1362871      436847     23.384882   \n",
       "3          0       969       295     1347666      446986      7.586399   \n",
       "4          0   2634953   1906516     1650907      581921  21706.699242   \n",
       "5          0     66619     17917     1257313      522284    136.108342   \n",
       "6          0     34536     11839     1619399      573737     13.028074   \n",
       "7          0      4513       733     1703164      587718     12.772751   \n",
       "8          0     18345     11996     1619399      573737    103.041890   \n",
       "9          0         8         7      860362      393000      0.536427   \n",
       "10         0       163       148     1619399      573737      2.247820   \n",
       "11         0      1831       347      382777      154803      0.667885   \n",
       "12         0      4317       629     1347666      446986      8.930535   \n",
       "\n",
       "    upperCI_CTR0  lowerCI_CTR1  upperCI_CTR1  \n",
       "0       2.964802      4.756226      4.824186  \n",
       "1      96.155265    133.091591    135.420588  \n",
       "2      24.217940     35.058240     39.148689  \n",
       "3       7.617169      6.475760      6.522244  \n",
       "4   21939.958031   9105.701252   9314.288757  \n",
       "5     137.428719     64.056505     65.140675  \n",
       "6      13.222577     25.641889     26.098727  \n",
       "7      12.826959     11.741487     11.808644  \n",
       "8     103.702901    112.789973    113.998563  \n",
       "9       0.539141      0.791574      0.796197  \n",
       "10      2.261692      4.084926      4.119544  \n",
       "11      0.702176      1.715727      1.789799  \n",
       "12      8.989383      5.950215      6.005721  "
      ]
     },
     "execution_count": 13,
     "metadata": {},
     "output_type": "execute_result"
    }
   ],
   "source": [
    "##########\n",
    "# Table 3.1 Basic Statistics by Group (click through rate == 0 vs click through rate == 1) in each column. \n",
    "########## \n",
    "grouped_CTR0 = []\n",
    "grouped_CTR1 = []\n",
    "\n",
    "for p in range(0, len(numerical_cols)): \n",
    "    g1_avg, g0_avg=train_sample_EDA.groupBy('CTR').agg({numerical_cols[p]:\"avg\"}).collect()\n",
    "    g1_std, g0_std=train_sample_EDA.groupBy('CTR').agg({numerical_cols[p]:\"stddev\"}).collect()\n",
    "    g1_count, g0_count = train_sample_EDA.groupBy('CTR').agg({numerical_cols[p]:\"count\"}).collect()\n",
    "    g1_min, g0_min = train_sample_EDA.groupBy('CTR').agg({numerical_cols[p]:\"min\"}).collect()\n",
    "    g1_max, g0_max = train_sample_EDA.groupBy('CTR').agg({numerical_cols[p]:\"max\"}).collect()\n",
    "    grouped_CTR1.append({'Column': numerical_cols[p], 'avg_CTR1': g1_avg[1], 'std_CTR1': g1_std[1], \n",
    "                       'count_CTR1': g1_count[1], 'min_CTR1': g1_min[1], 'max_CTR1': g1_max[1]})\n",
    "    grouped_CTR0.append({'Column': numerical_cols[p], 'avg_CTR0': g0_avg[1], 'std_CTR0': g0_std[1],\n",
    "                       'count_CTR0': g0_count[1], 'min_CTR0': g0_min[1], 'max_CTR0': g0_max[1]})\n",
    "\n",
    "CTR0_df = pd.DataFrame(grouped_CTR0)\n",
    "CTR1_df = pd.DataFrame(grouped_CTR1)\n",
    "merged_group_agg = CTR0_df.merge(CTR1_df, how='left', on='Column')[['Column','avg_CTR0','avg_CTR1','std_CTR0','std_CTR1','min_CTR0','min_CTR1','max_CTR0','max_CTR1','count_CTR0','count_CTR1']]\n",
    "merged_group_agg['lowerCI_CTR0']=merged_group_agg['avg_CTR0']-((1.96)*(merged_group_agg['std_CTR0']/np.sqrt(merged_group_agg['count_CTR0'])))\n",
    "merged_group_agg['upperCI_CTR0']=merged_group_agg['avg_CTR0']+((1.96)*(merged_group_agg['std_CTR0']/np.sqrt(merged_group_agg['count_CTR0'])))\n",
    "merged_group_agg['lowerCI_CTR1']=merged_group_agg['avg_CTR1']-((1.96)*(merged_group_agg['std_CTR1']/np.sqrt(merged_group_agg['count_CTR1'])))\n",
    "merged_group_agg['upperCI_CTR1']=merged_group_agg['avg_CTR1']+((1.96)*(merged_group_agg['std_CTR1']/np.sqrt(merged_group_agg['count_CTR1'])))\n",
    "merged_group_agg"
   ]
  },
  {
   "cell_type": "markdown",
   "metadata": {},
   "source": [
    "### 3.2.2 Histograms \n",
    "* We also plot the histograms of each of the numerical variables to gain a sense of distribution. \n",
    "* We note that pretty much all of the numerical variables are skewed right; most of the observations generally are centered around the lower range of the values and the remaining higher values are tailed off to the right. \n",
    "* As the range of all variables varies widely across all variables, we plan to standardize the numerical variables by demeaning and dividing by the standard deviation such that not one variable overpowers over the other numerical variables solely due to scale. "
   ]
  },
  {
   "cell_type": "code",
   "execution_count": 14,
   "metadata": {},
   "outputs": [
    {
     "data": {
      "image/png": "[encoded data removed]",
      "text/plain": [
       "<Figure size 1440x720 with 14 Axes>"
      ]
     },
     "metadata": {
      "needs_background": "light"
     },
     "output_type": "display_data"
    }
   ],
   "source": [
    "########\n",
    "# Histogram of numerical variables \n",
    "########\n",
    "# Note that the last chart is empty as we only have 13 numerical variables. \n",
    "import seaborn as sns\n",
    "\n",
    "%matplotlib inline \n",
    "numerical_cols = ['Var1','Var2','Var3','Var4','Var5','Var6','Var7',\\\n",
    "                  'Var8','Var9','Var10','Var11','Var12','Var13']\n",
    "\n",
    "fig, axs = plt.subplots(2,7, figsize=(20,10))\n",
    "axs = axs.ravel()\n",
    "for p in range(0,len(numerical_cols)): \n",
    "    list_values = train_sample_EDA.select(numerical_cols[p]).rdd.flatMap(lambda x: x).collect()\n",
    "    cleaned_list = [x for x in list_values if x is not None]\n",
    "    axs[p].hist(cleaned_list, bins=20, density=True)\n",
    "    axs[p].set_title(numerical_cols[p])"
   ]
  },
  {
   "cell_type": "markdown",
   "metadata": {},
   "source": [
    "## 3.3 Categorical Variables and Cardinality"
   ]
  },
  {
   "cell_type": "markdown",
   "metadata": {},
   "source": [
    "* There are a total of 26 categorical columns that are also included within this dataset. \n",
    "* In Table 3.2, we immediately notice the high dimensionality when we take note of the number of distinct values in each categorical column. Some (ex: Var33 and Var22) have fewer than 5 distinct values while others (ex: Var16 and Var25) have over 10,000 distinct values. We explore our methods of preprocessing and reducing dimensionality in Section 4. "
   ]
  },
  {
   "cell_type": "code",
   "execution_count": 15,
   "metadata": {},
   "outputs": [
    {
     "data": {
      "text/html": [
       "<div>\n",
       "<style scoped>\n",
       "    .dataframe tbody tr th:only-of-type {\n",
       "        vertical-align: middle;\n",
       "    }\n",
       "\n",
       "    .dataframe tbody tr th {\n",
       "        vertical-align: top;\n",
       "    }\n",
       "\n",
       "    .dataframe thead th {\n",
       "        text-align: right;\n",
       "    }\n",
       "</style>\n",
       "<table border=\"1\" class=\"dataframe\">\n",
       "  <thead>\n",
       "    <tr style=\"text-align: right;\">\n",
       "      <th></th>\n",
       "      <th>Column</th>\n",
       "      <th>count_distinct</th>\n",
       "    </tr>\n",
       "  </thead>\n",
       "  <tbody>\n",
       "    <tr>\n",
       "      <th>2</th>\n",
       "      <td>Var16</td>\n",
       "      <td>43870</td>\n",
       "    </tr>\n",
       "    <tr>\n",
       "      <th>11</th>\n",
       "      <td>Var25</td>\n",
       "      <td>41312</td>\n",
       "    </tr>\n",
       "    <tr>\n",
       "      <th>20</th>\n",
       "      <td>Var34</td>\n",
       "      <td>38618</td>\n",
       "    </tr>\n",
       "    <tr>\n",
       "      <th>15</th>\n",
       "      <td>Var29</td>\n",
       "      <td>34617</td>\n",
       "    </tr>\n",
       "    <tr>\n",
       "      <th>3</th>\n",
       "      <td>Var17</td>\n",
       "      <td>25184</td>\n",
       "    </tr>\n",
       "    <tr>\n",
       "      <th>23</th>\n",
       "      <td>Var37</td>\n",
       "      <td>12335</td>\n",
       "    </tr>\n",
       "    <tr>\n",
       "      <th>9</th>\n",
       "      <td>Var23</td>\n",
       "      <td>10997</td>\n",
       "    </tr>\n",
       "    <tr>\n",
       "      <th>25</th>\n",
       "      <td>Var39</td>\n",
       "      <td>9527</td>\n",
       "    </tr>\n",
       "    <tr>\n",
       "      <th>6</th>\n",
       "      <td>Var20</td>\n",
       "      <td>7623</td>\n",
       "    </tr>\n",
       "    <tr>\n",
       "      <th>14</th>\n",
       "      <td>Var28</td>\n",
       "      <td>5238</td>\n",
       "    </tr>\n",
       "    <tr>\n",
       "      <th>10</th>\n",
       "      <td>Var24</td>\n",
       "      <td>3799</td>\n",
       "    </tr>\n",
       "    <tr>\n",
       "      <th>12</th>\n",
       "      <td>Var26</td>\n",
       "      <td>2796</td>\n",
       "    </tr>\n",
       "    <tr>\n",
       "      <th>17</th>\n",
       "      <td>Var31</td>\n",
       "      <td>2548</td>\n",
       "    </tr>\n",
       "    <tr>\n",
       "      <th>18</th>\n",
       "      <td>Var32</td>\n",
       "      <td>1303</td>\n",
       "    </tr>\n",
       "    <tr>\n",
       "      <th>0</th>\n",
       "      <td>Var14</td>\n",
       "      <td>541</td>\n",
       "    </tr>\n",
       "    <tr>\n",
       "      <th>1</th>\n",
       "      <td>Var15</td>\n",
       "      <td>497</td>\n",
       "    </tr>\n",
       "    <tr>\n",
       "      <th>7</th>\n",
       "      <td>Var21</td>\n",
       "      <td>257</td>\n",
       "    </tr>\n",
       "    <tr>\n",
       "      <th>4</th>\n",
       "      <td>Var18</td>\n",
       "      <td>145</td>\n",
       "    </tr>\n",
       "    <tr>\n",
       "      <th>24</th>\n",
       "      <td>Var38</td>\n",
       "      <td>51</td>\n",
       "    </tr>\n",
       "    <tr>\n",
       "      <th>13</th>\n",
       "      <td>Var27</td>\n",
       "      <td>26</td>\n",
       "    </tr>\n",
       "    <tr>\n",
       "      <th>22</th>\n",
       "      <td>Var36</td>\n",
       "      <td>14</td>\n",
       "    </tr>\n",
       "    <tr>\n",
       "      <th>5</th>\n",
       "      <td>Var19</td>\n",
       "      <td>12</td>\n",
       "    </tr>\n",
       "    <tr>\n",
       "      <th>21</th>\n",
       "      <td>Var35</td>\n",
       "      <td>11</td>\n",
       "    </tr>\n",
       "    <tr>\n",
       "      <th>16</th>\n",
       "      <td>Var30</td>\n",
       "      <td>10</td>\n",
       "    </tr>\n",
       "    <tr>\n",
       "      <th>19</th>\n",
       "      <td>Var33</td>\n",
       "      <td>4</td>\n",
       "    </tr>\n",
       "    <tr>\n",
       "      <th>8</th>\n",
       "      <td>Var22</td>\n",
       "      <td>3</td>\n",
       "    </tr>\n",
       "  </tbody>\n",
       "</table>\n",
       "</div>"
      ],
      "text/plain": [
       "   Column  count_distinct\n",
       "2   Var16           43870\n",
       "11  Var25           41312\n",
       "20  Var34           38618\n",
       "15  Var29           34617\n",
       "3   Var17           25184\n",
       "23  Var37           12335\n",
       "9   Var23           10997\n",
       "25  Var39            9527\n",
       "6   Var20            7623\n",
       "14  Var28            5238\n",
       "10  Var24            3799\n",
       "12  Var26            2796\n",
       "17  Var31            2548\n",
       "18  Var32            1303\n",
       "0   Var14             541\n",
       "1   Var15             497\n",
       "7   Var21             257\n",
       "4   Var18             145\n",
       "24  Var38              51\n",
       "13  Var27              26\n",
       "22  Var36              14\n",
       "5   Var19              12\n",
       "21  Var35              11\n",
       "16  Var30              10\n",
       "19  Var33               4\n",
       "8   Var22               3"
      ]
     },
     "execution_count": 15,
     "metadata": {},
     "output_type": "execute_result"
    }
   ],
   "source": [
    "categorical_cols = ['Var14','Var15','Var16','Var17','Var18','Var19','Var20','Var21','Var22',\n",
    "                    'Var23','Var24','Var25','Var26','Var27','Var28','Var29','Var30','Var31',\n",
    "                   'Var32','Var33','Var34','Var35','Var36','Var37','Var38','Var39']\n",
    "\n",
    "###########\n",
    "# Table 3.2: Count distinct values in each categorical column \n",
    "###########\n",
    "distinct_temp = []\n",
    "for column in categorical_cols: \n",
    "    distinct_temp.append({'Column':column, 'count_distinct': train_sample_EDA.select(column).distinct().count()})\n",
    "    \n",
    "distinct_df = pd.DataFrame(distinct_temp)\n",
    "distinct_df.sort_values(by='count_distinct', ascending=False)"
   ]
  },
  {
   "cell_type": "markdown",
   "metadata": {},
   "source": [
    "Given the high dimensionality of our categorical columns if we were to one hot encode so many categorical features, we wanted to know if there were certain values within the categorical variables that were more common than others, and thus would be more predictive of the final click through rate label of 1 or 0. \n",
    "* It is likely that certain values of a categorical column may be rare and therefore may not contribute much predictive power. If we were to tally up the counts of each distinct value in a categorical column (split by CTR group, or CTR == 0 vs CTR == 1) and calculate a cumulative summation of the number of observations observed per distinct value, we could distinguish just how many of the individual values within a categorical variable can cover the majority of the dataset. By further breaking down the top most frequent values in each CTR == 0 and CTR == 1 group, we can also observe which values are more telling of whether an ad will be clicked on or not. \n",
    "    * It should be noted that we defined 'majority' here as 95% of the observations within each group (CTR==0, CTR==1). \n",
    "* Furthermore, we would like to observe a sense of \"correlation\" between the labelled variable (CTR == 0, CTR==1) and our categorical features to see if there is any sort of association between the two variables. Pearson's Correlation unfortunately will not suffice, as we would be comparing a categorical variable (with no particular ordering) against a binary output variable that simply labels a successful/unsuccessful ad click. \n",
    "    * One particular workaround is the Cramer's V statistic (https://en.wikipedia.org/wiki/Cram%C3%A9r%27s_V): Based on the chi-squared statistic, Cramer's V is a measure of association between two nominal variables and gives an output number between 0 and 1 to quantify the strength of the association between two nominal variables. We therefore calculate Cramer's V statistic between successful/unsuccessful ad clicks (CTR==0, CTR==1) against the categorical values in each column to measure (if any) the strength of association between the two variables. "
   ]
  },
  {
   "cell_type": "code",
   "execution_count": 16,
   "metadata": {},
   "outputs": [],
   "source": [
    "##########\n",
    "# Cumulative Summation \n",
    "# Intent: In each column, we want to know which values contribute the most in terms of frequency for CTR=1. \n",
    "##########\n",
    "\n",
    "from pyspark.sql.functions import col, desc\n",
    "from pyspark.sql import window\n",
    "from pyspark.sql import functions as F\n",
    "\n",
    "count_1 = train_sample_EDA.filter(col(\"CTR\")==1).count()\n",
    "count_0 = train_sample_EDA.filter(col(\"CTR\")==0).count()\n",
    "\n",
    "# Set aside a subset \n",
    "subset_CTR1=train_sample_EDA.filter(col(\"CTR\")==1)[categorical_cols]\n",
    "subset_CTR0=train_sample_EDA.filter(col(\"CTR\")==0)[categorical_cols]\n",
    "\n",
    "win_spec = (window.Window\n",
    "                  .partitionBy()\n",
    "                  .rowsBetween(window.Window.unboundedPreceding, 0))\n",
    "\n",
    "top_cumsum_ctr1 = []\n",
    "all_cumsum_ctr1 = []\n",
    "top_cumsum_ctr0 = []\n",
    "all_cumsum_ctr0 = []\n",
    "summary_cumsum = []\n",
    "\n",
    "for col in categorical_cols:\n",
    "    # --- Calculate cumulative summation for CTR==1 \n",
    "    tempdf = subset_CTR1.groupBy([col]).count().sort(desc('count')).cache()\n",
    "    tempdf = tempdf.withColumn('count_frequ', tempdf['count']/count_1).cache()\n",
    "    tempdf = tempdf.withColumn('cumsum',F.sum(tempdf.count_frequ).over(win_spec))\n",
    "    all_cumsum_ctr1.append(tempdf)\n",
    "    temp_pd_CTR1 = tempdf.where(tempdf.cumsum<=0.95).toPandas()\n",
    "    top_cumsum_ctr1.append(temp_pd_CTR1)\n",
    "    \n",
    "    # --- Calculate cumulative summation for CTR==0 \n",
    "    tempdf = subset_CTR0.groupBy([col]).count().sort(desc('count')).cache()\n",
    "    tempdf = tempdf.withColumn('count_frequ', tempdf['count']/count_0).cache()\n",
    "    tempdf = tempdf.withColumn('cumsum',F.sum(tempdf.count_frequ).over(win_spec))\n",
    "    all_cumsum_ctr0.append(tempdf)\n",
    "    temp_pd_CTR0 = tempdf.where(tempdf.cumsum<=0.95).toPandas()\n",
    "    top_cumsum_ctr0.append(temp_pd_CTR0)\n",
    "    \n",
    "    # Summary stats: \n",
    "    # For each column: count up the number of distinct values that are needed to cover 95% of the observations in each group\n",
    "    summary_cumsum.append({'Column': col, 'top_freq_CTR0_count': len(temp_pd_CTR0), 'top_freq_CTR1_count': len(temp_pd_CTR1)})\n",
    "\n",
    "summary_cumsum_df = pd.DataFrame(summary_cumsum)\n",
    "\n",
    "############\n",
    "# Save the top values for each CTR group out for each categorical column \n",
    "# DO NOT run this part of the code unless you want to save out the individual CSVs. \n",
    "# These CSVs can be used for broadcasting later on. \n",
    "############ \n",
    "\n",
    "#for i in range(0, 26): \n",
    "#    filename = 'CTR0_'+str(categorical_cols[i])+'.csv'\n",
    "#    all_cumsum_ctr0[i].toPandas().to_csv(filename, index=False)\n",
    "#    filename = 'CTR1_'+str(categorical_cols[i])+'.csv'\n",
    "#    all_cumsum_ctr1[i].toPandas().to_csv(filename, index=False)"
   ]
  },
  {
   "cell_type": "code",
   "execution_count": 17,
   "metadata": {},
   "outputs": [
    {
     "data": {
      "text/html": [
       "<div>\n",
       "<style scoped>\n",
       "    .dataframe tbody tr th:only-of-type {\n",
       "        vertical-align: middle;\n",
       "    }\n",
       "\n",
       "    .dataframe tbody tr th {\n",
       "        vertical-align: top;\n",
       "    }\n",
       "\n",
       "    .dataframe thead th {\n",
       "        text-align: right;\n",
       "    }\n",
       "</style>\n",
       "<table border=\"1\" class=\"dataframe\">\n",
       "  <thead>\n",
       "    <tr style=\"text-align: right;\">\n",
       "      <th></th>\n",
       "      <th>Column</th>\n",
       "      <th>top_freq_CTR0_count</th>\n",
       "      <th>top_freq_CTR1_count</th>\n",
       "    </tr>\n",
       "  </thead>\n",
       "  <tbody>\n",
       "    <tr>\n",
       "      <th>0</th>\n",
       "      <td>Var14</td>\n",
       "      <td>18</td>\n",
       "      <td>18</td>\n",
       "    </tr>\n",
       "    <tr>\n",
       "      <th>1</th>\n",
       "      <td>Var15</td>\n",
       "      <td>185</td>\n",
       "      <td>178</td>\n",
       "    </tr>\n",
       "    <tr>\n",
       "      <th>2</th>\n",
       "      <td>Var16</td>\n",
       "      <td>30314</td>\n",
       "      <td>11370</td>\n",
       "    </tr>\n",
       "    <tr>\n",
       "      <th>3</th>\n",
       "      <td>Var17</td>\n",
       "      <td>16671</td>\n",
       "      <td>6950</td>\n",
       "    </tr>\n",
       "    <tr>\n",
       "      <th>4</th>\n",
       "      <td>Var18</td>\n",
       "      <td>5</td>\n",
       "      <td>5</td>\n",
       "    </tr>\n",
       "    <tr>\n",
       "      <th>5</th>\n",
       "      <td>Var19</td>\n",
       "      <td>4</td>\n",
       "      <td>5</td>\n",
       "    </tr>\n",
       "    <tr>\n",
       "      <th>6</th>\n",
       "      <td>Var20</td>\n",
       "      <td>4350</td>\n",
       "      <td>3125</td>\n",
       "    </tr>\n",
       "    <tr>\n",
       "      <th>7</th>\n",
       "      <td>Var21</td>\n",
       "      <td>8</td>\n",
       "      <td>9</td>\n",
       "    </tr>\n",
       "    <tr>\n",
       "      <th>8</th>\n",
       "      <td>Var22</td>\n",
       "      <td>1</td>\n",
       "      <td>1</td>\n",
       "    </tr>\n",
       "    <tr>\n",
       "      <th>9</th>\n",
       "      <td>Var23</td>\n",
       "      <td>5866</td>\n",
       "      <td>3702</td>\n",
       "    </tr>\n",
       "    <tr>\n",
       "      <th>10</th>\n",
       "      <td>Var24</td>\n",
       "      <td>2000</td>\n",
       "      <td>1534</td>\n",
       "    </tr>\n",
       "    <tr>\n",
       "      <th>11</th>\n",
       "      <td>Var25</td>\n",
       "      <td>28315</td>\n",
       "      <td>10844</td>\n",
       "    </tr>\n",
       "    <tr>\n",
       "      <th>12</th>\n",
       "      <td>Var26</td>\n",
       "      <td>1494</td>\n",
       "      <td>1191</td>\n",
       "    </tr>\n",
       "    <tr>\n",
       "      <th>13</th>\n",
       "      <td>Var27</td>\n",
       "      <td>6</td>\n",
       "      <td>5</td>\n",
       "    </tr>\n",
       "    <tr>\n",
       "      <th>14</th>\n",
       "      <td>Var28</td>\n",
       "      <td>2135</td>\n",
       "      <td>1826</td>\n",
       "    </tr>\n",
       "    <tr>\n",
       "      <th>15</th>\n",
       "      <td>Var29</td>\n",
       "      <td>23274</td>\n",
       "      <td>9441</td>\n",
       "    </tr>\n",
       "    <tr>\n",
       "      <th>16</th>\n",
       "      <td>Var30</td>\n",
       "      <td>7</td>\n",
       "      <td>6</td>\n",
       "    </tr>\n",
       "    <tr>\n",
       "      <th>17</th>\n",
       "      <td>Var31</td>\n",
       "      <td>795</td>\n",
       "      <td>811</td>\n",
       "    </tr>\n",
       "    <tr>\n",
       "      <th>18</th>\n",
       "      <td>Var32</td>\n",
       "      <td>188</td>\n",
       "      <td>206</td>\n",
       "    </tr>\n",
       "    <tr>\n",
       "      <th>19</th>\n",
       "      <td>Var33</td>\n",
       "      <td>3</td>\n",
       "      <td>3</td>\n",
       "    </tr>\n",
       "    <tr>\n",
       "      <th>20</th>\n",
       "      <td>Var34</td>\n",
       "      <td>26336</td>\n",
       "      <td>10208</td>\n",
       "    </tr>\n",
       "    <tr>\n",
       "      <th>21</th>\n",
       "      <td>Var35</td>\n",
       "      <td>2</td>\n",
       "      <td>2</td>\n",
       "    </tr>\n",
       "    <tr>\n",
       "      <th>22</th>\n",
       "      <td>Var36</td>\n",
       "      <td>6</td>\n",
       "      <td>6</td>\n",
       "    </tr>\n",
       "    <tr>\n",
       "      <th>23</th>\n",
       "      <td>Var37</td>\n",
       "      <td>6635</td>\n",
       "      <td>3449</td>\n",
       "    </tr>\n",
       "    <tr>\n",
       "      <th>24</th>\n",
       "      <td>Var38</td>\n",
       "      <td>11</td>\n",
       "      <td>12</td>\n",
       "    </tr>\n",
       "    <tr>\n",
       "      <th>25</th>\n",
       "      <td>Var39</td>\n",
       "      <td>4198</td>\n",
       "      <td>2478</td>\n",
       "    </tr>\n",
       "  </tbody>\n",
       "</table>\n",
       "</div>"
      ],
      "text/plain": [
       "   Column  top_freq_CTR0_count  top_freq_CTR1_count\n",
       "0   Var14                   18                   18\n",
       "1   Var15                  185                  178\n",
       "2   Var16                30314                11370\n",
       "3   Var17                16671                 6950\n",
       "4   Var18                    5                    5\n",
       "5   Var19                    4                    5\n",
       "6   Var20                 4350                 3125\n",
       "7   Var21                    8                    9\n",
       "8   Var22                    1                    1\n",
       "9   Var23                 5866                 3702\n",
       "10  Var24                 2000                 1534\n",
       "11  Var25                28315                10844\n",
       "12  Var26                 1494                 1191\n",
       "13  Var27                    6                    5\n",
       "14  Var28                 2135                 1826\n",
       "15  Var29                23274                 9441\n",
       "16  Var30                    7                    6\n",
       "17  Var31                  795                  811\n",
       "18  Var32                  188                  206\n",
       "19  Var33                    3                    3\n",
       "20  Var34                26336                10208\n",
       "21  Var35                    2                    2\n",
       "22  Var36                    6                    6\n",
       "23  Var37                 6635                 3449\n",
       "24  Var38                   11                   12\n",
       "25  Var39                 4198                 2478"
      ]
     },
     "execution_count": 17,
     "metadata": {},
     "output_type": "execute_result"
    }
   ],
   "source": [
    "summary_cumsum_df"
   ]
  },
  {
   "cell_type": "code",
   "execution_count": 18,
   "metadata": {},
   "outputs": [],
   "source": [
    "######\n",
    "# Cramer's V \n",
    "###### \n",
    "\n",
    "# Cramer's Value \n",
    "# referenced from https://stackoverflow.com/questions/20892799/using-pandas-calculate-cram%C3%A9rs-coefficient-matrix\n",
    "# and https://en.wikipedia.org/wiki/Cram%C3%A9r%27s_V\n",
    "\n",
    "def cramers_corrected_stat(confusion_matrix): \n",
    "    \"\"\"\n",
    "    This function calculates the Cramer's coefficient matrix given a contingency table. \n",
    "    It has been discussed before that cramer's V can be over-optimistic in estimating association between between categories. \n",
    "    Therefore, a correction for bias has been implemented in this function as well. \n",
    "    \"\"\"\n",
    "    # --- get total n \n",
    "    n = np.nansum(confusion_matrix.sum()) \n",
    "    \n",
    "    # --- get r,k (shape), where r = number of rows, k = number of columns \n",
    "    r,k = confusion_matrix.shape \n",
    "    \n",
    "    # --- get chi-2 statistic\n",
    "    chi2 = 0\n",
    "    row_sums = confusion_matrix.sum(axis=1) \n",
    "    col_sums = confusion_matrix.sum(axis=0) \n",
    "    for index, row in confusion_matrix.iterrows(): \n",
    "        # index will denote the row number \n",
    "        for col in confusion_matrix.columns: # iterate across rows \n",
    "            chi2+=((row[col]-(row_sums[index]*col_sums[col]/n))**2)/(row_sums[index]*col_sums[col]/n)\n",
    "    # --- get phi2 \n",
    "    phi2 = chi2/n \n",
    "    phi2corr = max(0, phi2 - ((k-1)*(r-1))/(n-1)) \n",
    "    rcorr = r - ((r-1)**2)/(n-1)\n",
    "    kcorr = k - ((k-1)**2)/(n-1)\n",
    "    return np.sqrt(phi2corr / min( (kcorr-1), (rcorr-1)))\n",
    "\n",
    "all_categorical_columns = ['Var14','Var15','Var16','Var17','Var18','Var19','Var20',\\\n",
    "                           'Var21','Var22','Var23','Var24','Var25','Var26','Var27',\\\n",
    "                           'Var28','Var29','Var30','Var31','Var32','Var33','Var34',\\\n",
    "                           'Var35','Var36','Var37','Var38','Var39']\n",
    "\n",
    "def calculate_adj_cramersV_allcolumns(columns, rdd_obj): \n",
    "    \"\"\"\n",
    "    This function will apply Cramer's value function (cramers_corrected_stat) \n",
    "    onto the values of categorical columns in the RDD. \n",
    "    \"\"\"\n",
    "    cramers_df = []\n",
    "    for c in columns: \n",
    "        # --- make contingency table \n",
    "        contingency = rdd_obj.map(lambda x: ((x['CTR'],x[c]),1)) \\\n",
    "            .reduceByKey(lambda x,y: x+y) \\\n",
    "            .map(lambda x: ((x[0][0],x[0][1]),x[1])).collect()\n",
    "        \n",
    "        # --- Unwrap contingency mapped output \n",
    "        unwrapped_df = pd.DataFrame([[contingency[i][0][0], contingency[i][0][1], \\\n",
    "                                    contingency[i][1]] for i in range(0, len(contingency))], \\\n",
    "                                    columns = ['ctr','category','count'])\\\n",
    "                                    .sort_values(by=['category','ctr']).reset_index(drop=True)\n",
    "        \n",
    "        # --- Make contingency table \n",
    "        matr_obj = pd.DataFrame(0, columns = unwrapped_df['category']\\\n",
    "                                .drop_duplicates().values, index = unwrapped_df['ctr']\\\n",
    "                                .drop_duplicates().values)\n",
    "        for index, row in unwrapped_df.iterrows(): \n",
    "            matr_obj.at[row['ctr'], row['category']]=row['count']\n",
    "        \n",
    "        # --- Calculate Cramer's V (adjusted) \n",
    "        cramersV_value = cramers_corrected_stat(matr_obj)\n",
    "        cramers_df.append({'column': c, 'cramersvalue': cramersV_value})\n",
    "    return(cramers_df)\n",
    "\n",
    "data_rdd = train_sample_EDA.rdd\n",
    "\n",
    "all_categorical_columns = ['Var14','Var15','Var16','Var17','Var18','Var19','Var20',\n",
    "                           'Var21','Var22','Var23','Var24','Var25','Var26','Var27',\n",
    "                           'Var28','Var29','Var30','Var31','Var32','Var33','Var34',\n",
    "                           'Var35','Var36','Var37','Var38','Var39']\n",
    "\n",
    "cramers_results = pd.DataFrame(calculate_adj_cramersV_allcolumns(all_categorical_columns, data_rdd))\\\n",
    "                    .reset_index(drop=True)\n",
    "cramers_results.columns=['Column','cramersvalue']"
   ]
  },
  {
   "cell_type": "markdown",
   "metadata": {},
   "source": [
    "We therefore combine all of our summary statistics together. In table 3.3, for each categorical variable, we provide the \n",
    "* number of distinct values (`count_distinct`)\n",
    "* number of categorical values that cover 95% of the observations in each labelled group (CTR==0 in `top_freq_CTR0_count` and CTR==1 in `top_freq_CTR1_count`). \n",
    "* percentage of observations in the categorical column that are not null (`Coverage_nonNull`). \n",
    "* Cramer's Value between the categorical column and labelled CTR variable (`Cramersvalue`). \n",
    "\n",
    "When sorted, we note a few things: \n",
    "* In general, it looks like columns with a lower number of distinct values tend to also have lower Cramer's coefficient with our labelled CTR variable. On the opposite end, it seems like columns with a higher number of distinct values tend to have more association with the labelled CTR variable. \n",
    "* For almost all of the categorical columns, we can see that there are fewer features that cover the majority of observations for CTR = 1 than CTR = 0. \n",
    "    * For example: For column Var25, we observe that there are 10844 categorical values (26% of all distinct values in Var25) that cover 95% or more of the observations that have a label of CTR = 1. In contrast, we see that there are 28315 categorical values (68% of all distinct values in Var25) that cover 95% or more of the observations that have a label of CTR = 0. \n",
    "    * This leads to our discussion of frequency-based reduction in dimensionality in Section 4.1.1, as it looks likely that not all individual values are needed within a column to provide prediction power. "
   ]
  },
  {
   "cell_type": "code",
   "execution_count": 35,
   "metadata": {},
   "outputs": [],
   "source": [
    "#######\n",
    "# Combine summary statistics together for all categorical data \n",
    "####### \n",
    "\n",
    "# (1) Merge distinct counts of values for each column against the cumulative summations \n",
    "ver1 = distinct_df.merge(summary_cumsum_df, how='left', on='Column')\n",
    "\n",
    "# (2) Merge output from (1) against percentage of non-null values for each categorical column. \n",
    "coverage_tomerge = pd.DataFrame([list(coverage_summary.index.values), list(coverage_summary['Coverage_nonNull'].values)]).T\n",
    "coverage_tomerge.columns=['Column','Coverage_nonNull']\n",
    "ver2 = ver1.merge(coverage_tomerge, how='left', on='Column')\n",
    "\n",
    "# (3) Merge output from (2) against the Cramer's coefficient results \n",
    "categorical_combined_df = ver2.merge(cramers_results, how='left', on='Column')"
   ]
  },
  {
   "cell_type": "code",
   "execution_count": 37,
   "metadata": {},
   "outputs": [
    {
     "data": {
      "text/html": [
       "<div>\n",
       "<style scoped>\n",
       "    .dataframe tbody tr th:only-of-type {\n",
       "        vertical-align: middle;\n",
       "    }\n",
       "\n",
       "    .dataframe tbody tr th {\n",
       "        vertical-align: top;\n",
       "    }\n",
       "\n",
       "    .dataframe thead th {\n",
       "        text-align: right;\n",
       "    }\n",
       "</style>\n",
       "<table border=\"1\" class=\"dataframe\">\n",
       "  <thead>\n",
       "    <tr style=\"text-align: right;\">\n",
       "      <th></th>\n",
       "      <th>Column</th>\n",
       "      <th>count_distinct</th>\n",
       "      <th>top_freq_CTR0_count</th>\n",
       "      <th>top_freq_CTR1_count</th>\n",
       "      <th>Coverage_nonNull</th>\n",
       "      <th>cramersvalue</th>\n",
       "      <th>pct_topfreq_CTR0</th>\n",
       "      <th>pct_topfreq_CTR1</th>\n",
       "    </tr>\n",
       "  </thead>\n",
       "  <tbody>\n",
       "    <tr>\n",
       "      <th>15</th>\n",
       "      <td>Var29</td>\n",
       "      <td>34617</td>\n",
       "      <td>23274</td>\n",
       "      <td>9441</td>\n",
       "      <td>0.96065</td>\n",
       "      <td>0.315933</td>\n",
       "      <td>0.672329</td>\n",
       "      <td>0.272727</td>\n",
       "    </tr>\n",
       "    <tr>\n",
       "      <th>11</th>\n",
       "      <td>Var25</td>\n",
       "      <td>41312</td>\n",
       "      <td>28315</td>\n",
       "      <td>10844</td>\n",
       "      <td>0.96065</td>\n",
       "      <td>0.312090</td>\n",
       "      <td>0.685394</td>\n",
       "      <td>0.262490</td>\n",
       "    </tr>\n",
       "    <tr>\n",
       "      <th>20</th>\n",
       "      <td>Var34</td>\n",
       "      <td>38618</td>\n",
       "      <td>26336</td>\n",
       "      <td>10208</td>\n",
       "      <td>0.96065</td>\n",
       "      <td>0.310233</td>\n",
       "      <td>0.681962</td>\n",
       "      <td>0.264333</td>\n",
       "    </tr>\n",
       "    <tr>\n",
       "      <th>2</th>\n",
       "      <td>Var16</td>\n",
       "      <td>43870</td>\n",
       "      <td>30314</td>\n",
       "      <td>11370</td>\n",
       "      <td>0.96065</td>\n",
       "      <td>0.307947</td>\n",
       "      <td>0.690996</td>\n",
       "      <td>0.259175</td>\n",
       "    </tr>\n",
       "    <tr>\n",
       "      <th>3</th>\n",
       "      <td>Var17</td>\n",
       "      <td>25184</td>\n",
       "      <td>16671</td>\n",
       "      <td>6950</td>\n",
       "      <td>0.96065</td>\n",
       "      <td>0.299285</td>\n",
       "      <td>0.661968</td>\n",
       "      <td>0.275969</td>\n",
       "    </tr>\n",
       "    <tr>\n",
       "      <th>14</th>\n",
       "      <td>Var28</td>\n",
       "      <td>5238</td>\n",
       "      <td>2135</td>\n",
       "      <td>1826</td>\n",
       "      <td>1</td>\n",
       "      <td>0.287163</td>\n",
       "      <td>0.407598</td>\n",
       "      <td>0.348606</td>\n",
       "    </tr>\n",
       "    <tr>\n",
       "      <th>6</th>\n",
       "      <td>Var20</td>\n",
       "      <td>7623</td>\n",
       "      <td>4350</td>\n",
       "      <td>3125</td>\n",
       "      <td>1</td>\n",
       "      <td>0.270162</td>\n",
       "      <td>0.570641</td>\n",
       "      <td>0.409944</td>\n",
       "    </tr>\n",
       "    <tr>\n",
       "      <th>23</th>\n",
       "      <td>Var37</td>\n",
       "      <td>12335</td>\n",
       "      <td>6635</td>\n",
       "      <td>3449</td>\n",
       "      <td>0.96065</td>\n",
       "      <td>0.269548</td>\n",
       "      <td>0.537900</td>\n",
       "      <td>0.279611</td>\n",
       "    </tr>\n",
       "    <tr>\n",
       "      <th>17</th>\n",
       "      <td>Var31</td>\n",
       "      <td>2548</td>\n",
       "      <td>795</td>\n",
       "      <td>811</td>\n",
       "      <td>1</td>\n",
       "      <td>0.259051</td>\n",
       "      <td>0.312009</td>\n",
       "      <td>0.318289</td>\n",
       "    </tr>\n",
       "    <tr>\n",
       "      <th>10</th>\n",
       "      <td>Var24</td>\n",
       "      <td>3799</td>\n",
       "      <td>2000</td>\n",
       "      <td>1534</td>\n",
       "      <td>1</td>\n",
       "      <td>0.247067</td>\n",
       "      <td>0.526454</td>\n",
       "      <td>0.403790</td>\n",
       "    </tr>\n",
       "    <tr>\n",
       "      <th>12</th>\n",
       "      <td>Var26</td>\n",
       "      <td>2796</td>\n",
       "      <td>1494</td>\n",
       "      <td>1191</td>\n",
       "      <td>1</td>\n",
       "      <td>0.239850</td>\n",
       "      <td>0.534335</td>\n",
       "      <td>0.425966</td>\n",
       "    </tr>\n",
       "    <tr>\n",
       "      <th>25</th>\n",
       "      <td>Var39</td>\n",
       "      <td>9527</td>\n",
       "      <td>4198</td>\n",
       "      <td>2478</td>\n",
       "      <td>0.58529</td>\n",
       "      <td>0.232717</td>\n",
       "      <td>0.440642</td>\n",
       "      <td>0.260103</td>\n",
       "    </tr>\n",
       "    <tr>\n",
       "      <th>9</th>\n",
       "      <td>Var23</td>\n",
       "      <td>10997</td>\n",
       "      <td>5866</td>\n",
       "      <td>3702</td>\n",
       "      <td>1</td>\n",
       "      <td>0.208153</td>\n",
       "      <td>0.533418</td>\n",
       "      <td>0.336637</td>\n",
       "    </tr>\n",
       "    <tr>\n",
       "      <th>1</th>\n",
       "      <td>Var15</td>\n",
       "      <td>497</td>\n",
       "      <td>185</td>\n",
       "      <td>178</td>\n",
       "      <td>1</td>\n",
       "      <td>0.201925</td>\n",
       "      <td>0.372233</td>\n",
       "      <td>0.358149</td>\n",
       "    </tr>\n",
       "    <tr>\n",
       "      <th>16</th>\n",
       "      <td>Var30</td>\n",
       "      <td>10</td>\n",
       "      <td>7</td>\n",
       "      <td>6</td>\n",
       "      <td>1</td>\n",
       "      <td>0.169796</td>\n",
       "      <td>0.700000</td>\n",
       "      <td>0.600000</td>\n",
       "    </tr>\n",
       "    <tr>\n",
       "      <th>22</th>\n",
       "      <td>Var36</td>\n",
       "      <td>14</td>\n",
       "      <td>6</td>\n",
       "      <td>6</td>\n",
       "      <td>1</td>\n",
       "      <td>0.124470</td>\n",
       "      <td>0.428571</td>\n",
       "      <td>0.428571</td>\n",
       "    </tr>\n",
       "    <tr>\n",
       "      <th>13</th>\n",
       "      <td>Var27</td>\n",
       "      <td>26</td>\n",
       "      <td>6</td>\n",
       "      <td>5</td>\n",
       "      <td>1</td>\n",
       "      <td>0.117776</td>\n",
       "      <td>0.230769</td>\n",
       "      <td>0.192308</td>\n",
       "    </tr>\n",
       "    <tr>\n",
       "      <th>18</th>\n",
       "      <td>Var32</td>\n",
       "      <td>1303</td>\n",
       "      <td>188</td>\n",
       "      <td>206</td>\n",
       "      <td>0.58529</td>\n",
       "      <td>0.104115</td>\n",
       "      <td>0.144282</td>\n",
       "      <td>0.158097</td>\n",
       "    </tr>\n",
       "    <tr>\n",
       "      <th>8</th>\n",
       "      <td>Var22</td>\n",
       "      <td>3</td>\n",
       "      <td>1</td>\n",
       "      <td>1</td>\n",
       "      <td>1</td>\n",
       "      <td>0.098506</td>\n",
       "      <td>0.333333</td>\n",
       "      <td>0.333333</td>\n",
       "    </tr>\n",
       "    <tr>\n",
       "      <th>24</th>\n",
       "      <td>Var38</td>\n",
       "      <td>51</td>\n",
       "      <td>11</td>\n",
       "      <td>12</td>\n",
       "      <td>0.58529</td>\n",
       "      <td>0.086958</td>\n",
       "      <td>0.215686</td>\n",
       "      <td>0.235294</td>\n",
       "    </tr>\n",
       "    <tr>\n",
       "      <th>5</th>\n",
       "      <td>Var19</td>\n",
       "      <td>12</td>\n",
       "      <td>4</td>\n",
       "      <td>5</td>\n",
       "      <td>0.86292</td>\n",
       "      <td>0.054795</td>\n",
       "      <td>0.333333</td>\n",
       "      <td>0.416667</td>\n",
       "    </tr>\n",
       "    <tr>\n",
       "      <th>19</th>\n",
       "      <td>Var33</td>\n",
       "      <td>4</td>\n",
       "      <td>3</td>\n",
       "      <td>3</td>\n",
       "      <td>0.58529</td>\n",
       "      <td>0.045960</td>\n",
       "      <td>0.750000</td>\n",
       "      <td>0.750000</td>\n",
       "    </tr>\n",
       "    <tr>\n",
       "      <th>21</th>\n",
       "      <td>Var35</td>\n",
       "      <td>11</td>\n",
       "      <td>2</td>\n",
       "      <td>2</td>\n",
       "      <td>0.18434</td>\n",
       "      <td>0.029709</td>\n",
       "      <td>0.181818</td>\n",
       "      <td>0.181818</td>\n",
       "    </tr>\n",
       "    <tr>\n",
       "      <th>0</th>\n",
       "      <td>Var14</td>\n",
       "      <td>541</td>\n",
       "      <td>18</td>\n",
       "      <td>18</td>\n",
       "      <td>1</td>\n",
       "      <td>0.000000</td>\n",
       "      <td>0.033272</td>\n",
       "      <td>0.033272</td>\n",
       "    </tr>\n",
       "    <tr>\n",
       "      <th>4</th>\n",
       "      <td>Var18</td>\n",
       "      <td>145</td>\n",
       "      <td>5</td>\n",
       "      <td>5</td>\n",
       "      <td>1</td>\n",
       "      <td>0.000000</td>\n",
       "      <td>0.034483</td>\n",
       "      <td>0.034483</td>\n",
       "    </tr>\n",
       "    <tr>\n",
       "      <th>7</th>\n",
       "      <td>Var21</td>\n",
       "      <td>257</td>\n",
       "      <td>8</td>\n",
       "      <td>9</td>\n",
       "      <td>1</td>\n",
       "      <td>0.000000</td>\n",
       "      <td>0.031128</td>\n",
       "      <td>0.035019</td>\n",
       "    </tr>\n",
       "  </tbody>\n",
       "</table>\n",
       "</div>"
      ],
      "text/plain": [
       "   Column  count_distinct  top_freq_CTR0_count  top_freq_CTR1_count  \\\n",
       "15  Var29           34617                23274                 9441   \n",
       "11  Var25           41312                28315                10844   \n",
       "20  Var34           38618                26336                10208   \n",
       "2   Var16           43870                30314                11370   \n",
       "3   Var17           25184                16671                 6950   \n",
       "14  Var28            5238                 2135                 1826   \n",
       "6   Var20            7623                 4350                 3125   \n",
       "23  Var37           12335                 6635                 3449   \n",
       "17  Var31            2548                  795                  811   \n",
       "10  Var24            3799                 2000                 1534   \n",
       "12  Var26            2796                 1494                 1191   \n",
       "25  Var39            9527                 4198                 2478   \n",
       "9   Var23           10997                 5866                 3702   \n",
       "1   Var15             497                  185                  178   \n",
       "16  Var30              10                    7                    6   \n",
       "22  Var36              14                    6                    6   \n",
       "13  Var27              26                    6                    5   \n",
       "18  Var32            1303                  188                  206   \n",
       "8   Var22               3                    1                    1   \n",
       "24  Var38              51                   11                   12   \n",
       "5   Var19              12                    4                    5   \n",
       "19  Var33               4                    3                    3   \n",
       "21  Var35              11                    2                    2   \n",
       "0   Var14             541                   18                   18   \n",
       "4   Var18             145                    5                    5   \n",
       "7   Var21             257                    8                    9   \n",
       "\n",
       "   Coverage_nonNull  cramersvalue  pct_topfreq_CTR0  pct_topfreq_CTR1  \n",
       "15          0.96065      0.315933          0.672329          0.272727  \n",
       "11          0.96065      0.312090          0.685394          0.262490  \n",
       "20          0.96065      0.310233          0.681962          0.264333  \n",
       "2           0.96065      0.307947          0.690996          0.259175  \n",
       "3           0.96065      0.299285          0.661968          0.275969  \n",
       "14                1      0.287163          0.407598          0.348606  \n",
       "6                 1      0.270162          0.570641          0.409944  \n",
       "23          0.96065      0.269548          0.537900          0.279611  \n",
       "17                1      0.259051          0.312009          0.318289  \n",
       "10                1      0.247067          0.526454          0.403790  \n",
       "12                1      0.239850          0.534335          0.425966  \n",
       "25          0.58529      0.232717          0.440642          0.260103  \n",
       "9                 1      0.208153          0.533418          0.336637  \n",
       "1                 1      0.201925          0.372233          0.358149  \n",
       "16                1      0.169796          0.700000          0.600000  \n",
       "22                1      0.124470          0.428571          0.428571  \n",
       "13                1      0.117776          0.230769          0.192308  \n",
       "18          0.58529      0.104115          0.144282          0.158097  \n",
       "8                 1      0.098506          0.333333          0.333333  \n",
       "24          0.58529      0.086958          0.215686          0.235294  \n",
       "5           0.86292      0.054795          0.333333          0.416667  \n",
       "19          0.58529      0.045960          0.750000          0.750000  \n",
       "21          0.18434      0.029709          0.181818          0.181818  \n",
       "0                 1      0.000000          0.033272          0.033272  \n",
       "4                 1      0.000000          0.034483          0.034483  \n",
       "7                 1      0.000000          0.031128          0.035019  "
      ]
     },
     "execution_count": 37,
     "metadata": {},
     "output_type": "execute_result"
    }
   ],
   "source": [
    "########\n",
    "# Table 3.3\n",
    "########\n",
    "\n",
    "categorical_combined_df['pct_topfreq_CTR0'] = categorical_combined_df['top_freq_CTR0_count']/categorical_combined_df['count_distinct']\n",
    "categorical_combined_df['pct_topfreq_CTR1'] = categorical_combined_df['top_freq_CTR1_count']/categorical_combined_df['count_distinct']\n",
    "\n",
    "categorical_combined_df.sort_values(by=['cramersvalue','Coverage_nonNull'], ascending=False)"
   ]
  },
  {
   "cell_type": "markdown",
   "metadata": {},
   "source": [
    "### 3.4 Clean-up and transforming numerical variables "
   ]
  },
  {
   "cell_type": "markdown",
   "metadata": {},
   "source": [
    "EDA reveiled the presence of negative values contained in the second numerical variable (`Var2`). Given the  interpretation of these variables as counters of some sort, a negative value appears unjustified, and as such need to be imputed. It is first noticed that `Var2` is the only numerical variable among those surveyed which does not contain null values. This may be indicative of the fact that negative values are used for this variable to effectively identify missing values.\n",
    "\n",
    "The above being said, the relative frequency of negative numbers in this feature is estimated as approximately 10%, which is aligned with the coverage of the other numerical variables. This reinforces the interpretation of a negative value in this column as representative of missing entries."
   ]
  },
  {
   "cell_type": "code",
   "execution_count": 22,
   "metadata": {},
   "outputs": [
    {
     "data": {
      "text/plain": [
       "0.0992"
      ]
     },
     "execution_count": 22,
     "metadata": {},
     "output_type": "execute_result"
    }
   ],
   "source": [
    "train_sample_EDA.filter(train_sample_EDA[\"Var2\"]<0).count()/train_sample_EDA.count()"
   ]
  },
  {
   "cell_type": "markdown",
   "metadata": {},
   "source": [
    "Owing to the above, it is decided to impute negative values with the average of the non-negative values of the same column."
   ]
  },
  {
   "cell_type": "code",
   "execution_count": 23,
   "metadata": {},
   "outputs": [],
   "source": [
    "from pyspark.sql.functions import avg\n",
    "avgNonnegVar2 = train_sample_EDA.filter(train_sample_EDA[\"Var2\"]>=0).agg(avg('Var2')).first()[0]\n",
    "from pyspark.sql.functions import when\n",
    "train_sample_EDA = train_sample_EDA.withColumn('Var2', when(train_sample_EDA['Var2']<0, avgNonnegVar2)\\\n",
    "                            .otherwise(train_sample_EDA.Var2))"
   ]
  },
  {
   "cell_type": "markdown",
   "metadata": {},
   "source": [
    "By the same token, missing values in all other numerical columns are imputed to the average of their respective columns."
   ]
  },
  {
   "cell_type": "code",
   "execution_count": 24,
   "metadata": {},
   "outputs": [],
   "source": [
    "numerical_cols = ['Var1','Var2','Var3','Var4','Var5','Var6','Var7',\\\n",
    "                  'Var8','Var9','Var10','Var11','Var12','Var13']\n",
    "for col in numerical_cols:\n",
    "    train_sample_EDA = train_sample_EDA.na.fill(round(train_sample_EDA.na.drop().agg(avg(col)).first()[0],1), [col])"
   ]
  },
  {
   "cell_type": "markdown",
   "metadata": {},
   "source": [
    "Next, a log(x+1) transformation is applied to all rows of the numerical columns. Such a transformation was chosen primarily for the log's transformation and handling of skewed data, but also getting an output of 0 when x = 0 (since log(0 + 1) = log(1) = 0).\n",
    "\n",
    "First, a unitary value is added to all columns."
   ]
  },
  {
   "cell_type": "code",
   "execution_count": 25,
   "metadata": {},
   "outputs": [],
   "source": [
    "from pyspark.sql.functions import col\n",
    "for col_add in numerical_cols:\n",
    "    train_sample_EDA = train_sample_EDA.withColumn(col_add, col(col_add) + 1)"
   ]
  },
  {
   "cell_type": "markdown",
   "metadata": {},
   "source": [
    "Then, the log transformation is applied."
   ]
  },
  {
   "cell_type": "code",
   "execution_count": 26,
   "metadata": {},
   "outputs": [],
   "source": [
    "from pyspark.sql.functions import log\n",
    "for col_log in numerical_cols:\n",
    "    train_sample_EDA = train_sample_EDA.withColumn(col_log, log(col_log))"
   ]
  },
  {
   "cell_type": "markdown",
   "metadata": {},
   "source": [
    "### 3.5 Recommendations for Categorical Variables"
   ]
  },
  {
   "cell_type": "code",
   "execution_count": 193,
   "metadata": {},
   "outputs": [],
   "source": [
    "# A couple options: (TBD...)\n",
    "\n",
    "# For categorical: \n",
    "# Things to consider: (A) Cramer's value (pick only features that hit X threshold of Cramer's value)? \n",
    "# Option 1: Take the features that cover 95% of class CTR==1 only, code everything else + Null as a \"lump all\" category. \n",
    "# Cons of Option 1: Can we treat 'null' and 'everything else' equally? \n",
    "# Option 2: If count of a specific distinct value is < 10, we ignore that value. \n",
    "# Cons of Option 2: Doesn't exactly reduce dimensionality, especially when we have distinct values that skyrocket. "
   ]
  },
  {
   "cell_type": "markdown",
   "metadata": {},
   "source": [
    "# __Section 4__ - Algorithm Implementation"
   ]
  },
  {
   "cell_type": "markdown",
   "metadata": {},
   "source": [
    "### Summary and Organization of the work\n",
    "\n",
    "In this section, we discuss the implementation of our algorithm for Click Through Rate prediction using two different flows. \n",
    "\n",
    "In the first two sections (4.1 and 4.2), we discuss a homegrown implementation of the algorithm. We adopted a practical approach for our implementation which has the following steps:\n",
    "- Step 1. We implement Logistic Regression with numerical variables alone\n",
    "- Step 2. We add Categorical Variables into the mix and redo Logistic Regression\n",
    "- Step 3. Finally we add Field Factorization Machines (FFM) and run the final model\n",
    "\n",
    "The first section 4.1 covers Logistic Regression and FFM with numerical variables.\n",
    "\n",
    "For the categorical variables, we investigated three different methods of reducing dimensionality based on the EDA presented above. These are covered in sections 4.2.1 through 4.2.4 \n",
    "\n",
    "We summarize the results for a smaller dataset in 4.2.5 for the homegrown model, and pave the way for the implementation of the production pipeline in section 4.3\n",
    "\n",
    "Sections 4.3 and 4.4 covers a pipelined version of the homegrown algorithm which we used to run the 100% dataset. The major steps in our implementation include:\n",
    "- Step 1. Implementing Logistic Regression with all variables (Section 4.3)\n",
    "- Step 2. Adding Field Factorization Machines (FFM) using an external Scala Library (Section 4.4)\n",
    "\n",
    "The results of the 100% dataset are covered in this section\n",
    "\n",
    "\n"
   ]
  },
  {
   "cell_type": "markdown",
   "metadata": {},
   "source": [
    "## 4.1 Modeling with Numerical Variables\n",
    "\n",
    "As we mentioned in the organization of this section, we start the analysis with basic Logistic Regression using numerical variables alone in Section 4.1.1. We then do a basic FFM based model in the next section."
   ]
  },
  {
   "cell_type": "markdown",
   "metadata": {},
   "source": [
    "### 4.1.1 Logistic Regression with Numerical Variables\n",
    "Add some veribiage here...@Luca"
   ]
  },
  {
   "cell_type": "code",
   "execution_count": 27,
   "metadata": {},
   "outputs": [],
   "source": [
    "#generate train data for homegrown solution - select only 10000 rows and only numerical features + target \n",
    "train_sample_red = train_sample_EDA.select(['CTR'] + numerical_cols).limit(10000).cache()"
   ]
  },
  {
   "cell_type": "code",
   "execution_count": 28,
   "metadata": {},
   "outputs": [],
   "source": [
    "#cache into rdd and apply log transformation\n",
    "train_sample_red_RDD = train_sample_red.rdd.map(lambda x: (x[0], np.array(x[1:]))).cache()"
   ]
  },
  {
   "cell_type": "code",
   "execution_count": 29,
   "metadata": {},
   "outputs": [],
   "source": [
    "def normalize(dataRDD):\n",
    "    \"\"\"\n",
    "    Scale and center data round mean of each feature.\n",
    "    Args:\n",
    "        dataRDD - records are tuples of (y, features_array)\n",
    "    Returns:\n",
    "        normedRDD - records are tuples of (y, features_array)\n",
    "    \"\"\"\n",
    "    featureMeans = dataRDD.map(lambda x: x[1]).mean()\n",
    "    featureStdev = np.sqrt(dataRDD.map(lambda x: x[1]).variance())\n",
    "    normedRDD = dataRDD.map(lambda x: (x[0], (x[1] - featureMeans)/featureStdev))\n",
    "\n",
    "    return normedRDD"
   ]
  },
  {
   "cell_type": "code",
   "execution_count": 30,
   "metadata": {},
   "outputs": [],
   "source": [
    "def LogLoss(dataRDD, W, regType = None, regParam=0.05):\n",
    "    \"\"\"\n",
    "    Compute log loss function.\n",
    "    Args:\n",
    "        dataRDD - each record is a tuple of (y, features_array)\n",
    "        W       - (array) model coefficients with bias at index 0\n",
    "        regType - (str) 'ridge' or 'lasso', defaults to None\n",
    "        regParam - (float) regularization term coefficient defaults to 0.1\n",
    "    Returns:\n",
    "        loss - (float) the regularized loss\n",
    "    \"\"\"\n",
    "    # add a bias 'feature' of 1 at index 0\n",
    "    augmentedData = dataRDD.map(lambda x: (np.append([1.0], x[1]), x[0])).cache()\n",
    "\n",
    "    # add regularization term\n",
    "    reg_term = 0\n",
    "    if regType == 'ridge':\n",
    "        reg_term = regParam*np.linalg.norm(W[1:])\n",
    "    elif regType == 'lasso':\n",
    "        reg_term = regParam*np.sum(np.abs(W[1:]))\n",
    "        \n",
    "    #broadcast model\n",
    "    #W = sc.broadcast(W) #uncomment this line when deploying it on the cloud\n",
    "    \n",
    "    # compute loss\n",
    "    loss = augmentedData.map(lambda x: x[1]*np.log(1 + np.exp(-np.dot(x[0], W))) + \\\n",
    "                             (1 - x[1])*(np.dot(x[0], W) + np.log(1 + np.exp(-np.dot(x[0], W))))).sum()\\\n",
    "                            /augmentedData.count() + reg_term\n",
    "    \n",
    "    return loss\n",
    "\n",
    "def LogLoss_grad(dataRDD, W, regType = None, regParam=0.05):\n",
    "    \"\"\"\n",
    "    Compute log loss function inside gradient descent.\n",
    "    Args:\n",
    "        dataRDD - each record is a tuple of (y, features_array)\n",
    "        W       - (array) model coefficients with bias at index 0\n",
    "        regType - (str) 'ridge' or 'lasso', defaults to None\n",
    "        regParam - (float) regularization term coefficient defaults to 0.1\n",
    "    Returns:\n",
    "        loss - (float) the regularized loss\n",
    "    \"\"\"\n",
    "\n",
    "    # add regularization term\n",
    "    reg_term = 0\n",
    "    if regType == 'ridge':\n",
    "        reg_term = regParam*np.linalg.norm(W[1:])\n",
    "    elif regType == 'lasso':\n",
    "        reg_term = regParam*np.sum(np.abs(W[1:]))\n",
    "    \n",
    "    # compute loss\n",
    "    loss = dataRDD.map(lambda x: x[1]*np.log(1 + np.exp(-np.dot(x[0], W))) + \\\n",
    "                             (1 - x[1])*(np.dot(x[0], W) + np.log(1 + np.exp(-np.dot(x[0], W))))).sum()\\\n",
    "                            /dataRDD.count() + reg_term\n",
    "    \n",
    "    return loss"
   ]
  },
  {
   "cell_type": "code",
   "execution_count": 31,
   "metadata": {},
   "outputs": [],
   "source": [
    "def GDUpdate(trainRDD, testRDD, W, nSteps = 20, regType = None, regParam=0.05, learningRate = 0.05, verbose = False):\n",
    "    \"\"\"\n",
    "    Perform nSteps of regularized gradient descent step/update.\n",
    "    Args:\n",
    "        dataRDD - records are tuples of (y, features_array)\n",
    "        W       - (array) model coefficients with bias at index 0\n",
    "        regType - (str) 'ridge' or 'lasso', defaults to None\n",
    "        regParam - (float) regularization term coefficient defaults to 0.1\n",
    "        learningRate - (float) defaults to 0.1\n",
    "    Returns:\n",
    "        new_model - (array) updated coefficients, bias at index 0\n",
    "        training_loss (float) training loss for new_model\n",
    "        test_loss (float) test loss for new_model\n",
    "    \"\"\"\n",
    "    # add a bias 'feature' of 1 at index 0\n",
    "    augmentedTrainData = trainRDD.map(lambda x: (np.append([1.0], x[1]), x[0])).cache()\n",
    "    augmentedTestData = testRDD.map(lambda x: (np.append([1.0], x[1]), x[0])).cache()\n",
    "    \n",
    "    # compute size of training sample\n",
    "    sizeTrainSample = augmentedTrainData.count()\n",
    "    \n",
    "    # initialize lists to track model performance\n",
    "    train_history, test_history, model_history = [], [], []\n",
    "    \n",
    "    # perform n updates & compute test and train loss after each\n",
    "    model = W\n",
    "    #broadcast model\n",
    "    #model = sc.broadcast(W) #uncomment this line when deploying it on the cloud\n",
    "    for idx in range(nSteps):\n",
    "        # add regularization term\n",
    "        reg_term = np.zeros(len(model))\n",
    "        if regType == 'ridge':\n",
    "            reg_term = np.append(0,2*regParam*model[1:])\n",
    "        elif regType == 'lasso':\n",
    "            reg_term = np.append(0,regParam*np.sign(model[1:]))\n",
    "    \n",
    "        # compute gradient\n",
    "        grad = augmentedTrainData.map(lambda x: ((1/(1 + np.exp(-np.dot(x[0], model))) - x[1])*x[0]))\\\n",
    "               .sum()/sizeTrainSample + reg_term\n",
    "    \n",
    "        #update model parameters\n",
    "        new_model = model - learningRate*grad\n",
    "        #new_model = sc.broadcast(new_model) #uncomment this line when deploying it on the cloud\n",
    "        training_loss = LogLoss_grad(augmentedTrainData, new_model, regType=regType, regParam=regParam)\n",
    "        test_loss = LogLoss_grad(augmentedTestData, new_model, regType=regType, regParam=regParam)\n",
    "        \n",
    "        # keep track of test/train loss for plotting\n",
    "        train_history.append(training_loss)\n",
    "        test_history.append(test_loss)\n",
    "        model_history.append(new_model)\n",
    "        \n",
    "        # console output if desired\n",
    "        if verbose:\n",
    "            print(\"----------\")\n",
    "            print(f\"STEP: {idx+1}\")\n",
    "            print(f\"training loss: {training_loss}\")\n",
    "            print(f\"test loss: {test_loss}\")\n",
    "            print(f\"Model: {[k for k in new_model]}\")\n",
    "        \n",
    "        model = new_model\n",
    "        #broadcast model\n",
    "        #model = sc.broadcast(new_model) #uncomment this line when deploying it on the cloud\n",
    "   \n",
    "    return train_history, test_history, model_history"
   ]
  },
  {
   "cell_type": "code",
   "execution_count": 32,
   "metadata": {},
   "outputs": [],
   "source": [
    "def makePrediction(dataRDD, W, treshProb=0.5):\n",
    "    \"\"\"\n",
    "    Make predictions of target and compute number of: true positives, true negatives, \n",
    "    false positive, false negatives .\n",
    "    Args:\n",
    "        dataRDD - records are tuples of (y, features_array)\n",
    "        W       - (array) model coefficients with bias at index 0\n",
    "        treshProb- (float) threshold probability for imputation of positive labels\n",
    "    Returns:\n",
    "        pred - (rdd) predicted targets\n",
    "        ntp - (integer) number of true positives\n",
    "        ntn - (integer) number of true negatives\n",
    "        nfp - (integer) number of false positives\n",
    "        nfn - (integer) number of false negatives\n",
    "    \"\"\"\n",
    "    # add a bias 'feature' of 1 at index 0\n",
    "    augmentedData = dataRDD.map(lambda x: (np.append([1.0], x[1]), x[0])).cache()\n",
    "    \n",
    "    # compute prediction\n",
    "    pred = augmentedData.map(lambda x: (int((1/(1 + np.exp(-np.dot(x[0], W))))>treshProb), x[1] )).cache()\n",
    "    \n",
    "    ntp = pred.map(lambda x: int((x[0]*x[1]) == 1)).sum()\n",
    "    ntn = pred.map(lambda x: int((x[0]+x[1]) == 0)).sum()\n",
    "    nfp = pred.map(lambda x: int((x[0] == 1) * (x[1] == 0))).sum()\n",
    "    nfn = pred.map(lambda x: int((x[0] == 0) * (x[1] == 1))).sum()\n",
    "   \n",
    "    return pred, ntp, ntn, nfp, nfn"
   ]
  },
  {
   "cell_type": "code",
   "execution_count": 33,
   "metadata": {},
   "outputs": [],
   "source": [
    "# normalize features\n",
    "normedRDD = normalize(train_sample_red_RDD).cache()"
   ]
  },
  {
   "cell_type": "code",
   "execution_count": 33,
   "metadata": {},
   "outputs": [],
   "source": [
    "#split into train, validation and test sets\n",
    "train, validation, test = normedRDD.randomSplit([0.6, 0.2, 0.2], seed=200)"
   ]
  },
  {
   "cell_type": "code",
   "execution_count": 34,
   "metadata": {},
   "outputs": [],
   "source": [
    "#compute the number of features\n",
    "numb_features = len(train_sample_red.columns) - 1\n",
    "#define baseline model, add one parameter representing the intercept\n",
    "BASELINE = np.random.randn(numb_features + 1)"
   ]
  },
  {
   "cell_type": "code",
   "execution_count": 35,
   "metadata": {},
   "outputs": [
    {
     "data": {
      "image/png": "[encoded data removed]",
      "text/plain": [
       "<Figure size 432x288 with 1 Axes>"
      ]
     },
     "metadata": {
      "needs_background": "light"
     },
     "output_type": "display_data"
    }
   ],
   "source": [
    "nSteps = 200\n",
    "regType = 'ridge'\n",
    "regParam = 0.05\n",
    "learningRate = 0.1\n",
    "\n",
    "# run gradient descent\n",
    "train_loss, test_loss, model = GDUpdate(train, validation, BASELINE, nSteps, regType=regType, \n",
    "                                        regParam=regParam, learningRate=learningRate, verbose = False)\n",
    "\n",
    "plt.plot(train_loss)\n",
    "plt.plot(test_loss)\n",
    "plt.title('Loss')\n",
    "plt.show()"
   ]
  },
  {
   "cell_type": "markdown",
   "metadata": {},
   "source": []
  },
  {
   "cell_type": "code",
   "execution_count": 36,
   "metadata": {},
   "outputs": [
    {
     "name": "stdout",
     "output_type": "stream",
     "text": [
      "Accuracy is:  0.7735021919142718\n",
      "Precision is:  0.5185185185185185\n",
      "Recall is:  0.059957173447537475\n",
      "F1 score is:  0.10748560460652591\n",
      "False positive rate is:  0.01639344262295082\n",
      "True positive rate is:  0.059957173447537475\n"
     ]
    }
   ],
   "source": [
    "# make predictions and compute metrics for treshProb = 0.5\n",
    "pred, ntp, ntn, nfp, nfn = makePrediction(validation, model[-1], 0.5)\n",
    "\n",
    "acc = (ntp+ntn)/(ntp+ntn+nfp+nfn)\n",
    "prec = (ntp)/(ntp+nfp)\n",
    "rec = (ntp)/(ntp+nfn)\n",
    "f1 = 2*prec*rec/(prec+rec)\n",
    "fpr = nfp/(ntn+nfp)\n",
    "tpr = ntp/(ntp+nfn)\n",
    "print('Accuracy is: ', acc)\n",
    "print('Precision is: ', prec)\n",
    "print('Recall is: ', rec)\n",
    "print('F1 score is: ', f1)\n",
    "print('False positive rate is: ', fpr)\n",
    "print('True positive rate is: ', tpr)"
   ]
  },
  {
   "cell_type": "code",
   "execution_count": 42,
   "metadata": {},
   "outputs": [
    {
     "name": "stdout",
     "output_type": "stream",
     "text": [
      "0.225 :  0.5207670399299797\n"
     ]
    },
    {
     "data": {
      "text/plain": [
       "Text(0,0.5,'True positive rate')"
      ]
     },
     "execution_count": 42,
     "metadata": {},
     "output_type": "execute_result"
    },
    {
     "data": {
      "image/png": "[encoded data removed]",
      "text/plain": [
       "<Figure size 432x288 with 1 Axes>"
      ]
     },
     "metadata": {
      "needs_background": "light"
     },
     "output_type": "display_data"
    }
   ],
   "source": [
    "# generate ROC curve on validation set\n",
    "tprSave = []\n",
    "fprSave = []\n",
    "probs = np.arange(0.0, 1.0, 0.025)\n",
    "for i in probs:\n",
    "    pred, ntp, ntn, nfp, nfn = makePrediction(validation, model[-1], i)\n",
    "    fprSave.append(nfp/(ntn+nfp))\n",
    "    tprSave.append(ntp/(ntp+nfn))\n",
    "\n",
    "#distance from the upper-left corner of the ROC curve - the lower, the better\n",
    "perf = np.sqrt((np.array(fprSave))**2+(1-np.array(tprSave))**2)\n",
    "print(probs[np.argmin(perf)],': ' , np.min(perf))\n",
    "\n",
    "plt.plot(fprSave, tprSave)\n",
    "plt.xlabel('False positive rate')\n",
    "plt.ylabel('True positive rate')"
   ]
  },
  {
   "cell_type": "code",
   "execution_count": 43,
   "metadata": {},
   "outputs": [
    {
     "name": "stdout",
     "output_type": "stream",
     "text": [
      "Accuracy is:  0.6594871794871795\n",
      "Precision is:  0.34413965087281795\n",
      "Recall is:  0.6666666666666666\n",
      "F1 score is:  0.4539473684210526\n",
      "False positive rate is:  0.3424479166666667\n",
      "True positive rate is:  0.6666666666666666\n"
     ]
    }
   ],
   "source": [
    "# make predictions and compute metrics for optimal treshProb on test dataset\n",
    "pred, ntp, ntn, nfp, nfn = makePrediction(test, model[-1], probs[np.argmin(perf)])\n",
    "\n",
    "acc = (ntp+ntn)/(ntp+ntn+nfp+nfn)\n",
    "prec = (ntp)/(ntp+nfp)\n",
    "rec = (ntp)/(ntp+nfn)\n",
    "f1 = 2*prec*rec/(prec+rec)\n",
    "fpr = nfp/(ntn+nfp)\n",
    "tpr = ntp/(ntp+nfn)\n",
    "print('Accuracy is: ', acc)\n",
    "print('Precision is: ', prec)\n",
    "print('Recall is: ', rec)\n",
    "print('F1 score is: ', f1)\n",
    "print('False positive rate is: ', fpr)\n",
    "print('True positive rate is: ', tpr)"
   ]
  },
  {
   "cell_type": "markdown",
   "metadata": {},
   "source": [
    "### Factorization Machines\n",
    "Need to add verbiage here...@Sid"
   ]
  },
  {
   "cell_type": "code",
   "execution_count": 54,
   "metadata": {},
   "outputs": [],
   "source": [
    "def fmLoss(dataRDD, w, w1,w0) :\n",
    "    \"\"\"\n",
    "    Computes the logloss given the data and model W\n",
    "    dataRDD - array of features, label\n",
    "    \"\"\"\n",
    "    w_bc = sc.broadcast(w)\n",
    "    w1_bc = sc.broadcast(w1)\n",
    "    w0_bc = sc.broadcast(w0)\n",
    "    def probability_value(x,W,W1,W0): \n",
    "        xa = np.array([x])\n",
    "        V =  xa.dot(W)\n",
    "        V_square = (xa*xa).dot(W*W)\n",
    "        phi = 0.5*(V*V - V_square).sum() + xa.dot(W1.T) + W0\n",
    "        return 1.0/(1.0 + np.exp(-phi))\n",
    "    \n",
    "    loss = dataRDD.map(lambda x: (x[0],x[1]) if x[0] == 1 else (-1, x[1])).map(lambda x:  (probability_value(x[1],w_bc.value, w1_bc.value, w0_bc.value), x[0])) \\\n",
    "        .map(lambda x: (1 - 1e-12, x[1]) if x[0] == 1 else ((1e-12, x[1]) if x[0] == 0  else (x[0],x[1]))) \\\n",
    "        .map(lambda x: -(x[1] * np.log(x[0]) + (1-x[1])*np.log(1-x[0]))).mean()\n",
    "    \n",
    "    \n",
    "    return float(loss)"
   ]
  },
  {
   "cell_type": "code",
   "execution_count": 55,
   "metadata": {},
   "outputs": [],
   "source": [
    "def fmGradUpdate_v1(dataRDD, w, w1, w0, alpha, regParam, regParam1, regParam0):\n",
    "    \"\"\"\n",
    "    Computes the gradient and updates the model\n",
    "    \"\"\"\n",
    "    \n",
    "    w_bc = sc.broadcast(w)\n",
    "    w1_bc = sc.broadcast(w1)\n",
    "    w0_bc = sc.broadcast(w0)\n",
    "    rp_bc = sc.broadcast(regParam)\n",
    "    rp1_bc = sc.broadcast(regParam1)\n",
    "    rp0_bc = sc.broadcast(regParam0)\n",
    "    \n",
    "    #Gradient for interaction term\n",
    "    \n",
    "    def row_grad(x, y, W, W1, W0, regParam, regParam1, regParam0):\n",
    "        xa = np.array([x])\n",
    "        VX =  xa.dot(W)\n",
    "        VX_square = (xa*xa).dot(W*W)\n",
    "        phi = 0.5*(VX*VX - VX_square).sum() + xa.dot(W1.T) + W0\n",
    "        expnyt = np.exp(y*phi) \n",
    "        grad_loss = (-y/(1+expnyt))*(xa.T.dot(xa).dot(W) - np.diag(np.square(x)).dot(W))\n",
    "        return 2*regParam*W + grad_loss\n",
    "    \n",
    "    #Gradient for Linear term\n",
    "    def row_grad1(x, y, W, W1, W0, regParam, regParam1, regParam0):\n",
    "        xa = np.array([x])\n",
    "        VX =  xa.dot(W)\n",
    "        VX_square = (xa*xa).dot(W*W)\n",
    "        phi = 0.5*(VX*VX - VX_square).sum() + xa.dot(W1.T) + W0\n",
    "        expnyt = np.exp(y*phi)\n",
    "        grad_loss1 = (-y/(1+expnyt))*xa\n",
    "        return 2*regParam1*W1 + grad_loss1\n",
    "    \n",
    "    #Gradient for bias term\n",
    "    def row_grad0(x, y, W, W1, W0, regParam, regParam1, regParam0):\n",
    "        xa = np.array([x])\n",
    "        VX =  xa.dot(W)\n",
    "        VX_square = (xa*xa).dot(W*W)\n",
    "        phi = 0.5*(VX*VX - VX_square).sum() + xa.dot(W1.T) + W0\n",
    "        expnyt = np.exp(y*phi)\n",
    "        grad_loss0 = (-y/(1+expnyt))*1\n",
    "        return 2*regParam0*W0 +grad_loss0\n",
    "    \n",
    "   \n",
    "    \n",
    "    batchRDD = dataRDD.sample(False, 0.01, 2019)  \n",
    "    grad = batchRDD.map(lambda x: (x[0],x[1]) if x[0] == 1 else (-1, x[1])).map(lambda x: (1, row_grad(x[1], x[0], w_bc.value, w1_bc.value, w0_bc.value, rp_bc.value,rp1_bc.value,rp0_bc.value))).reduceByKey(lambda x,y: np.add(x,y))\n",
    "    model = w - alpha * grad.values().collect()[0] \n",
    "    \n",
    "    grad1 = batchRDD.map(lambda x: (x[0],x[1]) if x[0] == 1 else (-1, x[1])).map(lambda x: (1, row_grad1(x[1], x[0], w_bc.value, w1_bc.value, w0_bc.value, rp_bc.value,rp1_bc.value,rp0_bc.value))).reduceByKey(lambda x,y: np.add(x,y))\n",
    "    model1 = w1 - alpha * grad1.values().collect()[0]\n",
    "    \n",
    "    grad0 = batchRDD.map(lambda x: (x[0],x[1]) if x[0] == 1 else (-1, x[1])).map(lambda x: (1, row_grad0(x[1], x[0], w_bc.value, w1_bc.value, w0_bc.value, rp_bc.value,rp1_bc.value,rp0_bc.value))).reduceByKey(lambda x,y: np.add(x,y))\n",
    "    model0 = w0 - alpha * grad0.values().collect()[0]\n",
    "    \n",
    "    return model, model1 ,model0\n",
    "    "
   ]
  },
  {
   "cell_type": "code",
   "execution_count": 56,
   "metadata": {},
   "outputs": [],
   "source": [
    "def GradientDescent(trainRDD, testRDD, model, model1, model0, nSteps = 20, \n",
    "                    learningRate = 0.01, regParam = 0.01,regParam1 = 0.01,regParam0 = 0.01, verbose = False):\n",
    "    \"\"\"\n",
    "    Perform nSteps iterations of OLS gradient descent and \n",
    "    track loss on a test and train set. Return lists of\n",
    "    test/train loss and the models themselves.\n",
    "    \"\"\"\n",
    "    # initialize lists to track model performance\n",
    "    train_history, test_history, model_history, model1_history, model0_history = [], [], [], [], []\n",
    "    \n",
    "    # perform n updates & compute test and train loss after each\n",
    "    model = wInit\n",
    "    model1 = wInit1\n",
    "    model0 = wInit0\n",
    "    for idx in range(nSteps): \n",
    "        \n",
    "        ############## YOUR CODE HERE #############\n",
    "        \n",
    "        model, model1, model0 = fmGradUpdate_v1(trainRDD, model, model1, model0, learningRate, regParam, regParam1, regParam0)\n",
    "        training_loss = fmLoss(trainRDD, model, model1, model0) \n",
    "        test_loss = fmLoss(testRDD, model, model1, model0) \n",
    "        ############## (END) YOUR CODE #############\n",
    "        # keep track of test/train loss for plotting\n",
    "        train_history.append(training_loss)\n",
    "        test_history.append(test_loss)\n",
    "        model_history.append(model)\n",
    "        model1_history.append(model1)\n",
    "        model0_history.append(model0)\n",
    "        \n",
    "        # console output if desired\n",
    "        if verbose:\n",
    "            print(\"----------\")\n",
    "            print(f\"STEP: {idx+1}\")\n",
    "            print(f\"training loss: {training_loss}\")\n",
    "            print(f\"test loss: {test_loss}\")\n",
    "            #print(f\"Model: {[k for k in model]}\")\n",
    "   \n",
    "    return train_history, test_history, model_history, model1_history, model0_history"
   ]
  },
  {
   "cell_type": "code",
   "execution_count": 57,
   "metadata": {},
   "outputs": [],
   "source": [
    "def wInitialization(dataRDD, factor):\n",
    "    nrFeat = len(dataRDD.first()[1])\n",
    "    np.random.seed(int(time.time())) \n",
    "    w =  np.random.ranf((nrFeat, factor))\n",
    "    w = w / np.sqrt((w*w).sum())\n",
    "    \n",
    "    w1 =  np.random.ranf(nrFeat)\n",
    "    w1 = w1 / np.sqrt((w1*w1).sum())\n",
    "    \n",
    "    w0 =  np.random.ranf(1)\n",
    "    \n",
    "    return w, w1, w0"
   ]
  },
  {
   "cell_type": "code",
   "execution_count": 50,
   "metadata": {},
   "outputs": [
    {
     "name": "stdout",
     "output_type": "stream",
     "text": [
      "----------\n",
      "STEP: 1\n",
      "training loss: 1.8743559503320188\n",
      "test loss: 1.9261956472225443\n",
      "----------\n",
      "STEP: 2\n",
      "training loss: 1.7483241210940095\n",
      "test loss: 1.8010982273345506\n",
      "----------\n",
      "STEP: 3\n",
      "training loss: 1.635840857097286\n",
      "test loss: 1.6897373144941283\n",
      "----------\n",
      "STEP: 4\n",
      "training loss: 1.5338941001649127\n",
      "test loss: 1.5889971445466275\n",
      "----------\n",
      "STEP: 5\n",
      "training loss: 1.4403865133229292\n",
      "test loss: 1.4967150457868597\n",
      "----------\n",
      "STEP: 6\n",
      "training loss: 1.3538235279514386\n",
      "test loss: 1.411355786813341\n",
      "----------\n",
      "STEP: 7\n",
      "training loss: 1.2731143390149124\n",
      "test loss: 1.3318040647069826\n",
      "----------\n",
      "STEP: 8\n",
      "training loss: 1.1974439304344426\n",
      "test loss: 1.2572311488438506\n",
      "----------\n",
      "STEP: 9\n",
      "training loss: 1.1261896244750118\n",
      "test loss: 1.1870079304009982\n",
      "----------\n",
      "STEP: 10\n",
      "training loss: 1.0588656880379412\n",
      "test loss: 1.1206471810970622\n",
      "----------\n",
      "STEP: 11\n",
      "training loss: 0.995085817583462\n",
      "test loss: 1.0577644159497501\n",
      "----------\n",
      "STEP: 12\n",
      "training loss: 0.9345371872822557\n",
      "test loss: 0.9980507908227664\n",
      "----------\n",
      "STEP: 13\n",
      "training loss: 0.8769621059385546\n",
      "test loss: 0.9412539256652921\n",
      "----------\n",
      "STEP: 14\n",
      "training loss: 0.8221447775532994\n",
      "test loss: 0.8871640515965414\n",
      "----------\n",
      "STEP: 15\n",
      "training loss: 0.7699015584974774\n",
      "test loss: 0.8356038129535436\n",
      "----------\n",
      "STEP: 16\n",
      "training loss: 0.7200736669078768\n",
      "test loss: 0.7864206397477808\n",
      "----------\n",
      "STEP: 17\n",
      "training loss: 0.6725216558281457\n",
      "test loss: 0.7394809756890989\n",
      "----------\n",
      "STEP: 18\n",
      "training loss: 0.6271211882331691\n",
      "test loss: 0.6946658822850801\n",
      "----------\n",
      "STEP: 19\n",
      "training loss: 0.5837597967878406\n",
      "test loss: 0.6518676894584844\n",
      "----------\n",
      "STEP: 20\n",
      "training loss: 0.5423344037075907\n",
      "test loss: 0.6109874583428814\n",
      "----------\n",
      "STEP: 21\n",
      "training loss: 0.5027494354824178\n",
      "test loss: 0.5719330823070106\n",
      "----------\n",
      "STEP: 22\n",
      "training loss: 0.4649154059507079\n",
      "test loss: 0.5346178910472908\n",
      "----------\n",
      "STEP: 23\n",
      "training loss: 0.4287478673891834\n",
      "test loss: 0.49895964860210484\n",
      "----------\n",
      "STEP: 24\n",
      "training loss: 0.3941666480974156\n",
      "test loss: 0.464879855080975\n",
      "----------\n",
      "STEP: 25\n",
      "training loss: 0.361095309528686\n",
      "test loss: 0.43230327715831973\n",
      "----------\n",
      "STEP: 26\n",
      "training loss: 0.32946076809017866\n",
      "test loss: 0.4011576456873072\n",
      "----------\n",
      "STEP: 27\n",
      "training loss: 0.29919303715062884\n",
      "test loss: 0.371373470796694\n",
      "----------\n",
      "STEP: 28\n",
      "training loss: 0.27022505388944795\n",
      "test loss: 0.342883935611798\n",
      "----------\n",
      "STEP: 29\n",
      "training loss: 0.24249256349540868\n",
      "test loss: 0.31562483914900363\n",
      "----------\n",
      "STEP: 30\n",
      "training loss: 0.21593403990000543\n",
      "test loss: 0.2895345668451006\n",
      "----------\n",
      "STEP: 31\n",
      "training loss: 0.1904906277469026\n",
      "test loss: 0.26455407358127053\n",
      "----------\n",
      "STEP: 32\n",
      "training loss: 0.16610609473226579\n",
      "test loss: 0.24062686904578096\n",
      "----------\n",
      "STEP: 33\n",
      "training loss: 0.14272678691626453\n",
      "test loss: 0.21769899902815745\n",
      "----------\n",
      "STEP: 34\n",
      "training loss: 0.12030158224201395\n",
      "test loss: 0.19571901896533248\n",
      "----------\n",
      "STEP: 35\n",
      "training loss: 0.09878183944893155\n",
      "test loss: 0.17463795798050458\n",
      "----------\n",
      "STEP: 36\n",
      "training loss: 0.0781213409700617\n",
      "test loss: 0.15440927295969428\n",
      "----------\n",
      "STEP: 37\n",
      "training loss: 0.05827622937939141\n",
      "test loss: 0.13498879305886816\n",
      "----------\n",
      "STEP: 38\n",
      "training loss: 0.039204937608739075\n",
      "test loss: 0.11633465555261668\n",
      "----------\n",
      "STEP: 39\n",
      "training loss: 0.02086811356785937\n",
      "test loss: 0.09840723422100418\n",
      "----------\n",
      "STEP: 40\n",
      "training loss: 0.0032285400417717642\n",
      "test loss: 0.08116906159658396\n",
      "----------\n",
      "STEP: 41\n",
      "training loss: -0.013748949143908042\n",
      "test loss: 0.06458474641188416\n",
      "----------\n",
      "STEP: 42\n",
      "training loss: -0.030097555667867114\n",
      "test loss: 0.04862088753705629\n",
      "----------\n",
      "STEP: 43\n",
      "training loss: -0.04584860497343592\n",
      "test loss: 0.033245985604813455\n",
      "----------\n",
      "STEP: 44\n",
      "training loss: -0.061031635314002894\n",
      "test loss: 0.018430353404257794\n",
      "----------\n",
      "STEP: 45\n",
      "training loss: -0.07567448674014707\n",
      "test loss: 0.004146025999523795\n",
      "----------\n",
      "STEP: 46\n",
      "training loss: -0.08980338928401303\n",
      "test loss: -0.00963332859800106\n",
      "----------\n",
      "STEP: 47\n",
      "training loss: -0.10344304969957185\n",
      "test loss: -0.02293249749823404\n",
      "----------\n",
      "STEP: 48\n",
      "training loss: -0.1166167362194544\n",
      "test loss: -0.03577480915182789\n",
      "----------\n",
      "STEP: 49\n",
      "training loss: -0.1293463608864888\n",
      "test loss: -0.048182217237018314\n",
      "----------\n",
      "STEP: 50\n",
      "training loss: -0.14165255910856675\n",
      "test loss: -0.06017538182683754\n",
      "----------\n",
      "STEP: 51\n",
      "training loss: -0.15355476616780228\n",
      "test loss: -0.0717737475358022\n",
      "----------\n",
      "STEP: 52\n",
      "training loss: -0.16507129048846522\n",
      "test loss: -0.0829956184214872\n",
      "----------\n",
      "STEP: 53\n",
      "training loss: -0.17621938353274977\n",
      "test loss: -0.09385822948328991\n",
      "----------\n",
      "STEP: 54\n",
      "training loss: -0.1870153062494202\n",
      "test loss: -0.10437781465900618\n",
      "----------\n",
      "STEP: 55\n",
      "training loss: -0.19747439204809822\n",
      "test loss: -0.11456967127019724\n",
      "----------\n",
      "STEP: 56\n",
      "training loss: -0.20761110631211505\n",
      "test loss: -0.124448220910548\n",
      "----------\n",
      "STEP: 57\n",
      "training loss: -0.21743910249612622\n",
      "test loss: -0.13402706680814533\n",
      "----------\n",
      "STEP: 58\n",
      "training loss: -0.2269712748817432\n",
      "test loss: -0.14331904772348839\n",
      "----------\n",
      "STEP: 59\n",
      "training loss: -0.23621980808598023\n",
      "test loss: -0.15233628847065542\n",
      "----------\n",
      "STEP: 60\n",
      "training loss: -0.24519622343415848\n",
      "test loss: -0.16109024716987674\n",
      "----------\n",
      "STEP: 61\n",
      "training loss: -0.2539114223214311\n",
      "test loss: -0.16959175935626056\n",
      "----------\n",
      "STEP: 62\n",
      "training loss: -0.26237572669619164\n",
      "test loss: -0.1778510790820414\n",
      "----------\n",
      "STEP: 63\n",
      "training loss: -0.2705989168045791\n",
      "test loss: -0.18587791715879062\n",
      "----------\n",
      "STEP: 64\n",
      "training loss: -0.2785902663387264\n",
      "test loss: -0.1936814766919546\n",
      "----------\n",
      "STEP: 65\n",
      "training loss: -0.2863585751326956\n",
      "test loss: -0.20127048606327064\n",
      "----------\n",
      "STEP: 66\n",
      "training loss: -0.29391219954956427\n",
      "test loss: -0.20865322951728565\n",
      "----------\n",
      "STEP: 67\n",
      "training loss: -0.30125908070116036\n",
      "test loss: -0.21583757550687913\n",
      "----------\n",
      "STEP: 68\n",
      "training loss: -0.3084067706389671\n",
      "test loss: -0.22283100294957217\n",
      "----------\n",
      "STEP: 69\n",
      "training loss: -0.3153624566505447\n",
      "test loss: -0.22964062554189177\n",
      "----------\n",
      "STEP: 70\n",
      "training loss: -0.3221329837912516\n",
      "test loss: -0.2362732142734239\n",
      "----------\n",
      "STEP: 71\n",
      "training loss: -0.3287248757756424\n",
      "test loss: -0.24273521827577776\n",
      "----------\n",
      "STEP: 72\n",
      "training loss: -0.3351443543473492\n",
      "test loss: -0.2490327841346023\n",
      "----------\n",
      "STEP: 73\n",
      "training loss: -0.34139735724023534\n",
      "test loss: -0.25517177378547645\n",
      "----------\n",
      "STEP: 74\n",
      "training loss: -0.3474895548375704\n",
      "test loss: -0.2611577811069148\n",
      "----------\n",
      "STEP: 75\n",
      "training loss: -0.35342636562975627\n",
      "test loss: -0.2669961473161962\n",
      "----------\n",
      "STEP: 76\n",
      "training loss: -0.35921297056500157\n",
      "test loss: -0.2726919752662768\n",
      "----------\n",
      "STEP: 77\n",
      "training loss: -0.36485432638118537\n",
      "test loss: -0.2782501427347607\n",
      "----------\n",
      "STEP: 78\n",
      "training loss: -0.3703551780012165\n",
      "test loss: -0.28367531478899227\n",
      "----------\n",
      "STEP: 79\n",
      "training loss: -0.3757200700683014\n",
      "test loss: -0.28897195530460557\n",
      "----------\n",
      "STEP: 80\n",
      "training loss: -0.38095335769193306\n",
      "test loss: -0.2941443377086007\n",
      "----------\n",
      "STEP: 81\n",
      "training loss: -0.3860592164700012\n",
      "test loss: -0.29919655501200465\n",
      "----------\n",
      "STEP: 82\n",
      "training loss: -0.39104165184719153\n",
      "test loss: -0.30413252919168043\n",
      "----------\n",
      "STEP: 83\n",
      "training loss: -0.3959045078649987\n",
      "test loss: -0.3089560199755113\n",
      "----------\n",
      "STEP: 84\n",
      "training loss: -0.40065147535395834\n",
      "test loss: -0.31367063308046517\n",
      "----------\n",
      "STEP: 85\n",
      "training loss: -0.4052860996143767\n",
      "test loss: -0.3182798279484312\n",
      "----------\n",
      "STEP: 86\n",
      "training loss: -0.4098117876277249\n",
      "test loss: -0.3227869250206401\n",
      "----------\n",
      "STEP: 87\n",
      "training loss: -0.41423181483703386\n",
      "test loss: -0.3271951125876129\n",
      "----------\n",
      "STEP: 88\n",
      "training loss: -0.4185493315311353\n",
      "test loss: -0.3315074532480787\n",
      "----------\n",
      "STEP: 89\n",
      "training loss: -0.42276736886424005\n",
      "test loss: -0.33572689000705613\n",
      "----------\n",
      "STEP: 90\n",
      "training loss: -0.42688884453946335\n",
      "test loss: -0.3398562520404155\n",
      "----------\n",
      "STEP: 91\n",
      "training loss: -0.4309165681820267\n",
      "test loss: -0.34389826015049935\n",
      "----------\n",
      "STEP: 92\n",
      "training loss: -0.43485324642547274\n",
      "test loss: -0.34785553193500607\n",
      "----------\n",
      "STEP: 93\n",
      "training loss: -0.4387014877318546\n",
      "test loss: -0.35173058668915635\n",
      "----------\n",
      "STEP: 94\n",
      "training loss: -0.442463806964928\n",
      "test loss: -0.35552585005917947\n",
      "----------\n",
      "STEP: 95\n",
      "training loss: -0.4461426297333659\n",
      "test loss: -0.3592436584634203\n",
      "----------\n",
      "STEP: 96\n",
      "training loss: -0.44974029651952885\n",
      "test loss: -0.36288626329579704\n",
      "----------\n",
      "STEP: 97\n",
      "training loss: -0.45325906660770277\n",
      "test loss: -0.36645583492492856\n",
      "----------\n",
      "STEP: 98\n",
      "training loss: -0.4567011218244632\n",
      "test loss: -0.3699544665010584\n",
      "----------\n",
      "STEP: 99\n",
      "training loss: -0.4600685701026551\n",
      "test loss: -0.373384177581751\n",
      "----------\n",
      "STEP: 100\n",
      "training loss: -0.46336344887940656\n",
      "test loss: -0.37674691758643575\n"
     ]
    }
   ],
   "source": [
    "start = time.time()\n",
    "wInit, wInit1, wInit0 = wInitialization(train, 2)\n",
    "logerr_train, logerr_test, models, model1s, model0s = GradientDescent(train, validation, wInit, wInit1, wInit0, nSteps = 100,\n",
    "                                                    learningRate = 0.002, regParam = 0.01, regParam1 = 0.01, regParam0 = 0.01, verbose = True)"
   ]
  },
  {
   "cell_type": "code",
   "execution_count": 51,
   "metadata": {},
   "outputs": [
    {
     "name": "stdout",
     "output_type": "stream",
     "text": [
      "The loss of the estimated model is: -0.46336344887940656\n",
      "\n",
      "\n"
     ]
    },
    {
     "data": {
      "image/png": "[encoded data removed]",
      "text/plain": [
       "<Figure size 432x288 with 1 Axes>"
      ]
     },
     "metadata": {
      "needs_background": "light"
     },
     "output_type": "display_data"
    }
   ],
   "source": [
    "#print(f\"The estimated model is: {models[-1]}\")\n",
    "print(f\"The loss of the estimated model is: {logerr_train[-1]}\")\n",
    "print()\n",
    "print()\n",
    "plt.plot(logerr_train)\n",
    "plt.plot(logerr_test)\n",
    "plt.title('Loss')\n",
    "plt.show()"
   ]
  },
  {
   "cell_type": "code",
   "execution_count": 63,
   "metadata": {},
   "outputs": [],
   "source": [
    "def fmMakePrediction(dataRDD, w, w1, w0):\n",
    "    \"\"\"\n",
    "    Perform one regularized gradient descent step/update.\n",
    "    Args:\n",
    "        dataRDD - records are tuples of (y, features_array)\n",
    "        W       - (array) model coefficients with bias at index 0\n",
    "    Returns:\n",
    "        pred - (rdd) predicted targets\n",
    "    \"\"\"\n",
    "    w_bc = sc.broadcast(w)\n",
    "    w1_bc = sc.broadcast(w1)\n",
    "    w0_bc = sc.broadcast(w0)\n",
    "    def predict_fm(x, W, W1, W0):\n",
    "        xa = np.array([x])\n",
    "        VX =  xa.dot(W)\n",
    "        VX_square = (xa*xa).dot(W*W)\n",
    "        phi = 0.5*(VX*VX - VX_square).sum() + xa.dot(W1.T) + W0\n",
    "        return 1.0/(1.0 + np.exp(-phi))\n",
    "    \n",
    "    # compute prediction\n",
    "    pred = dataRDD.map(lambda x: (int(predict_fm(x[1],w_bc.value, w1_bc.value, w0_bc.value)>0.5), x[0] ))\n",
    "    ntp = pred.map(lambda x: int((x[0]*x[1]) == 1)).sum()\n",
    "    ntn = pred.map(lambda x: int((x[0]+x[1]) == 0)).sum()\n",
    "    nfp = pred.map(lambda x: int((x[0] == 1) * (x[1] == 0))).sum()\n",
    "    nfn = pred.map(lambda x: int((x[0] == 0) * (x[1] == 1))).sum()\n",
    "   \n",
    "    return pred, ntp, ntn, nfp, nfn\n",
    "   \n",
    "    return pred"
   ]
  },
  {
   "cell_type": "code",
   "execution_count": 53,
   "metadata": {},
   "outputs": [
    {
     "name": "stdout",
     "output_type": "stream",
     "text": [
      "Accuracy is:  0.6594871794871795\n",
      "Precision is:  0.3254901960784314\n",
      "Recall is:  0.1777301927194861\n",
      "F1 score is:  0.22991689750692523\n",
      "False positive rate is:  0.10844892812105927\n",
      "True positive rate is:  0.1777301927194861\n"
     ]
    }
   ],
   "source": [
    "pred, ntp, ntn, nfp, nfn = fmMakePrediction(validation, models[-1], model1s[-1], model0s[-1])\n",
    "\n",
    "cc = (ntp+ntn)/(ntp+ntn+nfp+nfn)\n",
    "prec = (ntp)/(ntp+nfp)\n",
    "rec = (ntp)/(ntp+nfn)\n",
    "f1 = 2*prec*rec/(prec+rec)\n",
    "fpr = nfp/(ntn+nfp)\n",
    "tpr = ntp/(ntp+nfn)\n",
    "print('Accuracy is: ', acc)\n",
    "print('Precision is: ', prec)\n",
    "print('Recall is: ', rec)\n",
    "print('F1 score is: ', f1)\n",
    "print('False positive rate is: ', fpr)\n",
    "print('True positive rate is: ', tpr)"
   ]
  },
  {
   "cell_type": "markdown",
   "metadata": {},
   "source": [
    "## 4.2 Adding Categorical Variables"
   ]
  },
  {
   "cell_type": "markdown",
   "metadata": {},
   "source": [
    "### Summary\n",
    "The earlier section showed a logistic regression model with numerical variables only. In this section, we incrementally add categorical variables and redo the logistic regression model on a small data set. Categorical variables present a challenge because each of them can have a million different values thereby creating millions of dimensions. To get around \"the curse of dimensionality\", we looked at quite a few methods to reduce the dimensions to a manageable level. This includes frequency based dimensionality reduction and hashing techniques at a feature level and at a collection of features. "
   ]
  },
  {
   "cell_type": "markdown",
   "metadata": {},
   "source": [
    "### \"The curse of dimensionality\" with categorical variables\n",
    "Below, we take a look at the number of dimensions in the train_sample dataset for each categorical variable"
   ]
  },
  {
   "cell_type": "code",
   "execution_count": 5,
   "metadata": {},
   "outputs": [
    {
     "name": "stdout",
     "output_type": "stream",
     "text": [
      "Column _15 has 1407 unique categorical values\n",
      "Column _16 has 555 unique categorical values\n",
      "Column _17 has 753315 unique categorical values\n",
      "Column _18 has 258094 unique categorical values\n",
      "Column _19 has 300 unique categorical values\n",
      "Column _20 has 16 unique categorical values\n",
      "Column _21 has 11741 unique categorical values\n",
      "Column _22 has 614 unique categorical values\n",
      "Column _23 has 3 unique categorical values\n",
      "Column _24 has 42422 unique categorical values\n",
      "Column _25 has 5126 unique categorical values\n",
      "Column _26 has 661596 unique categorical values\n",
      "Column _27 has 3169 unique categorical values\n",
      "Column _28 has 26 unique categorical values\n",
      "Column _29 has 10943 unique categorical values\n",
      "Column _30 has 489035 unique categorical values\n",
      "Column _31 has 10 unique categorical values\n",
      "Column _32 has 4479 unique categorical values\n",
      "Column _33 has 1959 unique categorical values\n",
      "Column _34 has 4 unique categorical values\n",
      "Column _35 has 588319 unique categorical values\n",
      "Column _36 has 15 unique categorical values\n",
      "Column _37 has 15 unique categorical values\n",
      "Column _38 has 69117 unique categorical values\n",
      "Column _39 has 83 unique categorical values\n",
      "Column _40 has 47492 unique categorical values\n",
      "Total number of distinct categorical variables in train_sample is: 2949855\n"
     ]
    }
   ],
   "source": [
    "# number of unique categorical values\n",
    "train_sample = sc.textFile('data/train_5pct.txt')\\\n",
    "                 .map(lambda x: x.split('\\t'))\\\n",
    "                 .toDF().cache()\n",
    "\n",
    "from pyspark.sql.functions import col\n",
    "distCatVarCnt = 0\n",
    "for col in train_sample.columns[14:]:\n",
    "    cnt = train_sample.select(col).distinct().count()\n",
    "    print('Column ' + col + ' has ' + str(cnt) \\\n",
    "          + ' unique categorical values')\n",
    "    distCatVarCnt += cnt\n",
    "print(\"Total number of distinct categorical variables in train_sample is:\", distCatVarCnt)"
   ]
  },
  {
   "cell_type": "markdown",
   "metadata": {},
   "source": [
    "As we can see above, the number of unique categorical variables is close to 3 million just for the train_sample dataset. We need to look into reducing the dimensionality without losing too much of information."
   ]
  },
  {
   "cell_type": "markdown",
   "metadata": {},
   "source": [
    "### 4.2.1 Per column frequency based dimensionality reduction\n",
    "\n",
    "One possible methold is to figure out if there are any frequent values in these categorical variables and choose the top 15 of them. If they make up nearly 100% of the values, then we can lump the rest under \"Other\" and come up with 16 column bins. This is a compute intensive operation as we try to figure out the top 15 values for each column and their contribution to the total count"
   ]
  },
  {
   "cell_type": "code",
   "execution_count": 8,
   "metadata": {},
   "outputs": [
    {
     "name": "stdout",
     "output_type": "stream",
     "text": [
      "   col                                       top15_values  top15_pct_contribution\n",
      "0   14  [05db9164, 68fd1e64, 5a9ed9b0, 8cf07265, be589...               93.799315\n",
      "1   15  [38a947a1, 207b2d81, 38d50e09, 1cfdf714, 28713...               49.197635\n",
      "2   16  [, d032c263, 02cf9876, aa8c1539, 9143c832, 77f...               15.918897\n",
      "3   17  [c18be181, , 29998ed1, d16679b9, 85dd697c, 135...               22.760540\n",
      "4   18  [25c83c98, 4cf72387, 43b19349, 384874ce, 30903...               98.811450\n",
      "5   19  [7e0ccccf, fbad5c96, fe6b92e5, , 13718bbd, 6f6...               99.999956\n",
      "6   20  [1c86e0eb, dc7659bd, 7195046d, 5e64ce5f, 468a0...               11.159026\n",
      "7   21  [0b153874, 5b392875, 1f89b562, 37e4aa92, 062b5...               97.309773\n",
      "8   22                     [a73ee510, 7cc72ec2, a18233ea]              100.000000\n",
      "9   23  [3b08e48b, efea433b, fbbf2c95, fa7d0797, 03e48...               29.441977\n",
      "10  24  [755e4a50, e51ddf94, 7f8ffe57, 4d8549da, 8b941...               16.492622\n",
      "11  25  [, dfbb09fb, 6aaba33c, 8fe001f4, d8c29807, ae1...               17.628686\n",
      "12  26  [5978055e, 3516f6e6, 46f42a63, 025225f2, 1aa94...               18.752751\n",
      "13  27  [b28479f6, 07d13a8f, 1adce6ef, 64c94865, cfef1...               99.627580\n",
      "14  28  [2d0bb053, d345b1a0, 3628a186, 10040656, 10935...               12.644822\n",
      "15  29  [, 84898b2a, b041b04a, 36103458, c64d548f, bad...               17.994343\n",
      "16  30  [e5ba7672, 07c540c4, d4bb7bd8, 3486227d, 776ce...              100.000000\n",
      "17  31  [e88ffc9d, 891589e7, 2804effd, c21c3e4c, 5aed7...               26.283869\n",
      "18  32  [, 21ddcdc9, 55dd3565, 5b885066, 9437f62f, 712...               85.607039\n",
      "19  33                   [, b1252a9d, 5840adea, a458ea53]              100.000000\n",
      "20  34  [, 0014c32a, 723b4dfd, e587c466, 5f957280, 042...               17.976760\n",
      "21  35  [, ad3062eb, c9d4222a, 78e2e389, 8ec974f4, c00...              100.000000\n",
      "22  36  [32c7478e, 3a171ecb, 423fab69, bcdee96c, be7c4...              100.000000\n",
      "23  37  [3fdb382b, b34f3128, 3b183c5c, 1793a828, , aee...               37.305768\n",
      "24  38  [, 001f3601, e8b83407, ea9a246c, cb079c2d, 445...               98.135676\n",
      "25  39  [, 49d68486, c84c4aec, 2fede552, c27f155b, aa5...               60.151385\n"
     ]
    }
   ],
   "source": [
    "train_sample_rdd = sc.textFile('data/train_5pct.txt')\n",
    "#testRdd = sc.parallelize(train_sample_rdd.take(100000))\n",
    "\n",
    "def getTop15FreqCols (rdd):\n",
    "    \n",
    "    #First get a count of rdd length\n",
    "    rddLen = rdd.count()\n",
    "\n",
    "    #Create pandas dataframe to store the top 15 values\n",
    "    top15df = pd.DataFrame(columns=['col', 'top15_values', 'top15_pct_contribution'])\n",
    "\n",
    "    for col in range(14,40):\n",
    "        catRdd = rdd.map(lambda x: x.split('\\t')[col]) \\\n",
    "                    .map(lambda x: (x,1)) \\\n",
    "                    .reduceByKey(lambda x,y: x + y)\n",
    "    \n",
    "        freqRecord = catRdd.takeOrdered(15, key=lambda x: -x[1])\n",
    "        freqList = []\n",
    "        freqCnt = 0\n",
    "        for (k,v) in freqRecord:\n",
    "            freqCnt += v\n",
    "            freqList.append(str(k))\n",
    "        top15df = top15df.append({'col': col, 'top15_values': freqList, 'top15_pct_contribution': 100*freqCnt/rddLen}, ignore_index=True)\n",
    "    \n",
    "    return(top15df)\n",
    "\n",
    "top15df = getTop15FreqCols(train_sample_rdd)\n",
    "\n",
    "#top15df = top15df.set_index('col')\n",
    "    \n",
    "print(top15df.to_string())"
   ]
  },
  {
   "cell_type": "markdown",
   "metadata": {},
   "source": [
    "From the above analysis, we can see that the categorical variables in some of the columns account for almost 100% of all values. These include columns 14, 18, 19, 21, 22, 27, 30, 32, 33, 35, 36 and 38. For these 11 columns, it would make sense to keep the top 15 values and lump everything else under an \"Other\" column.\n",
    "\n",
    "For the rest of the columns that don't exhibit this behavior, it might make sense to look at other strategies such as hashing to reduce dimensionality. Before we take this approach of using both the frequency related information and hashing, let's first take a look at hashing all columns next."
   ]
  },
  {
   "cell_type": "markdown",
   "metadata": {},
   "source": [
    "### 4.2.2 Per column Feature Hashing\n",
    "There are 26 categorical features in this model represented by strings that are 8 bytes long. So, theoretically, each string can take $2^{64} -1$ different values and lead to that many dimensions. We need to have far fewer dimensions so that we can make the problem computationally achievable and as well lead to a generalized algorithm as well. One way of achieving this is through what is popularly called the \"hashing trick\" (provide references). \n",
    "\n",
    "A simple way to reduce dimensionality is to hash the 8 byte long strings into, say 16 or 32 groups. We used the murmurHash3 hashing which is generally the preferred way of hashing strings (provide references and more details). Hashing leads to collisions as many strings could end up hashing to the same hash value. However, it has been proven (references) that even with collisions, hashing leads to very generalized models.\n",
    "\n",
    "One the categorical variables are hashed down to, say 16 values, they are then 1-hot encoded and fed into the logistic regression model. This section presents the results with the inclusion of 27 categorical variables, each individually hashed to 16 values, in addition to the numerical variables in the earlier section. "
   ]
  },
  {
   "cell_type": "code",
   "execution_count": 9,
   "metadata": {},
   "outputs": [
    {
     "name": "stdout",
     "output_type": "stream",
     "text": [
      "Collecting murmurhash3\n",
      "  Downloading https://files.pythonhosted.org/packages/b5/f4/1f9c4851667a2541bd151b8d9efef707495816274fada365fa6a31085a32/murmurhash3-2.3.5.tar.gz\n",
      "Building wheels for collected packages: murmurhash3\n",
      "  Running setup.py bdist_wheel for murmurhash3 ... \u001b[?25ldone\n",
      "\u001b[?25h  Stored in directory: /root/.cache/pip/wheels/06/eb/e4/f57324cd9c1bf001c9ba6d6926ad5231eca80964ed80b3610e\n",
      "Successfully built murmurhash3\n",
      "\u001b[31mtwisted 18.7.0 requires PyHamcrest>=1.9.0, which is not installed.\u001b[0m\n",
      "Installing collected packages: murmurhash3\n",
      "Successfully installed murmurhash3-2.3.5\n",
      "\u001b[33mYou are using pip version 10.0.1, however version 19.2.1 is available.\n",
      "You should consider upgrading via the 'pip install --upgrade pip' command.\u001b[0m\n"
     ]
    }
   ],
   "source": [
    "#Install murmurhash3 if needed\n",
    "!pip install murmurhash3\n",
    "import mmh3"
   ]
  },
  {
   "cell_type": "code",
   "execution_count": 34,
   "metadata": {},
   "outputs": [],
   "source": [
    "categorical_cols = ['Var14','Var15','Var16','Var17','Var18','Var19','Var20','Var21','Var22',\n",
    "                    'Var23','Var24','Var25','Var26','Var27','Var28','Var29','Var30','Var31',\n",
    "                   'Var32','Var33','Var34','Var35','Var36','Var37','Var38','Var39']\n",
    "\n",
    "for col in categorical_cols:\n",
    "    train_sample_EDA = train_sample_EDA.na.fill('Missing', [col])"
   ]
  },
  {
   "cell_type": "code",
   "execution_count": 35,
   "metadata": {},
   "outputs": [],
   "source": [
    "#generate train data for homegrown solution - select only 10000 rows of all features and target \n",
    "train_sample_red = train_sample_EDA.limit(10000).cache()"
   ]
  },
  {
   "cell_type": "code",
   "execution_count": 36,
   "metadata": {},
   "outputs": [],
   "source": [
    "#cache into rdd\n",
    "train_sample_red_RDD = train_sample_red.rdd.map(lambda x: (x[0], np.array(x[1:]))).cache()"
   ]
  },
  {
   "cell_type": "code",
   "execution_count": 37,
   "metadata": {},
   "outputs": [],
   "source": [
    "def hashTrans (rdd):\n",
    "\n",
    "    def createHash (elem,hlen):\n",
    "        import mmh3\n",
    "        hashStr = []\n",
    "        for string in elem:\n",
    "            hashStr.append(mmh3.hash(string) % int(hlen))\n",
    "        return(hashStr)\n",
    "\n",
    "    def create1Hot(elem, hlen):\n",
    "        oneHotStr = []\n",
    "        #for hashStr in elem:\n",
    "        for i in range (hlen):\n",
    "            if (i == elem):\n",
    "                oneHotStr.append(1)\n",
    "            else:\n",
    "                oneHotStr.append(0)\n",
    "        return(oneHotStr)\n",
    "\n",
    "    def createCatArray(elem):\n",
    "        catArray = []\n",
    "        for array in elem:\n",
    "            for x in array:\n",
    "                catArray.append(x)\n",
    "        return(np.array(catArray))\n",
    "\n",
    "    #Define murmurHash level for 1-hot encoding\n",
    "    HASHLEN = 16\n",
    "\n",
    "    #testRdd.map(lambda x : x.split('\\t')[14:40]).map(lambda x: [mmh3.hash(xn)%16 for xn in x]).take(5)\n",
    "    #categoricalRdd = rdd.map(lambda x : x.split('\\t')[14:40]) \\\n",
    "    #                    .map(lambda x: createHash(x,HASHLEN)) \\\n",
    "    #                    .map(lambda x: [create1Hot(xn, HASHLEN) for xn in x]) \\\n",
    "    #                    .map(createCatArray)\n",
    "    \n",
    "    categoricalRdd = rdd.map(lambda x : x[1][14:]) \\\n",
    "                        .map(lambda x: createHash(x,HASHLEN)) \\\n",
    "                        .map(lambda x: [create1Hot(xn, HASHLEN) for xn in x]) \\\n",
    "                        .map(createCatArray)\n",
    "    \n",
    "    return(categoricalRdd)\n",
    "\n",
    "categoricalRdd = hashTrans(train_sample_red_RDD)"
   ]
  },
  {
   "cell_type": "code",
   "execution_count": 38,
   "metadata": {},
   "outputs": [],
   "source": [
    "#Now include this into the logistic regression model\n",
    "#Zip numerical and categorical variables\n",
    "\n",
    "def mergeNumPlusCatRdds(elem):\n",
    "    x, y = elem\n",
    "    xkey , xval = x\n",
    "    merge =  (xkey, np.hstack((xval,y)))\n",
    "    return(merge)\n",
    "\n",
    "numPlusCatRdd = normedRDD.zip(categoricalRdd) \\\n",
    "                         .map(mergeNumPlusCatRdds)"
   ]
  },
  {
   "cell_type": "code",
   "execution_count": 39,
   "metadata": {},
   "outputs": [
    {
     "name": "stdout",
     "output_type": "stream",
     "text": [
      "413\n"
     ]
    }
   ],
   "source": [
    "#compute the number of features\n",
    "numb_features = np.size(numPlusCatRdd.first()[1])\n",
    "print(numb_features)\n",
    "#define baseline model, add one parameter representing the intercept\n",
    "BASELINE = np.random.randn(numb_features + 1)"
   ]
  },
  {
   "cell_type": "code",
   "execution_count": 40,
   "metadata": {},
   "outputs": [],
   "source": [
    "#split into train, validation and test sets\n",
    "train, validation, test = numPlusCatRdd.randomSplit([0.6, 0.2, 0.2], seed=200)"
   ]
  },
  {
   "cell_type": "code",
   "execution_count": 41,
   "metadata": {},
   "outputs": [
    {
     "data": {
      "image/png": "[encoded data removed]",
      "text/plain": [
       "<Figure size 432x288 with 1 Axes>"
      ]
     },
     "metadata": {},
     "output_type": "display_data"
    }
   ],
   "source": [
    "nSteps = 200\n",
    "regType = 'ridge'\n",
    "regParam = 0.1\n",
    "learningRate = 0.1\n",
    "\n",
    "# run gradient descent\n",
    "train_loss, test_loss, model = GDUpdate(train, validation, BASELINE, nSteps, regType=regType, \n",
    "                                        regParam=regParam, learningRate=learningRate, verbose = False)\n",
    "\n",
    "plt.plot(train_loss, label='train loss')\n",
    "plt.plot(test_loss, label='test loss')\n",
    "plt.title('Loss')\n",
    "plt.legend(loc='upper right')\n",
    "plt.show()"
   ]
  },
  {
   "cell_type": "code",
   "execution_count": 42,
   "metadata": {},
   "outputs": [
    {
     "name": "stdout",
     "output_type": "stream",
     "text": [
      "Accuracy is:  0.5479785679493424\n",
      "Precision is:  0.3048264182895851\n",
      "Recall is:  0.7708779443254818\n",
      "F1 score is:  0.43689320388349523\n",
      "False positive rate is:  0.5176544766708702\n",
      "True positive rate is:  0.7708779443254818\n"
     ]
    }
   ],
   "source": [
    "# make predictions and compute metrics for treshProb = 0.22\n",
    "pred, ntp, ntn, nfp, nfn = makePrediction(validation, model[-1], 0.22)\n",
    "\n",
    "acc = (ntp+ntn)/(ntp+ntn+nfp+nfn)\n",
    "prec = (ntp)/(ntp+nfp)\n",
    "rec = (ntp)/(ntp+nfn)\n",
    "f1 = 2*prec*rec/(prec+rec)\n",
    "fpr = nfp/(ntn+nfp)\n",
    "tpr = ntp/(ntp+nfn)\n",
    "print('Accuracy is: ', acc)\n",
    "print('Precision is: ', prec)\n",
    "print('Recall is: ', rec)\n",
    "print('F1 score is: ', f1)\n",
    "print('False positive rate is: ', fpr)\n",
    "print('True positive rate is: ', tpr)"
   ]
  },
  {
   "cell_type": "code",
   "execution_count": 43,
   "metadata": {},
   "outputs": [
    {
     "name": "stdout",
     "output_type": "stream",
     "text": [
      "0.5251742370564151\n"
     ]
    },
    {
     "data": {
      "text/plain": [
       "Text(0,0.5,'True positive rate')"
      ]
     },
     "execution_count": 43,
     "metadata": {},
     "output_type": "execute_result"
    },
    {
     "data": {
      "image/png": "[encoded data removed]",
      "text/plain": [
       "<Figure size 432x288 with 1 Axes>"
      ]
     },
     "metadata": {},
     "output_type": "display_data"
    }
   ],
   "source": [
    "# generate ROC curve\n",
    "tprSave = []\n",
    "fprSave = []\n",
    "for i in np.arange(0.0, 1.0, 0.025):\n",
    "    pred, ntp, ntn, nfp, nfn = makePrediction(validation, model[-1], i)\n",
    "    fprSave.append(nfp/(ntn+nfp))\n",
    "    tprSave.append(ntp/(ntp+nfn))\n",
    "\n",
    "#distance from the upper-left corner of the ROC curve - the lower, the better\n",
    "perf = np.sqrt((np.array(fprSave))**2+(1-np.array(tprSave))**2)\n",
    "print(np.min(perf))\n",
    "\n",
    "plt.plot(fprSave, tprSave)\n",
    "plt.xlabel('False positive rate')\n",
    "plt.ylabel('True positive rate')"
   ]
  },
  {
   "cell_type": "code",
   "execution_count": 44,
   "metadata": {},
   "outputs": [],
   "source": [
    "fprSave_ridge = fprSave\n",
    "tprSave_ridge = tprSave"
   ]
  },
  {
   "cell_type": "markdown",
   "metadata": {},
   "source": [
    "One model fit with lasso allowed us to identify what appear to be the most important features in this dataset. These were selected, somewhat arbitrarily, as the features whose absolute value of the coefficient was, after training, higher than $0.01$, together with the features immediately next to these. These features, $32$ in total, were utilized to train yet another ridge-regularized logistic regression model."
   ]
  },
  {
   "cell_type": "code",
   "execution_count": 45,
   "metadata": {},
   "outputs": [],
   "source": [
    "columns_sel = [4,5,6,9,10,11,12,61,62,63,72,73,74,119,120,121,122,133,134,135,160,161,162,308,309,310,404,405,406,407,408,409]\n",
    "numPlusCatRdd_sel = numPlusCatRdd.map(lambda x: (x[0], np.array([x[1][i] for i in columns_sel])))"
   ]
  },
  {
   "cell_type": "code",
   "execution_count": 46,
   "metadata": {},
   "outputs": [
    {
     "name": "stdout",
     "output_type": "stream",
     "text": [
      "32\n"
     ]
    }
   ],
   "source": [
    "#compute the number of features\n",
    "numb_features = np.size(numPlusCatRdd_sel.first()[1])\n",
    "print(numb_features)\n",
    "#define baseline model, add one parameter representing the intercept\n",
    "BASELINE = np.random.randn(numb_features + 1)"
   ]
  },
  {
   "cell_type": "code",
   "execution_count": 47,
   "metadata": {},
   "outputs": [],
   "source": [
    "#split into train, validation and test sets\n",
    "train, validation, test = numPlusCatRdd_sel.randomSplit([0.6, 0.2, 0.2], seed=200)"
   ]
  },
  {
   "cell_type": "code",
   "execution_count": 48,
   "metadata": {},
   "outputs": [
    {
     "data": {
      "image/png": "[encoded data removed]",
      "text/plain": [
       "<Figure size 432x288 with 1 Axes>"
      ]
     },
     "metadata": {},
     "output_type": "display_data"
    }
   ],
   "source": [
    "nSteps = 200\n",
    "regType = 'ridge'\n",
    "regParam = 0.05\n",
    "learningRate = 0.1\n",
    "\n",
    "# run gradient descent\n",
    "train_loss, test_loss, model = GDUpdate(train, validation, BASELINE, nSteps, regType=regType, \n",
    "                                        regParam=regParam, learningRate=learningRate, verbose = False)\n",
    "\n",
    "plt.plot(train_loss, label='train loss')\n",
    "plt.plot(test_loss, label='test loss')\n",
    "plt.title('Loss')\n",
    "plt.legend(loc='upper right')\n",
    "plt.show()"
   ]
  },
  {
   "cell_type": "code",
   "execution_count": 49,
   "metadata": {},
   "outputs": [
    {
     "name": "stdout",
     "output_type": "stream",
     "text": [
      "Accuracy is:  0.7754505601558694\n",
      "Precision is:  0.5681818181818182\n",
      "Recall is:  0.05353319057815846\n",
      "F1 score is:  0.09784735812133073\n",
      "False positive rate is:  0.01197982345523329\n",
      "True positive rate is:  0.05353319057815846\n"
     ]
    }
   ],
   "source": [
    "# make predictions and compute metrics for treshProb = 0.5\n",
    "pred, ntp, ntn, nfp, nfn = makePrediction(validation, model[-1], 0.5)\n",
    "\n",
    "acc = (ntp+ntn)/(ntp+ntn+nfp+nfn)\n",
    "prec = (ntp)/(ntp+nfp)\n",
    "rec = (ntp)/(ntp+nfn)\n",
    "f1 = 2*prec*rec/(prec+rec)\n",
    "fpr = nfp/(ntn+nfp)\n",
    "tpr = ntp/(ntp+nfn)\n",
    "print('Accuracy is: ', acc)\n",
    "print('Precision is: ', prec)\n",
    "print('Recall is: ', rec)\n",
    "print('F1 score is: ', f1)\n",
    "print('False positive rate is: ', fpr)\n",
    "print('True positive rate is: ', tpr)"
   ]
  },
  {
   "cell_type": "code",
   "execution_count": 50,
   "metadata": {},
   "outputs": [
    {
     "name": "stdout",
     "output_type": "stream",
     "text": [
      "0.5374047045277943\n"
     ]
    },
    {
     "data": {
      "text/plain": [
       "Text(0,0.5,'True positive rate')"
      ]
     },
     "execution_count": 50,
     "metadata": {},
     "output_type": "execute_result"
    },
    {
     "data": {
      "image/png": "[encoded data removed]",
      "text/plain": [
       "<Figure size 432x288 with 1 Axes>"
      ]
     },
     "metadata": {},
     "output_type": "display_data"
    }
   ],
   "source": [
    "# generate ROC curve\n",
    "tprSave = []\n",
    "fprSave = []\n",
    "for i in np.arange(0.0, 1.0, 0.025):\n",
    "    pred, ntp, ntn, nfp, nfn = makePrediction(validation, model[-1], i)\n",
    "    fprSave.append(nfp/(ntn+nfp))\n",
    "    tprSave.append(ntp/(ntp+nfn))\n",
    "\n",
    "#distance from the upper-left corner of the ROC curve - the lower, the better\n",
    "perf = np.sqrt((np.array(fprSave))**2+(1-np.array(tprSave))**2)\n",
    "print(np.min(perf))\n",
    "\n",
    "plt.plot(fprSave, tprSave)\n",
    "plt.xlabel('False positive rate')\n",
    "plt.ylabel('True positive rate')"
   ]
  },
  {
   "cell_type": "code",
   "execution_count": 51,
   "metadata": {},
   "outputs": [],
   "source": [
    "fprSave_ridge_red = fprSave\n",
    "tprSave_ridge_red = tprSave"
   ]
  },
  {
   "cell_type": "markdown",
   "metadata": {},
   "source": [
    "The plot below offers a comparison between the ROC curves as obtained with model trained on the full dataset and the model trained on the reduced dataset, respectively.  "
   ]
  },
  {
   "cell_type": "code",
   "execution_count": 52,
   "metadata": {},
   "outputs": [
    {
     "data": {
      "text/plain": [
       "<matplotlib.legend.Legend at 0x7f3380191dd8>"
      ]
     },
     "execution_count": 52,
     "metadata": {},
     "output_type": "execute_result"
    },
    {
     "data": {
      "image/png": "[encoded data removed]",
      "text/plain": [
       "<Figure size 432x288 with 1 Axes>"
      ]
     },
     "metadata": {},
     "output_type": "display_data"
    }
   ],
   "source": [
    "plt.plot(fprSave_ridge,tprSave_ridge, label='413 features')\n",
    "plt.plot(fprSave_ridge_red,tprSave_ridge_red, label='32 features')\n",
    "plt.xlabel('False positive rate')\n",
    "plt.ylabel('True positive rate')\n",
    "plt.legend()"
   ]
  },
  {
   "cell_type": "markdown",
   "metadata": {},
   "source": [
    "#### Factorization Machine"
   ]
  },
  {
   "cell_type": "code",
   "execution_count": 58,
   "metadata": {},
   "outputs": [
    {
     "name": "stdout",
     "output_type": "stream",
     "text": [
      "----------\n",
      "STEP: 1\n",
      "training loss: 1.6600936348362\n",
      "test loss: 1.640705159197655\n",
      "----------\n",
      "STEP: 2\n",
      "training loss: 1.6149438147030717\n",
      "test loss: 1.5973876049852864\n",
      "----------\n",
      "STEP: 3\n",
      "training loss: 1.5709047129599172\n",
      "test loss: 1.5551196612965654\n",
      "----------\n",
      "STEP: 4\n",
      "training loss: 1.5279545296228552\n",
      "test loss: 1.5138808069128842\n",
      "----------\n",
      "STEP: 5\n",
      "training loss: 1.4860706814649163\n",
      "test loss: 1.4736498261868902\n",
      "----------\n",
      "STEP: 6\n",
      "training loss: 1.4452299454135797\n",
      "test loss: 1.4344049375700063\n",
      "----------\n",
      "STEP: 7\n",
      "training loss: 1.4054085964157568\n",
      "test loss: 1.3961239175667135\n",
      "----------\n",
      "STEP: 8\n",
      "training loss: 1.366582538332149\n",
      "test loss: 1.3587842187340746\n",
      "----------\n",
      "STEP: 9\n",
      "training loss: 1.328727426758355\n",
      "test loss: 1.3223630806436657\n",
      "----------\n",
      "STEP: 10\n",
      "training loss: 1.291818782983446\n",
      "test loss: 1.2868376330119047\n",
      "----------\n",
      "STEP: 11\n",
      "training loss: 1.2558320985812528\n",
      "test loss: 1.2521849904726974\n",
      "----------\n",
      "STEP: 12\n",
      "training loss: 1.2207429303807644\n",
      "test loss: 1.2183823387061066\n",
      "----------\n",
      "STEP: 13\n",
      "training loss: 1.1865269857782261\n",
      "test loss: 1.1854070118449584\n",
      "----------\n",
      "STEP: 14\n",
      "training loss: 1.1531601985336435\n",
      "test loss: 1.1532365612561413\n",
      "----------\n",
      "STEP: 15\n",
      "training loss: 1.1206187953404576\n",
      "test loss: 1.1218488159354563\n",
      "----------\n",
      "STEP: 16\n",
      "training loss: 1.0888793535709471\n",
      "test loss: 1.0912219348661953\n",
      "----------\n",
      "STEP: 17\n",
      "training loss: 1.0579188506844024\n",
      "test loss: 1.0613344517748668\n",
      "----------\n",
      "STEP: 18\n",
      "training loss: 1.0277147058439358\n",
      "test loss: 1.032165312775521\n",
      "----------\n",
      "STEP: 19\n",
      "training loss: 0.9982448143243978\n",
      "test loss: 1.0036939074311018\n",
      "----------\n",
      "STEP: 20\n",
      "training loss: 0.9694875753114512\n",
      "test loss: 0.9759000937787374\n",
      "----------\n",
      "STEP: 21\n",
      "training loss: 0.9414219136945386\n",
      "test loss: 0.9487642178698222\n",
      "----------\n",
      "STEP: 22\n",
      "training loss: 0.9140272964464885\n",
      "test loss: 0.9222671283678539\n",
      "----------\n",
      "STEP: 23\n",
      "training loss: 0.8872837441631575\n",
      "test loss: 0.8963901867297622\n",
      "----------\n",
      "STEP: 24\n",
      "training loss: 0.8611718383102864\n",
      "test loss: 0.8711152734728108\n",
      "----------\n",
      "STEP: 25\n",
      "training loss: 0.8356727246932032\n",
      "test loss: 0.8464247910004182\n",
      "----------\n",
      "STEP: 26\n",
      "training loss: 0.8107681136305953\n",
      "test loss: 0.8223016634285546\n",
      "----------\n",
      "STEP: 27\n",
      "training loss: 0.7864402772771313\n",
      "test loss: 0.798729333820986\n",
      "----------\n",
      "STEP: 28\n",
      "training loss: 0.7626720445027582\n",
      "test loss: 0.7756917592074795\n",
      "----------\n",
      "STEP: 29\n",
      "training loss: 0.7394467936997967\n",
      "test loss: 0.7531734037253351\n",
      "----------\n",
      "STEP: 30\n",
      "training loss: 0.716748443853242\n",
      "test loss: 0.7311592301915952\n",
      "----------\n",
      "STEP: 31\n",
      "training loss: 0.6945614441753843\n",
      "test loss: 0.7096346903816606\n",
      "----------\n",
      "STEP: 32\n",
      "training loss: 0.6728707625734407\n",
      "test loss: 0.6885857142602384\n",
      "----------\n",
      "STEP: 33\n",
      "training loss: 0.6516618731885231\n",
      "test loss: 0.6679986983824141\n",
      "----------\n",
      "STEP: 34\n",
      "training loss: 0.6309207432161196\n",
      "test loss: 0.6478604936567829\n",
      "----------\n",
      "STEP: 35\n",
      "training loss: 0.6106338191922125\n",
      "test loss: 0.628158392638653\n",
      "----------\n",
      "STEP: 36\n",
      "training loss: 0.5907880129056968\n",
      "test loss: 0.6088801164994794\n",
      "----------\n",
      "STEP: 37\n",
      "training loss: 0.5713706870758986\n",
      "test loss: 0.5900138017989769\n",
      "----------\n",
      "STEP: 38\n",
      "training loss: 0.5523696409149029\n",
      "test loss: 0.5715479871684161\n",
      "----------\n",
      "STEP: 39\n",
      "training loss: 0.5337730956767728\n",
      "test loss: 0.5534715999976595\n",
      "----------\n",
      "STEP: 40\n",
      "training loss: 0.5155696802801375\n",
      "test loss: 0.5357739432041164\n",
      "----------\n",
      "STEP: 41\n",
      "training loss: 0.4977484170769115\n",
      "test loss: 0.5184446821492098\n",
      "----------\n",
      "STEP: 42\n",
      "training loss: 0.4802987078275545\n",
      "test loss: 0.5014738317565484\n",
      "----------\n",
      "STEP: 43\n",
      "training loss: 0.4632103199324319\n",
      "test loss: 0.4848517438762903\n",
      "----------\n",
      "STEP: 44\n",
      "training loss: 0.4464733729594893\n",
      "test loss: 0.46856909493136045\n",
      "----------\n",
      "STEP: 45\n",
      "training loss: 0.43007832550004427\n",
      "test loss: 0.45261687387375316\n",
      "----------\n",
      "STEP: 46\n",
      "training loss: 0.4140159623773902\n",
      "test loss: 0.4369863704724754\n",
      "----------\n",
      "STEP: 47\n",
      "training loss: 0.3982773822266122\n",
      "test loss: 0.4216691639491126\n",
      "----------\n",
      "STEP: 48\n",
      "training loss: 0.3828539854587087\n",
      "test loss: 0.40665711197205956\n",
      "----------\n",
      "STEP: 49\n",
      "training loss: 0.36773746261746276\n",
      "test loss: 0.3919423400163051\n",
      "----------\n",
      "STEP: 50\n",
      "training loss: 0.35291978313364114\n",
      "test loss: 0.37751723109214796\n",
      "----------\n",
      "STEP: 51\n",
      "training loss: 0.3383931844777326\n",
      "test loss: 0.36337441584318314\n",
      "----------\n",
      "STEP: 52\n",
      "training loss: 0.3241501617097387\n",
      "test loss: 0.34950676301144146\n",
      "----------\n",
      "STEP: 53\n",
      "training loss: 0.3101834574221152\n",
      "test loss: 0.3359073702654661\n",
      "----------\n",
      "STEP: 54\n",
      "training loss: 0.2964860520701296\n",
      "test loss: 0.3225695553854115\n",
      "----------\n",
      "STEP: 55\n",
      "training loss: 0.2830511546823202\n",
      "test loss: 0.3094868477978812\n",
      "----------\n",
      "STEP: 56\n",
      "training loss: 0.2698721939424775\n",
      "test loss: 0.2966529804521051\n",
      "----------\n",
      "STEP: 57\n",
      "training loss: 0.2569428096336322\n",
      "test loss: 0.28406188202822935\n",
      "----------\n",
      "STEP: 58\n",
      "training loss: 0.24425684443372084\n",
      "test loss: 0.2717076694678207\n",
      "----------\n",
      "STEP: 59\n",
      "training loss: 0.23180833605212475\n",
      "test loss: 0.2595846408162412\n",
      "----------\n",
      "STEP: 60\n",
      "training loss: 0.21959150969580943\n",
      "test loss: 0.24768726836622162\n",
      "----------\n",
      "STEP: 61\n",
      "training loss: 0.20760077085361514\n",
      "test loss: 0.2360101920917823\n",
      "----------\n",
      "STEP: 62\n",
      "training loss: 0.19583069838708428\n",
      "test loss: 0.22454821336159095\n",
      "----------\n",
      "STEP: 63\n",
      "training loss: 0.18427603791621938\n",
      "test loss: 0.2132962889208271\n",
      "----------\n",
      "STEP: 64\n",
      "training loss: 0.1729316954886096\n",
      "test loss: 0.20224952513075373\n",
      "----------\n",
      "STEP: 65\n",
      "training loss: 0.16179273152050036\n",
      "test loss: 0.19140317245532393\n",
      "----------\n",
      "STEP: 66\n",
      "training loss: 0.15085435499858432\n",
      "test loss: 0.180752620184362\n",
      "----------\n",
      "STEP: 67\n",
      "training loss: 0.14011191793151379\n",
      "test loss: 0.17029339138310876\n",
      "----------\n",
      "STEP: 68\n",
      "training loss: 0.12956091004040224\n",
      "test loss: 0.16002113805818738\n",
      "----------\n",
      "STEP: 69\n",
      "training loss: 0.11919695367790949\n",
      "test loss: 0.14993163653034441\n",
      "----------\n",
      "STEP: 70\n",
      "training loss: 0.10901579896579668\n",
      "test loss: 0.14002078300465295\n",
      "----------\n",
      "STEP: 71\n",
      "training loss: 0.09901331914118584\n",
      "test loss: 0.1302845893291685\n",
      "----------\n",
      "STEP: 72\n",
      "training loss: 0.08918550610211953\n",
      "test loss: 0.12071917893339763\n",
      "----------\n",
      "STEP: 73\n",
      "training loss: 0.07952846614333205\n",
      "test loss: 0.11132078293823874\n",
      "----------\n",
      "STEP: 74\n",
      "training loss: 0.07003841587354422\n",
      "test loss: 0.10208573642943791\n",
      "----------\n",
      "STEP: 75\n",
      "training loss: 0.06071167830590777\n",
      "test loss: 0.09301047488690624\n",
      "----------\n",
      "STEP: 76\n",
      "training loss: 0.051544679113596205\n",
      "test loss: 0.0840915307626006\n",
      "----------\n",
      "STEP: 77\n",
      "training loss: 0.042533943042882334\n",
      "test loss: 0.0753255301999864\n",
      "----------\n",
      "STEP: 78\n",
      "training loss: 0.03367609047637128\n",
      "test loss: 0.06670918988842445\n",
      "----------\n",
      "STEP: 79\n",
      "training loss: 0.024967834139398327\n",
      "test loss: 0.058239314046136144\n",
      "----------\n",
      "STEP: 80\n",
      "training loss: 0.016405975942914593\n",
      "test loss: 0.04991279152569822\n",
      "----------\n",
      "STEP: 81\n",
      "training loss: 0.007987403956494442\n",
      "test loss: 0.04172659303631596\n",
      "----------\n",
      "STEP: 82\n",
      "training loss: -0.00029091049459838337\n",
      "test loss: 0.033677768477397646\n",
      "----------\n",
      "STEP: 83\n",
      "training loss: -0.008431915614062554\n",
      "test loss: 0.025763444378226686\n",
      "----------\n",
      "STEP: 84\n",
      "training loss: -0.01643848180642842\n",
      "test loss: 0.01798082143878599\n",
      "----------\n",
      "STEP: 85\n",
      "training loss: -0.02431340424137528\n",
      "test loss: 0.010327172167034247\n",
      "----------\n",
      "STEP: 86\n",
      "training loss: -0.03205940531547254\n",
      "test loss: 0.00279983860817263\n",
      "----------\n",
      "STEP: 87\n",
      "training loss: -0.039679137016079474\n",
      "test loss: -0.004603769838335705\n",
      "----------\n",
      "STEP: 88\n",
      "training loss: -0.04717518319189871\n",
      "test loss: -0.011886178518015728\n",
      "----------\n",
      "STEP: 89\n",
      "training loss: -0.05455006173446357\n",
      "test loss: -0.01904984954071791\n",
      "----------\n",
      "STEP: 90\n",
      "training loss: -0.06180622667462002\n",
      "test loss: -0.026097183723665957\n",
      "----------\n",
      "STEP: 91\n",
      "training loss: -0.06894607019786693\n",
      "test loss: -0.033030522461655956\n",
      "----------\n",
      "STEP: 92\n",
      "training loss: -0.07597192458222421\n",
      "test loss: -0.03985214952766756\n",
      "----------\n",
      "STEP: 93\n",
      "training loss: -0.0828860640621161\n",
      "test loss: -0.0465642928069906\n",
      "----------\n",
      "STEP: 94\n",
      "training loss: -0.08969070662158318\n",
      "test loss: -0.05316912596779929\n",
      "----------\n",
      "STEP: 95\n",
      "training loss: -0.09638801571996988\n",
      "test loss: -0.05966877007097722\n",
      "----------\n",
      "STEP: 96\n",
      "training loss: -0.10298010195308442\n",
      "test loss: -0.06606529512183137\n",
      "----------\n",
      "STEP: 97\n",
      "training loss: -0.10946902465266715\n",
      "test loss: -0.07236072156622124\n",
      "----------\n",
      "STEP: 98\n",
      "training loss: -0.11585679342688218\n",
      "test loss: -0.07855702173349033\n",
      "----------\n",
      "STEP: 99\n",
      "training loss: -0.12214536964438767\n",
      "test loss: -0.08465612122846956\n",
      "----------\n",
      "STEP: 100\n",
      "training loss: -0.12833666786443926\n",
      "test loss: -0.0906599002747129\n"
     ]
    }
   ],
   "source": [
    "start = time.time()\n",
    "wInit, wInit1, wInit0 = wInitialization(train, 2)\n",
    "#print(wInit)\n",
    "logerr_train, logerr_test, models_cat, model1s_cat, model0s_cat = GradientDescent(train, validation, wInit,wInit1, wInit0, nSteps = 100,\n",
    "                                                    learningRate = 0.001, regParam = 0.01, regParam1 = 0.01, regParam0 = 0.01, verbose = True)"
   ]
  },
  {
   "cell_type": "code",
   "execution_count": 62,
   "metadata": {},
   "outputs": [
    {
     "name": "stdout",
     "output_type": "stream",
     "text": [
      "\n",
      "\n"
     ]
    },
    {
     "data": {
      "image/png": "[encoded data removed]",
      "text/plain": [
       "<Figure size 432x288 with 1 Axes>"
      ]
     },
     "metadata": {},
     "output_type": "display_data"
    }
   ],
   "source": [
    "#print(f\"The estimated model is: {models[-1]}\")\n",
    "#print(f\"The loss of the estimated model is: {logerr_train[-1]}\")\n",
    "print()\n",
    "print()\n",
    "plt.plot(logerr_train)\n",
    "plt.plot(logerr_test)\n",
    "plt.title('Loss')\n",
    "plt.show()"
   ]
  },
  {
   "cell_type": "code",
   "execution_count": 65,
   "metadata": {},
   "outputs": [
    {
     "name": "stdout",
     "output_type": "stream",
     "text": [
      "Accuracy is:  0.7754505601558694\n",
      "Precision is:  0.372972972972973\n",
      "Recall is:  0.14775160599571735\n",
      "F1 score is:  0.21165644171779144\n",
      "False positive rate is:  0.07313997477931904\n",
      "True positive rate is:  0.14775160599571735\n"
     ]
    }
   ],
   "source": [
    "pred, ntp, ntn, nfp, nfn = fmMakePrediction(validation, models_cat[-1], model1s_cat[-1], model0s_cat[-1])\n",
    "\n",
    "cc = (ntp+ntn)/(ntp+ntn+nfp+nfn)\n",
    "prec = (ntp)/(ntp+nfp)\n",
    "rec = (ntp)/(ntp+nfn)\n",
    "f1 = 2*prec*rec/(prec+rec)\n",
    "fpr = nfp/(ntn+nfp)\n",
    "tpr = ntp/(ntp+nfn)\n",
    "print('Accuracy is: ', acc)\n",
    "print('Precision is: ', prec)\n",
    "print('Recall is: ', rec)\n",
    "print('F1 score is: ', f1)\n",
    "print('False positive rate is: ', fpr)\n",
    "print('True positive rate is: ', tpr)"
   ]
  },
  {
   "cell_type": "markdown",
   "metadata": {},
   "source": [
    "### 4.2.3 Multi-column Feature Hashing\n",
    "Hashing each column independently resulted in a dimensionality reduction from several million vectors to 416 for the categorical variables. We could further reduce dimensionality through multi-column Feature Hashing with a likely tradeoff being the loss of accuracy (TBD). \n",
    "\n",
    "We used the multi-column FeatureHashing functionality in Apache Spark MLLib to look into how dimensionality reduction to fewer vectors for logistic regression. Multi-column FeatureHashing would be very handy when we start looking at adding in quadratic terms for logistic regression. Instead of a (416,416) quadratic feature matrix, we could deal with a smaller (32,32) or (64,64) features, leading to faster computation."
   ]
  },
  {
   "cell_type": "markdown",
   "metadata": {},
   "source": [
    "#### Spark MLLib FeatureHasher example\n",
    "The FeatureHasher in spark takes multiple columns of categorical (and numerical) variables and hashes them down to fewer features. It is possible to specify the number of output features so that we can restrict the dimensions to a more manageable number."
   ]
  },
  {
   "cell_type": "code",
   "execution_count": 66,
   "metadata": {},
   "outputs": [
    {
     "name": "stdout",
     "output_type": "stream",
     "text": [
      "+--------------------------------------------------------+\n",
      "|features                                                |\n",
      "+--------------------------------------------------------+\n",
      "|(262144,[174475,247670,257907,262126],[2.2,1.0,1.0,1.0])|\n",
      "|(262144,[70644,89673,173866,174475],[1.0,1.0,1.0,3.3])  |\n",
      "|(262144,[22406,70644,174475,187923],[1.0,1.0,4.4,1.0])  |\n",
      "|(262144,[70644,101499,174475,257907],[1.0,1.0,5.5,1.0]) |\n",
      "+--------------------------------------------------------+\n",
      "\n"
     ]
    }
   ],
   "source": [
    "#Feature hashing example\n",
    "from pyspark.ml.feature import FeatureHasher\n",
    "\n",
    "dataset = spark.createDataFrame([\n",
    "    (2.2, True, \"1\", \"foo\"),\n",
    "    (3.3, False, \"2\", \"bar\"),\n",
    "    (4.4, False, \"3\", \"baz\"),\n",
    "    (5.5, False, \"4\", \"foo\")\n",
    "], [\"real\", \"bool\", \"stringNum\", \"string\"])\n",
    "\n",
    "hasher = FeatureHasher(inputCols=[\"real\", \"bool\", \"stringNum\", \"string\"],\n",
    "                       outputCol=\"features\")\n",
    "\n",
    "featurized = hasher.transform(dataset)\n",
    "featurized.select(\"features\").show(truncate=False)"
   ]
  },
  {
   "cell_type": "markdown",
   "metadata": {},
   "source": [
    "#### Multi-column Feature Hashing\n",
    "We applied Multi-column Feature Hashing to get to a dimensionality of 64 vectors using FeatureHasher. The results of the logistic regression following this hashing are given below "
   ]
  },
  {
   "cell_type": "code",
   "execution_count": 67,
   "metadata": {},
   "outputs": [],
   "source": [
    "#generate train data for homegrown solution - select only 10000 rows of all features and target \n",
    "train_sample_red = train_sample_EDA.limit(10000).cache()"
   ]
  },
  {
   "cell_type": "code",
   "execution_count": 68,
   "metadata": {},
   "outputs": [],
   "source": [
    "#cache into rdd\n",
    "train_sample_red_RDD = train_sample_red.rdd.map(lambda x: (x[0], np.array(x[1:]))).cache()"
   ]
  },
  {
   "cell_type": "code",
   "execution_count": 69,
   "metadata": {},
   "outputs": [
    {
     "name": "stdout",
     "output_type": "stream",
     "text": [
      "['Var14', 'Var15', 'Var16', 'Var17', 'Var18', 'Var19', 'Var20', 'Var21', 'Var22', 'Var23', 'Var24', 'Var25', 'Var26', 'Var27', 'Var28', 'Var29', 'Var30', 'Var31', 'Var32', 'Var33', 'Var34', 'Var35', 'Var36', 'Var37', 'Var38', 'Var39']\n"
     ]
    }
   ],
   "source": [
    "#choose categorical columns to Hash\n",
    "hashInpList = []\n",
    "for c in categorical_cols:\n",
    "    hashInpList.append(c)\n",
    "print (hashInpList)"
   ]
  },
  {
   "cell_type": "code",
   "execution_count": 70,
   "metadata": {},
   "outputs": [
    {
     "name": "stdout",
     "output_type": "stream",
     "text": [
      "+---------------------------------------------------------------------------------------------------------------------------------------------------------------------------------------------------------+\n",
      "|features                                                                                                                                                                                                 |\n",
      "+---------------------------------------------------------------------------------------------------------------------------------------------------------------------------------------------------------+\n",
      "|(256,[8,16,20,39,60,62,66,71,82,84,107,111,113,125,131,146,163,165,190,193,201,220,226,228,232],[1.0,1.0,1.0,1.0,1.0,1.0,1.0,1.0,1.0,1.0,1.0,1.0,1.0,1.0,1.0,1.0,1.0,1.0,1.0,1.0,1.0,1.0,1.0,2.0,1.0])   |\n",
      "|(256,[9,12,25,34,39,41,62,79,107,108,111,113,121,122,141,194,201,202,211,219,228,248],[1.0,1.0,2.0,2.0,1.0,1.0,1.0,1.0,2.0,1.0,1.0,1.0,1.0,1.0,1.0,1.0,1.0,1.0,1.0,1.0,2.0,1.0])                         |\n",
      "|(256,[27,39,52,62,81,88,94,97,107,111,125,133,136,140,176,187,201,202,220,222,228,232,233,238,255],[1.0,1.0,1.0,1.0,1.0,1.0,1.0,1.0,1.0,1.0,1.0,1.0,1.0,2.0,1.0,1.0,1.0,1.0,1.0,1.0,1.0,1.0,1.0,1.0,1.0])|\n",
      "+---------------------------------------------------------------------------------------------------------------------------------------------------------------------------------------------------------+\n",
      "only showing top 3 rows\n",
      "\n"
     ]
    }
   ],
   "source": [
    "#Apply Multi-column hashing with given output features\n",
    "numFeatures = 256 #tried 50, 100, 256, 400\n",
    "hasher = FeatureHasher(numFeatures=numFeatures, inputCols=hashInpList,outputCol=\"features\")\n",
    "\n",
    "featurized = hasher.transform(train_sample_red)\n",
    "featurized.select(\"features\").show(3,truncate=False)"
   ]
  },
  {
   "cell_type": "code",
   "execution_count": 71,
   "metadata": {},
   "outputs": [
    {
     "name": "stdout",
     "output_type": "stream",
     "text": [
      "+---+------------------+------------------+------------------+------------------+-----------------+------------------+------------------+------------------+------------------+------------------+------------------+------------------+------------------+--------+--------+--------+--------+--------+--------+--------+--------+--------+--------+--------+--------+--------+--------+--------+--------+--------+--------+--------+--------+--------+--------+--------+--------+--------+--------+--------------------+\n",
      "|CTR|              Var1|              Var2|              Var3|              Var4|             Var5|              Var6|              Var7|              Var8|              Var9|             Var10|             Var11|             Var12|             Var13|   Var14|   Var15|   Var16|   Var17|   Var18|   Var19|   Var20|   Var21|   Var22|   Var23|   Var24|   Var25|   Var26|   Var27|   Var28|   Var29|   Var30|   Var31|   Var32|   Var33|   Var34|   Var35|   Var36|   Var37|   Var38|   Var39|            features|\n",
      "+---+------------------+------------------+------------------+------------------+-----------------+------------------+------------------+------------------+------------------+------------------+------------------+------------------+------------------+--------+--------+--------+--------+--------+--------+--------+--------+--------+--------+--------+--------+--------+--------+--------+--------+--------+--------+--------+--------+--------+--------+--------+--------+--------+--------+--------------------+\n",
      "|  0|0.6931471805599453|0.6931471805599453| 1.791759469228055|               0.0|7.232010331664759|1.6094379124341003| 2.772588722239781|1.0986122886681098| 5.204006687076795|0.6931471805599453|1.0986122886681098|0.6931471805599453|1.0986122886681098|68fd1e64|80e26c9b|fb936136|7b4723c4|25c83c98|7e0ccccf|de7995b8|1f89b562|a73ee510|a8cd5504|b2cb9c98|37c9c164|2824a5f6|1adce6ef|8ba8b39a|891b62e7|e5ba7672|f54016b9|21ddcdc9|b1252a9d|07b5194c| Missing|3a171ecb|c5c50484|e8b83407|9727dd16|(256,[8,16,20,39,...|\n",
      "|  0|1.0986122886681098|               0.0|3.8066624897703196|0.6931471805599453|4.634728988229636|2.1972245773362196|1.0986122886681098|1.0986122886681098|1.6094379124341003|0.6931471805599453|0.6931471805599453|0.6931471805599453|1.6094379124341003|68fd1e64|f0cf0024|6f67f7e5|41274cd7|25c83c98|fe6b92e5|922afcc0|0b153874|a73ee510|2b53e5fb|4f1b46f3|623049e6|d7020589|b28479f6|e6c5b5cd|c92f3b61|07c540c4|b04e4670|21ddcdc9|5840adea|60f6221e| Missing|3a171ecb|43f13e8b|e8b83407|731c3655|(256,[9,12,25,34,...|\n",
      "|  0|1.0986122886681098|               0.0|0.6931471805599453|  2.70805020110221|6.643789733147672| 4.499809670330265|1.6094379124341003|1.0986122886681098|5.5053315359323625|0.6931471805599453|1.3862943611198906|1.3862943611198906| 3.828641396489095|287e684f|0a519c5c|02cf9876|c18be181|25c83c98|7e0ccccf|c78204a1|0b153874|a73ee510|3b08e48b|5f5e6091|8fe001f4|aa655a2f|07d13a8f|6dc710ed|36103458|8efede7f|3412118d| Missing| Missing|e587c466|ad3062eb|3a171ecb|3b183c5c| Missing| Missing|(256,[27,39,52,62...|\n",
      "+---+------------------+------------------+------------------+------------------+-----------------+------------------+------------------+------------------+------------------+------------------+------------------+------------------+------------------+--------+--------+--------+--------+--------+--------+--------+--------+--------+--------+--------+--------+--------+--------+--------+--------+--------+--------+--------+--------+--------+--------+--------+--------+--------+--------+--------------------+\n",
      "only showing top 3 rows\n",
      "\n"
     ]
    },
    {
     "data": {
      "text/plain": [
       "1"
      ]
     },
     "execution_count": 71,
     "metadata": {},
     "output_type": "execute_result"
    }
   ],
   "source": [
    "featurized.show(3)\n",
    "featurized.rdd.getNumPartitions()"
   ]
  },
  {
   "cell_type": "code",
   "execution_count": 72,
   "metadata": {},
   "outputs": [
    {
     "data": {
      "text/plain": [
       "1"
      ]
     },
     "execution_count": 72,
     "metadata": {},
     "output_type": "execute_result"
    }
   ],
   "source": [
    "#Convert into a dense vector format to feed logistic regression model\n",
    "def extractVec (elem):\n",
    "    return(np.array(tuple(elem.features.toArray().tolist())))\n",
    "    \n",
    "multiHashCatRdd = featurized.select(\"features\").rdd.map(extractVec)\n",
    "#map(extractVec)\n",
    "multiHashCatRdd.take(3)\n",
    "multiHashCatRdd.getNumPartitions()"
   ]
  },
  {
   "cell_type": "code",
   "execution_count": 73,
   "metadata": {},
   "outputs": [
    {
     "name": "stdout",
     "output_type": "stream",
     "text": [
      "+---+------------------+------------------+------------------+------------------+-----------------+------------------+------------------+------------------+------------------+------------------+------------------+------------------+------------------+--------+--------+--------+--------+--------+--------+--------+--------+--------+--------+--------+--------+--------+--------+--------+--------+--------+--------+--------+--------+--------+--------+--------+--------+--------+--------+--------------------+\n",
      "|CTR|              Var1|              Var2|              Var3|              Var4|             Var5|              Var6|              Var7|              Var8|              Var9|             Var10|             Var11|             Var12|             Var13|   Var14|   Var15|   Var16|   Var17|   Var18|   Var19|   Var20|   Var21|   Var22|   Var23|   Var24|   Var25|   Var26|   Var27|   Var28|   Var29|   Var30|   Var31|   Var32|   Var33|   Var34|   Var35|   Var36|   Var37|   Var38|   Var39|            features|\n",
      "+---+------------------+------------------+------------------+------------------+-----------------+------------------+------------------+------------------+------------------+------------------+------------------+------------------+------------------+--------+--------+--------+--------+--------+--------+--------+--------+--------+--------+--------+--------+--------+--------+--------+--------+--------+--------+--------+--------+--------+--------+--------+--------+--------+--------+--------------------+\n",
      "|  0|0.6931471805599453|0.6931471805599453| 1.791759469228055|               0.0|7.232010331664759|1.6094379124341003| 2.772588722239781|1.0986122886681098| 5.204006687076795|0.6931471805599453|1.0986122886681098|0.6931471805599453|1.0986122886681098|68fd1e64|80e26c9b|fb936136|7b4723c4|25c83c98|7e0ccccf|de7995b8|1f89b562|a73ee510|a8cd5504|b2cb9c98|37c9c164|2824a5f6|1adce6ef|8ba8b39a|891b62e7|e5ba7672|f54016b9|21ddcdc9|b1252a9d|07b5194c| Missing|3a171ecb|c5c50484|e8b83407|9727dd16|(256,[8,16,20,39,...|\n",
      "|  0|1.0986122886681098|               0.0|3.8066624897703196|0.6931471805599453|4.634728988229636|2.1972245773362196|1.0986122886681098|1.0986122886681098|1.6094379124341003|0.6931471805599453|0.6931471805599453|0.6931471805599453|1.6094379124341003|68fd1e64|f0cf0024|6f67f7e5|41274cd7|25c83c98|fe6b92e5|922afcc0|0b153874|a73ee510|2b53e5fb|4f1b46f3|623049e6|d7020589|b28479f6|e6c5b5cd|c92f3b61|07c540c4|b04e4670|21ddcdc9|5840adea|60f6221e| Missing|3a171ecb|43f13e8b|e8b83407|731c3655|(256,[9,12,25,34,...|\n",
      "|  0|1.0986122886681098|               0.0|0.6931471805599453|  2.70805020110221|6.643789733147672| 4.499809670330265|1.6094379124341003|1.0986122886681098|5.5053315359323625|0.6931471805599453|1.3862943611198906|1.3862943611198906| 3.828641396489095|287e684f|0a519c5c|02cf9876|c18be181|25c83c98|7e0ccccf|c78204a1|0b153874|a73ee510|3b08e48b|5f5e6091|8fe001f4|aa655a2f|07d13a8f|6dc710ed|36103458|8efede7f|3412118d| Missing| Missing|e587c466|ad3062eb|3a171ecb|3b183c5c| Missing| Missing|(256,[27,39,52,62...|\n",
      "+---+------------------+------------------+------------------+------------------+-----------------+------------------+------------------+------------------+------------------+------------------+------------------+------------------+------------------+--------+--------+--------+--------+--------+--------+--------+--------+--------+--------+--------+--------+--------+--------+--------+--------+--------+--------+--------+--------+--------+--------+--------+--------+--------+--------+--------------------+\n",
      "only showing top 3 rows\n",
      "\n"
     ]
    }
   ],
   "source": [
    "featurized.show(3)"
   ]
  },
  {
   "cell_type": "code",
   "execution_count": 74,
   "metadata": {},
   "outputs": [
    {
     "data": {
      "text/plain": [
       "1"
      ]
     },
     "execution_count": 74,
     "metadata": {},
     "output_type": "execute_result"
    }
   ],
   "source": [
    "#Now include this into the logistic regression model\n",
    "#Zip numerical and categorical variables\n",
    "\n",
    "def mergeNumPlusCatRdds(elem):\n",
    "    x, y = elem\n",
    "    xkey , xval = x\n",
    "    merge =  (xkey, np.hstack((xval,y)))\n",
    "    return(merge)\n",
    "\n",
    "numPlusCatRdd2 = normedRDD.zip(multiHashCatRdd) \\\n",
    "                         .map(mergeNumPlusCatRdds)\n",
    "numPlusCatRdd2.take(1)\n",
    "numPlusCatRdd2.getNumPartitions()"
   ]
  },
  {
   "cell_type": "code",
   "execution_count": 75,
   "metadata": {},
   "outputs": [
    {
     "name": "stdout",
     "output_type": "stream",
     "text": [
      "269\n"
     ]
    }
   ],
   "source": [
    "#compute the number of features\n",
    "numb_features = np.size(numPlusCatRdd2.first()[1])\n",
    "print(numb_features)\n",
    "#define baseline model, add one parameter representing the intercept\n",
    "BASELINE = np.random.randn(numb_features + 1)\n"
   ]
  },
  {
   "cell_type": "code",
   "execution_count": 76,
   "metadata": {},
   "outputs": [],
   "source": [
    "#split into train, validation and test sets\n",
    "train, validation, test = numPlusCatRdd2.randomSplit([0.6, 0.2, 0.2], seed=200)"
   ]
  },
  {
   "cell_type": "code",
   "execution_count": 77,
   "metadata": {},
   "outputs": [
    {
     "data": {
      "image/png": "[encoded data removed]",
      "text/plain": [
       "<Figure size 432x288 with 1 Axes>"
      ]
     },
     "metadata": {},
     "output_type": "display_data"
    }
   ],
   "source": [
    "nSteps = 200\n",
    "regType = 'ridge'\n",
    "regParam = 0.12\n",
    "learningRate = 0.1\n",
    "\n",
    "# run gradient descent\n",
    "train_loss, test_loss, model = GDUpdate(train, validation, BASELINE, nSteps, regType=regType, \n",
    "                                        regParam=regParam, learningRate=learningRate, verbose = False)\n",
    "\n",
    "plt.plot(train_loss)\n",
    "plt.plot(test_loss)\n",
    "plt.title('Loss')\n",
    "plt.show()"
   ]
  },
  {
   "cell_type": "code",
   "execution_count": 78,
   "metadata": {},
   "outputs": [
    {
     "name": "stdout",
     "output_type": "stream",
     "text": [
      "Accuracy is:  0.77496346809547\n",
      "Precision is:  0.5862068965517241\n",
      "Recall is:  0.03640256959314775\n",
      "F1 score is:  0.0685483870967742\n",
      "False positive rate is:  0.007566204287515763\n",
      "True positive rate is:  0.03640256959314775\n"
     ]
    }
   ],
   "source": [
    "# make predictions and compute metrics for treshProb = 0.5\n",
    "pred, ntp, ntn, nfp, nfn = makePrediction(validation, model[-1], 0.5)\n",
    "\n",
    "acc = (ntp+ntn)/(ntp+ntn+nfp+nfn)\n",
    "prec = (ntp)/(ntp+nfp)\n",
    "rec = (ntp)/(ntp+nfn)\n",
    "f1 = 2*prec*rec/(prec+rec)\n",
    "fpr = nfp/(ntn+nfp)\n",
    "tpr = ntp/(ntp+nfn)\n",
    "print('Accuracy is: ', acc)\n",
    "print('Precision is: ', prec)\n",
    "print('Recall is: ', rec)\n",
    "print('F1 score is: ', f1)\n",
    "print('False positive rate is: ', fpr)\n",
    "print('True positive rate is: ', tpr)"
   ]
  },
  {
   "cell_type": "code",
   "execution_count": 79,
   "metadata": {},
   "outputs": [
    {
     "name": "stdout",
     "output_type": "stream",
     "text": [
      "0.25 :  0.5315682150233095\n"
     ]
    },
    {
     "data": {
      "text/plain": [
       "Text(0,0.5,'True positive rate')"
      ]
     },
     "execution_count": 79,
     "metadata": {},
     "output_type": "execute_result"
    },
    {
     "data": {
      "image/png": "[encoded data removed]",
      "text/plain": [
       "<Figure size 432x288 with 1 Axes>"
      ]
     },
     "metadata": {},
     "output_type": "display_data"
    }
   ],
   "source": [
    "# generate ROC curve on validation set\n",
    "tprSave = []\n",
    "fprSave = []\n",
    "probs = np.arange(0.0, 1.0, 0.025)\n",
    "for i in probs:\n",
    "    pred, ntp, ntn, nfp, nfn = makePrediction(validation, model[-1], i)\n",
    "    fprSave.append(nfp/(ntn+nfp))\n",
    "    tprSave.append(ntp/(ntp+nfn))\n",
    "\n",
    "#distance from the upper-left corner of the ROC curve - the lower, the better\n",
    "perf = np.sqrt((np.array(fprSave))**2+(1-np.array(tprSave))**2)\n",
    "print(probs[np.argmin(perf)],': ' , np.min(perf))\n",
    "\n",
    "plt.plot(fprSave, tprSave)\n",
    "plt.xlabel('False positive rate')\n",
    "plt.ylabel('True positive rate')"
   ]
  },
  {
   "cell_type": "code",
   "execution_count": 80,
   "metadata": {},
   "outputs": [
    {
     "name": "stdout",
     "output_type": "stream",
     "text": [
      "Accuracy is:  0.6723076923076923\n",
      "Precision is:  0.35177865612648224\n",
      "Recall is:  0.644927536231884\n",
      "F1 score is:  0.4552429667519182\n",
      "False positive rate is:  0.3203125\n",
      "True positive rate is:  0.644927536231884\n"
     ]
    }
   ],
   "source": [
    "# make predictions and compute metrics for optimal treshProb on test dataset\n",
    "pred, ntp, ntn, nfp, nfn = makePrediction(test, model[-1], probs[np.argmin(perf)])\n",
    "\n",
    "acc = (ntp+ntn)/(ntp+ntn+nfp+nfn)\n",
    "prec = (ntp)/(ntp+nfp)\n",
    "rec = (ntp)/(ntp+nfn)\n",
    "f1 = 2*prec*rec/(prec+rec)\n",
    "fpr = nfp/(ntn+nfp)\n",
    "tpr = ntp/(ntp+nfn)\n",
    "print('Accuracy is: ', acc)\n",
    "print('Precision is: ', prec)\n",
    "print('Recall is: ', rec)\n",
    "print('F1 score is: ', f1)\n",
    "print('False positive rate is: ', fpr)\n",
    "print('True positive rate is: ', tpr)"
   ]
  },
  {
   "cell_type": "markdown",
   "metadata": {},
   "source": [
    "### Factorization machine"
   ]
  },
  {
   "cell_type": "code",
   "execution_count": null,
   "metadata": {},
   "outputs": [],
   "source": [
    "start = time.time()\n",
    "wInit, wInit1, wInit0 = wInitialization(train, 2)\n",
    "#print(wInit)\n",
    "logerr_train, logerr_test, models_cat2, model1s_cat2, model0s_cat2 = GradientDescent(train, validation, wInit,wInit1, wInit0, nSteps = 100,\n",
    "                                                    learningRate = 0.001, regParam = 0.01, regParam1 = 0.01, regParam0 = 0.01, verbose = True)"
   ]
  },
  {
   "cell_type": "code",
   "execution_count": null,
   "metadata": {},
   "outputs": [],
   "source": [
    "print(f\"The estimated model is: {models[-1]}\")\n",
    "print(f\"The loss of the estimated model is: {logerr_train[-1]}\")\n",
    "print()\n",
    "print()\n",
    "plt.plot(logerr_train)\n",
    "plt.plot(logerr_test)\n",
    "plt.title('Loss')\n",
    "plt.show()"
   ]
  },
  {
   "cell_type": "code",
   "execution_count": null,
   "metadata": {},
   "outputs": [],
   "source": [
    "pred, ntp, ntn, nfp, nfn = fmMakePrediction(validation, models[-1], model1s[-1], model0s[-1])\n",
    "\n",
    "cc = (ntp+ntn)/(ntp+ntn+nfp+nfn)\n",
    "prec = (ntp)/(ntp+nfp)\n",
    "rec = (ntp)/(ntp+nfn)\n",
    "f1 = 2*prec*rec/(prec+rec)\n",
    "fpr = nfp/(ntn+nfp)\n",
    "tpr = ntp/(ntp+nfn)\n",
    "print('Accuracy is: ', acc)\n",
    "print('Precision is: ', prec)\n",
    "print('Recall is: ', rec)\n",
    "print('F1 score is: ', f1)\n",
    "print('False positive rate is: ', fpr)\n",
    "print('True positive rate is: ', tpr)"
   ]
  },
  {
   "cell_type": "markdown",
   "metadata": {},
   "source": [
    "### 4.2.4 Combining Frequency and Hash Based Dimensionality Reduction\n",
    "For some categorical features, it makes sense to use a frequency based approach, while hashing is useful in other cases. 12 of the columns were amenable to frequency based approaches since 90% or more of the values were accounted for by the top 15 frequent values. The hybrid approach uses frequencies to encode these columns, while using the hash only for the other 14 columns."
   ]
  },
  {
   "cell_type": "code",
   "execution_count": 103,
   "metadata": {},
   "outputs": [
    {
     "data": {
      "text/plain": [
       "[array([0, 1, 0, 0, 0, 0, 0, 0, 0, 0, 0, 0, 0, 0, 0, 0, 0, 0, 0, 0, 0, 0,\n",
       "        1, 0, 0, 0, 0, 0, 0, 0, 0, 0, 0, 0, 0, 0, 0, 0, 0, 0, 0, 0, 0, 0,\n",
       "        0, 1, 0, 0, 0, 0, 0, 0, 0, 0, 0, 1, 0, 0, 0, 0, 0, 0, 0, 0, 1, 0,\n",
       "        0, 0, 0, 0, 0, 0, 0, 0, 0, 0, 0, 0, 0, 0, 1, 0, 0, 0, 0, 0, 0, 0,\n",
       "        0, 0, 0, 0, 0, 0, 0, 0, 0, 0, 0, 0, 0, 0, 0, 0, 0, 0, 0, 1, 0, 0,\n",
       "        0, 0, 0, 0, 1, 0, 0, 0, 0, 0, 0, 0, 0, 0, 0, 0, 0, 0, 1, 0, 0, 0,\n",
       "        0, 0, 0, 0, 0, 0, 0, 0, 0, 0, 0, 0, 0, 0, 0, 0, 0, 0, 0, 0, 0, 0,\n",
       "        1, 0, 0, 0, 0, 0, 0, 0, 0, 0, 0, 0, 0, 0, 1, 0, 0, 0, 0, 0, 0, 0,\n",
       "        0, 1, 0, 0, 0, 0, 0, 0, 0, 0, 0, 0, 0, 0, 0, 0, 0, 0, 0, 0, 0, 0,\n",
       "        0, 0, 0, 0, 0, 0, 0, 0, 1, 0, 0, 0, 1, 0, 0, 0, 0, 0, 0, 0, 0, 0,\n",
       "        0, 0, 0, 0, 0, 0, 0, 0, 0, 0, 0, 0, 0, 0, 0, 0, 0, 0, 0, 1, 0, 0,\n",
       "        0, 0, 0, 0, 0, 0, 0, 0, 0, 0, 0, 1, 0, 0, 1, 0, 0, 0, 0, 0, 0, 0,\n",
       "        0, 0, 0, 0, 0, 0, 0, 0, 0, 0, 0, 1, 0, 0, 0, 0, 0, 0, 0, 0, 0, 0,\n",
       "        0, 0, 0, 0, 0, 0, 0, 0, 0, 1, 0, 0, 0, 0, 0, 0, 0, 0, 0, 0, 0, 1,\n",
       "        0, 0, 0, 0, 0, 0, 0, 0, 0, 0, 0, 0, 0, 0, 0, 0, 0, 0, 0, 0, 0, 0,\n",
       "        0, 0, 0, 0, 1, 0, 1, 0, 0, 0, 0, 0, 0, 0, 0, 0, 0, 0, 0, 0, 0, 0,\n",
       "        0, 1, 0, 0, 0, 0, 0, 0, 0, 0, 0, 0, 0, 0, 0, 0, 0, 0, 0, 0, 0, 0,\n",
       "        0, 0, 0, 1, 0, 0, 0, 0, 0, 0, 0, 1, 0, 0, 0, 0, 0, 0, 0, 0, 0, 0,\n",
       "        0, 0, 0, 0, 0, 0, 0, 0, 0, 0, 0, 0, 0, 1, 0, 0, 0, 0, 0, 0])]"
      ]
     },
     "execution_count": 103,
     "metadata": {},
     "output_type": "execute_result"
    }
   ],
   "source": [
    "def hybridFreqHashTrans (top15df, rdd):\n",
    "\n",
    "    #First create Broadcast variable\n",
    "    top15dfB = sc.broadcast(top15df)\n",
    "    \n",
    "    #set FreqThr at 90% for using frequency to bin the categories\n",
    "    TOP15_FREQ_THR = 90\n",
    "\n",
    "    #Define murmurHash level for 1-hot encoding\n",
    "    HASHLEN = 16\n",
    "    \n",
    "    #top15df = pd.DataFrame(columns=['col', 'top15_values', 'top15_pct_contribution'])\n",
    "    \n",
    "    def transformRow (row, top15df, hlen):\n",
    "        col = 0\n",
    "        transformedRow = []\n",
    "        \n",
    "        for x in row:\n",
    "            #Get frequency based map\n",
    "            if (top15df.loc[col]['top15_pct_contribution'] > 90):\n",
    "                xtrans = 15\n",
    "                for (ind,topElem) in enumerate(top15df.loc[col]['top15_values']):\n",
    "                    if (x == topElem):\n",
    "                        xtrans = ind\n",
    "            #else hash\n",
    "            else:\n",
    "                xtrans = mmh3.hash(x+str(col)) % int(hlen)\n",
    "        \n",
    "            transformedRow.append(xtrans)\n",
    "            \n",
    "            #Do this for all elements\n",
    "            col += 1\n",
    "        return (transformedRow)\n",
    "\n",
    "    def create1Hot(elem, hlen):\n",
    "        oneHotStr = []\n",
    "        #for hashStr in elem:\n",
    "        for i in range (hlen):\n",
    "            if (i == elem):\n",
    "                oneHotStr.append(1)\n",
    "            else:\n",
    "                oneHotStr.append(0)\n",
    "        return(oneHotStr)\n",
    "\n",
    "    def createCatArray(elem):\n",
    "        catArray = []\n",
    "        for array in elem:\n",
    "            for x in array:\n",
    "                catArray.append(x)\n",
    "        return(np.array(catArray))\n",
    "\n",
    "\n",
    "\n",
    "    categoricalRdd = rdd.map(lambda x : x.split('\\t')[14:40]) \\\n",
    "                        .map(lambda x: transformRow(x, top15dfB.value, HASHLEN)) \\\n",
    "                        .map(lambda x: [create1Hot(xn, HASHLEN) for xn in x]) \\\n",
    "                        .map(createCatArray)\n",
    "    return(categoricalRdd)\n",
    "\n",
    "#Read in the complete dataset\n",
    "train_sample_rdd = sc.textFile('data/sample_training.txt')\n",
    "\n",
    "#Get the top 1000 rows only (as before for numerical variables)\n",
    "testRdd = sc.parallelize(train_sample_rdd.take(10000),1)\n",
    "\n",
    "hybridCatRdd = hybridFreqHashTrans(top15df, testRdd)\n",
    "\n",
    "hybridCatRdd.take(1)"
   ]
  },
  {
   "cell_type": "code",
   "execution_count": 100,
   "metadata": {},
   "outputs": [
    {
     "data": {
      "text/plain": [
       "[(0.0, array([-0.45879823, -0.24774127, -0.04629014, -0.85019922, -0.24482546,\n",
       "         -0.40934022, -0.02096037, -0.63143545,  0.18286248,  0.7486028 ,\n",
       "         -0.10449796,  0.01324891, -0.49600354,  0.        ,  1.        ,\n",
       "          0.        ,  0.        ,  0.        ,  0.        ,  0.        ,\n",
       "          0.        ,  0.        ,  0.        ,  0.        ,  0.        ,\n",
       "          0.        ,  0.        ,  0.        ,  0.        ,  0.        ,\n",
       "          0.        ,  0.        ,  0.        ,  0.        ,  0.        ,\n",
       "          1.        ,  0.        ,  0.        ,  0.        ,  0.        ,\n",
       "          0.        ,  0.        ,  0.        ,  0.        ,  0.        ,\n",
       "          0.        ,  0.        ,  0.        ,  0.        ,  0.        ,\n",
       "          0.        ,  0.        ,  0.        ,  0.        ,  0.        ,\n",
       "          0.        ,  0.        ,  0.        ,  1.        ,  0.        ,\n",
       "          0.        ,  0.        ,  0.        ,  0.        ,  0.        ,\n",
       "          0.        ,  0.        ,  0.        ,  1.        ,  0.        ,\n",
       "          0.        ,  0.        ,  0.        ,  0.        ,  0.        ,\n",
       "          0.        ,  0.        ,  1.        ,  0.        ,  0.        ,\n",
       "          0.        ,  0.        ,  0.        ,  0.        ,  0.        ,\n",
       "          0.        ,  0.        ,  0.        ,  0.        ,  0.        ,\n",
       "          0.        ,  0.        ,  0.        ,  1.        ,  0.        ,\n",
       "          0.        ,  0.        ,  0.        ,  0.        ,  0.        ,\n",
       "          0.        ,  0.        ,  0.        ,  0.        ,  0.        ,\n",
       "          0.        ,  0.        ,  0.        ,  0.        ,  0.        ,\n",
       "          0.        ,  0.        ,  0.        ,  0.        ,  0.        ,\n",
       "          0.        ,  0.        ,  0.        ,  0.        ,  0.        ,\n",
       "          1.        ,  0.        ,  0.        ,  0.        ,  0.        ,\n",
       "          0.        ,  0.        ,  1.        ,  0.        ,  0.        ,\n",
       "          0.        ,  0.        ,  0.        ,  0.        ,  0.        ,\n",
       "          0.        ,  0.        ,  0.        ,  0.        ,  0.        ,\n",
       "          0.        ,  1.        ,  0.        ,  0.        ,  0.        ,\n",
       "          0.        ,  0.        ,  0.        ,  0.        ,  0.        ,\n",
       "          0.        ,  0.        ,  0.        ,  0.        ,  0.        ,\n",
       "          0.        ,  0.        ,  0.        ,  0.        ,  0.        ,\n",
       "          0.        ,  0.        ,  0.        ,  0.        ,  0.        ,\n",
       "          0.        ,  0.        ,  1.        ,  0.        ,  0.        ,\n",
       "          0.        ,  0.        ,  0.        ,  0.        ,  0.        ,\n",
       "          0.        ,  0.        ,  0.        ,  0.        ,  0.        ,\n",
       "          0.        ,  1.        ,  0.        ,  0.        ,  0.        ,\n",
       "          0.        ,  0.        ,  0.        ,  0.        ,  0.        ,\n",
       "          1.        ,  0.        ,  0.        ,  0.        ,  0.        ,\n",
       "          0.        ,  0.        ,  0.        ,  0.        ,  0.        ,\n",
       "          0.        ,  0.        ,  0.        ,  0.        ,  0.        ,\n",
       "          0.        ,  0.        ,  0.        ,  0.        ,  0.        ,\n",
       "          0.        ,  0.        ,  0.        ,  0.        ,  0.        ,\n",
       "          0.        ,  0.        ,  0.        ,  0.        ,  1.        ,\n",
       "          0.        ,  0.        ,  0.        ,  1.        ,  0.        ,\n",
       "          0.        ,  0.        ,  0.        ,  0.        ,  0.        ,\n",
       "          0.        ,  0.        ,  0.        ,  0.        ,  0.        ,\n",
       "          0.        ,  0.        ,  0.        ,  0.        ,  0.        ,\n",
       "          0.        ,  0.        ,  0.        ,  0.        ,  0.        ,\n",
       "          0.        ,  0.        ,  0.        ,  0.        ,  0.        ,\n",
       "          0.        ,  0.        ,  1.        ,  0.        ,  0.        ,\n",
       "          0.        ,  0.        ,  0.        ,  0.        ,  0.        ,\n",
       "          0.        ,  0.        ,  0.        ,  0.        ,  0.        ,\n",
       "          0.        ,  1.        ,  0.        ,  0.        ,  1.        ,\n",
       "          0.        ,  0.        ,  0.        ,  0.        ,  0.        ,\n",
       "          0.        ,  0.        ,  0.        ,  0.        ,  0.        ,\n",
       "          0.        ,  0.        ,  0.        ,  0.        ,  0.        ,\n",
       "          0.        ,  0.        ,  0.        ,  1.        ,  0.        ,\n",
       "          0.        ,  0.        ,  0.        ,  0.        ,  0.        ,\n",
       "          0.        ,  0.        ,  0.        ,  0.        ,  0.        ,\n",
       "          0.        ,  0.        ,  0.        ,  0.        ,  0.        ,\n",
       "          0.        ,  0.        ,  0.        ,  1.        ,  0.        ,\n",
       "          0.        ,  0.        ,  0.        ,  0.        ,  0.        ,\n",
       "          0.        ,  0.        ,  0.        ,  0.        ,  0.        ,\n",
       "          1.        ,  0.        ,  0.        ,  0.        ,  0.        ,\n",
       "          0.        ,  0.        ,  0.        ,  0.        ,  0.        ,\n",
       "          0.        ,  0.        ,  0.        ,  0.        ,  0.        ,\n",
       "          0.        ,  0.        ,  0.        ,  0.        ,  0.        ,\n",
       "          0.        ,  0.        ,  0.        ,  0.        ,  0.        ,\n",
       "          0.        ,  0.        ,  1.        ,  0.        ,  1.        ,\n",
       "          0.        ,  0.        ,  0.        ,  0.        ,  0.        ,\n",
       "          0.        ,  0.        ,  0.        ,  0.        ,  0.        ,\n",
       "          0.        ,  0.        ,  0.        ,  0.        ,  0.        ,\n",
       "          0.        ,  1.        ,  0.        ,  0.        ,  0.        ,\n",
       "          0.        ,  0.        ,  0.        ,  0.        ,  0.        ,\n",
       "          0.        ,  0.        ,  0.        ,  0.        ,  0.        ,\n",
       "          0.        ,  0.        ,  0.        ,  0.        ,  0.        ,\n",
       "          0.        ,  0.        ,  0.        ,  0.        ,  0.        ,\n",
       "          1.        ,  0.        ,  0.        ,  0.        ,  0.        ,\n",
       "          0.        ,  0.        ,  0.        ,  1.        ,  0.        ,\n",
       "          0.        ,  0.        ,  0.        ,  0.        ,  0.        ,\n",
       "          0.        ,  0.        ,  0.        ,  0.        ,  0.        ,\n",
       "          0.        ,  0.        ,  0.        ,  0.        ,  0.        ,\n",
       "          0.        ,  0.        ,  0.        ,  0.        ,  0.        ,\n",
       "          0.        ,  0.        ,  1.        ,  0.        ,  0.        ,\n",
       "          0.        ,  0.        ,  0.        ,  0.        ]))]"
      ]
     },
     "execution_count": 100,
     "metadata": {},
     "output_type": "execute_result"
    }
   ],
   "source": [
    "#Now include this into the logistic regression model\n",
    "#Zip numerical and categorical variables\n",
    "\n",
    "def mergeNumPlusCatRdds(elem):\n",
    "    x, y = elem\n",
    "    xkey , xval = x\n",
    "    merge =  (xkey, np.hstack((xval,y)))\n",
    "    return(merge)\n",
    "\n",
    "numPlusCatRdd3 = normedRDD.zip(hybridCatRdd) \\\n",
    "                         .map(mergeNumPlusCatRdds)\n",
    "numPlusCatRdd3.take(1)"
   ]
  },
  {
   "cell_type": "code",
   "execution_count": 95,
   "metadata": {},
   "outputs": [
    {
     "name": "stdout",
     "output_type": "stream",
     "text": [
      "429\n"
     ]
    }
   ],
   "source": [
    "#compute the number of features\n",
    "numb_features = np.size(numPlusCatRdd3.first()[1])\n",
    "print(numb_features)\n",
    "#define baseline model, add one parameter representing the intercept\n",
    "BASELINE = np.random.randn(numb_features + 1)"
   ]
  },
  {
   "cell_type": "code",
   "execution_count": 96,
   "metadata": {},
   "outputs": [],
   "source": [
    "#split into train, validation and test sets\n",
    "train, validation, test = numPlusCatRdd3.randomSplit([0.6, 0.2, 0.2])"
   ]
  },
  {
   "cell_type": "code",
   "execution_count": 101,
   "metadata": {},
   "outputs": [
    {
     "data": {
      "image/png": "[encoded data removed]",
      "text/plain": [
       "<Figure size 432x288 with 1 Axes>"
      ]
     },
     "metadata": {},
     "output_type": "display_data"
    }
   ],
   "source": [
    "nSteps = 150\n",
    "regType = 'ridge'\n",
    "regParam = 0.1\n",
    "learningRate = 0.1\n",
    "\n",
    "# run gradient descent\n",
    "train_loss, test_loss, model = GDUpdate(train, validation, BASELINE, nSteps, regType=regType, \n",
    "                                        regParam=regParam, learningRate=learningRate, verbose = False)\n",
    "\n",
    "plt.plot(train_loss)\n",
    "plt.plot(test_loss)\n",
    "plt.title('Loss')\n",
    "plt.show()"
   ]
  },
  {
   "cell_type": "code",
   "execution_count": 102,
   "metadata": {},
   "outputs": [
    {
     "name": "stdout",
     "output_type": "stream",
     "text": [
      "Accuracy is:  0.7901541521631029\n",
      "Precision is:  0.47619047619047616\n",
      "Recall is:  0.023752969121140142\n",
      "F1 score is:  0.04524886877828054\n",
      "False positive rate is:  0.006918238993710692\n",
      "True positive rate is:  0.023752969121140142\n"
     ]
    }
   ],
   "source": [
    "# make predictions and compute metrics for treshProb = 0.5\n",
    "pred, ntp, ntn, nfp, nfn = makePrediction(validation, model[-1], 0.5)\n",
    "\n",
    "acc = (ntp+ntn)/(ntp+ntn+nfp+nfn)\n",
    "prec = (ntp)/(ntp+nfp)\n",
    "rec = (ntp)/(ntp+nfn)\n",
    "f1 = 2*prec*rec/(prec+rec)\n",
    "fpr = nfp/(ntn+nfp)\n",
    "tpr = ntp/(ntp+nfn)\n",
    "print('Accuracy is: ', acc)\n",
    "print('Precision is: ', prec)\n",
    "print('Recall is: ', rec)\n",
    "print('F1 score is: ', f1)\n",
    "print('False positive rate is: ', fpr)\n",
    "print('True positive rate is: ', tpr)"
   ]
  },
  {
   "cell_type": "code",
   "execution_count": null,
   "metadata": {},
   "outputs": [],
   "source": [
    "start = time.time()\n",
    "wInit, wInit1, wInit0 = wInitialization(train, 2)\n",
    "logerr_train, logerr_test, models, model1s, model0s = GradientDescent(train, validation, wInit, wInit1, wInit0, nSteps = 100,\n",
    "                                                    learningRate = 0.002, regParam = 0.01, regParam1 = 0.01, regParam0 = 0.01, verbose = True)\n",
    "print(f\"\\n... trained {len(models)} iterations in {time.time() - start} seconds\")"
   ]
  },
  {
   "cell_type": "code",
   "execution_count": null,
   "metadata": {},
   "outputs": [],
   "source": [
    "print(f\"The estimated model is: {models[-1]}\")\n",
    "print(f\"The loss of the estimated model is: {logerr_train[-1]}\")\n",
    "print()\n",
    "print()\n",
    "plt.plot(logerr_train)\n",
    "plt.plot(logerr_test)\n",
    "plt.title('Loss')\n",
    "plt.show()"
   ]
  },
  {
   "cell_type": "code",
   "execution_count": null,
   "metadata": {},
   "outputs": [],
   "source": [
    "pred, ntp, ntn, nfp, nfn = fmMakePrediction(validation, models[-1], model1s[-1], model0s[-1])\n",
    "\n",
    "cc = (ntp+ntn)/(ntp+ntn+nfp+nfn)\n",
    "prec = (ntp)/(ntp+nfp)\n",
    "rec = (ntp)/(ntp+nfn)\n",
    "f1 = 2*prec*rec/(prec+rec)\n",
    "fpr = nfp/(ntn+nfp)\n",
    "tpr = ntp/(ntp+nfn)\n",
    "print('Accuracy is: ', acc)\n",
    "print('Precision is: ', prec)\n",
    "print('Recall is: ', rec)\n",
    "print('F1 score is: ', f1)\n",
    "print('False positive rate is: ', fpr)\n",
    "print('True positive rate is: ', tpr)"
   ]
  },
  {
   "cell_type": "markdown",
   "metadata": {},
   "source": [
    "## 4.3 Production Pipeline\n",
    "Add summary etc (Venky)"
   ]
  },
  {
   "cell_type": "markdown",
   "metadata": {},
   "source": [
    "### 4.3.1 Important articles to look at\n",
    "\n",
    "https://towardsdatascience.com/apache-spark-mllib-tutorial-7aba8a1dce6e\n",
    "\n",
    "https://stackoverflow.com/questions/32982425/encode-and-assemble-multiple-features-in-pyspark\n",
    "\n",
    "https://blog.insightdatascience.com/spark-pipelines-elegant-yet-powerful-7be93afcdd42\n",
    "\n",
    "https://medium.com/future-vision/spark-udfs-we-can-use-them-but-should-we-use-them-2c5a561fde6d"
   ]
  },
  {
   "cell_type": "markdown",
   "metadata": {},
   "source": [
    "### 4.3.2 Basic pipeline based production model for Logistic Regression\n",
    "Venky to add details"
   ]
  },
  {
   "cell_type": "code",
   "execution_count": 84,
   "metadata": {},
   "outputs": [
    {
     "name": "stdout",
     "output_type": "stream",
     "text": [
      "+---+---+---+---+---+----+---+---+---+---+---+---+---+---+--------+--------+--------+--------+--------+--------+--------+--------+--------+--------+--------+--------+--------+--------+--------+--------+--------+--------+--------+--------+--------+---+--------+--------+--------+--------+\n",
      "| _1| _2| _3| _4| _5|  _6| _7| _8| _9|_10|_11|_12|_13|_14|     _15|     _16|     _17|     _18|     _19|     _20|     _21|     _22|     _23|     _24|     _25|     _26|     _27|     _28|     _29|     _30|     _31|     _32|     _33|     _34|     _35|_36|     _37|     _38|     _39|     _40|\n",
      "+---+---+---+---+---+----+---+---+---+---+---+---+---+---+--------+--------+--------+--------+--------+--------+--------+--------+--------+--------+--------+--------+--------+--------+--------+--------+--------+--------+--------+--------+--------+---+--------+--------+--------+--------+\n",
      "|  0|  1|  1|  5|  0|1382|  4| 15|  2|181|  1|  2|   |  2|68fd1e64|80e26c9b|fb936136|7b4723c4|25c83c98|7e0ccccf|de7995b8|1f89b562|a73ee510|a8cd5504|b2cb9c98|37c9c164|2824a5f6|1adce6ef|8ba8b39a|891b62e7|e5ba7672|f54016b9|21ddcdc9|b1252a9d|07b5194c|   |3a171ecb|c5c50484|e8b83407|9727dd16|\n",
      "|  0|  2|  0| 44|  1| 102|  8|  2|  2|  4|  1|  1|   |  4|68fd1e64|f0cf0024|6f67f7e5|41274cd7|25c83c98|fe6b92e5|922afcc0|0b153874|a73ee510|2b53e5fb|4f1b46f3|623049e6|d7020589|b28479f6|e6c5b5cd|c92f3b61|07c540c4|b04e4670|21ddcdc9|5840adea|60f6221e|   |3a171ecb|43f13e8b|e8b83407|731c3655|\n",
      "+---+---+---+---+---+----+---+---+---+---+---+---+---+---+--------+--------+--------+--------+--------+--------+--------+--------+--------+--------+--------+--------+--------+--------+--------+--------+--------+--------+--------+--------+--------+---+--------+--------+--------+--------+\n",
      "only showing top 2 rows\n",
      "\n"
     ]
    }
   ],
   "source": [
    "#Read in dataframe - this is the tiny dataset with 100K lines\n",
    "df = sc.textFile('data/sample_training.txt')\\\n",
    "                 .map(lambda x: x.split('\\t'))\\\n",
    "                 .toDF().cache()\n",
    "df.show(2)"
   ]
  },
  {
   "cell_type": "code",
   "execution_count": 85,
   "metadata": {},
   "outputs": [],
   "source": [
    "# Define categorical and numerical columns\n",
    "categoricalCols = []\n",
    "numericalCols = []\n",
    "numericalColsImputed = []\n",
    "numericalColsLog = []\n",
    "for c in range(2,41):\n",
    "    col = \"_\"+str(c)\n",
    "    colImp = str(c)+\"_imp\"\n",
    "    colLog = str(c)+\"_log\"\n",
    "    if (c < 15):\n",
    "        numericalCols.append(col)\n",
    "        numericalColsImputed.append(colImp)\n",
    "        numericalColsLog.append(colLog)\n",
    "    else:\n",
    "        categoricalCols.append(col)"
   ]
  },
  {
   "cell_type": "code",
   "execution_count": 86,
   "metadata": {},
   "outputs": [
    {
     "name": "stdout",
     "output_type": "stream",
     "text": [
      "+---+---+---+---+-----+---+---+---+---+---+---+---+---+\n",
      "| _2| _3| _4| _5|   _6| _7| _8| _9|_10|_11|_12|_13|_14|\n",
      "+---+---+---+---+-----+---+---+---+---+---+---+---+---+\n",
      "|  1|  1|  5|  0| 1382|  4| 15|  2|181|  1|  2|   |  2|\n",
      "|  2|  0| 44|  1|  102|  8|  2|  2|  4|  1|  1|   |  4|\n",
      "|  2|  0|  1| 14|  767| 89|  4|  2|245|  1|  3|  3| 45|\n",
      "|   |893|   |   | 4392|   |  0|  0|  0|   |  0|   |   |\n",
      "|  3| -1|   |  0|    2|  0|  3|  0|  0|  1|  1|   |  0|\n",
      "|   | -1|   |   |12824|   |  0|  0|  6|   |  0|   |   |\n",
      "|   |  1|  2|   | 3168|   |  0|  1|  2|   |  0|   |   |\n",
      "|  1|  4|  2|  0|    0|  0|  1|  0|  0|  1|  1|   |  0|\n",
      "|   | 44|  4|  8|19010|249| 28| 31|141|   |  1|   |  8|\n",
      "|   | 35|   |  1|33737| 21|  1|  2|  3|   |  1|   |  1|\n",
      "+---+---+---+---+-----+---+---+---+---+---+---+---+---+\n",
      "only showing top 10 rows\n",
      "\n"
     ]
    }
   ],
   "source": [
    "df.select(numericalCols).show(10)"
   ]
  },
  {
   "cell_type": "code",
   "execution_count": 87,
   "metadata": {},
   "outputs": [],
   "source": [
    "stages = [] # stages in our Pipeline"
   ]
  },
  {
   "cell_type": "code",
   "execution_count": 88,
   "metadata": {},
   "outputs": [],
   "source": [
    "from pyspark.sql.functions import when\n",
    "for col in numericalCols:\n",
    "    df = df.withColumn(col, df[col].cast(\"double\"))\n",
    "    df= df.withColumn(col, when(df[col]<0, None).otherwise(df[col]))\n",
    "#Also do this for column 0\n",
    "df = df.withColumn(\"_1\", df[\"_1\"].cast(\"double\"))"
   ]
  },
  {
   "cell_type": "code",
   "execution_count": 89,
   "metadata": {},
   "outputs": [
    {
     "name": "stdout",
     "output_type": "stream",
     "text": [
      "+----+-----+----+----+-------+-----+----+----+-----+----+---+----+----+\n",
      "|  _2|   _3|  _4|  _5|     _6|   _7|  _8|  _9|  _10| _11|_12| _13| _14|\n",
      "+----+-----+----+----+-------+-----+----+----+-----+----+---+----+----+\n",
      "| 1.0|  1.0| 5.0| 0.0| 1382.0|  4.0|15.0| 2.0|181.0| 1.0|2.0|null| 2.0|\n",
      "| 2.0|  0.0|44.0| 1.0|  102.0|  8.0| 2.0| 2.0|  4.0| 1.0|1.0|null| 4.0|\n",
      "| 2.0|  0.0| 1.0|14.0|  767.0| 89.0| 4.0| 2.0|245.0| 1.0|3.0| 3.0|45.0|\n",
      "|null|893.0|null|null| 4392.0| null| 0.0| 0.0|  0.0|null|0.0|null|null|\n",
      "| 3.0| null|null| 0.0|    2.0|  0.0| 3.0| 0.0|  0.0| 1.0|1.0|null| 0.0|\n",
      "|null| null|null|null|12824.0| null| 0.0| 0.0|  6.0|null|0.0|null|null|\n",
      "|null|  1.0| 2.0|null| 3168.0| null| 0.0| 1.0|  2.0|null|0.0|null|null|\n",
      "| 1.0|  4.0| 2.0| 0.0|    0.0|  0.0| 1.0| 0.0|  0.0| 1.0|1.0|null| 0.0|\n",
      "|null| 44.0| 4.0| 8.0|19010.0|249.0|28.0|31.0|141.0|null|1.0|null| 8.0|\n",
      "|null| 35.0|null| 1.0|33737.0| 21.0| 1.0| 2.0|  3.0|null|1.0|null| 1.0|\n",
      "+----+-----+----+----+-------+-----+----+----+-----+----+---+----+----+\n",
      "only showing top 10 rows\n",
      "\n"
     ]
    }
   ],
   "source": [
    "#Confirming that numerical columns with -1s etc are changed to Null\n",
    "df.select(numericalCols).show(10)"
   ]
  },
  {
   "cell_type": "code",
   "execution_count": 90,
   "metadata": {},
   "outputs": [],
   "source": [
    "#Pipeline Stages- 6 of them\n",
    "#Stage 1 - First transform numerical columns with imputer\n",
    "from pyspark.ml.feature import Imputer\n",
    "imputer = Imputer(inputCols=numericalCols, outputCols=numericalColsImputed)\n",
    "stages += [imputer]\n",
    "imputer_model = imputer.fit(df)\n",
    "\n",
    "#Stage 2 - Compute log transforms\n",
    "from pyspark.ml.feature import SQLTransformer\n",
    "sqlTrans = SQLTransformer(statement=\"SELECT *, \\\n",
    "                          log(2_imp+1) AS 2_log, \\\n",
    "                          log(3_imp+1) AS 3_log, \\\n",
    "                          log(4_imp+1) AS 4_log, \\\n",
    "                          log(5_imp+1) AS 5_log, \\\n",
    "                          log(6_imp+1) AS 6_log, \\\n",
    "                          log(7_imp+1) AS 7_log, \\\n",
    "                          log(8_imp+1) AS 8_log, \\\n",
    "                          log(9_imp+1) AS 9_log, \\\n",
    "                          log(10_imp+1) AS 10_log, \\\n",
    "                          log(11_imp+1) AS 11_log, \\\n",
    "                          log(12_imp+1) AS 12_log, \\\n",
    "                          log(13_imp+1) AS 13_log, \\\n",
    "                          log(14_imp+1) AS 14_log \\\n",
    "                          FROM __THIS__\")\n",
    "stages += [sqlTrans]\n",
    "\n",
    "#Stage 3 - Assemble the column vectors\n",
    "from pyspark.ml.feature import VectorAssembler\n",
    "numericalAssembler = VectorAssembler(inputCols=numericalColsLog, outputCol=\"log_numerical_feature_vec\")\n",
    "stages += [numericalAssembler]\n",
    "\n",
    "#Stage 4 - Now normalize these numerical features\n",
    "from pyspark.ml.feature import StandardScaler\n",
    "scaler = StandardScaler(inputCol=\"log_numerical_feature_vec\", outputCol=\"scaled_features\")\n",
    "stages += [scaler]\n",
    "\n",
    "#Stage 5 - Next transform Categorical Features with FeatureHasher\n",
    "from pyspark.ml.feature import FeatureHasher\n",
    "hasher = FeatureHasher(numFeatures=256, inputCols=categoricalCols,outputCol=\"categorical_features\")\n",
    "stages += [hasher]\n",
    "\n",
    "#Stage 6 - Now create vector with numerical and categorical features\n",
    "finalAssembler = VectorAssembler(inputCols=[\"scaled_features\", \"categorical_features\"], outputCol=\"features\")\n",
    "stages += [finalAssembler]"
   ]
  },
  {
   "cell_type": "code",
   "execution_count": 91,
   "metadata": {},
   "outputs": [
    {
     "name": "stdout",
     "output_type": "stream",
     "text": [
      "+---+---+---+----+---+------+---+----+---+-----+---+---+----+---+--------+--------+--------+--------+--------+--------+--------+--------+--------+--------+--------+--------+--------+--------+--------+--------+--------+--------+--------+--------+--------+---+--------+--------+--------+--------+\n",
      "| _1| _2| _3|  _4| _5|    _6| _7|  _8| _9|  _10|_11|_12| _13|_14|     _15|     _16|     _17|     _18|     _19|     _20|     _21|     _22|     _23|     _24|     _25|     _26|     _27|     _28|     _29|     _30|     _31|     _32|     _33|     _34|     _35|_36|     _37|     _38|     _39|     _40|\n",
      "+---+---+---+----+---+------+---+----+---+-----+---+---+----+---+--------+--------+--------+--------+--------+--------+--------+--------+--------+--------+--------+--------+--------+--------+--------+--------+--------+--------+--------+--------+--------+---+--------+--------+--------+--------+\n",
      "|0.0|1.0|1.0| 5.0|0.0|1382.0|4.0|15.0|2.0|181.0|1.0|2.0|null|2.0|68fd1e64|80e26c9b|fb936136|7b4723c4|25c83c98|7e0ccccf|de7995b8|1f89b562|a73ee510|a8cd5504|b2cb9c98|37c9c164|2824a5f6|1adce6ef|8ba8b39a|891b62e7|e5ba7672|f54016b9|21ddcdc9|b1252a9d|07b5194c|   |3a171ecb|c5c50484|e8b83407|9727dd16|\n",
      "|0.0|2.0|0.0|44.0|1.0| 102.0|8.0| 2.0|2.0|  4.0|1.0|1.0|null|4.0|68fd1e64|f0cf0024|6f67f7e5|41274cd7|25c83c98|fe6b92e5|922afcc0|0b153874|a73ee510|2b53e5fb|4f1b46f3|623049e6|d7020589|b28479f6|e6c5b5cd|c92f3b61|07c540c4|b04e4670|21ddcdc9|5840adea|60f6221e|   |3a171ecb|43f13e8b|e8b83407|731c3655|\n",
      "+---+---+---+----+---+------+---+----+---+-----+---+---+----+---+--------+--------+--------+--------+--------+--------+--------+--------+--------+--------+--------+--------+--------+--------+--------+--------+--------+--------+--------+--------+--------+---+--------+--------+--------+--------+\n",
      "only showing top 2 rows\n",
      "\n"
     ]
    }
   ],
   "source": [
    "#Dataframe before pipeline\n",
    "df.show(2)"
   ]
  },
  {
   "cell_type": "code",
   "execution_count": 92,
   "metadata": {},
   "outputs": [],
   "source": [
    "#Finally create a pipeline and verify\n",
    "from pyspark.ml import Pipeline\n",
    "partialPipeline = Pipeline().setStages(stages)\n",
    "pipelineModel = partialPipeline.fit(df)\n",
    "preppedDataDF = pipelineModel.transform(df)"
   ]
  },
  {
   "cell_type": "code",
   "execution_count": 93,
   "metadata": {},
   "outputs": [
    {
     "name": "stdout",
     "output_type": "stream",
     "text": [
      "+---+--------------------------------------------------------------------------------------------------------------------------------------------------------------------------------------------------------------------------------------------------------------------------------------------------------------------------------------------------------------------------------------------------------------------------------------------------------------------+\n",
      "|_1 |features                                                                                                                                                                                                                                                                                                                                                                                                                                                            |\n",
      "+---+--------------------------------------------------------------------------------------------------------------------------------------------------------------------------------------------------------------------------------------------------------------------------------------------------------------------------------------------------------------------------------------------------------------------------------------------------------------------+\n",
      "|0.0|(269,[0,1,2,4,5,6,7,8,9,10,11,12,17,18,21,27,37,49,59,60,72,78,85,105,121,141,155,170,178,182,194,212,230,233,236,242,249],[0.8424647817521497,0.32042365542048934,1.3726393141434567,2.4674304811383085,0.959212884097188,2.0272546381730643,0.9429602595014984,3.1254006250382753,2.3123625476234517,1.493294454490586,2.0040756904855566,1.1073404480904998,1.0,1.0,1.0,1.0,1.0,1.0,1.0,1.0,1.0,2.0,1.0,1.0,1.0,1.0,1.0,1.0,1.0,1.0,1.0,1.0,1.0,1.0,1.0,1.0,1.0])|\n",
      "|0.0|(269,[0,2,3,4,5,6,7,8,9,10,11,12,14,18,49,53,70,82,85,93,105,116,119,121,141,143,148,149,150,168,178,189,202,219,244],[1.3352750872553905,2.9162254637812075,0.7815767963893725,1.5812852931503845,1.3095293130310162,0.8032806452293358,0.9429602595014984,0.9665895068838533,2.3123625476234517,0.9421639021813691,2.0040756904855566,1.6222244348725063,1.0,1.0,1.0,1.0,1.0,1.0,1.0,1.0,1.0,1.0,2.0,1.0,1.0,1.0,1.0,1.0,2.0,1.0,1.0,1.0,1.0,1.0,2.0])            |\n",
      "+---+--------------------------------------------------------------------------------------------------------------------------------------------------------------------------------------------------------------------------------------------------------------------------------------------------------------------------------------------------------------------------------------------------------------------------------------------------------------------+\n",
      "only showing top 2 rows\n",
      "\n"
     ]
    }
   ],
   "source": [
    "preppedDataDF.select('_1','features').show(2, False)"
   ]
  },
  {
   "cell_type": "code",
   "execution_count": 94,
   "metadata": {},
   "outputs": [
    {
     "data": {
      "text/plain": [
       "DataFrame[_1: double, features: vector]"
      ]
     },
     "metadata": {},
     "output_type": "display_data"
    }
   ],
   "source": [
    "# Keep relevant columns\n",
    "selectedcols = [\"_1\", \"features\"]\n",
    "dataset = preppedDataDF.select(selectedcols)\n",
    "display(dataset)"
   ]
  },
  {
   "cell_type": "code",
   "execution_count": 95,
   "metadata": {},
   "outputs": [
    {
     "name": "stdout",
     "output_type": "stream",
     "text": [
      "70022\n",
      "29978\n"
     ]
    }
   ],
   "source": [
    "### Randomly split data into training and test sets. set seed for reproducibility\n",
    "(trainingData, testData) = dataset.randomSplit([0.7, 0.3], seed=100)\n",
    "print(trainingData.count())\n",
    "print(testData.count())"
   ]
  },
  {
   "cell_type": "code",
   "execution_count": 96,
   "metadata": {},
   "outputs": [],
   "source": [
    "#Run logistic regression\n",
    "from pyspark.ml.classification import LogisticRegression\n",
    "\n",
    "# Create initial LogisticRegression model\n",
    "lr = LogisticRegression(labelCol=\"_1\", featuresCol=\"features\", maxIter=10)\n",
    "\n",
    "# Train model with Training Data\n",
    "lrModel = lr.fit(trainingData)"
   ]
  },
  {
   "cell_type": "code",
   "execution_count": 97,
   "metadata": {},
   "outputs": [],
   "source": [
    "predictions = lrModel.transform(testData)"
   ]
  },
  {
   "cell_type": "code",
   "execution_count": 98,
   "metadata": {},
   "outputs": [
    {
     "data": {
      "text/plain": [
       "0.7385414763574286"
      ]
     },
     "execution_count": 98,
     "metadata": {},
     "output_type": "execute_result"
    }
   ],
   "source": [
    "from pyspark.ml.evaluation import BinaryClassificationEvaluator\n",
    "\n",
    "# Evaluate model\n",
    "evaluator = BinaryClassificationEvaluator(rawPredictionCol=\"rawPrediction\", labelCol=\"_1\")\n",
    "evaluator.evaluate(predictions)"
   ]
  },
  {
   "cell_type": "markdown",
   "metadata": {},
   "source": [
    "### 4.3.3 Hyperparameter tuning with paramgrid\n",
    "Venky to add details"
   ]
  },
  {
   "cell_type": "markdown",
   "metadata": {},
   "source": [
    "## 4.4 Adding in Factorization Machines and running on 100% dataset\n",
    "Sid/Venky to add details. \n",
    "Sid please run"
   ]
  },
  {
   "cell_type": "code",
   "execution_count": null,
   "metadata": {},
   "outputs": [],
   "source": [
    "#First save the 100% dataset into parquet format \n",
    "from pyspark.mllib.util import MLUtils\n",
    "from pyspark.sql.types import IntegerType\n",
    "\n",
    "start = time.time()\n",
    "selectedcols = [\"_1\", \"features\"]\n",
    "dataset = preppedDataDF.select(selectedcols)\n",
    "dataset = dataset.withColumn(\"_1\", df[\"_1\"].cast(\"double\"))\n",
    "featureset = dataset.repartition(16).write.parquet(\"sample_model_train\")\n",
    "#df3 = MLUtils.convertVectorColumnsToML(dataset)\n",
    "#df3.write.format(\"libsvm\").save(\"libsvm_train_sample\")\n",
    "print(f\"\\n... Completed in {time.time() - start} seconds\")"
   ]
  },
  {
   "cell_type": "code",
   "execution_count": null,
   "metadata": {},
   "outputs": [],
   "source": [
    "# do the same thing for the test dataset\n",
    "start = time.time()\n",
    "test_sample = sc.textFile('data/test.txt')\\\n",
    "                 .map(lambda x: x.split('\\t'))\\\n",
    "                 .toDF().repartition(16).write.parquet(\"test\")\n",
    "print(f\"\\n... Completed in {time.time() - start} seconds\")"
   ]
  },
  {
   "cell_type": "code",
   "execution_count": null,
   "metadata": {},
   "outputs": [],
   "source": [
    "#Read in train dataset using parquet\n",
    "start = time.time()\n",
    "df = spark.read.parquet(\"train\")\n",
    "\n",
    "df.show(2)\n",
    "print(f\"\\n... Completed in {time.time() - start} seconds\")"
   ]
  },
  {
   "cell_type": "code",
   "execution_count": null,
   "metadata": {},
   "outputs": [],
   "source": [
    "#Read in test dataframe \n",
    "start = time.time()\n",
    "dfTest = spark.read.parquet(\"test\")\n",
    "\n",
    "dfTest.show(2)\n",
    "print(f\"\\n... Completed in {time.time() - start} seconds\")"
   ]
  },
  {
   "cell_type": "code",
   "execution_count": null,
   "metadata": {},
   "outputs": [],
   "source": [
    "#Do the transformation to set negatives to Null\n",
    "start = time.time()\n",
    "from pyspark.sql.functions import when\n",
    "for col in numericalCols:\n",
    "    df = df.withColumn(col, df[col].cast(\"double\"))\n",
    "    df= df.withColumn(col, when(df[col]<0, None).otherwise(df[col]))\n",
    "#Also do this for column 0\n",
    "df = df.withColumn(\"_1\", df[\"_1\"].cast(\"double\"))\n",
    "print(f\"\\n... Completed in {time.time() - start} seconds\")"
   ]
  },
  {
   "cell_type": "code",
   "execution_count": null,
   "metadata": {},
   "outputs": [],
   "source": [
    "dfTest.show(2)"
   ]
  },
  {
   "cell_type": "code",
   "execution_count": null,
   "metadata": {},
   "outputs": [],
   "source": [
    "old_col = dfTest.schema.names\n",
    "#print(old_col.append(\"_40\"))\n",
    "print(old_col)"
   ]
  },
  {
   "cell_type": "code",
   "execution_count": null,
   "metadata": {},
   "outputs": [],
   "source": [
    "from pyspark.sql.functions import lit\n",
    "\n",
    "# test columns \n",
    "start = time.time()\n",
    "for col in numericalCols:\n",
    "    dfTest = dfTest.withColumn(col, dfTest[col].cast(\"double\"))\n",
    "    dfTest = dfTest.withColumn(col, when(dfTest[col]<0, None).otherwise(dfTest[col]))\n",
    "#Also do this for column 0\n",
    "#dfTest = dfTest.na.fill({'_1': 0})\n",
    "dfTest = dfTest.withColumn(\"_40\", lit(0))\n",
    "dfTest1 = dfTest.selectExpr( \"_40 as _1\", \"_1 as _2\", \"_2 as _3\", \"_3 as _4\", \"_4 as _5\", \"_5 as _6\", \"_6 as _7\", \"_7 as _8\", \"_8 as _9\", \n",
    "                           \"_9 as _10\", \"_10 as _11\", \"_11 as _12\", \"_12 as _13\", \"_13 as _14\", \"_14 as _15\", \"_15 as _16\", \"_16 as _17\", \"_17 as _18\", \"_18 as _19\",\n",
    "                           \"_19 as _20\",\"_20 as _21\", \"_21 as _22\", \"_22 as _23\", \"_23 as _24\", \"_24 as _25\", \"_25 as _26\", \"_26 as _27\", \"_27 as _28\",\n",
    "                           \"_28 as _29\",\"_29 as _30\", \"_30 as _31\", \"_31 as _32\", \"_32 as _33\", \"_33 as _34\", \"_34 as _35\", \"_35 as _36\", \"_36 as _37\", \"_37 as _38\", \"_38 as _39\", \"_39 as _40\")\n",
    "for col in numericalCols:\n",
    "    dfTest1 = dfTest1.withColumn(col, dfTest1[col].cast(\"double\"))\n",
    "    dfTest1 = dfTest1.withColumn(col, when(dfTest1[col]<0, None).otherwise(dfTest1[col]))\n",
    "dfTest1.show(2)\n",
    "print(f\"\\n... Completed in {time.time() - start} seconds\")"
   ]
  },
  {
   "cell_type": "code",
   "execution_count": null,
   "metadata": {},
   "outputs": [],
   "source": [
    "#Now run train data through the pipeline\n",
    "start = time.time()\n",
    "partialPipeline = Pipeline().setStages(stages)\n",
    "pipelineModel = partialPipeline.fit(df)\n",
    "preppedDataDF = pipelineModel.transform(df)\n",
    "print(f\"\\n... Completed in {time.time() - start} seconds\")"
   ]
  },
  {
   "cell_type": "code",
   "execution_count": null,
   "metadata": {},
   "outputs": [],
   "source": [
    "#transform test dataset\n",
    "start = time.time()\n",
    "preppedTestDF = pipelineModel.transform(dfTest1)\n",
    "print(f\"\\n... Completed in {time.time() - start} seconds\")"
   ]
  },
  {
   "cell_type": "code",
   "execution_count": null,
   "metadata": {},
   "outputs": [],
   "source": [
    "#transform test dataset\n",
    "start = time.time()\n",
    "preppedTestDF = pipelineModel.transform(dfTest)\n",
    "print(f\"\\n... Completed in {time.time() - start} seconds\")"
   ]
  },
  {
   "cell_type": "code",
   "execution_count": null,
   "metadata": {},
   "outputs": [],
   "source": [
    "start = time.time()\n",
    "preppedDataDF.select('_1','features').show(2, False)\n",
    "print(f\"\\n... Completed in {time.time() - start} seconds\")"
   ]
  },
  {
   "cell_type": "code",
   "execution_count": null,
   "metadata": {},
   "outputs": [],
   "source": [
    "start = time.time()\n",
    "preppedTestDF.select('_1','features').show(2, False)\n",
    "print(f\"\\n... Completed in {time.time() - start} seconds\")"
   ]
  },
  {
   "cell_type": "code",
   "execution_count": null,
   "metadata": {},
   "outputs": [],
   "source": [
    "#Now write the training features into a parquet file \n",
    "#so it can be run on the external FM model \n",
    "from pyspark.mllib.util import MLUtils\n",
    "from pyspark.sql.types import IntegerType\n",
    "\n",
    "start = time.time()\n",
    "selectedcols = [\"_1\", \"features\"]\n",
    "dataset = preppedDataDF.select(selectedcols)\n",
    "dataset = dataset.withColumn(\"_1\", dataset[\"_1\"].cast(\"double\"))\n",
    "featureset = dataset.repartition(16).write.parquet(\"train_features\")\n",
    "#df3 = MLUtils.convertVectorColumnsToML(dataset)\n",
    "#df3.write.format(\"libsvm\").save(\"libsvm_train_sample\")\n",
    "print(f\"\\n... Completed in {time.time() - start} seconds\")"
   ]
  },
  {
   "cell_type": "code",
   "execution_count": null,
   "metadata": {},
   "outputs": [],
   "source": [
    "#test Dataset\n",
    "from pyspark.mllib.util import MLUtils\n",
    "from pyspark.sql.types import IntegerType\n",
    "\n",
    "start = time.time()\n",
    "selectedcols = [\"_1\", \"features\"]\n",
    "datasetTest = preppedTestDF.select(selectedcols)\n",
    "datasetTest = datasetTest.withColumn(\"_1\", datasetTest[\"_1\"].cast(\"double\"))\n",
    "featuresetTest = datasetTest.repartition(16).write.parquet(\"test_features\")\n",
    "#df3 = MLUtils.convertVectorColumnsToML(dataset)\n",
    "#df3.write.format(\"libsvm\").save(\"libsvm_train_sample\")\n",
    "print(f\"\\n... Completed in {time.time() - start} seconds\")"
   ]
  },
  {
   "cell_type": "markdown",
   "metadata": {},
   "source": [
    "### 4.4.1 Logistic Regression with 100% dataset"
   ]
  },
  {
   "cell_type": "code",
   "execution_count": null,
   "metadata": {},
   "outputs": [],
   "source": [
    "# Keep relevant columns\n",
    "start = time.time()\n",
    "selectedcols = [\"_1\", \"features\"]\n",
    "dataset = preppedDataDF.select(selectedcols)\n",
    "display(dataset)\n",
    "print(f\"\\n... Completed in {time.time() - start} seconds\")"
   ]
  },
  {
   "cell_type": "code",
   "execution_count": null,
   "metadata": {},
   "outputs": [],
   "source": [
    "### Randomly split data into training and test sets. set seed for reproducibility\n",
    "start = time.time()\n",
    "(trainingData, testData) = dataset.randomSplit([0.7, 0.3], seed=100)\n",
    "print(trainingData.count())\n",
    "print(testData.count())\n",
    "print(f\"\\n... Completed in {time.time() - start} seconds\")"
   ]
  },
  {
   "cell_type": "code",
   "execution_count": null,
   "metadata": {},
   "outputs": [],
   "source": [
    "# Create initial LogisticRegression model\n",
    "#Run logistic regression\n",
    "from pyspark.ml.classification import LogisticRegression\n",
    "\n",
    "start = time.time()\n",
    "lr = LogisticRegression(labelCol=\"_1\", featuresCol=\"features\", maxIter=10)\n",
    "\n",
    "# Train model with Training Data\n",
    "lrModel = lr.fit(trainingData)\n",
    "print(f\"\\n... Completed in {time.time() - start} seconds\")"
   ]
  },
  {
   "cell_type": "code",
   "execution_count": null,
   "metadata": {},
   "outputs": [],
   "source": [
    "start = time.time()\n",
    "predictions = lrModel.transform(testData)\n",
    "print(f\"\\n... Completed in {time.time() - start} seconds\")"
   ]
  },
  {
   "cell_type": "code",
   "execution_count": null,
   "metadata": {},
   "outputs": [],
   "source": [
    "# Evaluate model\n",
    "start = time.time()\n",
    "evaluator = BinaryClassificationEvaluator(rawPredictionCol=\"rawPrediction\", labelCol=\"_1\")\n",
    "print(evaluator.evaluate(predictions))\n",
    "print(f\"\\n... Completed in {time.time() - start} seconds\")"
   ]
  },
  {
   "cell_type": "markdown",
   "metadata": {},
   "source": [
    "### 4.4.2 Cross validation of Logistic Regression "
   ]
  },
  {
   "cell_type": "code",
   "execution_count": null,
   "metadata": {},
   "outputs": [],
   "source": [
    "start = time.time()\n",
    "featureset = preppedDataDF.repartition(16).write.parquet(\"model_train\")\n",
    "print(f\"\\n... Completed in {time.time() - start} seconds\""
   ]
  },
  {
   "cell_type": "code",
   "execution_count": null,
   "metadata": {},
   "outputs": [],
   "source": [
    "from pyspark.ml.tuning import CrossValidator, ParamGridBuilder\n",
    "paramGrid = ParamGridBuilder() \\\n",
    "    .addGrid(lr.elasticNetParam, [0.0, 1.0]) \\\n",
    "    .addGrid(lr.regParam, [0.1, 0.05, 0.01]) \\\n",
    "    .build()\n",
    "    \n",
    "pipeline = Pipeline(stages=[lr])\n",
    "crossval = CrossValidator(estimator=pipeline,\n",
    "                          estimatorParamMaps=paramGrid,\n",
    "                          evaluator=BinaryClassificationEvaluator(labelCol=\"_1\"),\n",
    "                          numFolds=5)  # use 3+ folds in practice\n",
    "start = time.time()\n",
    "cvModel = crossval.fit(trainingData)\n",
    "cvprediction = cvModel.transform(testData)\n",
    "evaluator = BinaryClassificationEvaluator(rawPredictionCol=\"rawPrediction\", labelCol=\"_1\")\n",
    "evaluator.evaluate(cvprediction)\n",
    "print(f\"\\n... Completed in {time.time() - start} seconds\")"
   ]
  },
  {
   "cell_type": "code",
   "execution_count": null,
   "metadata": {},
   "outputs": [],
   "source": [
    "start = time.time()\n",
    "predictions = cvModel.transform(testData)\n",
    "print(evaluator.evaluate(predictions))\n",
    "print(f\"\\n... Completed in {time.time() - start} seconds\")"
   ]
  },
  {
   "cell_type": "code",
   "execution_count": null,
   "metadata": {},
   "outputs": [],
   "source": [
    "start = time.time()\n",
    "weights = cvModel.bestModel.coefficients\n",
    "weights = [(float(w),) for w in weights]  # convert numpy type to float, and to tuple\n",
    "weightsDF = sqlContext.createDataFrame(weights, [\"Feature Weight\"])\n",
    "display(weightsDF)\n",
    "print(f\"\\n... Completed in {time.time() - start} seconds\")"
   ]
  },
  {
   "cell_type": "code",
   "execution_count": null,
   "metadata": {},
   "outputs": [],
   "source": [
    "start = time.time()\n",
    "# View best model's predictions and probabilities of each prediction class\n",
    "selected = predictions.select(\"label\", \"prediction\", \"probability\")\n",
    "display(selected)\n",
    "print(f\"\\n... Completed in {time.time() - start} seconds\")"
   ]
  },
  {
   "cell_type": "markdown",
   "metadata": {},
   "source": [
    "### 4.4.3 Factorization Machines\n",
    "Sid to add GCP stuff here and present results for 100% dataset"
   ]
  },
  {
   "cell_type": "code",
   "execution_count": null,
   "metadata": {},
   "outputs": [],
   "source": []
  },
  {
   "cell_type": "markdown",
   "metadata": {},
   "source": [
    "# __Section 5__ - Course Concepts"
   ]
  },
  {
   "cell_type": "markdown",
   "metadata": {},
   "source": [
    "**[Shall we put a conclusion here in combination with course concepts? This can cover our submission to Kaggle results]** \n",
    "\n",
    "In this assignment, we were provided with a training data set from Criteo on Kaggle that consisted of numerical and categorical features that described particular ads that were provided to an audience, thus resulting in either a successful click-through or not. Our goal was to construct a predictive model that would predict a final binary outcome (1 for successful click through, 0 for unsuccessful click through) given new data consisting of the same numerical and categorical features. \n",
    "\n",
    "Such a challenge certainly is not new, but the sheer scale of such a data set (particularly the high dimensionality of the categorical columns) definitely warranted a second look at taking advantage of the map-reduce framework behind Spark as well as optimizations through statistical observations on value frequency as well as pipelining processes to preprocess features, train and cross-validate our hyperparameters, and finally test our model.\n",
    "\n",
    "Below is a brief outline of all steps taken in this notebook to tackle the prediction problem, along with highlights of what course concepts we found ourselves covering: \n",
    "\n",
    "1. EDA \n",
    "    * After a sampling of the full file, the EDA portion utilized the map/reduce framework of Spark RDDs to calculate basic statistics for the numerical and categorical variables in an attempt to visualize the difference between the successful and unsuccessful click-through ads. \n",
    "2. Logistic Regression Algorithm Implementation \n",
    "    * To implement logistic regression with gradient descent (modified for Lasso and Ridge regularization), we took advantage of Spark RDD's and their distributed computing via map/reduce to scale Gradient Descent efficiently. Moreover, we began to look at the transformation of numerical variables via log and normalization. \n",
    "3. [FFM?] \n",
    "4. Categorical Variables: Dimensionality Reduction \n",
    "    * To implement hashing, we took advantage of Spark DataFrames and other optimization for Big Data, such as MLLib's FeatureHasher. \n",
    "5. Pipelining \n",
    "    * Combining all our parts together, we utilized Spark Pipelines to create stages of transformations or estimators that would do the preprocessing and assembling of our feature vectors together to be fed into our final Logistic Regression model. \n",
    "\n",
    "============================================\n",
    "\n",
    "(Scratch notes for now; listing out points to mention for each core concept we covered) \n",
    "\n",
    "* Parallel Computation, Map Reduce Framework with Spark RDDs \n",
    "* Distributed Supervised ML \n",
    "    * Logistic Regression\n",
    "* Spark Optimizations for Big Data and DataFrames\n",
    "    * Spark MLLib Feature Hasher \n",
    "    * Pipeline \n",
    "* ALS and Spark MLLib\n",
    "    * Factorization Machines "
   ]
  },
  {
   "cell_type": "markdown",
   "metadata": {},
   "source": []
  },
  {
   "cell_type": "markdown",
   "metadata": {},
   "source": []
  },
  {
   "cell_type": "markdown",
   "metadata": {},
   "source": [
    "### TOY EXAMPLE - comparison with ScikitLearn"
   ]
  },
  {
   "cell_type": "code",
   "execution_count": null,
   "metadata": {},
   "outputs": [],
   "source": [
    "#TOY EXAMPLE STARTS HERE\n",
    "numb_features = 2\n",
    "\n",
    "N = 100\n",
    "D = 3\n",
    "\n",
    "X_toy = np.random.randn(N,D)\n",
    "\n",
    "# center the first 50 points at (-1,-1)\n",
    "X_toy[:50,:] = X_toy[:50,:] - 1*np.ones((50,D))\n",
    "\n",
    "# center the last 50 points at (2, 2)\n",
    "X_toy[50:,:] = X_toy[50:,:] + 2*np.ones((50,D))\n",
    "\n",
    "X_toy[:50,0] = 0\n",
    "X_toy[50:,0] = 1\n",
    "\n",
    "rdd1 = sc.parallelize(X_toy)\n",
    "rdd1 = rdd1.map(lambda x: [float(i) for i in x])\n",
    "toy_sample_red = rdd1.toDF([\"_1\", \"_2\", \"_3\"])\n",
    "toy_sample_red_RDD = toy_sample_red.rdd.map(lambda x: (x[0], x[1:])).cache()"
   ]
  },
  {
   "cell_type": "code",
   "execution_count": null,
   "metadata": {},
   "outputs": [],
   "source": [
    "#define baseline model, add one parameter representing the intercept\n",
    "BASELINE = np.random.randn(numb_features + 1)"
   ]
  },
  {
   "cell_type": "code",
   "execution_count": null,
   "metadata": {},
   "outputs": [],
   "source": [
    "nSteps = 150\n",
    "learningRate = 0.5\n",
    "regType = 'ridge'\n",
    "regParam = 0.05\n",
    "\n",
    "Loss_save = []\n",
    "Model_norm = []\n",
    "#broadcast model\n",
    "model = BASELINE\n",
    "for idx in range(nSteps):\n",
    "    #print(\"----------\")\n",
    "    #print(f\"STEP: {idx+1}\")\n",
    "    \n",
    "    # compute loss\n",
    "    loss = LogLoss(toy_sample_red_RDD, model, regType=regType, regParam=regParam)\n",
    "    # update model parameters\n",
    "    model = GDUpdate(toy_sample_red_RDD, model, regType=regType, regParam=regParam, learningRate=learningRate)\n",
    "    \n",
    "    #store results\n",
    "    Loss_save.append(loss)\n",
    "    Model_norm.append(np.linalg.norm(model))\n",
    "\n",
    "print(f\"The estimated model is: {model}\")\n",
    "print(f\"The loss of the estimated model is: {loss}\")\n",
    "print()\n",
    "print()\n",
    "plt.plot(Loss_save)\n",
    "plt.title('Loss')\n",
    "plt.show()\n",
    "plt.plot(Model_norm)\n",
    "plt.title('Norm of vector of parameters')"
   ]
  },
  {
   "cell_type": "code",
   "execution_count": null,
   "metadata": {},
   "outputs": [],
   "source": [
    "#actual simulated value is 50\n",
    "res = makePrediction(toy_sample_red_RDD, model).cache()\n",
    "res.sum()"
   ]
  },
  {
   "cell_type": "code",
   "execution_count": null,
   "metadata": {},
   "outputs": [],
   "source": [
    "import sklearn\n",
    "from sklearn.linear_model import LogisticRegression\n",
    "X, y = X_toy[:,1:],X_toy[:,0]\n",
    "clf = LogisticRegression(random_state=0, solver='lbfgs',fit_intercept=True).fit(X, y)\n",
    "print(clf.coef_, clf.intercept_)"
   ]
  },
  {
   "cell_type": "code",
   "execution_count": null,
   "metadata": {},
   "outputs": [],
   "source": [
    "plt.scatter(X_toy[:,1], X_toy[:,2], c=X_toy[:,0], s=100, alpha=0.5)\n",
    "x_axis = np.linspace(-6, 6, 100)\n",
    "y_axis = -(model[0] + x_axis*model[1]) / model[2]\n",
    "plt.plot(x_axis, y_axis)\n",
    "y_axis = -(clf.intercept_+x_axis*clf.coef_[0][0]) / clf.coef_[0][1]\n",
    "plt.plot(x_axis, y_axis)\n",
    "plt.show()"
   ]
  },
  {
   "cell_type": "code",
   "execution_count": null,
   "metadata": {},
   "outputs": [],
   "source": []
  },
  {
   "cell_type": "code",
   "execution_count": null,
   "metadata": {},
   "outputs": [],
   "source": []
  },
  {
   "cell_type": "code",
   "execution_count": null,
   "metadata": {},
   "outputs": [],
   "source": [
    "convert_cols = ['_1','_2','_3','_4','_5','_6','_7','_8','_9','_10','_11','_12','_13','_14']"
   ]
  },
  {
   "cell_type": "code",
   "execution_count": null,
   "metadata": {},
   "outputs": [],
   "source": [
    "#generate train data for homegrown solution - select only 1000 rows and only numerical features + one categorical variable +target \n",
    "train_sample_red = train_sample.select(convert_cols + ['_23']).limit(1000)"
   ]
  },
  {
   "cell_type": "code",
   "execution_count": null,
   "metadata": {},
   "outputs": [],
   "source": [
    "train_sample_red.show(3)"
   ]
  },
  {
   "cell_type": "code",
   "execution_count": null,
   "metadata": {},
   "outputs": [],
   "source": [
    "#impute missing values with averages\n",
    "from pyspark.sql.functions import avg\n",
    "for col in convert_cols:\n",
    "    train_sample_red = train_sample_red.na.fill(round(train_sample_red.na.drop().agg(avg(col)).first()[0],1), [col])"
   ]
  },
  {
   "cell_type": "code",
   "execution_count": null,
   "metadata": {},
   "outputs": [],
   "source": [
    "from pyspark.sql.functions import col, split\n",
    "df = train_sample_red.withColumn(\"_23\", split(col(\"_23\"),\" \"))\n",
    "df.show(3)"
   ]
  },
  {
   "cell_type": "code",
   "execution_count": null,
   "metadata": {},
   "outputs": [],
   "source": [
    "from pyspark.ml.feature import CountVectorizer\n",
    "cat_Vectorizer = CountVectorizer(inputCol=\"_23\", outputCol=\"_23_array\", vocabSize=4, minDF=1.0)"
   ]
  },
  {
   "cell_type": "code",
   "execution_count": null,
   "metadata": {},
   "outputs": [],
   "source": [
    "catVectorizer_model = cat_Vectorizer.fit(df)"
   ]
  },
  {
   "cell_type": "code",
   "execution_count": null,
   "metadata": {},
   "outputs": [],
   "source": [
    "df_ohe = catVectorizer_model.transform(df)"
   ]
  },
  {
   "cell_type": "code",
   "execution_count": null,
   "metadata": {},
   "outputs": [],
   "source": [
    "StringIndexer(inputCols=[\"gender\"], outputCols=[\"gender_numeric\"])"
   ]
  },
  {
   "cell_type": "markdown",
   "metadata": {},
   "source": [
    "### Cardinality of categorical variables"
   ]
  },
  {
   "cell_type": "code",
   "execution_count": null,
   "metadata": {},
   "outputs": [],
   "source": [
    "# number of unique categorical values\n",
    "from pyspark.sql.functions import col\n",
    "for col in train_sample.columns[14:]:\n",
    "    print('Column ' + col + ' has ' + str(train_sample.select(col).distinct().count()) \\\n",
    "          + ' unique categorical values')"
   ]
  },
  {
   "cell_type": "markdown",
   "metadata": {},
   "source": [
    "### Bar plots of selected variables"
   ]
  },
  {
   "cell_type": "code",
   "execution_count": null,
   "metadata": {},
   "outputs": [],
   "source": [
    "# histogram of target variable\n",
    "hist_c1 = train_sample.select('_1').rdd.flatMap(lambda x: x).histogram(2)\n",
    "pd.DataFrame(list(zip(*hist_c1))).set_index(0).plot(kind='bar');"
   ]
  },
  {
   "cell_type": "code",
   "execution_count": null,
   "metadata": {},
   "outputs": [],
   "source": [
    "# histogram of column 20\n",
    "hist_c20 = train_sample.groupBy('_20').count().collect()\n",
    "pd.DataFrame(list(zip(*hist_c20))).T.set_index(0).plot(kind='bar')"
   ]
  },
  {
   "cell_type": "code",
   "execution_count": null,
   "metadata": {},
   "outputs": [],
   "source": [
    "# histogram of column 23\n",
    "hist_c23 = train_sample.groupBy('_23').count().collect()\n",
    "pd.DataFrame(list(zip(*hist_c23))).T.set_index(0).plot(kind='bar')"
   ]
  },
  {
   "cell_type": "code",
   "execution_count": null,
   "metadata": {},
   "outputs": [],
   "source": [
    "# histogram of column 28\n",
    "hist_c28 = train_sample.groupBy('_28').count().collect()\n",
    "pd.DataFrame(list(zip(*hist_c28))).T.set_index(0).plot(kind='bar')"
   ]
  },
  {
   "cell_type": "code",
   "execution_count": null,
   "metadata": {},
   "outputs": [],
   "source": [
    "# histogram of column 31\n",
    "hist_c31 = train_sample.groupBy('_31').count().collect()\n",
    "pd.DataFrame(list(zip(*hist_c31))).T.set_index(0).plot(kind='bar')"
   ]
  },
  {
   "cell_type": "code",
   "execution_count": null,
   "metadata": {},
   "outputs": [],
   "source": [
    "# histogram of column 34\n",
    "hist_c34 = train_sample.groupBy('_34').count().collect()\n",
    "pd.DataFrame(list(zip(*hist_c34))).T.set_index(0).plot(kind='bar')"
   ]
  },
  {
   "cell_type": "code",
   "execution_count": null,
   "metadata": {},
   "outputs": [],
   "source": [
    "# histogram of column 36\n",
    "hist_c36 = train_sample.groupBy('_36').count().collect()\n",
    "pd.DataFrame(list(zip(*hist_c36))).T.set_index(0).plot(kind='bar')"
   ]
  },
  {
   "cell_type": "markdown",
   "metadata": {},
   "source": [
    "### Estimates of ctr based on category"
   ]
  },
  {
   "cell_type": "code",
   "execution_count": null,
   "metadata": {},
   "outputs": [],
   "source": [
    "# for column 20\n",
    "list_labls_vals = list(zip(*train_sample.groupBy('_20').sum('_1').collect()))\n",
    "labls = list_labls_vals[0]\n",
    "vals = np.array(list_labls_vals[1])/np.array(list(zip(*train_sample.groupBy('_20').count().collect()))[1])\n",
    "\n",
    "ax = pd.DataFrame(vals).plot(kind='bar')\n",
    "ax.set_xticklabels(labls)"
   ]
  },
  {
   "cell_type": "code",
   "execution_count": null,
   "metadata": {},
   "outputs": [],
   "source": [
    "# for column 23\n",
    "list_labls_vals = list(zip(*train_sample.groupBy('_23').sum('_1').collect()))\n",
    "labls = list_labls_vals[0]\n",
    "vals = np.array(list_labls_vals[1])/np.array(list(zip(*train_sample.groupBy('_23').count().collect()))[1])\n",
    "\n",
    "ax = pd.DataFrame(vals).plot(kind='bar')\n",
    "ax.set_xticklabels(labls)"
   ]
  },
  {
   "cell_type": "code",
   "execution_count": null,
   "metadata": {},
   "outputs": [],
   "source": [
    "# for column 28\n",
    "list_labls_vals = list(zip(*train_sample.groupBy('_28').sum('_1').collect()))\n",
    "labls = list_labls_vals[0]\n",
    "vals = np.array(list_labls_vals[1])/np.array(list(zip(*train_sample.groupBy('_28').count().collect()))[1])\n",
    "\n",
    "ax = pd.DataFrame(vals).plot(kind='bar')\n",
    "ax.set_xticklabels(labls)"
   ]
  },
  {
   "cell_type": "code",
   "execution_count": null,
   "metadata": {},
   "outputs": [],
   "source": [
    "# for column 31\n",
    "list_labls_vals = list(zip(*train_sample.groupBy('_31').sum('_1').collect()))\n",
    "labls = list_labls_vals[0]\n",
    "vals = np.array(list_labls_vals[1])/np.array(list(zip(*train_sample.groupBy('_31').count().collect()))[1])\n",
    "\n",
    "ax = pd.DataFrame(vals).plot(kind='bar')\n",
    "ax.set_xticklabels(labls)"
   ]
  },
  {
   "cell_type": "code",
   "execution_count": null,
   "metadata": {},
   "outputs": [],
   "source": [
    "# for column 34\n",
    "list_labls_vals = list(zip(*train_sample.groupBy('_34').sum('_1').collect()))\n",
    "labls = list_labls_vals[0]\n",
    "vals = np.array(list_labls_vals[1])/np.array(list(zip(*train_sample.groupBy('_34').count().collect()))[1])\n",
    "\n",
    "ax = pd.DataFrame(vals).plot(kind='bar')\n",
    "ax.set_xticklabels(labls)"
   ]
  },
  {
   "cell_type": "code",
   "execution_count": null,
   "metadata": {},
   "outputs": [],
   "source": [
    "# for column 36\n",
    "list_labls_vals = list(zip(*train_sample.groupBy('_36').sum('_1').collect()))\n",
    "labls = list_labls_vals[0]\n",
    "vals = np.array(list_labls_vals[1])/np.array(list(zip(*train_sample.groupBy('_36').count().collect()))[1])\n",
    "\n",
    "ax = pd.DataFrame(vals).plot(kind='bar')\n",
    "ax.set_xticklabels(labls)"
   ]
  },
  {
   "cell_type": "code",
   "execution_count": null,
   "metadata": {},
   "outputs": [],
   "source": []
  }
 ],
 "metadata": {
  "kernelspec": {
   "display_name": "Python 3",
   "language": "python",
   "name": "python3"
  },
  "language_info": {
   "codemirror_mode": {
    "name": "ipython",
    "version": 3
   },
   "file_extension": ".py",
   "mimetype": "text/x-python",
   "name": "python",
   "nbconvert_exporter": "python",
   "pygments_lexer": "ipython3",
   "version": "3.6.6"
  }
 },
 "nbformat": 4,
 "nbformat_minor": 2
}
