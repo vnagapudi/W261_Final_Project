{
 "cells": [
  {
   "cell_type": "markdown",
   "metadata": {},
   "source": [
    "# w261 Final Project - Clickthrough Rate Prediction\n"
   ]
  },
  {
   "cell_type": "markdown",
   "metadata": {},
   "source": [
    "Team 24   \n",
    "Vivian Lu, Siddhartha Jakkamreddy, Venky Nagapudi, Luca Garre   \n",
    "Summer 2019, sections 4 and 5   "
   ]
  },
  {
   "cell_type": "markdown",
   "metadata": {},
   "source": [
    "## Table of Contents\n",
    "\n",
    "* __Section 1__ - Question Formulation\n",
    "* __Section 2__ - Algorithm Explanation\n",
    "* __Section 3__ - EDA & Challenges\n",
    "* __Section 4__ - Algorithm Implementation\n",
    "* __Section 5__ - Course Concepts"
   ]
  },
  {
   "cell_type": "markdown",
   "metadata": {},
   "source": [
    "# __Section 1__ - Question Formulation"
   ]
  },
  {
   "cell_type": "markdown",
   "metadata": {},
   "source": [
    "## __Introduction__\n",
    "Online ad is a multibillion dollar industry fueled by large investments and ever increasing performance goals. Targeted advertisement based on users' browsing industry and demographic, ad features such as overall appearance, employed colors and text, and website features such as ad's relative placement in the webpage, sizes, etc., is receiving more and more interest due to its potential for revenue generation. In this context, machine learning is proving resourceful in the understanding of the features that mostly affect users' Click-Through Rates (CTR) and, based on this understanding, in informing the design of ads that maximize performance metrics such as click and convertion rates. Further, machine learning solutions can easily be deployed in a data pipeline enviroment in order to select and offer, on a user-specific basis, the ad which expectedly maximizes the user's interest. \n",
    "\n",
    "...\n",
    "\n",
    "## __Goal of the analysis__\n",
    "The purpose of the present analysis is to estimate whether a given ad will be clicked based on a set of features describing the ad. \n",
    "\n",
    "...\n",
    "\n",
    "## __Description of the dataset__\n",
    "The dataset is provided by __[put_reference_to_CriteoLabs]__ and is composed of three files, a `readme.txt`, a `train.txt` and a `test.txt` file, respectively. The readme file contains a brief description of the data. The `train.txt` and `test.txt` files contain the train and test data. Both files are formatted as tab separated value tables, and amount to 45840617 and 6042135 rows for the train and test data, respectively. Following the description of the data, each row represents an ad and contains the following fields (see commands below, these expect the data to be contained in a data folder inside the current working directory):\n",
    "\n",
    "- 1 binary field indicating whether the ad has been clicked (1) or not (0). This field is available only for the train data;\n",
    "- 13 fields containing integer features representing counts;\n",
    "- 26 categorical features. These are hashed as 32 bits keys for anonymization purposes;\n",
    "\n",
    "From a printout of the first rows of the data files it appears that the data contain no headers. This implies that, with the sole exception of the first binary field, it is not possible to characterize the various fields in terms of the features these represent. It is also noted that rows in the data can have missing values. This is again noticed when looking at the printed lines, as these have a number of entries which is lower than the number of fields specified in the `readme.txt` file. \n",
    "\n",
    "..."
   ]
  },
  {
   "cell_type": "code",
   "execution_count": null,
   "metadata": {},
   "outputs": [],
   "source": [
    "#number of rows in the train data\n",
    "!wc -l data/train.txt"
   ]
  },
  {
   "cell_type": "code",
   "execution_count": null,
   "metadata": {},
   "outputs": [],
   "source": [
    "#number of rows in the test data\n",
    "!wc -l data/test.txt"
   ]
  },
  {
   "cell_type": "code",
   "execution_count": null,
   "metadata": {},
   "outputs": [],
   "source": [
    "# first row of the train data\n",
    "!head -1 data/train.txt"
   ]
  },
  {
   "cell_type": "code",
   "execution_count": null,
   "metadata": {},
   "outputs": [],
   "source": [
    "# first row of the test data\n",
    "!head -1 data/test.txt"
   ]
  },
  {
   "cell_type": "markdown",
   "metadata": {},
   "source": [
    "# __Section 2__ - Algorithm Explanation"
   ]
  },
  {
   "cell_type": "markdown",
   "metadata": {},
   "source": [
    "## Logistic regression\n",
    "\n",
    "Logistic regression belongs to the family of so-called generalized linear models and is by far one of the most known and applied algorithms for the prediction of a target variable $Y$, which represents the possible occurrence of an event of interest $e$. This variable is binary, and usually is encoded such that $Y=1$ represents the occurrence of $e$. More specifically, given a set of explanatory features $X_i$, $i = 1,2, \\dots, n$, logistic regression characterizes the probability of occurrence of $e$, $\\pi[e] \\equiv \\pi$, as follows:\n",
    "\n",
    "\\begin{equation}\n",
    "\\pi = \\frac{1}{1 + \\exp^{-z} }\n",
    "\\end{equation}\n",
    "\n",
    "where $z = \\beta_0 + \\sum_{i=1}^n \\beta_i X_i$ and $\\beta_i$ are model parameters. As can be seen from the equation above, and in compliance with probability rules, $\\pi \\in (0, 1)$ for any $\\beta_i$ and $X_i$, owing to the fact that the exponential function is strictly positive, and considering that the denominator is always higher than the numerator. After some algebraic manipulations an equivalent, and more compact, formulation of the above equation can be obtained as:\n",
    "\n",
    "\\begin{equation}\n",
    "log\\left( \\frac{\\pi}{1-\\pi} \\right) = \\beta_0 + \\sum_{i=1}^n \\beta_i X_i\n",
    "\\end{equation}\n",
    "\n",
    "where the left side is usually referred to as the logit function, $logit(\\pi)$, while the right side makes the linear nature of this model explicit. This becomes clearer when considering the decision boundary, i.e., the hypersurface that segments the feature space in positive versus vegative regions. For logistic regression, such boundary is associated with the locus of points in the feature space where $\\pi=0.5$, i.e., the model has no preference as to whether a point in this locus should be assigned to the positive or the negative class. Casting $\\pi=0.5$ in the left side of the equation above renders a linear equation of the decision boundary in the feature space, in compliance with the linear nature of this model.  \n",
    "\n",
    "## Log-loss function and parameter estimation\n",
    "\n",
    "In accordance with established practices in the fields of statistics and machine learning, the parameters $\\beta_i$ of the logistic regression model are estimated via maximization of the log-likelihood function. In essence, for a sample of $m$ data points $(x_{ij}, y_j)$, $i = 1,2,\\dots,n$, $j = 1,2,\\dots,m$, where $x_{ij}$ is the $j$-th record of the $i$-th feature, and $y_j$ is the $j$-th record of the target binary variable $Y$, the parameters $\\beta_i$ are estimated such that the log-likelihood function:\n",
    "\n",
    "\\begin{equation}\n",
    "log\\left[ L(\\beta_i|y_j) \\right] = \\frac{1}{m} log\\left( \\prod_{j = 1}^{m} \\pi_j^{y_j} \\left( 1-\\pi_j \\right)^{1-y_j} \\right)\n",
    "\\end{equation}\n",
    "\n",
    "is maximized. The term in the multiplication corresponds to the likelihood function of the Bernoulli distribution for the (degenerate) case of one single trial and number of successes $y_j = 1$ and $y_j = 0$ for success and failure, respectively.\n",
    "\n",
    "Operationally, the above maximization is usually achieved taking the negative of the log-likelihood function and computing the parameters $\\beta_i$ as the argmin of the negated log-likelihood which, after some manipulations, can be written as:\n",
    "\n",
    "\\begin{equation}\n",
    "\\hat{L} = -log\\left[ L(\\beta_i|y_j) \\right] = - \\frac{1}{m}\\sum_{j=1}^{m} \\left[ y_j \\cdot log(\\pi_j) + (1-y_j) \\cdot log(1-\\pi_j) \\right]\n",
    "\\end{equation}\n",
    "\n",
    "The right term of the equation, also called Cross-Entropy or log-loss, being a function $\\pi$, is ultimately a function of the parameters $\\beta_i$ and the features $X_i$ through the logistic regression relationship. The log-loss gives some insights as to the role of this function during estimation of the parameters. Let us assume that for a certain data point, $(x_{ij}, y_j)$, the target variable is equal to $1$. For this given data point, the right term of the equation simplifies to $-log(\\pi_j)$. Since this term needs to be minimized, the parameters $\\beta_i$ of the model need to be chosen such that $\\pi_j$ approaches $1$ as closely as possible. Conversely for an observation $y_j = 0$, minimization of the log-loss, $-log(1 - \\pi_j)$, requires $\\pi_j$ to approach $0$. This dual role of the log-loss function makes such that likelihood maximization in logistic regression aims to find the set of model parameters which best separate positive from negative observations in the space of the explanatory features $X_i$, in the sense of mapping as closely as possible positive targets to $\\pi = 1$ and negative targets to $\\pi = 0$. Another appealing property, which turns out to the be of paramount importance for the strategy outlined below, is that this log-loss function is convex, i.e., one and only one point of minimum exists in the space of parameters $\\beta_i$.\n",
    "\n",
    "## Gradient descent\n",
    "\n",
    "Finding the optimum set of parameters requires a suitable optimization framework. Among various approaches, gradient descent of $\\hat{L}$ is a well-established approach for functions. For a certain point of the $n$-th dimensional space of parameters $\\beta_i$, the gradient of the log-loss function, $\\nabla \\hat{L}$ is computed, and thereafter a translation is performed in the parameter space along the gradient direction (the steepest descent).\n",
    "\n",
    "Gradient descent requires the computation of the gradient. In order to derive its formulation, it is convenient to consider the $i$-th component of $\\nabla \\hat{L}$, i.e.:\n",
    "\n",
    "\\begin{equation}\n",
    "\\nabla_i \\hat{L} = \\frac{\\partial}{\\partial \\beta_i} \\hat{L}\n",
    "\\end{equation}\n",
    "\n",
    "Taking the derivative inside the summation and operating on the logarithm yields:\n",
    "\n",
    "\\begin{equation}\n",
    "\\nabla_i \\hat{L} = - \\frac{1}{m} \\sum_{j=1}^{m} \\left( \\frac{y_j}{\\pi_j} - \\frac{1-y_j}{1-\\pi_j} \\right) \\frac{\\partial \\pi_j}{\\partial \\beta_i}\n",
    "\\end{equation}\n",
    "\n",
    "The derivative of the probability with respect to the parameter equates to (refer to the initial logistic regression formulation):\n",
    "\n",
    "\\begin{equation}\n",
    "\\frac{\\partial \\pi_j}{\\partial \\beta_i} = \\frac{\\exp^{-z_j}}{(1+\\exp^{-z_j})^2} \\frac{\\partial z_j} {\\partial \\beta_i} = \\frac{\\exp^{-z_j}}{1+\\exp^{-z_j}} \\frac{1}{1+\\exp^{-z_j}} \\frac{\\partial z_j} {\\partial \\beta_i} = (1-\\pi_j) \\pi_j \\frac{\\partial z_j} {\\partial \\beta_i}\n",
    "\\end{equation}\n",
    "\n",
    "The derivative of the linear combination term yields:\n",
    "\n",
    "\\begin{equation}\n",
    "\\frac{\\partial z_j} {\\partial \\beta_i} = x_{ij}\n",
    "\\end{equation}\n",
    "\n",
    "Putting it all together, one finally obtains: \n",
    "\n",
    "\\begin{equation}\n",
    "\\nabla_i \\hat{L} = - \\frac{1}{m} \\sum_{j=1}^{m} \\left[ y_j (1-\\pi_j) - (1-y_j) \\pi_j \\right] x_{ij} = \\frac{1}{m}\\sum_{j=1}^{m} (\\pi_j-y_j) x_{ij}\n",
    "\\end{equation}\n",
    "\n",
    "for $i = 1,2,\\dots,n$. \n",
    "\n",
    "Assuming a certain starting point in the space of parameters, $\\beta_i^0$, gradient descent first computes the gradient $\\nabla \\hat{L}$ at this starting point, and shifts the point along the direction of this gradient by computing a new point $\\beta_i^1 = \\beta_i^0 - \\alpha \\cdot \\nabla \\hat{L}$, where $\\alpha$ is a learning rate. This is done iteratively until suitable stopping criteria are met.\n",
    "\n",
    "## Algorithm for scalable implementation of logistic regression\n",
    "\n",
    "- Assume starting values for logistic parameters $\\beta_i^0$\n",
    "- Set learning parameter $\\alpha$\n",
    "- For each iteration $k$:\n",
    "- Broadcast parameters $\\beta_i^{k}$ to all worker nodes\n",
    "- Map: emit key-value pairs. Key: index $j$, values: target variable $y_j$ and array of explanatory features $x_{ij}$, for $j = 1,2,\\dots,n$\n",
    "- Map: for every $j = 1,2,\\dots,n$ compute probability $\\pi_j$ and $\\left[ y_j (1-\\pi_j) - (1-y_j) \\pi_j \\right] x_{ij}$\n",
    "- Reduce: sum over $j$ and divide by $m$, for $i = 1,2,\\dots,n$\n",
    "- Update $\\beta_i^{k}$\n",
    "- Run next iteration\n",
    "\n",
    "__References:__\n",
    "\n",
    "Bilder, C.R. and Loughin, T.M. (2015). Analysis of Categorical Data with R. CRC Press. \n",
    "\n",
    "Kremonic, Z. (2017). Maximum likelihood and gradient descent demonstration. Blog post. Accessed on July 2019 at https://zlatankr.github.io/posts/2017/03/06/mle-gradient-descent.\n",
    "\n",
    "\n",
    "\n",
    "Additional resources:\n",
    "\n",
    "https://ml-cheatsheet.readthedocs.io/en/latest/logistic_regression.html\n",
    "\n",
    "https://ttic.uchicago.edu/~suriya/website-intromlss2018/course_material/Day3b.pdf \n",
    "\n",
    "http://www.holehouse.org/mlclass/06_Logistic_Regression.html\n"
   ]
  },
  {
   "cell_type": "markdown",
   "metadata": {},
   "source": [
    "# __Section 3__ - EDA & Challenges"
   ]
  },
  {
   "cell_type": "code",
   "execution_count": 2,
   "metadata": {},
   "outputs": [],
   "source": [
    "# imports\n",
    "import re\n",
    "import numpy as np\n",
    "import pandas as pd\n",
    "import matplotlib.pyplot as plt\n",
    "from matplotlib.pyplot import *\n",
    "from os import path"
   ]
  },
  {
   "cell_type": "code",
   "execution_count": 3,
   "metadata": {},
   "outputs": [],
   "source": [
    "# store path to notebook\n",
    "PWD = !pwd\n",
    "PWD = PWD[0]"
   ]
  },
  {
   "cell_type": "code",
   "execution_count": 4,
   "metadata": {},
   "outputs": [],
   "source": [
    "# create Spark Session\n",
    "from pyspark.sql import SparkSession\n",
    "app_name = \"final_project\"\n",
    "master = \"local[*]\"\n",
    "spark = SparkSession\\\n",
    "        .builder\\\n",
    "        .appName(app_name)\\\n",
    "        .master(master)\\\n",
    "        .getOrCreate()\n",
    "sc = spark.sparkContext"
   ]
  },
  {
   "cell_type": "code",
   "execution_count": 5,
   "metadata": {},
   "outputs": [],
   "source": [
    "# read in sample training data and convert to dataframe\n",
    "train_sample = sc.textFile('data/sample_training.txt')\\\n",
    "                 .map(lambda x: x.split('\\t'))\\\n",
    "                 .toDF().cache()"
   ]
  },
  {
   "cell_type": "code",
   "execution_count": 6,
   "metadata": {},
   "outputs": [
    {
     "name": "stdout",
     "output_type": "stream",
     "text": [
      "+---+---+---+---+---+----+---+---+---+---+---+---+---+---+--------+--------+--------+--------+--------+--------+--------+--------+--------+--------+--------+--------+--------+--------+--------+--------+--------+--------+--------+--------+--------+--------+--------+--------+--------+--------+\n",
      "| _1| _2| _3| _4| _5|  _6| _7| _8| _9|_10|_11|_12|_13|_14|     _15|     _16|     _17|     _18|     _19|     _20|     _21|     _22|     _23|     _24|     _25|     _26|     _27|     _28|     _29|     _30|     _31|     _32|     _33|     _34|     _35|     _36|     _37|     _38|     _39|     _40|\n",
      "+---+---+---+---+---+----+---+---+---+---+---+---+---+---+--------+--------+--------+--------+--------+--------+--------+--------+--------+--------+--------+--------+--------+--------+--------+--------+--------+--------+--------+--------+--------+--------+--------+--------+--------+--------+\n",
      "|  0|  1|  1|  5|  0|1382|  4| 15|  2|181|  1|  2|   |  2|68fd1e64|80e26c9b|fb936136|7b4723c4|25c83c98|7e0ccccf|de7995b8|1f89b562|a73ee510|a8cd5504|b2cb9c98|37c9c164|2824a5f6|1adce6ef|8ba8b39a|891b62e7|e5ba7672|f54016b9|21ddcdc9|b1252a9d|07b5194c|        |3a171ecb|c5c50484|e8b83407|9727dd16|\n",
      "|  0|  2|  0| 44|  1| 102|  8|  2|  2|  4|  1|  1|   |  4|68fd1e64|f0cf0024|6f67f7e5|41274cd7|25c83c98|fe6b92e5|922afcc0|0b153874|a73ee510|2b53e5fb|4f1b46f3|623049e6|d7020589|b28479f6|e6c5b5cd|c92f3b61|07c540c4|b04e4670|21ddcdc9|5840adea|60f6221e|        |3a171ecb|43f13e8b|e8b83407|731c3655|\n",
      "|  0|  2|  0|  1| 14| 767| 89|  4|  2|245|  1|  3|  3| 45|287e684f|0a519c5c|02cf9876|c18be181|25c83c98|7e0ccccf|c78204a1|0b153874|a73ee510|3b08e48b|5f5e6091|8fe001f4|aa655a2f|07d13a8f|6dc710ed|36103458|8efede7f|3412118d|        |        |e587c466|ad3062eb|3a171ecb|3b183c5c|        |        |\n",
      "+---+---+---+---+---+----+---+---+---+---+---+---+---+---+--------+--------+--------+--------+--------+--------+--------+--------+--------+--------+--------+--------+--------+--------+--------+--------+--------+--------+--------+--------+--------+--------+--------+--------+--------+--------+\n",
      "only showing top 3 rows\n",
      "\n"
     ]
    }
   ],
   "source": [
    "# head first three rows\n",
    "train_sample.show(3)"
   ]
  },
  {
   "cell_type": "code",
   "execution_count": 7,
   "metadata": {},
   "outputs": [],
   "source": [
    "# convert numeric columns from string to double\n",
    "convert_cols = ['_1','_2','_3','_4','_5','_6','_7','_8','_9','_10','_11','_12','_13','_14']\n",
    "\n",
    "for col in convert_cols:\n",
    "    train_sample = train_sample.withColumn(col, train_sample[col].cast(\"double\"))\n",
    "train_sample = train_sample.cache()"
   ]
  },
  {
   "cell_type": "code",
   "execution_count": 8,
   "metadata": {},
   "outputs": [
    {
     "name": "stdout",
     "output_type": "stream",
     "text": [
      "+---+---+---+----+----+------+----+----+---+-----+---+---+----+----+--------+--------+--------+--------+--------+--------+--------+--------+--------+--------+--------+--------+--------+--------+--------+--------+--------+--------+--------+--------+--------+--------+--------+--------+--------+--------+\n",
      "| _1| _2| _3|  _4|  _5|    _6|  _7|  _8| _9|  _10|_11|_12| _13| _14|     _15|     _16|     _17|     _18|     _19|     _20|     _21|     _22|     _23|     _24|     _25|     _26|     _27|     _28|     _29|     _30|     _31|     _32|     _33|     _34|     _35|     _36|     _37|     _38|     _39|     _40|\n",
      "+---+---+---+----+----+------+----+----+---+-----+---+---+----+----+--------+--------+--------+--------+--------+--------+--------+--------+--------+--------+--------+--------+--------+--------+--------+--------+--------+--------+--------+--------+--------+--------+--------+--------+--------+--------+\n",
      "|0.0|1.0|1.0| 5.0| 0.0|1382.0| 4.0|15.0|2.0|181.0|1.0|2.0|null| 2.0|68fd1e64|80e26c9b|fb936136|7b4723c4|25c83c98|7e0ccccf|de7995b8|1f89b562|a73ee510|a8cd5504|b2cb9c98|37c9c164|2824a5f6|1adce6ef|8ba8b39a|891b62e7|e5ba7672|f54016b9|21ddcdc9|b1252a9d|07b5194c|        |3a171ecb|c5c50484|e8b83407|9727dd16|\n",
      "|0.0|2.0|0.0|44.0| 1.0| 102.0| 8.0| 2.0|2.0|  4.0|1.0|1.0|null| 4.0|68fd1e64|f0cf0024|6f67f7e5|41274cd7|25c83c98|fe6b92e5|922afcc0|0b153874|a73ee510|2b53e5fb|4f1b46f3|623049e6|d7020589|b28479f6|e6c5b5cd|c92f3b61|07c540c4|b04e4670|21ddcdc9|5840adea|60f6221e|        |3a171ecb|43f13e8b|e8b83407|731c3655|\n",
      "|0.0|2.0|0.0| 1.0|14.0| 767.0|89.0| 4.0|2.0|245.0|1.0|3.0| 3.0|45.0|287e684f|0a519c5c|02cf9876|c18be181|25c83c98|7e0ccccf|c78204a1|0b153874|a73ee510|3b08e48b|5f5e6091|8fe001f4|aa655a2f|07d13a8f|6dc710ed|36103458|8efede7f|3412118d|        |        |e587c466|ad3062eb|3a171ecb|3b183c5c|        |        |\n",
      "+---+---+---+----+----+------+----+----+---+-----+---+---+----+----+--------+--------+--------+--------+--------+--------+--------+--------+--------+--------+--------+--------+--------+--------+--------+--------+--------+--------+--------+--------+--------+--------+--------+--------+--------+--------+\n",
      "only showing top 3 rows\n",
      "\n"
     ]
    }
   ],
   "source": [
    "# head first three rows\n",
    "train_sample.show(3)"
   ]
  },
  {
   "cell_type": "code",
   "execution_count": 9,
   "metadata": {},
   "outputs": [
    {
     "data": {
      "text/plain": [
       "0.22663"
      ]
     },
     "execution_count": 9,
     "metadata": {},
     "output_type": "execute_result"
    }
   ],
   "source": [
    "# estimate click-through rate\n",
    "num_ct = train_sample.groupBy().sum('_1').collect()[0][0]\n",
    "num_ct/train_sample.count()"
   ]
  },
  {
   "cell_type": "markdown",
   "metadata": {},
   "source": [
    "Add plots, discussions, etc. for EDA"
   ]
  },
  {
   "cell_type": "markdown",
   "metadata": {},
   "source": []
  },
  {
   "cell_type": "markdown",
   "metadata": {},
   "source": [
    "# __Section 4__ - Algorithm Implementation"
   ]
  },
  {
   "cell_type": "code",
   "execution_count": 10,
   "metadata": {},
   "outputs": [],
   "source": [
    "#generate train data for homegrown solution - select only 10000 rows and only numerical features + target \n",
    "train_sample_red = train_sample.select(convert_cols).limit(10000).cache()"
   ]
  },
  {
   "cell_type": "code",
   "execution_count": 11,
   "metadata": {},
   "outputs": [
    {
     "name": "stdout",
     "output_type": "stream",
     "text": [
      "+---+---+---+----+----+------+----+----+---+-----+---+---+----+----+\n",
      "| _1| _2| _3|  _4|  _5|    _6|  _7|  _8| _9|  _10|_11|_12| _13| _14|\n",
      "+---+---+---+----+----+------+----+----+---+-----+---+---+----+----+\n",
      "|0.0|1.0|1.0| 5.0| 0.0|1382.0| 4.0|15.0|2.0|181.0|1.0|2.0|null| 2.0|\n",
      "|0.0|2.0|0.0|44.0| 1.0| 102.0| 8.0| 2.0|2.0|  4.0|1.0|1.0|null| 4.0|\n",
      "|0.0|2.0|0.0| 1.0|14.0| 767.0|89.0| 4.0|2.0|245.0|1.0|3.0| 3.0|45.0|\n",
      "+---+---+---+----+----+------+----+----+---+-----+---+---+----+----+\n",
      "only showing top 3 rows\n",
      "\n"
     ]
    }
   ],
   "source": [
    "train_sample_red.show(3)"
   ]
  },
  {
   "cell_type": "code",
   "execution_count": 12,
   "metadata": {},
   "outputs": [],
   "source": [
    "#impute missing values with averages\n",
    "from pyspark.sql.functions import avg\n",
    "for col in train_sample_red.columns:\n",
    "    train_sample_red = train_sample_red.na.fill(round(train_sample_red.na.drop().agg(avg(col)).first()[0],1), [col])"
   ]
  },
  {
   "cell_type": "code",
   "execution_count": 13,
   "metadata": {},
   "outputs": [
    {
     "name": "stdout",
     "output_type": "stream",
     "text": [
      "+---+---+---+----+----+------+----+----+---+-----+---+---+---+----+\n",
      "| _1| _2| _3|  _4|  _5|    _6|  _7|  _8| _9|  _10|_11|_12|_13| _14|\n",
      "+---+---+---+----+----+------+----+----+---+-----+---+---+---+----+\n",
      "|0.0|1.0|1.0| 5.0| 0.0|1382.0| 4.0|15.0|2.0|181.0|1.0|2.0|1.0| 2.0|\n",
      "|0.0|2.0|0.0|44.0| 1.0| 102.0| 8.0| 2.0|2.0|  4.0|1.0|1.0|1.0| 4.0|\n",
      "|0.0|2.0|0.0| 1.0|14.0| 767.0|89.0| 4.0|2.0|245.0|1.0|3.0|3.0|45.0|\n",
      "+---+---+---+----+----+------+----+----+---+-----+---+---+---+----+\n",
      "only showing top 3 rows\n",
      "\n"
     ]
    }
   ],
   "source": [
    "train_sample_red.show(3)"
   ]
  },
  {
   "cell_type": "code",
   "execution_count": 14,
   "metadata": {},
   "outputs": [],
   "source": [
    "#cache into rdd\n",
    "train_sample_red_RDD = train_sample_red.rdd.map(lambda x: (x[0], np.array(x[1:]))).cache()"
   ]
  },
  {
   "cell_type": "code",
   "execution_count": 15,
   "metadata": {},
   "outputs": [],
   "source": [
    "def normalize(dataRDD):\n",
    "    \"\"\"\n",
    "    Scale and center data round mean of each feature.\n",
    "    Args:\n",
    "        dataRDD - records are tuples of (y, features_array)\n",
    "    Returns:\n",
    "        normedRDD - records are tuples of (y, features_array)\n",
    "    \"\"\"\n",
    "    featureMeans = dataRDD.map(lambda x: x[1]).mean()\n",
    "    featureStdev = np.sqrt(dataRDD.map(lambda x: x[1]).variance())\n",
    "\n",
    "    normedRDD = dataRDD.map(lambda x: (x[0], (x[1] - featureMeans)/featureStdev))\n",
    "\n",
    "    return normedRDD"
   ]
  },
  {
   "cell_type": "code",
   "execution_count": 16,
   "metadata": {},
   "outputs": [],
   "source": [
    "def LogLoss(dataRDD, W, regType = None, regParam=0.05):\n",
    "    \"\"\"\n",
    "    Compute log loss function.\n",
    "    Args:\n",
    "        dataRDD - each record is a tuple of (y, features_array)\n",
    "        W       - (array) model coefficients with bias at index 0\n",
    "        regType - (str) 'ridge' or 'lasso', defaults to None\n",
    "        regParam - (float) regularization term coefficient defaults to 0.1\n",
    "    Returns:\n",
    "        loss - (float) the regularized loss\n",
    "    \"\"\"\n",
    "    # add a bias 'feature' of 1 at index 0\n",
    "    augmentedData = dataRDD.map(lambda x: (np.append([1.0], x[1]), x[0])).cache()\n",
    "\n",
    "    # add regularization term\n",
    "    reg_term = 0\n",
    "    if regType == 'ridge':\n",
    "        reg_term = regParam*np.linalg.norm(W[1:])\n",
    "    elif regType == 'lasso':\n",
    "        reg_term = regParam*np.sum(np.abs(W[1:]))\n",
    "        \n",
    "    #broadcast model\n",
    "    #W = sc.broadcast(W) #uncomment this line when deploying it on the cloud\n",
    "    \n",
    "    # compute loss\n",
    "    loss = augmentedData.map(lambda x: x[1]*np.log(1 + np.exp(-np.dot(x[0], W))) + \\\n",
    "                             (1 - x[1])*(np.dot(x[0], W) + np.log(1 + np.exp(-np.dot(x[0], W))))).sum()\\\n",
    "                            /augmentedData.count()\n",
    "    \n",
    "    return loss\n",
    "\n",
    "def LogLoss_grad(dataRDD, W, regType = None, regParam=0.05):\n",
    "    \"\"\"\n",
    "    Compute log loss function inside gradient descent.\n",
    "    Args:\n",
    "        dataRDD - each record is a tuple of (y, features_array)\n",
    "        W       - (array) model coefficients with bias at index 0\n",
    "        regType - (str) 'ridge' or 'lasso', defaults to None\n",
    "        regParam - (float) regularization term coefficient defaults to 0.1\n",
    "    Returns:\n",
    "        loss - (float) the regularized loss\n",
    "    \"\"\"\n",
    "\n",
    "    # add regularization term\n",
    "    reg_term = 0\n",
    "    if regType == 'ridge':\n",
    "        reg_term = regParam*np.linalg.norm(W[1:])\n",
    "    elif regType == 'lasso':\n",
    "        reg_term = regParam*np.sum(np.abs(W[1:]))\n",
    "    \n",
    "    # compute loss\n",
    "    loss = dataRDD.map(lambda x: x[1]*np.log(1 + np.exp(-np.dot(x[0], W))) + \\\n",
    "                             (1 - x[1])*(np.dot(x[0], W) + np.log(1 + np.exp(-np.dot(x[0], W))))).sum()\\\n",
    "                            /dataRDD.count()\n",
    "    \n",
    "    return loss"
   ]
  },
  {
   "cell_type": "code",
   "execution_count": 17,
   "metadata": {},
   "outputs": [],
   "source": [
    "def GDUpdate(trainRDD, testRDD, W, nSteps = 20, regType = None, regParam=0.05, learningRate = 0.05, verbose = False):\n",
    "    \"\"\"\n",
    "    Perform nSteps of regularized gradient descent step/update.\n",
    "    Args:\n",
    "        dataRDD - records are tuples of (y, features_array)\n",
    "        W       - (array) model coefficients with bias at index 0\n",
    "        regType - (str) 'ridge' or 'lasso', defaults to None\n",
    "        regParam - (float) regularization term coefficient defaults to 0.1\n",
    "        learningRate - (float) defaults to 0.1\n",
    "    Returns:\n",
    "        new_model - (array) updated coefficients, bias at index 0\n",
    "        training_loss (float) training loss for new_model\n",
    "        test_loss (float) test loss for new_model\n",
    "    \"\"\"\n",
    "    # add a bias 'feature' of 1 at index 0\n",
    "    augmentedTrainData = trainRDD.map(lambda x: (np.append([1.0], x[1]), x[0])).cache()\n",
    "    augmentedTestData = testRDD.map(lambda x: (np.append([1.0], x[1]), x[0])).cache()\n",
    "    \n",
    "    # compute size of training sample\n",
    "    sizeTrainSample = augmentedTrainData.count()\n",
    "    \n",
    "    # initialize lists to track model performance\n",
    "    train_history, test_history, model_history = [], [], []\n",
    "    \n",
    "    # perform n updates & compute test and train loss after each\n",
    "    model = W\n",
    "    #broadcast model\n",
    "    #model = sc.broadcast(W) #uncomment this line when deploying it on the cloud\n",
    "    for idx in range(nSteps):\n",
    "        # add regularization term\n",
    "        reg_term = np.zeros(len(model))\n",
    "        if regType == 'ridge':\n",
    "            reg_term = np.append(0,2*regParam*model[1:])\n",
    "        elif regType == 'lasso':\n",
    "            reg_term = np.append(0,regParam*np.sign(model[1:]))\n",
    "    \n",
    "        # compute gradient\n",
    "        grad = augmentedTrainData.map(lambda x: ((1/(1 + np.exp(-np.dot(x[0], model))) - x[1])*x[0]))\\\n",
    "               .sum()/sizeTrainSample + reg_term\n",
    "    \n",
    "        #update model parameters\n",
    "        new_model = model - learningRate*grad\n",
    "        #new_model = sc.broadcast(new_model) #uncomment this line when deploying it on the cloud\n",
    "        training_loss = LogLoss_grad(augmentedTrainData, new_model, regType=regType, regParam=regParam)\n",
    "        test_loss = LogLoss_grad(augmentedTestData, new_model, regType=regType, regParam=regParam)\n",
    "        \n",
    "        # keep track of test/train loss for plotting\n",
    "        train_history.append(training_loss)\n",
    "        test_history.append(test_loss)\n",
    "        model_history.append(new_model)\n",
    "        \n",
    "        # console output if desired\n",
    "        if verbose:\n",
    "            print(\"----------\")\n",
    "            print(f\"STEP: {idx+1}\")\n",
    "            print(f\"training loss: {training_loss}\")\n",
    "            print(f\"test loss: {test_loss}\")\n",
    "            print(f\"Model: {[k for k in new_model]}\")\n",
    "        \n",
    "        model = new_model\n",
    "        #broadcast model\n",
    "        #model = sc.broadcast(new_model) #uncomment this line when deploying it on the cloud\n",
    "   \n",
    "    return train_history, test_history, model_history"
   ]
  },
  {
   "cell_type": "code",
   "execution_count": 18,
   "metadata": {},
   "outputs": [],
   "source": [
    "def makePrediction(dataRDD, W, treshProb=0.5):\n",
    "    \"\"\"\n",
    "    Make predictions of target and compute number of: true positives, true negatives, \n",
    "    false positive, false negatives .\n",
    "    Args:\n",
    "        dataRDD - records are tuples of (y, features_array)\n",
    "        W       - (array) model coefficients with bias at index 0\n",
    "        treshProb- (float) threshold probability for imputation of positive labels\n",
    "    Returns:\n",
    "        pred - (rdd) predicted targets\n",
    "        ntp - (integer) number of true positives\n",
    "        ntn - (integer) number of true negatives\n",
    "        nfp - (integer) number of false positives\n",
    "        nfn - (integer) number of false negatives\n",
    "    \"\"\"\n",
    "    # add a bias 'feature' of 1 at index 0\n",
    "    augmentedData = dataRDD.map(lambda x: (np.append([1.0], x[1]), x[0])).cache()\n",
    "    \n",
    "    # compute prediction\n",
    "    pred = augmentedData.map(lambda x: (int((1/(1 + np.exp(-np.dot(x[0], W))))>treshProb), x[1] )).cache()\n",
    "    \n",
    "    ntp = pred.map(lambda x: int((x[0]*x[1]) == 1)).sum()\n",
    "    ntn = pred.map(lambda x: int((x[0]+x[1]) == 0)).sum()\n",
    "    nfp = pred.map(lambda x: int((x[0] == 1) * (x[1] == 0))).sum()\n",
    "    nfn = pred.map(lambda x: int((x[0] == 0) * (x[1] == 1))).sum()\n",
    "   \n",
    "    return pred, ntp, ntn, nfp, nfn"
   ]
  },
  {
   "cell_type": "code",
   "execution_count": 19,
   "metadata": {},
   "outputs": [],
   "source": [
    "# normalize features\n",
    "normedRDD = normalize(train_sample_red_RDD).cache()"
   ]
  },
  {
   "cell_type": "code",
   "execution_count": 20,
   "metadata": {},
   "outputs": [],
   "source": [
    "#split into train, validation and test sets\n",
    "train, validation, test = normedRDD.randomSplit([0.6, 0.2, 0.2])"
   ]
  },
  {
   "cell_type": "code",
   "execution_count": 21,
   "metadata": {},
   "outputs": [],
   "source": [
    "#compute the number of features\n",
    "numb_features = len(train_sample_red.columns) - 1\n",
    "#define baseline model, add one parameter representing the intercept\n",
    "BASELINE = np.random.randn(numb_features + 1)"
   ]
  },
  {
   "cell_type": "code",
   "execution_count": 21,
   "metadata": {},
   "outputs": [
    {
     "data": {
      "image/png": "[encoded data removed]",
      "text/plain": [
       "<Figure size 432x288 with 1 Axes>"
      ]
     },
     "metadata": {},
     "output_type": "display_data"
    }
   ],
   "source": [
    "nSteps = 150\n",
    "regType = 'ridge'\n",
    "regParam = 0.02\n",
    "learningRate = 0.1\n",
    "\n",
    "# run gradient descent\n",
    "train_loss, test_loss, model = GDUpdate(train, validation, BASELINE, nSteps, regType=regType, \n",
    "                                        regParam=regParam, learningRate=learningRate, verbose = False)\n",
    "\n",
    "plt.plot(train_loss)\n",
    "plt.plot(test_loss)\n",
    "plt.title('Loss')\n",
    "plt.show()"
   ]
  },
  {
   "cell_type": "markdown",
   "metadata": {},
   "source": []
  },
  {
   "cell_type": "code",
   "execution_count": 22,
   "metadata": {},
   "outputs": [
    {
     "name": "stdout",
     "output_type": "stream",
     "text": [
      "Accuracy is:  0.781360201511335\n",
      "Precision is:  0.2765957446808511\n",
      "Recall is:  0.031476997578692496\n",
      "F1 score is:  0.05652173913043479\n",
      "False positive rate is:  0.021628498727735368\n",
      "True positive rate is:  0.031476997578692496\n"
     ]
    }
   ],
   "source": [
    "# make predictions and compute metrics for treshProb = 0.5\n",
    "pred, ntp, ntn, nfp, nfn = makePrediction(validation, model[-1], 0.5)\n",
    "\n",
    "acc = (ntp+ntn)/(ntp+ntn+nfp+nfn)\n",
    "prec = (ntp)/(ntp+nfp)\n",
    "rec = (ntp)/(ntp+nfn)\n",
    "f1 = 2*prec*rec/(prec+rec)\n",
    "fpr = nfp/(ntn+nfp)\n",
    "tpr = ntp/(ntp+nfn)\n",
    "print('Accuracy is: ', acc)\n",
    "print('Precision is: ', prec)\n",
    "print('Recall is: ', rec)\n",
    "print('F1 score is: ', f1)\n",
    "print('False positive rate is: ', fpr)\n",
    "print('True positive rate is: ', tpr)"
   ]
  },
  {
   "cell_type": "code",
   "execution_count": 23,
   "metadata": {},
   "outputs": [
    {
     "data": {
      "text/plain": [
       "Text(0,0.5,'True positive rate')"
      ]
     },
     "execution_count": 23,
     "metadata": {},
     "output_type": "execute_result"
    },
    {
     "data": {
      "image/png": "[encoded data removed]",
      "text/plain": [
       "<Figure size 432x288 with 1 Axes>"
      ]
     },
     "metadata": {},
     "output_type": "display_data"
    }
   ],
   "source": [
    "# generate ROC curve\n",
    "tprSave = []\n",
    "fprSave = []\n",
    "for i in np.arange(0.0, 0.6, 0.1):\n",
    "    pred, ntp, ntn, nfp, nfn = makePrediction(validation, model[-1], i)\n",
    "    fprSave.append(nfp/(ntn+nfp))\n",
    "    tprSave.append(ntp/(ntp+nfn))\n",
    "\n",
    "plt.plot(fprSave, tprSave)\n",
    "plt.xlabel('False positive rate')\n",
    "plt.ylabel('True positive rate')"
   ]
  },
  {
   "cell_type": "markdown",
   "metadata": {},
   "source": [
    "### Factorization Machines"
   ]
  },
  {
   "cell_type": "markdown",
   "metadata": {},
   "source": [
    "The logistic regression will take care of the linear terms, now to account for the interaction term, we expand to include 2nd Degree polynomial features. The below equation represents the formulation.\n",
    "\n",
    "\\begin{align}\n",
    "\\hat{y}(\\textbf{x}) = w_{0} + \\sum_{i=1}^{n} w_{i} x_{i} +  \\sum_{i=1}^n \\sum_{j=i+1}^n w_{ij} x_{i} x_{j}\n",
    "\\end{align}\n",
    "\n",
    "The challenge with solving the above equation is that the time complexity is $O(n^2)$\n",
    "\n",
    "In order to work with this, we use a matrix factorization technique for the interaction terms, inspired by Matrix factorization. We introduce a hyperpameter K which represent the latent factors for factorizing the weight vector $w_{ij}$.\n",
    "\n",
    "\\begin{align}\n",
    "\\hat{y}(\\textbf{x}) = w_{0} + \\sum_{i=1}^{n} w_{i} x_{i} + \\sum_{i=1}^{n} \\sum_{j=i+1}^n \\langle \\textbf{v}_i , \\textbf{v}_{j} \\rangle x_i x_{j}\n",
    "\\end{align}\n",
    "\n",
    "\n",
    "Using the computation specified in Stephen Rendles paper, we can simplify the interaction term to the below equation.\n",
    "\n",
    "\\begin{align}\n",
    "\\sum_{i=1}^n \\sum_{j=i+1}^n \\langle \\textbf{v}_i, \\textbf{v}_{j} \\rangle x_{i} x_{j}\n",
    "&= \\frac{1}{2} \\sum_{i=1}^n \\sum_{j=1}^n \\langle \\textbf{v}_i, \\textbf{v}_{j} \\rangle x_{i} x_{j} - \\frac{1}{2} \\sum_{i=1}^n \\langle \\textbf{v}_i , \\textbf{v}_{i} \\rangle x_{i} x_{i}  \\\\\n",
    "&= \\frac{1}{2}\\left(\\sum_{i=1}^n \\sum_{j=1}^n \\sum_{f=1}^k v_{i,f} v_{j,f} x_{i} x_{j} \\right)\\frac{1}{2}\\left( \\sum_{i=1}^n \\sum_{f=1}^k v_{i,f} v_{i,f} x_{i} x_{i} \\right) \\\\\n",
    "&= \\frac{1}{2}\\left(\\sum_{i=1}^n \\sum_{j=1}^n \\sum_{f=1}^k v_{i,f} v_{j,f} x_{i} x_{j}  -  \\sum_{i=1}^n \\sum_{f=1}^k v_{i,f} v_{i,f} x_{i} x_{i} \\right) \\\\\n",
    "&= \\frac{1}{2} \\sum_{f=1}^{k} \\left( \\left(\\sum_{i=1}^n v_{i,f}x_{i} \\right) \\left( \\sum_{j=1}^n v_{j,f}x_{j} \\right) - \\sum_{i=1}^{n} v_{i,f}^2 x_{i}^2 \\right) \\\\\n",
    "&= \\frac{1}{2} \\sum_{f=1}^{k} \\left( \\left( \\sum_{i}^{n} v_{i,f}x_{i} \\right)^2  - \\sum_{i=1}^{n} v_{i,f}^2 x_{i}^2 \\right)\n",
    "\\end{align}\n",
    "\n",
    "So, we can rewrite the equation to compute in $O(n)$ as\n",
    "\\begin{align}\n",
    "\\hat{y}(\\textbf{x}) = w_{0} + \\sum_{i=1}^{n} w_{i} x_{i} + \\frac{1}{2} \\sum_{f=1}^{k} \\left( \\left( \\sum_{i}^{n} v_{i,f}x_{i} \\right)^2  - \\sum_{i=1}^{n} v_{i,f}^2 x_{i}^2 \\right)\n",
    "\\end{align}\n",
    "\n",
    "#### Gradient\n",
    "\n",
    "For our classification problem, we can define the gradients as :\n",
    "\n",
    "\\begin{align}\n",
    "\\frac{\\partial}{\\partial\\theta}\\hat{y}(\\textbf{x}) =\n",
    "\\begin{cases}\n",
    "1,  & \\text{if $\\theta$ is $w_0$} \\\\\n",
    "x_i, & \\text{if $\\theta$ is $w_i$} \\\\\n",
    "x_i\\sum_{j=1}^{n} v_{j,f}x_j - v_{i,f}x_{i}^2 & \\text{if $\\theta$ is $v_{i,f}$}\n",
    "\\end{cases}\n",
    "\\end{align}\n",
    "\n",
    "#### For labels -1&1\n",
    "\\begin{align}\n",
    "\\frac{\\partial}{\\partial \\hat{y} }(\\textbf{L}) =\n",
    "\\frac{d}{d \\hat{y}}\\left[ -y \\hat{y} + \\ln \\big(e^{y \\hat{y}} + 1 \\big) \\right] \n",
    "&= \\frac{1}{e^{y \\hat{y}} + 1} \\cdot  \\frac{d}{dx}\\left[e^{y \\hat{y}} + 1 \\right] - y \\\\\n",
    "&= \\frac{ye^{y \\hat{y}}}{e^{y \\hat{y}} + 1} - y\\\\\n",
    "&= \\frac{-y}{e^{y \\hat{y}} + 1}\n",
    "\\end{align}\n",
    "\n",
    "#### For labels 0,1\n",
    "\\begin{align}\n",
    "\\frac{\\partial}{\\partial \\hat{y} }(\\textbf{L}) =\n",
    "\\frac{d}{d \\hat{y}}\\left[ -y \\hat{y} + \\ln \\big(e^{ \\hat{y}} + 1 \\big) \\right] \n",
    "&= \\frac{1}{e^{\\hat{y}} + 1} \\cdot  \\frac{d}{dx}\\left[e^{ \\hat{y}} + 1 \\right] - y \\\\\n",
    "&= \\frac{e^{ \\hat{y}}}{e^{\\hat{y}} + 1} - y\\\\\n",
    "&= \\frac{-y-e^{\\hat{y}}(y-1)}{e^{ \\hat{y}} + 1}\n",
    "\\end{align}\n",
    "\n",
    "The gradient of loss is defined by (by using chain rule):\n",
    "\n",
    "\\begin{align}\n",
    "\\frac{\\partial}{\\partial \\theta }(\\textbf{L}) = \n",
    "\\frac{\\partial}{\\partial \\hat{y} }(\\textbf{L}) \\centerdot \\frac{\\partial}{\\partial \\theta}\\hat{y}(\\textbf{x}) \n",
    "\\end{align}\n",
    "\n"
   ]
  },
  {
   "cell_type": "code",
   "execution_count": 22,
   "metadata": {},
   "outputs": [],
   "source": [
    "def fmLoss(dataRDD, w, w1,w0) :\n",
    "    \"\"\"\n",
    "    Computes the logloss given the data and model W\n",
    "    dataRDD - array of features, label\n",
    "    \"\"\"\n",
    "    w_bc = sc.broadcast(w)\n",
    "    w1_bc = sc.broadcast(w1)\n",
    "    w0_bc = sc.broadcast(w0)\n",
    "    def probability_value(x,W,W1,W0): \n",
    "        xa = np.array([x])\n",
    "        V =  xa.dot(W)\n",
    "        V_square = (xa*xa).dot(W*W)\n",
    "        phi = 0.5*(V*V - V_square).sum() + xa.dot(W1.T) + W0\n",
    "        return 1.0/(1.0 + np.exp(-phi))\n",
    "    \n",
    "    loss = dataRDD.map(lambda x: (x[0],x[1]) if x[0] == 1 else (-1, x[1])).map(lambda x:  (probability_value(x[1],w_bc.value, w1_bc.value, w0_bc.value), x[0])) \\\n",
    "        .map(lambda x: (1 - 1e-12, x[1]) if x[0] == 1 else ((1e-12, x[1]) if x[0] == 0  else (x[0],x[1]))) \\\n",
    "        .map(lambda x: -(x[1] * np.log(x[0]) + (1-x[1])*np.log(1-x[0]))).mean()\n",
    "    \n",
    "    \n",
    "    return float(loss)"
   ]
  },
  {
   "cell_type": "code",
   "execution_count": 23,
   "metadata": {},
   "outputs": [],
   "source": [
    "def fmGradUpdate_v1(dataRDD, w, w1, w0, alpha, regParam, regParam1, regParam0):\n",
    "    \"\"\"\n",
    "    Computes the gradient and updates the model\n",
    "    \"\"\"\n",
    "    \n",
    "    w_bc = sc.broadcast(w)\n",
    "    w1_bc = sc.broadcast(w1)\n",
    "    w0_bc = sc.broadcast(w0)\n",
    "    rp_bc = sc.broadcast(regParam)\n",
    "    rp1_bc = sc.broadcast(regParam1)\n",
    "    rp0_bc = sc.broadcast(regParam0)\n",
    "    \n",
    "    #Gradient for interaction term\n",
    "    \n",
    "    def row_grad(x, y, W, W1, W0, regParam, regParam1, regParam0):\n",
    "        xa = np.array([x])\n",
    "        VX =  xa.dot(W)\n",
    "        VX_square = (xa*xa).dot(W*W)\n",
    "        phi = 0.5*(VX*VX - VX_square).sum() + xa.dot(W1.T) + W0\n",
    "        expnyt = np.exp(y*phi) \n",
    "        grad_loss = (-y/(1+expnyt))*(xa.T.dot(xa).dot(W) - np.diag(np.square(x)).dot(W))\n",
    "        return 2*regParam*W + grad_loss\n",
    "    \n",
    "    #Gradient for Linear term\n",
    "    def row_grad1(x, y, W, W1, W0, regParam, regParam1, regParam0):\n",
    "        xa = np.array([x])\n",
    "        VX =  xa.dot(W)\n",
    "        VX_square = (xa*xa).dot(W*W)\n",
    "        phi = 0.5*(VX*VX - VX_square).sum() + xa.dot(W1.T) + W0\n",
    "        expnyt = np.exp(y*phi)\n",
    "        grad_loss1 = (-y/(1+expnyt))*xa\n",
    "        return 2*regParam1*W1 + grad_loss1\n",
    "    \n",
    "    #Gradient for bias term\n",
    "    def row_grad0(x, y, W, W1, W0, regParam, regParam1, regParam0):\n",
    "        xa = np.array([x])\n",
    "        VX =  xa.dot(W)\n",
    "        VX_square = (xa*xa).dot(W*W)\n",
    "        phi = 0.5*(VX*VX - VX_square).sum() + xa.dot(W1.T) + W0\n",
    "        expnyt = np.exp(y*phi)\n",
    "        grad_loss0 = (-y/(1+expnyt))*1\n",
    "        return 2*regParam0*W0 +grad_loss0\n",
    "    \n",
    "   \n",
    "    \n",
    "    batchRDD = dataRDD.sample(False, 0.01, 2019)  \n",
    "    grad = batchRDD.map(lambda x: (x[0],x[1]) if x[0] == 1 else (-1, x[1])).map(lambda x: (1, row_grad(x[1], x[0], w_bc.value, w1_bc.value, w0_bc.value, rp_bc.value,rp1_bc.value,rp0_bc.value))).reduceByKey(lambda x,y: np.add(x,y))\n",
    "    model = w - alpha * grad.values().collect()[0] \n",
    "    \n",
    "    grad1 = batchRDD.map(lambda x: (x[0],x[1]) if x[0] == 1 else (-1, x[1])).map(lambda x: (1, row_grad1(x[1], x[0], w_bc.value, w1_bc.value, w0_bc.value, rp_bc.value,rp1_bc.value,rp0_bc.value))).reduceByKey(lambda x,y: np.add(x,y))\n",
    "    model1 = w1 - alpha * grad1.values().collect()[0]\n",
    "    \n",
    "    grad0 = batchRDD.map(lambda x: (x[0],x[1]) if x[0] == 1 else (-1, x[1])).map(lambda x: (1, row_grad0(x[1], x[0], w_bc.value, w1_bc.value, w0_bc.value, rp_bc.value,rp1_bc.value,rp0_bc.value))).reduceByKey(lambda x,y: np.add(x,y))\n",
    "    model0 = w0 - alpha * grad0.values().collect()[0]\n",
    "    \n",
    "    return model, model1 ,model0\n",
    "    "
   ]
  },
  {
   "cell_type": "code",
   "execution_count": 24,
   "metadata": {},
   "outputs": [],
   "source": [
    "def GradientDescent(trainRDD, testRDD, model, model1, model0, nSteps = 20, \n",
    "                    learningRate = 0.01, regParam = 0.01,regParam1 = 0.01,regParam0 = 0.01, verbose = False):\n",
    "    \"\"\"\n",
    "    Perform nSteps iterations of OLS gradient descent and \n",
    "    track loss on a test and train set. Return lists of\n",
    "    test/train loss and the models themselves.\n",
    "    \"\"\"\n",
    "    # initialize lists to track model performance\n",
    "    train_history, test_history, model_history, model1_history, model0_history = [], [], [], [], []\n",
    "    \n",
    "    # perform n updates & compute test and train loss after each\n",
    "    model = wInit\n",
    "    model1 = wInit1\n",
    "    model0 = wInit0\n",
    "    for idx in range(nSteps): \n",
    "        \n",
    "        ############## YOUR CODE HERE #############\n",
    "        \n",
    "        model, model1, model0 = fmGradUpdate_v1(trainRDD, model, model1, model0, learningRate, regParam, regParam1, regParam0)\n",
    "        training_loss = fmLoss(trainRDD, model, model1, model0) \n",
    "        test_loss = fmLoss(testRDD, model, model1, model0) \n",
    "        ############## (END) YOUR CODE #############\n",
    "        # keep track of test/train loss for plotting\n",
    "        train_history.append(training_loss)\n",
    "        test_history.append(test_loss)\n",
    "        model_history.append(model)\n",
    "        model1_history.append(model1)\n",
    "        model0_history.append(model0)\n",
    "        \n",
    "        # console output if desired\n",
    "        if verbose:\n",
    "            print(\"----------\")\n",
    "            print(f\"STEP: {idx+1}\")\n",
    "            print(f\"training loss: {training_loss}\")\n",
    "            print(f\"test loss: {test_loss}\")\n",
    "            #print(f\"Model: {[k for k in model]}\")\n",
    "   \n",
    "    return train_history, test_history, model_history, model1_history, model0_history"
   ]
  },
  {
   "cell_type": "code",
   "execution_count": 25,
   "metadata": {},
   "outputs": [],
   "source": [
    "def wInitialization(dataRDD, factor):\n",
    "    nrFeat = len(dataRDD.first()[1])\n",
    "    np.random.seed(int(time.time())) \n",
    "    w =  np.random.ranf((nrFeat, factor))\n",
    "    w = w / np.sqrt((w*w).sum())\n",
    "    \n",
    "    w1 =  np.random.ranf(nrFeat)\n",
    "    w1 = w1 / np.sqrt((w1*w1).sum())\n",
    "    \n",
    "    w0 =  np.random.ranf(1)\n",
    "    \n",
    "    return w, w1, w0"
   ]
  },
  {
   "cell_type": "code",
   "execution_count": 26,
   "metadata": {},
   "outputs": [
    {
     "name": "stdout",
     "output_type": "stream",
     "text": [
      "----------\n",
      "STEP: 1\n",
      "training loss: 1.7613677632878466\n",
      "test loss: 1.8473588378092802\n",
      "----------\n",
      "STEP: 2\n",
      "training loss: 1.6925499864940252\n",
      "test loss: 1.77991321700028\n",
      "----------\n",
      "STEP: 3\n",
      "training loss: 1.6269341758288614\n",
      "test loss: 1.7162818108534752\n",
      "----------\n",
      "STEP: 4\n",
      "training loss: 1.5643604963061055\n",
      "test loss: 1.6557467834136312\n",
      "----------\n",
      "STEP: 5\n",
      "training loss: 1.5046773101948088\n",
      "test loss: 1.5978907116204593\n",
      "----------\n",
      "STEP: 6\n",
      "training loss: 1.4477248797385507\n",
      "test loss: 1.5424103620787777\n",
      "----------\n",
      "STEP: 7\n",
      "training loss: 1.3933928309760386\n",
      "test loss: 1.4899135792486287\n",
      "----------\n",
      "STEP: 8\n",
      "training loss: 1.3415195179925146\n",
      "test loss: 1.4398597956765486\n",
      "----------\n",
      "STEP: 9\n",
      "training loss: 1.2919984315180826\n",
      "test loss: 1.392117537489453\n",
      "----------\n",
      "STEP: 10\n",
      "training loss: 1.2446850360432156\n",
      "test loss: 1.3465727752222836\n",
      "----------\n",
      "STEP: 11\n",
      "training loss: 1.1994796214689498\n",
      "test loss: 1.3027988995213067\n",
      "----------\n",
      "STEP: 12\n",
      "training loss: 1.156252724176136\n",
      "test loss: 1.2612719919347266\n",
      "----------\n",
      "STEP: 13\n",
      "training loss: 1.114912903263196\n",
      "test loss: 1.2215946493010346\n",
      "----------\n",
      "STEP: 14\n",
      "training loss: 1.0753574090744558\n",
      "test loss: 1.1836634950873965\n",
      "----------\n",
      "STEP: 15\n",
      "training loss: 1.0374768566549053\n",
      "test loss: 1.1473791306044483\n",
      "----------\n",
      "STEP: 16\n",
      "training loss: 1.0011935162909722\n",
      "test loss: 1.1126532761440147\n",
      "----------\n",
      "STEP: 17\n",
      "training loss: 0.9664095252417222\n",
      "test loss: 1.0793985580260697\n",
      "----------\n",
      "STEP: 18\n",
      "training loss: 0.9330559502021979\n",
      "test loss: 1.0475345938000729\n",
      "----------\n",
      "STEP: 19\n",
      "training loss: 0.9010561573909133\n",
      "test loss: 1.0169855733924187\n",
      "----------\n",
      "STEP: 20\n",
      "training loss: 0.8703276393322495\n",
      "test loss: 0.9876796940421267\n",
      "----------\n",
      "STEP: 21\n",
      "training loss: 0.8408137132315278\n",
      "test loss: 0.9595497862269918\n",
      "----------\n",
      "STEP: 22\n",
      "training loss: 0.8124405497160797\n",
      "test loss: 0.9325331659719441\n",
      "----------\n",
      "STEP: 23\n",
      "training loss: 0.7851587326229817\n",
      "test loss: 0.9065700378485789\n",
      "----------\n",
      "STEP: 24\n",
      "training loss: 0.7589070858541418\n",
      "test loss: 0.8813787456575974\n",
      "----------\n",
      "STEP: 25\n",
      "training loss: 0.7336328907041012\n",
      "test loss: 0.8573600690025575\n",
      "----------\n",
      "STEP: 26\n",
      "training loss: 0.7092866695639239\n",
      "test loss: 0.8342383127360893\n",
      "----------\n",
      "STEP: 27\n",
      "training loss: 0.6858217525385962\n",
      "test loss: 0.8119678015500521\n",
      "----------\n",
      "STEP: 28\n",
      "training loss: 0.6631944369987495\n",
      "test loss: 0.7905051166280188\n",
      "----------\n",
      "STEP: 29\n",
      "training loss: 0.6413679899980731\n",
      "test loss: 0.7698095630754261\n",
      "----------\n",
      "STEP: 30\n",
      "training loss: 0.6202945027854759\n",
      "test loss: 0.749843589166555\n",
      "----------\n",
      "STEP: 31\n",
      "training loss: 0.5999420158256975\n",
      "test loss: 0.73057081903669\n",
      "----------\n",
      "STEP: 32\n",
      "training loss: 0.5802806657187833\n",
      "test loss: 0.7119577659020299\n",
      "----------\n",
      "STEP: 33\n",
      "training loss: 0.5612690107572316\n",
      "test loss: 0.693973100118417\n",
      "----------\n",
      "STEP: 34\n",
      "training loss: 0.5428853992292193\n",
      "test loss: 0.6765863780212182\n",
      "----------\n",
      "STEP: 35\n",
      "training loss: 0.5250921424216365\n",
      "test loss: 0.6597697206360559\n",
      "----------\n",
      "STEP: 36\n",
      "training loss: 0.5078708170792863\n",
      "test loss: 0.6434969590304194\n",
      "----------\n",
      "STEP: 37\n",
      "training loss: 0.49118694245703887\n",
      "test loss: 0.6277428096847687\n",
      "----------\n",
      "STEP: 38\n",
      "training loss: 0.4750206624913649\n",
      "test loss: 0.6124839221703032\n",
      "----------\n",
      "STEP: 39\n",
      "training loss: 0.4593532574457228\n",
      "test loss: 0.5975130557588642\n",
      "----------\n",
      "STEP: 40\n",
      "training loss: 0.4441544858227491\n",
      "test loss: 0.5831787526973317\n",
      "----------\n",
      "STEP: 41\n",
      "training loss: 0.4294122960417926\n",
      "test loss: 0.5692768570654239\n",
      "----------\n",
      "STEP: 42\n",
      "training loss: 0.4150988722172166\n",
      "test loss: 0.5557884996497782\n",
      "----------\n",
      "STEP: 43\n",
      "training loss: 0.40120009887350444\n",
      "test loss: 0.5426957952717504\n",
      "----------\n",
      "STEP: 44\n",
      "training loss: 0.387702639045\n",
      "test loss: 0.5299826428904569\n",
      "----------\n",
      "STEP: 45\n",
      "training loss: 0.3745817789970872\n",
      "test loss: 0.5176319175167161\n",
      "----------\n",
      "STEP: 46\n",
      "training loss: 0.361826010378941\n",
      "test loss: 0.5054729279356376\n",
      "----------\n",
      "STEP: 47\n",
      "training loss: 0.3494205441398616\n",
      "test loss: 0.4938043515117738\n",
      "----------\n",
      "STEP: 48\n",
      "training loss: 0.3373512660269507\n",
      "test loss: 0.48245591878317406\n",
      "----------\n",
      "STEP: 49\n",
      "training loss: 0.32560482505751165\n",
      "test loss: 0.4714150936466405\n",
      "----------\n",
      "STEP: 50\n",
      "training loss: 0.31416855125577753\n",
      "test loss: 0.4606692833974744\n",
      "----------\n",
      "STEP: 51\n",
      "training loss: 0.30303031713931866\n",
      "test loss: 0.45007201066834646\n",
      "----------\n",
      "STEP: 52\n",
      "training loss: 0.2921786637757295\n",
      "test loss: 0.43988280013677405\n",
      "----------\n",
      "STEP: 53\n",
      "training loss: 0.28160265116257516\n",
      "test loss: 0.42995638655087604\n",
      "----------\n",
      "STEP: 54\n",
      "training loss: 0.27129191621185783\n",
      "test loss: 0.4202815987038367\n",
      "----------\n",
      "STEP: 55\n",
      "training loss: 0.2612329300616033\n",
      "test loss: 0.4107311926987562\n",
      "----------\n",
      "STEP: 56\n",
      "training loss: 0.2514234456468267\n",
      "test loss: 0.40153288032616274\n",
      "----------\n",
      "STEP: 57\n",
      "training loss: 0.24185078435466686\n",
      "test loss: 0.39256137816569303\n",
      "----------\n",
      "STEP: 58\n",
      "training loss: 0.23250298960421453\n",
      "test loss: 0.38369943140513474\n",
      "----------\n",
      "STEP: 59\n",
      "training loss: 0.22337875560803502\n",
      "test loss: 0.37515269481790325\n",
      "----------\n",
      "STEP: 60\n",
      "training loss: 0.21446336109531267\n",
      "test loss: 0.36680884507967176\n",
      "----------\n",
      "STEP: 61\n",
      "training loss: 0.20575283252604268\n",
      "test loss: 0.3585628600969228\n",
      "----------\n",
      "STEP: 62\n",
      "training loss: 0.19724320301492293\n",
      "test loss: 0.35060227228674873\n",
      "----------\n",
      "STEP: 63\n",
      "training loss: 0.1889210955802917\n",
      "test loss: 0.34273429306992664\n",
      "----------\n",
      "STEP: 64\n",
      "training loss: 0.18078332040875117\n",
      "test loss: 0.3351291088176238\n",
      "----------\n",
      "STEP: 65\n",
      "training loss: 0.1728235265883392\n",
      "test loss: 0.3276122604932829\n",
      "----------\n",
      "STEP: 66\n",
      "training loss: 0.16503571602879277\n",
      "test loss: 0.3203402817670411\n",
      "----------\n",
      "STEP: 67\n",
      "training loss: 0.15741128878046842\n",
      "test loss: 0.31315131490923476\n",
      "----------\n",
      "STEP: 68\n",
      "training loss: 0.14995057075707535\n",
      "test loss: 0.30618892155050575\n",
      "----------\n",
      "STEP: 69\n",
      "training loss: 0.14264250937648482\n",
      "test loss: 0.2993040981760843\n",
      "----------\n",
      "STEP: 70\n",
      "training loss: 0.13548772245356838\n",
      "test loss: 0.29256760487196964\n",
      "----------\n",
      "STEP: 71\n",
      "training loss: 0.12847580186415525\n",
      "test loss: 0.28603301585190094\n",
      "----------\n",
      "STEP: 72\n",
      "training loss: 0.12160487240030689\n",
      "test loss: 0.2795700975805941\n",
      "----------\n",
      "STEP: 73\n",
      "training loss: 0.11487302958308003\n",
      "test loss: 0.2732407625048869\n",
      "----------\n",
      "STEP: 74\n",
      "training loss: 0.10826830003886315\n",
      "test loss: 0.2670376935536036\n",
      "----------\n",
      "STEP: 75\n",
      "training loss: 0.10179422670825321\n",
      "test loss: 0.26095919616827346\n",
      "----------\n",
      "STEP: 76\n",
      "training loss: 0.09544423139724025\n",
      "test loss: 0.2550491285905365\n",
      "----------\n",
      "STEP: 77\n",
      "training loss: 0.08921227884794503\n",
      "test loss: 0.2492023253433966\n",
      "----------\n",
      "STEP: 78\n",
      "training loss: 0.08309930449586732\n",
      "test loss: 0.24346814833301528\n",
      "----------\n",
      "STEP: 79\n",
      "training loss: 0.07709723008963176\n",
      "test loss: 0.2377971530720324\n",
      "----------\n",
      "STEP: 80\n",
      "training loss: 0.0712049619160266\n",
      "test loss: 0.23227657300184879\n",
      "----------\n",
      "STEP: 81\n",
      "training loss: 0.06541926812513932\n",
      "test loss: 0.2268566036771531\n",
      "----------\n",
      "STEP: 82\n",
      "training loss: 0.05973697054229603\n",
      "test loss: 0.2215353883503331\n",
      "----------\n",
      "STEP: 83\n",
      "training loss: 0.0541530308863673\n",
      "test loss: 0.21630710889146507\n",
      "----------\n",
      "STEP: 84\n",
      "training loss: 0.04866665164254738\n",
      "test loss: 0.21113849570609788\n",
      "----------\n",
      "STEP: 85\n",
      "training loss: 0.043275011933711874\n",
      "test loss: 0.20609256212610783\n",
      "----------\n",
      "STEP: 86\n",
      "training loss: 0.03797538485384991\n",
      "test loss: 0.20110246347507757\n",
      "----------\n",
      "STEP: 87\n",
      "training loss: 0.03276514764305595\n",
      "test loss: 0.1961981970961257\n",
      "----------\n",
      "STEP: 88\n",
      "training loss: 0.02764004928128419\n",
      "test loss: 0.19137697399228815\n",
      "----------\n",
      "STEP: 89\n",
      "training loss: 0.022601145261704144\n",
      "test loss: 0.18666234964989606\n",
      "----------\n",
      "STEP: 90\n",
      "training loss: 0.017641092911304643\n",
      "test loss: 0.18199911972465493\n",
      "----------\n",
      "STEP: 91\n",
      "training loss: 0.012762600248739816\n",
      "test loss: 0.1773887325332454\n",
      "----------\n",
      "STEP: 92\n",
      "training loss: 0.007960308991784204\n",
      "test loss: 0.1728750957971716\n",
      "----------\n",
      "STEP: 93\n",
      "training loss: 0.0032351687957627223\n",
      "test loss: 0.16843349548510553\n",
      "----------\n",
      "STEP: 94\n",
      "training loss: -0.0014192798697959005\n",
      "test loss: 0.16404004977302522\n",
      "----------\n",
      "STEP: 95\n",
      "training loss: -0.006000601988087776\n",
      "test loss: 0.15973455317505594\n",
      "----------\n",
      "STEP: 96\n",
      "training loss: -0.01051352286337814\n",
      "test loss: 0.15547513380939784\n",
      "----------\n",
      "STEP: 97\n",
      "training loss: -0.01495974847431328\n",
      "test loss: 0.1512813187315707\n",
      "----------\n",
      "STEP: 98\n",
      "training loss: -0.019338436850572356\n",
      "test loss: 0.1471334777066501\n",
      "----------\n",
      "STEP: 99\n",
      "training loss: -0.023653861131141967\n",
      "test loss: 0.14306346588513552\n",
      "----------\n",
      "STEP: 100\n",
      "training loss: -0.027907588099394576\n",
      "test loss: 0.13903741473149556\n",
      "\n",
      "... trained 100 iterations in 89.27388191223145 seconds\n",
      "[[ 0.08464565  0.1808374 ]\n",
      " [ 0.15520454  0.06017157]\n",
      " [ 0.1808739   0.10894884]\n",
      " [ 0.05662551  0.1027227 ]\n",
      " [ 0.4185091   0.41209689]\n",
      " [ 0.24415324  0.31864337]\n",
      " [-0.05632459 -0.03349816]\n",
      " [ 0.14687468  0.15063156]\n",
      " [ 0.21471271  0.06264041]\n",
      " [ 0.3418956   0.37199985]\n",
      " [ 0.20063693  0.21090103]\n",
      " [ 0.18942591  0.26770573]\n",
      " [-0.04896147  0.12433106]]\n"
     ]
    }
   ],
   "source": [
    "start = time.time()\n",
    "wInit, wInit1, wInit0 = wInitialization(train, 2)\n",
    "logerr_train, logerr_test, models, model1s, model0s = GradientDescent(train, test, wInit, wInit1, wInit0, nSteps = 100,\n",
    "                                                    learningRate = 0.002, regParam = 0.01, regParam1 = 0.01, regParam0 = 0.01, verbose = True)\n",
    "print(f\"\\n... trained {len(models)} iterations in {time.time() - start} seconds\")\n",
    "print(models[-1])"
   ]
  },
  {
   "cell_type": "code",
   "execution_count": 27,
   "metadata": {},
   "outputs": [
    {
     "name": "stdout",
     "output_type": "stream",
     "text": [
      "The estimated model is: [[ 0.08464565  0.1808374 ]\n",
      " [ 0.15520454  0.06017157]\n",
      " [ 0.1808739   0.10894884]\n",
      " [ 0.05662551  0.1027227 ]\n",
      " [ 0.4185091   0.41209689]\n",
      " [ 0.24415324  0.31864337]\n",
      " [-0.05632459 -0.03349816]\n",
      " [ 0.14687468  0.15063156]\n",
      " [ 0.21471271  0.06264041]\n",
      " [ 0.3418956   0.37199985]\n",
      " [ 0.20063693  0.21090103]\n",
      " [ 0.18942591  0.26770573]\n",
      " [-0.04896147  0.12433106]]\n",
      "The loss of the estimated model is: -0.027907588099394576\n",
      "\n",
      "\n"
     ]
    },
    {
     "data": {
      "image/png": "[encoded data removed]",
      "text/plain": [
       "<Figure size 432x288 with 1 Axes>"
      ]
     },
     "metadata": {},
     "output_type": "display_data"
    }
   ],
   "source": [
    "print(f\"The estimated model is: {models[-1]}\")\n",
    "print(f\"The loss of the estimated model is: {logerr_train[-1]}\")\n",
    "print()\n",
    "print()\n",
    "plt.plot(logerr_train)\n",
    "plt.title('Loss')\n",
    "plt.show()"
   ]
  },
  {
   "cell_type": "code",
   "execution_count": 28,
   "metadata": {},
   "outputs": [],
   "source": [
    "def fmMakePrediction(dataRDD, w, w1, w0):\n",
    "    \"\"\"\n",
    "    Perform one regularized gradient descent step/update.\n",
    "    Args:\n",
    "        dataRDD - records are tuples of (y, features_array)\n",
    "        W       - (array) model coefficients with bias at index 0\n",
    "    Returns:\n",
    "        pred - (rdd) predicted targets\n",
    "    \"\"\"\n",
    "    w_bc = sc.broadcast(w)\n",
    "    w1_bc = sc.broadcast(w1)\n",
    "    w0_bc = sc.broadcast(w0)\n",
    "    def predict_fm(x, W, W1, W0):\n",
    "        xa = np.array([x])\n",
    "        VX =  xa.dot(W)\n",
    "        VX_square = (xa*xa).dot(W*W)\n",
    "        phi = 0.5*(VX*VX - VX_square).sum() + xa.dot(W1.T) + W0\n",
    "        return phi\n",
    "    \n",
    "    # compute prediction\n",
    "    pred = dataRDD.map(lambda x: int(predict_fm(x[1],w_bc.value, w1_bc.value, w0_bc.value)>0.5) )\n",
    "   \n",
    "    return pred"
   ]
  },
  {
   "cell_type": "code",
   "execution_count": 29,
   "metadata": {},
   "outputs": [
    {
     "name": "stdout",
     "output_type": "stream",
     "text": [
      "number of true positives is 2182.0\n",
      "number of predicted positives is 840\n"
     ]
    }
   ],
   "source": [
    "print(f'number of true positives is {normedRDD.map(lambda x: x[0]).sum()}')\n",
    "res = fmMakePrediction(normedRDD, models[-1], model1s[-1], model0s[-1]).cache()\n",
    "print(f'number of predicted positives is {res.sum()}')"
   ]
  },
  {
   "cell_type": "markdown",
   "metadata": {},
   "source": [
    "## 4.1 Adding Categorical Variables"
   ]
  },
  {
   "cell_type": "markdown",
   "metadata": {},
   "source": [
    "### Summary\n",
    "The earlier section showed a logistic regression model with numerical variables only. In this section, we incrementally add categorical variables and redo the logistic regression model on a small data set. Categorical variables present a challenge because each of them can have a million different values thereby creating millions of dimensions. To get around \"the curse of dimensionality\", we looked at quite a few methods to reduce the dimensions to a manageable level. This includes frequency based dimensionality reduction and hashing techniques at a feature level and at a collection of features. "
   ]
  },
  {
   "cell_type": "markdown",
   "metadata": {},
   "source": [
    "### \"The curse of dimensionality\" with categorical variables\n",
    "Below, we take a look at the number of dimensions in the train_sample dataset for each categorical variable"
   ]
  },
  {
   "cell_type": "code",
   "execution_count": 24,
   "metadata": {},
   "outputs": [
    {
     "name": "stdout",
     "output_type": "stream",
     "text": [
      "Column _15 has 541 unique categorical values\n",
      "Column _16 has 497 unique categorical values\n",
      "Column _17 has 43870 unique categorical values\n",
      "Column _18 has 25184 unique categorical values\n",
      "Column _19 has 145 unique categorical values\n",
      "Column _20 has 12 unique categorical values\n",
      "Column _21 has 7623 unique categorical values\n",
      "Column _22 has 257 unique categorical values\n",
      "Column _23 has 3 unique categorical values\n",
      "Column _24 has 10997 unique categorical values\n",
      "Column _25 has 3799 unique categorical values\n",
      "Column _26 has 41312 unique categorical values\n",
      "Column _27 has 2796 unique categorical values\n",
      "Column _28 has 26 unique categorical values\n",
      "Column _29 has 5238 unique categorical values\n",
      "Column _30 has 34617 unique categorical values\n",
      "Column _31 has 10 unique categorical values\n",
      "Column _32 has 2548 unique categorical values\n",
      "Column _33 has 1303 unique categorical values\n",
      "Column _34 has 4 unique categorical values\n",
      "Column _35 has 38618 unique categorical values\n",
      "Column _36 has 11 unique categorical values\n",
      "Column _37 has 14 unique categorical values\n",
      "Column _38 has 12335 unique categorical values\n",
      "Column _39 has 51 unique categorical values\n",
      "Column _40 has 9527 unique categorical values\n",
      "Total number of distinct categorical variables in train_sample is: 241338\n"
     ]
    }
   ],
   "source": [
    "# number of unique categorical values\n",
    "from pyspark.sql.functions import col\n",
    "distCatVarCnt = 0\n",
    "for col in train_sample.columns[14:]:\n",
    "    cnt = train_sample.select(col).distinct().count()\n",
    "    print('Column ' + col + ' has ' + str(cnt) \\\n",
    "          + ' unique categorical values')\n",
    "    distCatVarCnt += cnt\n",
    "print(\"Total number of distinct categorical variables in train_sample is:\", distCatVarCnt)"
   ]
  },
  {
   "cell_type": "markdown",
   "metadata": {},
   "source": [
    "As we can see above, the number of unique categorical variables is close to 3 million just for the train_sample dataset. We need to look into reducing the dimensionality without losing too much of information."
   ]
  },
  {
   "cell_type": "markdown",
   "metadata": {},
   "source": [
    "### 4.1.1 Per column frequency based dimensionality reduction\n",
    "\n",
    "One possible methold is to figure out if there are any frequent values in these categorical variables and choose the top 15 of them. If they make up nearly 100% of the values, then we can lump the rest under \"Other\" and come up with 16 column bins. This is a compute intensive operation as we try to figure out the top 15 values for each column and their contribution to the total count"
   ]
  },
  {
   "cell_type": "code",
   "execution_count": 30,
   "metadata": {},
   "outputs": [
    {
     "name": "stdout",
     "output_type": "stream",
     "text": [
      "   col                                       top15_values  top15_pct_contribution\n",
      "0   14  [05db9164, 68fd1e64, 5a9ed9b0, 8cf07265, be589...                  93.788\n",
      "1   15  [38a947a1, 09e68b86, 80e26c9b, 38d50e09, 28713...                  51.167\n",
      "2   16  [, d032c263, b00d1501, 02cf9876, aa8c1539, 77f...                  20.675\n",
      "3   17  [c18be181, d16679b9, , 85dd697c, 13508380, f92...                  27.756\n",
      "4   18  [25c83c98, 4cf72387, 43b19349, 384874ce, 30903...                  98.839\n",
      "5   19  [7e0ccccf, fbad5c96, , fe6b92e5, 13718bbd, 6f6...                 100.000\n",
      "6   20  [3f4ec687, 49b74ebc, 7195046d, 970f01b2, 88002...                   9.373\n",
      "7   21  [0b153874, 5b392875, 1f89b562, 37e4aa92, 062b5...                  97.351\n",
      "8   22                     [a73ee510, 7cc72ec2, a18233ea]                 100.000\n",
      "9   23  [3b08e48b, fbbf2c95, efea433b, 6c47047a, 0e9ea...                  34.346\n",
      "10  24  [c4adf918, 7f8ffe57, e51ddf94, 4d8549da, f25fe...                  13.919\n",
      "11  25  [, dfbb09fb, e0d76380, 8fe001f4, d8c29807, 9f3...                  21.235\n",
      "12  26  [85dbe138, 46f42a63, 3516f6e6, 51b97b8f, 80467...                  16.194\n",
      "13  27  [07d13a8f, b28479f6, 1adce6ef, 64c94865, cfef1...                  99.644\n",
      "14  28  [36721ddc, 52baadf5, 42b3012c, 10040656, dbc5e...                  13.778\n",
      "15  29  [, 84898b2a, 1203a270, 36103458, 31ca40b6, c64...                  21.940\n",
      "16  30  [e5ba7672, 07c540c4, d4bb7bd8, 3486227d, 776ce...                 100.000\n",
      "17  31  [5aed7436, 891589e7, e88ffc9d, 582152eb, 7ef5a...                  29.133\n",
      "18  32  [, 21ddcdc9, 55dd3565, cf99e5de, 9437f62f, 1d1...                  84.109\n",
      "19  33                   [, 5840adea, a458ea53, b1252a9d]                 100.000\n",
      "20  34  [, 0014c32a, 73d06dde, e587c466, 5f957280, dfc...                  21.631\n",
      "21  35  [, ad3062eb, c9d4222a, 8ec974f4, 78e2e389, c00...                 100.000\n",
      "22  36  [32c7478e, 3a171ecb, 423fab69, be7c41b4, bcdee...                 100.000\n",
      "23  37  [1793a828, 3fdb382b, 3b183c5c, aee52b6f, , b34...                  41.412\n",
      "24  38  [, e8b83407, 001f3601, ea9a246c, 010f6491, cb0...                  97.321\n",
      "25  39  [, 49d68486, c84c4aec, 2fede552, 984e0db0, b7d...                  59.652\n"
     ]
    }
   ],
   "source": [
    "train_sample_rdd = sc.textFile('data/sample_training.txt')\n",
    "testRdd = sc.parallelize(train_sample_rdd.take(100000))\n",
    "\n",
    "def getTop15FreqCols (rdd):\n",
    "    \n",
    "    #First get a count of rdd length\n",
    "    rddLen = rdd.count()\n",
    "\n",
    "    #Create pandas dataframe to store the top 15 values\n",
    "    top15df = pd.DataFrame(columns=['col', 'top15_values', 'top15_pct_contribution'])\n",
    "\n",
    "    for col in range(14,40):\n",
    "        catRdd = rdd.map(lambda x: x.split('\\t')[col]) \\\n",
    "                    .map(lambda x: (x,1)) \\\n",
    "                    .reduceByKey(lambda x,y: x + y)\n",
    "    \n",
    "        freqRecord = catRdd.takeOrdered(15, key=lambda x: -x[1])\n",
    "        freqList = []\n",
    "        freqCnt = 0\n",
    "        for (k,v) in freqRecord:\n",
    "            freqCnt += v\n",
    "            freqList.append(str(k))\n",
    "        top15df = top15df.append({'col': col, 'top15_values': freqList, 'top15_pct_contribution': 100*freqCnt/rddLen}, ignore_index=True)\n",
    "    \n",
    "    return(top15df)\n",
    "\n",
    "top15df = getTop15FreqCols(train_sample_rdd)\n",
    "\n",
    "#top15df = top15df.set_index('col')\n",
    "    \n",
    "print(top15df.to_string())"
   ]
  },
  {
   "cell_type": "markdown",
   "metadata": {},
   "source": [
    "From the above analysis, we can see that the categorical variables in some of the columns account for almost 100% of all values. These include columns 14, 18, 19, 21, 22, 27, 30, 32, 33, 35, 36 and 38. For these 11 columns, it would make sense to keep the top 15 values and lump everything else under an \"Other\" column.\n",
    "\n",
    "For the rest of the columns that don't exhibit this behavior, it might make sense to look at other strategies such as hashing to reduce dimensionality. Before we take this approach of using both the frequency related information and hashing, let's first take a look at hashing all columns next."
   ]
  },
  {
   "cell_type": "markdown",
   "metadata": {},
   "source": [
    "### 4.1.2 Per column Feature Hashing\n",
    "There are 26 categorical features in this model represented by strings that are 8 bytes long. So, theoretically, each string can take $2^{64} -1$ different values and lead to that many dimensions. We need to have far fewer dimensions so that we can make the problem computationally achievable and as well lead to a generalized algorithm as well. One way of achieving this is through what is popularly called the \"hashing trick\" (provide references). \n",
    "\n",
    "A simple way to reduce dimensionality is to hash the 8 byte long strings into, say 16 or 32 groups. We used the murmurHash3 hashing which is generally the preferred way of hashing strings (provide references and more details). Hashing leads to collisions as many strings could end up hashing to the same hash value. However, it has been proven (references) that even with collisions, hashing leads to very generalized models.\n",
    "\n",
    "One the categorical variables are hashed down to, say 16 values, they are then 1-hot encoded and fed into the logistic regression model. This section presents the results with the inclusion of 27 categorical variables, each individually hashed to 16 values, in addition to the numerical variables in the earlier section. "
   ]
  },
  {
   "cell_type": "code",
   "execution_count": 31,
   "metadata": {},
   "outputs": [
    {
     "name": "stdout",
     "output_type": "stream",
     "text": [
      "Requirement already satisfied: murmurhash3 in /opt/anaconda/lib/python3.6/site-packages (2.3.5)\n",
      "\u001b[31mtwisted 18.7.0 requires PyHamcrest>=1.9.0, which is not installed.\u001b[0m\n",
      "\u001b[33mYou are using pip version 10.0.1, however version 19.2.1 is available.\n",
      "You should consider upgrading via the 'pip install --upgrade pip' command.\u001b[0m\n"
     ]
    }
   ],
   "source": [
    "#Install murmurhash3 if needed\n",
    "!pip install murmurhash3\n",
    "import mmh3"
   ]
  },
  {
   "cell_type": "code",
   "execution_count": 32,
   "metadata": {},
   "outputs": [],
   "source": [
    "#Read in the complete dataset\n",
    "train_sample_rdd = sc.textFile('data/sample_training.txt')\n",
    "\n",
    "#Get the top 1000 rows only (as before for numerical variables)\n",
    "testRdd = sc.parallelize(train_sample_rdd.take(10000),1)"
   ]
  },
  {
   "cell_type": "code",
   "execution_count": 33,
   "metadata": {},
   "outputs": [],
   "source": [
    "def hashTrans (rdd):\n",
    "    \n",
    "\n",
    "    def createHash (elem,hlen):\n",
    "        import mmh3\n",
    "        hashStr = []\n",
    "        for str in elem:\n",
    "            hashStr.append(mmh3.hash(str) % int(hlen))\n",
    "        return(hashStr)\n",
    "\n",
    "    def create1Hot(elem, hlen):\n",
    "        oneHotStr = []\n",
    "        #for hashStr in elem:\n",
    "        for i in range (hlen):\n",
    "            if (i == elem):\n",
    "                oneHotStr.append(1)\n",
    "            else:\n",
    "                oneHotStr.append(0)\n",
    "        return(oneHotStr)\n",
    "\n",
    "    def createCatArray(elem):\n",
    "        catArray = []\n",
    "        for array in elem:\n",
    "            for x in array:\n",
    "                catArray.append(x)\n",
    "        return(np.array(catArray))\n",
    "\n",
    "    #Define murmurHash level for 1-hot encoding\n",
    "    HASHLEN = 16\n",
    "\n",
    "    #testRdd.map(lambda x : x.split('\\t')[14:40]).map(lambda x: [mmh3.hash(xn)%16 for xn in x]).take(5)\n",
    "    categoricalRdd = rdd.map(lambda x : x.split('\\t')[14:40]) \\\n",
    "                        .map(lambda x: createHash(x,HASHLEN)) \\\n",
    "                        .map(lambda x: [create1Hot(xn, HASHLEN) for xn in x]) \\\n",
    "                        .map(createCatArray)\n",
    "    return(categoricalRdd)\n",
    "\n",
    "categoricalRdd = hashTrans(testRdd)"
   ]
  },
  {
   "cell_type": "code",
   "execution_count": 34,
   "metadata": {},
   "outputs": [
    {
     "data": {
      "text/plain": [
       "[(0.0, array([-0.45879823, -0.24774127, -0.04629014, -0.85019922, -0.24482546,\n",
       "         -0.40934022, -0.02096037, -0.63143545,  0.18286248,  0.7486028 ,\n",
       "         -0.10449796,  0.01324891, -0.49600354,  0.        ,  1.        ,\n",
       "          0.        ,  0.        ,  0.        ,  0.        ,  0.        ,\n",
       "          0.        ,  0.        ,  0.        ,  0.        ,  0.        ,\n",
       "          0.        ,  0.        ,  0.        ,  0.        ,  0.        ,\n",
       "          0.        ,  1.        ,  0.        ,  0.        ,  0.        ,\n",
       "          0.        ,  0.        ,  0.        ,  0.        ,  0.        ,\n",
       "          0.        ,  0.        ,  0.        ,  0.        ,  0.        ,\n",
       "          1.        ,  0.        ,  0.        ,  0.        ,  0.        ,\n",
       "          0.        ,  0.        ,  0.        ,  0.        ,  0.        ,\n",
       "          0.        ,  0.        ,  0.        ,  0.        ,  0.        ,\n",
       "          0.        ,  0.        ,  0.        ,  0.        ,  0.        ,\n",
       "          0.        ,  1.        ,  0.        ,  0.        ,  0.        ,\n",
       "          0.        ,  0.        ,  0.        ,  0.        ,  0.        ,\n",
       "          0.        ,  0.        ,  0.        ,  0.        ,  0.        ,\n",
       "          0.        ,  0.        ,  0.        ,  0.        ,  0.        ,\n",
       "          0.        ,  1.        ,  0.        ,  0.        ,  0.        ,\n",
       "          0.        ,  0.        ,  0.        ,  0.        ,  0.        ,\n",
       "          0.        ,  0.        ,  0.        ,  0.        ,  0.        ,\n",
       "          0.        ,  0.        ,  0.        ,  1.        ,  0.        ,\n",
       "          0.        ,  0.        ,  0.        ,  0.        ,  0.        ,\n",
       "          0.        ,  0.        ,  0.        ,  0.        ,  0.        ,\n",
       "          0.        ,  0.        ,  1.        ,  0.        ,  0.        ,\n",
       "          0.        ,  0.        ,  0.        ,  0.        ,  0.        ,\n",
       "          0.        ,  0.        ,  0.        ,  0.        ,  0.        ,\n",
       "          0.        ,  0.        ,  1.        ,  0.        ,  0.        ,\n",
       "          0.        ,  0.        ,  0.        ,  0.        ,  0.        ,\n",
       "          0.        ,  0.        ,  0.        ,  0.        ,  0.        ,\n",
       "          0.        ,  0.        ,  0.        ,  0.        ,  0.        ,\n",
       "          0.        ,  0.        ,  0.        ,  1.        ,  0.        ,\n",
       "          0.        ,  0.        ,  0.        ,  0.        ,  0.        ,\n",
       "          0.        ,  0.        ,  0.        ,  0.        ,  0.        ,\n",
       "          0.        ,  0.        ,  0.        ,  0.        ,  0.        ,\n",
       "          0.        ,  1.        ,  0.        ,  0.        ,  0.        ,\n",
       "          0.        ,  0.        ,  0.        ,  0.        ,  0.        ,\n",
       "          0.        ,  0.        ,  0.        ,  0.        ,  0.        ,\n",
       "          0.        ,  0.        ,  1.        ,  0.        ,  0.        ,\n",
       "          0.        ,  0.        ,  0.        ,  0.        ,  0.        ,\n",
       "          0.        ,  0.        ,  0.        ,  0.        ,  0.        ,\n",
       "          0.        ,  0.        ,  0.        ,  1.        ,  0.        ,\n",
       "          0.        ,  0.        ,  0.        ,  0.        ,  0.        ,\n",
       "          0.        ,  1.        ,  0.        ,  0.        ,  0.        ,\n",
       "          0.        ,  0.        ,  0.        ,  0.        ,  0.        ,\n",
       "          0.        ,  1.        ,  0.        ,  0.        ,  0.        ,\n",
       "          0.        ,  0.        ,  0.        ,  0.        ,  0.        ,\n",
       "          0.        ,  0.        ,  0.        ,  0.        ,  0.        ,\n",
       "          0.        ,  0.        ,  0.        ,  0.        ,  0.        ,\n",
       "          0.        ,  0.        ,  0.        ,  0.        ,  0.        ,\n",
       "          0.        ,  0.        ,  0.        ,  0.        ,  1.        ,\n",
       "          0.        ,  0.        ,  0.        ,  1.        ,  0.        ,\n",
       "          0.        ,  0.        ,  0.        ,  0.        ,  0.        ,\n",
       "          0.        ,  0.        ,  0.        ,  0.        ,  0.        ,\n",
       "          0.        ,  0.        ,  0.        ,  0.        ,  0.        ,\n",
       "          0.        ,  0.        ,  0.        ,  0.        ,  0.        ,\n",
       "          0.        ,  0.        ,  0.        ,  0.        ,  0.        ,\n",
       "          0.        ,  0.        ,  0.        ,  0.        ,  1.        ,\n",
       "          0.        ,  0.        ,  0.        ,  0.        ,  0.        ,\n",
       "          0.        ,  0.        ,  0.        ,  0.        ,  1.        ,\n",
       "          0.        ,  0.        ,  0.        ,  0.        ,  0.        ,\n",
       "          0.        ,  0.        ,  0.        ,  0.        ,  0.        ,\n",
       "          0.        ,  0.        ,  1.        ,  0.        ,  0.        ,\n",
       "          0.        ,  0.        ,  0.        ,  0.        ,  0.        ,\n",
       "          0.        ,  0.        ,  0.        ,  0.        ,  0.        ,\n",
       "          0.        ,  0.        ,  0.        ,  0.        ,  0.        ,\n",
       "          0.        ,  0.        ,  0.        ,  0.        ,  0.        ,\n",
       "          0.        ,  0.        ,  1.        ,  0.        ,  0.        ,\n",
       "          0.        ,  0.        ,  0.        ,  0.        ,  1.        ,\n",
       "          0.        ,  0.        ,  0.        ,  0.        ,  0.        ,\n",
       "          0.        ,  0.        ,  0.        ,  0.        ,  1.        ,\n",
       "          0.        ,  0.        ,  0.        ,  0.        ,  0.        ,\n",
       "          0.        ,  0.        ,  0.        ,  0.        ,  0.        ,\n",
       "          0.        ,  0.        ,  0.        ,  0.        ,  0.        ,\n",
       "          0.        ,  0.        ,  0.        ,  0.        ,  1.        ,\n",
       "          0.        ,  0.        ,  0.        ,  0.        ,  0.        ,\n",
       "          0.        ,  0.        ,  0.        ,  0.        ,  0.        ,\n",
       "          0.        ,  0.        ,  0.        ,  0.        ,  0.        ,\n",
       "          0.        ,  0.        ,  1.        ,  0.        ,  0.        ,\n",
       "          0.        ,  0.        ,  0.        ,  0.        ,  0.        ,\n",
       "          0.        ,  0.        ,  0.        ,  0.        ,  0.        ,\n",
       "          0.        ,  0.        ,  0.        ,  0.        ,  0.        ,\n",
       "          0.        ,  0.        ,  0.        ,  0.        ,  0.        ,\n",
       "          1.        ,  0.        ,  0.        ,  0.        ,  0.        ,\n",
       "          0.        ,  0.        ,  0.        ,  0.        ,  0.        ,\n",
       "          0.        ,  0.        ,  0.        ,  0.        ,  0.        ,\n",
       "          0.        ,  1.        ,  0.        ,  0.        ]))]"
      ]
     },
     "execution_count": 34,
     "metadata": {},
     "output_type": "execute_result"
    }
   ],
   "source": [
    "#Now include this into the logistic regression model\n",
    "#Zip numerical and categorical variables\n",
    "\n",
    "def mergeNumPlusCatRdds(elem):\n",
    "    x, y = elem\n",
    "    xkey , xval = x\n",
    "    merge =  (xkey, np.hstack((xval,y)))\n",
    "    return(merge)\n",
    "\n",
    "numPlusCatRdd = normedRDD.zip(categoricalRdd) \\\n",
    "                         .map(mergeNumPlusCatRdds)\n",
    "numPlusCatRdd.take(1)"
   ]
  },
  {
   "cell_type": "code",
   "execution_count": 35,
   "metadata": {},
   "outputs": [
    {
     "name": "stdout",
     "output_type": "stream",
     "text": [
      "429\n"
     ]
    }
   ],
   "source": [
    "#compute the number of features\n",
    "numb_features = np.size(numPlusCatRdd.first()[1])\n",
    "print(numb_features)\n",
    "#define baseline model, add one parameter representing the intercept\n",
    "BASELINE = np.random.randn(numb_features + 1)"
   ]
  },
  {
   "cell_type": "code",
   "execution_count": 36,
   "metadata": {},
   "outputs": [],
   "source": [
    "#split into train, validation and test sets\n",
    "train, validation, test = numPlusCatRdd.randomSplit([0.6, 0.2, 0.2])"
   ]
  },
  {
   "cell_type": "code",
   "execution_count": 110,
   "metadata": {},
   "outputs": [
    {
     "data": {
      "image/png": "[encoded data removed]",
      "text/plain": [
       "<Figure size 432x288 with 1 Axes>"
      ]
     },
     "metadata": {},
     "output_type": "display_data"
    }
   ],
   "source": [
    "nSteps = 150\n",
    "regType = 'ridge'\n",
    "regParam = 0.1\n",
    "learningRate = 0.1\n",
    "\n",
    "# run gradient descent\n",
    "train_loss, test_loss, model = GDUpdate(train, validation, BASELINE, nSteps, regType=regType, \n",
    "                                        regParam=regParam, learningRate=learningRate, verbose = False)\n",
    "\n",
    "plt.plot(train_loss)\n",
    "plt.plot(test_loss)\n",
    "plt.title('Loss')\n",
    "plt.show()"
   ]
  },
  {
   "cell_type": "code",
   "execution_count": 37,
   "metadata": {},
   "outputs": [
    {
     "ename": "NameError",
     "evalue": "name 'model' is not defined",
     "output_type": "error",
     "traceback": [
      "\u001b[0;31m\u001b[0m",
      "\u001b[0;31mNameError\u001b[0mTraceback (most recent call last)",
      "\u001b[0;32m<ipython-input-37-2fc28f4192e8>\u001b[0m in \u001b[0;36m<module>\u001b[0;34m()\u001b[0m\n\u001b[1;32m      1\u001b[0m \u001b[0;31m# make predictions and compute metrics for treshProb = 0.5\u001b[0m\u001b[0;34m\u001b[0m\u001b[0;34m\u001b[0m\u001b[0m\n\u001b[0;32m----> 2\u001b[0;31m \u001b[0mpred\u001b[0m\u001b[0;34m,\u001b[0m \u001b[0mntp\u001b[0m\u001b[0;34m,\u001b[0m \u001b[0mntn\u001b[0m\u001b[0;34m,\u001b[0m \u001b[0mnfp\u001b[0m\u001b[0;34m,\u001b[0m \u001b[0mnfn\u001b[0m \u001b[0;34m=\u001b[0m \u001b[0mmakePrediction\u001b[0m\u001b[0;34m(\u001b[0m\u001b[0mvalidation\u001b[0m\u001b[0;34m,\u001b[0m \u001b[0mmodel\u001b[0m\u001b[0;34m[\u001b[0m\u001b[0;34m-\u001b[0m\u001b[0;36m1\u001b[0m\u001b[0;34m]\u001b[0m\u001b[0;34m,\u001b[0m \u001b[0;36m0.5\u001b[0m\u001b[0;34m)\u001b[0m\u001b[0;34m\u001b[0m\u001b[0m\n\u001b[0m\u001b[1;32m      3\u001b[0m \u001b[0;34m\u001b[0m\u001b[0m\n\u001b[1;32m      4\u001b[0m \u001b[0macc\u001b[0m \u001b[0;34m=\u001b[0m \u001b[0;34m(\u001b[0m\u001b[0mntp\u001b[0m\u001b[0;34m+\u001b[0m\u001b[0mntn\u001b[0m\u001b[0;34m)\u001b[0m\u001b[0;34m/\u001b[0m\u001b[0;34m(\u001b[0m\u001b[0mntp\u001b[0m\u001b[0;34m+\u001b[0m\u001b[0mntn\u001b[0m\u001b[0;34m+\u001b[0m\u001b[0mnfp\u001b[0m\u001b[0;34m+\u001b[0m\u001b[0mnfn\u001b[0m\u001b[0;34m)\u001b[0m\u001b[0;34m\u001b[0m\u001b[0m\n\u001b[1;32m      5\u001b[0m \u001b[0mprec\u001b[0m \u001b[0;34m=\u001b[0m \u001b[0;34m(\u001b[0m\u001b[0mntp\u001b[0m\u001b[0;34m)\u001b[0m\u001b[0;34m/\u001b[0m\u001b[0;34m(\u001b[0m\u001b[0mntp\u001b[0m\u001b[0;34m+\u001b[0m\u001b[0mnfp\u001b[0m\u001b[0;34m)\u001b[0m\u001b[0;34m\u001b[0m\u001b[0m\n",
      "\u001b[0;31mNameError\u001b[0m: name 'model' is not defined"
     ]
    }
   ],
   "source": [
    "# make predictions and compute metrics for treshProb = 0.5\n",
    "pred, ntp, ntn, nfp, nfn = makePrediction(validation, model[-1], 0.5)\n",
    "\n",
    "acc = (ntp+ntn)/(ntp+ntn+nfp+nfn)\n",
    "prec = (ntp)/(ntp+nfp)\n",
    "rec = (ntp)/(ntp+nfn)\n",
    "f1 = 2*prec*rec/(prec+rec)\n",
    "fpr = nfp/(ntn+nfp)\n",
    "tpr = ntp/(ntp+nfn)\n",
    "print('Accuracy is: ', acc)\n",
    "print('Precision is: ', prec)\n",
    "print('Recall is: ', rec)\n",
    "print('F1 score is: ', f1)\n",
    "print('False positive rate is: ', fpr)\n",
    "print('True positive rate is: ', tpr)"
   ]
  },
  {
   "cell_type": "code",
   "execution_count": null,
   "metadata": {},
   "outputs": [
    {
     "name": "stdout",
     "output_type": "stream",
     "text": [
      "----------\n",
      "STEP: 1\n",
      "training loss: 2.321231475285203\n",
      "test loss: 2.389359169703438\n",
      "----------\n",
      "STEP: 2\n",
      "training loss: 1.8230748504689207\n",
      "test loss: 1.8742586446728218\n",
      "----------\n",
      "STEP: 3\n",
      "training loss: 1.4650617121411433\n",
      "test loss: 1.5039468464130261\n",
      "----------\n",
      "STEP: 4\n",
      "training loss: 1.1929069936879537\n",
      "test loss: 1.2223084946474805\n",
      "----------\n",
      "STEP: 5\n",
      "training loss: 0.9782992272573738\n",
      "test loss: 1.0000743202485511\n",
      "----------\n",
      "STEP: 6\n",
      "training loss: 0.804743779455009\n",
      "test loss: 0.8202008832485425\n",
      "----------\n",
      "STEP: 7\n",
      "training loss: 0.66174245110325\n",
      "test loss: 0.671849163628504\n",
      "----------\n",
      "STEP: 8\n",
      "training loss: 0.5421756056450527\n",
      "test loss: 0.5476738486068338\n",
      "----------\n",
      "STEP: 9\n",
      "training loss: 0.4409950870530131\n",
      "test loss: 0.442469774456338\n"
     ]
    }
   ],
   "source": [
    "start = time.time()\n",
    "wInit, wInit1, wInit0 = wInitialization(train, 2)\n",
    "#print(wInit)\n",
    "logerr_train, logerr_test, models_cat, model1s_cat, model0s_cat = GradientDescent(train, test, wInit,wInit1, wInit0, nSteps = 100,\n",
    "                                                    learningRate = 0.001, regParam = 0.01, regParam1 = 0.01, regParam0 = 0.01, verbose = True)\n",
    "print(f\"\\n... trained {len(models)} iterations in {time.time() - start} seconds\")\n"
   ]
  },
  {
   "cell_type": "code",
   "execution_count": null,
   "metadata": {},
   "outputs": [],
   "source": [
    "#print(f\"The estimated model is: {models[-1]}\")\n",
    "print(f\"The loss of the estimated model is: {logerr_train[-1]}\")\n",
    "print()\n",
    "print()\n",
    "plt.plot(logerr_train)\n",
    "plt.title('Loss')\n",
    "plt.show()"
   ]
  },
  {
   "cell_type": "code",
   "execution_count": null,
   "metadata": {},
   "outputs": [],
   "source": [
    "print(f'number of true positives is {numPlusCatRdd.map(lambda x: x[0]).sum()}')\n",
    "res = fmMakePrediction(numPlusCatRdd, models_cat[-1], model1s_cat[-1], model0s_cat[-1]).cache()\n",
    "print(f'number of predicted positives is {res.sum()}')"
   ]
  },
  {
   "cell_type": "markdown",
   "metadata": {},
   "source": [
    "### 4.1.3 Multi-column Feature Hashing\n",
    "Hashing each column independently resulted in a dimensionality reduction from several million vectors to 416 for the categorical variables. We could further reduce dimensionality through multi-column Feature Hashing with a likely tradeoff being the loss of accuracy (TBD). \n",
    "\n",
    "We used the multi-column FeatureHashing functionality in Apache Spark MLLib to look into how dimensionality reduction to fewer vectors for logistic regression. Multi-column FeatureHashing would be very handy when we start looking at adding in quadratic terms for logistic regression. Instead of a (416,416) quadratic feature matrix, we could deal with a smaller (32,32) or (64,64) features, leading to faster computation."
   ]
  },
  {
   "cell_type": "markdown",
   "metadata": {},
   "source": [
    "#### Spark MLLib FeatureHasher example\n",
    "The FeatureHasher in spark takes multiple columns of categorical (and numerical) variables and hashes them down to fewer features. It is possible to specify the number of output features so that we can restrict the dimensions to a more manageable number."
   ]
  },
  {
   "cell_type": "code",
   "execution_count": null,
   "metadata": {},
   "outputs": [],
   "source": [
    "#Feature hashing example\n",
    "from pyspark.ml.feature import FeatureHasher\n",
    "\n",
    "dataset = spark.createDataFrame([\n",
    "    (2.2, True, \"1\", \"foo\"),\n",
    "    (3.3, False, \"2\", \"bar\"),\n",
    "    (4.4, False, \"3\", \"baz\"),\n",
    "    (5.5, False, \"4\", \"foo\")\n",
    "], [\"real\", \"bool\", \"stringNum\", \"string\"])\n",
    "\n",
    "hasher = FeatureHasher(inputCols=[\"real\", \"bool\", \"stringNum\", \"string\"],\n",
    "                       outputCol=\"features\")\n",
    "\n",
    "featurized = hasher.transform(dataset)\n",
    "featurized.select(\"features\").show(truncate=False)"
   ]
  },
  {
   "cell_type": "markdown",
   "metadata": {},
   "source": [
    "#### Multi-column Feature Hashing with test set\n",
    "We applied Multi-column Feature Hashing to get to a dimensionality of 64 vectors using FeatureHasher. The results of the logistic regression following this hashing are given below (need to add time, accuracy etc...How do you compare otherwise?)"
   ]
  },
  {
   "cell_type": "code",
   "execution_count": null,
   "metadata": {},
   "outputs": [],
   "source": [
    "# read in sample training data and convert to dataframe\n",
    "train_sample1 = sc.textFile('data/sample_training.txt')\\\n",
    "                 .map(lambda x: x.split('\\t'))\\\n",
    "                 .toDF().limit(10000).cache()\n",
    "train_sample1.show(3)"
   ]
  },
  {
   "cell_type": "code",
   "execution_count": null,
   "metadata": {},
   "outputs": [],
   "source": [
    "#choose categorical columns to Hash\n",
    "hashInpList = []\n",
    "for c in range(14,41):\n",
    "    col = \"_\"+str(c)\n",
    "    hashInpList.append(col)\n",
    "print (hashInpList)"
   ]
  },
  {
   "cell_type": "code",
   "execution_count": null,
   "metadata": {},
   "outputs": [],
   "source": [
    "#Apply Multi-column hashing with 32 output features\n",
    "hasher = FeatureHasher(numFeatures=256, inputCols=hashInpList,outputCol=\"features\")\n",
    "\n",
    "featurized = hasher.transform(train_sample1)\n",
    "featurized.select(\"features\").show(3,truncate=False)"
   ]
  },
  {
   "cell_type": "code",
   "execution_count": null,
   "metadata": {},
   "outputs": [],
   "source": [
    "featurized.show(3)\n",
    "featurized.rdd.getNumPartitions()"
   ]
  },
  {
   "cell_type": "code",
   "execution_count": null,
   "metadata": {},
   "outputs": [],
   "source": [
    "#Convert into a dense vector format to feed logistic regression model\n",
    "def extractVec (elem):\n",
    "    return(np.array(tuple(elem.features.toArray().tolist())))\n",
    "    \n",
    "multiHashCatRdd = featurized.select(\"features\").rdd.map(extractVec)\n",
    "#map(extractVec)\n",
    "multiHashCatRdd.take(3)\n",
    "multiHashCatRdd.getNumPartitions()"
   ]
  },
  {
   "cell_type": "code",
   "execution_count": null,
   "metadata": {},
   "outputs": [],
   "source": [
    "featurized.show(3)"
   ]
  },
  {
   "cell_type": "code",
   "execution_count": null,
   "metadata": {},
   "outputs": [],
   "source": [
    "#Now include this into the logistic regression model\n",
    "#Zip numerical and categorical variables\n",
    "\n",
    "def mergeNumPlusCatRdds(elem):\n",
    "    x, y = elem\n",
    "    xkey , xval = x\n",
    "    merge =  (xkey, np.hstack((xval,y)))\n",
    "    return(merge)\n",
    "\n",
    "numPlusCatRdd2 = normedRDD.zip(multiHashCatRdd) \\\n",
    "                         .map(mergeNumPlusCatRdds)\n",
    "numPlusCatRdd2.take(1)\n",
    "numPlusCatRdd2.getNumPartitions()"
   ]
  },
  {
   "cell_type": "code",
   "execution_count": null,
   "metadata": {},
   "outputs": [],
   "source": [
    "#compute the number of features\n",
    "numb_features = np.size(numPlusCatRdd2.first()[1])\n",
    "print(numb_features)\n",
    "#define baseline model, add one parameter representing the intercept\n",
    "BASELINE = np.random.randn(numb_features + 1)\n"
   ]
  },
  {
   "cell_type": "code",
   "execution_count": null,
   "metadata": {},
   "outputs": [],
   "source": [
    "#split into train, validation and test sets\n",
    "train, validation, test = numPlusCatRdd2.randomSplit([0.6, 0.2, 0.2])"
   ]
  },
  {
   "cell_type": "code",
   "execution_count": 122,
   "metadata": {},
   "outputs": [
    {
     "data": {
      "image/png": "[encoded data removed]",
      "text/plain": [
       "<Figure size 432x288 with 1 Axes>"
      ]
     },
     "metadata": {},
     "output_type": "display_data"
    }
   ],
   "source": [
    "nSteps = 150\n",
    "regType = 'ridge'\n",
    "regParam = 0.1\n",
    "learningRate = 0.1\n",
    "\n",
    "# run gradient descent\n",
    "train_loss, test_loss, model = GDUpdate(train, validation, BASELINE, nSteps, regType=regType, \n",
    "                                        regParam=regParam, learningRate=learningRate, verbose = False)\n",
    "\n",
    "plt.plot(train_loss)\n",
    "plt.plot(test_loss)\n",
    "plt.title('Loss')\n",
    "plt.show()"
   ]
  },
  {
   "cell_type": "code",
   "execution_count": 123,
   "metadata": {},
   "outputs": [
    {
     "name": "stdout",
     "output_type": "stream",
     "text": [
      "Accuracy is:  0.8019559902200489\n",
      "Precision is:  0.5\n",
      "Recall is:  0.009876543209876543\n",
      "F1 score is:  0.01937046004842615\n",
      "False positive rate is:  0.0024390243902439024\n",
      "True positive rate is:  0.009876543209876543\n"
     ]
    }
   ],
   "source": [
    "# make predictions and compute metrics for treshProb = 0.5\n",
    "pred, ntp, ntn, nfp, nfn = makePrediction(validation, model[-1], 0.5)\n",
    "\n",
    "acc = (ntp+ntn)/(ntp+ntn+nfp+nfn)\n",
    "prec = (ntp)/(ntp+nfp)\n",
    "rec = (ntp)/(ntp+nfn)\n",
    "f1 = 2*prec*rec/(prec+rec)\n",
    "fpr = nfp/(ntn+nfp)\n",
    "tpr = ntp/(ntp+nfn)\n",
    "print('Accuracy is: ', acc)\n",
    "print('Precision is: ', prec)\n",
    "print('Recall is: ', rec)\n",
    "print('F1 score is: ', f1)\n",
    "print('False positive rate is: ', fpr)\n",
    "print('True positive rate is: ', tpr)"
   ]
  },
  {
   "cell_type": "code",
   "execution_count": null,
   "metadata": {},
   "outputs": [],
   "source": [
    "start = time.time()\n",
    "wInit, wInit1, wInit0 = wInitialization(train, 2)\n",
    "#print(wInit)\n",
    "logerr_train, logerr_test, models_cat2, model1s_cat2, model0s_cat2 = GradientDescent(train, validation, wInit,wInit1, wInit0, nSteps = 100,\n",
    "                                                    learningRate = 0.001, regParam = 0.01, regParam1 = 0.01, regParam0 = 0.01, verbose = True)\n",
    "print(f\"\\n... trained {len(models)} iterations in {time.time() - start} seconds\")"
   ]
  },
  {
   "cell_type": "code",
   "execution_count": null,
   "metadata": {},
   "outputs": [],
   "source": [
    "print(f\"The estimated model is: {models[-1]}\")\n",
    "print(f\"The loss of the estimated model is: {logerr_train[-1]}\")\n",
    "print()\n",
    "print()\n",
    "plt.plot(logerr_train)\n",
    "plt.title('Loss')\n",
    "plt.show()"
   ]
  },
  {
   "cell_type": "code",
   "execution_count": null,
   "metadata": {},
   "outputs": [],
   "source": [
    "print(f'number of true positives is {numPlusCatRdd2.map(lambda x: x[0]).sum()}')\n",
    "res = fmMakePrediction(numPlusCatRdd2, models_cat2[-1], model1s_cat2[-1], model0s_cat2[-1]).cache()\n",
    "print(f'number of predicted positives is {res.sum()}')"
   ]
  },
  {
   "cell_type": "markdown",
   "metadata": {},
   "source": [
    "### 4.1.4 Combining Frequency and Hash Based Dimensionality Reduction\n",
    "For some categorical features, it makes sense to use a frequency based approach, while hashing is useful in other cases. 12 of the columns were amenable to frequency based approaches since 90% or more of the values were accounted for by the top 15 frequent values. The hybrid approach uses frequencies to encode these columns, while using the hash only for the other 14 columns."
   ]
  },
  {
   "cell_type": "code",
   "execution_count": 103,
   "metadata": {},
   "outputs": [
    {
     "data": {
      "text/plain": [
       "[array([0, 1, 0, 0, 0, 0, 0, 0, 0, 0, 0, 0, 0, 0, 0, 0, 0, 0, 0, 0, 0, 0,\n",
       "        1, 0, 0, 0, 0, 0, 0, 0, 0, 0, 0, 0, 0, 0, 0, 0, 0, 0, 0, 0, 0, 0,\n",
       "        0, 1, 0, 0, 0, 0, 0, 0, 0, 0, 0, 1, 0, 0, 0, 0, 0, 0, 0, 0, 1, 0,\n",
       "        0, 0, 0, 0, 0, 0, 0, 0, 0, 0, 0, 0, 0, 0, 1, 0, 0, 0, 0, 0, 0, 0,\n",
       "        0, 0, 0, 0, 0, 0, 0, 0, 0, 0, 0, 0, 0, 0, 0, 0, 0, 0, 0, 1, 0, 0,\n",
       "        0, 0, 0, 0, 1, 0, 0, 0, 0, 0, 0, 0, 0, 0, 0, 0, 0, 0, 1, 0, 0, 0,\n",
       "        0, 0, 0, 0, 0, 0, 0, 0, 0, 0, 0, 0, 0, 0, 0, 0, 0, 0, 0, 0, 0, 0,\n",
       "        1, 0, 0, 0, 0, 0, 0, 0, 0, 0, 0, 0, 0, 0, 1, 0, 0, 0, 0, 0, 0, 0,\n",
       "        0, 1, 0, 0, 0, 0, 0, 0, 0, 0, 0, 0, 0, 0, 0, 0, 0, 0, 0, 0, 0, 0,\n",
       "        0, 0, 0, 0, 0, 0, 0, 0, 1, 0, 0, 0, 1, 0, 0, 0, 0, 0, 0, 0, 0, 0,\n",
       "        0, 0, 0, 0, 0, 0, 0, 0, 0, 0, 0, 0, 0, 0, 0, 0, 0, 0, 0, 1, 0, 0,\n",
       "        0, 0, 0, 0, 0, 0, 0, 0, 0, 0, 0, 1, 0, 0, 1, 0, 0, 0, 0, 0, 0, 0,\n",
       "        0, 0, 0, 0, 0, 0, 0, 0, 0, 0, 0, 1, 0, 0, 0, 0, 0, 0, 0, 0, 0, 0,\n",
       "        0, 0, 0, 0, 0, 0, 0, 0, 0, 1, 0, 0, 0, 0, 0, 0, 0, 0, 0, 0, 0, 1,\n",
       "        0, 0, 0, 0, 0, 0, 0, 0, 0, 0, 0, 0, 0, 0, 0, 0, 0, 0, 0, 0, 0, 0,\n",
       "        0, 0, 0, 0, 1, 0, 1, 0, 0, 0, 0, 0, 0, 0, 0, 0, 0, 0, 0, 0, 0, 0,\n",
       "        0, 1, 0, 0, 0, 0, 0, 0, 0, 0, 0, 0, 0, 0, 0, 0, 0, 0, 0, 0, 0, 0,\n",
       "        0, 0, 0, 1, 0, 0, 0, 0, 0, 0, 0, 1, 0, 0, 0, 0, 0, 0, 0, 0, 0, 0,\n",
       "        0, 0, 0, 0, 0, 0, 0, 0, 0, 0, 0, 0, 0, 1, 0, 0, 0, 0, 0, 0])]"
      ]
     },
     "execution_count": 103,
     "metadata": {},
     "output_type": "execute_result"
    }
   ],
   "source": [
    "def hybridFreqHashTrans (top15df, rdd):\n",
    "\n",
    "    #First create Broadcast variable\n",
    "    top15dfB = sc.broadcast(top15df)\n",
    "    \n",
    "    #set FreqThr at 90% for using frequency to bin the categories\n",
    "    TOP15_FREQ_THR = 90\n",
    "\n",
    "    #Define murmurHash level for 1-hot encoding\n",
    "    HASHLEN = 16\n",
    "    \n",
    "    #top15df = pd.DataFrame(columns=['col', 'top15_values', 'top15_pct_contribution'])\n",
    "    \n",
    "    def transformRow (row, top15df, hlen):\n",
    "        col = 0\n",
    "        transformedRow = []\n",
    "        \n",
    "        for x in row:\n",
    "            #Get frequency based map\n",
    "            if (top15df.loc[col]['top15_pct_contribution'] > 90):\n",
    "                xtrans = 15\n",
    "                for (ind,topElem) in enumerate(top15df.loc[col]['top15_values']):\n",
    "                    if (x == topElem):\n",
    "                        xtrans = ind\n",
    "            #else hash\n",
    "            else:\n",
    "                xtrans = mmh3.hash(x+str(col)) % int(hlen)\n",
    "        \n",
    "            transformedRow.append(xtrans)\n",
    "            \n",
    "            #Do this for all elements\n",
    "            col += 1\n",
    "        return (transformedRow)\n",
    "\n",
    "    def create1Hot(elem, hlen):\n",
    "        oneHotStr = []\n",
    "        #for hashStr in elem:\n",
    "        for i in range (hlen):\n",
    "            if (i == elem):\n",
    "                oneHotStr.append(1)\n",
    "            else:\n",
    "                oneHotStr.append(0)\n",
    "        return(oneHotStr)\n",
    "\n",
    "    def createCatArray(elem):\n",
    "        catArray = []\n",
    "        for array in elem:\n",
    "            for x in array:\n",
    "                catArray.append(x)\n",
    "        return(np.array(catArray))\n",
    "\n",
    "\n",
    "\n",
    "    categoricalRdd = rdd.map(lambda x : x.split('\\t')[14:40]) \\\n",
    "                        .map(lambda x: transformRow(x, top15dfB.value, HASHLEN)) \\\n",
    "                        .map(lambda x: [create1Hot(xn, HASHLEN) for xn in x]) \\\n",
    "                        .map(createCatArray)\n",
    "    return(categoricalRdd)\n",
    "\n",
    "#Read in the complete dataset\n",
    "train_sample_rdd = sc.textFile('data/sample_training.txt')\n",
    "\n",
    "#Get the top 1000 rows only (as before for numerical variables)\n",
    "testRdd = sc.parallelize(train_sample_rdd.take(10000),1)\n",
    "\n",
    "hybridCatRdd = hybridFreqHashTrans(top15df, testRdd)\n",
    "\n",
    "hybridCatRdd.take(1)"
   ]
  },
  {
   "cell_type": "code",
   "execution_count": 100,
   "metadata": {},
   "outputs": [
    {
     "data": {
      "text/plain": [
       "[(0.0, array([-0.45879823, -0.24774127, -0.04629014, -0.85019922, -0.24482546,\n",
       "         -0.40934022, -0.02096037, -0.63143545,  0.18286248,  0.7486028 ,\n",
       "         -0.10449796,  0.01324891, -0.49600354,  0.        ,  1.        ,\n",
       "          0.        ,  0.        ,  0.        ,  0.        ,  0.        ,\n",
       "          0.        ,  0.        ,  0.        ,  0.        ,  0.        ,\n",
       "          0.        ,  0.        ,  0.        ,  0.        ,  0.        ,\n",
       "          0.        ,  0.        ,  0.        ,  0.        ,  0.        ,\n",
       "          1.        ,  0.        ,  0.        ,  0.        ,  0.        ,\n",
       "          0.        ,  0.        ,  0.        ,  0.        ,  0.        ,\n",
       "          0.        ,  0.        ,  0.        ,  0.        ,  0.        ,\n",
       "          0.        ,  0.        ,  0.        ,  0.        ,  0.        ,\n",
       "          0.        ,  0.        ,  0.        ,  1.        ,  0.        ,\n",
       "          0.        ,  0.        ,  0.        ,  0.        ,  0.        ,\n",
       "          0.        ,  0.        ,  0.        ,  1.        ,  0.        ,\n",
       "          0.        ,  0.        ,  0.        ,  0.        ,  0.        ,\n",
       "          0.        ,  0.        ,  1.        ,  0.        ,  0.        ,\n",
       "          0.        ,  0.        ,  0.        ,  0.        ,  0.        ,\n",
       "          0.        ,  0.        ,  0.        ,  0.        ,  0.        ,\n",
       "          0.        ,  0.        ,  0.        ,  1.        ,  0.        ,\n",
       "          0.        ,  0.        ,  0.        ,  0.        ,  0.        ,\n",
       "          0.        ,  0.        ,  0.        ,  0.        ,  0.        ,\n",
       "          0.        ,  0.        ,  0.        ,  0.        ,  0.        ,\n",
       "          0.        ,  0.        ,  0.        ,  0.        ,  0.        ,\n",
       "          0.        ,  0.        ,  0.        ,  0.        ,  0.        ,\n",
       "          1.        ,  0.        ,  0.        ,  0.        ,  0.        ,\n",
       "          0.        ,  0.        ,  1.        ,  0.        ,  0.        ,\n",
       "          0.        ,  0.        ,  0.        ,  0.        ,  0.        ,\n",
       "          0.        ,  0.        ,  0.        ,  0.        ,  0.        ,\n",
       "          0.        ,  1.        ,  0.        ,  0.        ,  0.        ,\n",
       "          0.        ,  0.        ,  0.        ,  0.        ,  0.        ,\n",
       "          0.        ,  0.        ,  0.        ,  0.        ,  0.        ,\n",
       "          0.        ,  0.        ,  0.        ,  0.        ,  0.        ,\n",
       "          0.        ,  0.        ,  0.        ,  0.        ,  0.        ,\n",
       "          0.        ,  0.        ,  1.        ,  0.        ,  0.        ,\n",
       "          0.        ,  0.        ,  0.        ,  0.        ,  0.        ,\n",
       "          0.        ,  0.        ,  0.        ,  0.        ,  0.        ,\n",
       "          0.        ,  1.        ,  0.        ,  0.        ,  0.        ,\n",
       "          0.        ,  0.        ,  0.        ,  0.        ,  0.        ,\n",
       "          1.        ,  0.        ,  0.        ,  0.        ,  0.        ,\n",
       "          0.        ,  0.        ,  0.        ,  0.        ,  0.        ,\n",
       "          0.        ,  0.        ,  0.        ,  0.        ,  0.        ,\n",
       "          0.        ,  0.        ,  0.        ,  0.        ,  0.        ,\n",
       "          0.        ,  0.        ,  0.        ,  0.        ,  0.        ,\n",
       "          0.        ,  0.        ,  0.        ,  0.        ,  1.        ,\n",
       "          0.        ,  0.        ,  0.        ,  1.        ,  0.        ,\n",
       "          0.        ,  0.        ,  0.        ,  0.        ,  0.        ,\n",
       "          0.        ,  0.        ,  0.        ,  0.        ,  0.        ,\n",
       "          0.        ,  0.        ,  0.        ,  0.        ,  0.        ,\n",
       "          0.        ,  0.        ,  0.        ,  0.        ,  0.        ,\n",
       "          0.        ,  0.        ,  0.        ,  0.        ,  0.        ,\n",
       "          0.        ,  0.        ,  1.        ,  0.        ,  0.        ,\n",
       "          0.        ,  0.        ,  0.        ,  0.        ,  0.        ,\n",
       "          0.        ,  0.        ,  0.        ,  0.        ,  0.        ,\n",
       "          0.        ,  1.        ,  0.        ,  0.        ,  1.        ,\n",
       "          0.        ,  0.        ,  0.        ,  0.        ,  0.        ,\n",
       "          0.        ,  0.        ,  0.        ,  0.        ,  0.        ,\n",
       "          0.        ,  0.        ,  0.        ,  0.        ,  0.        ,\n",
       "          0.        ,  0.        ,  0.        ,  1.        ,  0.        ,\n",
       "          0.        ,  0.        ,  0.        ,  0.        ,  0.        ,\n",
       "          0.        ,  0.        ,  0.        ,  0.        ,  0.        ,\n",
       "          0.        ,  0.        ,  0.        ,  0.        ,  0.        ,\n",
       "          0.        ,  0.        ,  0.        ,  1.        ,  0.        ,\n",
       "          0.        ,  0.        ,  0.        ,  0.        ,  0.        ,\n",
       "          0.        ,  0.        ,  0.        ,  0.        ,  0.        ,\n",
       "          1.        ,  0.        ,  0.        ,  0.        ,  0.        ,\n",
       "          0.        ,  0.        ,  0.        ,  0.        ,  0.        ,\n",
       "          0.        ,  0.        ,  0.        ,  0.        ,  0.        ,\n",
       "          0.        ,  0.        ,  0.        ,  0.        ,  0.        ,\n",
       "          0.        ,  0.        ,  0.        ,  0.        ,  0.        ,\n",
       "          0.        ,  0.        ,  1.        ,  0.        ,  1.        ,\n",
       "          0.        ,  0.        ,  0.        ,  0.        ,  0.        ,\n",
       "          0.        ,  0.        ,  0.        ,  0.        ,  0.        ,\n",
       "          0.        ,  0.        ,  0.        ,  0.        ,  0.        ,\n",
       "          0.        ,  1.        ,  0.        ,  0.        ,  0.        ,\n",
       "          0.        ,  0.        ,  0.        ,  0.        ,  0.        ,\n",
       "          0.        ,  0.        ,  0.        ,  0.        ,  0.        ,\n",
       "          0.        ,  0.        ,  0.        ,  0.        ,  0.        ,\n",
       "          0.        ,  0.        ,  0.        ,  0.        ,  0.        ,\n",
       "          1.        ,  0.        ,  0.        ,  0.        ,  0.        ,\n",
       "          0.        ,  0.        ,  0.        ,  1.        ,  0.        ,\n",
       "          0.        ,  0.        ,  0.        ,  0.        ,  0.        ,\n",
       "          0.        ,  0.        ,  0.        ,  0.        ,  0.        ,\n",
       "          0.        ,  0.        ,  0.        ,  0.        ,  0.        ,\n",
       "          0.        ,  0.        ,  0.        ,  0.        ,  0.        ,\n",
       "          0.        ,  0.        ,  1.        ,  0.        ,  0.        ,\n",
       "          0.        ,  0.        ,  0.        ,  0.        ]))]"
      ]
     },
     "execution_count": 100,
     "metadata": {},
     "output_type": "execute_result"
    }
   ],
   "source": [
    "#Now include this into the logistic regression model\n",
    "#Zip numerical and categorical variables\n",
    "\n",
    "def mergeNumPlusCatRdds(elem):\n",
    "    x, y = elem\n",
    "    xkey , xval = x\n",
    "    merge =  (xkey, np.hstack((xval,y)))\n",
    "    return(merge)\n",
    "\n",
    "numPlusCatRdd3 = normedRDD.zip(hybridCatRdd) \\\n",
    "                         .map(mergeNumPlusCatRdds)\n",
    "numPlusCatRdd3.take(1)"
   ]
  },
  {
   "cell_type": "code",
   "execution_count": 95,
   "metadata": {},
   "outputs": [
    {
     "name": "stdout",
     "output_type": "stream",
     "text": [
      "429\n"
     ]
    }
   ],
   "source": [
    "#compute the number of features\n",
    "numb_features = np.size(numPlusCatRdd3.first()[1])\n",
    "print(numb_features)\n",
    "#define baseline model, add one parameter representing the intercept\n",
    "BASELINE = np.random.randn(numb_features + 1)"
   ]
  },
  {
   "cell_type": "code",
   "execution_count": 96,
   "metadata": {},
   "outputs": [],
   "source": [
    "#split into train, validation and test sets\n",
    "train, validation, test = numPlusCatRdd3.randomSplit([0.6, 0.2, 0.2])"
   ]
  },
  {
   "cell_type": "code",
   "execution_count": 101,
   "metadata": {},
   "outputs": [
    {
     "data": {
      "image/png": "[encoded data removed]",
      "text/plain": [
       "<Figure size 432x288 with 1 Axes>"
      ]
     },
     "metadata": {},
     "output_type": "display_data"
    }
   ],
   "source": [
    "nSteps = 150\n",
    "regType = 'ridge'\n",
    "regParam = 0.1\n",
    "learningRate = 0.1\n",
    "\n",
    "# run gradient descent\n",
    "train_loss, test_loss, model = GDUpdate(train, validation, BASELINE, nSteps, regType=regType, \n",
    "                                        regParam=regParam, learningRate=learningRate, verbose = False)\n",
    "\n",
    "plt.plot(train_loss)\n",
    "plt.plot(test_loss)\n",
    "plt.title('Loss')\n",
    "plt.show()"
   ]
  },
  {
   "cell_type": "code",
   "execution_count": 102,
   "metadata": {},
   "outputs": [
    {
     "name": "stdout",
     "output_type": "stream",
     "text": [
      "Accuracy is:  0.7901541521631029\n",
      "Precision is:  0.47619047619047616\n",
      "Recall is:  0.023752969121140142\n",
      "F1 score is:  0.04524886877828054\n",
      "False positive rate is:  0.006918238993710692\n",
      "True positive rate is:  0.023752969121140142\n"
     ]
    }
   ],
   "source": [
    "# make predictions and compute metrics for treshProb = 0.5\n",
    "pred, ntp, ntn, nfp, nfn = makePrediction(validation, model[-1], 0.5)\n",
    "\n",
    "acc = (ntp+ntn)/(ntp+ntn+nfp+nfn)\n",
    "prec = (ntp)/(ntp+nfp)\n",
    "rec = (ntp)/(ntp+nfn)\n",
    "f1 = 2*prec*rec/(prec+rec)\n",
    "fpr = nfp/(ntn+nfp)\n",
    "tpr = ntp/(ntp+nfn)\n",
    "print('Accuracy is: ', acc)\n",
    "print('Precision is: ', prec)\n",
    "print('Recall is: ', rec)\n",
    "print('F1 score is: ', f1)\n",
    "print('False positive rate is: ', fpr)\n",
    "print('True positive rate is: ', tpr)"
   ]
  },
  {
   "cell_type": "markdown",
   "metadata": {},
   "source": [
    "# __Section 5__ - Course Concepts"
   ]
  },
  {
   "cell_type": "code",
   "execution_count": null,
   "metadata": {},
   "outputs": [],
   "source": []
  },
  {
   "cell_type": "markdown",
   "metadata": {},
   "source": []
  },
  {
   "cell_type": "markdown",
   "metadata": {},
   "source": []
  },
  {
   "cell_type": "markdown",
   "metadata": {},
   "source": [
    "### TOY EXAMPLE - comparison with ScikitLearn"
   ]
  },
  {
   "cell_type": "code",
   "execution_count": null,
   "metadata": {},
   "outputs": [],
   "source": [
    "#TOY EXAMPLE STARTS HERE\n",
    "numb_features = 2\n",
    "\n",
    "N = 100\n",
    "D = 3\n",
    "\n",
    "X_toy = np.random.randn(N,D)\n",
    "\n",
    "# center the first 50 points at (-1,-1)\n",
    "X_toy[:50,:] = X_toy[:50,:] - 1*np.ones((50,D))\n",
    "\n",
    "# center the last 50 points at (2, 2)\n",
    "X_toy[50:,:] = X_toy[50:,:] + 2*np.ones((50,D))\n",
    "\n",
    "X_toy[:50,0] = 0\n",
    "X_toy[50:,0] = 1\n",
    "\n",
    "rdd1 = sc.parallelize(X_toy)\n",
    "rdd1 = rdd1.map(lambda x: [float(i) for i in x])\n",
    "toy_sample_red = rdd1.toDF([\"_1\", \"_2\", \"_3\"])\n",
    "toy_sample_red_RDD = toy_sample_red.rdd.map(lambda x: (x[0], x[1:])).cache()"
   ]
  },
  {
   "cell_type": "code",
   "execution_count": null,
   "metadata": {},
   "outputs": [],
   "source": [
    "#define baseline model, add one parameter representing the intercept\n",
    "BASELINE = np.random.randn(numb_features + 1)"
   ]
  },
  {
   "cell_type": "code",
   "execution_count": null,
   "metadata": {},
   "outputs": [],
   "source": [
    "nSteps = 150\n",
    "learningRate = 0.5\n",
    "regType = 'ridge'\n",
    "regParam = 0.05\n",
    "\n",
    "Loss_save = []\n",
    "Model_norm = []\n",
    "#broadcast model\n",
    "model = BASELINE\n",
    "for idx in range(nSteps):\n",
    "    #print(\"----------\")\n",
    "    #print(f\"STEP: {idx+1}\")\n",
    "    \n",
    "    # compute loss\n",
    "    loss = LogLoss(toy_sample_red_RDD, model, regType=regType, regParam=regParam)\n",
    "    # update model parameters\n",
    "    model = GDUpdate(toy_sample_red_RDD, model, regType=regType, regParam=regParam, learningRate=learningRate)\n",
    "    \n",
    "    #store results\n",
    "    Loss_save.append(loss)\n",
    "    Model_norm.append(np.linalg.norm(model))\n",
    "\n",
    "print(f\"The estimated model is: {model}\")\n",
    "print(f\"The loss of the estimated model is: {loss}\")\n",
    "print()\n",
    "print()\n",
    "plt.plot(Loss_save)\n",
    "plt.title('Loss')\n",
    "plt.show()\n",
    "plt.plot(Model_norm)\n",
    "plt.title('Norm of vector of parameters')"
   ]
  },
  {
   "cell_type": "code",
   "execution_count": null,
   "metadata": {},
   "outputs": [],
   "source": [
    "#actual simulated value is 50\n",
    "res = makePrediction(toy_sample_red_RDD, model).cache()\n",
    "res.sum()"
   ]
  },
  {
   "cell_type": "code",
   "execution_count": null,
   "metadata": {},
   "outputs": [],
   "source": [
    "import sklearn\n",
    "from sklearn.linear_model import LogisticRegression\n",
    "X, y = X_toy[:,1:],X_toy[:,0]\n",
    "clf = LogisticRegression(random_state=0, solver='lbfgs',fit_intercept=True).fit(X, y)\n",
    "print(clf.coef_, clf.intercept_)"
   ]
  },
  {
   "cell_type": "code",
   "execution_count": null,
   "metadata": {},
   "outputs": [],
   "source": [
    "plt.scatter(X_toy[:,1], X_toy[:,2], c=X_toy[:,0], s=100, alpha=0.5)\n",
    "x_axis = np.linspace(-6, 6, 100)\n",
    "y_axis = -(model[0] + x_axis*model[1]) / model[2]\n",
    "plt.plot(x_axis, y_axis)\n",
    "y_axis = -(clf.intercept_+x_axis*clf.coef_[0][0]) / clf.coef_[0][1]\n",
    "plt.plot(x_axis, y_axis)\n",
    "plt.show()"
   ]
  },
  {
   "cell_type": "code",
   "execution_count": null,
   "metadata": {},
   "outputs": [],
   "source": []
  },
  {
   "cell_type": "code",
   "execution_count": null,
   "metadata": {},
   "outputs": [],
   "source": []
  },
  {
   "cell_type": "code",
   "execution_count": null,
   "metadata": {},
   "outputs": [],
   "source": [
    "convert_cols = ['_1','_2','_3','_4','_5','_6','_7','_8','_9','_10','_11','_12','_13','_14']"
   ]
  },
  {
   "cell_type": "code",
   "execution_count": null,
   "metadata": {},
   "outputs": [],
   "source": [
    "#generate train data for homegrown solution - select only 1000 rows and only numerical features + one categorical variable +target \n",
    "train_sample_red = train_sample.select(convert_cols + ['_23']).limit(1000)"
   ]
  },
  {
   "cell_type": "code",
   "execution_count": null,
   "metadata": {},
   "outputs": [],
   "source": [
    "train_sample_red.show(3)"
   ]
  },
  {
   "cell_type": "code",
   "execution_count": null,
   "metadata": {},
   "outputs": [],
   "source": [
    "#impute missing values with averages\n",
    "from pyspark.sql.functions import avg\n",
    "for col in convert_cols:\n",
    "    train_sample_red = train_sample_red.na.fill(round(train_sample_red.na.drop().agg(avg(col)).first()[0],1), [col])"
   ]
  },
  {
   "cell_type": "code",
   "execution_count": null,
   "metadata": {},
   "outputs": [],
   "source": [
    "from pyspark.sql.functions import col, split\n",
    "df = train_sample_red.withColumn(\"_23\", split(col(\"_23\"),\" \"))\n",
    "df.show(3)"
   ]
  },
  {
   "cell_type": "code",
   "execution_count": null,
   "metadata": {},
   "outputs": [],
   "source": [
    "from pyspark.ml.feature import CountVectorizer\n",
    "cat_Vectorizer = CountVectorizer(inputCol=\"_23\", outputCol=\"_23_array\", vocabSize=4, minDF=1.0)"
   ]
  },
  {
   "cell_type": "code",
   "execution_count": null,
   "metadata": {},
   "outputs": [],
   "source": [
    "catVectorizer_model = cat_Vectorizer.fit(df)"
   ]
  },
  {
   "cell_type": "code",
   "execution_count": null,
   "metadata": {},
   "outputs": [],
   "source": [
    "df_ohe = catVectorizer_model.transform(df)"
   ]
  },
  {
   "cell_type": "code",
   "execution_count": null,
   "metadata": {},
   "outputs": [],
   "source": [
    "StringIndexer(inputCols=[\"gender\"], outputCols=[\"gender_numeric\"])"
   ]
  },
  {
   "cell_type": "markdown",
   "metadata": {},
   "source": [
    "### Cardinality of categorical variables"
   ]
  },
  {
   "cell_type": "code",
   "execution_count": null,
   "metadata": {},
   "outputs": [],
   "source": [
    "# number of unique categorical values\n",
    "from pyspark.sql.functions import col\n",
    "for col in train_sample.columns[14:]:\n",
    "    print('Column ' + col + ' has ' + str(train_sample.select(col).distinct().count()) \\\n",
    "          + ' unique categorical values')"
   ]
  },
  {
   "cell_type": "markdown",
   "metadata": {},
   "source": [
    "### Bar plots of selected variables"
   ]
  },
  {
   "cell_type": "code",
   "execution_count": null,
   "metadata": {},
   "outputs": [],
   "source": [
    "# histogram of target variable\n",
    "hist_c1 = train_sample.select('_1').rdd.flatMap(lambda x: x).histogram(2)\n",
    "pd.DataFrame(list(zip(*hist_c1))).set_index(0).plot(kind='bar');"
   ]
  },
  {
   "cell_type": "code",
   "execution_count": null,
   "metadata": {},
   "outputs": [],
   "source": [
    "# histogram of column 20\n",
    "hist_c20 = train_sample.groupBy('_20').count().collect()\n",
    "pd.DataFrame(list(zip(*hist_c20))).T.set_index(0).plot(kind='bar')"
   ]
  },
  {
   "cell_type": "code",
   "execution_count": null,
   "metadata": {},
   "outputs": [],
   "source": [
    "# histogram of column 23\n",
    "hist_c23 = train_sample.groupBy('_23').count().collect()\n",
    "pd.DataFrame(list(zip(*hist_c23))).T.set_index(0).plot(kind='bar')"
   ]
  },
  {
   "cell_type": "code",
   "execution_count": null,
   "metadata": {},
   "outputs": [],
   "source": [
    "# histogram of column 28\n",
    "hist_c28 = train_sample.groupBy('_28').count().collect()\n",
    "pd.DataFrame(list(zip(*hist_c28))).T.set_index(0).plot(kind='bar')"
   ]
  },
  {
   "cell_type": "code",
   "execution_count": null,
   "metadata": {},
   "outputs": [],
   "source": [
    "# histogram of column 31\n",
    "hist_c31 = train_sample.groupBy('_31').count().collect()\n",
    "pd.DataFrame(list(zip(*hist_c31))).T.set_index(0).plot(kind='bar')"
   ]
  },
  {
   "cell_type": "code",
   "execution_count": null,
   "metadata": {},
   "outputs": [],
   "source": [
    "# histogram of column 34\n",
    "hist_c34 = train_sample.groupBy('_34').count().collect()\n",
    "pd.DataFrame(list(zip(*hist_c34))).T.set_index(0).plot(kind='bar')"
   ]
  },
  {
   "cell_type": "code",
   "execution_count": null,
   "metadata": {},
   "outputs": [],
   "source": [
    "# histogram of column 36\n",
    "hist_c36 = train_sample.groupBy('_36').count().collect()\n",
    "pd.DataFrame(list(zip(*hist_c36))).T.set_index(0).plot(kind='bar')"
   ]
  },
  {
   "cell_type": "markdown",
   "metadata": {},
   "source": [
    "### Estimates of ctr based on category"
   ]
  },
  {
   "cell_type": "code",
   "execution_count": null,
   "metadata": {},
   "outputs": [],
   "source": [
    "# for column 20\n",
    "list_labls_vals = list(zip(*train_sample.groupBy('_20').sum('_1').collect()))\n",
    "labls = list_labls_vals[0]\n",
    "vals = np.array(list_labls_vals[1])/np.array(list(zip(*train_sample.groupBy('_20').count().collect()))[1])\n",
    "\n",
    "ax = pd.DataFrame(vals).plot(kind='bar')\n",
    "ax.set_xticklabels(labls)"
   ]
  },
  {
   "cell_type": "code",
   "execution_count": null,
   "metadata": {},
   "outputs": [],
   "source": [
    "# for column 23\n",
    "list_labls_vals = list(zip(*train_sample.groupBy('_23').sum('_1').collect()))\n",
    "labls = list_labls_vals[0]\n",
    "vals = np.array(list_labls_vals[1])/np.array(list(zip(*train_sample.groupBy('_23').count().collect()))[1])\n",
    "\n",
    "ax = pd.DataFrame(vals).plot(kind='bar')\n",
    "ax.set_xticklabels(labls)"
   ]
  },
  {
   "cell_type": "code",
   "execution_count": null,
   "metadata": {},
   "outputs": [],
   "source": [
    "# for column 28\n",
    "list_labls_vals = list(zip(*train_sample.groupBy('_28').sum('_1').collect()))\n",
    "labls = list_labls_vals[0]\n",
    "vals = np.array(list_labls_vals[1])/np.array(list(zip(*train_sample.groupBy('_28').count().collect()))[1])\n",
    "\n",
    "ax = pd.DataFrame(vals).plot(kind='bar')\n",
    "ax.set_xticklabels(labls)"
   ]
  },
  {
   "cell_type": "code",
   "execution_count": null,
   "metadata": {},
   "outputs": [],
   "source": [
    "# for column 31\n",
    "list_labls_vals = list(zip(*train_sample.groupBy('_31').sum('_1').collect()))\n",
    "labls = list_labls_vals[0]\n",
    "vals = np.array(list_labls_vals[1])/np.array(list(zip(*train_sample.groupBy('_31').count().collect()))[1])\n",
    "\n",
    "ax = pd.DataFrame(vals).plot(kind='bar')\n",
    "ax.set_xticklabels(labls)"
   ]
  },
  {
   "cell_type": "code",
   "execution_count": null,
   "metadata": {},
   "outputs": [],
   "source": [
    "# for column 34\n",
    "list_labls_vals = list(zip(*train_sample.groupBy('_34').sum('_1').collect()))\n",
    "labls = list_labls_vals[0]\n",
    "vals = np.array(list_labls_vals[1])/np.array(list(zip(*train_sample.groupBy('_34').count().collect()))[1])\n",
    "\n",
    "ax = pd.DataFrame(vals).plot(kind='bar')\n",
    "ax.set_xticklabels(labls)"
   ]
  },
  {
   "cell_type": "code",
   "execution_count": null,
   "metadata": {},
   "outputs": [],
   "source": [
    "# for column 36\n",
    "list_labls_vals = list(zip(*train_sample.groupBy('_36').sum('_1').collect()))\n",
    "labls = list_labls_vals[0]\n",
    "vals = np.array(list_labls_vals[1])/np.array(list(zip(*train_sample.groupBy('_36').count().collect()))[1])\n",
    "\n",
    "ax = pd.DataFrame(vals).plot(kind='bar')\n",
    "ax.set_xticklabels(labls)"
   ]
  },
  {
   "cell_type": "code",
   "execution_count": null,
   "metadata": {},
   "outputs": [],
   "source": []
  }
 ],
 "metadata": {
  "kernelspec": {
   "display_name": "Python 3",
   "language": "python",
   "name": "python3"
  },
  "language_info": {
   "codemirror_mode": {
    "name": "ipython",
    "version": 3
   },
   "file_extension": ".py",
   "mimetype": "text/x-python",
   "name": "python",
   "nbconvert_exporter": "python",
   "pygments_lexer": "ipython3",
   "version": "3.6.6"
  }
 },
 "nbformat": 4,
 "nbformat_minor": 2
}
