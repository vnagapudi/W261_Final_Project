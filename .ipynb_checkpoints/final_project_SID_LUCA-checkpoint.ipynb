{
 "cells": [
  {
   "cell_type": "markdown",
   "metadata": {},
   "source": [
    "# w261 Final Project - Clickthrough Rate Prediction\n"
   ]
  },
  {
   "cell_type": "markdown",
   "metadata": {},
   "source": [
    "Team 24   \n",
    "Vivian Lu, Siddhartha Jakkamreddy, Venky Nagapudi, Luca Garre   \n",
    "Summer 2019, sections 4 and 5   "
   ]
  },
  {
   "cell_type": "markdown",
   "metadata": {},
   "source": [
    "## Table of Contents\n",
    "\n",
    "* __Section 1__ - Question Formulation\n",
    "* __Section 2__ - Algorithm Explanation\n",
    "* __Section 3__ - EDA & Challenges\n",
    "* __Section 4__ - Algorithm Implementation\n",
    "* __Section 5__ - Course Concepts"
   ]
  },
  {
   "cell_type": "markdown",
   "metadata": {},
   "source": [
    "# __Section 1__ - Question Formulation"
   ]
  },
  {
   "cell_type": "markdown",
   "metadata": {},
   "source": [
    "## __Introduction__\n",
    "Online ad is a multibillion dollar industry fueled by large investments and ever increasing performance goals. Targeted advertisement based on users' browsing industry and demographic, ad features such as overall appearance, employed colors and text, and website features such as ad's relative placement in the webpage, sizes, etc., is receiving more and more interest due to its potential for revenue generation. In this context, machine learning is proving resourceful in the understanding of the features that mostly affect users' Click-Through Rates (CTR) and, based on this understanding, in informing the design of ads that maximize performance metrics such as click and convertion rates. Further, machine learning solutions can easily be deployed in a data pipeline enviroment in order to select and offer, on a user-specific basis, the ad which expectedly maximizes the user's interest. \n",
    "\n",
    "...\n",
    "\n",
    "## __Goal of the analysis__\n",
    "The purpose of the present analysis is to estimate whether a given ad will be clicked based on a set of features describing the ad. \n",
    "\n",
    "...\n",
    "\n",
    "## __Description of the dataset__\n",
    "The dataset is provided by __[put_reference_to_CriteoLabs]__ and is composed of three files, a `readme.txt`, a `train.txt` and a `test.txt` file, respectively. The readme file contains a brief description of the data. The `train.txt` and `test.txt` files contain the train and test data. Both files are formatted as tab separated value tables, and amount to 45840617 and 6042135 rows for the train and test data, respectively. Following the description of the data, each row represents an ad and contains the following fields (see commands below, these expect the data to be contained in a data folder inside the current working directory):\n",
    "\n",
    "- 1 binary field indicating whether the ad has been clicked (1) or not (0). This field is available only for the train data;\n",
    "- 13 fields containing integer features representing counts;\n",
    "- 26 categorical features. These are hashed as 32 bits keys for anonymization purposes;\n",
    "\n",
    "From a printout of the first rows of the data files it appears that the data contain no headers. This implies that, with the sole exception of the first binary field, it is not possible to characterize the various fields in terms of the features these represent. It is also noted that rows in the data can have missing values. This is again noticed when looking at the printed lines, as these have a number of entries which is lower than the number of fields specified in the `readme.txt` file. \n",
    "\n",
    "..."
   ]
  },
  {
   "cell_type": "code",
   "execution_count": null,
   "metadata": {},
   "outputs": [],
   "source": [
    "#number of rows in the train data\n",
    "!wc -l data/train.txt"
   ]
  },
  {
   "cell_type": "code",
   "execution_count": null,
   "metadata": {},
   "outputs": [],
   "source": [
    "#number of rows in the test data\n",
    "!wc -l data/test.txt"
   ]
  },
  {
   "cell_type": "code",
   "execution_count": null,
   "metadata": {},
   "outputs": [],
   "source": [
    "# first row of the train data\n",
    "!head -1 data/train.txt"
   ]
  },
  {
   "cell_type": "code",
   "execution_count": null,
   "metadata": {},
   "outputs": [],
   "source": [
    "# first row of the test data\n",
    "!head -1 data/test.txt"
   ]
  },
  {
   "cell_type": "markdown",
   "metadata": {},
   "source": [
    "# __Section 2__ - Algorithm Explanation"
   ]
  },
  {
   "cell_type": "markdown",
   "metadata": {},
   "source": [
    "## Logistic regression\n",
    "\n",
    "Logistic regression belongs to the family of so-called generalized linear models and is by far one of the most known and applied algorithms for the prediction of a target variable $Y$, which represents the possible occurrence of an event of interest $e$. This variable is binary, and usually is encoded such that $Y=1$ represents the occurrence of $e$. More specifically, given a set of explanatory features $X_i$, $i = 1,2, \\dots, n$, logistic regression characterizes the probability of occurrence of $e$, $\\pi[e] \\equiv \\pi$, as follows:\n",
    "\n",
    "\\begin{equation}\n",
    "\\pi = \\frac{1}{1 + \\exp^{-z} }\n",
    "\\end{equation}\n",
    "\n",
    "where $z = \\beta_0 + \\sum_{i=1}^n \\beta_i X_i$ and $\\beta_i$ are model parameters. As can be seen from the equation above, and in compliance with probability rules, $\\pi \\in (0, 1)$ for any $\\beta_i$ and $X_i$, owing to the fact that the exponential function is strictly positive, and considering that the denominator is always higher than the numerator. After some algebraic manipulations an equivalent, and more compact, formulation of the above equation can be obtained as:\n",
    "\n",
    "\\begin{equation}\n",
    "log\\left( \\frac{\\pi}{1-\\pi} \\right) = \\beta_0 + \\sum_{i=1}^n \\beta_i X_i\n",
    "\\end{equation}\n",
    "\n",
    "where the left side is usually referred to as the logit function, $logit(\\pi)$, while the right side makes the linear nature of this model explicit. This becomes clearer when considering the decision boundary, i.e., the hypersurface that segments the feature space in positive versus vegative regions. For logistic regression, such boundary is associated with the locus of points in the feature space where $\\pi=0.5$, i.e., the model has no preference as to whether a point in this locus should be assigned to the positive or the negative class. Casting $\\pi=0.5$ in the left side of the equation above renders a linear equation of the decision boundary in the feature space, in compliance with the linear nature of this model.  \n",
    "\n",
    "## Log-loss function and parameter estimation\n",
    "\n",
    "In accordance with established practices in the fields of statistics and machine learning, the parameters $\\beta_i$ of the logistic regression model are estimated via maximization of the log-likelihood function. In essence, for a sample of $m$ data points $(x_{ij}, y_j)$, $i = 1,2,\\dots,n$, $j = 1,2,\\dots,m$, where $x_{ij}$ is the $j$-th record of the $i$-th feature, and $y_j$ is the $j$-th record of the target binary variable $Y$, the parameters $\\beta_i$ are estimated such that the log-likelihood function:\n",
    "\n",
    "\\begin{equation}\n",
    "log\\left[ L(\\beta_i|y_j) \\right] = \\frac{1}{m} log\\left( \\prod_{j = 1}^{m} \\pi_j^{y_j} \\left( 1-\\pi_j \\right)^{1-y_j} \\right)\n",
    "\\end{equation}\n",
    "\n",
    "is maximized. The term in the multiplication corresponds to the likelihood function of the Bernoulli distribution for the (degenerate) case of one single trial and number of successes $y_j = 1$ and $y_j = 0$ for success and failure, respectively.\n",
    "\n",
    "Operationally, the above maximization is usually achieved taking the negative of the log-likelihood function and computing the parameters $\\beta_i$ as the argmin of the negated log-likelihood which, after some manipulations, can be written as:\n",
    "\n",
    "\\begin{equation}\n",
    "\\hat{L} = -log\\left[ L(\\beta_i|y_j) \\right] = - \\frac{1}{m}\\sum_{j=1}^{m} \\left[ y_j \\cdot log(\\pi_j) + (1-y_j) \\cdot log(1-\\pi_j) \\right]\n",
    "\\end{equation}\n",
    "\n",
    "The right term of the equation, also called Cross-Entropy or log-loss, being a function $\\pi$, is ultimately a function of the parameters $\\beta_i$ and the features $X_i$ through the logistic regression relationship. The log-loss gives some insights as to the role of this function during estimation of the parameters. Let us assume that for a certain data point, $(x_{ij}, y_j)$, the target variable is equal to $1$. For this given data point, the right term of the equation simplifies to $-log(\\pi_j)$. Since this term needs to be minimized, the parameters $\\beta_i$ of the model need to be chosen such that $\\pi_j$ approaches $1$ as closely as possible. Conversely for an observation $y_j = 0$, minimization of the log-loss, $-log(1 - \\pi_j)$, requires $\\pi_j$ to approach $0$. This dual role of the log-loss function makes such that likelihood maximization in logistic regression aims to find the set of model parameters which best separate positive from negative observations in the space of the explanatory features $X_i$, in the sense of mapping as closely as possible positive targets to $\\pi = 1$ and negative targets to $\\pi = 0$. Another appealing property, which turns out to the be of paramount importance for the strategy outlined below, is that this log-loss function is convex, i.e., one and only one point of minimum exists in the space of parameters $\\beta_i$.\n",
    "\n",
    "## Gradient descent\n",
    "\n",
    "Finding the optimum set of parameters requires a suitable optimization framework. Among various approaches, gradient descent of $\\hat{L}$ is a well-established approach for functions. For a certain point of the $n$-th dimensional space of parameters $\\beta_i$, the gradient of the log-loss function, $\\nabla \\hat{L}$ is computed, and thereafter a translation is performed in the parameter space along the gradient direction (the steepest descent).\n",
    "\n",
    "Gradient descent requires the computation of the gradient. In order to derive its formulation, it is convenient to consider the $i$-th component of $\\nabla \\hat{L}$, i.e.:\n",
    "\n",
    "\\begin{equation}\n",
    "\\nabla_i \\hat{L} = \\frac{\\partial}{\\partial \\beta_i} \\hat{L}\n",
    "\\end{equation}\n",
    "\n",
    "Taking the derivative inside the summation and operating on the logarithm yields:\n",
    "\n",
    "\\begin{equation}\n",
    "\\nabla_i \\hat{L} = - \\frac{1}{m} \\sum_{j=1}^{m} \\left( \\frac{y_j}{\\pi_j} - \\frac{1-y_j}{1-\\pi_j} \\right) \\frac{\\partial \\pi_j}{\\partial \\beta_i}\n",
    "\\end{equation}\n",
    "\n",
    "The derivative of the probability with respect to the parameter equates to (refer to the initial logistic regression formulation):\n",
    "\n",
    "\\begin{equation}\n",
    "\\frac{\\partial \\pi_j}{\\partial \\beta_i} = \\frac{\\exp^{-z_j}}{(1+\\exp^{-z_j})^2} \\frac{\\partial z_j} {\\partial \\beta_i} = \\frac{\\exp^{-z_j}}{1+\\exp^{-z_j}} \\frac{1}{1+\\exp^{-z_j}} \\frac{\\partial z_j} {\\partial \\beta_i} = (1-\\pi_j) \\pi_j \\frac{\\partial z_j} {\\partial \\beta_i}\n",
    "\\end{equation}\n",
    "\n",
    "The derivative of the linear combination term yields:\n",
    "\n",
    "\\begin{equation}\n",
    "\\frac{\\partial z_j} {\\partial \\beta_i} = x_{ij}\n",
    "\\end{equation}\n",
    "\n",
    "Putting it all together, one finally obtains: \n",
    "\n",
    "\\begin{equation}\n",
    "\\nabla_i \\hat{L} = - \\frac{1}{m} \\sum_{j=1}^{m} \\left[ y_j (1-\\pi_j) - (1-y_j) \\pi_j \\right] x_{ij} = \\frac{1}{m}\\sum_{j=1}^{m} (\\pi_j-y_j) x_{ij}\n",
    "\\end{equation}\n",
    "\n",
    "for $i = 1,2,\\dots,n$. \n",
    "\n",
    "Assuming a certain starting point in the space of parameters, $\\beta_i^0$, gradient descent first computes the gradient $\\nabla \\hat{L}$ at this starting point, and shifts the point along the direction of this gradient by computing a new point $\\beta_i^1 = \\beta_i^0 - \\alpha \\cdot \\nabla \\hat{L}$, where $\\alpha$ is a learning rate. This is done iteratively until suitable stopping criteria are met.\n",
    "\n",
    "## Algorithm for scalable implementation of logistic regression\n",
    "\n",
    "- Assume starting values for logistic parameters $\\beta_i^0$\n",
    "- Set learning parameter $\\alpha$\n",
    "- For each iteration $k$:\n",
    "- Broadcast parameters $\\beta_i^{k}$ to all worker nodes\n",
    "- Map: emit key-value pairs. Key: index $j$, values: target variable $y_j$ and array of explanatory features $x_{ij}$, for $j = 1,2,\\dots,n$\n",
    "- Map: for every $j = 1,2,\\dots,n$ compute probability $\\pi_j$ and $\\left[ y_j (1-\\pi_j) - (1-y_j) \\pi_j \\right] x_{ij}$\n",
    "- Reduce: sum over $j$ and divide by $m$, for $i = 1,2,\\dots,n$\n",
    "- Update $\\beta_i^{k}$\n",
    "- Run next iteration\n",
    "\n",
    "__References:__\n",
    "\n",
    "Bilder, C.R. and Loughin, T.M. (2015). Analysis of Categorical Data with R. CRC Press. \n",
    "\n",
    "Kremonic, Z. (2017). Maximum likelihood and gradient descent demonstration. Blog post. Accessed on July 2019 at https://zlatankr.github.io/posts/2017/03/06/mle-gradient-descent.\n",
    "\n",
    "\n",
    "\n",
    "Additional resources:\n",
    "\n",
    "https://ml-cheatsheet.readthedocs.io/en/latest/logistic_regression.html\n",
    "\n",
    "https://ttic.uchicago.edu/~suriya/website-intromlss2018/course_material/Day3b.pdf \n",
    "\n",
    "http://www.holehouse.org/mlclass/06_Logistic_Regression.html\n"
   ]
  },
  {
   "cell_type": "markdown",
   "metadata": {},
   "source": [
    "# __Section 3__ - EDA & Challenges"
   ]
  },
  {
   "cell_type": "code",
   "execution_count": 57,
   "metadata": {},
   "outputs": [],
   "source": [
    "# imports\n",
    "import re\n",
    "import numpy as np\n",
    "import pandas as pd\n",
    "import matplotlib.pyplot as plt\n",
    "from matplotlib.pyplot import *\n",
    "from os import path"
   ]
  },
  {
   "cell_type": "code",
   "execution_count": 58,
   "metadata": {},
   "outputs": [],
   "source": [
    "# store path to notebook\n",
    "PWD = !pwd\n",
    "PWD = PWD[0]"
   ]
  },
  {
   "cell_type": "code",
   "execution_count": 59,
   "metadata": {},
   "outputs": [],
   "source": [
    "# create Spark Session\n",
    "from pyspark.sql import SparkSession\n",
    "app_name = \"final_project\"\n",
    "master = \"local[*]\"\n",
    "spark = SparkSession\\\n",
    "        .builder\\\n",
    "        .appName(app_name)\\\n",
    "        .master(master)\\\n",
    "        .getOrCreate()\n",
    "sc = spark.sparkContext"
   ]
  },
  {
   "cell_type": "code",
   "execution_count": 61,
   "metadata": {},
   "outputs": [],
   "source": [
    "# read in sample training data and convert to dataframe\n",
    "train_sample = sc.textFile('data/sample_training.txt')\\\n",
    "                 .map(lambda x: x.split('\\t'))\\\n",
    "                 .toDF().cache()"
   ]
  },
  {
   "cell_type": "code",
   "execution_count": 62,
   "metadata": {},
   "outputs": [
    {
     "name": "stdout",
     "output_type": "stream",
     "text": [
      "+---+---+---+---+---+----+---+---+---+---+---+---+---+---+--------+--------+--------+--------+--------+--------+--------+--------+--------+--------+--------+--------+--------+--------+--------+--------+--------+--------+--------+--------+--------+--------+--------+--------+--------+--------+\n",
      "| _1| _2| _3| _4| _5|  _6| _7| _8| _9|_10|_11|_12|_13|_14|     _15|     _16|     _17|     _18|     _19|     _20|     _21|     _22|     _23|     _24|     _25|     _26|     _27|     _28|     _29|     _30|     _31|     _32|     _33|     _34|     _35|     _36|     _37|     _38|     _39|     _40|\n",
      "+---+---+---+---+---+----+---+---+---+---+---+---+---+---+--------+--------+--------+--------+--------+--------+--------+--------+--------+--------+--------+--------+--------+--------+--------+--------+--------+--------+--------+--------+--------+--------+--------+--------+--------+--------+\n",
      "|  0|  1|  1|  5|  0|1382|  4| 15|  2|181|  1|  2|   |  2|68fd1e64|80e26c9b|fb936136|7b4723c4|25c83c98|7e0ccccf|de7995b8|1f89b562|a73ee510|a8cd5504|b2cb9c98|37c9c164|2824a5f6|1adce6ef|8ba8b39a|891b62e7|e5ba7672|f54016b9|21ddcdc9|b1252a9d|07b5194c|        |3a171ecb|c5c50484|e8b83407|9727dd16|\n",
      "|  0|  2|  0| 44|  1| 102|  8|  2|  2|  4|  1|  1|   |  4|68fd1e64|f0cf0024|6f67f7e5|41274cd7|25c83c98|fe6b92e5|922afcc0|0b153874|a73ee510|2b53e5fb|4f1b46f3|623049e6|d7020589|b28479f6|e6c5b5cd|c92f3b61|07c540c4|b04e4670|21ddcdc9|5840adea|60f6221e|        |3a171ecb|43f13e8b|e8b83407|731c3655|\n",
      "|  0|  2|  0|  1| 14| 767| 89|  4|  2|245|  1|  3|  3| 45|287e684f|0a519c5c|02cf9876|c18be181|25c83c98|7e0ccccf|c78204a1|0b153874|a73ee510|3b08e48b|5f5e6091|8fe001f4|aa655a2f|07d13a8f|6dc710ed|36103458|8efede7f|3412118d|        |        |e587c466|ad3062eb|3a171ecb|3b183c5c|        |        |\n",
      "+---+---+---+---+---+----+---+---+---+---+---+---+---+---+--------+--------+--------+--------+--------+--------+--------+--------+--------+--------+--------+--------+--------+--------+--------+--------+--------+--------+--------+--------+--------+--------+--------+--------+--------+--------+\n",
      "only showing top 3 rows\n",
      "\n"
     ]
    }
   ],
   "source": [
    "# head first three rows\n",
    "train_sample.show(3)"
   ]
  },
  {
   "cell_type": "code",
   "execution_count": 63,
   "metadata": {},
   "outputs": [],
   "source": [
    "# convert numeric columns from string to double\n",
    "convert_cols = ['_1','_2','_3','_4','_5','_6','_7','_8','_9','_10','_11','_12','_13','_14']\n",
    "\n",
    "for col in convert_cols:\n",
    "    train_sample = train_sample.withColumn(col, train_sample[col].cast(\"double\"))\n",
    "train_sample = train_sample.cache()"
   ]
  },
  {
   "cell_type": "code",
   "execution_count": 64,
   "metadata": {},
   "outputs": [
    {
     "name": "stdout",
     "output_type": "stream",
     "text": [
      "+---+---+---+----+----+------+----+----+---+-----+---+---+----+----+--------+--------+--------+--------+--------+--------+--------+--------+--------+--------+--------+--------+--------+--------+--------+--------+--------+--------+--------+--------+--------+--------+--------+--------+--------+--------+\n",
      "| _1| _2| _3|  _4|  _5|    _6|  _7|  _8| _9|  _10|_11|_12| _13| _14|     _15|     _16|     _17|     _18|     _19|     _20|     _21|     _22|     _23|     _24|     _25|     _26|     _27|     _28|     _29|     _30|     _31|     _32|     _33|     _34|     _35|     _36|     _37|     _38|     _39|     _40|\n",
      "+---+---+---+----+----+------+----+----+---+-----+---+---+----+----+--------+--------+--------+--------+--------+--------+--------+--------+--------+--------+--------+--------+--------+--------+--------+--------+--------+--------+--------+--------+--------+--------+--------+--------+--------+--------+\n",
      "|0.0|1.0|1.0| 5.0| 0.0|1382.0| 4.0|15.0|2.0|181.0|1.0|2.0|null| 2.0|68fd1e64|80e26c9b|fb936136|7b4723c4|25c83c98|7e0ccccf|de7995b8|1f89b562|a73ee510|a8cd5504|b2cb9c98|37c9c164|2824a5f6|1adce6ef|8ba8b39a|891b62e7|e5ba7672|f54016b9|21ddcdc9|b1252a9d|07b5194c|        |3a171ecb|c5c50484|e8b83407|9727dd16|\n",
      "|0.0|2.0|0.0|44.0| 1.0| 102.0| 8.0| 2.0|2.0|  4.0|1.0|1.0|null| 4.0|68fd1e64|f0cf0024|6f67f7e5|41274cd7|25c83c98|fe6b92e5|922afcc0|0b153874|a73ee510|2b53e5fb|4f1b46f3|623049e6|d7020589|b28479f6|e6c5b5cd|c92f3b61|07c540c4|b04e4670|21ddcdc9|5840adea|60f6221e|        |3a171ecb|43f13e8b|e8b83407|731c3655|\n",
      "|0.0|2.0|0.0| 1.0|14.0| 767.0|89.0| 4.0|2.0|245.0|1.0|3.0| 3.0|45.0|287e684f|0a519c5c|02cf9876|c18be181|25c83c98|7e0ccccf|c78204a1|0b153874|a73ee510|3b08e48b|5f5e6091|8fe001f4|aa655a2f|07d13a8f|6dc710ed|36103458|8efede7f|3412118d|        |        |e587c466|ad3062eb|3a171ecb|3b183c5c|        |        |\n",
      "+---+---+---+----+----+------+----+----+---+-----+---+---+----+----+--------+--------+--------+--------+--------+--------+--------+--------+--------+--------+--------+--------+--------+--------+--------+--------+--------+--------+--------+--------+--------+--------+--------+--------+--------+--------+\n",
      "only showing top 3 rows\n",
      "\n"
     ]
    }
   ],
   "source": [
    "# head first three rows\n",
    "train_sample.show(3)"
   ]
  },
  {
   "cell_type": "code",
   "execution_count": 65,
   "metadata": {},
   "outputs": [
    {
     "data": {
      "text/plain": [
       "0.22663"
      ]
     },
     "execution_count": 65,
     "metadata": {},
     "output_type": "execute_result"
    }
   ],
   "source": [
    "# estimate click-through rate\n",
    "num_ct = train_sample.groupBy().sum('_1').collect()[0][0]\n",
    "num_ct/train_sample.count()"
   ]
  },
  {
   "cell_type": "markdown",
   "metadata": {},
   "source": [
    "Add plots, discussions, etc. for EDA"
   ]
  },
  {
   "cell_type": "markdown",
   "metadata": {},
   "source": []
  },
  {
   "cell_type": "markdown",
   "metadata": {},
   "source": [
    "# __Section 4__ - Algorithm Implementation"
   ]
  },
  {
   "cell_type": "code",
   "execution_count": 66,
   "metadata": {},
   "outputs": [],
   "source": [
    "#generate train data for homegrown solution - select only 100,000 rows and only numerical features + target \n",
    "train_sample_red = train_sample.select(convert_cols).limit(10000).cache()"
   ]
  },
  {
   "cell_type": "code",
   "execution_count": 67,
   "metadata": {},
   "outputs": [
    {
     "name": "stdout",
     "output_type": "stream",
     "text": [
      "+---+---+---+----+----+------+----+----+---+-----+---+---+----+----+\n",
      "| _1| _2| _3|  _4|  _5|    _6|  _7|  _8| _9|  _10|_11|_12| _13| _14|\n",
      "+---+---+---+----+----+------+----+----+---+-----+---+---+----+----+\n",
      "|0.0|1.0|1.0| 5.0| 0.0|1382.0| 4.0|15.0|2.0|181.0|1.0|2.0|null| 2.0|\n",
      "|0.0|2.0|0.0|44.0| 1.0| 102.0| 8.0| 2.0|2.0|  4.0|1.0|1.0|null| 4.0|\n",
      "|0.0|2.0|0.0| 1.0|14.0| 767.0|89.0| 4.0|2.0|245.0|1.0|3.0| 3.0|45.0|\n",
      "+---+---+---+----+----+------+----+----+---+-----+---+---+----+----+\n",
      "only showing top 3 rows\n",
      "\n"
     ]
    }
   ],
   "source": [
    "train_sample_red.show(3)"
   ]
  },
  {
   "cell_type": "code",
   "execution_count": 68,
   "metadata": {},
   "outputs": [],
   "source": [
    "#impute missing values with averages\n",
    "from pyspark.sql.functions import avg\n",
    "for col in train_sample_red.columns:\n",
    "    train_sample_red = train_sample_red.na.fill(round(train_sample_red.na.drop().agg(avg(col)).first()[0],1), [col])"
   ]
  },
  {
   "cell_type": "code",
   "execution_count": 69,
   "metadata": {},
   "outputs": [
    {
     "name": "stdout",
     "output_type": "stream",
     "text": [
      "+---+---+---+----+----+------+----+----+---+-----+---+---+---+----+\n",
      "| _1| _2| _3|  _4|  _5|    _6|  _7|  _8| _9|  _10|_11|_12|_13| _14|\n",
      "+---+---+---+----+----+------+----+----+---+-----+---+---+---+----+\n",
      "|0.0|1.0|1.0| 5.0| 0.0|1382.0| 4.0|15.0|2.0|181.0|1.0|2.0|1.0| 2.0|\n",
      "|0.0|2.0|0.0|44.0| 1.0| 102.0| 8.0| 2.0|2.0|  4.0|1.0|1.0|1.0| 4.0|\n",
      "|0.0|2.0|0.0| 1.0|14.0| 767.0|89.0| 4.0|2.0|245.0|1.0|3.0|3.0|45.0|\n",
      "+---+---+---+----+----+------+----+----+---+-----+---+---+---+----+\n",
      "only showing top 3 rows\n",
      "\n"
     ]
    }
   ],
   "source": [
    "train_sample_red.show(3)"
   ]
  },
  {
   "cell_type": "code",
   "execution_count": 70,
   "metadata": {},
   "outputs": [],
   "source": [
    "#cache into rdd\n",
    "train_sample_red_RDD = train_sample_red.rdd.map(lambda x: (x[0], np.array(x[1:]))).cache()"
   ]
  },
  {
   "cell_type": "code",
   "execution_count": 71,
   "metadata": {},
   "outputs": [],
   "source": [
    "def normalize(dataRDD):\n",
    "    \"\"\"\n",
    "    Scale and center data round mean of each feature.\n",
    "    Args:\n",
    "        dataRDD - records are tuples of (y, features_array)\n",
    "    Returns:\n",
    "        normedRDD - records are tuples of (y, features_array)\n",
    "    \"\"\"\n",
    "    featureMeans = dataRDD.map(lambda x: x[1]).mean()\n",
    "    featureStdev = np.sqrt(dataRDD.map(lambda x: x[1]).variance())\n",
    "\n",
    "    normedRDD = dataRDD.map(lambda x: (x[0], (x[1] - featureMeans)/featureStdev))\n",
    "\n",
    "    return normedRDD"
   ]
  },
  {
   "cell_type": "code",
   "execution_count": 72,
   "metadata": {},
   "outputs": [],
   "source": [
    "# part d - write function to compute loss (FILL IN MISSING CODE BELOW)\n",
    "def LogLoss(dataRDD, W, regType = None, regParam=0.1):\n",
    "    \"\"\"\n",
    "    Compute log loss function.\n",
    "    Args:\n",
    "        dataRDD - each record is a tuple of (y, features_array)\n",
    "        W       - (array) model coefficients with bias at index 0\n",
    "        regType - (str) 'ridge' or 'lasso', defaults to None\n",
    "        regParam - (float) regularization term coefficient defaults to 0.1\n",
    "    Returns:\n",
    "        loss - (float) the regularized loss\n",
    "    \"\"\"\n",
    "    # add a bias 'feature' of 1 at index 0\n",
    "    augmentedData = dataRDD.map(lambda x: (np.append([1.0], x[1]), x[0])).cache()\n",
    "    \n",
    "    # add regularization term\n",
    "    reg_term = 0\n",
    "    if regType == 'ridge':\n",
    "        reg_term = regParam*np.linalg.norm(W[1:])\n",
    "    elif regType == 'lasso':\n",
    "        reg_term = regParam*np.sum(np.abs(W[1:]))\n",
    "    \n",
    "    # compute loss\n",
    "    loss = augmentedData.map(lambda x: x[1]*np.log(1 + np.exp(-np.dot(x[0], W))) + \\\n",
    "                             (1 - x[1])*(np.dot(x[0], W) + np.log(1 + np.exp(-np.dot(x[0], W))))).sum()\\\n",
    "                            /augmentedData.count()\n",
    "    \n",
    "    return loss"
   ]
  },
  {
   "cell_type": "code",
   "execution_count": 73,
   "metadata": {},
   "outputs": [],
   "source": [
    "def GDUpdate(dataRDD, W, regType = None, regParam=0.1, learningRate = 0.1):\n",
    "    \"\"\"\n",
    "    Perform one regularized gradient descent step/update.\n",
    "    Args:\n",
    "        dataRDD - records are tuples of (y, features_array)\n",
    "        W       - (array) model coefficients with bias at index 0\n",
    "        regType - (str) 'ridge' or 'lasso', defaults to None\n",
    "        regParam - (float) regularization term coefficient defaults to 0.1\n",
    "        learningRate - (float) defaults to 0.1\n",
    "    Returns:\n",
    "        new_model - (array) updated coefficients, bias at index 0\n",
    "    \"\"\"\n",
    "    # add a bias 'feature' of 1 at index 0\n",
    "    augmentedData = dataRDD.map(lambda x: (np.append([1.0], x[1]), x[0]))\n",
    "    \n",
    "    # add regularization term\n",
    "    reg_term = np.zeros(len(W))\n",
    "    if regType == 'ridge':\n",
    "        reg_term = np.append(0,2*regParam*W[1:])\n",
    "    elif regType == 'lasso':\n",
    "        reg_term = np.append(0,regParam*np.sign(W[1:]))\n",
    "    \n",
    "    # compute gradient\n",
    "    grad = augmentedData.map(lambda x: ((1/(1 + np.exp(-np.dot(x[0], W))) - x[1])*x[0])).sum()/augmentedData.count() + reg_term\n",
    "    \n",
    "    #update model parameters\n",
    "    new_model = W - learningRate*grad\n",
    "   \n",
    "    return new_model"
   ]
  },
  {
   "cell_type": "code",
   "execution_count": 74,
   "metadata": {},
   "outputs": [],
   "source": [
    "def makePrediction(dataRDD, W):\n",
    "    \"\"\"\n",
    "    Perform one regularized gradient descent step/update.\n",
    "    Args:\n",
    "        dataRDD - records are tuples of (y, features_array)\n",
    "        W       - (array) model coefficients with bias at index 0\n",
    "    Returns:\n",
    "        pred - (rdd) predicted targets\n",
    "    \"\"\"\n",
    "    # add a bias 'feature' of 1 at index 0\n",
    "    augmentedData = dataRDD.map(lambda x: (np.append([1.0], x[1]), x[0])).cache()\n",
    "    \n",
    "    # compute prediction\n",
    "    pred = augmentedData.map(lambda x: int((1/(1 + np.exp(-np.dot(x[0], W))))>0.5) )\n",
    "   \n",
    "    return pred"
   ]
  },
  {
   "cell_type": "code",
   "execution_count": 75,
   "metadata": {},
   "outputs": [],
   "source": [
    "# normalize features\n",
    "normedRDD = normalize(train_sample_red_RDD).cache()"
   ]
  },
  {
   "cell_type": "code",
   "execution_count": 76,
   "metadata": {},
   "outputs": [],
   "source": [
    "#compute the number of features\n",
    "numb_features = len(train_sample_red.columns) - 1\n",
    "#define baseline model, add one parameter representing the intercept\n",
    "BASELINE = np.random.randn(numb_features + 1)"
   ]
  },
  {
   "cell_type": "code",
   "execution_count": 77,
   "metadata": {},
   "outputs": [
    {
     "name": "stdout",
     "output_type": "stream",
     "text": [
      "The estimated model is: [-1.29360435  0.0142893   0.0013337   0.00985154 -0.00317101 -0.07530777\n",
      " -0.09912549  0.00780384 -0.01466709  0.00491161  0.09032911  0.11696617\n",
      "  0.0060852  -0.10761727]\n",
      "The loss of the estimated model is: 0.5090897416246436\n",
      "\n",
      "\n"
     ]
    },
    {
     "data": {
      "image/png": "[encoded data removed]",
      "text/plain": [
       "<Figure size 432x288 with 1 Axes>"
      ]
     },
     "metadata": {},
     "output_type": "display_data"
    },
    {
     "data": {
      "text/plain": [
       "Text(0.5,1,'Norm of vector of parameters')"
      ]
     },
     "execution_count": 77,
     "metadata": {},
     "output_type": "execute_result"
    },
    {
     "data": {
      "image/png": "[encoded data removed]",
      "text/plain": [
       "<Figure size 432x288 with 1 Axes>"
      ]
     },
     "metadata": {},
     "output_type": "display_data"
    }
   ],
   "source": [
    "nSteps = 150\n",
    "learningRate = 0.5\n",
    "regType = 'lasso'\n",
    "regParam = 0.02\n",
    "\n",
    "Loss_save = []\n",
    "Model_norm = []\n",
    "#broadcast model\n",
    "model = BASELINE #model = sc.broadcast(BASELINE) #substitute this line with the comment when deploying it on the cloud\n",
    "for idx in range(nSteps):\n",
    "    #print(\"----------\")\n",
    "    #print(f\"STEP: {idx+1}\")\n",
    "    \n",
    "    # compute loss\n",
    "    loss = LogLoss(normedRDD, model, regType=regType, regParam=regParam)\n",
    "    # update model parameters\n",
    "    model = GDUpdate(normedRDD, model, regType=regType, regParam=regParam, learningRate=learningRate)\n",
    "    \n",
    "    #store results\n",
    "    Loss_save.append(loss)\n",
    "    Model_norm.append(np.linalg.norm(model))\n",
    "    \n",
    "    #broadcast model\n",
    "    #model = sc.broadcast(model) #uncomment this line when deploying it on the cloud\n",
    "\n",
    "print(f\"The estimated model is: {model}\")\n",
    "print(f\"The loss of the estimated model is: {loss}\")\n",
    "print()\n",
    "print()\n",
    "plt.plot(Loss_save)\n",
    "plt.title('Loss')\n",
    "plt.show()\n",
    "plt.plot(Model_norm)\n",
    "plt.title('Norm of vector of parameters')"
   ]
  },
  {
   "cell_type": "markdown",
   "metadata": {},
   "source": []
  },
  {
   "cell_type": "code",
   "execution_count": 78,
   "metadata": {},
   "outputs": [
    {
     "name": "stdout",
     "output_type": "stream",
     "text": [
      "number of true positives is 2182.0\n",
      "number of predicted positives is 34\n"
     ]
    }
   ],
   "source": [
    "print(f'number of true positives is {normedRDD.map(lambda x: x[0]).sum()}')\n",
    "res = makePrediction(normedRDD, model).cache()\n",
    "print(f'number of predicted positives is {res.sum()}')"
   ]
  },
  {
   "cell_type": "markdown",
   "metadata": {},
   "source": [
    "### Factorization Machines"
   ]
  },
  {
   "cell_type": "markdown",
   "metadata": {},
   "source": [
    "The logistic regression will take care of the linear terms, now to account for the interaction term, we expand to include 2nd Degree polynomial features. The below equation represents the formulation.\n",
    "\n",
    "\\begin{align}\n",
    "\\hat{y}(\\textbf{x}) = w_{0} + \\sum_{i=1}^{n} w_{i} x_{i} +  \\sum_{i=1}^n \\sum_{j=i+1}^n w_{ij} x_{i} x_{j}\n",
    "\\end{align}\n",
    "\n",
    "The challenge with solving the above equation is that the time complexity is $O(n^2)$\n",
    "\n",
    "In order to work with this, we use a matrix factorization technique for the interaction terms, inspired by Matrix factorization. We introduce a hyperpameter K which represent the latent factors for factorizing the weight vector $w_{ij}$.\n",
    "\n",
    "\\begin{align}\n",
    "\\hat{y}(\\textbf{x}) = w_{0} + \\sum_{i=1}^{n} w_{i} x_{i} + \\sum_{i=1}^{n} \\sum_{j=i+1}^n \\langle \\textbf{v}_i , \\textbf{v}_{j} \\rangle x_i x_{j}\n",
    "\\end{align}\n",
    "\n",
    "\n",
    "Using the computation specified in Stephen Rendles paper, we can simplify the interaction term to the below equation.\n",
    "\n",
    "\\begin{align}\n",
    "\\sum_{i=1}^n \\sum_{j=i+1}^n \\langle \\textbf{v}_i, \\textbf{v}_{j} \\rangle x_{i} x_{j}\n",
    "&= \\frac{1}{2} \\sum_{i=1}^n \\sum_{j=1}^n \\langle \\textbf{v}_i, \\textbf{v}_{j} \\rangle x_{i} x_{j} - \\frac{1}{2} \\sum_{i=1}^n \\langle \\textbf{v}_i , \\textbf{v}_{i} \\rangle x_{i} x_{i}  \\\\\n",
    "&= \\frac{1}{2}\\left(\\sum_{i=1}^n \\sum_{j=1}^n \\sum_{f=1}^k v_{i,f} v_{j,f} x_{i} x_{j} \\right)\\frac{1}{2}\\left( \\sum_{i=1}^n \\sum_{f=1}^k v_{i,f} v_{i,f} x_{i} x_{i} \\right) \\\\\n",
    "&= \\frac{1}{2}\\left(\\sum_{i=1}^n \\sum_{j=1}^n \\sum_{f=1}^k v_{i,f} v_{j,f} x_{i} x_{j}  -  \\sum_{i=1}^n \\sum_{f=1}^k v_{i,f} v_{i,f} x_{i} x_{i} \\right) \\\\\n",
    "&= \\frac{1}{2} \\sum_{f=1}^{k} \\left( \\left(\\sum_{i=1}^n v_{i,f}x_{i} \\right) \\left( \\sum_{j=1}^n v_{j,f}x_{j} \\right) - \\sum_{i=1}^{n} v_{i,f}^2 x_{i}^2 \\right) \\\\\n",
    "&= \\frac{1}{2} \\sum_{f=1}^{k} \\left( \\left( \\sum_{i}^{n} v_{i,f}x_{i} \\right)^2  - \\sum_{i=1}^{n} v_{i,f}^2 x_{i}^2 \\right)\n",
    "\\end{align}\n",
    "\n",
    "So, we can rewrite the equation to compute in $O(n)$ as\n",
    "\\begin{align}\n",
    "\\hat{y}(\\textbf{x}) = w_{0} + \\sum_{i=1}^{n} w_{i} x_{i} + \\frac{1}{2} \\sum_{f=1}^{k} \\left( \\left( \\sum_{i}^{n} v_{i,f}x_{i} \\right)^2  - \\sum_{i=1}^{n} v_{i,f}^2 x_{i}^2 \\right)\n",
    "\\end{align}\n",
    "\n",
    "#### Gradient\n",
    "\n",
    "For our classification problem, we can define the gradients as :\n",
    "\n",
    "\\begin{align}\n",
    "\\frac{\\partial}{\\partial\\theta}\\hat{y}(\\textbf{x}) =\n",
    "\\begin{cases}\n",
    "1,  & \\text{if $\\theta$ is $w_0$} \\\\\n",
    "x_i, & \\text{if $\\theta$ is $w_i$} \\\\\n",
    "x_i\\sum_{j=1}^{n} v_{j,f}x_j - v_{i,f}x_{i}^2 & \\text{if $\\theta$ is $v_{i,f}$}\n",
    "\\end{cases}\n",
    "\\end{align}\n",
    "\n",
    "#### For labels -1&1\n",
    "\\begin{align}\n",
    "\\frac{\\partial}{\\partial \\hat{y} }(\\textbf{L}) =\n",
    "\\frac{d}{d \\hat{y}}\\left[ -y \\hat{y} + \\ln \\big(e^{y \\hat{y}} + 1 \\big) \\right] \n",
    "&= \\frac{1}{e^{y \\hat{y}} + 1} \\cdot  \\frac{d}{dx}\\left[e^{y \\hat{y}} + 1 \\right] - y \\\\\n",
    "&= \\frac{ye^{y \\hat{y}}}{e^{y \\hat{y}} + 1} - y\\\\\n",
    "&= \\frac{-y}{e^{y \\hat{y}} + 1}\n",
    "\\end{align}\n",
    "\n",
    "#### For labels 0,1\n",
    "\\begin{align}\n",
    "\\frac{\\partial}{\\partial \\hat{y} }(\\textbf{L}) =\n",
    "\\frac{d}{d \\hat{y}}\\left[ -y \\hat{y} + \\ln \\big(e^{ \\hat{y}} + 1 \\big) \\right] \n",
    "&= \\frac{1}{e^{\\hat{y}} + 1} \\cdot  \\frac{d}{dx}\\left[e^{ \\hat{y}} + 1 \\right] - y \\\\\n",
    "&= \\frac{e^{ \\hat{y}}}{e^{\\hat{y}} + 1} - y\\\\\n",
    "&= \\frac{-y-e^{\\hat{y}}(y-1)}{e^{ \\hat{y}} + 1}\n",
    "\\end{align}\n",
    "\n",
    "The gradient of loss is defined by (by using chain rule):\n",
    "\n",
    "\\begin{align}\n",
    "\\frac{\\partial}{\\partial \\theta }(\\textbf{L}) = \n",
    "\\frac{\\partial}{\\partial \\hat{y} }(\\textbf{L}) \\centerdot \\frac{\\partial}{\\partial \\theta}\\hat{y}(\\textbf{x}) \n",
    "\\end{align}\n",
    "\n"
   ]
  },
  {
   "cell_type": "code",
   "execution_count": 183,
   "metadata": {},
   "outputs": [],
   "source": [
    "def fmLoss(dataRDD, w) :\n",
    "    \"\"\"\n",
    "    Computes the logloss given the data and model W\n",
    "    dataRDD - array of features, label\n",
    "    \"\"\"\n",
    "    w_bc = sc.broadcast(w)\n",
    "    def probability_value(x,W): \n",
    "        xa = np.array([x])\n",
    "        V =  xa.dot(W)\n",
    "        V_square = (xa*xa).dot(W*W)\n",
    "        phi = 0.5*(V*V - V_square).sum()\n",
    "        return 1.0/(1.0 + np.exp(-phi))\n",
    "    \n",
    "    loss = dataRDD.map(lambda x:  (probability_value(x[1],w_bc.value), x[0])) \\\n",
    "        .map(lambda x: (1 - 1e-12, x[1]) if x[0] == 1 else ((1e-12, x[1]) if x[0] == 0  else (x[0],x[1]))) \\\n",
    "        .map(lambda x: -(x[1] * np.log(x[0]) + (1-x[1])*np.log(1-x[0]))).mean()\n",
    "    \n",
    "    #loss = dataRDD.map(lambda x: (probability_value(x[1],w_bc.value), x[0])) \\\n",
    "    #    .map(lambda x: (1 - 1e-12, x[1]) if x[0] == 1 else ((1e-12, x[1]) if x[0] == 0  else (x[0],x[1]))) \\\n",
    "    #    .map(lambda x: (np.log(np.exp(-x[0] * x[1]) + 1.0))).mean()\n",
    "    return loss"
   ]
  },
  {
   "cell_type": "code",
   "execution_count": 175,
   "metadata": {},
   "outputs": [],
   "source": [
    "def fmGradUpdate_v1(dataRDD, w, alpha, regParam):\n",
    "    \"\"\"\n",
    "    Computes the gradient and updates the model\n",
    "    \"\"\"\n",
    "    \n",
    "    G = np.zeros(np.shape(w))\n",
    "    w_bc = sc.broadcast(w)\n",
    "    a_bc = sc.broadcast(alpha)\n",
    "    def row_grad(x, y, W, regParam):\n",
    "        xa = np.array([x])\n",
    "        VX =  xa.dot(W)\n",
    "        VX_square = (xa*xa).dot(W*W)\n",
    "        phi = 0.5*(VX*VX - VX_square).sum()\n",
    "        #expnyt = np.exp(-y*phi)\n",
    "        expnyt = np.exp(phi)\n",
    "        #grad_loss = (-y*expnyt/(1+expnyt))*(xa.T.dot(xa).dot(W) - np.diag(np.square(x)).dot(W))\n",
    "        grad_loss = ((-y*(1+expnyt)+expnyt)/(1+expnyt))*(xa.T.dot(xa).dot(W) - np.diag(np.square(x)).dot(W))\n",
    "        return regParam*W + grad_loss\n",
    "    \n",
    "    \n",
    "    batchRDD = dataRDD.sample(False, 0.05, 2019)  \n",
    "    grad = batchRDD.map(lambda x: (1, row_grad(x[1], x[0], w_bc.value, regParam))).reduceByKey(lambda x,y: np.add(x,y))\n",
    "    model = w - alpha * grad.values().collect()[0] \n",
    "    \n",
    "    return model\n",
    "    "
   ]
  },
  {
   "cell_type": "code",
   "execution_count": 141,
   "metadata": {},
   "outputs": [],
   "source": [
    "def GradientDescent(trainRDD, testRDD, wInit, nSteps = 20, \n",
    "                    learningRate = 0.01, regParam = 0.01, verbose = False):\n",
    "    \"\"\"\n",
    "    Perform nSteps iterations of OLS gradient descent and \n",
    "    track loss on a test and train set. Return lists of\n",
    "    test/train loss and the models themselves.\n",
    "    \"\"\"\n",
    "    # initialize lists to track model performance\n",
    "    train_history, test_history, model_history = [], [], []\n",
    "    \n",
    "    # perform n updates & compute test and train loss after each\n",
    "    model = wInit\n",
    "    for idx in range(nSteps): \n",
    "        \n",
    "        ############## YOUR CODE HERE #############\n",
    "        model = fmGradUpdate_v1(trainRDD, model, learningRate, regParam)\n",
    "        training_loss = fmLoss(trainRDD, model) \n",
    "        test_loss = fmLoss(testRDD, model) \n",
    "        ############## (END) YOUR CODE #############\n",
    "        \n",
    "        # keep track of test/train loss for plotting\n",
    "        train_history.append(training_loss)\n",
    "        test_history.append(test_loss)\n",
    "        model_history.append(model)\n",
    "        \n",
    "        # console output if desired\n",
    "        if verbose:\n",
    "            print(\"----------\")\n",
    "            print(f\"STEP: {idx+1}\")\n",
    "            print(f\"training loss: {training_loss}\")\n",
    "            print(f\"test loss: {test_loss}\")\n",
    "            print(f\"Model: {[k for k in model]}\")\n",
    "   \n",
    "    return train_history, test_history, model_history"
   ]
  },
  {
   "cell_type": "code",
   "execution_count": 134,
   "metadata": {},
   "outputs": [],
   "source": [
    "def wInitialization(dataRDD, factor):\n",
    "    nrFeat = len(dataRDD.first()[1])\n",
    "    np.random.seed(int(time.time())) \n",
    "    w =  np.random.ranf((nrFeat, factor))\n",
    "    w = w / np.sqrt((w*w).sum())\n",
    "    \n",
    "    return w"
   ]
  },
  {
   "cell_type": "code",
   "execution_count": 191,
   "metadata": {},
   "outputs": [
    {
     "name": "stdout",
     "output_type": "stream",
     "text": [
      "----------\n",
      "STEP: 1\n",
      "training loss: 0.7536392855756345\n",
      "test loss: 0.7536392855756345\n",
      "Model: [array([ 0.3019366 , -0.00054303]), array([0.27366009, 0.28038548]), array([0.14388369, 0.09007453]), array([-1.98679280e-04,  1.98861723e-01]), array([0.21142496, 0.38674173]), array([0.1214665 , 0.37297174]), array([0.18728443, 0.17349496]), array([5.90805629e-03, 7.86576188e-05]), array([0.10990088, 0.02352681]), array([0.17049301, 0.06635538]), array([0.13618039, 0.19775829]), array([0.19881225, 0.20043139]), array([0.18650272, 0.0120811 ])]\n",
      "----------\n",
      "STEP: 2\n",
      "training loss: 0.7408351112563489\n",
      "test loss: 0.7408351112563489\n",
      "Model: [array([ 0.28925337, -0.01068995]), array([0.27710062, 0.28054819]), array([0.14265865, 0.08914883]), array([-0.01088328,  0.20180865]), array([0.21010433, 0.38801813]), array([0.12082174, 0.37339746]), array([0.16748   , 0.15979603]), array([-0.00071051, -0.00450033]), array([0.08980918, 0.00200253]), array([0.15715894, 0.06386169]), array([0.10986744, 0.18284675]), array([0.20022378, 0.2011662 ]), array([0.18820448, 0.003451  ])]\n",
      "----------\n",
      "STEP: 3\n",
      "training loss: 0.7295965395300504\n",
      "test loss: 0.7295965395300504\n",
      "Model: [array([ 0.27819086, -0.02006075]), array([0.28026285, 0.28050471]), array([0.14148792, 0.08824648]), array([-0.02013823,  0.20593288]), array([0.20865836, 0.38924915]), array([0.12026755, 0.37405552]), array([0.15211664, 0.14909659]), array([-0.00499904, -0.00743708]), array([ 0.07296364, -0.01661421]), array([0.14529723, 0.06226739]), array([0.08831006, 0.171244  ]), array([0.20130318, 0.20165006]), array([ 0.19256912, -0.00304628])]\n",
      "----------\n",
      "STEP: 4\n",
      "training loss: 0.7222603001074248\n",
      "test loss: 0.7222603001074248\n",
      "Model: [array([ 0.26850943, -0.0288058 ]), array([0.28319724, 0.28028385]), array([0.14035767, 0.08735669]), array([-0.02852164,  0.21081731]), array([0.20710935, 0.39043247]), array([0.11980917, 0.3749547 ]), array([0.14031143, 0.14081426]), array([-0.00755928, -0.00915458]), array([ 0.05849644, -0.03297615]), array([0.13462847, 0.06136035]), array([0.07057583, 0.16226232]), array([0.20204747, 0.20198557]), array([ 0.19873867, -0.00817392])]\n",
      "----------\n",
      "STEP: 5\n",
      "training loss: 0.7158760555726028\n",
      "test loss: 0.7158760555726028\n",
      "Model: [array([ 0.25998341, -0.03707141]), array([0.28594584, 0.27991066]), array([0.13925866, 0.08647272]), array([-0.03639014,  0.21618917]), array([0.2054794 , 0.39157171]), array([0.11947101, 0.37611032]), array([0.13128207, 0.13443436]), array([-0.0088445, -0.0099745]), array([ 0.04581529, -0.0475377 ]), array([0.12491138, 0.0609675 ]), array([0.055872 , 0.1553285]), array([0.20248028, 0.20224447]), array([ 0.20618306, -0.01240265])]\n",
      "----------\n",
      "STEP: 6\n",
      "training loss: 0.7108584380393287\n",
      "test loss: 0.7108584380393287\n",
      "Model: [array([ 0.25242041, -0.04498743]), array([0.288546  , 0.27941004]), array([0.13818506, 0.08559092]), array([-0.04397164,  0.22186882]), array([0.20379187, 0.39267763]), array([0.11927046, 0.37752622]), array([0.12437288, 0.12951622]), array([-0.0092039 , -0.01015368]), array([ 0.0344903 , -0.06064885]), array([0.11595607, 0.06096233]), array([0.04352493, 0.14996818]), array([0.20264577, 0.20247446]), array([ 0.21456082, -0.01603272])]\n",
      "----------\n",
      "STEP: 7\n",
      "training loss: 0.7068185385782714\n",
      "test loss: 0.7068185385782714\n",
      "Model: [array([ 0.24567153, -0.05265556]), array([0.29102877, 0.27880455]), array([0.13713303, 0.08470947]), array([-0.05141016,  0.22773685]), array([0.20206744, 0.39376338]), array([0.11921152, 0.37919263]), array([0.11908321, 0.12571532]), array([-0.00889475, -0.00988872]), array([ 0.02420931, -0.07258372]), array([0.10762318, 0.06126213]), array([0.03300523, 0.14581467]), array([0.2025927 , 0.20270385]), array([ 0.22364249, -0.01926122])]\n",
      "----------\n",
      "STEP: 8\n",
      "training loss: 0.7034874124505552\n",
      "test loss: 0.7034874124505552\n",
      "Model: [array([ 0.23962616, -0.06014979]), array([0.29341842, 0.27811298]), array([0.13609978, 0.08382743]), array([-0.05879535,  0.23371201]), array([0.20032206, 0.39484101]), array([0.11928842, 0.38109102]), array([0.11505045, 0.12277705]), array([-0.00809966, -0.00932406]), array([ 0.01474888, -0.08355549]), array([0.09981241, 0.06181722]), array([0.02391869, 0.1425963 ]), array([0.20236489, 0.20294767]), array([ 0.23326607, -0.02222138])]\n",
      "----------\n",
      "STEP: 9\n",
      "training loss: 0.7006869379057598\n",
      "test loss: 0.7006869379057598\n",
      "Model: [array([ 0.23420185, -0.0675228 ]), array([0.29573329, 0.27735029]), array([0.13508317, 0.08294432]), array([-0.06618124,  0.2397371 ]), array([0.19856706, 0.3959202 ]), array([0.11949056, 0.38319937]), array([0.11201525, 0.12051637]), array([-0.00694637, -0.00856373]), array([ 0.00595057, -0.09372947]), array([0.09245023, 0.06259987]), array([0.01597717, 0.14011355]), array([0.20199834, 0.20321301]), array([ 0.24331096, -0.02500559])]\n",
      "----------\n",
      "STEP: 10\n",
      "training loss: 0.6982973840078351\n",
      "test loss: 0.6982973840078351\n",
      "Model: [array([ 0.22933554, -0.07481249]), array([0.29798711, 0.27652824]), array([0.13408142, 0.08205992]), array([-0.07359819,  0.24577037]), array([0.19681003, 0.3970081 ]), array([0.11980578, 0.3854953 ]), array([0.10979004, 0.11879807]), array([-0.00552433, -0.00768228]), array([-0.00229765, -0.10323448]), array([0.08548083, 0.0635959 ]), array([0.00896913, 0.13821826]), array([0.20152149, 0.20350257]), array([ 0.25368281, -0.02767895])]\n",
      "----------\n",
      "STEP: 11\n",
      "training loss: 0.696251032602076\n",
      "test loss: 0.696251032602076\n",
      "Model: [array([ 0.22497739, -0.08204698]), array([0.30019015, 0.27565606]), array([0.13309304, 0.08117409]), array([-0.08106036,  0.25178031]), array([0.19505584, 0.39810965]), array([0.12022204, 0.38795777]), array([0.10823605, 0.11752168]), array([-0.00389682, -0.00673308]), array([-0.01007535, -0.11217176]), array([0.07886022, 0.06479935]), array([0.00273671, 0.13679821]), array([0.20095648, 0.20381678]), array([ 0.26430475, -0.03028757])]\n",
      "----------\n",
      "STEP: 12\n",
      "training loss: 0.6945422940708416\n",
      "test loss: 0.6945422940708416\n",
      "Model: [array([ 0.22108684, -0.08924797]), array([0.30235016, 0.27474112]), array([0.13211674, 0.08028683]), array([-0.08857081,  0.25774235]), array([0.1933075 , 0.39922799]), array([0.12072809, 0.39056768]), array([0.10724776, 0.11661112]), array([-0.0021093 , -0.00575431]), array([-0.01743965, -0.12062173]), array([0.07255261, 0.06620898]), array([-0.00284041,  0.13576657]), array([0.20032052, 0.20415495]), array([ 0.27511217, -0.03286384])]\n",
      "----------\n",
      "STEP: 13\n",
      "training loss: 0.693147344561954\n",
      "test loss: 0.693147344561954\n",
      "Model: [array([ 0.21763001, -0.09643294]), array([0.30447302, 0.27378938]), array([0.13115142, 0.07939815]), array([-0.09612501,  0.26363684]), array([0.19156679, 0.4003648 ]), array([0.12131368, 0.39330806]), array([0.10674267, 0.11600764]), array([-0.0001951, -0.0047731]), array([-0.02443246, -0.12864895]), array([0.06652811, 0.06782621]), array([-0.00785602,  0.13505472]), array([0.1996271 , 0.20451585]), array([ 0.28604975, -0.03543003])]\n",
      "----------\n",
      "STEP: 14\n",
      "training loss: 0.6919608069591198\n",
      "test loss: 0.6919608069591198\n",
      "Model: [array([ 0.21457808, -0.10361656]), array([0.30656329, 0.27280578]), array([0.13019612, 0.07850814]), array([-0.10371341,  0.26944769]), array([0.18983476, 0.40152071]), array([0.12196956, 0.39616401]), array([0.10665448, 0.11566506]), array([ 0.00182074, -0.0038085 ]), array([-0.03108551, -0.13630572]), array([0.06076124, 0.06965377]), array([-0.01238495,  0.13460744]), array([0.19888681, 0.2048981 ]), array([ 0.29706963, -0.03800081])]\n",
      "----------\n",
      "STEP: 15\n",
      "training loss: 0.6917473770093997\n",
      "test loss: 0.6917473770093997\n",
      "Model: [array([ 0.21190613, -0.11081166]), array([0.30862454, 0.27179449]), array([0.12925002, 0.07761689]), array([-0.11132335,  0.27516141]), array([0.18811199, 0.40269548]), array([0.12268737, 0.39912255]), array([0.10692857, 0.11554655]), array([ 0.00391885, -0.00287355]), array([-0.03742396, -0.14363485]), array([0.05522986, 0.07169485]), array([-0.01648813,  0.13437959]), array([0.19810806, 0.20530026]), array([ 0.30813031, -0.04058521])]\n",
      "----------\n",
      "STEP: 16\n",
      "training loss: 0.6907895986993506\n",
      "test loss: 0.6907895986993506\n",
      "Model: [array([ 0.20959236, -0.11802976]), array([0.31065959, 0.27075911]), array([0.12831242, 0.07672453]), array([-0.11894045,  0.28076651]), array([0.18639886, 0.40388825]), array([0.12345962, 0.40217239]), array([0.107519  , 0.11562231]), array([ 0.00608378, -0.00197681]), array([-0.04346884, -0.15067159]), array([0.04991443, 0.07395256]), array([-0.02021608,  0.13433378]), array([0.19729755, 0.20572096]), array([ 0.3191959 , -0.04318808])]\n",
      "----------\n",
      "STEP: 17\n",
      "training loss: 0.6899097834774035\n",
      "test loss: 0.6899097834774035\n",
      "Model: [array([ 0.20761747, -0.12528153]), array([0.31267068, 0.26970283]), array([0.1273827, 0.0758312]), array([-0.12654965,  0.28625305]), array([0.18469561, 0.4050977 ]), array([0.12427954, 0.40530381]), array([0.10838637, 0.11586797]), array([ 0.00830279, -0.00112352]), array([-0.04923863, -0.15744521]), array([0.04479744, 0.07642968]), array([-0.02361137,  0.13443867]), array([0.19646065, 0.20615887]), array([ 0.33023557, -0.04581115])]\n",
      "----------\n",
      "STEP: 18\n",
      "training loss: 0.6890262282800438\n",
      "test loss: 0.6890262282800438\n",
      "Model: [array([ 0.20596423, -0.13257698]), array([0.31465962, 0.26862851]), array([0.12646036, 0.07493705]), array([-0.1341358 ,  0.29161225]), array([0.18300246, 0.40632221]), array([0.12514104, 0.40850841]), array([0.10949643, 0.11626341]), array([ 0.01056509, -0.0003164 ]), array([-0.05475032, -0.16398016]), array([0.03986294, 0.07912843]), array([-0.0267103 ,  0.13466776]), array([0.19560168, 0.20661275]), array([ 0.341223  , -0.04845395])]\n",
      "----------\n",
      "STEP: 19\n",
      "training loss: 0.6882284752223484\n",
      "test loss: 0.6882284752223484\n",
      "Model: [array([ 0.20461711, -0.13992566]), array([0.31662781, 0.26753875]), array([0.12554494, 0.07404224]), array([-0.14168415,  0.29683629]), array([0.1813196, 0.4075599]), array([0.12603864, 0.41177896]), array([0.11081901, 0.11679182]), array([0.01286125, 0.00044366]), array([-0.06002002, -0.17029701]), array([0.03509623, 0.08205045]), array([-0.02954412,  0.1349985 ]), array([0.19472413, 0.20708142]), array([ 0.35213592, -0.05111436])]\n",
      "----------\n",
      "STEP: 20\n",
      "training loss: 0.687522603593467\n",
      "test loss: 0.687522603593467\n",
      "Model: [array([ 0.203562  , -0.14733671]), array([0.31857635, 0.26643596]), array([0.12463608, 0.07314692]), array([-0.14918053,  0.3019181 ]), array([0.1796472 , 0.40880878]), array([0.12696743, 0.41510921]), array([0.1123273 , 0.11743907]), array([0.01518292, 0.00115712]), array([-0.06506326, -0.17641313]), array([0.03048356, 0.08519675]), array([-0.03213986,  0.1354115 ]), array([0.19383079, 0.20756374]), array([ 0.36295559, -0.05378914])]\n",
      "----------\n",
      "STEP: 21\n",
      "training loss: 0.6868647382714883\n",
      "test loss: 0.6868647382714883\n",
      "Model: [array([ 0.20278596, -0.15481897]), array([0.32050605, 0.26532238]), array([0.12373346, 0.07225125]), array([-0.15661144,  0.30685117]), array([0.17798543, 0.41006677]), array([0.12792299, 0.41849378]), array([0.11399733, 0.1181932 ]), array([0.01752258, 0.00182537]), array([-0.06989515, -0.18234334]), array([0.026012  , 0.08856778]), array([-0.03452105,  0.13589006]), array([0.19292391, 0.2080586 ]), array([ 0.37366637, -0.05647426])]\n",
      "----------\n",
      "STEP: 22\n",
      "training loss: 0.6862536265265792\n",
      "test loss: 0.6862536265265792\n",
      "Model: [array([ 0.20227703, -0.16238096]), array([0.32241745, 0.26420011]), array([0.1228368, 0.0713554]), array([-0.16396409,  0.31162945]), array([0.17633442, 0.41133176]), array([0.12890138, 0.42192798]), array([0.11580753, 0.11904396]), array([0.01987338, 0.00245048]), array([-0.07453037, -0.18810026]), array([0.02166921, 0.09216345]), array([-0.03670819,  0.13641968]), array([0.19200528, 0.20856493]), array([ 0.3842552 , -0.05916515])]\n",
      "----------\n",
      "STEP: 23\n",
      "training loss: 0.6856896127206253\n",
      "test loss: 0.6856896127206253\n",
      "Model: [array([ 0.20202411, -0.17003089]), array([0.32431086, 0.26307116]), array([0.12194586, 0.07045953]), array([-0.17122635,  0.31624727]), array([0.17469428, 0.41260169]), array([0.12989906, 0.4254077 ]), array([0.11773842, 0.11998252]), array([0.02222905, 0.00303491]), array([-0.07898313, -0.1936948 ]), array([0.01744341, 0.09598318]), array([-0.03871913,  0.13698775]), array([0.19107634, 0.20908165]), array([ 0.3947112 , -0.06185694])]\n",
      "----------\n",
      "STEP: 24\n",
      "training loss: 0.685173560978053\n",
      "test loss: 0.685173560978053\n",
      "Model: [array([ 0.20201679, -0.17777666]), array([0.32618636, 0.2619374 ]), array([0.12106046, 0.0695638 ]), array([-0.17838675,  0.32069927]), array([0.17306506, 0.41387451]), array([0.13091289, 0.42892932]), array([0.11977237, 0.12100121]), array([0.02458384, 0.00358136]), array([-0.08326713, -0.19913636]), array([0.01332325, 0.10002603]), array([-0.04056941,  0.13758323]), array([0.19013822, 0.20960771]), array([ 0.40502532, -0.06454462])]\n",
      "----------\n",
      "STEP: 25\n",
      "training loss: 0.6847053532329717\n",
      "test loss: 0.6847053532329717\n",
      "Model: [array([ 0.20224532, -0.18562586]), array([0.32804386, 0.26080064]), array([0.12018041, 0.06866837]), array([-0.18543444,  0.32498033]), array([0.17144678, 0.41514827]), array([0.13194003, 0.43248962]), array([0.12189341, 0.1220933 ]), array([0.0269325 , 0.00409259]), array([-0.08739539, -0.20443313]), array([0.00929784, 0.10429064]), array([-0.04227256,  0.13819644]), array([0.18919181, 0.21014206]), array([ 0.41519001, -0.06722319])]\n",
      "----------\n",
      "STEP: 26\n",
      "training loss: 0.6843236771312016\n",
      "test loss: 0.6843236771312016\n",
      "Model: [array([ 0.20270048, -0.19358574]), array([0.32988307, 0.2596626 ]), array([0.11930556, 0.06777339]), array([-0.1923592 ,  0.32908561]), array([0.16983942, 0.41642111]), array([0.13297797, 0.43608569]), array([0.12408701, 0.12325286]), array([0.02927019, 0.00457138]), array([-0.09138027, -0.20959225]), array([0.00535664, 0.10877536]), array([-0.04384026,  0.13881891]), array([0.1882378 , 0.21068363]), array([ 0.42519895, -0.06988782])]\n",
      "----------\n",
      "STEP: 27\n",
      "training loss: 0.6839445224266513\n",
      "test loss: 0.6839445224266513\n",
      "Model: [array([ 0.20337355, -0.20166317]), array([0.33170354, 0.2585249 ]), array([0.11843578, 0.06687903]), array([-0.19915147,  0.3330105 ]), array([0.16824291, 0.41769127]), array([0.13402442, 0.43971488]), array([0.12634002, 0.12447459]), array([0.03159251, 0.00502038]), array([-0.09523333, -0.21462   ]), array([0.00148952, 0.11347826]), array([-0.04528262,  0.13944313]), array([0.18727673, 0.21123137]), array([ 0.43504688, -0.07253392])]\n",
      "----------\n",
      "STEP: 28\n",
      "training loss: 0.6836749531750745\n",
      "test loss: 0.6836749531750745\n",
      "Model: [array([ 0.20425625, -0.20986463]), array([0.33350471, 0.25738913]), array([0.11757096, 0.06598544]), array([-0.20580232,  0.33675063]), array([0.16665715, 0.41895711]), array([0.13507736, 0.44337473]), array([0.12864046, 0.12575374]), array([0.03389545, 0.0054421 ]), array([-0.0989653 , -0.21952189]), array([-0.00231328,  0.11839714]), array([-0.04660832,  0.14006252]), array([0.18630899, 0.21178422]), array([ 0.44472941, -0.07515729])]\n",
      "----------\n",
      "STEP: 29\n",
      "training loss: 0.6833742703870797\n",
      "test loss: 0.6833742703870797\n",
      "Model: [array([ 0.20534072, -0.21819619]), array([0.33528589, 0.25625677]), array([0.11671098, 0.06509279]), array([-0.21230354,  0.34030192]), array([0.16508204, 0.42021709]), array([0.13613492, 0.44706295]), array([0.13097749, 0.127086  ]), array([0.03617539, 0.00583889]), array([-0.10258609, -0.2243028 ]), array([-0.00606112,  0.12352955]), array([-0.04782482,  0.14067127]), array([0.18533491, 0.21234113]), array([ 0.45424293, -0.07775414])]\n",
      "----------\n",
      "STEP: 30\n",
      "training loss: 0.6831104444213877\n",
      "test loss: 0.6831104444213877\n",
      "Model: [array([ 0.20661946, -0.22666347]), array([0.33704631, 0.25512924]), array([0.11585574, 0.06420124]), array([-0.21864761,  0.34366055]), array([0.16351742, 0.42146983]), array([0.13719544, 0.45077737]), array([0.13334126, 0.12846745]), array([0.03842907, 0.00621288]), array([-0.10610474, -0.22896703]), array([-0.00976295,  0.12887279]), array([-0.04893845,  0.14126428]), array([0.1843547 , 0.21290102]), array([ 0.46358451, -0.08032119])]\n",
      "----------\n",
      "STEP: 31\n",
      "training loss: 0.682882629997767\n",
      "test loss: 0.682882629997767\n",
      "Model: [array([ 0.20808531, -0.23527165]), array([0.3387851 , 0.25400789]), array([0.11500516, 0.06331095]), array([-0.22482779,  0.346823  ]), array([0.16196316, 0.42271404]), array([0.13825736, 0.45451592]), array([0.13572285, 0.12989448]), array([0.04065358, 0.00656602]), array([-0.10952946, -0.23351841]), array([-0.01342727,  0.13442391]), array([-0.04995461,  0.14183704]), array([0.18336856, 0.21346284]), array([ 0.47275179, -0.0828557 ])]\n",
      "----------\n",
      "STEP: 32\n",
      "training loss: 0.6818490071349415\n",
      "test loss: 0.6818490071349415\n",
      "Model: [array([ 0.20973145, -0.24402536]), array([0.34050137, 0.25289401]), array([0.11415915, 0.0624221 ]), array([-0.23083805,  0.34978609]), array([0.16041911, 0.42394857]), array([0.13931928, 0.45827661]), array([0.13811423, 0.13136374]), array([0.04284634, 0.00690004]), array([-0.11286761, -0.23796032]), array([-0.01706214,  0.1401797 ]), array([-0.05087787,  0.14238563]), array([0.18237661, 0.2140255 ]), array([ 0.48174301, -0.08535546])]\n",
      "----------\n",
      "STEP: 33\n",
      "training loss: 0.6816916848185889\n",
      "test loss: 0.6816916848185889\n",
      "Model: [array([ 0.2115513 , -0.25292876]), array([0.34219418, 0.25178879]), array([0.11331764, 0.06153485]), array([-0.23667315,  0.35254696]), array([0.15888513, 0.42517239]), array([0.14037989, 0.4620575 ]), array([0.14050811, 0.13287212]), array([0.04500507, 0.00721651]), array([-0.1161258 , -0.24229573]), array([-0.02067515,  0.14613668]), array([-0.05171209,  0.14290659]), array([0.18137898, 0.21458793]), array([ 0.49055691, -0.08781881])]\n",
      "----------\n",
      "STEP: 34\n",
      "training loss: 0.6815690556071283\n",
      "test loss: 0.6815690556071283\n",
      "Model: [array([ 0.21353856, -0.26198541]), array([0.34386255, 0.25069335]), array([0.11248054, 0.06064938]), array([-0.24232859,  0.35510311]), array([0.15736109, 0.42638456]), array([0.14143797, 0.46585672]), array([0.14289796, 0.13441667]), array([0.0471278 , 0.00751684]), array([-0.11930989, -0.2465273 ]), array([-0.02427335,  0.15229105]), array([-0.05246053,  0.14339695]), array([0.18037575, 0.21514905]), array([ 0.49919268, -0.0902446 ])]\n",
      "----------\n",
      "STEP: 35\n",
      "training loss: 0.6814807990852204\n",
      "test loss: 0.6814807990852204\n",
      "Model: [array([ 0.21568715, -0.27119831]), array([0.34550553, 0.24960874]), array([0.11164778, 0.05976587]), array([-0.24780061,  0.35745238]), array([0.15584688, 0.42758429]), array([0.14249236, 0.46967241]), array([0.1452779 , 0.13599463]), array([0.04921283, 0.00780231]), array([-0.12242504, -0.25065733]), array([-0.02786328,  0.15863869]), array([-0.05312595,  0.14385412]), array([0.17936704, 0.21570775]), array([ 0.50764997, -0.0926322 ])]\n",
      "----------\n",
      "STEP: 36\n",
      "training loss: 0.6814266022149846\n",
      "test loss: 0.6814266022149846\n",
      "Model: [array([ 0.21799116, -0.28056983]), array([0.34712214, 0.24853593]), array([0.11081928, 0.05888451]), array([-0.25308617,  0.35959299]), array([0.15434242, 0.42877086]), array([0.143542  , 0.47350277]), array([0.14764268, 0.13760335]), array([0.05125867, 0.00807406]), array([-0.1254758 , -0.25468786]), array([-0.03145092,  0.16517513]), array([-0.0537107,  0.1442759]), array([0.17835295, 0.21626293]), array([ 0.51592885, -0.09498142])]\n",
      "----------\n",
      "STEP: 37\n",
      "training loss: 0.6814061528023916\n",
      "test loss: 0.6814061528023916\n",
      "Model: [array([ 0.22044486, -0.29010168]), array([0.34871144, 0.24747579]), array([0.10999497, 0.05800549]), array([-0.2581829 ,  0.36152353]), array([0.15284763, 0.42994368]), array([0.14458586, 0.47734599]), array([0.14998761, 0.1392403 ]), array([0.0532641 , 0.00833317]), array([-0.1284661 , -0.25862064]), array([-0.03504169,  0.1718955 ]), array([-0.05421678,  0.14466044]), array([0.17733361, 0.21681347]), array([ 0.52402974, -0.09729248])]\n",
      "----------\n",
      "STEP: 38\n",
      "training loss: 0.6814191398352255\n",
      "test loss: 0.6814191398352255\n",
      "Model: [array([ 0.22304262, -0.29979492]), array([0.3502725 , 0.24642912]), array([0.10917479, 0.05712901]), array([-0.26308909,  0.36324294]), array([0.15136248, 0.43110225]), array([0.14562297, 0.4812003 ]), array([0.15230853, 0.14090303]), array([0.05522807, 0.00858066]), array([-0.1313994 , -0.26245717]), array([-0.03864039,  0.17879455]), array([-0.05464596,  0.14500618]), array([0.17630915, 0.21735825]), array([ 0.53195342, -0.09956597])]\n",
      "----------\n",
      "STEP: 39\n",
      "training loss: 0.6814652580380142\n",
      "test loss: 0.6814652580380142\n",
      "Model: [array([ 0.22577891, -0.30964987]), array([0.35180444, 0.24539664]), array([0.10835865, 0.05625526]), array([-0.26780363,  0.36475055]), array([0.14988696, 0.43224616]), array([0.1466524 , 0.48506396]), array([0.15460176, 0.14258917]), array([0.0571497 , 0.00881752]), array([-0.13427863, -0.26619876]), array([-0.04225124,  0.18586657]), array([-0.05499976,  0.14531188]), array([0.17527975, 0.2178961 ]), array([ 0.53970098, -0.10180279])]\n",
      "----------\n",
      "STEP: 40\n",
      "training loss: 0.6815442153800919\n",
      "test loss: 0.6815442153800919\n",
      "Model: [array([ 0.22864825, -0.31966612]), array([0.3533064 , 0.24437897]), array([0.10754648, 0.05538447]), array([-0.27232601,  0.36604607]), array([0.14842107, 0.43337511]), array([0.14767328, 0.48893523]), array([0.15686405, 0.1442964 ]), array([0.05902827, 0.00904472]), array([-0.13710635, -0.26984647]), array([-0.04587783,  0.1931054 ]), array([-0.05527959,  0.14557657]), array([0.17424563, 0.21842587]), array([ 0.54727378, -0.10400409])]\n",
      "----------\n",
      "STEP: 41\n",
      "training loss: 0.6816557437094959\n",
      "test loss: 0.6816557437094959\n",
      "Model: [array([ 0.23164519, -0.32984248]), array([0.35477757, 0.24337667]), array([0.10673821, 0.05451683]), array([-0.27665624,  0.36712954]), array([0.14696485, 0.43448887]), array([0.14868475, 0.49281237]), array([0.1590926 , 0.14602245]), array([0.06086318, 0.00926326]), array([-0.13988471, -0.27340119]), array([-0.04952312,  0.2005044 ]), array([-0.05548676,  0.14579951]), array([0.17320702, 0.21894639]), array([ 0.55467343, -0.10617124])]\n",
      "----------\n",
      "STEP: 42\n",
      "training loss: 0.6817996163330103\n",
      "test loss: 0.6817996163330103\n",
      "Model: [array([ 0.23476424, -0.34017698]), array([0.3562172, 0.2423902]), array([0.10593376, 0.05365259]), array([-0.28079485,  0.3680014 ]), array([0.14551837, 0.43558732]), array([0.14968601, 0.49669367]), array([0.16128494, 0.14776509]), array([0.06265392, 0.0094742 ]), array([-0.14261553, -0.27686365]), array([-0.05318946,  0.20805646]), array([-0.05562249,  0.14598021]), array([0.17216421, 0.21945645]), array([ 0.56190178, -0.10830577])]\n",
      "----------\n",
      "STEP: 43\n",
      "training loss: 0.6819756876655052\n",
      "test loss: 0.6819756876655052\n",
      "Model: [array([ 0.23799992, -0.35066683]), array([0.35762458, 0.24141995]), array([0.10513306, 0.05279196]), array([-0.28474283,  0.36866248]), array([0.14408171, 0.43667042]), array([0.1506763 , 0.50057743]), array([0.16343899, 0.14952211]), array([0.06440007, 0.00967864]), array([-0.14530034, -0.28023441]), array([-0.05687855,  0.21575396]), array([-0.05568802,  0.14611842]), array([0.17111752, 0.21995486]), array([ 0.56896083, -0.11040933])]\n",
      "----------\n",
      "STEP: 44\n",
      "training loss: 0.6821840056047997\n",
      "test loss: 0.6821840056047997\n",
      "Model: [array([ 0.24134665, -0.36130843]), array([0.35899906, 0.24046622]), array([0.10433603, 0.05193519]), array([-0.28850161,  0.36911393]), array([0.14265497, 0.4377382 ]), array([0.15165487, 0.50446196]), array([0.16555297, 0.15129133]), array([0.06610126, 0.00987778]), array([-0.14794038, -0.2835139 ]), array([-0.06059148,  0.22358879]), array([-0.05568455,  0.14621407]), array([0.17006733, 0.22044039]), array([ 0.57585279, -0.11248367])]\n",
      "----------\n",
      "STEP: 45\n",
      "training loss: 0.6824251576410344\n",
      "test loss: 0.6824251576410344\n",
      "Model: [array([ 0.24479876, -0.37209735]), array([0.36034005, 0.23952925]), array([0.10354259, 0.05108252]), array([-0.29207307,  0.36935731]), array([0.14123826, 0.43879082]), array([0.15262106, 0.50834557]), array([0.16762539, 0.15307058]), array([0.06775717, 0.0100729 ]), array([-0.15053666, -0.28670243]), array([-0.06432873,  0.23155238]), array([-0.05561334,  0.14626731]), array([0.16901405, 0.22091183]), array([ 0.58257995, -0.11453056])]\n",
      "----------\n",
      "STEP: 46\n",
      "training loss: 0.6827013155824139\n",
      "test loss: 0.6827013155824139\n",
      "Model: [array([ 0.2483505 , -0.38302831]), array([0.36164699, 0.23860921]), array([0.10275265, 0.05023421]), array([-0.29545943,  0.36939454]), array([0.13983171, 0.43982847]), array([0.15357419, 0.51222661]), array([0.16965505, 0.1548577 ]), array([0.06936748, 0.01026543]), array([-0.15308999, -0.28980019]), array([-0.06809016,  0.23963567]), array([-0.05547569,  0.14627845]), array([0.16795814, 0.22136795]), array([ 0.58914475, -0.1165518 ])]\n",
      "----------\n",
      "STEP: 47\n",
      "training loss: 0.6830188634184334\n",
      "test loss: 0.6830188634184334\n",
      "Model: [array([ 0.25199598, -0.39409524]), array([0.36291942, 0.23770617]), array([0.10196614, 0.04939051]), array([-0.29866331,  0.36922793]), array([0.13843545, 0.44085148]), array([0.15451367, 0.51610343]), array([0.17164099, 0.15665056]), array([0.07093189, 0.01045689]), array([-0.15560094, -0.29280733]), array([-0.07187508,  0.24782918]), array([-0.05527295,  0.146248  ]), array([0.16690012, 0.22180753]), array([ 0.59554969, -0.11854915])]\n",
      "----------\n",
      "STEP: 48\n",
      "training loss: 0.6833913423643502\n",
      "test loss: 0.6833913423643502\n",
      "Model: [array([ 0.2557292 , -0.40529127]), array([0.3641569 , 0.23682018]), array([0.10118296, 0.04855169]), array([-0.30168767,  0.36886015]), array([0.13704962, 0.44186022]), array([0.15543893, 0.5199744 ]), array([0.17358248, 0.15844701]), array([0.07245011, 0.01064897]), array([-0.15806995, -0.29572387]), array([-0.07568222,  0.25612304]), array([-0.05500656,  0.14617661]), array([0.16584054, 0.22222935]), array([ 0.60179737, -0.12052438])]\n",
      "----------\n",
      "STEP: 49\n",
      "training loss: 0.6838317758865755\n",
      "test loss: 0.6838317758865755\n",
      "Model: [array([ 0.25954401, -0.41660873]), array([0.36535908, 0.2359512 ]), array([0.10040304, 0.04771803]), array([-0.3045358 ,  0.36829424]), array([0.13567434, 0.44285517]), array([0.15634944, 0.52383792]), array([0.17547899, 0.16024496]), array([0.07392181, 0.01084347]), array([-0.16049725, -0.29854984]), array([-0.07950977,  0.26450701]), array([-0.05467802,  0.1460651 ]), array([0.16477999, 0.22263221]), array([ 0.60789039, -0.12247914])]\n",
      "----------\n",
      "STEP: 50\n",
      "training loss: 0.6843358558111888\n",
      "test loss: 0.6843358558111888\n",
      "Model: [array([ 0.26343414, -0.42803925]), array([0.36652563, 0.23509914]), array([0.09962627, 0.04688981]), array([-0.3072113 ,  0.36753364]), array([0.13430974, 0.44383689]), array([0.15724473, 0.5276924 ]), array([0.17733018, 0.16204231]), array([0.07534665, 0.01104235]), array([-0.16288296, -0.30128518]), array([-0.08335544,  0.27297055]), array([-0.05428895,  0.14591441]), array([0.16371911, 0.22301493]), array([ 0.61383142, -0.12441505])]\n",
      "\n",
      "... trained 50 iterations in 35.84868574142456 seconds\n",
      "[[ 0.26343414 -0.42803925]\n",
      " [ 0.36652563  0.23509914]\n",
      " [ 0.09962627  0.04688981]\n",
      " [-0.3072113   0.36753364]\n",
      " [ 0.13430974  0.44383689]\n",
      " [ 0.15724473  0.5276924 ]\n",
      " [ 0.17733018  0.16204231]\n",
      " [ 0.07534665  0.01104235]\n",
      " [-0.16288296 -0.30128518]\n",
      " [-0.08335544  0.27297055]\n",
      " [-0.05428895  0.14591441]\n",
      " [ 0.16371911  0.22301493]\n",
      " [ 0.61383142 -0.12441505]]\n"
     ]
    }
   ],
   "source": [
    "start = time.time()\n",
    "wInit = wInitialization(normedRDD, 2)\n",
    "#print(wInit)\n",
    "logerr_train, logerr_test, models = GradientDescent(normedRDD, normedRDD, wInit, nSteps = 50,\n",
    "                                                    learningRate = 0.001, regParam = 0.01, verbose = False)\n",
    "print(f\"\\n... trained {len(models)} iterations in {time.time() - start} seconds\")\n",
    "print(models[-1])"
   ]
  },
  {
   "cell_type": "code",
   "execution_count": 192,
   "metadata": {},
   "outputs": [
    {
     "name": "stdout",
     "output_type": "stream",
     "text": [
      "The estimated model is: [[ 0.26343414 -0.42803925]\n",
      " [ 0.36652563  0.23509914]\n",
      " [ 0.09962627  0.04688981]\n",
      " [-0.3072113   0.36753364]\n",
      " [ 0.13430974  0.44383689]\n",
      " [ 0.15724473  0.5276924 ]\n",
      " [ 0.17733018  0.16204231]\n",
      " [ 0.07534665  0.01104235]\n",
      " [-0.16288296 -0.30128518]\n",
      " [-0.08335544  0.27297055]\n",
      " [-0.05428895  0.14591441]\n",
      " [ 0.16371911  0.22301493]\n",
      " [ 0.61383142 -0.12441505]]\n",
      "The loss of the estimated model is: 0.6843358558111888\n",
      "\n",
      "\n"
     ]
    },
    {
     "data": {
      "image/png": "[encoded data removed]",
      "text/plain": [
       "<Figure size 432x288 with 1 Axes>"
      ]
     },
     "metadata": {},
     "output_type": "display_data"
    }
   ],
   "source": [
    "print(f\"The estimated model is: {models[-1]}\")\n",
    "print(f\"The loss of the estimated model is: {logerr_train[-1]}\")\n",
    "print()\n",
    "print()\n",
    "plt.plot(logerr_train)\n",
    "plt.title('Loss')\n",
    "plt.show()"
   ]
  },
  {
   "cell_type": "code",
   "execution_count": 97,
   "metadata": {},
   "outputs": [],
   "source": [
    "def fmMakePrediction(dataRDD, w):\n",
    "    \"\"\"\n",
    "    Perform one regularized gradient descent step/update.\n",
    "    Args:\n",
    "        dataRDD - records are tuples of (y, features_array)\n",
    "        W       - (array) model coefficients with bias at index 0\n",
    "    Returns:\n",
    "        pred - (rdd) predicted targets\n",
    "    \"\"\"\n",
    "    w_bc = sc.broadcast(w)\n",
    "    def predict_fm(x, W):\n",
    "        xa = np.array([x])\n",
    "        VX =  xa.dot(W)\n",
    "        VX_square = (xa*xa).dot(W*W)\n",
    "        phi = 0.5*(VX*VX - VX_square).sum()\n",
    "        return phi\n",
    "    \n",
    "    # compute prediction\n",
    "    pred = dataRDD.map(lambda x: int(predict_fm(x[1],w_bc.value)>0.5) )\n",
    "   \n",
    "    return pred"
   ]
  },
  {
   "cell_type": "code",
   "execution_count": 193,
   "metadata": {},
   "outputs": [
    {
     "name": "stdout",
     "output_type": "stream",
     "text": [
      "number of true positives is 2182.0\n",
      "number of predicted positives is 124\n"
     ]
    }
   ],
   "source": [
    "print(f'number of true positives is {normedRDD.map(lambda x: x[0]).sum()}')\n",
    "res = fmMakePrediction(normedRDD, models[-1]).cache()\n",
    "print(f'number of predicted positives is {res.sum()}')"
   ]
  },
  {
   "cell_type": "markdown",
   "metadata": {},
   "source": [
    "## 4.1 Adding Categorical Variables"
   ]
  },
  {
   "cell_type": "markdown",
   "metadata": {},
   "source": [
    "### Summary\n",
    "The earlier section showed a logistic regression model with numerical variables only. In this section, we incrementally add categorical variables and redo the logistic regression model on a small data set. Categorical variables present a challenge because each of them can have a million different values thereby creating millions of dimensions. To get around \"the curse of dimensionality\", we looked at quite a few methods to reduce the dimensions to a manageable level. This includes frequency based dimensionality reduction and hashing techniques at a feature level and at a collection of features. "
   ]
  },
  {
   "cell_type": "markdown",
   "metadata": {},
   "source": [
    "### \"The curse of dimensionality\" with categorical variables\n",
    "Below, we take a look at the number of dimensions in the train_sample dataset for each categorical variable"
   ]
  },
  {
   "cell_type": "code",
   "execution_count": 160,
   "metadata": {},
   "outputs": [
    {
     "name": "stdout",
     "output_type": "stream",
     "text": [
      "Column _15 has 541 unique categorical values\n",
      "Column _16 has 497 unique categorical values\n",
      "Column _17 has 43870 unique categorical values\n",
      "Column _18 has 25184 unique categorical values\n",
      "Column _19 has 145 unique categorical values\n",
      "Column _20 has 12 unique categorical values\n",
      "Column _21 has 7623 unique categorical values\n",
      "Column _22 has 257 unique categorical values\n",
      "Column _23 has 3 unique categorical values\n",
      "Column _24 has 10997 unique categorical values\n",
      "Column _25 has 3799 unique categorical values\n",
      "Column _26 has 41312 unique categorical values\n",
      "Column _27 has 2796 unique categorical values\n",
      "Column _28 has 26 unique categorical values\n",
      "Column _29 has 5238 unique categorical values\n",
      "Column _30 has 34617 unique categorical values\n",
      "Column _31 has 10 unique categorical values\n",
      "Column _32 has 2548 unique categorical values\n",
      "Column _33 has 1303 unique categorical values\n",
      "Column _34 has 4 unique categorical values\n",
      "Column _35 has 38618 unique categorical values\n",
      "Column _36 has 11 unique categorical values\n",
      "Column _37 has 14 unique categorical values\n",
      "Column _38 has 12335 unique categorical values\n",
      "Column _39 has 51 unique categorical values\n",
      "Column _40 has 9527 unique categorical values\n",
      "Total number of distinct categorical variables in train_sample is: 241338\n"
     ]
    }
   ],
   "source": [
    "# number of unique categorical values\n",
    "from pyspark.sql.functions import col\n",
    "distCatVarCnt = 0\n",
    "for col in train_sample.columns[14:]:\n",
    "    cnt = train_sample.select(col).distinct().count()\n",
    "    print('Column ' + col + ' has ' + str(cnt) \\\n",
    "          + ' unique categorical values')\n",
    "    distCatVarCnt += cnt\n",
    "print(\"Total number of distinct categorical variables in train_sample is:\", distCatVarCnt)"
   ]
  },
  {
   "cell_type": "markdown",
   "metadata": {},
   "source": [
    "As we can see above, the number of unique categorical variables is close to 3 million just for the train_sample dataset. We need to look into reducing the dimensionality without losing too much of information."
   ]
  },
  {
   "cell_type": "markdown",
   "metadata": {},
   "source": [
    "### 4.1.1 Per column frequency based dimensionality reduction\n",
    "\n",
    "One possible methold is to figure out if there are any frequent values in these categorical variables and choose the top 15 of them. If they make up nearly 100% of the values, then we can lump the rest under \"Other\" and come up with 16 column bins. This is a compute intensive operation as we try to figure out the top 15 values for each column and their contribution to the total count"
   ]
  },
  {
   "cell_type": "code",
   "execution_count": 161,
   "metadata": {},
   "outputs": [
    {
     "name": "stdout",
     "output_type": "stream",
     "text": [
      "   col                                       top15_values  top15_pct_contribution\n",
      "0   14  [05db9164, 68fd1e64, 5a9ed9b0, 8cf07265, be589...                  93.788\n",
      "1   15  [38a947a1, 09e68b86, 80e26c9b, 38d50e09, 28713...                  51.167\n",
      "2   16  [, d032c263, b00d1501, 02cf9876, aa8c1539, 77f...                  20.675\n",
      "3   17  [c18be181, d16679b9, , 85dd697c, 13508380, f92...                  27.756\n",
      "4   18  [25c83c98, 4cf72387, 43b19349, 384874ce, 30903...                  98.839\n",
      "5   19  [7e0ccccf, fbad5c96, , fe6b92e5, 13718bbd, 6f6...                 100.000\n",
      "6   20  [3f4ec687, 49b74ebc, 7195046d, 970f01b2, 88002...                   9.373\n",
      "7   21  [0b153874, 5b392875, 1f89b562, 37e4aa92, 062b5...                  97.351\n",
      "8   22                     [a73ee510, 7cc72ec2, a18233ea]                 100.000\n",
      "9   23  [3b08e48b, fbbf2c95, efea433b, 6c47047a, 0e9ea...                  34.346\n",
      "10  24  [c4adf918, 7f8ffe57, e51ddf94, 4d8549da, f25fe...                  13.919\n",
      "11  25  [, dfbb09fb, e0d76380, 8fe001f4, d8c29807, 9f3...                  21.235\n",
      "12  26  [85dbe138, 46f42a63, 3516f6e6, 51b97b8f, 80467...                  16.194\n",
      "13  27  [07d13a8f, b28479f6, 1adce6ef, 64c94865, cfef1...                  99.644\n",
      "14  28  [36721ddc, 52baadf5, 42b3012c, 10040656, dbc5e...                  13.778\n",
      "15  29  [, 84898b2a, 1203a270, 36103458, 31ca40b6, c64...                  21.940\n",
      "16  30  [e5ba7672, 07c540c4, d4bb7bd8, 3486227d, 776ce...                 100.000\n",
      "17  31  [5aed7436, 891589e7, e88ffc9d, 582152eb, 7ef5a...                  29.133\n",
      "18  32  [, 21ddcdc9, 55dd3565, cf99e5de, 9437f62f, 1d1...                  84.109\n",
      "19  33                   [, 5840adea, a458ea53, b1252a9d]                 100.000\n",
      "20  34  [, 0014c32a, 73d06dde, e587c466, 5f957280, dfc...                  21.631\n",
      "21  35  [, ad3062eb, c9d4222a, 8ec974f4, 78e2e389, c00...                 100.000\n",
      "22  36  [32c7478e, 3a171ecb, 423fab69, be7c41b4, bcdee...                 100.000\n",
      "23  37  [1793a828, 3fdb382b, 3b183c5c, aee52b6f, , b34...                  41.412\n",
      "24  38  [, e8b83407, 001f3601, ea9a246c, 010f6491, cb0...                  97.321\n",
      "25  39  [, 49d68486, c84c4aec, 2fede552, 984e0db0, b7d...                  59.652\n"
     ]
    }
   ],
   "source": [
    "train_sample_rdd = sc.textFile('data/sample_training.txt')\n",
    "testRdd = sc.parallelize(train_sample_rdd.take(100000))\n",
    "\n",
    "#rddLen = testRdd.count()\n",
    "rddLen = train_sample_rdd.count()\n",
    "\n",
    "top15FreqList = dict()\n",
    "top15FreqPercent = dict()\n",
    "\n",
    "top15df = pd.DataFrame(columns=['col', 'top15_values', 'top15_pct_contribution'])\n",
    "\n",
    "for col in range(14,40):\n",
    "    #col = \"_\"+str(c)\n",
    "    catRdd = train_sample_rdd.map(lambda x: x.split('\\t')[col]) \\\n",
    "                             .map(lambda x: (x,1)) \\\n",
    "                             .reduceByKey(lambda x,y: x + y)\n",
    "    freqRecord = catRdd.takeOrdered(15, key=lambda x: -x[1])\n",
    "    freqList = []\n",
    "    freqCnt = 0\n",
    "    for (k,v) in freqRecord:\n",
    "        freqCnt += v\n",
    "        freqList.append(str(k))\n",
    "    #top15FreqList[col] = freqList\n",
    "    #top15FreqPercent[col] = 100* freqCnt / rddLen\n",
    "    top15df = top15df.append({'col': col, 'top15_values': freqList, 'top15_pct_contribution': 100*freqCnt/rddLen}, ignore_index=True)\n",
    "    #cnt = catRdd.count()\n",
    "    #print (\"Top 15 values for column\", col, \"namely: \", top15FreqList[col], \"make up \", top15FreqPercent[col], \" of the values\")\n",
    "    \n",
    "print(top15df.to_string())"
   ]
  },
  {
   "cell_type": "markdown",
   "metadata": {},
   "source": [
    "From the above analysis, we can see that the categorical variables in some of the columns account for almost 100% of all values. These include columns 14, 18, 19, 21, 22, 27, 30, 32, 33, 35, 36 and 38. For these 11 columns, it would make sense to keep the top 15 values and lump everything else under an \"Other\" column.\n",
    "\n",
    "For the rest of the columns that don't exhibit this behavior, it might make sense to look at other strategies such as hashing to reduce dimensionality. Before we take this approach of using both the frequency related information and hashing, let's first take a look at hashing all columns next."
   ]
  },
  {
   "cell_type": "markdown",
   "metadata": {},
   "source": [
    "### 4.1.2 Per column Feature Hashing\n",
    "There are 26 categorical features in this model represented by strings that are 8 bytes long. So, theoretically, each string can take $2^{64} -1$ different values and lead to that many dimensions. We need to have far fewer dimensions so that we can make the problem computationally achievable and as well lead to a generalized algorithm as well. One way of achieving this is through what is popularly called the \"hashing trick\" (provide references). \n",
    "\n",
    "A simple way to reduce dimensionality is to hash the 8 byte long strings into, say 16 or 32 groups. We used the murmurHash3 hashing which is generally the preferred way of hashing strings (provide references and more details). Hashing leads to collisions as many strings could end up hashing to the same hash value. However, it has been proven (references) that even with collisions, hashing leads to very generalized models.\n",
    "\n",
    "One the categorical variables are hashed down to, say 16 values, they are then 1-hot encoded and fed into the logistic regression model. This section presents the results with the inclusion of 27 categorical variables, each individually hashed to 16 values, in addition to the numerical variables in the earlier section. "
   ]
  },
  {
   "cell_type": "code",
   "execution_count": 162,
   "metadata": {},
   "outputs": [
    {
     "name": "stdout",
     "output_type": "stream",
     "text": [
      "Requirement already satisfied: murmurhash3 in /opt/anaconda/lib/python3.6/site-packages (2.3.5)\n",
      "\u001b[31mtwisted 18.7.0 requires PyHamcrest>=1.9.0, which is not installed.\u001b[0m\n",
      "\u001b[33mYou are using pip version 10.0.1, however version 19.2.1 is available.\n",
      "You should consider upgrading via the 'pip install --upgrade pip' command.\u001b[0m\n"
     ]
    }
   ],
   "source": [
    "#Install murmurhash3 if needed\n",
    "!pip install murmurhash3\n",
    "import mmh3"
   ]
  },
  {
   "cell_type": "code",
   "execution_count": 163,
   "metadata": {},
   "outputs": [],
   "source": [
    "#Read in the complete dataset\n",
    "train_sample_rdd = sc.textFile('data/sample_training.txt')\n",
    "\n",
    "#Get the top 1000 rows only (as before for numerical variables)\n",
    "testRdd = sc.parallelize(train_sample_rdd.take(10000),1)"
   ]
  },
  {
   "cell_type": "code",
   "execution_count": 164,
   "metadata": {},
   "outputs": [
    {
     "data": {
      "text/plain": [
       "[array([0, 1, 0, 0, 0, 0, 0, 0, 0, 0, 0, 0, 0, 0, 0, 0, 0, 0, 1, 0, 0, 0,\n",
       "        0, 0, 0, 0, 0, 0, 0, 0, 0, 0, 1, 0, 0, 0, 0, 0, 0, 0, 0, 0, 0, 0,\n",
       "        0, 0, 0, 0, 0, 0, 0, 0, 0, 1, 0, 0, 0, 0, 0, 0, 0, 0, 0, 0, 0, 0,\n",
       "        0, 0, 0, 0, 0, 0, 0, 1, 0, 0, 0, 0, 0, 0, 0, 0, 0, 0, 0, 0, 0, 0,\n",
       "        0, 0, 1, 0, 0, 0, 0, 0, 0, 0, 0, 0, 0, 0, 0, 0, 1, 0, 0, 0, 0, 0,\n",
       "        0, 0, 0, 0, 0, 0, 0, 0, 0, 1, 0, 0, 0, 0, 0, 0, 0, 0, 0, 0, 0, 0,\n",
       "        0, 0, 0, 0, 0, 0, 0, 0, 1, 0, 0, 0, 0, 0, 0, 0, 0, 0, 0, 0, 0, 0,\n",
       "        0, 0, 0, 0, 1, 0, 0, 0, 0, 0, 0, 0, 0, 0, 0, 0, 0, 0, 0, 0, 1, 0,\n",
       "        0, 0, 0, 0, 0, 0, 0, 0, 0, 0, 0, 0, 0, 0, 1, 0, 0, 0, 0, 0, 0, 0,\n",
       "        1, 0, 0, 0, 0, 0, 0, 0, 0, 0, 1, 0, 0, 0, 0, 0, 0, 0, 0, 0, 0, 0,\n",
       "        0, 0, 0, 0, 0, 0, 0, 0, 0, 0, 0, 0, 0, 0, 0, 0, 1, 0, 0, 0, 1, 0,\n",
       "        0, 0, 0, 0, 0, 0, 0, 0, 0, 0, 0, 0, 0, 0, 0, 0, 0, 0, 0, 0, 0, 0,\n",
       "        0, 0, 0, 0, 0, 0, 0, 1, 0, 0, 0, 0, 0, 0, 0, 0, 0, 1, 0, 0, 0, 0,\n",
       "        0, 0, 0, 0, 0, 0, 0, 0, 1, 0, 0, 0, 0, 0, 0, 0, 0, 0, 0, 0, 0, 0,\n",
       "        0, 0, 0, 0, 0, 0, 0, 0, 0, 0, 0, 1, 0, 0, 0, 0, 0, 0, 1, 0, 0, 0,\n",
       "        0, 0, 0, 0, 0, 0, 1, 0, 0, 0, 0, 0, 0, 0, 0, 0, 0, 0, 0, 0, 0, 0,\n",
       "        0, 0, 0, 0, 1, 0, 0, 0, 0, 0, 0, 0, 0, 0, 0, 0, 0, 0, 0, 0, 0, 0,\n",
       "        1, 0, 0, 0, 0, 0, 0, 0, 0, 0, 0, 0, 0, 0, 0, 0, 0, 0, 0, 0, 0, 0,\n",
       "        0, 1, 0, 0, 0, 0, 0, 0, 0, 0, 0, 0, 0, 0, 0, 0, 0, 1, 0, 0]),\n",
       " array([0, 1, 0, 0, 0, 0, 0, 0, 0, 0, 0, 0, 0, 0, 0, 0, 0, 0, 0, 0, 0, 0,\n",
       "        1, 0, 0, 0, 0, 0, 0, 0, 0, 0, 0, 0, 0, 0, 0, 0, 0, 0, 0, 0, 0, 0,\n",
       "        0, 1, 0, 0, 0, 0, 0, 0, 0, 1, 0, 0, 0, 0, 0, 0, 0, 0, 0, 0, 0, 0,\n",
       "        0, 0, 0, 0, 0, 0, 0, 1, 0, 0, 0, 0, 0, 0, 0, 0, 0, 0, 0, 1, 0, 0,\n",
       "        0, 0, 0, 0, 0, 0, 0, 0, 0, 0, 0, 0, 0, 0, 0, 0, 0, 0, 0, 0, 0, 0,\n",
       "        1, 0, 0, 0, 0, 0, 0, 0, 1, 0, 0, 0, 0, 0, 0, 0, 0, 0, 0, 0, 0, 0,\n",
       "        0, 0, 0, 0, 0, 0, 0, 0, 1, 0, 0, 0, 0, 1, 0, 0, 0, 0, 0, 0, 0, 0,\n",
       "        0, 0, 0, 0, 0, 0, 0, 0, 0, 0, 0, 0, 0, 0, 0, 0, 1, 0, 0, 0, 0, 0,\n",
       "        1, 0, 0, 0, 0, 0, 0, 0, 0, 0, 0, 0, 0, 0, 0, 0, 0, 0, 0, 0, 0, 0,\n",
       "        1, 0, 0, 0, 0, 0, 0, 0, 0, 0, 0, 0, 0, 0, 0, 0, 0, 0, 1, 0, 0, 0,\n",
       "        0, 0, 0, 0, 0, 0, 0, 0, 0, 0, 0, 1, 0, 0, 0, 0, 0, 0, 0, 0, 0, 0,\n",
       "        0, 0, 0, 0, 0, 0, 1, 0, 0, 0, 0, 0, 0, 0, 0, 0, 0, 0, 0, 0, 0, 0,\n",
       "        1, 0, 0, 0, 0, 0, 0, 0, 0, 0, 0, 0, 0, 0, 0, 0, 1, 0, 0, 0, 0, 0,\n",
       "        0, 0, 0, 0, 0, 0, 0, 0, 1, 0, 0, 0, 0, 0, 0, 0, 0, 0, 0, 0, 0, 0,\n",
       "        0, 0, 0, 0, 1, 0, 0, 0, 0, 0, 0, 0, 0, 1, 0, 0, 0, 0, 0, 0, 0, 0,\n",
       "        0, 0, 0, 0, 0, 0, 1, 0, 0, 0, 0, 0, 0, 0, 0, 0, 0, 0, 0, 0, 0, 0,\n",
       "        0, 0, 0, 0, 1, 0, 0, 0, 0, 0, 0, 0, 0, 0, 0, 0, 0, 0, 1, 0, 0, 0,\n",
       "        0, 0, 0, 0, 0, 0, 0, 0, 0, 0, 0, 0, 0, 0, 0, 0, 0, 0, 0, 0, 0, 0,\n",
       "        0, 1, 0, 0, 0, 0, 0, 0, 0, 0, 0, 0, 0, 0, 0, 0, 0, 0, 1, 0])]"
      ]
     },
     "execution_count": 164,
     "metadata": {},
     "output_type": "execute_result"
    }
   ],
   "source": [
    "def createHash (elem,hlen):\n",
    "    import mmh3\n",
    "    hashStr = []\n",
    "    for str in elem:\n",
    "        hashStr.append(mmh3.hash(str) % int(hlen))\n",
    "    return(hashStr)\n",
    "\n",
    "def create1Hot(elem, hlen):\n",
    "    oneHotStr = []\n",
    "    #for hashStr in elem:\n",
    "    for i in range (hlen):\n",
    "        if (i == elem):\n",
    "            oneHotStr.append(1)\n",
    "        else:\n",
    "            oneHotStr.append(0)\n",
    "    return(oneHotStr)\n",
    "\n",
    "def createCatArray(elem):\n",
    "    catArray = []\n",
    "    for array in elem:\n",
    "        for x in array:\n",
    "            catArray.append(x)\n",
    "    return(np.array(catArray))\n",
    "\n",
    "#Define murmurHash level for 1-hot encoding\n",
    "HASHLEN = 16\n",
    "\n",
    "#testRdd.map(lambda x : x.split('\\t')[14:40]).map(lambda x: [mmh3.hash(xn)%16 for xn in x]).take(5)\n",
    "categoricalRdd = testRdd.map(lambda x : x.split('\\t')[14:40]) \\\n",
    "                        .map(lambda x: createHash(x,HASHLEN)) \\\n",
    "                        .map(lambda x: [create1Hot(xn, HASHLEN) for xn in x]) \\\n",
    "                        .map(createCatArray)\n",
    "categoricalRdd.take(2)"
   ]
  },
  {
   "cell_type": "code",
   "execution_count": 168,
   "metadata": {},
   "outputs": [
    {
     "data": {
      "text/plain": [
       "[(0.0, array([-0.45879823, -0.24774127, -0.04629014, -0.85019922, -0.24482546,\n",
       "         -0.40934022, -0.02096037, -0.63143545,  0.18286248,  0.7486028 ,\n",
       "         -0.10449796,  0.01324891, -0.49600354,  0.        ,  1.        ,\n",
       "          0.        ,  0.        ,  0.        ,  0.        ,  0.        ,\n",
       "          0.        ,  0.        ,  0.        ,  0.        ,  0.        ,\n",
       "          0.        ,  0.        ,  0.        ,  0.        ,  0.        ,\n",
       "          0.        ,  1.        ,  0.        ,  0.        ,  0.        ,\n",
       "          0.        ,  0.        ,  0.        ,  0.        ,  0.        ,\n",
       "          0.        ,  0.        ,  0.        ,  0.        ,  0.        ,\n",
       "          1.        ,  0.        ,  0.        ,  0.        ,  0.        ,\n",
       "          0.        ,  0.        ,  0.        ,  0.        ,  0.        ,\n",
       "          0.        ,  0.        ,  0.        ,  0.        ,  0.        ,\n",
       "          0.        ,  0.        ,  0.        ,  0.        ,  0.        ,\n",
       "          0.        ,  1.        ,  0.        ,  0.        ,  0.        ,\n",
       "          0.        ,  0.        ,  0.        ,  0.        ,  0.        ,\n",
       "          0.        ,  0.        ,  0.        ,  0.        ,  0.        ,\n",
       "          0.        ,  0.        ,  0.        ,  0.        ,  0.        ,\n",
       "          0.        ,  1.        ,  0.        ,  0.        ,  0.        ,\n",
       "          0.        ,  0.        ,  0.        ,  0.        ,  0.        ,\n",
       "          0.        ,  0.        ,  0.        ,  0.        ,  0.        ,\n",
       "          0.        ,  0.        ,  0.        ,  1.        ,  0.        ,\n",
       "          0.        ,  0.        ,  0.        ,  0.        ,  0.        ,\n",
       "          0.        ,  0.        ,  0.        ,  0.        ,  0.        ,\n",
       "          0.        ,  0.        ,  1.        ,  0.        ,  0.        ,\n",
       "          0.        ,  0.        ,  0.        ,  0.        ,  0.        ,\n",
       "          0.        ,  0.        ,  0.        ,  0.        ,  0.        ,\n",
       "          0.        ,  0.        ,  1.        ,  0.        ,  0.        ,\n",
       "          0.        ,  0.        ,  0.        ,  0.        ,  0.        ,\n",
       "          0.        ,  0.        ,  0.        ,  0.        ,  0.        ,\n",
       "          0.        ,  0.        ,  0.        ,  0.        ,  0.        ,\n",
       "          0.        ,  0.        ,  0.        ,  1.        ,  0.        ,\n",
       "          0.        ,  0.        ,  0.        ,  0.        ,  0.        ,\n",
       "          0.        ,  0.        ,  0.        ,  0.        ,  0.        ,\n",
       "          0.        ,  0.        ,  0.        ,  0.        ,  0.        ,\n",
       "          0.        ,  1.        ,  0.        ,  0.        ,  0.        ,\n",
       "          0.        ,  0.        ,  0.        ,  0.        ,  0.        ,\n",
       "          0.        ,  0.        ,  0.        ,  0.        ,  0.        ,\n",
       "          0.        ,  0.        ,  1.        ,  0.        ,  0.        ,\n",
       "          0.        ,  0.        ,  0.        ,  0.        ,  0.        ,\n",
       "          0.        ,  0.        ,  0.        ,  0.        ,  0.        ,\n",
       "          0.        ,  0.        ,  0.        ,  1.        ,  0.        ,\n",
       "          0.        ,  0.        ,  0.        ,  0.        ,  0.        ,\n",
       "          0.        ,  1.        ,  0.        ,  0.        ,  0.        ,\n",
       "          0.        ,  0.        ,  0.        ,  0.        ,  0.        ,\n",
       "          0.        ,  1.        ,  0.        ,  0.        ,  0.        ,\n",
       "          0.        ,  0.        ,  0.        ,  0.        ,  0.        ,\n",
       "          0.        ,  0.        ,  0.        ,  0.        ,  0.        ,\n",
       "          0.        ,  0.        ,  0.        ,  0.        ,  0.        ,\n",
       "          0.        ,  0.        ,  0.        ,  0.        ,  0.        ,\n",
       "          0.        ,  0.        ,  0.        ,  0.        ,  1.        ,\n",
       "          0.        ,  0.        ,  0.        ,  1.        ,  0.        ,\n",
       "          0.        ,  0.        ,  0.        ,  0.        ,  0.        ,\n",
       "          0.        ,  0.        ,  0.        ,  0.        ,  0.        ,\n",
       "          0.        ,  0.        ,  0.        ,  0.        ,  0.        ,\n",
       "          0.        ,  0.        ,  0.        ,  0.        ,  0.        ,\n",
       "          0.        ,  0.        ,  0.        ,  0.        ,  0.        ,\n",
       "          0.        ,  0.        ,  0.        ,  0.        ,  1.        ,\n",
       "          0.        ,  0.        ,  0.        ,  0.        ,  0.        ,\n",
       "          0.        ,  0.        ,  0.        ,  0.        ,  1.        ,\n",
       "          0.        ,  0.        ,  0.        ,  0.        ,  0.        ,\n",
       "          0.        ,  0.        ,  0.        ,  0.        ,  0.        ,\n",
       "          0.        ,  0.        ,  1.        ,  0.        ,  0.        ,\n",
       "          0.        ,  0.        ,  0.        ,  0.        ,  0.        ,\n",
       "          0.        ,  0.        ,  0.        ,  0.        ,  0.        ,\n",
       "          0.        ,  0.        ,  0.        ,  0.        ,  0.        ,\n",
       "          0.        ,  0.        ,  0.        ,  0.        ,  0.        ,\n",
       "          0.        ,  0.        ,  1.        ,  0.        ,  0.        ,\n",
       "          0.        ,  0.        ,  0.        ,  0.        ,  1.        ,\n",
       "          0.        ,  0.        ,  0.        ,  0.        ,  0.        ,\n",
       "          0.        ,  0.        ,  0.        ,  0.        ,  1.        ,\n",
       "          0.        ,  0.        ,  0.        ,  0.        ,  0.        ,\n",
       "          0.        ,  0.        ,  0.        ,  0.        ,  0.        ,\n",
       "          0.        ,  0.        ,  0.        ,  0.        ,  0.        ,\n",
       "          0.        ,  0.        ,  0.        ,  0.        ,  1.        ,\n",
       "          0.        ,  0.        ,  0.        ,  0.        ,  0.        ,\n",
       "          0.        ,  0.        ,  0.        ,  0.        ,  0.        ,\n",
       "          0.        ,  0.        ,  0.        ,  0.        ,  0.        ,\n",
       "          0.        ,  0.        ,  1.        ,  0.        ,  0.        ,\n",
       "          0.        ,  0.        ,  0.        ,  0.        ,  0.        ,\n",
       "          0.        ,  0.        ,  0.        ,  0.        ,  0.        ,\n",
       "          0.        ,  0.        ,  0.        ,  0.        ,  0.        ,\n",
       "          0.        ,  0.        ,  0.        ,  0.        ,  0.        ,\n",
       "          1.        ,  0.        ,  0.        ,  0.        ,  0.        ,\n",
       "          0.        ,  0.        ,  0.        ,  0.        ,  0.        ,\n",
       "          0.        ,  0.        ,  0.        ,  0.        ,  0.        ,\n",
       "          0.        ,  1.        ,  0.        ,  0.        ]))]"
      ]
     },
     "execution_count": 168,
     "metadata": {},
     "output_type": "execute_result"
    }
   ],
   "source": [
    "#Now include this into the logistic regression model\n",
    "#Zip numerical and categorical variables\n",
    "\n",
    "def mergeNumPlusCatRdds(elem):\n",
    "    x, y = elem\n",
    "    xkey , xval = x\n",
    "    merge =  (xkey, np.hstack((xval,y)))\n",
    "    return(merge)\n",
    "\n",
    "numPlusCatRdd = normedRDD.zip(categoricalRdd) \\\n",
    "                         .map(mergeNumPlusCatRdds)\n",
    "numPlusCatRdd.take(1)"
   ]
  },
  {
   "cell_type": "code",
   "execution_count": 169,
   "metadata": {},
   "outputs": [
    {
     "name": "stdout",
     "output_type": "stream",
     "text": [
      "429\n"
     ]
    }
   ],
   "source": [
    "#compute the number of features\n",
    "numb_features = np.size(numPlusCatRdd.first()[1])\n",
    "print(numb_features)\n",
    "#define baseline model, add one parameter representing the intercept\n",
    "BASELINE = np.random.randn(numb_features + 1)"
   ]
  },
  {
   "cell_type": "code",
   "execution_count": 170,
   "metadata": {},
   "outputs": [],
   "source": [
    "#split into train, validation and test sets\n",
    "train, validation, test = numPlusCatRdd.randomSplit([0.6, 0.2, 0.2])"
   ]
  },
  {
   "cell_type": "code",
   "execution_count": 42,
   "metadata": {},
   "outputs": [
    {
     "name": "stdout",
     "output_type": "stream",
     "text": [
      "----------\n",
      "STEP: 1\n",
      "----------\n",
      "STEP: 2\n",
      "----------\n",
      "STEP: 3\n",
      "----------\n",
      "STEP: 4\n",
      "----------\n",
      "STEP: 5\n",
      "----------\n",
      "STEP: 6\n",
      "----------\n",
      "STEP: 7\n",
      "----------\n",
      "STEP: 8\n",
      "----------\n",
      "STEP: 9\n",
      "----------\n",
      "STEP: 10\n",
      "----------\n",
      "STEP: 11\n",
      "----------\n",
      "STEP: 12\n",
      "----------\n",
      "STEP: 13\n",
      "----------\n",
      "STEP: 14\n",
      "----------\n",
      "STEP: 15\n",
      "----------\n",
      "STEP: 16\n",
      "----------\n",
      "STEP: 17\n",
      "----------\n",
      "STEP: 18\n",
      "----------\n",
      "STEP: 19\n",
      "----------\n",
      "STEP: 20\n",
      "----------\n",
      "STEP: 21\n",
      "----------\n",
      "STEP: 22\n",
      "----------\n",
      "STEP: 23\n",
      "----------\n",
      "STEP: 24\n",
      "----------\n",
      "STEP: 25\n",
      "----------\n",
      "STEP: 26\n",
      "----------\n",
      "STEP: 27\n",
      "----------\n",
      "STEP: 28\n",
      "----------\n",
      "STEP: 29\n",
      "----------\n",
      "STEP: 30\n",
      "----------\n",
      "STEP: 31\n",
      "----------\n",
      "STEP: 32\n",
      "----------\n",
      "STEP: 33\n",
      "----------\n",
      "STEP: 34\n",
      "----------\n",
      "STEP: 35\n",
      "----------\n",
      "STEP: 36\n",
      "----------\n",
      "STEP: 37\n",
      "----------\n",
      "STEP: 38\n",
      "----------\n",
      "STEP: 39\n",
      "----------\n",
      "STEP: 40\n",
      "----------\n",
      "STEP: 41\n",
      "----------\n",
      "STEP: 42\n",
      "----------\n",
      "STEP: 43\n",
      "----------\n",
      "STEP: 44\n",
      "----------\n",
      "STEP: 45\n",
      "----------\n",
      "STEP: 46\n",
      "----------\n",
      "STEP: 47\n",
      "----------\n",
      "STEP: 48\n",
      "----------\n",
      "STEP: 49\n",
      "----------\n",
      "STEP: 50\n",
      "----------\n",
      "STEP: 51\n",
      "----------\n",
      "STEP: 52\n",
      "----------\n",
      "STEP: 53\n",
      "----------\n",
      "STEP: 54\n",
      "----------\n",
      "STEP: 55\n",
      "----------\n",
      "STEP: 56\n",
      "----------\n",
      "STEP: 57\n",
      "----------\n",
      "STEP: 58\n",
      "----------\n",
      "STEP: 59\n",
      "----------\n",
      "STEP: 60\n",
      "----------\n",
      "STEP: 61\n",
      "----------\n",
      "STEP: 62\n",
      "----------\n",
      "STEP: 63\n",
      "----------\n",
      "STEP: 64\n",
      "----------\n",
      "STEP: 65\n",
      "----------\n",
      "STEP: 66\n",
      "----------\n",
      "STEP: 67\n",
      "----------\n",
      "STEP: 68\n",
      "----------\n",
      "STEP: 69\n",
      "----------\n",
      "STEP: 70\n",
      "----------\n",
      "STEP: 71\n",
      "----------\n",
      "STEP: 72\n",
      "----------\n",
      "STEP: 73\n",
      "----------\n",
      "STEP: 74\n",
      "----------\n",
      "STEP: 75\n",
      "----------\n",
      "STEP: 76\n",
      "----------\n",
      "STEP: 77\n",
      "----------\n",
      "STEP: 78\n",
      "----------\n",
      "STEP: 79\n",
      "----------\n",
      "STEP: 80\n",
      "----------\n",
      "STEP: 81\n",
      "----------\n",
      "STEP: 82\n",
      "----------\n",
      "STEP: 83\n",
      "----------\n",
      "STEP: 84\n",
      "----------\n",
      "STEP: 85\n",
      "----------\n",
      "STEP: 86\n",
      "----------\n",
      "STEP: 87\n",
      "----------\n",
      "STEP: 88\n",
      "----------\n",
      "STEP: 89\n",
      "----------\n",
      "STEP: 90\n",
      "----------\n",
      "STEP: 91\n",
      "----------\n",
      "STEP: 92\n",
      "----------\n",
      "STEP: 93\n",
      "----------\n",
      "STEP: 94\n",
      "----------\n",
      "STEP: 95\n",
      "----------\n",
      "STEP: 96\n",
      "----------\n",
      "STEP: 97\n",
      "----------\n",
      "STEP: 98\n",
      "----------\n",
      "STEP: 99\n",
      "----------\n",
      "STEP: 100\n",
      "----------\n",
      "STEP: 101\n",
      "----------\n",
      "STEP: 102\n",
      "----------\n",
      "STEP: 103\n",
      "----------\n",
      "STEP: 104\n",
      "----------\n",
      "STEP: 105\n",
      "----------\n",
      "STEP: 106\n",
      "----------\n",
      "STEP: 107\n",
      "----------\n",
      "STEP: 108\n",
      "----------\n",
      "STEP: 109\n",
      "----------\n",
      "STEP: 110\n",
      "----------\n",
      "STEP: 111\n",
      "----------\n",
      "STEP: 112\n",
      "----------\n",
      "STEP: 113\n",
      "----------\n",
      "STEP: 114\n",
      "----------\n",
      "STEP: 115\n",
      "----------\n",
      "STEP: 116\n",
      "----------\n",
      "STEP: 117\n",
      "----------\n",
      "STEP: 118\n",
      "----------\n",
      "STEP: 119\n",
      "----------\n",
      "STEP: 120\n",
      "----------\n",
      "STEP: 121\n",
      "----------\n",
      "STEP: 122\n",
      "----------\n",
      "STEP: 123\n",
      "----------\n",
      "STEP: 124\n",
      "----------\n",
      "STEP: 125\n",
      "----------\n",
      "STEP: 126\n",
      "----------\n",
      "STEP: 127\n",
      "----------\n",
      "STEP: 128\n",
      "----------\n",
      "STEP: 129\n",
      "----------\n",
      "STEP: 130\n",
      "----------\n",
      "STEP: 131\n",
      "----------\n",
      "STEP: 132\n",
      "----------\n",
      "STEP: 133\n",
      "----------\n",
      "STEP: 134\n",
      "----------\n",
      "STEP: 135\n",
      "----------\n",
      "STEP: 136\n",
      "----------\n",
      "STEP: 137\n",
      "----------\n",
      "STEP: 138\n",
      "----------\n",
      "STEP: 139\n",
      "----------\n",
      "STEP: 140\n",
      "----------\n",
      "STEP: 141\n",
      "----------\n",
      "STEP: 142\n",
      "----------\n",
      "STEP: 143\n",
      "----------\n",
      "STEP: 144\n",
      "----------\n",
      "STEP: 145\n",
      "----------\n",
      "STEP: 146\n",
      "----------\n",
      "STEP: 147\n",
      "----------\n",
      "STEP: 148\n",
      "----------\n",
      "STEP: 149\n",
      "----------\n",
      "STEP: 150\n",
      "The estimated model is: [-1.07661191e+00  1.63763627e-03  5.33505824e-03 -6.12988016e-03\n",
      " -1.44896658e-02 -8.11383907e-02 -1.05581121e-01 -9.48290396e-03\n",
      "  3.58267238e-03 -1.01615320e-02  1.12911659e-01  2.46945702e-01\n",
      "  5.20688959e-04 -1.54641668e-03 -6.22308344e-03  1.19302297e-03\n",
      "  8.51785765e-04 -3.52381631e-01 -6.84236512e-03 -5.67843208e-01\n",
      " -5.19713339e-03  4.05221014e-03 -6.25445608e-03  7.68997564e-04\n",
      " -2.61761201e-01 -4.29940312e-03 -6.08276740e-03  3.18867461e-03\n",
      " -5.66594565e-03 -5.77984678e-03  2.33769039e-03 -1.13973882e-02\n",
      "  8.83870561e-03  2.61876625e-03  7.47221197e-03 -2.71019085e-03\n",
      " -4.83663338e-03  9.39338453e-04 -3.68646164e-03  4.21545163e-03\n",
      " -8.96208498e-03 -9.57489718e-03 -6.41163032e-03 -2.01655221e-03\n",
      " -1.22426910e-03  8.32802951e-03  2.01163099e-04 -3.73708035e-03\n",
      " -7.15019013e-03  5.21379741e-03 -8.53257219e-03 -2.61205530e-03\n",
      "  9.65979194e-03  1.83181492e-03  2.79660046e-03 -6.87584182e-03\n",
      " -9.95355881e-03  8.59733494e-03  7.71194471e-03 -4.45143211e-03\n",
      " -7.41836201e-03  5.47687822e-03 -1.89522060e-03 -9.32440354e-03\n",
      "  1.52254856e-01  5.55676154e-03 -2.73917755e-03 -3.05144334e-05\n",
      "  5.93011875e-04 -5.54059515e-03 -5.17112706e-03 -8.90458309e-03\n",
      " -7.52715085e-03 -6.78225391e-03 -7.74681902e-03  5.96942090e-03\n",
      " -5.69500217e-04 -5.14043723e-03  5.81575913e-05  6.52519360e-03\n",
      "  3.55548097e-01 -7.71255098e-03  7.10329225e-03 -3.15221132e-03\n",
      "  2.54465695e-03  5.81702829e-03  1.15622126e-01 -3.75926593e-03\n",
      "  2.94291797e-03  1.66562265e-03 -9.29491028e-03  9.62477728e-03\n",
      " -5.72353188e-03 -3.83645241e-03 -9.45005090e-03 -4.17587858e-03\n",
      "  6.85260650e-03  1.78966021e-03 -7.46488047e-03 -4.09539748e-03\n",
      "  3.05494902e-03 -4.33509438e-03  1.81982677e-01 -5.68301866e-03\n",
      " -3.69273170e-03  1.04358259e-02 -5.63415044e-03 -8.20042321e-03\n",
      " -1.55457559e+00  3.03363191e-03 -1.43006647e-01  2.51827690e-04\n",
      " -8.73904107e-03 -9.13500280e-04 -9.17602202e-03 -3.99313793e-03\n",
      "  4.99977050e-04 -7.27492274e-03 -7.85116484e-03 -7.31802363e-03\n",
      " -1.90500324e-03 -4.23673193e-03 -8.88708680e-02  3.49726440e-03\n",
      "  5.11329497e-03  7.36616990e-03 -5.45923710e-03  3.88601052e-03\n",
      " -4.12942356e-01  6.13551017e-03 -2.25878570e-03  8.15752208e-04\n",
      "  6.70446328e-04 -8.55155997e-03 -1.77524132e-03 -2.02120698e-03\n",
      "  5.28614152e-03 -7.29392269e-03 -4.98764006e-03  1.75019716e-03\n",
      "  1.02035111e-03 -3.13043247e-01 -7.86920644e-03 -8.42000806e-03\n",
      "  9.26510533e-03  1.84906056e-03  2.07420871e-03  7.90276116e-03\n",
      "  2.36946862e-03 -9.28252841e-03  1.83121099e-03  2.99718165e-03\n",
      "  2.99917579e-05 -2.19559365e-03  6.80590524e-03  9.27987432e-03\n",
      " -9.79403522e-03  5.48743689e-03  3.84013904e-03 -1.50328384e-03\n",
      " -7.24198859e-04  6.56236627e-03  5.23860225e-03 -4.18733179e-03\n",
      "  3.77596679e-03 -6.79549893e-03 -1.51550112e-01 -7.54369564e-03\n",
      "  9.70745696e-03 -5.39195383e-03 -1.69982052e-03  9.62099122e-02\n",
      " -6.69458419e-03 -7.69909825e-03 -3.47809344e-04  2.22930257e-03\n",
      "  4.96585847e-03 -2.29053299e-03 -4.84660932e-03 -1.01182171e-02\n",
      "  2.84882853e-03 -1.72172326e-03 -6.01971674e-01  4.15905590e-03\n",
      " -4.29297274e-03 -1.84184552e-03 -4.54283267e-03 -6.32643334e-03\n",
      " -1.45213657e-03  3.42604725e-03  6.05606228e-03  8.04372523e-03\n",
      "  6.22228493e-03  9.82256395e-02  5.73174551e-03  3.49515876e-04\n",
      "  6.10008466e-03  3.67037765e-03  8.33514817e-03 -8.55797237e-03\n",
      "  7.08732508e-03  8.45003156e-03  4.99196413e-04  4.98236851e-03\n",
      " -1.07829992e-02 -4.79440440e-03 -4.05967986e-03  5.54765709e-03\n",
      "  5.06977112e-03 -7.76822651e-03 -1.87766543e-03 -6.10797942e-04\n",
      " -5.36007395e-03 -2.72768738e-03  8.81253335e-03 -9.05207824e-03\n",
      " -3.21918028e-03 -8.66164525e-03  1.63962929e-03  1.85672160e-04\n",
      " -5.72159634e-03 -2.79885126e-03 -8.81068674e-03  7.42362671e-04\n",
      "  9.82870905e-02  9.54488686e-03  8.32059725e-02  7.84085321e-03\n",
      "  6.55218862e-05  8.51620449e-04 -2.01753047e-03  8.81554701e-02\n",
      " -5.09677070e-04  3.41462723e-03 -3.47499164e-03 -6.17266126e-03\n",
      " -6.18835158e-03 -4.62446804e-03 -2.07649851e-03 -7.98312237e-03\n",
      " -6.87045550e-03 -9.18445304e-03 -6.04241803e-04  9.49548556e-03\n",
      " -8.18951782e-03 -1.02571025e-02  8.03425231e-03 -2.66462851e-03\n",
      " -8.40931840e-03 -6.69014340e-03  1.00056949e-02 -6.53149957e-03\n",
      "  2.53454517e-03 -8.72476312e-03 -1.88506579e-03 -1.40564272e-01\n",
      " -7.95224888e-03  4.70235926e-03 -7.52471343e-03 -2.53763652e-03\n",
      " -2.37646142e-01 -8.09170979e-03  6.46677689e-03 -6.34256443e-03\n",
      "  6.04587276e-03  5.72101940e-03 -7.39486189e-03 -1.34096716e-01\n",
      " -5.07211305e-03 -6.00618280e-03  3.60644055e-03  5.27387822e-03\n",
      "  2.30331761e-04 -4.64467587e-03 -4.00301099e-03 -2.90921253e-03\n",
      " -5.50359936e-03 -2.20575208e-03  7.89686821e-03  7.36792743e-03\n",
      " -6.10142892e-03  6.62816712e-03  9.99431684e-03  4.60545471e-03\n",
      "  9.57055258e-04  6.09163023e-02  3.88551418e-03  8.15170322e-03\n",
      " -2.96558352e-03 -5.02981540e-03 -8.55812795e-02  3.14203873e-03\n",
      " -1.14990178e-03 -7.51358640e-03 -3.66857843e-03 -1.43252942e-01\n",
      " -6.74720546e-03  2.87915352e-02  1.75253824e-03  4.87620693e-03\n",
      "  1.02323645e-02  7.63833078e-03  7.84972570e-03 -6.56189190e-03\n",
      " -5.58922969e-01  3.12227831e-01  7.23926328e-03  4.63255637e-04\n",
      " -4.00331753e-03  7.64513735e-03 -8.45089576e-03  1.63133327e-03\n",
      " -5.07174484e-03  9.62517804e-03 -1.02023005e-02 -4.83059234e-03\n",
      "  7.48612459e-03 -6.38633535e-01 -5.48564825e-03 -4.09518218e-03\n",
      " -5.01576007e-03  3.84147988e-03  9.90812795e-03 -5.85672299e-01\n",
      "  9.66039746e-03  1.97759294e-01 -2.87123211e-04  7.29659593e-03\n",
      " -6.87504732e-03  5.30779720e-03  3.35393383e-03 -3.54373038e-03\n",
      " -6.93270618e-03 -4.81373363e-03  5.49927465e-03 -2.96906772e-03\n",
      " -2.19591156e-03  1.39900913e-03 -8.21595152e-03 -4.74549025e-04\n",
      "  4.27766343e-03 -6.14850136e-03 -3.06125188e-03  5.38120950e-03\n",
      "  3.62003740e-04 -1.07461311e-02 -8.31333791e-03 -5.86695792e-03\n",
      " -5.30592720e-03  5.74252651e-03  6.28056188e-03 -4.21766284e-03\n",
      " -1.64867607e-03  9.70761012e-03 -8.74966650e-03  1.38941781e-03\n",
      "  9.62317730e-03  3.05181655e-03 -1.33076413e-03  3.53323513e-03\n",
      "  9.51916397e-03 -6.83162768e-03  7.25636277e-03  5.35881677e-03\n",
      "  9.83307174e-03  7.85568351e-03 -9.88567890e-03 -5.13878514e-03\n",
      " -5.16269733e-03 -1.77586815e-03 -5.30975694e-03  1.93347924e-03\n",
      " -1.08309282e-03 -2.82004341e-04 -8.77652454e-03 -5.64766436e-03\n",
      "  2.49392732e-03 -2.37964245e-01  7.69172265e-03 -1.48111995e-03\n",
      "  2.39605626e-03 -3.46130708e-03 -6.97614109e-03 -9.39719262e-03\n",
      " -8.71078875e-03  6.20510360e-03  1.39419721e-04  2.23736438e-03\n",
      "  7.90419175e-03 -5.17367764e-04 -5.53332726e-03  7.20531437e-03\n",
      " -2.28950539e-03 -8.82603067e-03  9.97040493e-03 -8.67377499e-03\n",
      "  4.59896696e-03  1.20886939e-01  2.32536165e-03  2.89348310e-03\n",
      " -7.26813447e-03 -4.39629671e-03 -6.21111865e-03  2.26697780e-03\n",
      "  6.60336132e-03  7.95189120e-03 -7.13411525e-03 -7.24821475e-03\n",
      "  3.93011646e-03  2.09145074e-01 -2.37446102e-01 -1.08118473e-02\n",
      " -1.86714362e-04 -2.93231548e-04 -9.62176500e-03  2.45954695e-03\n",
      " -8.78252004e-03  3.33863780e-04 -3.19838609e-03 -2.57645733e-03\n",
      "  6.15492075e-03 -7.13611120e-03 -3.92352077e-03  3.89120415e-05\n",
      " -4.04430077e-01 -8.71400423e-03  7.81468611e-03 -4.87688717e-03\n",
      "  2.06432697e-03  8.69175027e-03]\n",
      "The loss of the estimated model is: 0.531271015615906\n",
      "\n",
      "\n"
     ]
    },
    {
     "data": {
      "image/png": "[encoded data removed]",
      "text/plain": [
       "<Figure size 432x288 with 1 Axes>"
      ]
     },
     "metadata": {},
     "output_type": "display_data"
    },
    {
     "data": {
      "text/plain": [
       "Text(0.5,1,'Norm of vector of parameters')"
      ]
     },
     "execution_count": 42,
     "metadata": {},
     "output_type": "execute_result"
    },
    {
     "data": {
      "image/png": "[encoded data removed]",
      "text/plain": [
       "<Figure size 432x288 with 1 Axes>"
      ]
     },
     "metadata": {},
     "output_type": "display_data"
    }
   ],
   "source": [
    "nSteps = 150\n",
    "learningRate = 0.5\n",
    "regType = 'lasso'\n",
    "regParam = 0.02\n",
    "\n",
    "Loss_save = []\n",
    "Model_norm = []\n",
    "#broadcast model\n",
    "model = BASELINE #model = sc.broadcast(BASELINE) #substitute this line with the comment when deploying it on the cloud\n",
    "for idx in range(nSteps):\n",
    "    #print(\"----------\")\n",
    "    #print(f\"STEP: {idx+1}\")\n",
    "    \n",
    "    # compute loss\n",
    "    loss = LogLoss(numPlusCatRdd, model, regType=regType, regParam=regParam)\n",
    "    # update model parameters\n",
    "    model = GDUpdate(numPlusCatRdd, model, regType=regType, regParam=regParam, learningRate=learningRate)\n",
    "    \n",
    "    #store results\n",
    "    Loss_save.append(loss)\n",
    "    Model_norm.append(np.linalg.norm(model))\n",
    "    \n",
    "    #broadcast model\n",
    "    #model = sc.broadcast(model) #uncomment this line when deploying it on the cloud\n",
    "\n",
    "print(f\"The estimated model is: {model}\")\n",
    "print(f\"The loss of the estimated model is: {loss}\")\n",
    "print()\n",
    "print()\n",
    "plt.plot(Loss_save)\n",
    "plt.title('Loss')\n",
    "plt.show()\n",
    "plt.plot(Model_norm)\n",
    "plt.title('Norm of vector of parameters')"
   ]
  },
  {
   "cell_type": "code",
   "execution_count": 43,
   "metadata": {},
   "outputs": [
    {
     "name": "stdout",
     "output_type": "stream",
     "text": [
      "number of true positives is 2415.0\n",
      "number of predicted positives is 129\n"
     ]
    }
   ],
   "source": [
    "print(f'number of true positives is {numPlusCatRdd.map(lambda x: x[0]).sum()}')\n",
    "res = makePrediction(numPlusCatRdd, model).cache()\n",
    "print(f'number of predicted positives is {res.sum()}')"
   ]
  },
  {
   "cell_type": "code",
   "execution_count": null,
   "metadata": {},
   "outputs": [],
   "source": [
    "start = time.time()\n",
    "wInit = wInitialization(numPlusCatRdd, 2)\n",
    "#print(wInit)\n",
    "logerr_train, logerr_test, models = GradientDescent(numPlusCatRdd, numPlusCatRdd, wInit, nSteps = 250,\n",
    "                                                    learningRate = 0.001, regParam = 0.01, verbose = False)\n",
    "print(f\"\\n... trained {len(models)} iterations in {time.time() - start} seconds\")\n"
   ]
  },
  {
   "cell_type": "code",
   "execution_count": null,
   "metadata": {},
   "outputs": [],
   "source": [
    "#print(f\"The estimated model is: {models[-1]}\")\n",
    "print(f\"The loss of the estimated model is: {logerr_train[-1]}\")\n",
    "print()\n",
    "print()\n",
    "plt.plot(logerr_train)\n",
    "plt.title('Loss')\n",
    "plt.show()"
   ]
  },
  {
   "cell_type": "code",
   "execution_count": null,
   "metadata": {},
   "outputs": [],
   "source": [
    "print(f'number of true positives is {numPlusCatRdd.map(lambda x: x[0]).sum()}')\n",
    "res = fmMakePrediction(numPlusCatRdd, models[-1]).cache()\n",
    "print(f'number of predicted positives is {res.sum()}')"
   ]
  },
  {
   "cell_type": "markdown",
   "metadata": {},
   "source": [
    "### 4.1.3 Multi-column Feature Hashing\n",
    "Hashing each column independently resulted in a dimensionality reduction from several million vectors to 416 for the categorical variables. We could further reduce dimensionality through multi-column Feature Hashing with a likely tradeoff being the loss of accuracy (TBD). \n",
    "\n",
    "We used the multi-column FeatureHashing functionality in Apache Spark MLLib to look into how dimensionality reduction to fewer vectors for logistic regression. Multi-column FeatureHashing would be very handy when we start looking at adding in quadratic terms for logistic regression. Instead of a (416,416) quadratic feature matrix, we could deal with a smaller (32,32) or (64,64) features, leading to faster computation."
   ]
  },
  {
   "cell_type": "markdown",
   "metadata": {},
   "source": [
    "#### Spark MLLib FeatureHasher example\n",
    "The FeatureHasher in spark takes multiple columns of categorical (and numerical) variables and hashes them down to fewer features. It is possible to specify the number of output features so that we can restrict the dimensions to a more manageable number."
   ]
  },
  {
   "cell_type": "code",
   "execution_count": null,
   "metadata": {},
   "outputs": [],
   "source": [
    "#Feature hashing example\n",
    "from pyspark.ml.feature import FeatureHasher\n",
    "\n",
    "dataset = spark.createDataFrame([\n",
    "    (2.2, True, \"1\", \"foo\"),\n",
    "    (3.3, False, \"2\", \"bar\"),\n",
    "    (4.4, False, \"3\", \"baz\"),\n",
    "    (5.5, False, \"4\", \"foo\")\n",
    "], [\"real\", \"bool\", \"stringNum\", \"string\"])\n",
    "\n",
    "hasher = FeatureHasher(inputCols=[\"real\", \"bool\", \"stringNum\", \"string\"],\n",
    "                       outputCol=\"features\")\n",
    "\n",
    "featurized = hasher.transform(dataset)\n",
    "featurized.select(\"features\").show(truncate=False)"
   ]
  },
  {
   "cell_type": "markdown",
   "metadata": {},
   "source": [
    "#### Multi-column Feature Hashing with test set\n",
    "We applied Multi-column Feature Hashing to get to a dimensionality of 64 vectors using FeatureHasher. The results of the logistic regression following this hashing are given below (need to add time, accuracy etc...How do you compare otherwise?)"
   ]
  },
  {
   "cell_type": "code",
   "execution_count": null,
   "metadata": {},
   "outputs": [],
   "source": [
    "# read in sample training data and convert to dataframe\n",
    "train_sample1 = sc.textFile('data/sample_training.txt')\\\n",
    "                 .map(lambda x: x.split('\\t'))\\\n",
    "                 .toDF().limit(10000).cache()\n",
    "train_sample1.show(3)"
   ]
  },
  {
   "cell_type": "code",
   "execution_count": null,
   "metadata": {},
   "outputs": [],
   "source": [
    "#choose categorical columns to Hash\n",
    "hashInpList = []\n",
    "for c in range(14,41):\n",
    "    col = \"_\"+str(c)\n",
    "    hashInpList.append(col)\n",
    "print (hashInpList)"
   ]
  },
  {
   "cell_type": "code",
   "execution_count": null,
   "metadata": {},
   "outputs": [],
   "source": [
    "#Apply Multi-column hashing with 32 output features\n",
    "hasher = FeatureHasher(numFeatures=256, inputCols=hashInpList,outputCol=\"features\")\n",
    "\n",
    "featurized = hasher.transform(train_sample1)\n",
    "featurized.select(\"features\").show(3,truncate=False)"
   ]
  },
  {
   "cell_type": "code",
   "execution_count": null,
   "metadata": {},
   "outputs": [],
   "source": [
    "featurized.show(3)\n",
    "featurized.rdd.getNumPartitions()"
   ]
  },
  {
   "cell_type": "code",
   "execution_count": null,
   "metadata": {},
   "outputs": [],
   "source": [
    "#Convert into a dense vector format to feed logistic regression model\n",
    "def extractVec (elem):\n",
    "    return(np.array(tuple(elem.features.toArray().tolist())))\n",
    "    \n",
    "multiHashCatRdd = featurized.select(\"features\").rdd.map(extractVec)\n",
    "#map(extractVec)\n",
    "multiHashCatRdd.take(3)\n",
    "multiHashCatRdd.getNumPartitions()"
   ]
  },
  {
   "cell_type": "code",
   "execution_count": null,
   "metadata": {},
   "outputs": [],
   "source": [
    "featurized.show(3)"
   ]
  },
  {
   "cell_type": "code",
   "execution_count": null,
   "metadata": {},
   "outputs": [],
   "source": [
    "#Now include this into the logistic regression model\n",
    "#Zip numerical and categorical variables\n",
    "\n",
    "def mergeNumPlusCatRdds(elem):\n",
    "    x, y = elem\n",
    "    xkey , xval = x\n",
    "    merge =  (xkey, np.hstack((xval,y)))\n",
    "    return(merge)\n",
    "\n",
    "numPlusCatRdd2 = normedRDD.zip(multiHashCatRdd) \\\n",
    "                         .map(mergeNumPlusCatRdds)\n",
    "numPlusCatRdd2.take(1)\n",
    "numPlusCatRdd2.getNumPartitions()"
   ]
  },
  {
   "cell_type": "code",
   "execution_count": null,
   "metadata": {},
   "outputs": [],
   "source": [
    "#compute the number of features\n",
    "numb_features = np.size(numPlusCatRdd2.first()[1])\n",
    "print(numb_features)\n",
    "#define baseline model, add one parameter representing the intercept\n",
    "BASELINE = np.random.randn(numb_features + 1)\n"
   ]
  },
  {
   "cell_type": "code",
   "execution_count": null,
   "metadata": {},
   "outputs": [],
   "source": [
    "nSteps = 100\n",
    "learningRate = 0.5\n",
    "regType = None\n",
    "regParam = 0.05\n",
    "\n",
    "Loss_save = []\n",
    "Model_norm = []\n",
    "#broadcast model\n",
    "model = BASELINE #model = sc.broadcast(BASELINE) #substitute this line with the comment when deploying it on the cloud\n",
    "for idx in range(nSteps):\n",
    "    #print(\"----------\")\n",
    "    #print(f\"STEP: {idx+1}\")\n",
    "    \n",
    "    # compute loss\n",
    "    loss = LogLoss(numPlusCatRdd2, model, regType=regType, regParam=regParam)\n",
    "    # update model parameters\n",
    "    model = GDUpdate(numPlusCatRdd2, model, regType=regType, regParam=regParam, learningRate=learningRate)\n",
    "    \n",
    "    #store results\n",
    "    Loss_save.append(loss)\n",
    "    Model_norm.append(np.linalg.norm(model))\n",
    "    \n",
    "    #broadcast model\n",
    "    #model = sc.broadcast(model) #uncomment this line when deploying it on the cloud\n",
    "\n",
    "print(f\"The estimated model is: {model}\")\n",
    "print(f\"The loss of the estimated model is: {loss}\")\n",
    "print()\n",
    "print()\n",
    "plt.plot(Loss_save)\n",
    "plt.title('Loss')\n",
    "plt.show()\n",
    "plt.plot(Model_norm)\n",
    "plt.title('Norm of vector of parameters')"
   ]
  },
  {
   "cell_type": "code",
   "execution_count": null,
   "metadata": {},
   "outputs": [],
   "source": [
    "print(f'number of true positives is {numPlusCatRdd2.map(lambda x: x[0]).sum()}')\n",
    "res = makePrediction(numPlusCatRdd2, model).cache()\n",
    "print(f'number of predicted positives is {res.sum()}')"
   ]
  },
  {
   "cell_type": "code",
   "execution_count": null,
   "metadata": {},
   "outputs": [],
   "source": [
    "start = time.time()\n",
    "wInit = wInitialization(numPlusCatRdd2, 2)\n",
    "#print(wInit)\n",
    "logerr_train, logerr_test, models = GradientDescent(numPlusCatRdd2, numPlusCatRdd2, wInit, nSteps = 250,\n",
    "                                                    learningRate = 0.001, regParam = 0.01, verbose = False)\n",
    "print(f\"\\n... trained {len(models)} iterations in {time.time() - start} seconds\")\n"
   ]
  },
  {
   "cell_type": "code",
   "execution_count": null,
   "metadata": {},
   "outputs": [],
   "source": [
    "#print(f\"The estimated model is: {models[-1]}\")\n",
    "print(f\"The loss of the estimated model is: {logerr_train[-1]}\")\n",
    "print()\n",
    "print()\n",
    "plt.plot(logerr_train)\n",
    "plt.title('Loss')\n",
    "plt.show()"
   ]
  },
  {
   "cell_type": "code",
   "execution_count": null,
   "metadata": {},
   "outputs": [],
   "source": [
    "print(f'number of true positives is {numPlusCatRdd.map(lambda x: x[0]).sum()}')\n",
    "res = fmMakePrediction(numPlusCatRdd, models[-1]).cache()\n",
    "print(f'number of predicted positives is {res.sum()}')"
   ]
  },
  {
   "cell_type": "markdown",
   "metadata": {},
   "source": [
    "# __Section 5__ - Course Concepts"
   ]
  },
  {
   "cell_type": "code",
   "execution_count": null,
   "metadata": {},
   "outputs": [],
   "source": []
  },
  {
   "cell_type": "markdown",
   "metadata": {},
   "source": []
  },
  {
   "cell_type": "markdown",
   "metadata": {},
   "source": []
  },
  {
   "cell_type": "markdown",
   "metadata": {},
   "source": [
    "### TOY EXAMPLE - comparison with ScikitLearn"
   ]
  },
  {
   "cell_type": "code",
   "execution_count": null,
   "metadata": {},
   "outputs": [],
   "source": [
    "#TOY EXAMPLE STARTS HERE\n",
    "numb_features = 2\n",
    "\n",
    "N = 100\n",
    "D = 3\n",
    "\n",
    "X_toy = np.random.randn(N,D)\n",
    "\n",
    "# center the first 50 points at (-1,-1)\n",
    "X_toy[:50,:] = X_toy[:50,:] - 1*np.ones((50,D))\n",
    "\n",
    "# center the last 50 points at (2, 2)\n",
    "X_toy[50:,:] = X_toy[50:,:] + 2*np.ones((50,D))\n",
    "\n",
    "X_toy[:50,0] = 0\n",
    "X_toy[50:,0] = 1\n",
    "\n",
    "rdd1 = sc.parallelize(X_toy)\n",
    "rdd1 = rdd1.map(lambda x: [float(i) for i in x])\n",
    "toy_sample_red = rdd1.toDF([\"_1\", \"_2\", \"_3\"])\n",
    "toy_sample_red_RDD = toy_sample_red.rdd.map(lambda x: (x[0], x[1:])).cache()"
   ]
  },
  {
   "cell_type": "code",
   "execution_count": null,
   "metadata": {},
   "outputs": [],
   "source": [
    "#define baseline model, add one parameter representing the intercept\n",
    "BASELINE = np.random.randn(numb_features + 1)"
   ]
  },
  {
   "cell_type": "code",
   "execution_count": null,
   "metadata": {},
   "outputs": [],
   "source": [
    "nSteps = 150\n",
    "learningRate = 0.5\n",
    "regType = 'ridge'\n",
    "regParam = 0.05\n",
    "\n",
    "Loss_save = []\n",
    "Model_norm = []\n",
    "#broadcast model\n",
    "model = BASELINE\n",
    "for idx in range(nSteps):\n",
    "    #print(\"----------\")\n",
    "    #print(f\"STEP: {idx+1}\")\n",
    "    \n",
    "    # compute loss\n",
    "    loss = LogLoss(toy_sample_red_RDD, model, regType=regType, regParam=regParam)\n",
    "    # update model parameters\n",
    "    model = GDUpdate(toy_sample_red_RDD, model, regType=regType, regParam=regParam, learningRate=learningRate)\n",
    "    \n",
    "    #store results\n",
    "    Loss_save.append(loss)\n",
    "    Model_norm.append(np.linalg.norm(model))\n",
    "\n",
    "print(f\"The estimated model is: {model}\")\n",
    "print(f\"The loss of the estimated model is: {loss}\")\n",
    "print()\n",
    "print()\n",
    "plt.plot(Loss_save)\n",
    "plt.title('Loss')\n",
    "plt.show()\n",
    "plt.plot(Model_norm)\n",
    "plt.title('Norm of vector of parameters')"
   ]
  },
  {
   "cell_type": "code",
   "execution_count": null,
   "metadata": {},
   "outputs": [],
   "source": [
    "#actual simulated value is 50\n",
    "res = makePrediction(toy_sample_red_RDD, model).cache()\n",
    "res.sum()"
   ]
  },
  {
   "cell_type": "code",
   "execution_count": null,
   "metadata": {},
   "outputs": [],
   "source": [
    "import sklearn\n",
    "from sklearn.linear_model import LogisticRegression\n",
    "X, y = X_toy[:,1:],X_toy[:,0]\n",
    "clf = LogisticRegression(random_state=0, solver='lbfgs',fit_intercept=True).fit(X, y)\n",
    "print(clf.coef_, clf.intercept_)"
   ]
  },
  {
   "cell_type": "code",
   "execution_count": null,
   "metadata": {},
   "outputs": [],
   "source": [
    "plt.scatter(X_toy[:,1], X_toy[:,2], c=X_toy[:,0], s=100, alpha=0.5)\n",
    "x_axis = np.linspace(-6, 6, 100)\n",
    "y_axis = -(model[0] + x_axis*model[1]) / model[2]\n",
    "plt.plot(x_axis, y_axis)\n",
    "y_axis = -(clf.intercept_+x_axis*clf.coef_[0][0]) / clf.coef_[0][1]\n",
    "plt.plot(x_axis, y_axis)\n",
    "plt.show()"
   ]
  },
  {
   "cell_type": "code",
   "execution_count": null,
   "metadata": {},
   "outputs": [],
   "source": []
  },
  {
   "cell_type": "code",
   "execution_count": null,
   "metadata": {},
   "outputs": [],
   "source": []
  },
  {
   "cell_type": "code",
   "execution_count": null,
   "metadata": {},
   "outputs": [],
   "source": [
    "convert_cols = ['_1','_2','_3','_4','_5','_6','_7','_8','_9','_10','_11','_12','_13','_14']"
   ]
  },
  {
   "cell_type": "code",
   "execution_count": null,
   "metadata": {},
   "outputs": [],
   "source": [
    "#generate train data for homegrown solution - select only 1000 rows and only numerical features + one categorical variable +target \n",
    "train_sample_red = train_sample.select(convert_cols + ['_23']).limit(1000)"
   ]
  },
  {
   "cell_type": "code",
   "execution_count": null,
   "metadata": {},
   "outputs": [],
   "source": [
    "train_sample_red.show(3)"
   ]
  },
  {
   "cell_type": "code",
   "execution_count": null,
   "metadata": {},
   "outputs": [],
   "source": [
    "#impute missing values with averages\n",
    "from pyspark.sql.functions import avg\n",
    "for col in convert_cols:\n",
    "    train_sample_red = train_sample_red.na.fill(round(train_sample_red.na.drop().agg(avg(col)).first()[0],1), [col])"
   ]
  },
  {
   "cell_type": "code",
   "execution_count": null,
   "metadata": {},
   "outputs": [],
   "source": [
    "from pyspark.sql.functions import col, split\n",
    "df = train_sample_red.withColumn(\"_23\", split(col(\"_23\"),\" \"))\n",
    "df.show(3)"
   ]
  },
  {
   "cell_type": "code",
   "execution_count": null,
   "metadata": {},
   "outputs": [],
   "source": [
    "from pyspark.ml.feature import CountVectorizer\n",
    "cat_Vectorizer = CountVectorizer(inputCol=\"_23\", outputCol=\"_23_array\", vocabSize=4, minDF=1.0)"
   ]
  },
  {
   "cell_type": "code",
   "execution_count": null,
   "metadata": {},
   "outputs": [],
   "source": [
    "catVectorizer_model = cat_Vectorizer.fit(df)"
   ]
  },
  {
   "cell_type": "code",
   "execution_count": null,
   "metadata": {},
   "outputs": [],
   "source": [
    "df_ohe = catVectorizer_model.transform(df)"
   ]
  },
  {
   "cell_type": "code",
   "execution_count": null,
   "metadata": {},
   "outputs": [],
   "source": [
    "StringIndexer(inputCols=[\"gender\"], outputCols=[\"gender_numeric\"])"
   ]
  },
  {
   "cell_type": "markdown",
   "metadata": {},
   "source": [
    "### Cardinality of categorical variables"
   ]
  },
  {
   "cell_type": "code",
   "execution_count": null,
   "metadata": {},
   "outputs": [],
   "source": [
    "# number of unique categorical values\n",
    "from pyspark.sql.functions import col\n",
    "for col in train_sample.columns[14:]:\n",
    "    print('Column ' + col + ' has ' + str(train_sample.select(col).distinct().count()) \\\n",
    "          + ' unique categorical values')"
   ]
  },
  {
   "cell_type": "markdown",
   "metadata": {},
   "source": [
    "### Bar plots of selected variables"
   ]
  },
  {
   "cell_type": "code",
   "execution_count": null,
   "metadata": {},
   "outputs": [],
   "source": [
    "# histogram of target variable\n",
    "hist_c1 = train_sample.select('_1').rdd.flatMap(lambda x: x).histogram(2)\n",
    "pd.DataFrame(list(zip(*hist_c1))).set_index(0).plot(kind='bar');"
   ]
  },
  {
   "cell_type": "code",
   "execution_count": null,
   "metadata": {},
   "outputs": [],
   "source": [
    "# histogram of column 20\n",
    "hist_c20 = train_sample.groupBy('_20').count().collect()\n",
    "pd.DataFrame(list(zip(*hist_c20))).T.set_index(0).plot(kind='bar')"
   ]
  },
  {
   "cell_type": "code",
   "execution_count": null,
   "metadata": {},
   "outputs": [],
   "source": [
    "# histogram of column 23\n",
    "hist_c23 = train_sample.groupBy('_23').count().collect()\n",
    "pd.DataFrame(list(zip(*hist_c23))).T.set_index(0).plot(kind='bar')"
   ]
  },
  {
   "cell_type": "code",
   "execution_count": null,
   "metadata": {},
   "outputs": [],
   "source": [
    "# histogram of column 28\n",
    "hist_c28 = train_sample.groupBy('_28').count().collect()\n",
    "pd.DataFrame(list(zip(*hist_c28))).T.set_index(0).plot(kind='bar')"
   ]
  },
  {
   "cell_type": "code",
   "execution_count": null,
   "metadata": {},
   "outputs": [],
   "source": [
    "# histogram of column 31\n",
    "hist_c31 = train_sample.groupBy('_31').count().collect()\n",
    "pd.DataFrame(list(zip(*hist_c31))).T.set_index(0).plot(kind='bar')"
   ]
  },
  {
   "cell_type": "code",
   "execution_count": null,
   "metadata": {},
   "outputs": [],
   "source": [
    "# histogram of column 34\n",
    "hist_c34 = train_sample.groupBy('_34').count().collect()\n",
    "pd.DataFrame(list(zip(*hist_c34))).T.set_index(0).plot(kind='bar')"
   ]
  },
  {
   "cell_type": "code",
   "execution_count": null,
   "metadata": {},
   "outputs": [],
   "source": [
    "# histogram of column 36\n",
    "hist_c36 = train_sample.groupBy('_36').count().collect()\n",
    "pd.DataFrame(list(zip(*hist_c36))).T.set_index(0).plot(kind='bar')"
   ]
  },
  {
   "cell_type": "markdown",
   "metadata": {},
   "source": [
    "### Estimates of ctr based on category"
   ]
  },
  {
   "cell_type": "code",
   "execution_count": null,
   "metadata": {},
   "outputs": [],
   "source": [
    "# for column 20\n",
    "list_labls_vals = list(zip(*train_sample.groupBy('_20').sum('_1').collect()))\n",
    "labls = list_labls_vals[0]\n",
    "vals = np.array(list_labls_vals[1])/np.array(list(zip(*train_sample.groupBy('_20').count().collect()))[1])\n",
    "\n",
    "ax = pd.DataFrame(vals).plot(kind='bar')\n",
    "ax.set_xticklabels(labls)"
   ]
  },
  {
   "cell_type": "code",
   "execution_count": null,
   "metadata": {},
   "outputs": [],
   "source": [
    "# for column 23\n",
    "list_labls_vals = list(zip(*train_sample.groupBy('_23').sum('_1').collect()))\n",
    "labls = list_labls_vals[0]\n",
    "vals = np.array(list_labls_vals[1])/np.array(list(zip(*train_sample.groupBy('_23').count().collect()))[1])\n",
    "\n",
    "ax = pd.DataFrame(vals).plot(kind='bar')\n",
    "ax.set_xticklabels(labls)"
   ]
  },
  {
   "cell_type": "code",
   "execution_count": null,
   "metadata": {},
   "outputs": [],
   "source": [
    "# for column 28\n",
    "list_labls_vals = list(zip(*train_sample.groupBy('_28').sum('_1').collect()))\n",
    "labls = list_labls_vals[0]\n",
    "vals = np.array(list_labls_vals[1])/np.array(list(zip(*train_sample.groupBy('_28').count().collect()))[1])\n",
    "\n",
    "ax = pd.DataFrame(vals).plot(kind='bar')\n",
    "ax.set_xticklabels(labls)"
   ]
  },
  {
   "cell_type": "code",
   "execution_count": null,
   "metadata": {},
   "outputs": [],
   "source": [
    "# for column 31\n",
    "list_labls_vals = list(zip(*train_sample.groupBy('_31').sum('_1').collect()))\n",
    "labls = list_labls_vals[0]\n",
    "vals = np.array(list_labls_vals[1])/np.array(list(zip(*train_sample.groupBy('_31').count().collect()))[1])\n",
    "\n",
    "ax = pd.DataFrame(vals).plot(kind='bar')\n",
    "ax.set_xticklabels(labls)"
   ]
  },
  {
   "cell_type": "code",
   "execution_count": null,
   "metadata": {},
   "outputs": [],
   "source": [
    "# for column 34\n",
    "list_labls_vals = list(zip(*train_sample.groupBy('_34').sum('_1').collect()))\n",
    "labls = list_labls_vals[0]\n",
    "vals = np.array(list_labls_vals[1])/np.array(list(zip(*train_sample.groupBy('_34').count().collect()))[1])\n",
    "\n",
    "ax = pd.DataFrame(vals).plot(kind='bar')\n",
    "ax.set_xticklabels(labls)"
   ]
  },
  {
   "cell_type": "code",
   "execution_count": null,
   "metadata": {},
   "outputs": [],
   "source": [
    "# for column 36\n",
    "list_labls_vals = list(zip(*train_sample.groupBy('_36').sum('_1').collect()))\n",
    "labls = list_labls_vals[0]\n",
    "vals = np.array(list_labls_vals[1])/np.array(list(zip(*train_sample.groupBy('_36').count().collect()))[1])\n",
    "\n",
    "ax = pd.DataFrame(vals).plot(kind='bar')\n",
    "ax.set_xticklabels(labls)"
   ]
  },
  {
   "cell_type": "code",
   "execution_count": null,
   "metadata": {},
   "outputs": [],
   "source": []
  }
 ],
 "metadata": {
  "kernelspec": {
   "display_name": "Python 3",
   "language": "python",
   "name": "python3"
  },
  "language_info": {
   "codemirror_mode": {
    "name": "ipython",
    "version": 3
   },
   "file_extension": ".py",
   "mimetype": "text/x-python",
   "name": "python",
   "nbconvert_exporter": "python",
   "pygments_lexer": "ipython3",
   "version": "3.6.6"
  }
 },
 "nbformat": 4,
 "nbformat_minor": 2
}
