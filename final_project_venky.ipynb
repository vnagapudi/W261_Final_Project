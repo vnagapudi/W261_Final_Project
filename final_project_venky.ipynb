{
 "cells": [
  {
   "cell_type": "markdown",
   "metadata": {},
   "source": [
    "# w261 Final Project - Clickthrough Rate Prediction\n"
   ]
  },
  {
   "cell_type": "markdown",
   "metadata": {},
   "source": [
    "[Your team number (from the spreadsheet)]   \n",
    "[Your team names]   \n",
    "Summer 2019, section [Your section numbers>]   "
   ]
  },
  {
   "cell_type": "markdown",
   "metadata": {},
   "source": [
    "## Table of Contents\n",
    "\n",
    "* __Section 1__ - Question Formulation\n",
    "* __Section 2__ - Algorithm Explanation\n",
    "* __Section 3__ - EDA & Challenges\n",
    "* __Section 4__ - Algorithm Implementation\n",
    "* __Section 5__ - Course Concepts"
   ]
  },
  {
   "cell_type": "markdown",
   "metadata": {},
   "source": [
    "# __Section 1__ - Question Formulation"
   ]
  },
  {
   "cell_type": "markdown",
   "metadata": {},
   "source": []
  },
  {
   "cell_type": "markdown",
   "metadata": {},
   "source": []
  },
  {
   "cell_type": "markdown",
   "metadata": {},
   "source": [
    "# __Section 2__ - Algorithm Explanation"
   ]
  },
  {
   "cell_type": "markdown",
   "metadata": {},
   "source": []
  },
  {
   "cell_type": "markdown",
   "metadata": {},
   "source": []
  },
  {
   "cell_type": "markdown",
   "metadata": {},
   "source": [
    "# __Section 3__ - EDA & Challenges"
   ]
  },
  {
   "cell_type": "markdown",
   "metadata": {},
   "source": []
  },
  {
   "cell_type": "markdown",
   "metadata": {},
   "source": []
  },
  {
   "cell_type": "markdown",
   "metadata": {},
   "source": [
    "# __Section 4__ - Algorithm Implementation"
   ]
  },
  {
   "cell_type": "markdown",
   "metadata": {},
   "source": []
  },
  {
   "cell_type": "markdown",
   "metadata": {},
   "source": []
  },
  {
   "cell_type": "markdown",
   "metadata": {},
   "source": [
    "# __Section 5__ - Course Concepts"
   ]
  },
  {
   "cell_type": "markdown",
   "metadata": {},
   "source": []
  },
  {
   "cell_type": "markdown",
   "metadata": {},
   "source": []
  },
  {
   "cell_type": "code",
   "execution_count": 1,
   "metadata": {},
   "outputs": [],
   "source": [
    "#Initial EDA with 100K lines\n",
    "# imports\n",
    "import re\n",
    "import ast\n",
    "import time\n",
    "import numpy as np\n",
    "import pandas as pd\n",
    "import seaborn as sns\n",
    "import networkx as nx\n",
    "import matplotlib.pyplot as plt "
   ]
  },
  {
   "cell_type": "code",
   "execution_count": 2,
   "metadata": {},
   "outputs": [],
   "source": [
    "%reload_ext autoreload\n",
    "%autoreload 2"
   ]
  },
  {
   "cell_type": "code",
   "execution_count": 3,
   "metadata": {},
   "outputs": [],
   "source": [
    "# store path to notebook\n",
    "PWD = !pwd\n",
    "PWD = PWD[0]"
   ]
  },
  {
   "cell_type": "code",
   "execution_count": 4,
   "metadata": {},
   "outputs": [],
   "source": [
    "# start Spark Session\n",
    "from pyspark.sql import SparkSession\n",
    "app_name = \"project\"\n",
    "master = \"local[*]\"\n",
    "spark = SparkSession\\\n",
    "        .builder\\\n",
    "        .appName(app_name)\\\n",
    "        .master(master)\\\n",
    "        .getOrCreate()\n",
    "sc = spark.sparkContext\n",
    "from pyspark.sql import SQLContext\n",
    "from pyspark.sql.functions import col\n",
    "sqlContext = SQLContext(sc)"
   ]
  },
  {
   "cell_type": "code",
   "execution_count": 5,
   "metadata": {},
   "outputs": [],
   "source": [
    "#df = spark.read.option(\"header\", \"false\").csv(\"data/train_small.txt\")\n",
    "df = sqlContext.read.format(\"csv\") \\\n",
    "               .option(\"inferSchema\", \"true\") \\\n",
    "               .option(\"header\", \"false\") \\\n",
    "               .option(\"delimiter\", \"\\t\")\\\n",
    "               .load(\"data/train_small.txt\")"
   ]
  },
  {
   "cell_type": "code",
   "execution_count": 6,
   "metadata": {},
   "outputs": [
    {
     "name": "stdout",
     "output_type": "stream",
     "text": [
      "+---+-------+-------+-------+-------+-------+-------+-------+-------+-------+--------+--------+--------+--------+\n",
      "|CTR|NumVar1|NumVar2|NumVar3|NumVar4|NumVar5|NumVar6|NumVar7|NumVar8|NumVar9|NumVar10|NumVar11|NumVar12|NumVar13|\n",
      "+---+-------+-------+-------+-------+-------+-------+-------+-------+-------+--------+--------+--------+--------+\n",
      "|  0|      1|      1|      5|      0|   1382|      4|     15|      2|    181|       1|       2|    null|       2|\n",
      "|  0|      2|      0|     44|      1|    102|      8|      2|      2|      4|       1|       1|    null|       4|\n",
      "|  0|      2|      0|      1|     14|    767|     89|      4|      2|    245|       1|       3|       3|      45|\n",
      "|  0|   null|    893|   null|   null|   4392|   null|      0|      0|      0|    null|       0|    null|    null|\n",
      "|  0|      3|     -1|   null|      0|      2|      0|      3|      0|      0|       1|       1|    null|       0|\n",
      "|  0|   null|     -1|   null|   null|  12824|   null|      0|      0|      6|    null|       0|    null|    null|\n",
      "|  0|   null|      1|      2|   null|   3168|   null|      0|      1|      2|    null|       0|    null|    null|\n",
      "|  1|      1|      4|      2|      0|      0|      0|      1|      0|      0|       1|       1|    null|       0|\n",
      "|  0|   null|     44|      4|      8|  19010|    249|     28|     31|    141|    null|       1|    null|       8|\n",
      "|  0|   null|     35|   null|      1|  33737|     21|      1|      2|      3|    null|       1|    null|       1|\n",
      "|  0|   null|      2|    632|      0|  56770|   null|      0|      5|     65|    null|       0|    null|       2|\n",
      "|  0|      0|      6|      6|      6|    421|    109|      1|      7|    107|       0|       1|    null|       6|\n",
      "|  1|      0|     -1|   null|   null|   1465|      0|     17|      0|      4|       0|       4|    null|    null|\n",
      "|  1|   null|      2|     11|      5|  10262|     34|      2|      4|      5|    null|       1|    null|       5|\n",
      "|  0|      0|     51|     84|      4|   3633|     26|      1|      4|      8|       0|       1|    null|       4|\n",
      "|  0|   null|      2|      1|     18|  20255|   null|      0|      1|   1306|    null|       0|    null|      20|\n",
      "|  1|      1|    987|   null|      2|    105|      2|      1|      2|      2|       1|       1|    null|       2|\n",
      "|  0|      0|      1|   null|      0|  16597|    557|      3|      5|    123|       0|       1|    null|       1|\n",
      "|  0|      0|     24|      4|      2|   2056|     12|      6|     10|     83|       0|       1|    null|       2|\n",
      "|  0|      7|    102|   null|      3|    780|     15|      7|     15|     15|       1|       1|    null|       3|\n",
      "+---+-------+-------+-------+-------+-------+-------+-------+-------+-------+--------+--------+--------+--------+\n",
      "only showing top 20 rows\n",
      "\n"
     ]
    }
   ],
   "source": [
    "#df = df.select(col(\"_c0\").alias(\"CTR\"))\n",
    "df = df.withColumnRenamed(\"_c0\", \"CTR\") \\\n",
    "       .withColumnRenamed(\"_c1\", \"NumVar1\") \\\n",
    "       .withColumnRenamed(\"_c2\", \"NumVar2\") \\\n",
    "       .withColumnRenamed(\"_c3\", \"NumVar3\") \\\n",
    "       .withColumnRenamed(\"_c4\", \"NumVar4\") \\\n",
    "       .withColumnRenamed(\"_c5\", \"NumVar5\") \\\n",
    "       .withColumnRenamed(\"_c6\", \"NumVar6\") \\\n",
    "       .withColumnRenamed(\"_c7\", \"NumVar7\") \\\n",
    "       .withColumnRenamed(\"_c8\", \"NumVar8\") \\\n",
    "       .withColumnRenamed(\"_c9\", \"NumVar9\") \\\n",
    "       .withColumnRenamed(\"_c10\", \"NumVar10\") \\\n",
    "       .withColumnRenamed(\"_c11\", \"NumVar11\") \\\n",
    "       .withColumnRenamed(\"_c12\", \"NumVar12\") \\\n",
    "       .withColumnRenamed(\"_c13\", \"NumVar13\") \n",
    "\n",
    "df.select(\"CTR\", \"NumVar1\", \"NumVar2\", \"NumVar3\", \"NumVar4\", \"NumVar5\", \"NumVar6\", \"NumVar7\", \"NumVar8\", \"NumVar9\", \"NumVar10\", \"NumVar11\", \"NumVar12\", \"NumVar13\").show()\n",
    "#df.select(\"_c14\", \"_c15\", \"_c16\", \"_c17\", \"_c18\", \"_c19\").show()\n",
    "#data.select(col(\"Name\").alias(\"name\"), col(\"askdaosdka\").alias(\"age\"))"
   ]
  },
  {
   "cell_type": "code",
   "execution_count": 7,
   "metadata": {},
   "outputs": [
    {
     "name": "stdout",
     "output_type": "stream",
     "text": [
      "+--------+--------+--------+--------+--------+--------+--------+--------+\n",
      "|    _c14|    _c15|    _c16|    _c17|    _c18|    _c19|    _c20|    _c21|\n",
      "+--------+--------+--------+--------+--------+--------+--------+--------+\n",
      "|68fd1e64|80e26c9b|fb936136|7b4723c4|25c83c98|7e0ccccf|de7995b8|1f89b562|\n",
      "|68fd1e64|f0cf0024|6f67f7e5|41274cd7|25c83c98|fe6b92e5|922afcc0|0b153874|\n",
      "|287e684f|0a519c5c|02cf9876|c18be181|25c83c98|7e0ccccf|c78204a1|0b153874|\n",
      "|68fd1e64|2c16a946|a9a87e68|2e17d6f6|25c83c98|fe6b92e5|2e8a689b|0b153874|\n",
      "|8cf07265|ae46a29d|c81688bb|f922efad|25c83c98|13718bbd|ad9fa255|0b153874|\n",
      "|05db9164|6c9c9cf3|2730ec9c|5400db8b|43b19349|6f6d9be8|53b5f978|0b153874|\n",
      "|439a44a4|ad4527a2|c02372d0|d34ebbaa|43b19349|fe6b92e5|4bc6ffea|0b153874|\n",
      "|68fd1e64|2c16a946|503b9dbc|e4dbea90|f3474129|13718bbd|38eb9cf4|1f89b562|\n",
      "|05db9164|d833535f|d032c263|c18be181|25c83c98|7e0ccccf|d5b6acf2|0b153874|\n",
      "|05db9164|510b40a5|d03e7c24|eb1fd928|25c83c98|    null|52283d1c|0b153874|\n",
      "|05db9164|0468d672|7ae80d0f|80d8555a|25c83c98|7e0ccccf|04277bf9|0b153874|\n",
      "|05db9164|9b5fd12f|    null|    null|4cf72387|    null|111121f4|0b153874|\n",
      "|241546e0|38a947a1|fa673455|6a14f9b9|25c83c98|fe6b92e5|1c86e0eb|1f89b562|\n",
      "|be589b51|287130e0|cd7a7a22|fb7334df|25c83c98|    null|6cdb3998|361384ce|\n",
      "|5a9ed9b0|80e26c9b|97144401|5dbf0cc5|0942e0a7|13718bbd|9ce6136d|0b153874|\n",
      "|05db9164|bc6e3dc1|67799c69|d00d0f35|4cf72387|7e0ccccf|ca4fd8f8|64523cfa|\n",
      "|68fd1e64|38d50e09|da603082|431a5096|43b19349|7e0ccccf|3f35b640|0b153874|\n",
      "|8cf07265|7cd19acc|77f2f2e5|d16679b9|4cf72387|fbad5c96|8fb24933|0b153874|\n",
      "|05db9164|f0cf0024|08b45d8b|cbb5af1b|384874ce|fbad5c96|81bb0302|37e4aa92|\n",
      "|3c9d8785|b0660259|3a960356|15c92ddb|4cf72387|13718bbd|00c46cd1|0b153874|\n",
      "+--------+--------+--------+--------+--------+--------+--------+--------+\n",
      "only showing top 20 rows\n",
      "\n"
     ]
    }
   ],
   "source": [
    "df.select(\"_c14\", \"_c15\", \"_c16\", \"_c17\", \"_c18\", \"_c19\", \"_c20\", \"_c21\").show()"
   ]
  },
  {
   "cell_type": "code",
   "execution_count": 8,
   "metadata": {},
   "outputs": [
    {
     "name": "stdout",
     "output_type": "stream",
     "text": [
      "0\t1\t1\t5\t0\t1382\t4\t15\t2\t181\t1\t2\t\t2\t68fd1e64\t80e26c9b\tfb936136\t7b4723c4\t25c83c98\t7e0ccccf\tde7995b8\t1f89b562\ta73ee510\ta8cd5504\tb2cb9c98\t37c9c164\t2824a5f6\t1adce6ef\t8ba8b39a\t891b62e7\te5ba7672\tf54016b9\t21ddcdc9\tb1252a9d\t07b5194c\t\t3a171ecb\tc5c50484\te8b83407\t9727dd16\n",
      "0\t2\t0\t44\t1\t102\t8\t2\t2\t4\t1\t1\t\t4\t68fd1e64\tf0cf0024\t6f67f7e5\t41274cd7\t25c83c98\tfe6b92e5\t922afcc0\t0b153874\ta73ee510\t2b53e5fb\t4f1b46f3\t623049e6\td7020589\tb28479f6\te6c5b5cd\tc92f3b61\t07c540c4\tb04e4670\t21ddcdc9\t5840adea\t60f6221e\t\t3a171ecb\t43f13e8b\te8b83407\t731c3655\n",
      "0\t2\t0\t1\t14\t767\t89\t4\t2\t245\t1\t3\t3\t45\t287e684f\t0a519c5c\t02cf9876\tc18be181\t25c83c98\t7e0ccccf\tc78204a1\t0b153874\ta73ee510\t3b08e48b\t5f5e6091\t8fe001f4\taa655a2f\t07d13a8f\t6dc710ed\t36103458\t8efede7f\t3412118d\t\t\te587c466\tad3062eb\t3a171ecb\t3b183c5c\t\t\n",
      "0\t\t893\t\t\t4392\t\t0\t0\t0\t\t0\t\t\t68fd1e64\t2c16a946\ta9a87e68\t2e17d6f6\t25c83c98\tfe6b92e5\t2e8a689b\t0b153874\ta73ee510\tefea433b\te51ddf94\ta30567ca\t3516f6e6\t07d13a8f\t18231224\t52b8680f\t1e88c74f\t74ef3502\t\t\t6b3a5ca6\t\t3a171ecb\t9117a34a\t\t\n",
      "0\t3\t-1\t\t0\t2\t0\t3\t0\t0\t1\t1\t\t0\t8cf07265\tae46a29d\tc81688bb\tf922efad\t25c83c98\t13718bbd\tad9fa255\t0b153874\ta73ee510\t5282c137\te5d8af57\t66a76a26\tf06c53ac\t1adce6ef\t8ff4b403\t01adbab4\t1e88c74f\t26b3c7a7\t\t\t21c9516a\t\t32c7478e\tb34f3128\t\t\n",
      "0\t\t-1\t\t\t12824\t\t0\t0\t6\t\t0\t\t\t05db9164\t6c9c9cf3\t2730ec9c\t5400db8b\t43b19349\t6f6d9be8\t53b5f978\t0b153874\ta73ee510\t3b08e48b\t91e8fc27\tbe45b877\t9ff13f22\t07d13a8f\t06969a20\t9bc7fff5\t776ce399\t92555263\t\t\t242bb710\t8ec974f4\tbe7c41b4\t72c78f11\t\t\n",
      "0\t\t1\t2\t\t3168\t\t0\t1\t2\t\t0\t\t\t439a44a4\tad4527a2\tc02372d0\td34ebbaa\t43b19349\tfe6b92e5\t4bc6ffea\t0b153874\ta73ee510\t3b08e48b\ta4609aab\t14d63538\t772a00d7\t07d13a8f\tf9d1382e\tb00d3dc9\t776ce399\tcdfa8259\t\t\t20062612\t\t93bad2c0\t1b256e61\t\t\n",
      "1\t1\t4\t2\t0\t0\t0\t1\t0\t0\t1\t1\t\t0\t68fd1e64\t2c16a946\t503b9dbc\te4dbea90\tf3474129\t13718bbd\t38eb9cf4\t1f89b562\ta73ee510\t547c0ffe\tbc8c9f21\t60ab2f07\t46f42a63\t07d13a8f\t18231224\te6b6bdc7\te5ba7672\t74ef3502\t\t\t5316a17f\t\t32c7478e\t9117a34a\t\t\n",
      "0\t\t44\t4\t8\t19010\t249\t28\t31\t141\t\t1\t\t8\t05db9164\td833535f\td032c263\tc18be181\t25c83c98\t7e0ccccf\td5b6acf2\t0b153874\ta73ee510\t2acdcf4e\t086ac2d2\tdfbb09fb\t41a6ae00\tb28479f6\te2502ec9\t84898b2a\te5ba7672\t42a2edb9\t\t\t0014c32a\t\t32c7478e\t3b183c5c\t\t\n",
      "0\t\t35\t\t1\t33737\t21\t1\t2\t3\t\t1\t\t1\t05db9164\t510b40a5\td03e7c24\teb1fd928\t25c83c98\t\t52283d1c\t0b153874\ta73ee510\t015ac893\te51ddf94\t951fe4a9\t3516f6e6\t07d13a8f\t2ae4121c\t8ec71479\td4bb7bd8\t70d0f5f9\t\t\t0e63fca0\t\t32c7478e\t0e8fe315\t\t\n"
     ]
    }
   ],
   "source": [
    "!head -10 data/train_small.txt"
   ]
  },
  {
   "cell_type": "markdown",
   "metadata": {},
   "source": [
    "## EDA related challenges"
   ]
  },
  {
   "cell_type": "code",
   "execution_count": 45,
   "metadata": {},
   "outputs": [
    {
     "data": {
      "text/plain": [
       "22663"
      ]
     },
     "execution_count": 45,
     "metadata": {},
     "output_type": "execute_result"
    }
   ],
   "source": [
    "#CTR is not distributed uniformly between 0 and 1\n",
    "df.filter(col(\"CTR\") == 1).count()"
   ]
  },
  {
   "cell_type": "code",
   "execution_count": 40,
   "metadata": {},
   "outputs": [
    {
     "data": {
      "text/plain": [
       "77337"
      ]
     },
     "execution_count": 40,
     "metadata": {},
     "output_type": "execute_result"
    }
   ],
   "source": [
    "df.filter(col(\"CTR\") == 0).count()"
   ]
  },
  {
   "cell_type": "markdown",
   "metadata": {},
   "source": [
    "## Logistic Regression Thoughts\n",
    "Looking at paper in https://www.dropbox.com/s/s4x7wp8gjsh021d/TISTRespPredAds-Chappelle-CTR-Prediction-2014Paper.pdf?dl+=0\n",
    "\n",
    "It looks like what we can do is this:\n",
    "\n",
    "Step 1.1: Find a hashed feature vector for all the categorical variables \n",
    "\n",
    "> Question: What about numerical variables?\n",
    "\n",
    "> Question: Do you hash each column separately?\n",
    "\n",
    "Step 1.2: Create one-hot vectors for these categorical variables (does this make sense?)\n",
    "\n",
    "Step 2.0: Take care of numerical variables so that they are also mapped into ranges?\n",
    "\n",
    "Step 3.0: Run baseline logistic regression without any quadratic terms\n",
    "\n",
    "Step 4.0: Run logistic regression including quadratic terms"
   ]
  },
  {
   "cell_type": "code",
   "execution_count": 60,
   "metadata": {},
   "outputs": [
    {
     "name": "stdout",
     "output_type": "stream",
     "text": [
      "+--------------------------------------------------------+\n",
      "|features                                                |\n",
      "+--------------------------------------------------------+\n",
      "|(262144,[174475,247670,257907,262126],[2.2,1.0,1.0,1.0])|\n",
      "|(262144,[70644,89673,173866,174475],[1.0,1.0,1.0,3.3])  |\n",
      "|(262144,[22406,70644,174475,187923],[1.0,1.0,4.4,1.0])  |\n",
      "|(262144,[70644,101499,174475,257907],[1.0,1.0,5.5,1.0]) |\n",
      "+--------------------------------------------------------+\n",
      "\n"
     ]
    }
   ],
   "source": [
    "#Feature hashing example\n",
    "from pyspark.ml.feature import FeatureHasher\n",
    "\n",
    "dataset = spark.createDataFrame([\n",
    "    (2.2, True, \"1\", \"foo\"),\n",
    "    (3.3, False, \"2\", \"bar\"),\n",
    "    (4.4, False, \"3\", \"baz\"),\n",
    "    (5.5, False, \"4\", \"foo\")\n",
    "], [\"real\", \"bool\", \"stringNum\", \"string\"])\n",
    "\n",
    "hasher = FeatureHasher(inputCols=[\"real\", \"bool\", \"stringNum\", \"string\"],\n",
    "                       outputCol=\"features\")\n",
    "\n",
    "featurized = hasher.transform(dataset)\n",
    "featurized.select(\"features\").show(truncate=False)"
   ]
  },
  {
   "cell_type": "code",
   "execution_count": 63,
   "metadata": {},
   "outputs": [],
   "source": [
    "#Let me try this on some column of the dataset\n",
    "dataset = df.select(\"_c14\", \"_c15\", \"_c16\")"
   ]
  },
  {
   "cell_type": "code",
   "execution_count": 140,
   "metadata": {},
   "outputs": [
    {
     "name": "stdout",
     "output_type": "stream",
     "text": [
      "root\n",
      " |-- _c14: string (nullable = true)\n",
      " |-- _c15: string (nullable = true)\n",
      " |-- _c16: string (nullable = true)\n",
      " |-- c15_out: vector (nullable = true)\n",
      "\n",
      "+-------------+\n",
      "|      c15_out|\n",
      "+-------------+\n",
      "|(8,[0],[1.0])|\n",
      "|(8,[2],[1.0])|\n",
      "|(8,[5],[1.0])|\n",
      "|(8,[7],[1.0])|\n",
      "|(8,[5],[1.0])|\n",
      "|(8,[3],[1.0])|\n",
      "|(8,[6],[1.0])|\n",
      "|(8,[7],[1.0])|\n",
      "|(8,[3],[1.0])|\n",
      "|(8,[3],[1.0])|\n",
      "|(8,[5],[1.0])|\n",
      "|(8,[0],[1.0])|\n",
      "|(8,[1],[1.0])|\n",
      "|(8,[5],[1.0])|\n",
      "|(8,[0],[1.0])|\n",
      "|(8,[0],[1.0])|\n",
      "|(8,[3],[1.0])|\n",
      "|(8,[3],[1.0])|\n",
      "|(8,[2],[1.0])|\n",
      "|(8,[5],[1.0])|\n",
      "+-------------+\n",
      "only showing top 20 rows\n",
      "\n"
     ]
    }
   ],
   "source": [
    "hasher = FeatureHasher(numFeatures=8,inputCols=[\"_c15\"],outputCol=\"c15_out\")\n",
    "featurized = hasher.transform(dataset)\n",
    "featurized.printSchema()\n",
    "featurized.select(featurized.c15_out).show()"
   ]
  },
  {
   "cell_type": "code",
   "execution_count": 93,
   "metadata": {},
   "outputs": [
    {
     "name": "stdout",
     "output_type": "stream",
     "text": [
      "Collecting murmurhash3\n",
      "  Downloading https://files.pythonhosted.org/packages/b5/f4/1f9c4851667a2541bd151b8d9efef707495816274fada365fa6a31085a32/murmurhash3-2.3.5.tar.gz\n",
      "Building wheels for collected packages: murmurhash3\n",
      "  Running setup.py bdist_wheel for murmurhash3 ... \u001b[?25ldone\n",
      "\u001b[?25h  Stored in directory: /root/.cache/pip/wheels/06/eb/e4/f57324cd9c1bf001c9ba6d6926ad5231eca80964ed80b3610e\n",
      "Successfully built murmurhash3\n",
      "\u001b[31mtwisted 18.7.0 requires PyHamcrest>=1.9.0, which is not installed.\u001b[0m\n",
      "Installing collected packages: murmurhash3\n",
      "Successfully installed murmurhash3-2.3.5\n",
      "\u001b[33mYou are using pip version 10.0.1, however version 19.2.1 is available.\n",
      "You should consider upgrading via the 'pip install --upgrade pip' command.\u001b[0m\n"
     ]
    }
   ],
   "source": [
    "!pip install murmurhash3"
   ]
  },
  {
   "cell_type": "code",
   "execution_count": 94,
   "metadata": {},
   "outputs": [],
   "source": [
    "import mmh3"
   ]
  },
  {
   "cell_type": "code",
   "execution_count": 95,
   "metadata": {},
   "outputs": [
    {
     "data": {
      "text/plain": [
       "-156908512"
      ]
     },
     "execution_count": 95,
     "metadata": {},
     "output_type": "execute_result"
    }
   ],
   "source": [
    "mmh3.hash('foo')"
   ]
  },
  {
   "cell_type": "code",
   "execution_count": 103,
   "metadata": {},
   "outputs": [
    {
     "data": {
      "text/plain": [
       "14"
      ]
     },
     "execution_count": 103,
     "metadata": {},
     "output_type": "execute_result"
    }
   ],
   "source": [
    "mmh3.hash('foo', 42) % 16"
   ]
  },
  {
   "cell_type": "code",
   "execution_count": 106,
   "metadata": {},
   "outputs": [
    {
     "data": {
      "text/plain": [
       "-156908512"
      ]
     },
     "execution_count": 106,
     "metadata": {},
     "output_type": "execute_result"
    }
   ],
   "source": [
    "mmh3.hash('foo')"
   ]
  },
  {
   "cell_type": "code",
   "execution_count": null,
   "metadata": {},
   "outputs": [],
   "source": []
  },
  {
   "cell_type": "code",
   "execution_count": null,
   "metadata": {},
   "outputs": [],
   "source": []
  }
 ],
 "metadata": {
  "kernelspec": {
   "display_name": "Python 3",
   "language": "python",
   "name": "python3"
  },
  "language_info": {
   "codemirror_mode": {
    "name": "ipython",
    "version": 3
   },
   "file_extension": ".py",
   "mimetype": "text/x-python",
   "name": "python",
   "nbconvert_exporter": "python",
   "pygments_lexer": "ipython3",
   "version": "3.6.6"
  }
 },
 "nbformat": 4,
 "nbformat_minor": 2
}
